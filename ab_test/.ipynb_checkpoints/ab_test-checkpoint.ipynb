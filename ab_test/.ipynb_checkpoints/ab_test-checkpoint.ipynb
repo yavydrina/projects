{
 "cells": [
  {
   "cell_type": "markdown",
   "id": "48f6e30e",
   "metadata": {
    "toc": true
   },
   "source": [
    "<h1>Table of Contents<span class=\"tocSkip\"></span></h1>\n",
    "<div class=\"toc\"><ul class=\"toc-item\"><li><span><a href=\"#Загрузка-и-предподоготовка-данных\" data-toc-modified-id=\"Загрузка-и-предподоготовка-данных-1\"><span class=\"toc-item-num\">1&nbsp;&nbsp;</span>Загрузка и предподоготовка данных</a></span><ul class=\"toc-item\"><li><span><a href=\"#Загрузка-файлов\" data-toc-modified-id=\"Загрузка-файлов-1.1\"><span class=\"toc-item-num\">1.1&nbsp;&nbsp;</span>Загрузка файлов</a></span></li></ul></li><li><span><a href=\"#Приоритизация-гипотез\" data-toc-modified-id=\"Приоритизация-гипотез-2\"><span class=\"toc-item-num\">2&nbsp;&nbsp;</span>Приоритизация гипотез</a></span></li><li><span><a href=\"#Анализ-A/B-теста\" data-toc-modified-id=\"Анализ-A/B-теста-3\"><span class=\"toc-item-num\">3&nbsp;&nbsp;</span>Анализ A/B-теста</a></span><ul class=\"toc-item\"><li><span><a href=\"#Кумулятивная-выручка-по-группам\" data-toc-modified-id=\"Кумулятивная-выручка-по-группам-3.1\"><span class=\"toc-item-num\">3.1&nbsp;&nbsp;</span>Кумулятивная выручка по группам</a></span></li><li><span><a href=\"#Кумулятивный-средний-чек-по-группам\" data-toc-modified-id=\"Кумулятивный-средний-чек-по-группам-3.2\"><span class=\"toc-item-num\">3.2&nbsp;&nbsp;</span>Кумулятивный средний чек по группам</a></span></li><li><span><a href=\"#Относительное-изменение-кумулятивного-среднего-чека-группы-B-к-группе-A\" data-toc-modified-id=\"Относительное-изменение-кумулятивного-среднего-чека-группы-B-к-группе-A-3.3\"><span class=\"toc-item-num\">3.3&nbsp;&nbsp;</span>Относительное изменение кумулятивного среднего чека группы B к группе A</a></span></li><li><span><a href=\"#Кумулятивное-среднее-количества-заказов-на-посетителя-по-группам\" data-toc-modified-id=\"Кумулятивное-среднее-количества-заказов-на-посетителя-по-группам-3.4\"><span class=\"toc-item-num\">3.4&nbsp;&nbsp;</span>Кумулятивное среднее количества заказов на посетителя по группам</a></span></li><li><span><a href=\"#Относительное-изменение-кумулятивного-среднего-количества-заказов-на-посетителя-группы-B-к-группе-A\" data-toc-modified-id=\"Относительное-изменение-кумулятивного-среднего-количества-заказов-на-посетителя-группы-B-к-группе-A-3.5\"><span class=\"toc-item-num\">3.5&nbsp;&nbsp;</span>Относительное изменение кумулятивного среднего количества заказов на посетителя группы B к группе A</a></span></li><li><span><a href=\"#Количество-заказов-по-пользователям\" data-toc-modified-id=\"Количество-заказов-по-пользователям-3.6\"><span class=\"toc-item-num\">3.6&nbsp;&nbsp;</span>Количество заказов по пользователям</a></span></li><li><span><a href=\"#Распределение-стоимости-заказов\" data-toc-modified-id=\"Распределение-стоимости-заказов-3.7\"><span class=\"toc-item-num\">3.7&nbsp;&nbsp;</span>Распределение стоимости заказов</a></span></li><li><span><a href=\"#Статистическая-значимость-различий-в-среднем-количестве-заказов-на-посетителя-между-группами-по-«сырым»-данным\" data-toc-modified-id=\"Статистическая-значимость-различий-в-среднем-количестве-заказов-на-посетителя-между-группами-по-«сырым»-данным-3.8\"><span class=\"toc-item-num\">3.8&nbsp;&nbsp;</span>Статистическая значимость различий в среднем количестве заказов на посетителя между группами по «сырым» данным</a></span></li><li><span><a href=\"#Статистическая-значимость-различий-в-среднем-чеке-заказа-между-группами-по-«сырым»-данным\" data-toc-modified-id=\"Статистическая-значимость-различий-в-среднем-чеке-заказа-между-группами-по-«сырым»-данным-3.9\"><span class=\"toc-item-num\">3.9&nbsp;&nbsp;</span>Статистическая значимость различий в среднем чеке заказа между группами по «сырым» данным</a></span></li><li><span><a href=\"#Статистическая-значимость-различий-в-среднем-количестве-заказов-на-посетителя-между-группами-по-«очищенным»-данным\" data-toc-modified-id=\"Статистическая-значимость-различий-в-среднем-количестве-заказов-на-посетителя-между-группами-по-«очищенным»-данным-3.10\"><span class=\"toc-item-num\">3.10&nbsp;&nbsp;</span>Статистическая значимость различий в среднем количестве заказов на посетителя между группами по «очищенным» данным</a></span></li><li><span><a href=\"#Статистическая-значимость-различий-в-среднем-чеке-заказа-между-группами-по-«очищенным»-данным\" data-toc-modified-id=\"Статистическая-значимость-различий-в-среднем-чеке-заказа-между-группами-по-«очищенным»-данным-3.11\"><span class=\"toc-item-num\">3.11&nbsp;&nbsp;</span>Статистическая значимость различий в среднем чеке заказа между группами по «очищенным» данным</a></span></li><li><span><a href=\"#Принятие-решений-по-результатам-теста\" data-toc-modified-id=\"Принятие-решений-по-результатам-теста-3.12\"><span class=\"toc-item-num\">3.12&nbsp;&nbsp;</span>Принятие решений по результатам теста</a></span></li></ul></li></ul></div>"
   ]
  },
  {
   "cell_type": "markdown",
   "id": "793b1be6",
   "metadata": {},
   "source": [
    "# Принятие решений в бизнесе на основе данных. Приоритизация гипотез. Анализ A/B-теста\n",
    "\n",
    "**Цель проекта:**\n",
    " - Приоритизировать список гипотез для увеличения выручки компании.\n",
    " - Провести A/B-тест\n",
    " \n",
    "Для достижения цели необходимо решить следующие **задачи**:\n",
    "- Загрузить предоставленные файлы и провести предобработку данных.\n",
    "- Приоритизация гипотез:\n",
    "    - Применить фреймворк ICE. \n",
    "    - Примените фреймворк RICE. \n",
    "    - Сравнить изменения.\n",
    "- Анализ A/B-теста:\n",
    "    - Построить график кумулятивной выручки по группам.\n",
    "    - Построить график кумулятивного среднего чека по группам.\n",
    "    - Построить график относительного изменения кумулятивного среднего чека группы B к группе A. \n",
    "    - Построить график кумулятивного среднего количества заказов на посетителя по группам.\n",
    "    - Построить график относительного изменения кумулятивного среднего количества заказов на посетителя группы B к группе A. \n",
    "    - Построить точечный график количества заказов по пользователям.\n",
    "    - Посчитать 95-й и 99-й перцентили количества заказов на пользователя.\n",
    "    - Построить точечный график стоимостей заказов.\n",
    "    - Посчитать 95-й и 99-й перцентили стоимости заказов.\n",
    "    - Посчитать статистическую значимость различий в среднем количестве заказов на посетителя между группами по «сырым» данным. \n",
    "    - Посчитать статистическую значимость различий в среднем чеке заказа между группами по «сырым» данным. \n",
    "    - Посчитать статистическую значимость различий в среднем количестве заказов на посетителя между группами по «очищенным» данным. \n",
    "    - Посчитать статистическую значимость различий в среднем чеке заказа между группами по «очищенным» данным.\n",
    "    - Принять решение по результатам теста."
   ]
  },
  {
   "cell_type": "markdown",
   "id": "0fc967b0",
   "metadata": {},
   "source": [
    "## Загрузка и предподоготовка данных"
   ]
  },
  {
   "cell_type": "code",
   "execution_count": 1,
   "id": "ba4ec8a3",
   "metadata": {},
   "outputs": [],
   "source": [
    "import pandas as pd\n",
    "import numpy as np\n",
    "from datetime import datetime, timedelta\n",
    "from matplotlib import pyplot as plt\n",
    "import matplotlib\n",
    "import scipy.stats as stats"
   ]
  },
  {
   "cell_type": "markdown",
   "id": "89f36dd8",
   "metadata": {},
   "source": [
    "### Загрузка файлов"
   ]
  },
  {
   "cell_type": "code",
   "execution_count": 2,
   "id": "0c41b2f3",
   "metadata": {},
   "outputs": [],
   "source": [
    "try:\n",
    "    hypothesis, orders, visitors = (\n",
    "        pd.read_csv('hypothesis.csv'),\n",
    "        pd.read_csv('orders.csv'),\n",
    "        pd.read_csv('visitors.csv')\n",
    "    ) \n",
    "except:\n",
    "    hypothesis, orders, visitors = (\n",
    "        pd.read_csv('/datasets/hypothesis.csv'),\n",
    "        pd.read_csv('/datasets/orders.csv'),\n",
    "        pd.read_csv('/datasets/visitors.csv')\n",
    "    ) "
   ]
  },
  {
   "cell_type": "code",
   "execution_count": 3,
   "id": "322530e8",
   "metadata": {},
   "outputs": [
    {
     "name": "stdout",
     "output_type": "stream",
     "text": [
      "<class 'pandas.core.frame.DataFrame'>\n",
      "RangeIndex: 9 entries, 0 to 8\n",
      "Data columns (total 5 columns):\n",
      " #   Column      Non-Null Count  Dtype \n",
      "---  ------      --------------  ----- \n",
      " 0   Hypothesis  9 non-null      object\n",
      " 1   Reach       9 non-null      int64 \n",
      " 2   Impact      9 non-null      int64 \n",
      " 3   Confidence  9 non-null      int64 \n",
      " 4   Efforts     9 non-null      int64 \n",
      "dtypes: int64(4), object(1)\n",
      "memory usage: 488.0+ bytes\n",
      "<class 'pandas.core.frame.DataFrame'>\n",
      "RangeIndex: 1197 entries, 0 to 1196\n",
      "Data columns (total 5 columns):\n",
      " #   Column         Non-Null Count  Dtype \n",
      "---  ------         --------------  ----- \n",
      " 0   transactionId  1197 non-null   int64 \n",
      " 1   visitorId      1197 non-null   int64 \n",
      " 2   date           1197 non-null   object\n",
      " 3   revenue        1197 non-null   int64 \n",
      " 4   group          1197 non-null   object\n",
      "dtypes: int64(3), object(2)\n",
      "memory usage: 46.9+ KB\n",
      "<class 'pandas.core.frame.DataFrame'>\n",
      "RangeIndex: 62 entries, 0 to 61\n",
      "Data columns (total 3 columns):\n",
      " #   Column    Non-Null Count  Dtype \n",
      "---  ------    --------------  ----- \n",
      " 0   date      62 non-null     object\n",
      " 1   group     62 non-null     object\n",
      " 2   visitors  62 non-null     int64 \n",
      "dtypes: int64(1), object(2)\n",
      "memory usage: 1.6+ KB\n"
     ]
    },
    {
     "data": {
      "text/plain": [
       "(None, None, None)"
      ]
     },
     "execution_count": 3,
     "metadata": {},
     "output_type": "execute_result"
    }
   ],
   "source": [
    "hypothesis.info(), orders.info(), visitors.info()"
   ]
  },
  {
   "cell_type": "code",
   "execution_count": 4,
   "id": "2cb18b51",
   "metadata": {},
   "outputs": [],
   "source": [
    "pd.set_option('max_colwidth', 120)\n",
    "pd.set_option('display.width', 500)"
   ]
  },
  {
   "cell_type": "code",
   "execution_count": 5,
   "id": "890cf8b1",
   "metadata": {},
   "outputs": [
    {
     "data": {
      "text/plain": [
       "(                                                                                                     Hypothesis  Reach  Impact  Confidence  Efforts\n",
       " 0            Добавить два новых канала привлечения трафика, что позволит привлекать на 30% больше пользователей      3      10           8        6\n",
       " 1                                     Запустить собственную службу доставки, что сократит срок доставки заказов      2       5           4       10\n",
       " 2  Добавить блоки рекомендаций товаров на сайт интернет магазина, чтобы повысить конверсию и средний чек заказа      8       3           7        3\n",
       " 3           Изменить структура категорий, что увеличит конверсию, т.к. пользователи быстрее найдут нужный товар      8       3           3        8\n",
       " 4                              Изменить цвет фона главной страницы, чтобы увеличить вовлеченность пользователей      3       1           1        1,\n",
       "    transactionId   visitorId        date  revenue group\n",
       " 0     3667963787  3312258926  2019-08-15     1650     B\n",
       " 1     2804400009  3642806036  2019-08-15      730     B\n",
       " 2     2961555356  4069496402  2019-08-15      400     A\n",
       " 3     3797467345  1196621759  2019-08-15     9759     B\n",
       " 4     2282983706  2322279887  2019-08-15     2308     B,\n",
       "          date group  visitors\n",
       " 0  2019-08-01     A       719\n",
       " 1  2019-08-02     A       619\n",
       " 2  2019-08-03     A       507\n",
       " 3  2019-08-04     A       717\n",
       " 4  2019-08-05     A       756)"
      ]
     },
     "execution_count": 5,
     "metadata": {},
     "output_type": "execute_result"
    }
   ],
   "source": [
    "hypothesis.head(5), orders.head(5), visitors.head(5)\n"
   ]
  },
  {
   "cell_type": "markdown",
   "id": "7a3a7729",
   "metadata": {},
   "source": [
    "Предоставлены данные в трех таблицах, на первый взгляд эти данные хорошего качества: даты в формате `date`, целочисленные данные в формате `int64`. Приведем только названия столбцов к нижнему, змеиному регистру и проверим на явные дубликаты."
   ]
  },
  {
   "cell_type": "code",
   "execution_count": 6,
   "id": "5370c081",
   "metadata": {},
   "outputs": [
    {
     "name": "stdout",
     "output_type": "stream",
     "text": [
      "<class 'pandas.core.frame.DataFrame'>\n",
      "RangeIndex: 9 entries, 0 to 8\n",
      "Data columns (total 5 columns):\n",
      " #   Column      Non-Null Count  Dtype \n",
      "---  ------      --------------  ----- \n",
      " 0   hypothesis  9 non-null      object\n",
      " 1   reach       9 non-null      int64 \n",
      " 2   impact      9 non-null      int64 \n",
      " 3   confidence  9 non-null      int64 \n",
      " 4   efforts     9 non-null      int64 \n",
      "dtypes: int64(4), object(1)\n",
      "memory usage: 488.0+ bytes\n"
     ]
    }
   ],
   "source": [
    "hypothesis.columns = hypothesis.columns.str.lower()\n",
    "hypothesis.info()"
   ]
  },
  {
   "cell_type": "code",
   "execution_count": 7,
   "id": "b55ae2d5",
   "metadata": {},
   "outputs": [
    {
     "name": "stdout",
     "output_type": "stream",
     "text": [
      "<class 'pandas.core.frame.DataFrame'>\n",
      "RangeIndex: 1197 entries, 0 to 1196\n",
      "Data columns (total 5 columns):\n",
      " #   Column          Non-Null Count  Dtype \n",
      "---  ------          --------------  ----- \n",
      " 0   transaction_id  1197 non-null   int64 \n",
      " 1   visitor_id      1197 non-null   int64 \n",
      " 2   date            1197 non-null   object\n",
      " 3   revenue         1197 non-null   int64 \n",
      " 4   group           1197 non-null   object\n",
      "dtypes: int64(3), object(2)\n",
      "memory usage: 46.9+ KB\n"
     ]
    }
   ],
   "source": [
    "orders.columns = ['transaction_id', 'visitor_id', 'date', 'revenue', 'group']\n",
    "orders.info()"
   ]
  },
  {
   "cell_type": "code",
   "execution_count": 8,
   "id": "4e43dbc7",
   "metadata": {},
   "outputs": [
    {
     "data": {
      "text/plain": [
       "(0, 0, 0)"
      ]
     },
     "execution_count": 8,
     "metadata": {},
     "output_type": "execute_result"
    }
   ],
   "source": [
    "hypothesis.duplicated().sum(), orders.duplicated().sum(), visitors.duplicated().sum()"
   ]
  },
  {
   "cell_type": "markdown",
   "id": "e2f36779",
   "metadata": {},
   "source": [
    "**Вывод по итогам предобработки данных:** Данные предоставлены в трех датафреймах. Пропущенных данных и дубликатов не обнаружено. Были приведены названия столбцов к нижнему змеиному регистру."
   ]
  },
  {
   "cell_type": "markdown",
   "id": "6d243d2f",
   "metadata": {},
   "source": [
    "## Приоритизация гипотез"
   ]
  },
  {
   "cell_type": "markdown",
   "id": "c80ac47c",
   "metadata": {},
   "source": [
    "**Задача**\n",
    "   - Применить фреймворк ICE для приоритизации гипотез.\n",
    "   - Применить фреймворк RICE для приоритизации гипотез.\n",
    "   - Сравнить результаты при применении RICE вместо ICE. "
   ]
  },
  {
   "cell_type": "code",
   "execution_count": 9,
   "id": "c7734619",
   "metadata": {},
   "outputs": [
    {
     "data": {
      "text/html": [
       "<div>\n",
       "<style scoped>\n",
       "    .dataframe tbody tr th:only-of-type {\n",
       "        vertical-align: middle;\n",
       "    }\n",
       "\n",
       "    .dataframe tbody tr th {\n",
       "        vertical-align: top;\n",
       "    }\n",
       "\n",
       "    .dataframe thead th {\n",
       "        text-align: right;\n",
       "    }\n",
       "</style>\n",
       "<table border=\"1\" class=\"dataframe\">\n",
       "  <thead>\n",
       "    <tr style=\"text-align: right;\">\n",
       "      <th></th>\n",
       "      <th>hypothesis</th>\n",
       "      <th>reach</th>\n",
       "      <th>impact</th>\n",
       "      <th>confidence</th>\n",
       "      <th>efforts</th>\n",
       "      <th>ICE</th>\n",
       "    </tr>\n",
       "  </thead>\n",
       "  <tbody>\n",
       "    <tr>\n",
       "      <th>8</th>\n",
       "      <td>Запустить акцию, дающую скидку на товар в день рождения</td>\n",
       "      <td>1</td>\n",
       "      <td>9</td>\n",
       "      <td>9</td>\n",
       "      <td>5</td>\n",
       "      <td>16.0</td>\n",
       "    </tr>\n",
       "    <tr>\n",
       "      <th>0</th>\n",
       "      <td>Добавить два новых канала привлечения трафика, что позволит привлекать на 30% больше пользователей</td>\n",
       "      <td>3</td>\n",
       "      <td>10</td>\n",
       "      <td>8</td>\n",
       "      <td>6</td>\n",
       "      <td>13.0</td>\n",
       "    </tr>\n",
       "    <tr>\n",
       "      <th>7</th>\n",
       "      <td>Добавить форму подписки на все основные страницы, чтобы собрать базу клиентов для email-рассылок</td>\n",
       "      <td>10</td>\n",
       "      <td>7</td>\n",
       "      <td>8</td>\n",
       "      <td>5</td>\n",
       "      <td>11.0</td>\n",
       "    </tr>\n",
       "    <tr>\n",
       "      <th>6</th>\n",
       "      <td>Показать на главной странице баннеры с актуальными акциями и распродажами, чтобы увеличить конверсию</td>\n",
       "      <td>5</td>\n",
       "      <td>3</td>\n",
       "      <td>8</td>\n",
       "      <td>3</td>\n",
       "      <td>8.0</td>\n",
       "    </tr>\n",
       "    <tr>\n",
       "      <th>2</th>\n",
       "      <td>Добавить блоки рекомендаций товаров на сайт интернет магазина, чтобы повысить конверсию и средний чек заказа</td>\n",
       "      <td>8</td>\n",
       "      <td>3</td>\n",
       "      <td>7</td>\n",
       "      <td>3</td>\n",
       "      <td>7.0</td>\n",
       "    </tr>\n",
       "    <tr>\n",
       "      <th>1</th>\n",
       "      <td>Запустить собственную службу доставки, что сократит срок доставки заказов</td>\n",
       "      <td>2</td>\n",
       "      <td>5</td>\n",
       "      <td>4</td>\n",
       "      <td>10</td>\n",
       "      <td>2.0</td>\n",
       "    </tr>\n",
       "    <tr>\n",
       "      <th>3</th>\n",
       "      <td>Изменить структура категорий, что увеличит конверсию, т.к. пользователи быстрее найдут нужный товар</td>\n",
       "      <td>8</td>\n",
       "      <td>3</td>\n",
       "      <td>3</td>\n",
       "      <td>8</td>\n",
       "      <td>1.0</td>\n",
       "    </tr>\n",
       "    <tr>\n",
       "      <th>4</th>\n",
       "      <td>Изменить цвет фона главной страницы, чтобы увеличить вовлеченность пользователей</td>\n",
       "      <td>3</td>\n",
       "      <td>1</td>\n",
       "      <td>1</td>\n",
       "      <td>1</td>\n",
       "      <td>1.0</td>\n",
       "    </tr>\n",
       "    <tr>\n",
       "      <th>5</th>\n",
       "      <td>Добавить страницу отзывов клиентов о магазине, что позволит увеличить количество заказов</td>\n",
       "      <td>3</td>\n",
       "      <td>2</td>\n",
       "      <td>2</td>\n",
       "      <td>3</td>\n",
       "      <td>1.0</td>\n",
       "    </tr>\n",
       "  </tbody>\n",
       "</table>\n",
       "</div>"
      ],
      "text/plain": [
       "                                                                                                     hypothesis  reach  impact  confidence  efforts   ICE\n",
       "8                                                       Запустить акцию, дающую скидку на товар в день рождения      1       9           9        5  16.0\n",
       "0            Добавить два новых канала привлечения трафика, что позволит привлекать на 30% больше пользователей      3      10           8        6  13.0\n",
       "7              Добавить форму подписки на все основные страницы, чтобы собрать базу клиентов для email-рассылок     10       7           8        5  11.0\n",
       "6          Показать на главной странице баннеры с актуальными акциями и распродажами, чтобы увеличить конверсию      5       3           8        3   8.0\n",
       "2  Добавить блоки рекомендаций товаров на сайт интернет магазина, чтобы повысить конверсию и средний чек заказа      8       3           7        3   7.0\n",
       "1                                     Запустить собственную службу доставки, что сократит срок доставки заказов      2       5           4       10   2.0\n",
       "3           Изменить структура категорий, что увеличит конверсию, т.к. пользователи быстрее найдут нужный товар      8       3           3        8   1.0\n",
       "4                              Изменить цвет фона главной страницы, чтобы увеличить вовлеченность пользователей      3       1           1        1   1.0\n",
       "5                      Добавить страницу отзывов клиентов о магазине, что позволит увеличить количество заказов      3       2           2        3   1.0"
      ]
     },
     "execution_count": 9,
     "metadata": {},
     "output_type": "execute_result"
    }
   ],
   "source": [
    "hypothesis['ICE'] = round(hypothesis['impact'] * hypothesis['confidence'] / hypothesis['efforts'])\n",
    "hypothesis.sort_values(by='ICE', ascending=False)"
   ]
  },
  {
   "cell_type": "markdown",
   "id": "02cb26b6",
   "metadata": {},
   "source": [
    "**По фреймворку ICE наиболее приоритетные гипотезы:**\n",
    "- Запустить акцию, дающую скидку на товар в день рождения;\n",
    "- Добавить два новых канала привлечения трафика, что позволит привлекать на 30% больше пользователей;\n",
    "- Добавить форму подписки на все основные страницы, чтобы собрать базу клиентов для email-рассылок."
   ]
  },
  {
   "cell_type": "code",
   "execution_count": 10,
   "id": "a113e010",
   "metadata": {},
   "outputs": [
    {
     "data": {
      "text/html": [
       "<div>\n",
       "<style scoped>\n",
       "    .dataframe tbody tr th:only-of-type {\n",
       "        vertical-align: middle;\n",
       "    }\n",
       "\n",
       "    .dataframe tbody tr th {\n",
       "        vertical-align: top;\n",
       "    }\n",
       "\n",
       "    .dataframe thead th {\n",
       "        text-align: right;\n",
       "    }\n",
       "</style>\n",
       "<table border=\"1\" class=\"dataframe\">\n",
       "  <thead>\n",
       "    <tr style=\"text-align: right;\">\n",
       "      <th></th>\n",
       "      <th>hypothesis</th>\n",
       "      <th>reach</th>\n",
       "      <th>impact</th>\n",
       "      <th>confidence</th>\n",
       "      <th>efforts</th>\n",
       "      <th>ICE</th>\n",
       "      <th>RICE</th>\n",
       "    </tr>\n",
       "  </thead>\n",
       "  <tbody>\n",
       "    <tr>\n",
       "      <th>7</th>\n",
       "      <td>Добавить форму подписки на все основные страницы, чтобы собрать базу клиентов для email-рассылок</td>\n",
       "      <td>10</td>\n",
       "      <td>7</td>\n",
       "      <td>8</td>\n",
       "      <td>5</td>\n",
       "      <td>11.0</td>\n",
       "      <td>112.0</td>\n",
       "    </tr>\n",
       "    <tr>\n",
       "      <th>2</th>\n",
       "      <td>Добавить блоки рекомендаций товаров на сайт интернет магазина, чтобы повысить конверсию и средний чек заказа</td>\n",
       "      <td>8</td>\n",
       "      <td>3</td>\n",
       "      <td>7</td>\n",
       "      <td>3</td>\n",
       "      <td>7.0</td>\n",
       "      <td>56.0</td>\n",
       "    </tr>\n",
       "    <tr>\n",
       "      <th>0</th>\n",
       "      <td>Добавить два новых канала привлечения трафика, что позволит привлекать на 30% больше пользователей</td>\n",
       "      <td>3</td>\n",
       "      <td>10</td>\n",
       "      <td>8</td>\n",
       "      <td>6</td>\n",
       "      <td>13.0</td>\n",
       "      <td>40.0</td>\n",
       "    </tr>\n",
       "    <tr>\n",
       "      <th>6</th>\n",
       "      <td>Показать на главной странице баннеры с актуальными акциями и распродажами, чтобы увеличить конверсию</td>\n",
       "      <td>5</td>\n",
       "      <td>3</td>\n",
       "      <td>8</td>\n",
       "      <td>3</td>\n",
       "      <td>8.0</td>\n",
       "      <td>40.0</td>\n",
       "    </tr>\n",
       "    <tr>\n",
       "      <th>8</th>\n",
       "      <td>Запустить акцию, дающую скидку на товар в день рождения</td>\n",
       "      <td>1</td>\n",
       "      <td>9</td>\n",
       "      <td>9</td>\n",
       "      <td>5</td>\n",
       "      <td>16.0</td>\n",
       "      <td>16.0</td>\n",
       "    </tr>\n",
       "    <tr>\n",
       "      <th>3</th>\n",
       "      <td>Изменить структура категорий, что увеличит конверсию, т.к. пользователи быстрее найдут нужный товар</td>\n",
       "      <td>8</td>\n",
       "      <td>3</td>\n",
       "      <td>3</td>\n",
       "      <td>8</td>\n",
       "      <td>1.0</td>\n",
       "      <td>9.0</td>\n",
       "    </tr>\n",
       "    <tr>\n",
       "      <th>1</th>\n",
       "      <td>Запустить собственную службу доставки, что сократит срок доставки заказов</td>\n",
       "      <td>2</td>\n",
       "      <td>5</td>\n",
       "      <td>4</td>\n",
       "      <td>10</td>\n",
       "      <td>2.0</td>\n",
       "      <td>4.0</td>\n",
       "    </tr>\n",
       "    <tr>\n",
       "      <th>5</th>\n",
       "      <td>Добавить страницу отзывов клиентов о магазине, что позволит увеличить количество заказов</td>\n",
       "      <td>3</td>\n",
       "      <td>2</td>\n",
       "      <td>2</td>\n",
       "      <td>3</td>\n",
       "      <td>1.0</td>\n",
       "      <td>4.0</td>\n",
       "    </tr>\n",
       "    <tr>\n",
       "      <th>4</th>\n",
       "      <td>Изменить цвет фона главной страницы, чтобы увеличить вовлеченность пользователей</td>\n",
       "      <td>3</td>\n",
       "      <td>1</td>\n",
       "      <td>1</td>\n",
       "      <td>1</td>\n",
       "      <td>1.0</td>\n",
       "      <td>3.0</td>\n",
       "    </tr>\n",
       "  </tbody>\n",
       "</table>\n",
       "</div>"
      ],
      "text/plain": [
       "                                                                                                     hypothesis  reach  impact  confidence  efforts   ICE   RICE\n",
       "7              Добавить форму подписки на все основные страницы, чтобы собрать базу клиентов для email-рассылок     10       7           8        5  11.0  112.0\n",
       "2  Добавить блоки рекомендаций товаров на сайт интернет магазина, чтобы повысить конверсию и средний чек заказа      8       3           7        3   7.0   56.0\n",
       "0            Добавить два новых канала привлечения трафика, что позволит привлекать на 30% больше пользователей      3      10           8        6  13.0   40.0\n",
       "6          Показать на главной странице баннеры с актуальными акциями и распродажами, чтобы увеличить конверсию      5       3           8        3   8.0   40.0\n",
       "8                                                       Запустить акцию, дающую скидку на товар в день рождения      1       9           9        5  16.0   16.0\n",
       "3           Изменить структура категорий, что увеличит конверсию, т.к. пользователи быстрее найдут нужный товар      8       3           3        8   1.0    9.0\n",
       "1                                     Запустить собственную службу доставки, что сократит срок доставки заказов      2       5           4       10   2.0    4.0\n",
       "5                      Добавить страницу отзывов клиентов о магазине, что позволит увеличить количество заказов      3       2           2        3   1.0    4.0\n",
       "4                              Изменить цвет фона главной страницы, чтобы увеличить вовлеченность пользователей      3       1           1        1   1.0    3.0"
      ]
     },
     "execution_count": 10,
     "metadata": {},
     "output_type": "execute_result"
    }
   ],
   "source": [
    "hypothesis['RICE'] = round(hypothesis['reach'] * hypothesis['impact'] * hypothesis['confidence'] / hypothesis['efforts'])\n",
    "hypothesis.sort_values(by='RICE', ascending=False)"
   ]
  },
  {
   "cell_type": "markdown",
   "id": "7e26702f",
   "metadata": {},
   "source": [
    "**По фреймворку RICE наиболее приоритетные гипотезы:**\n",
    "- Добавить форму подписки на все основные страницы, чтобы собрать базу клиентов для email-рассылок;\n",
    "- Добавить блоки рекомендаций товаров на сайт интернет магазина, чтобы повысить конверсию и средний чек заказа;\n",
    "- Добавить два новых канала привлечения трафика, что позволит привлекать на 30% больше пользователей;\n",
    "- Показать на главной странице баннеры с актуальными акциями и распродажами, чтобы увеличить конверсию."
   ]
  },
  {
   "cell_type": "markdown",
   "id": "2619d912",
   "metadata": {},
   "source": [
    "При применении RICE вместо ICE существенно изменилась приоретизация гипотез из-за показателя `reach`, который показывает охват пользователей, которых затронет новое изменение. На первое место по RICE вышла гипотеза, у которой охват наибольший."
   ]
  },
  {
   "cell_type": "markdown",
   "id": "1e32c132",
   "metadata": {},
   "source": [
    "## Анализ A/B-теста"
   ]
  },
  {
   "cell_type": "markdown",
   "id": "1590d895",
   "metadata": {},
   "source": [
    "### Кумулятивная выручка по группам"
   ]
  },
  {
   "cell_type": "code",
   "execution_count": 11,
   "id": "8dee1a44",
   "metadata": {},
   "outputs": [],
   "source": [
    "# создаем массив уникальных пар значений дат и групп теста\n",
    "# избавимся от дубликатов методом drop_duplicates()\n",
    "dates_groups = orders[['date','group']].drop_duplicates() "
   ]
  },
  {
   "cell_type": "code",
   "execution_count": 12,
   "id": "0ec69f5a",
   "metadata": {},
   "outputs": [
    {
     "data": {
      "text/html": [
       "<div>\n",
       "<style scoped>\n",
       "    .dataframe tbody tr th:only-of-type {\n",
       "        vertical-align: middle;\n",
       "    }\n",
       "\n",
       "    .dataframe tbody tr th {\n",
       "        vertical-align: top;\n",
       "    }\n",
       "\n",
       "    .dataframe thead th {\n",
       "        text-align: right;\n",
       "    }\n",
       "</style>\n",
       "<table border=\"1\" class=\"dataframe\">\n",
       "  <thead>\n",
       "    <tr style=\"text-align: right;\">\n",
       "      <th></th>\n",
       "      <th>date</th>\n",
       "      <th>group</th>\n",
       "      <th>transaction_id</th>\n",
       "      <th>visitor_id</th>\n",
       "      <th>revenue</th>\n",
       "    </tr>\n",
       "  </thead>\n",
       "  <tbody>\n",
       "    <tr>\n",
       "      <th>55</th>\n",
       "      <td>2019-08-01</td>\n",
       "      <td>A</td>\n",
       "      <td>24</td>\n",
       "      <td>20</td>\n",
       "      <td>148579</td>\n",
       "    </tr>\n",
       "    <tr>\n",
       "      <th>66</th>\n",
       "      <td>2019-08-01</td>\n",
       "      <td>B</td>\n",
       "      <td>21</td>\n",
       "      <td>20</td>\n",
       "      <td>101217</td>\n",
       "    </tr>\n",
       "    <tr>\n",
       "      <th>175</th>\n",
       "      <td>2019-08-02</td>\n",
       "      <td>A</td>\n",
       "      <td>44</td>\n",
       "      <td>38</td>\n",
       "      <td>242401</td>\n",
       "    </tr>\n",
       "    <tr>\n",
       "      <th>173</th>\n",
       "      <td>2019-08-02</td>\n",
       "      <td>B</td>\n",
       "      <td>45</td>\n",
       "      <td>43</td>\n",
       "      <td>266748</td>\n",
       "    </tr>\n",
       "    <tr>\n",
       "      <th>291</th>\n",
       "      <td>2019-08-03</td>\n",
       "      <td>A</td>\n",
       "      <td>68</td>\n",
       "      <td>62</td>\n",
       "      <td>354874</td>\n",
       "    </tr>\n",
       "  </tbody>\n",
       "</table>\n",
       "</div>"
      ],
      "text/plain": [
       "           date group  transaction_id  visitor_id  revenue\n",
       "55   2019-08-01     A              24          20   148579\n",
       "66   2019-08-01     B              21          20   101217\n",
       "175  2019-08-02     A              44          38   242401\n",
       "173  2019-08-02     B              45          43   266748\n",
       "291  2019-08-03     A              68          62   354874"
      ]
     },
     "execution_count": 12,
     "metadata": {},
     "output_type": "execute_result"
    }
   ],
   "source": [
    "# получаем агрегированные кумулятивные по дням данные о заказах \n",
    "orders_aggregated = (\n",
    "    dates_groups\n",
    "    .apply(lambda x: orders[np.logical_and(orders['date'] <= x['date'], orders['group'] == x['group'])]\n",
    "    .agg(\n",
    "        {'date' : 'max', \n",
    "         'group' : 'max', \n",
    "         'transaction_id' : 'nunique', \n",
    "         'visitor_id' : 'nunique', \n",
    "         'revenue' : 'sum'}\n",
    "    ), axis=1)\n",
    "    .sort_values(by=['date','group'])\n",
    ")\n",
    "orders_aggregated.head()"
   ]
  },
  {
   "cell_type": "code",
   "execution_count": 13,
   "id": "3c33bc7e",
   "metadata": {},
   "outputs": [
    {
     "data": {
      "text/html": [
       "<div>\n",
       "<style scoped>\n",
       "    .dataframe tbody tr th:only-of-type {\n",
       "        vertical-align: middle;\n",
       "    }\n",
       "\n",
       "    .dataframe tbody tr th {\n",
       "        vertical-align: top;\n",
       "    }\n",
       "\n",
       "    .dataframe thead th {\n",
       "        text-align: right;\n",
       "    }\n",
       "</style>\n",
       "<table border=\"1\" class=\"dataframe\">\n",
       "  <thead>\n",
       "    <tr style=\"text-align: right;\">\n",
       "      <th></th>\n",
       "      <th>date</th>\n",
       "      <th>group</th>\n",
       "      <th>visitors</th>\n",
       "    </tr>\n",
       "  </thead>\n",
       "  <tbody>\n",
       "    <tr>\n",
       "      <th>55</th>\n",
       "      <td>2019-08-01</td>\n",
       "      <td>A</td>\n",
       "      <td>719</td>\n",
       "    </tr>\n",
       "    <tr>\n",
       "      <th>66</th>\n",
       "      <td>2019-08-01</td>\n",
       "      <td>B</td>\n",
       "      <td>713</td>\n",
       "    </tr>\n",
       "    <tr>\n",
       "      <th>175</th>\n",
       "      <td>2019-08-02</td>\n",
       "      <td>A</td>\n",
       "      <td>1338</td>\n",
       "    </tr>\n",
       "    <tr>\n",
       "      <th>173</th>\n",
       "      <td>2019-08-02</td>\n",
       "      <td>B</td>\n",
       "      <td>1294</td>\n",
       "    </tr>\n",
       "    <tr>\n",
       "      <th>291</th>\n",
       "      <td>2019-08-03</td>\n",
       "      <td>A</td>\n",
       "      <td>1845</td>\n",
       "    </tr>\n",
       "  </tbody>\n",
       "</table>\n",
       "</div>"
      ],
      "text/plain": [
       "           date group  visitors\n",
       "55   2019-08-01     A       719\n",
       "66   2019-08-01     B       713\n",
       "175  2019-08-02     A      1338\n",
       "173  2019-08-02     B      1294\n",
       "291  2019-08-03     A      1845"
      ]
     },
     "execution_count": 13,
     "metadata": {},
     "output_type": "execute_result"
    }
   ],
   "source": [
    "# получаем агрегированные кумулятивные по дням данные о посетителях интернет-магазина \n",
    "visitors_aggregated = (\n",
    "    dates_groups\n",
    "    .apply(lambda x: visitors[np.logical_and(visitors['date'] <= x['date'], visitors['group'] == x['group'])]\n",
    "    .agg(\n",
    "        {'date' : 'max', \n",
    "         'group' : 'max', \n",
    "         'visitors' : 'sum'}\n",
    "    ), axis=1)\n",
    "    .sort_values(by=['date','group'])\n",
    ")\n",
    "visitors_aggregated.head()"
   ]
  },
  {
   "cell_type": "code",
   "execution_count": 14,
   "id": "4810a0a2",
   "metadata": {},
   "outputs": [
    {
     "name": "stdout",
     "output_type": "stream",
     "text": [
      "         date group  orders  buyers  revenue  visitors\n",
      "0  2019-08-01     A      24      20   148579       719\n",
      "1  2019-08-01     B      21      20   101217       713\n",
      "2  2019-08-02     A      44      38   242401      1338\n",
      "3  2019-08-02     B      45      43   266748      1294\n",
      "4  2019-08-03     A      68      62   354874      1845\n"
     ]
    }
   ],
   "source": [
    "# объединяем кумулятивные данные в одной таблице и присваиваем ее столбцам понятные названия\n",
    "cumulative_data = orders_aggregated.merge(visitors_aggregated, left_on=['date', 'group'], right_on=['date', 'group'])\n",
    "cumulative_data.columns = ['date', 'group', 'orders', 'buyers', 'revenue', 'visitors']\n",
    "\n",
    "print(cumulative_data.head(5))"
   ]
  },
  {
   "cell_type": "code",
   "execution_count": 15,
   "id": "1d9bfcb2",
   "metadata": {},
   "outputs": [],
   "source": [
    "# улучшение качества графиков\n",
    "%config InlineBackend.figure_format = 'retina'"
   ]
  },
  {
   "cell_type": "code",
   "execution_count": 16,
   "id": "f70ec037",
   "metadata": {},
   "outputs": [],
   "source": [
    "matplotlib.style.use('ggplot') "
   ]
  },
  {
   "cell_type": "code",
   "execution_count": 17,
   "id": "281e8014",
   "metadata": {},
   "outputs": [
    {
     "data": {
      "image/png": "[encoded data removed]",
      "text/plain": [
       "<Figure size 720x288 with 1 Axes>"
      ]
     },
     "metadata": {
      "image/png": {
       "height": 319,
       "width": 601
      }
     },
     "output_type": "display_data"
    }
   ],
   "source": [
    "# датафрейм с кумулятивным количеством заказов и кумулятивной выручкой по дням в группе А\n",
    "cumulative_revenueA = cumulative_data[cumulative_data['group']=='A'][['date','revenue', 'orders']]\n",
    "\n",
    "# датафрейм с кумулятивным количеством заказов и кумулятивной выручкой по дням в группе B\n",
    "cumulative_revenueB = cumulative_data[cumulative_data['group']=='B'][['date','revenue', 'orders']]\n",
    "\n",
    "# Строим график выручки группы А\n",
    "plt.figure(figsize=(10,4))\n",
    "plt.plot(cumulative_revenueA['date'], cumulative_revenueA['revenue'], label='A')\n",
    "\n",
    "# Строим график выручки группы B\n",
    "plt.plot(cumulative_revenueB['date'], cumulative_revenueB['revenue'], label='B')\n",
    "plt.xticks(rotation=45)\n",
    "plt.title('График кумулятивной выручки по группам')\n",
    "plt.xlabel('Дата')\n",
    "plt.ylabel('Выручка')\n",
    "plt.grid(True)\n",
    "plt.legend() \n",
    "plt.show()"
   ]
  },
  {
   "cell_type": "markdown",
   "id": "b3abfecb",
   "metadata": {},
   "source": [
    "**В обоиз тестах выручка стабильно увеличивается, на протяжении всего времени выручка в группе В больше, при этом в этой группе имеется резкое увеличение выручки, что может говорить о выбросах (резкий всплеск заказов или появление более дорогих заказов), в то же время выручка в группе А растет равномерно без явных всплесков.**"
   ]
  },
  {
   "cell_type": "markdown",
   "id": "c04b970e",
   "metadata": {},
   "source": [
    "### Кумулятивный средний чек по группам\n",
    "\n",
    "Построим графики среднего чека по группам — разделим кумулятивную выручку на кумулятивное число заказов"
   ]
  },
  {
   "cell_type": "code",
   "execution_count": 18,
   "id": "6fc8fc03",
   "metadata": {},
   "outputs": [
    {
     "data": {
      "text/plain": [
       "<matplotlib.legend.Legend at 0x7fec36a28130>"
      ]
     },
     "execution_count": 18,
     "metadata": {},
     "output_type": "execute_result"
    },
    {
     "data": {
      "image/png": "[encoded data removed]",
      "text/plain": [
       "<Figure size 720x288 with 1 Axes>"
      ]
     },
     "metadata": {
      "image/png": {
       "height": 319,
       "width": 627
      }
     },
     "output_type": "display_data"
    }
   ],
   "source": [
    "plt.figure(figsize=(10,4))\n",
    "plt.plot(cumulative_revenueA['date'], cumulative_revenueA['revenue']/cumulative_revenueA['orders'], label='A')\n",
    "plt.plot(cumulative_revenueB['date'], cumulative_revenueB['revenue']/cumulative_revenueB['orders'], label='B')\n",
    "plt.xticks(rotation=45)\n",
    "plt.title('График кумулятивного среднего чека по группам')\n",
    "plt.xlabel('Дата')\n",
    "plt.ylabel('Выручка')\n",
    "plt.grid(True)\n",
    "plt.legend() "
   ]
  },
  {
   "cell_type": "markdown",
   "id": "1ffc451e",
   "metadata": {},
   "source": [
    "**Средний чек в группе А меньше, но он стабилизовался, а в группе B был резкий скачок и потом он начал постепенно падать, возможно ему понадобится еще данных, чтобы стабилизироваться после большого подъема. Возможно этот подъем связан с выбросами.**"
   ]
  },
  {
   "cell_type": "markdown",
   "id": "8953508b",
   "metadata": {},
   "source": [
    "### Относительное изменение кумулятивного среднего чека группы B к группе A\n",
    "\n",
    "Построим график относительного различия для среднего чека. Добавим горизонтальную ось методом axhline()"
   ]
  },
  {
   "cell_type": "code",
   "execution_count": 19,
   "id": "157978a7",
   "metadata": {},
   "outputs": [
    {
     "data": {
      "text/html": [
       "<div>\n",
       "<style scoped>\n",
       "    .dataframe tbody tr th:only-of-type {\n",
       "        vertical-align: middle;\n",
       "    }\n",
       "\n",
       "    .dataframe tbody tr th {\n",
       "        vertical-align: top;\n",
       "    }\n",
       "\n",
       "    .dataframe thead th {\n",
       "        text-align: right;\n",
       "    }\n",
       "</style>\n",
       "<table border=\"1\" class=\"dataframe\">\n",
       "  <thead>\n",
       "    <tr style=\"text-align: right;\">\n",
       "      <th></th>\n",
       "      <th>date</th>\n",
       "      <th>revenueA</th>\n",
       "      <th>ordersA</th>\n",
       "      <th>revenueB</th>\n",
       "      <th>ordersB</th>\n",
       "    </tr>\n",
       "  </thead>\n",
       "  <tbody>\n",
       "    <tr>\n",
       "      <th>0</th>\n",
       "      <td>2019-08-01</td>\n",
       "      <td>148579</td>\n",
       "      <td>24</td>\n",
       "      <td>101217</td>\n",
       "      <td>21</td>\n",
       "    </tr>\n",
       "    <tr>\n",
       "      <th>1</th>\n",
       "      <td>2019-08-02</td>\n",
       "      <td>242401</td>\n",
       "      <td>44</td>\n",
       "      <td>266748</td>\n",
       "      <td>45</td>\n",
       "    </tr>\n",
       "    <tr>\n",
       "      <th>2</th>\n",
       "      <td>2019-08-03</td>\n",
       "      <td>354874</td>\n",
       "      <td>68</td>\n",
       "      <td>380996</td>\n",
       "      <td>61</td>\n",
       "    </tr>\n",
       "    <tr>\n",
       "      <th>3</th>\n",
       "      <td>2019-08-04</td>\n",
       "      <td>425699</td>\n",
       "      <td>84</td>\n",
       "      <td>489567</td>\n",
       "      <td>78</td>\n",
       "    </tr>\n",
       "    <tr>\n",
       "      <th>4</th>\n",
       "      <td>2019-08-05</td>\n",
       "      <td>549917</td>\n",
       "      <td>109</td>\n",
       "      <td>581995</td>\n",
       "      <td>101</td>\n",
       "    </tr>\n",
       "  </tbody>\n",
       "</table>\n",
       "</div>"
      ],
      "text/plain": [
       "         date  revenueA  ordersA  revenueB  ordersB\n",
       "0  2019-08-01    148579       24    101217       21\n",
       "1  2019-08-02    242401       44    266748       45\n",
       "2  2019-08-03    354874       68    380996       61\n",
       "3  2019-08-04    425699       84    489567       78\n",
       "4  2019-08-05    549917      109    581995      101"
      ]
     },
     "execution_count": 19,
     "metadata": {},
     "output_type": "execute_result"
    }
   ],
   "source": [
    "# собираем данные в одном датафрейме\n",
    "merged_cumulative_revenue = (\n",
    "    cumulative_revenueA\n",
    "    .merge(cumulative_revenueB, left_on='date', right_on='date', how='left', suffixes=['A', 'B'])\n",
    ")\n",
    "merged_cumulative_revenue.head(5)"
   ]
  },
  {
   "cell_type": "code",
   "execution_count": 20,
   "id": "19a6d9a4",
   "metadata": {},
   "outputs": [
    {
     "data": {
      "image/png": "[encoded data removed]",
      "text/plain": [
       "<Figure size 720x288 with 1 Axes>"
      ]
     },
     "metadata": {
      "image/png": {
       "height": 319,
       "width": 623
      }
     },
     "output_type": "display_data"
    }
   ],
   "source": [
    "# cтроим отношение средних чеков\n",
    "plt.figure(figsize=(10,4))\n",
    "plt.plot(merged_cumulative_revenue['date'], (merged_cumulative_revenue['revenueB']/merged_cumulative_revenue['ordersB'])/(merged_cumulative_revenue['revenueA']/merged_cumulative_revenue['ordersA'])-1)\n",
    "\n",
    "# добавляем ось X\n",
    "plt.axhline(y=0, color='black', linestyle='--') \n",
    "plt.xticks(rotation=45)\n",
    "plt.title('График относительного различия для среднего чека группы B к группе A')\n",
    "plt.xlabel('Дата')\n",
    "plt.ylabel('Выручка')\n",
    "plt.show()"
   ]
  },
  {
   "cell_type": "markdown",
   "id": "81b6b5d6",
   "metadata": {},
   "source": [
    "**В нескольких точках данные резко скачут, поэтому необходимо будет проверить их на аномалии.**"
   ]
  },
  {
   "cell_type": "markdown",
   "id": "404916f7",
   "metadata": {},
   "source": [
    "### Кумулятивное среднее количества заказов на посетителя по группам\n",
    "\n",
    "Аналогично проанализируем график кумулятивного среднего количества заказов на посетителя по группам. Зададим масштаб осей методом plt.axis(). \n",
    "\n",
    "Передадим ему минимальное и максимальное значения оси x; минимальное и максимальное значения оси y:\n",
    "\n",
    "[\"2019-08-01\", '2019-09-01', 0, 0.015]:"
   ]
  },
  {
   "cell_type": "code",
   "execution_count": 21,
   "id": "fb53f61b",
   "metadata": {},
   "outputs": [
    {
     "data": {
      "text/html": [
       "<div>\n",
       "<style scoped>\n",
       "    .dataframe tbody tr th:only-of-type {\n",
       "        vertical-align: middle;\n",
       "    }\n",
       "\n",
       "    .dataframe tbody tr th {\n",
       "        vertical-align: top;\n",
       "    }\n",
       "\n",
       "    .dataframe thead th {\n",
       "        text-align: right;\n",
       "    }\n",
       "</style>\n",
       "<table border=\"1\" class=\"dataframe\">\n",
       "  <thead>\n",
       "    <tr style=\"text-align: right;\">\n",
       "      <th></th>\n",
       "      <th>date</th>\n",
       "      <th>group</th>\n",
       "      <th>orders</th>\n",
       "      <th>buyers</th>\n",
       "      <th>revenue</th>\n",
       "      <th>visitors</th>\n",
       "      <th>conversion</th>\n",
       "    </tr>\n",
       "  </thead>\n",
       "  <tbody>\n",
       "    <tr>\n",
       "      <th>0</th>\n",
       "      <td>2019-08-01</td>\n",
       "      <td>A</td>\n",
       "      <td>24</td>\n",
       "      <td>20</td>\n",
       "      <td>148579</td>\n",
       "      <td>719</td>\n",
       "      <td>0.033380</td>\n",
       "    </tr>\n",
       "    <tr>\n",
       "      <th>1</th>\n",
       "      <td>2019-08-01</td>\n",
       "      <td>B</td>\n",
       "      <td>21</td>\n",
       "      <td>20</td>\n",
       "      <td>101217</td>\n",
       "      <td>713</td>\n",
       "      <td>0.029453</td>\n",
       "    </tr>\n",
       "    <tr>\n",
       "      <th>2</th>\n",
       "      <td>2019-08-02</td>\n",
       "      <td>A</td>\n",
       "      <td>44</td>\n",
       "      <td>38</td>\n",
       "      <td>242401</td>\n",
       "      <td>1338</td>\n",
       "      <td>0.032885</td>\n",
       "    </tr>\n",
       "    <tr>\n",
       "      <th>3</th>\n",
       "      <td>2019-08-02</td>\n",
       "      <td>B</td>\n",
       "      <td>45</td>\n",
       "      <td>43</td>\n",
       "      <td>266748</td>\n",
       "      <td>1294</td>\n",
       "      <td>0.034776</td>\n",
       "    </tr>\n",
       "    <tr>\n",
       "      <th>4</th>\n",
       "      <td>2019-08-03</td>\n",
       "      <td>A</td>\n",
       "      <td>68</td>\n",
       "      <td>62</td>\n",
       "      <td>354874</td>\n",
       "      <td>1845</td>\n",
       "      <td>0.036856</td>\n",
       "    </tr>\n",
       "  </tbody>\n",
       "</table>\n",
       "</div>"
      ],
      "text/plain": [
       "         date group  orders  buyers  revenue  visitors  conversion\n",
       "0  2019-08-01     A      24      20   148579       719    0.033380\n",
       "1  2019-08-01     B      21      20   101217       713    0.029453\n",
       "2  2019-08-02     A      44      38   242401      1338    0.032885\n",
       "3  2019-08-02     B      45      43   266748      1294    0.034776\n",
       "4  2019-08-03     A      68      62   354874      1845    0.036856"
      ]
     },
     "execution_count": 21,
     "metadata": {},
     "output_type": "execute_result"
    }
   ],
   "source": [
    "# считаем среднее количество заказов на посетителя\n",
    "cumulative_data['conversion'] = cumulative_data['orders']/cumulative_data['visitors']\n",
    "cumulative_data.head(5)"
   ]
  },
  {
   "cell_type": "code",
   "execution_count": 22,
   "id": "c59c1c74",
   "metadata": {},
   "outputs": [
    {
     "data": {
      "image/png": "[encoded data removed]",
      "text/plain": [
       "<Figure size 720x288 with 1 Axes>"
      ]
     },
     "metadata": {
      "image/png": {
       "height": 319,
       "width": 652
      }
     },
     "output_type": "display_data"
    }
   ],
   "source": [
    "# отделяем данные по группе A\n",
    "cumulative_dataA = cumulative_data[cumulative_data['group']=='A']\n",
    "\n",
    "# отделяем данные по группе B\n",
    "cumulative_dataB = cumulative_data[cumulative_data['group']=='B']\n",
    "\n",
    "# строим графики\n",
    "plt.figure(figsize=(10,4))\n",
    "plt.plot(cumulative_dataA['date'], cumulative_dataA['conversion'], label='A')\n",
    "plt.plot(cumulative_dataB['date'], cumulative_dataB['conversion'], label='B')\n",
    "plt.legend()\n",
    "\n",
    "# задаем масштаб осей\n",
    "plt.axis([\"2019-08-01\", '2019-09-01', 0.025, 0.04]) \n",
    "plt.xticks(rotation=45)\n",
    "plt.title('График кумулятивного среднего количества заказов на посетителя по группам')\n",
    "plt.xlabel('Дата')\n",
    "plt.ylabel('Выручка')\n",
    "plt.show()"
   ]
  },
  {
   "cell_type": "markdown",
   "id": "16cce4da",
   "metadata": {},
   "source": [
    "**Данные по среднему количеству заказов к концу теста стабилизировались, после первых пяти дней в группе B всегда в среднем больше заказов, чем в группе А. Если среднее количество заказов в группе B больше, возможно это объясняет большую выручку в этой группе.**"
   ]
  },
  {
   "cell_type": "markdown",
   "id": "1294b2d1",
   "metadata": {},
   "source": [
    "### Относительное изменение кумулятивного среднего количества заказов на посетителя группы B к группе A\n",
    "\n",
    "Построим график изменения кумулятивного среднего количества заказов на посетителя группы B к группе A:"
   ]
  },
  {
   "cell_type": "code",
   "execution_count": 23,
   "id": "e99800c1",
   "metadata": {},
   "outputs": [
    {
     "data": {
      "text/html": [
       "<div>\n",
       "<style scoped>\n",
       "    .dataframe tbody tr th:only-of-type {\n",
       "        vertical-align: middle;\n",
       "    }\n",
       "\n",
       "    .dataframe tbody tr th {\n",
       "        vertical-align: top;\n",
       "    }\n",
       "\n",
       "    .dataframe thead th {\n",
       "        text-align: right;\n",
       "    }\n",
       "</style>\n",
       "<table border=\"1\" class=\"dataframe\">\n",
       "  <thead>\n",
       "    <tr style=\"text-align: right;\">\n",
       "      <th></th>\n",
       "      <th>date</th>\n",
       "      <th>conversionA</th>\n",
       "      <th>conversionB</th>\n",
       "    </tr>\n",
       "  </thead>\n",
       "  <tbody>\n",
       "    <tr>\n",
       "      <th>0</th>\n",
       "      <td>2019-08-01</td>\n",
       "      <td>0.033380</td>\n",
       "      <td>0.029453</td>\n",
       "    </tr>\n",
       "    <tr>\n",
       "      <th>1</th>\n",
       "      <td>2019-08-02</td>\n",
       "      <td>0.032885</td>\n",
       "      <td>0.034776</td>\n",
       "    </tr>\n",
       "    <tr>\n",
       "      <th>2</th>\n",
       "      <td>2019-08-03</td>\n",
       "      <td>0.036856</td>\n",
       "      <td>0.033833</td>\n",
       "    </tr>\n",
       "    <tr>\n",
       "      <th>3</th>\n",
       "      <td>2019-08-04</td>\n",
       "      <td>0.032787</td>\n",
       "      <td>0.030315</td>\n",
       "    </tr>\n",
       "    <tr>\n",
       "      <th>4</th>\n",
       "      <td>2019-08-05</td>\n",
       "      <td>0.032851</td>\n",
       "      <td>0.030793</td>\n",
       "    </tr>\n",
       "  </tbody>\n",
       "</table>\n",
       "</div>"
      ],
      "text/plain": [
       "         date  conversionA  conversionB\n",
       "0  2019-08-01     0.033380     0.029453\n",
       "1  2019-08-02     0.032885     0.034776\n",
       "2  2019-08-03     0.036856     0.033833\n",
       "3  2019-08-04     0.032787     0.030315\n",
       "4  2019-08-05     0.032851     0.030793"
      ]
     },
     "execution_count": 23,
     "metadata": {},
     "output_type": "execute_result"
    }
   ],
   "source": [
    "merged_cumulative_conversions = (\n",
    "    cumulative_dataA[['date','conversion']]\n",
    "    .merge(cumulative_dataB[['date','conversion']], \n",
    "           left_on='date', right_on='date', how='left', suffixes=['A', 'B'])\n",
    ")\n",
    "merged_cumulative_conversions.head(5)"
   ]
  },
  {
   "cell_type": "code",
   "execution_count": 24,
   "id": "34817486",
   "metadata": {},
   "outputs": [
    {
     "data": {
      "image/png": "[encoded data removed]",
      "text/plain": [
       "<Figure size 720x288 with 1 Axes>"
      ]
     },
     "metadata": {
      "image/png": {
       "height": 303,
       "width": 926
      }
     },
     "output_type": "display_data"
    }
   ],
   "source": [
    "plt.figure(figsize=(10,4))\n",
    "plt.plot(merged_cumulative_conversions['date'], merged_cumulative_conversions['conversionB']/merged_cumulative_conversions['conversionA']-1)\n",
    "plt.xticks(rotation=45)\n",
    "plt.axhline(y=0, color='black', linestyle='--')\n",
    "plt.axhline(y=0.1, color='grey', linestyle='--')\n",
    "plt.axis([\"2019-08-01\", '2019-09-01', -0.2, 0.3]) \n",
    "plt.title('Относительный прирост кумулятивного среднего количества заказов на посетителя группы B относительно группы A')\n",
    "plt.show()"
   ]
  },
  {
   "cell_type": "markdown",
   "id": "ac91b9d7",
   "metadata": {},
   "source": [
    "**Только в первые два дня группа А была в лидерах по среднему количеству заказов, а потом группа В вырвалась вперед и уже не уменьшалась по отношению к А, относительный прирост зафиксировался выше 10%. Но прежде, чем формулировать выводы, следует проанализировать аномалии, о которых предполагалось выше.**"
   ]
  },
  {
   "cell_type": "markdown",
   "id": "e47f8199",
   "metadata": {},
   "source": [
    "### Количество заказов по пользователям"
   ]
  },
  {
   "cell_type": "code",
   "execution_count": 25,
   "id": "19662a00",
   "metadata": {},
   "outputs": [
    {
     "data": {
      "text/html": [
       "<div>\n",
       "<style scoped>\n",
       "    .dataframe tbody tr th:only-of-type {\n",
       "        vertical-align: middle;\n",
       "    }\n",
       "\n",
       "    .dataframe tbody tr th {\n",
       "        vertical-align: top;\n",
       "    }\n",
       "\n",
       "    .dataframe thead th {\n",
       "        text-align: right;\n",
       "    }\n",
       "</style>\n",
       "<table border=\"1\" class=\"dataframe\">\n",
       "  <thead>\n",
       "    <tr style=\"text-align: right;\">\n",
       "      <th></th>\n",
       "      <th>user_id</th>\n",
       "      <th>orders</th>\n",
       "    </tr>\n",
       "  </thead>\n",
       "  <tbody>\n",
       "    <tr>\n",
       "      <th>1023</th>\n",
       "      <td>4256040402</td>\n",
       "      <td>11</td>\n",
       "    </tr>\n",
       "    <tr>\n",
       "      <th>591</th>\n",
       "      <td>2458001652</td>\n",
       "      <td>11</td>\n",
       "    </tr>\n",
       "    <tr>\n",
       "      <th>569</th>\n",
       "      <td>2378935119</td>\n",
       "      <td>9</td>\n",
       "    </tr>\n",
       "    <tr>\n",
       "      <th>487</th>\n",
       "      <td>2038680547</td>\n",
       "      <td>8</td>\n",
       "    </tr>\n",
       "    <tr>\n",
       "      <th>44</th>\n",
       "      <td>199603092</td>\n",
       "      <td>5</td>\n",
       "    </tr>\n",
       "  </tbody>\n",
       "</table>\n",
       "</div>"
      ],
      "text/plain": [
       "         user_id  orders\n",
       "1023  4256040402      11\n",
       "591   2458001652      11\n",
       "569   2378935119       9\n",
       "487   2038680547       8\n",
       "44     199603092       5"
      ]
     },
     "execution_count": 25,
     "metadata": {},
     "output_type": "execute_result"
    }
   ],
   "source": [
    "orders_by_users = orders.groupby('visitor_id', as_index=False).agg({'transaction_id': 'nunique'})\n",
    "orders_by_users.columns = ['user_id', 'orders']\n",
    "orders_by_users.sort_values(by='orders', ascending = False).head(5)"
   ]
  },
  {
   "cell_type": "markdown",
   "id": "bb8fe37e",
   "metadata": {},
   "source": [
    "В предоставленных данных есть четыре пользователя, которые совершили более пяти заказов, при этом два из них сделали по одиннадцать заказов.\n",
    "\n",
    "Построим точечную диаграмму числа заказов на одного пользователя:"
   ]
  },
  {
   "cell_type": "code",
   "execution_count": 26,
   "id": "fc84927a",
   "metadata": {},
   "outputs": [
    {
     "data": {
      "text/plain": [
       "Text(0, 0.5, 'Количество заказов')"
      ]
     },
     "execution_count": 26,
     "metadata": {},
     "output_type": "execute_result"
    },
    {
     "data": {
      "image/png": "[encoded data removed]",
      "text/plain": [
       "<Figure size 432x288 with 1 Axes>"
      ]
     },
     "metadata": {
      "image/png": {
       "height": 281,
       "width": 446
      }
     },
     "output_type": "display_data"
    }
   ],
   "source": [
    "x_values = pd.Series(range(0,len(orders_by_users)))\n",
    "\n",
    "plt.scatter(x_values, orders_by_users['orders']) \n",
    "plt.title('Точечный график количества заказов по пользователям')\n",
    "plt.xlabel('Номера наблюдений')\n",
    "plt.ylabel('Количество заказов')"
   ]
  },
  {
   "cell_type": "markdown",
   "id": "a58b38fa",
   "metadata": {},
   "source": [
    "**В основном пользователи за месяц совершили по одному заказу, также много пользователей с 2-4 заказми и пока неясно, считать ли их аномалиями, а вот более 4-х заказов скорее всего можем отнести к выбросам.**\n",
    "\n",
    "Посчитаем 95-й и 99-й перцентили количества заказов на пользователя и выберем границу для определения аномальных пользователей. Для подсчёта перцентилей применим метод ` percentile()` библиотеки Numpy: "
   ]
  },
  {
   "cell_type": "code",
   "execution_count": 27,
   "id": "eaeddbaa",
   "metadata": {},
   "outputs": [
    {
     "data": {
      "text/plain": [
       "array([1., 2., 4.])"
      ]
     },
     "execution_count": 27,
     "metadata": {},
     "output_type": "execute_result"
    }
   ],
   "source": [
    "np.percentile(orders_by_users['orders'], [90, 95, 99])"
   ]
  },
  {
   "cell_type": "markdown",
   "id": "28c62ab9",
   "metadata": {},
   "source": [
    "**Не более 5% пользователей оформляли больше чем 2 заказа. И не более 1% пользователей заказывали более четырех раз. Выберем 99% перцентиль, чтобы отсеять аномальных пользователей.**"
   ]
  },
  {
   "cell_type": "markdown",
   "id": "daec8213",
   "metadata": {},
   "source": [
    "### Распределение стоимости заказов\n",
    "\n",
    "\n",
    "Построим точечный график методом `scatter()`"
   ]
  },
  {
   "cell_type": "code",
   "execution_count": 28,
   "id": "1504014f",
   "metadata": {},
   "outputs": [
    {
     "data": {
      "text/html": [
       "<div>\n",
       "<style scoped>\n",
       "    .dataframe tbody tr th:only-of-type {\n",
       "        vertical-align: middle;\n",
       "    }\n",
       "\n",
       "    .dataframe tbody tr th {\n",
       "        vertical-align: top;\n",
       "    }\n",
       "\n",
       "    .dataframe thead th {\n",
       "        text-align: right;\n",
       "    }\n",
       "</style>\n",
       "<table border=\"1\" class=\"dataframe\">\n",
       "  <thead>\n",
       "    <tr style=\"text-align: right;\">\n",
       "      <th></th>\n",
       "      <th>transaction_id</th>\n",
       "      <th>visitor_id</th>\n",
       "      <th>date</th>\n",
       "      <th>revenue</th>\n",
       "      <th>group</th>\n",
       "    </tr>\n",
       "  </thead>\n",
       "  <tbody>\n",
       "    <tr>\n",
       "      <th>425</th>\n",
       "      <td>590470918</td>\n",
       "      <td>1920142716</td>\n",
       "      <td>2019-08-19</td>\n",
       "      <td>1294500</td>\n",
       "      <td>B</td>\n",
       "    </tr>\n",
       "    <tr>\n",
       "      <th>1196</th>\n",
       "      <td>3936777065</td>\n",
       "      <td>2108080724</td>\n",
       "      <td>2019-08-15</td>\n",
       "      <td>202740</td>\n",
       "      <td>B</td>\n",
       "    </tr>\n",
       "    <tr>\n",
       "      <th>858</th>\n",
       "      <td>192721366</td>\n",
       "      <td>1316129916</td>\n",
       "      <td>2019-08-27</td>\n",
       "      <td>93940</td>\n",
       "      <td>A</td>\n",
       "    </tr>\n",
       "    <tr>\n",
       "      <th>1136</th>\n",
       "      <td>666610489</td>\n",
       "      <td>1307669133</td>\n",
       "      <td>2019-08-13</td>\n",
       "      <td>92550</td>\n",
       "      <td>A</td>\n",
       "    </tr>\n",
       "    <tr>\n",
       "      <th>744</th>\n",
       "      <td>3668308183</td>\n",
       "      <td>888512513</td>\n",
       "      <td>2019-08-27</td>\n",
       "      <td>86620</td>\n",
       "      <td>B</td>\n",
       "    </tr>\n",
       "  </tbody>\n",
       "</table>\n",
       "</div>"
      ],
      "text/plain": [
       "      transaction_id  visitor_id        date  revenue group\n",
       "425        590470918  1920142716  2019-08-19  1294500     B\n",
       "1196      3936777065  2108080724  2019-08-15   202740     B\n",
       "858        192721366  1316129916  2019-08-27    93940     A\n",
       "1136       666610489  1307669133  2019-08-13    92550     A\n",
       "744       3668308183   888512513  2019-08-27    86620     B"
      ]
     },
     "execution_count": 28,
     "metadata": {},
     "output_type": "execute_result"
    }
   ],
   "source": [
    "orders.sort_values(by='revenue', ascending=False).head(5)"
   ]
  },
  {
   "cell_type": "code",
   "execution_count": 29,
   "id": "fa2f721a",
   "metadata": {},
   "outputs": [
    {
     "data": {
      "image/png": "[encoded data removed]",
      "text/plain": [
       "<Figure size 432x288 with 1 Axes>"
      ]
     },
     "metadata": {
      "image/png": {
       "height": 281,
       "width": 388
      }
     },
     "output_type": "display_data"
    }
   ],
   "source": [
    "x_values = pd.Series(range(0, len(orders['revenue'])))\n",
    "plt.scatter(x_values, orders['revenue']) \n",
    "plt.title('Точечный график стоимости заказов')\n",
    "plt.xlabel('Номера наблюдений')\n",
    "plt.ylabel('Стоимость заказов')\n",
    "plt.show()"
   ]
  },
  {
   "cell_type": "markdown",
   "id": "c79ac68b",
   "metadata": {},
   "source": [
    "На графике ярко видно два выброса по стоимости заказов: выше 1,2 млн руб и в районе 0.2 млн руб. Теперь сделаем более подробный график, исключив выбросы, чтобы посмотреть, есть ли аномалии в стоимости до 100 тыс руб."
   ]
  },
  {
   "cell_type": "code",
   "execution_count": 30,
   "id": "8710a051",
   "metadata": {},
   "outputs": [
    {
     "data": {
      "image/png": "[encoded data removed]",
      "text/plain": [
       "<Figure size 432x288 with 1 Axes>"
      ]
     },
     "metadata": {
      "image/png": {
       "height": 281,
       "width": 410
      }
     },
     "output_type": "display_data"
    }
   ],
   "source": [
    "x_values = pd.Series(range(0, len(orders['revenue'])))\n",
    "plt.scatter(x_values, orders['revenue']) \n",
    "plt.axis([0, 1300, 0, 100000])\n",
    "plt.title('Точечный график стоимости заказов')\n",
    "plt.xlabel('Номера наблюдений')\n",
    "plt.ylabel('Стоимость заказов')\n",
    "plt.show()"
   ]
  },
  {
   "cell_type": "markdown",
   "id": "97beee01",
   "metadata": {},
   "source": [
    "**Как и предполагали есть выбивающиеся дорогие заказы, в первую очередь это два заказа стоимостью 202 740 руб. и 1 294 500 руб. (именно этот аномально дорогой заказ скорее всего был причиной скачка на графике кумулятивной выручки в группе В), также мало заказов в промежутке 50 000 - 100 000 руб. и возможно к аномалиям можно отнести заказы выше 25 000руб.**\n",
    "\n",
    "Чтобы точно ответить на этот вопрос и отсеить от 1% до 5% наблюдений с крайними значениями, воспользуемся методом percentile() библиотеки Numpy."
   ]
  },
  {
   "cell_type": "code",
   "execution_count": 31,
   "id": "79eeaf60",
   "metadata": {
    "scrolled": true
   },
   "outputs": [
    {
     "data": {
      "text/plain": [
       "array([18168. , 28000. , 58233.2])"
      ]
     },
     "execution_count": 31,
     "metadata": {},
     "output_type": "execute_result"
    }
   ],
   "source": [
    "np.percentile(orders['revenue'], [90, 95, 99])"
   ]
  },
  {
   "cell_type": "markdown",
   "id": "43b43fd0",
   "metadata": {},
   "source": [
    "**Не более 5% заказов дороже 28 000 руб. и не более 1% дороже 58 233 руб. Значит, аномалиями будем считать все заказы стоимостью выше 28 000 руб.**"
   ]
  },
  {
   "cell_type": "markdown",
   "id": "a3c10180",
   "metadata": {},
   "source": [
    "### Статистическая значимость различий в среднем количестве заказов на посетителя между группами по «сырым» данным\n",
    "\n",
    "Сформулируем гипотезы:\n",
    "- Нулевая: различий в среднем количестве заказов между группами нет. \n",
    "- Альтернативная: различия в среднем между группами есть.\n",
    "\n",
    "Начнём с подготовки данных. Создадим таблицу `data`"
   ]
  },
  {
   "cell_type": "code",
   "execution_count": 32,
   "id": "4317b0be",
   "metadata": {},
   "outputs": [
    {
     "data": {
      "text/html": [
       "<div>\n",
       "<style scoped>\n",
       "    .dataframe tbody tr th:only-of-type {\n",
       "        vertical-align: middle;\n",
       "    }\n",
       "\n",
       "    .dataframe tbody tr th {\n",
       "        vertical-align: top;\n",
       "    }\n",
       "\n",
       "    .dataframe thead th {\n",
       "        text-align: right;\n",
       "    }\n",
       "</style>\n",
       "<table border=\"1\" class=\"dataframe\">\n",
       "  <thead>\n",
       "    <tr style=\"text-align: right;\">\n",
       "      <th></th>\n",
       "      <th>date</th>\n",
       "      <th>visitors_per_dateA</th>\n",
       "    </tr>\n",
       "  </thead>\n",
       "  <tbody>\n",
       "    <tr>\n",
       "      <th>0</th>\n",
       "      <td>2019-08-01</td>\n",
       "      <td>719</td>\n",
       "    </tr>\n",
       "    <tr>\n",
       "      <th>1</th>\n",
       "      <td>2019-08-02</td>\n",
       "      <td>619</td>\n",
       "    </tr>\n",
       "    <tr>\n",
       "      <th>2</th>\n",
       "      <td>2019-08-03</td>\n",
       "      <td>507</td>\n",
       "    </tr>\n",
       "    <tr>\n",
       "      <th>3</th>\n",
       "      <td>2019-08-04</td>\n",
       "      <td>717</td>\n",
       "    </tr>\n",
       "    <tr>\n",
       "      <th>4</th>\n",
       "      <td>2019-08-05</td>\n",
       "      <td>756</td>\n",
       "    </tr>\n",
       "  </tbody>\n",
       "</table>\n",
       "</div>"
      ],
      "text/plain": [
       "         date  visitors_per_dateA\n",
       "0  2019-08-01                 719\n",
       "1  2019-08-02                 619\n",
       "2  2019-08-03                 507\n",
       "3  2019-08-04                 717\n",
       "4  2019-08-05                 756"
      ]
     },
     "execution_count": 32,
     "metadata": {},
     "output_type": "execute_result"
    }
   ],
   "source": [
    "# найдем количество пользователей за каждый день в группе А\n",
    "visitorsA_daily = visitors[visitors['group'] == 'A'][['date', 'visitors']]\n",
    "visitorsA_daily.columns = ['date', 'visitors_per_dateA']\n",
    "visitorsA_daily.head(5)"
   ]
  },
  {
   "cell_type": "code",
   "execution_count": 33,
   "id": "f98e6d8c",
   "metadata": {},
   "outputs": [
    {
     "data": {
      "text/html": [
       "<div>\n",
       "<style scoped>\n",
       "    .dataframe tbody tr th:only-of-type {\n",
       "        vertical-align: middle;\n",
       "    }\n",
       "\n",
       "    .dataframe tbody tr th {\n",
       "        vertical-align: top;\n",
       "    }\n",
       "\n",
       "    .dataframe thead th {\n",
       "        text-align: right;\n",
       "    }\n",
       "</style>\n",
       "<table border=\"1\" class=\"dataframe\">\n",
       "  <thead>\n",
       "    <tr style=\"text-align: right;\">\n",
       "      <th></th>\n",
       "      <th>date</th>\n",
       "      <th>visitors_cummulativeA</th>\n",
       "    </tr>\n",
       "  </thead>\n",
       "  <tbody>\n",
       "    <tr>\n",
       "      <th>0</th>\n",
       "      <td>2019-08-01</td>\n",
       "      <td>719</td>\n",
       "    </tr>\n",
       "    <tr>\n",
       "      <th>1</th>\n",
       "      <td>2019-08-02</td>\n",
       "      <td>1338</td>\n",
       "    </tr>\n",
       "    <tr>\n",
       "      <th>2</th>\n",
       "      <td>2019-08-03</td>\n",
       "      <td>1845</td>\n",
       "    </tr>\n",
       "    <tr>\n",
       "      <th>3</th>\n",
       "      <td>2019-08-04</td>\n",
       "      <td>2562</td>\n",
       "    </tr>\n",
       "    <tr>\n",
       "      <th>4</th>\n",
       "      <td>2019-08-05</td>\n",
       "      <td>3318</td>\n",
       "    </tr>\n",
       "  </tbody>\n",
       "</table>\n",
       "</div>"
      ],
      "text/plain": [
       "         date  visitors_cummulativeA\n",
       "0  2019-08-01                    719\n",
       "1  2019-08-02                   1338\n",
       "2  2019-08-03                   1845\n",
       "3  2019-08-04                   2562\n",
       "4  2019-08-05                   3318"
      ]
     },
     "execution_count": 33,
     "metadata": {},
     "output_type": "execute_result"
    }
   ],
   "source": [
    "# найдем накопительное количество пользователей в группе А\n",
    "visitorsA_cummulative = visitorsA_daily.apply(\n",
    "    lambda x: visitorsA_daily[visitorsA_daily['date'] <= x['date']].agg(\n",
    "        {'date': 'max', 'visitors_per_dateA': 'sum'}\n",
    "    ),\n",
    "    axis=1,\n",
    ")\n",
    "visitorsA_cummulative.columns = ['date', 'visitors_cummulativeA']\n",
    "visitorsA_cummulative.head(5)"
   ]
  },
  {
   "cell_type": "code",
   "execution_count": 34,
   "id": "146bd25a",
   "metadata": {},
   "outputs": [
    {
     "data": {
      "text/html": [
       "<div>\n",
       "<style scoped>\n",
       "    .dataframe tbody tr th:only-of-type {\n",
       "        vertical-align: middle;\n",
       "    }\n",
       "\n",
       "    .dataframe tbody tr th {\n",
       "        vertical-align: top;\n",
       "    }\n",
       "\n",
       "    .dataframe thead th {\n",
       "        text-align: right;\n",
       "    }\n",
       "</style>\n",
       "<table border=\"1\" class=\"dataframe\">\n",
       "  <thead>\n",
       "    <tr style=\"text-align: right;\">\n",
       "      <th></th>\n",
       "      <th>date</th>\n",
       "      <th>visitors_per_dateB</th>\n",
       "    </tr>\n",
       "  </thead>\n",
       "  <tbody>\n",
       "    <tr>\n",
       "      <th>31</th>\n",
       "      <td>2019-08-01</td>\n",
       "      <td>713</td>\n",
       "    </tr>\n",
       "    <tr>\n",
       "      <th>32</th>\n",
       "      <td>2019-08-02</td>\n",
       "      <td>581</td>\n",
       "    </tr>\n",
       "    <tr>\n",
       "      <th>33</th>\n",
       "      <td>2019-08-03</td>\n",
       "      <td>509</td>\n",
       "    </tr>\n",
       "    <tr>\n",
       "      <th>34</th>\n",
       "      <td>2019-08-04</td>\n",
       "      <td>770</td>\n",
       "    </tr>\n",
       "    <tr>\n",
       "      <th>35</th>\n",
       "      <td>2019-08-05</td>\n",
       "      <td>707</td>\n",
       "    </tr>\n",
       "  </tbody>\n",
       "</table>\n",
       "</div>"
      ],
      "text/plain": [
       "          date  visitors_per_dateB\n",
       "31  2019-08-01                 713\n",
       "32  2019-08-02                 581\n",
       "33  2019-08-03                 509\n",
       "34  2019-08-04                 770\n",
       "35  2019-08-05                 707"
      ]
     },
     "execution_count": 34,
     "metadata": {},
     "output_type": "execute_result"
    }
   ],
   "source": [
    "# найдем количество пользователей за каждый день в группе В\n",
    "visitorsB_daily = visitors[visitors['group'] == 'B'][['date', 'visitors']]\n",
    "visitorsB_daily.columns = ['date', 'visitors_per_dateB']\n",
    "visitorsB_daily.head(5)"
   ]
  },
  {
   "cell_type": "code",
   "execution_count": 35,
   "id": "f322ad0f",
   "metadata": {},
   "outputs": [
    {
     "data": {
      "text/html": [
       "<div>\n",
       "<style scoped>\n",
       "    .dataframe tbody tr th:only-of-type {\n",
       "        vertical-align: middle;\n",
       "    }\n",
       "\n",
       "    .dataframe tbody tr th {\n",
       "        vertical-align: top;\n",
       "    }\n",
       "\n",
       "    .dataframe thead th {\n",
       "        text-align: right;\n",
       "    }\n",
       "</style>\n",
       "<table border=\"1\" class=\"dataframe\">\n",
       "  <thead>\n",
       "    <tr style=\"text-align: right;\">\n",
       "      <th></th>\n",
       "      <th>date</th>\n",
       "      <th>visitors_cummulativeB</th>\n",
       "    </tr>\n",
       "  </thead>\n",
       "  <tbody>\n",
       "    <tr>\n",
       "      <th>31</th>\n",
       "      <td>2019-08-01</td>\n",
       "      <td>713</td>\n",
       "    </tr>\n",
       "    <tr>\n",
       "      <th>32</th>\n",
       "      <td>2019-08-02</td>\n",
       "      <td>1294</td>\n",
       "    </tr>\n",
       "    <tr>\n",
       "      <th>33</th>\n",
       "      <td>2019-08-03</td>\n",
       "      <td>1803</td>\n",
       "    </tr>\n",
       "    <tr>\n",
       "      <th>34</th>\n",
       "      <td>2019-08-04</td>\n",
       "      <td>2573</td>\n",
       "    </tr>\n",
       "    <tr>\n",
       "      <th>35</th>\n",
       "      <td>2019-08-05</td>\n",
       "      <td>3280</td>\n",
       "    </tr>\n",
       "  </tbody>\n",
       "</table>\n",
       "</div>"
      ],
      "text/plain": [
       "          date  visitors_cummulativeB\n",
       "31  2019-08-01                    713\n",
       "32  2019-08-02                   1294\n",
       "33  2019-08-03                   1803\n",
       "34  2019-08-04                   2573\n",
       "35  2019-08-05                   3280"
      ]
     },
     "execution_count": 35,
     "metadata": {},
     "output_type": "execute_result"
    }
   ],
   "source": [
    "# найдем накопительное количество пользователей в группе В\n",
    "visitorsB_cummulative = visitorsB_daily.apply(\n",
    "    lambda x: visitorsB_daily[visitorsB_daily['date'] <= x['date']].agg(\n",
    "        {'date': 'max', 'visitors_per_dateB': 'sum'}\n",
    "    ),\n",
    "    axis=1,\n",
    ")\n",
    "visitorsB_cummulative.columns = ['date', 'visitors_cummulativeB']\n",
    "visitorsB_cummulative.head(5)"
   ]
  },
  {
   "cell_type": "code",
   "execution_count": 36,
   "id": "1664f855",
   "metadata": {},
   "outputs": [
    {
     "data": {
      "text/html": [
       "<div>\n",
       "<style scoped>\n",
       "    .dataframe tbody tr th:only-of-type {\n",
       "        vertical-align: middle;\n",
       "    }\n",
       "\n",
       "    .dataframe tbody tr th {\n",
       "        vertical-align: top;\n",
       "    }\n",
       "\n",
       "    .dataframe thead th {\n",
       "        text-align: right;\n",
       "    }\n",
       "</style>\n",
       "<table border=\"1\" class=\"dataframe\">\n",
       "  <thead>\n",
       "    <tr style=\"text-align: right;\">\n",
       "      <th></th>\n",
       "      <th>date</th>\n",
       "      <th>orders_per_dateA</th>\n",
       "      <th>revenue_per_dateA</th>\n",
       "    </tr>\n",
       "  </thead>\n",
       "  <tbody>\n",
       "    <tr>\n",
       "      <th>0</th>\n",
       "      <td>2019-08-01</td>\n",
       "      <td>24</td>\n",
       "      <td>148579</td>\n",
       "    </tr>\n",
       "    <tr>\n",
       "      <th>1</th>\n",
       "      <td>2019-08-02</td>\n",
       "      <td>20</td>\n",
       "      <td>93822</td>\n",
       "    </tr>\n",
       "    <tr>\n",
       "      <th>2</th>\n",
       "      <td>2019-08-03</td>\n",
       "      <td>24</td>\n",
       "      <td>112473</td>\n",
       "    </tr>\n",
       "    <tr>\n",
       "      <th>3</th>\n",
       "      <td>2019-08-04</td>\n",
       "      <td>16</td>\n",
       "      <td>70825</td>\n",
       "    </tr>\n",
       "    <tr>\n",
       "      <th>4</th>\n",
       "      <td>2019-08-05</td>\n",
       "      <td>25</td>\n",
       "      <td>124218</td>\n",
       "    </tr>\n",
       "  </tbody>\n",
       "</table>\n",
       "</div>"
      ],
      "text/plain": [
       "         date  orders_per_dateA  revenue_per_dateA\n",
       "0  2019-08-01                24             148579\n",
       "1  2019-08-02                20              93822\n",
       "2  2019-08-03                24             112473\n",
       "3  2019-08-04                16              70825\n",
       "4  2019-08-05                25             124218"
      ]
     },
     "execution_count": 36,
     "metadata": {},
     "output_type": "execute_result"
    }
   ],
   "source": [
    "# найдем количество заказов и выручку за каждый день в группе А\n",
    "ordersA_daily = (\n",
    "    orders[orders['group'] == 'A'][['date', 'transaction_id', 'visitor_id', 'revenue']]\n",
    "    .groupby('date', as_index=False)\n",
    "    .agg({'transaction_id': pd.Series.nunique, 'revenue': 'sum'})\n",
    ")\n",
    "ordersA_daily.columns = ['date', 'orders_per_dateA', 'revenue_per_dateA']\n",
    "ordersA_daily.head(5)"
   ]
  },
  {
   "cell_type": "code",
   "execution_count": 37,
   "id": "a5dc48fc",
   "metadata": {},
   "outputs": [
    {
     "data": {
      "text/html": [
       "<div>\n",
       "<style scoped>\n",
       "    .dataframe tbody tr th:only-of-type {\n",
       "        vertical-align: middle;\n",
       "    }\n",
       "\n",
       "    .dataframe tbody tr th {\n",
       "        vertical-align: top;\n",
       "    }\n",
       "\n",
       "    .dataframe thead th {\n",
       "        text-align: right;\n",
       "    }\n",
       "</style>\n",
       "<table border=\"1\" class=\"dataframe\">\n",
       "  <thead>\n",
       "    <tr style=\"text-align: right;\">\n",
       "      <th></th>\n",
       "      <th>date</th>\n",
       "      <th>orders_cummulativeA</th>\n",
       "      <th>revenue_cummulativeA</th>\n",
       "    </tr>\n",
       "  </thead>\n",
       "  <tbody>\n",
       "    <tr>\n",
       "      <th>0</th>\n",
       "      <td>2019-08-01</td>\n",
       "      <td>24</td>\n",
       "      <td>148579</td>\n",
       "    </tr>\n",
       "    <tr>\n",
       "      <th>1</th>\n",
       "      <td>2019-08-02</td>\n",
       "      <td>44</td>\n",
       "      <td>242401</td>\n",
       "    </tr>\n",
       "    <tr>\n",
       "      <th>2</th>\n",
       "      <td>2019-08-03</td>\n",
       "      <td>68</td>\n",
       "      <td>354874</td>\n",
       "    </tr>\n",
       "    <tr>\n",
       "      <th>3</th>\n",
       "      <td>2019-08-04</td>\n",
       "      <td>84</td>\n",
       "      <td>425699</td>\n",
       "    </tr>\n",
       "    <tr>\n",
       "      <th>4</th>\n",
       "      <td>2019-08-05</td>\n",
       "      <td>109</td>\n",
       "      <td>549917</td>\n",
       "    </tr>\n",
       "  </tbody>\n",
       "</table>\n",
       "</div>"
      ],
      "text/plain": [
       "         date  orders_cummulativeA  revenue_cummulativeA\n",
       "0  2019-08-01                   24                148579\n",
       "1  2019-08-02                   44                242401\n",
       "2  2019-08-03                   68                354874\n",
       "3  2019-08-04                   84                425699\n",
       "4  2019-08-05                  109                549917"
      ]
     },
     "execution_count": 37,
     "metadata": {},
     "output_type": "execute_result"
    }
   ],
   "source": [
    "# найдем накопленные количество заказов и выручку за каждый день в группе А\n",
    "ordersA_cummulative = ordersA_daily.apply(\n",
    "    lambda x: ordersA_daily[ordersA_daily['date'] <= x['date']].agg(\n",
    "        {'date': 'max', 'orders_per_dateA': 'sum', 'revenue_per_dateA': 'sum'}\n",
    "    ),\n",
    "    axis=1,\n",
    ").sort_values(by=['date'])\n",
    "ordersA_cummulative.columns = [\n",
    "    'date',\n",
    "    'orders_cummulativeA',\n",
    "    'revenue_cummulativeA',\n",
    "]\n",
    "ordersA_cummulative.head(5)"
   ]
  },
  {
   "cell_type": "code",
   "execution_count": 38,
   "id": "c3878f1a",
   "metadata": {},
   "outputs": [
    {
     "data": {
      "text/html": [
       "<div>\n",
       "<style scoped>\n",
       "    .dataframe tbody tr th:only-of-type {\n",
       "        vertical-align: middle;\n",
       "    }\n",
       "\n",
       "    .dataframe tbody tr th {\n",
       "        vertical-align: top;\n",
       "    }\n",
       "\n",
       "    .dataframe thead th {\n",
       "        text-align: right;\n",
       "    }\n",
       "</style>\n",
       "<table border=\"1\" class=\"dataframe\">\n",
       "  <thead>\n",
       "    <tr style=\"text-align: right;\">\n",
       "      <th></th>\n",
       "      <th>date</th>\n",
       "      <th>orders_per_dateB</th>\n",
       "      <th>revenue_per_dateB</th>\n",
       "    </tr>\n",
       "  </thead>\n",
       "  <tbody>\n",
       "    <tr>\n",
       "      <th>0</th>\n",
       "      <td>2019-08-01</td>\n",
       "      <td>21</td>\n",
       "      <td>101217</td>\n",
       "    </tr>\n",
       "    <tr>\n",
       "      <th>1</th>\n",
       "      <td>2019-08-02</td>\n",
       "      <td>24</td>\n",
       "      <td>165531</td>\n",
       "    </tr>\n",
       "    <tr>\n",
       "      <th>2</th>\n",
       "      <td>2019-08-03</td>\n",
       "      <td>16</td>\n",
       "      <td>114248</td>\n",
       "    </tr>\n",
       "    <tr>\n",
       "      <th>3</th>\n",
       "      <td>2019-08-04</td>\n",
       "      <td>17</td>\n",
       "      <td>108571</td>\n",
       "    </tr>\n",
       "    <tr>\n",
       "      <th>4</th>\n",
       "      <td>2019-08-05</td>\n",
       "      <td>23</td>\n",
       "      <td>92428</td>\n",
       "    </tr>\n",
       "  </tbody>\n",
       "</table>\n",
       "</div>"
      ],
      "text/plain": [
       "         date  orders_per_dateB  revenue_per_dateB\n",
       "0  2019-08-01                21             101217\n",
       "1  2019-08-02                24             165531\n",
       "2  2019-08-03                16             114248\n",
       "3  2019-08-04                17             108571\n",
       "4  2019-08-05                23              92428"
      ]
     },
     "execution_count": 38,
     "metadata": {},
     "output_type": "execute_result"
    }
   ],
   "source": [
    "# найдем количество заказов и выручку за каждый день в группе B\n",
    "ordersB_daily = (\n",
    "    orders[orders['group'] == 'B'][['date', 'transaction_id', 'visitor_id', 'revenue']]\n",
    "    .groupby('date', as_index=False)\n",
    "    .agg({'transaction_id': pd.Series.nunique, 'revenue': 'sum'})\n",
    ")\n",
    "ordersB_daily.columns = ['date', 'orders_per_dateB', 'revenue_per_dateB']\n",
    "ordersB_daily.head(5)"
   ]
  },
  {
   "cell_type": "code",
   "execution_count": 39,
   "id": "ed191fce",
   "metadata": {},
   "outputs": [
    {
     "data": {
      "text/html": [
       "<div>\n",
       "<style scoped>\n",
       "    .dataframe tbody tr th:only-of-type {\n",
       "        vertical-align: middle;\n",
       "    }\n",
       "\n",
       "    .dataframe tbody tr th {\n",
       "        vertical-align: top;\n",
       "    }\n",
       "\n",
       "    .dataframe thead th {\n",
       "        text-align: right;\n",
       "    }\n",
       "</style>\n",
       "<table border=\"1\" class=\"dataframe\">\n",
       "  <thead>\n",
       "    <tr style=\"text-align: right;\">\n",
       "      <th></th>\n",
       "      <th>date</th>\n",
       "      <th>orders_cummulativeB</th>\n",
       "      <th>revenue_cummulativeB</th>\n",
       "    </tr>\n",
       "  </thead>\n",
       "  <tbody>\n",
       "    <tr>\n",
       "      <th>0</th>\n",
       "      <td>2019-08-01</td>\n",
       "      <td>21</td>\n",
       "      <td>101217</td>\n",
       "    </tr>\n",
       "    <tr>\n",
       "      <th>1</th>\n",
       "      <td>2019-08-02</td>\n",
       "      <td>45</td>\n",
       "      <td>266748</td>\n",
       "    </tr>\n",
       "    <tr>\n",
       "      <th>2</th>\n",
       "      <td>2019-08-03</td>\n",
       "      <td>61</td>\n",
       "      <td>380996</td>\n",
       "    </tr>\n",
       "    <tr>\n",
       "      <th>3</th>\n",
       "      <td>2019-08-04</td>\n",
       "      <td>78</td>\n",
       "      <td>489567</td>\n",
       "    </tr>\n",
       "    <tr>\n",
       "      <th>4</th>\n",
       "      <td>2019-08-05</td>\n",
       "      <td>101</td>\n",
       "      <td>581995</td>\n",
       "    </tr>\n",
       "  </tbody>\n",
       "</table>\n",
       "</div>"
      ],
      "text/plain": [
       "         date  orders_cummulativeB  revenue_cummulativeB\n",
       "0  2019-08-01                   21                101217\n",
       "1  2019-08-02                   45                266748\n",
       "2  2019-08-03                   61                380996\n",
       "3  2019-08-04                   78                489567\n",
       "4  2019-08-05                  101                581995"
      ]
     },
     "execution_count": 39,
     "metadata": {},
     "output_type": "execute_result"
    }
   ],
   "source": [
    "# найдем накопленные количество заказов и выручку за каждый день в группе B\n",
    "ordersB_cummulative = ordersB_daily.apply(\n",
    "    lambda x: ordersB_daily[ordersB_daily['date'] <= x['date']].agg(\n",
    "        {'date': 'max', 'orders_per_dateB': 'sum', 'revenue_per_dateB': 'sum'}\n",
    "    ),\n",
    "    axis=1,\n",
    ").sort_values(by=['date'])\n",
    "ordersB_cummulative.columns = [\n",
    "    'date',\n",
    "    'orders_cummulativeB',\n",
    "    'revenue_cummulativeB',\n",
    "]\n",
    "ordersB_cummulative.head(5)"
   ]
  },
  {
   "cell_type": "code",
   "execution_count": 40,
   "id": "6e94c289",
   "metadata": {},
   "outputs": [
    {
     "data": {
      "text/html": [
       "<div>\n",
       "<style scoped>\n",
       "    .dataframe tbody tr th:only-of-type {\n",
       "        vertical-align: middle;\n",
       "    }\n",
       "\n",
       "    .dataframe tbody tr th {\n",
       "        vertical-align: top;\n",
       "    }\n",
       "\n",
       "    .dataframe thead th {\n",
       "        text-align: right;\n",
       "    }\n",
       "</style>\n",
       "<table border=\"1\" class=\"dataframe\">\n",
       "  <thead>\n",
       "    <tr style=\"text-align: right;\">\n",
       "      <th></th>\n",
       "      <th>date</th>\n",
       "      <th>orders_per_dateA</th>\n",
       "      <th>revenue_per_dateA</th>\n",
       "      <th>orders_per_dateB</th>\n",
       "      <th>revenue_per_dateB</th>\n",
       "      <th>orders_cummulativeA</th>\n",
       "      <th>revenue_cummulativeA</th>\n",
       "      <th>orders_cummulativeB</th>\n",
       "      <th>revenue_cummulativeB</th>\n",
       "      <th>visitors_per_dateA</th>\n",
       "      <th>visitors_per_dateB</th>\n",
       "      <th>visitors_cummulativeA</th>\n",
       "      <th>visitors_cummulativeB</th>\n",
       "    </tr>\n",
       "  </thead>\n",
       "  <tbody>\n",
       "    <tr>\n",
       "      <th>0</th>\n",
       "      <td>2019-08-01</td>\n",
       "      <td>24</td>\n",
       "      <td>148579</td>\n",
       "      <td>21</td>\n",
       "      <td>101217</td>\n",
       "      <td>24</td>\n",
       "      <td>148579</td>\n",
       "      <td>21</td>\n",
       "      <td>101217</td>\n",
       "      <td>719</td>\n",
       "      <td>713</td>\n",
       "      <td>719</td>\n",
       "      <td>713</td>\n",
       "    </tr>\n",
       "    <tr>\n",
       "      <th>1</th>\n",
       "      <td>2019-08-02</td>\n",
       "      <td>20</td>\n",
       "      <td>93822</td>\n",
       "      <td>24</td>\n",
       "      <td>165531</td>\n",
       "      <td>44</td>\n",
       "      <td>242401</td>\n",
       "      <td>45</td>\n",
       "      <td>266748</td>\n",
       "      <td>619</td>\n",
       "      <td>581</td>\n",
       "      <td>1338</td>\n",
       "      <td>1294</td>\n",
       "    </tr>\n",
       "    <tr>\n",
       "      <th>2</th>\n",
       "      <td>2019-08-03</td>\n",
       "      <td>24</td>\n",
       "      <td>112473</td>\n",
       "      <td>16</td>\n",
       "      <td>114248</td>\n",
       "      <td>68</td>\n",
       "      <td>354874</td>\n",
       "      <td>61</td>\n",
       "      <td>380996</td>\n",
       "      <td>507</td>\n",
       "      <td>509</td>\n",
       "      <td>1845</td>\n",
       "      <td>1803</td>\n",
       "    </tr>\n",
       "    <tr>\n",
       "      <th>3</th>\n",
       "      <td>2019-08-04</td>\n",
       "      <td>16</td>\n",
       "      <td>70825</td>\n",
       "      <td>17</td>\n",
       "      <td>108571</td>\n",
       "      <td>84</td>\n",
       "      <td>425699</td>\n",
       "      <td>78</td>\n",
       "      <td>489567</td>\n",
       "      <td>717</td>\n",
       "      <td>770</td>\n",
       "      <td>2562</td>\n",
       "      <td>2573</td>\n",
       "    </tr>\n",
       "    <tr>\n",
       "      <th>4</th>\n",
       "      <td>2019-08-05</td>\n",
       "      <td>25</td>\n",
       "      <td>124218</td>\n",
       "      <td>23</td>\n",
       "      <td>92428</td>\n",
       "      <td>109</td>\n",
       "      <td>549917</td>\n",
       "      <td>101</td>\n",
       "      <td>581995</td>\n",
       "      <td>756</td>\n",
       "      <td>707</td>\n",
       "      <td>3318</td>\n",
       "      <td>3280</td>\n",
       "    </tr>\n",
       "  </tbody>\n",
       "</table>\n",
       "</div>"
      ],
      "text/plain": [
       "         date  orders_per_dateA  revenue_per_dateA  orders_per_dateB  revenue_per_dateB  orders_cummulativeA  revenue_cummulativeA  orders_cummulativeB  revenue_cummulativeB  visitors_per_dateA  visitors_per_dateB  visitors_cummulativeA  visitors_cummulativeB\n",
       "0  2019-08-01                24             148579                21             101217                   24                148579                   21                101217                 719                 713                    719                    713\n",
       "1  2019-08-02                20              93822                24             165531                   44                242401                   45                266748                 619                 581                   1338                   1294\n",
       "2  2019-08-03                24             112473                16             114248                   68                354874                   61                380996                 507                 509                   1845                   1803\n",
       "3  2019-08-04                16              70825                17             108571                   84                425699                   78                489567                 717                 770                   2562                   2573\n",
       "4  2019-08-05                25             124218                23              92428                  109                549917                  101                581995                 756                 707                   3318                   3280"
      ]
     },
     "execution_count": 40,
     "metadata": {},
     "output_type": "execute_result"
    }
   ],
   "source": [
    "# соединим все 8 таблиц методом merge() по дате\n",
    "data = (\n",
    "    ordersA_daily.merge(\n",
    "        ordersB_daily, left_on='date', right_on='date', how='left'\n",
    "    )\n",
    "    .merge(ordersA_cummulative, left_on='date', right_on='date', how='left')\n",
    "    .merge(ordersB_cummulative, left_on='date', right_on='date', how='left')\n",
    "    .merge(visitorsA_daily, left_on='date', right_on='date', how='left')\n",
    "    .merge(visitorsB_daily, left_on='date', right_on='date', how='left')\n",
    "    .merge(visitorsA_cummulative, left_on='date', right_on='date', how='left')\n",
    "    .merge(visitorsB_cummulative, left_on='date', right_on='date', how='left')\n",
    ")\n",
    "data.head(5)"
   ]
  },
  {
   "cell_type": "markdown",
   "id": "afee1417",
   "metadata": {},
   "source": [
    "Посчитаем статистическую значимость различия в среднем количестве заказов между группами.\n",
    "\n",
    "Создадим переменные `orders_by_usersA` и `orders_by_usersB` со столбцами `user_id`, `orders`. В них для пользователей, которые заказывали хотя бы 1 раз, укажем число совершённых заказов. "
   ]
  },
  {
   "cell_type": "code",
   "execution_count": 41,
   "id": "b56f9feb",
   "metadata": {},
   "outputs": [
    {
     "data": {
      "text/html": [
       "<div>\n",
       "<style scoped>\n",
       "    .dataframe tbody tr th:only-of-type {\n",
       "        vertical-align: middle;\n",
       "    }\n",
       "\n",
       "    .dataframe tbody tr th {\n",
       "        vertical-align: top;\n",
       "    }\n",
       "\n",
       "    .dataframe thead th {\n",
       "        text-align: right;\n",
       "    }\n",
       "</style>\n",
       "<table border=\"1\" class=\"dataframe\">\n",
       "  <thead>\n",
       "    <tr style=\"text-align: right;\">\n",
       "      <th></th>\n",
       "      <th>user_id</th>\n",
       "      <th>orders</th>\n",
       "    </tr>\n",
       "  </thead>\n",
       "  <tbody>\n",
       "    <tr>\n",
       "      <th>0</th>\n",
       "      <td>8300375</td>\n",
       "      <td>1</td>\n",
       "    </tr>\n",
       "    <tr>\n",
       "      <th>1</th>\n",
       "      <td>11685486</td>\n",
       "      <td>1</td>\n",
       "    </tr>\n",
       "    <tr>\n",
       "      <th>2</th>\n",
       "      <td>54447517</td>\n",
       "      <td>1</td>\n",
       "    </tr>\n",
       "    <tr>\n",
       "      <th>3</th>\n",
       "      <td>66685450</td>\n",
       "      <td>1</td>\n",
       "    </tr>\n",
       "    <tr>\n",
       "      <th>4</th>\n",
       "      <td>78758296</td>\n",
       "      <td>1</td>\n",
       "    </tr>\n",
       "  </tbody>\n",
       "</table>\n",
       "</div>"
      ],
      "text/plain": [
       "    user_id  orders\n",
       "0   8300375       1\n",
       "1  11685486       1\n",
       "2  54447517       1\n",
       "3  66685450       1\n",
       "4  78758296       1"
      ]
     },
     "execution_count": 41,
     "metadata": {},
     "output_type": "execute_result"
    }
   ],
   "source": [
    "orders_by_usersA = (\n",
    "    orders[orders['group'] == 'A']\n",
    "    .groupby('visitor_id', as_index=False)\n",
    "    .agg({'transaction_id': pd.Series.nunique})\n",
    ")\n",
    "orders_by_usersA.columns = ['user_id', 'orders']\n",
    "orders_by_usersA.head(5)"
   ]
  },
  {
   "cell_type": "code",
   "execution_count": 42,
   "id": "f1087e1a",
   "metadata": {},
   "outputs": [
    {
     "data": {
      "text/html": [
       "<div>\n",
       "<style scoped>\n",
       "    .dataframe tbody tr th:only-of-type {\n",
       "        vertical-align: middle;\n",
       "    }\n",
       "\n",
       "    .dataframe tbody tr th {\n",
       "        vertical-align: top;\n",
       "    }\n",
       "\n",
       "    .dataframe thead th {\n",
       "        text-align: right;\n",
       "    }\n",
       "</style>\n",
       "<table border=\"1\" class=\"dataframe\">\n",
       "  <thead>\n",
       "    <tr style=\"text-align: right;\">\n",
       "      <th></th>\n",
       "      <th>user_id</th>\n",
       "      <th>orders</th>\n",
       "    </tr>\n",
       "  </thead>\n",
       "  <tbody>\n",
       "    <tr>\n",
       "      <th>0</th>\n",
       "      <td>5114589</td>\n",
       "      <td>1</td>\n",
       "    </tr>\n",
       "    <tr>\n",
       "      <th>1</th>\n",
       "      <td>6958315</td>\n",
       "      <td>1</td>\n",
       "    </tr>\n",
       "    <tr>\n",
       "      <th>2</th>\n",
       "      <td>8300375</td>\n",
       "      <td>1</td>\n",
       "    </tr>\n",
       "    <tr>\n",
       "      <th>3</th>\n",
       "      <td>39475350</td>\n",
       "      <td>1</td>\n",
       "    </tr>\n",
       "    <tr>\n",
       "      <th>4</th>\n",
       "      <td>47206413</td>\n",
       "      <td>1</td>\n",
       "    </tr>\n",
       "  </tbody>\n",
       "</table>\n",
       "</div>"
      ],
      "text/plain": [
       "    user_id  orders\n",
       "0   5114589       1\n",
       "1   6958315       1\n",
       "2   8300375       1\n",
       "3  39475350       1\n",
       "4  47206413       1"
      ]
     },
     "execution_count": 42,
     "metadata": {},
     "output_type": "execute_result"
    }
   ],
   "source": [
    "orders_by_usersB = (\n",
    "    orders[orders['group'] == 'B']\n",
    "    .groupby('visitor_id', as_index=False)\n",
    "    .agg({'transaction_id': pd.Series.nunique})\n",
    ")\n",
    "orders_by_usersB.columns = ['user_id', 'orders']\n",
    "orders_by_usersB.head(5)"
   ]
  },
  {
   "cell_type": "markdown",
   "id": "ef27e8ad",
   "metadata": {},
   "source": [
    "Объявим переменные `sampleA` и `sampleB`, в которых пользователям из разных групп будет соответствовать количество заказов. Тем, кто ничего не заказал, будут соответствовать нули. \n",
    "\n",
    "Переменная sampleA должна состоять из двух частей:\n",
    "1. Список с количеством заказов для каждого из пользователей: orders_by_usersA['orders'].\n",
    "2. Нули для пользователей, которые ничего не заказывали. Их количество равно разнице между суммой посетителей и количеством записей о заказах: data['visitors_per_dateA'].sum() - len(orders_by_usersA['orders']). "
   ]
  },
  {
   "cell_type": "code",
   "execution_count": 43,
   "id": "7fde3f05",
   "metadata": {},
   "outputs": [
    {
     "data": {
      "text/plain": [
       "0        1\n",
       "1        1\n",
       "2        1\n",
       "3        1\n",
       "4        1\n",
       "        ..\n",
       "18228    0\n",
       "18229    0\n",
       "18230    0\n",
       "18231    0\n",
       "18232    0\n",
       "Name: orders, Length: 18736, dtype: int64"
      ]
     },
     "execution_count": 43,
     "metadata": {},
     "output_type": "execute_result"
    }
   ],
   "source": [
    "# список индексов создаем функцией np.arange()\n",
    "# последовательности объединяем функцией pd.concat() \n",
    "sampleA = (\n",
    "    pd.concat([orders_by_usersA['orders'],pd.Series(0, index=np.arange(data['visitors_per_dateA'].sum()\\\n",
    "                                                                     - len(orders_by_usersA['orders'])), \n",
    "                                                  name='orders')],axis=0)\n",
    ")\n",
    "sampleA"
   ]
  },
  {
   "cell_type": "markdown",
   "id": "58a7baa1",
   "metadata": {},
   "source": [
    "То же делаем для `sampleB`"
   ]
  },
  {
   "cell_type": "code",
   "execution_count": 44,
   "id": "6a5bb0d2",
   "metadata": {},
   "outputs": [
    {
     "data": {
      "text/plain": [
       "0        1\n",
       "1        1\n",
       "2        1\n",
       "3        1\n",
       "4        1\n",
       "        ..\n",
       "18325    0\n",
       "18326    0\n",
       "18327    0\n",
       "18328    0\n",
       "18329    0\n",
       "Name: orders, Length: 18916, dtype: int64"
      ]
     },
     "execution_count": 44,
     "metadata": {},
     "output_type": "execute_result"
    }
   ],
   "source": [
    "sampleB = (\n",
    "    pd.concat([orders_by_usersB['orders'],pd.Series(0, index=np.arange(data['visitors_per_dateB'].sum()\\\n",
    "                                                                     - len(orders_by_usersB['orders'])), \n",
    "                                                  name='orders')],axis=0)\n",
    ")\n",
    "sampleB"
   ]
  },
  {
   "cell_type": "markdown",
   "id": "22193766",
   "metadata": {},
   "source": [
    "Применим критерий и отформатируем p-value, округлив его до трёх знаков после запятой.\n",
    "\n",
    "Найдём среднее в выборках `sampleA` и `sampleB` методом `mean()`\n",
    "\n",
    "В случае, когда в данных есть большие (по сравнению с нормальным распределением) выбросы, алгебраические метрики работают плохо: одно выбивающееся значение существенно влияет на результат, поэтому в этом случае следует  рассмотреть тест, основанный на структурном подходе, поэтому для этого исследования применим тест Манна-Уитни"
   ]
  },
  {
   "cell_type": "code",
   "execution_count": 45,
   "id": "26a0c2de",
   "metadata": {},
   "outputs": [
    {
     "name": "stdout",
     "output_type": "stream",
     "text": [
      "P-value: 0.017\n",
      "По «сырым» данным различия в среднем количестве заказов между группами есть\n"
     ]
    }
   ],
   "source": [
    "alpha = 0.05\n",
    "results = stats.mannwhitneyu(sampleA, sampleB)\n",
    "print('P-value: {0:.3f}'.format(results.pvalue))\n",
    "if results.pvalue > alpha:\n",
    "    print('По «сырым» данным различий в среднем количестве заказов между группами нет')\n",
    "else:\n",
    "    print('По «сырым» данным различия в среднем количестве заказов между группами есть')"
   ]
  },
  {
   "cell_type": "code",
   "execution_count": 46,
   "id": "cb04384f",
   "metadata": {},
   "outputs": [
    {
     "name": "stdout",
     "output_type": "stream",
     "text": [
      "Относительный прирост среднего числа заказов группы B: 0.138\n"
     ]
    }
   ],
   "source": [
    "print(\"Относительный прирост среднего числа заказов группы B: {0:.3f}\".format(sampleB.mean() / sampleA.mean() - 1))"
   ]
  },
  {
   "cell_type": "markdown",
   "id": "e94fa374",
   "metadata": {},
   "source": [
    "**По «сырым» данным имеются различия в среднем числе заказов групп A и B. \n",
    "Первое число — p-value = 0.017 меньше 0.05. Значит, нулевую гипотезу о том, что статистически значимых различий в среднем числе заказов между группами нет, отвергаем в пользу альтернативной. Относительный выигрыш группы B к группе А равен 13.8% — второе число в выводе.**"
   ]
  },
  {
   "cell_type": "markdown",
   "id": "c60d13e9",
   "metadata": {},
   "source": [
    "### Статистическая значимость различий в среднем чеке заказа между группами по «сырым» данным\n",
    "\n",
    "Сформулируем гипотезы:\n",
    "- Нулевая гипотеза: различий в среднем чеке между группами нет. \n",
    "- Альтернативная гипотеза: различия в среднем чеке между группами есть. \n",
    "\n",
    "Чтобы рассчитать статистическую значимость различий в среднем чеке, передадим критерию `mannwhitneyu()` данные о выручке с заказов. "
   ]
  },
  {
   "cell_type": "code",
   "execution_count": 47,
   "id": "9913b49e",
   "metadata": {},
   "outputs": [
    {
     "name": "stdout",
     "output_type": "stream",
     "text": [
      "P-value: 0.729\n",
      "По «сырым» данным различий в среднем чеке между группами нет\n"
     ]
    }
   ],
   "source": [
    "results = stats.mannwhitneyu(orders[orders['group']=='A']['revenue'],orders[orders['group']=='B']['revenue'])\n",
    "print('P-value: {0:.3f}'.format(results.pvalue))\n",
    "if results.pvalue > alpha:\n",
    "    print('По «сырым» данным различий в среднем чеке между группами нет')\n",
    "else:\n",
    "    print('По «сырым» данным различия в среднем чеке между группами есть')"
   ]
  },
  {
   "cell_type": "code",
   "execution_count": 48,
   "id": "54d64ce6",
   "metadata": {},
   "outputs": [
    {
     "name": "stdout",
     "output_type": "stream",
     "text": [
      "Относительные различия в среднем чеке между группами: 0.259\n"
     ]
    }
   ],
   "source": [
    "print('Относительные различия в среднем чеке между группами: {0:.3f}'.format(orders[orders['group']=='B']['revenue']\n",
    "                       .mean()/orders[orders['group']=='A']['revenue'].mean()-1))"
   ]
  },
  {
   "cell_type": "markdown",
   "id": "a6056d22",
   "metadata": {},
   "source": [
    "**P-value значительно больше 0.05. Значит, по \"сырым\" данным причин отвергать нулевую гипотезу и считать, что в среднем чеке есть различия, нет. Относительный прирост группы В к конверсии группы А равен 25,9%.**"
   ]
  },
  {
   "cell_type": "markdown",
   "id": "2a566969",
   "metadata": {},
   "source": [
    "### Статистическая значимость различий в среднем количестве заказов на посетителя между группами по «очищенным» данным\n",
    "\n",
    "Примем за аномальных пользователей 99% перцентиля. Так мы уберём 1% пользователей с наибольшим числом заказов и 1% пользователей с дорогими заказами. "
   ]
  },
  {
   "cell_type": "code",
   "execution_count": 49,
   "id": "24a69aa4",
   "metadata": {},
   "outputs": [
    {
     "data": {
      "text/plain": [
       "1099     148427295\n",
       "949      887908475\n",
       "744      888512513\n",
       "1103    1164614297\n",
       "1136    1307669133\n",
       "dtype: int64"
      ]
     },
     "execution_count": 49,
     "metadata": {},
     "output_type": "execute_result"
    }
   ],
   "source": [
    "user_with_many_orders = pd.concat(\n",
    "    [\n",
    "        orders_by_usersA[orders_by_usersA['orders'] > np.percentile(orders_by_users['orders'], 99)]['user_id'],\n",
    "        orders_by_usersB[orders_by_usersB['orders'] > np.percentile(orders_by_users['orders'], 99)]['user_id'],\n",
    "    ],\n",
    "    axis=0,\n",
    ")\n",
    "users_with_expensive_orders = orders[orders['revenue'] > np.percentile(orders['revenue'], 99)]['visitor_id']\n",
    "ab_normal_users = (\n",
    "    pd.concat([user_with_many_orders, users_with_expensive_orders], axis=0)\n",
    "    .drop_duplicates()\n",
    "    .sort_values()\n",
    ")\n",
    "ab_normal_users.head(5)"
   ]
  },
  {
   "cell_type": "code",
   "execution_count": 50,
   "id": "457ce8c5",
   "metadata": {},
   "outputs": [
    {
     "data": {
      "text/plain": [
       "15"
      ]
     },
     "execution_count": 50,
     "metadata": {},
     "output_type": "execute_result"
    }
   ],
   "source": [
    "# узнаем, сколько всего аномальных пользователей атрибутом shape\n",
    "ab_normal_users.shape[0]"
   ]
  },
  {
   "cell_type": "markdown",
   "id": "9a5b0166",
   "metadata": {},
   "source": [
    "Всего 15 пользователей, посмотрим, как их действия повлияли на общий результат теста. Посчитаем статистическую значимость различий в среднем количестве заказов между группами теста по \"очищенным\" данным. Сначала подготовим выборки количества заказов по пользователям по группам теста:"
   ]
  },
  {
   "cell_type": "code",
   "execution_count": 51,
   "id": "a2a1cfe9",
   "metadata": {},
   "outputs": [
    {
     "data": {
      "text/plain": [
       "0    1\n",
       "1    1\n",
       "2    1\n",
       "3    1\n",
       "4    1\n",
       "Name: orders, dtype: int64"
      ]
     },
     "execution_count": 51,
     "metadata": {},
     "output_type": "execute_result"
    }
   ],
   "source": [
    "sampleA_filtered = pd.concat(\n",
    "    [\n",
    "        orders_by_usersA[\n",
    "            np.logical_not(orders_by_usersA['user_id'].isin(ab_normal_users))\n",
    "        ]['orders'],\n",
    "        pd.Series(\n",
    "            0,\n",
    "            index=np.arange(\n",
    "                data['visitors_per_dateA'].sum() - len(orders_by_usersA['orders'])\n",
    "            ),\n",
    "            name='orders',\n",
    "        ),\n",
    "    ],\n",
    "    axis=0,\n",
    ")\n",
    "sampleA_filtered.head(5)"
   ]
  },
  {
   "cell_type": "code",
   "execution_count": 52,
   "id": "24febb43",
   "metadata": {},
   "outputs": [
    {
     "data": {
      "text/plain": [
       "0    1\n",
       "1    1\n",
       "2    1\n",
       "3    1\n",
       "4    1\n",
       "Name: orders, dtype: int64"
      ]
     },
     "execution_count": 52,
     "metadata": {},
     "output_type": "execute_result"
    }
   ],
   "source": [
    "sampleB_filtered = pd.concat(\n",
    "    [\n",
    "        orders_by_usersB[\n",
    "            np.logical_not(orders_by_usersB['user_id'].isin(ab_normal_users))\n",
    "        ]['orders'],\n",
    "        pd.Series(\n",
    "            0,\n",
    "            index=np.arange(\n",
    "                data['visitors_per_dateB'].sum() - len(orders_by_usersB['orders'])\n",
    "            ),\n",
    "            name='orders',\n",
    "        ),\n",
    "    ],\n",
    "    axis=0,\n",
    ")\n",
    "sampleB_filtered.head(5)"
   ]
  },
  {
   "cell_type": "markdown",
   "id": "d58cc651",
   "metadata": {},
   "source": [
    "Применим статистический критерий Манна-Уитни к полученным выборкам:"
   ]
  },
  {
   "cell_type": "code",
   "execution_count": 53,
   "id": "d2817342",
   "metadata": {},
   "outputs": [
    {
     "name": "stdout",
     "output_type": "stream",
     "text": [
      "P-value: 0.014\n",
      "По очищенным данным различия в среднем количестве заказов между группами есть\n"
     ]
    }
   ],
   "source": [
    "results = stats.mannwhitneyu(sampleA_filtered, sampleB_filtered)\n",
    "print('P-value: {0:.3f}'.format(results.pvalue))\n",
    "if results.pvalue > alpha:\n",
    "    print('По очищенным данным различий в среднем количестве заказов между группами нет')\n",
    "else:\n",
    "    print('По очищенным данным различия в среднем количестве заказов между группами есть')"
   ]
  },
  {
   "cell_type": "code",
   "execution_count": 54,
   "id": "db081b0d",
   "metadata": {},
   "outputs": [
    {
     "name": "stdout",
     "output_type": "stream",
     "text": [
      "Относительный прирост среднего числа заказов группы B: 0.153\n"
     ]
    }
   ],
   "source": [
    "print(\"Относительный прирост среднего числа заказов группы B: {0:.3f}\"\n",
    "      .format(sampleB_filtered.mean() / sampleA_filtered.mean() - 1))"
   ]
  },
  {
   "cell_type": "markdown",
   "id": "26229608",
   "metadata": {},
   "source": [
    "**По \"очищенным\" данным различия в среднем количестве заказов между группами есть, а относительный прирост группы В по отношению к А составляет 15,3%.**"
   ]
  },
  {
   "cell_type": "markdown",
   "id": "d7b2a951",
   "metadata": {},
   "source": [
    "### Статистическая значимость различий в среднем чеке заказа между группами по «очищенным» данным"
   ]
  },
  {
   "cell_type": "code",
   "execution_count": 55,
   "id": "52ccc626",
   "metadata": {},
   "outputs": [
    {
     "name": "stdout",
     "output_type": "stream",
     "text": [
      "P-value: 0.851\n",
      "По очищенным данным различий в среднем чеке между группами нет\n"
     ]
    }
   ],
   "source": [
    "results = stats.mannwhitneyu(\n",
    "    orders[np.logical_and(\n",
    "        orders['group']=='A', np.logical_not(orders['visitor_id'].isin(ab_normal_users)),\n",
    "    )]['revenue'], \n",
    "    orders[np.logical_and(\n",
    "        orders['group']=='B', np.logical_not(orders['visitor_id'].isin(ab_normal_users)),\n",
    "    )]['revenue']\n",
    ")\n",
    "print('P-value: {0:.3f}'.format(results.pvalue))\n",
    "if results.pvalue > alpha:\n",
    "    print('По очищенным данным различий в среднем чеке между группами нет')\n",
    "else:\n",
    "    print('По очищенным данным различия в среднем чеке между группами есть')"
   ]
  },
  {
   "cell_type": "code",
   "execution_count": 56,
   "id": "6f145e9f",
   "metadata": {},
   "outputs": [
    {
     "name": "stdout",
     "output_type": "stream",
     "text": [
      "Относительные различия в среднем чеке между группами: -0.006\n"
     ]
    }
   ],
   "source": [
    "print('Относительные различия в среднем чеке между группами: {0:.3f}'\n",
    "      .format(\n",
    "          orders[np.logical_and(\n",
    "        orders['group']=='B', np.logical_not(orders['visitor_id'].isin(ab_normal_users)),\n",
    "    )]['revenue']\n",
    "                       .mean()/\n",
    "          orders[np.logical_and(\n",
    "        orders['group']=='A', np.logical_not(orders['visitor_id'].isin(ab_normal_users)),\n",
    "    )]['revenue']\n",
    "          .mean()-1)\n",
    "     )"
   ]
  },
  {
   "cell_type": "markdown",
   "id": "ce8a1f89",
   "metadata": {},
   "source": [
    "**По \"очищенным\" данным различий в среднем чеке между группами нет, а относительные различия в чеке между группами составляют 0,6% в пользу группы А, хотя до очистки данных средний чек группы В превышал на 30%, значит аномальные значения в основном были в группе B.**"
   ]
  },
  {
   "cell_type": "markdown",
   "id": "1e2e3237",
   "metadata": {},
   "source": [
    "### Принятие решений по результатам теста"
   ]
  },
  {
   "cell_type": "markdown",
   "id": "11f0282d",
   "metadata": {},
   "source": [
    "По результатам А/В-теста делаем следующие выводы:\n",
    "\n",
    "   - Есть статистически значимое различие по конверсии между группами как по сырым данным (относительный выигрыш группы B к группе А равен 13.8%), так и после фильтрации аномалий (относительный прирост группы В по отношению к А составляет 15,3%). \n",
    "   - По сырым данным и по очищенным нет статистически значимого различия по среднему чеку между группами (относительные различия в чеке между группами составляют 1,7% в пользу группы А, хотя до очистки данных средний чек группы В превышал на 30%).\n",
    "   - График различия конверсии между группами сообщает, что результаты группы B лучше группы A: зафиксировались на уровне выше 10% по отношению к А и имеют тенденцию к росту.\n",
    "   - График различия среднего чека колеблется: из-за него было принято решение о поиске аномалий. Сделать из этого графика определённые выводы нельзя.\n",
    "\n",
    "Исходя из фактов выше, принимаем решение: **остановить тест, признать его успешным в пользу группы В.**"
   ]
  },
  {
   "cell_type": "markdown",
   "id": "7fd4e9e1",
   "metadata": {},
   "source": [
    "**Общий вывод**\n",
    "\n",
    "Для проекта было предоставлено три файла: по гипотезам, заказам и пользователям.\n",
    "Данные в датафреймах хорошего качества: пропущенных данных и дубликатов не обнаружено. Были приведены названия столбцов к нижнему змеиному регистру.\n",
    "\n",
    "В файле с гипотезами было предоставлено 9 гипотез, для приритизации был выбран фреймворк RICE, т.к. он учитывает показатель reach, который показывает охват пользователей, которых затронет новое изменение. Таким образом самой приоритетной оказалась гипотеза: *Добавить форму подписки на все основные страницы, чтобы собрать базу клиентов для email-рассылок*\n",
    "\n",
    "Далее был проведен А/В-тест:\n",
    "- В обоих тестах выручка стабильно увеличивается, на протяжении всего времени выручка в группе В больше, при этом в этой группе имеется резкое увеличение выручки.\n",
    "- Средний чек в группе А меньше, но он стабилизовался, а в группе B был резкий скачок и потом он начал постепенно падать, а также по графику относитеьного изменения кумулятивного среднего чека в нескольких точках данные резко скачут, поэтому необходимо будет проверить их на аномалии. Это заставило задуматься о наличии аномалий в выборках.\n",
    "- Данные по среднему количеству заказов к концу теста стабилизировались, после первых пяти дней в группе B всегда в среднем больше заказов, чем в группе А.\n",
    "- Только в первые два дня группа А была в лидерах по среднему количеству заказов, а потом группа В вырвалась вперед и уже не уменьшалась по отношению к А, относительный прирост зафиксировался выше 10%.\n",
    "- Не более 5% пользователей оформляли больше чем 2 заказа. И не более 1% пользователей заказывали более четырех раз. Было принято решение выбрать 99% перцентиля за верхнюю границу числа заказов, и отсеять аномальных пользователей по ней.\n",
    "- Не более 5% заказов дороже 28 000 руб. и не более 1% дороже 58 233 руб. Поэтому аномалиями посчитали все заказы стоимостью выше 58 233 руб.\n",
    "- Есть статистически значимое различие по конверсии между группами как по сырым данным (относительный выигрыш группы B к группе А равен 13.8%), так и после фильтрации аномалий (относительный прирост группы В по отношению к А составляет 15,3%).\n",
    "- По сырым данным и по очищенным нет статистически значимого различия по среднему чеку между группами (относительные различия в чеке между группами составляют 1,7% в пользу группы А, хотя до очистки данных средний чек группы В превышал на 30%).\n",
    "\n",
    "Исходя из фактов выше, было принято решение: остановить тест, признать его успешным в пользу группы В."
   ]
  },
  {
   "cell_type": "code",
   "execution_count": null,
   "id": "60cc680c",
   "metadata": {},
   "outputs": [],
   "source": []
  }
 ],
 "metadata": {
  "ExecuteTimeLog": [
   {
    "duration": 1338,
    "start_time": "2024-08-01T06:16:09.661Z"
   },
   {
    "duration": 266,
    "start_time": "2024-08-01T06:16:11.001Z"
   },
   {
    "duration": 29,
    "start_time": "2024-08-01T06:16:11.269Z"
   },
   {
    "duration": 11,
    "start_time": "2024-08-01T06:16:11.300Z"
   },
   {
    "duration": 10,
    "start_time": "2024-08-01T06:16:11.314Z"
   },
   {
    "duration": 21,
    "start_time": "2024-08-01T06:16:11.326Z"
   },
   {
    "duration": 27,
    "start_time": "2024-08-01T06:16:11.349Z"
   },
   {
    "duration": 5,
    "start_time": "2024-08-01T06:16:11.378Z"
   },
   {
    "duration": 24,
    "start_time": "2024-08-01T06:16:11.385Z"
   },
   {
    "duration": 13,
    "start_time": "2024-08-01T06:16:11.411Z"
   },
   {
    "duration": 6,
    "start_time": "2024-08-01T06:16:11.426Z"
   },
   {
    "duration": 183,
    "start_time": "2024-08-01T06:16:11.446Z"
   },
   {
    "duration": 131,
    "start_time": "2024-08-01T06:16:11.631Z"
   },
   {
    "duration": 10,
    "start_time": "2024-08-01T06:16:11.765Z"
   },
   {
    "duration": 12,
    "start_time": "2024-08-01T06:16:11.776Z"
   },
   {
    "duration": 3,
    "start_time": "2024-08-01T06:16:11.790Z"
   },
   {
    "duration": 430,
    "start_time": "2024-08-01T06:16:11.795Z"
   },
   {
    "duration": 415,
    "start_time": "2024-08-01T06:16:12.227Z"
   },
   {
    "duration": 22,
    "start_time": "2024-08-01T06:16:12.646Z"
   },
   {
    "duration": 551,
    "start_time": "2024-08-01T06:16:12.670Z"
   },
   {
    "duration": 24,
    "start_time": "2024-08-01T06:16:13.224Z"
   },
   {
    "duration": 429,
    "start_time": "2024-08-01T06:16:13.250Z"
   },
   {
    "duration": 13,
    "start_time": "2024-08-01T06:16:13.681Z"
   },
   {
    "duration": 528,
    "start_time": "2024-08-01T06:16:13.695Z"
   },
   {
    "duration": 22,
    "start_time": "2024-08-01T06:16:14.224Z"
   },
   {
    "duration": 189,
    "start_time": "2024-08-01T06:16:14.247Z"
   },
   {
    "duration": 5,
    "start_time": "2024-08-01T06:16:14.438Z"
   },
   {
    "duration": 31,
    "start_time": "2024-08-01T06:16:14.446Z"
   },
   {
    "duration": 253,
    "start_time": "2024-08-01T06:16:14.479Z"
   },
   {
    "duration": 5,
    "start_time": "2024-08-01T06:16:14.734Z"
   },
   {
    "duration": 9,
    "start_time": "2024-08-01T06:16:14.746Z"
   },
   {
    "duration": 87,
    "start_time": "2024-08-01T06:16:14.757Z"
   },
   {
    "duration": 22,
    "start_time": "2024-08-01T06:16:14.846Z"
   },
   {
    "duration": 61,
    "start_time": "2024-08-01T06:16:14.870Z"
   },
   {
    "duration": 81,
    "start_time": "2024-08-01T06:16:14.933Z"
   },
   {
    "duration": 244,
    "start_time": "2024-08-01T06:16:15.016Z"
   },
   {
    "duration": 136,
    "start_time": "2024-08-01T06:16:15.262Z"
   },
   {
    "duration": 86,
    "start_time": "2024-08-01T06:16:15.401Z"
   },
   {
    "duration": 41,
    "start_time": "2024-08-01T06:16:15.489Z"
   },
   {
    "duration": 87,
    "start_time": "2024-08-01T06:16:15.532Z"
   },
   {
    "duration": 73,
    "start_time": "2024-08-01T06:16:15.623Z"
   },
   {
    "duration": 8,
    "start_time": "2024-08-01T06:16:15.697Z"
   },
   {
    "duration": 10,
    "start_time": "2024-08-01T06:16:15.707Z"
   },
   {
    "duration": 44,
    "start_time": "2024-08-01T06:16:15.718Z"
   },
   {
    "duration": 4,
    "start_time": "2024-08-01T06:16:15.764Z"
   },
   {
    "duration": 19,
    "start_time": "2024-08-01T06:16:15.769Z"
   },
   {
    "duration": 16,
    "start_time": "2024-08-01T06:16:15.789Z"
   },
   {
    "duration": 29,
    "start_time": "2024-08-01T06:16:15.806Z"
   },
   {
    "duration": 27,
    "start_time": "2024-08-01T06:16:15.837Z"
   },
   {
    "duration": 17,
    "start_time": "2024-08-01T06:16:15.866Z"
   },
   {
    "duration": 58,
    "start_time": "2024-08-01T06:16:15.885Z"
   },
   {
    "duration": 44,
    "start_time": "2024-08-01T06:16:15.946Z"
   },
   {
    "duration": 5,
    "start_time": "2024-08-01T06:16:15.992Z"
   },
   {
    "duration": 22,
    "start_time": "2024-08-01T06:16:15.998Z"
   },
   {
    "duration": 50,
    "start_time": "2024-08-01T06:16:16.022Z"
   },
   {
    "duration": 1373,
    "start_time": "2024-08-01T16:58:04.110Z"
   },
   {
    "duration": 277,
    "start_time": "2024-08-01T16:58:05.484Z"
   },
   {
    "duration": 33,
    "start_time": "2024-08-01T16:58:05.763Z"
   },
   {
    "duration": 15,
    "start_time": "2024-08-01T16:58:05.798Z"
   },
   {
    "duration": 16,
    "start_time": "2024-08-01T16:58:05.817Z"
   },
   {
    "duration": 15,
    "start_time": "2024-08-01T16:58:05.835Z"
   },
   {
    "duration": 37,
    "start_time": "2024-08-01T16:58:05.852Z"
   },
   {
    "duration": 5,
    "start_time": "2024-08-01T16:58:05.891Z"
   },
   {
    "duration": 19,
    "start_time": "2024-08-01T16:58:05.897Z"
   },
   {
    "duration": 14,
    "start_time": "2024-08-01T16:58:05.918Z"
   },
   {
    "duration": 9,
    "start_time": "2024-08-01T16:58:05.934Z"
   },
   {
    "duration": 211,
    "start_time": "2024-08-01T16:58:05.945Z"
   },
   {
    "duration": 138,
    "start_time": "2024-08-01T16:58:06.158Z"
   },
   {
    "duration": 14,
    "start_time": "2024-08-01T16:58:06.301Z"
   },
   {
    "duration": 17,
    "start_time": "2024-08-01T16:58:06.317Z"
   },
   {
    "duration": 4,
    "start_time": "2024-08-01T16:58:06.336Z"
   },
   {
    "duration": 468,
    "start_time": "2024-08-01T16:58:06.341Z"
   },
   {
    "duration": 395,
    "start_time": "2024-08-01T16:58:06.811Z"
   },
   {
    "duration": 12,
    "start_time": "2024-08-01T16:58:07.207Z"
   },
   {
    "duration": 569,
    "start_time": "2024-08-01T16:58:07.221Z"
   },
   {
    "duration": 11,
    "start_time": "2024-08-01T16:58:07.791Z"
   },
   {
    "duration": 462,
    "start_time": "2024-08-01T16:58:07.804Z"
   },
   {
    "duration": 23,
    "start_time": "2024-08-01T16:58:08.267Z"
   },
   {
    "duration": 529,
    "start_time": "2024-08-01T16:58:08.291Z"
   },
   {
    "duration": 13,
    "start_time": "2024-08-01T16:58:08.822Z"
   },
   {
    "duration": 393,
    "start_time": "2024-08-01T16:58:08.837Z"
   },
   {
    "duration": 59,
    "start_time": "2024-08-01T16:58:09.231Z"
   },
   {
    "duration": 20,
    "start_time": "2024-08-01T16:58:09.291Z"
   },
   {
    "duration": 414,
    "start_time": "2024-08-01T16:58:09.313Z"
   },
   {
    "duration": 59,
    "start_time": "2024-08-01T16:58:09.729Z"
   },
   {
    "duration": 14,
    "start_time": "2024-08-01T16:58:09.790Z"
   },
   {
    "duration": 110,
    "start_time": "2024-08-01T16:58:09.805Z"
   },
   {
    "duration": 70,
    "start_time": "2024-08-01T16:58:09.917Z"
   },
   {
    "duration": 108,
    "start_time": "2024-08-01T16:58:09.989Z"
   },
   {
    "duration": 26,
    "start_time": "2024-08-01T16:58:10.098Z"
   },
   {
    "duration": 103,
    "start_time": "2024-08-01T16:58:10.125Z"
   },
   {
    "duration": 20,
    "start_time": "2024-08-01T16:58:10.286Z"
   },
   {
    "duration": 105,
    "start_time": "2024-08-01T16:58:10.307Z"
   },
   {
    "duration": 78,
    "start_time": "2024-08-01T16:58:10.414Z"
   },
   {
    "duration": 98,
    "start_time": "2024-08-01T16:58:10.494Z"
   },
   {
    "duration": 91,
    "start_time": "2024-08-01T16:58:10.595Z"
   },
   {
    "duration": 8,
    "start_time": "2024-08-01T16:58:10.687Z"
   },
   {
    "duration": 12,
    "start_time": "2024-08-01T16:58:10.696Z"
   },
   {
    "duration": 27,
    "start_time": "2024-08-01T16:58:10.710Z"
   },
   {
    "duration": 4,
    "start_time": "2024-08-01T16:58:10.738Z"
   },
   {
    "duration": 13,
    "start_time": "2024-08-01T16:58:10.744Z"
   },
   {
    "duration": 7,
    "start_time": "2024-08-01T16:58:10.785Z"
   },
   {
    "duration": 11,
    "start_time": "2024-08-01T16:58:10.794Z"
   },
   {
    "duration": 6,
    "start_time": "2024-08-01T16:58:10.807Z"
   },
   {
    "duration": 9,
    "start_time": "2024-08-01T16:58:10.814Z"
   },
   {
    "duration": 14,
    "start_time": "2024-08-01T16:58:10.825Z"
   },
   {
    "duration": 60,
    "start_time": "2024-08-01T16:58:10.840Z"
   },
   {
    "duration": 4,
    "start_time": "2024-08-01T16:58:10.902Z"
   },
   {
    "duration": 15,
    "start_time": "2024-08-01T16:58:10.907Z"
   },
   {
    "duration": 9,
    "start_time": "2024-08-01T16:58:10.924Z"
   },
   {
    "duration": 91,
    "start_time": "2024-08-01T17:00:11.031Z"
   },
   {
    "duration": 11,
    "start_time": "2024-08-01T17:00:47.990Z"
   },
   {
    "duration": 12,
    "start_time": "2024-08-01T17:02:04.755Z"
   },
   {
    "duration": 11,
    "start_time": "2024-08-01T17:02:10.914Z"
   },
   {
    "duration": 4,
    "start_time": "2024-08-01T17:02:21.065Z"
   },
   {
    "duration": 144,
    "start_time": "2024-08-01T17:02:21.071Z"
   },
   {
    "duration": 25,
    "start_time": "2024-08-01T17:02:21.217Z"
   },
   {
    "duration": 53,
    "start_time": "2024-08-01T17:02:21.244Z"
   },
   {
    "duration": 80,
    "start_time": "2024-08-01T17:02:21.300Z"
   },
   {
    "duration": 64,
    "start_time": "2024-08-01T17:02:21.382Z"
   },
   {
    "duration": 86,
    "start_time": "2024-08-01T17:02:21.448Z"
   },
   {
    "duration": 15,
    "start_time": "2024-08-01T17:02:21.536Z"
   },
   {
    "duration": 60,
    "start_time": "2024-08-01T17:02:21.552Z"
   },
   {
    "duration": 96,
    "start_time": "2024-08-01T17:02:21.613Z"
   },
   {
    "duration": 58,
    "start_time": "2024-08-01T17:02:21.711Z"
   },
   {
    "duration": 212,
    "start_time": "2024-08-01T17:02:21.772Z"
   },
   {
    "duration": 121,
    "start_time": "2024-08-01T17:02:21.986Z"
   },
   {
    "duration": 39,
    "start_time": "2024-08-01T17:02:22.110Z"
   },
   {
    "duration": 36,
    "start_time": "2024-08-01T17:02:22.151Z"
   },
   {
    "duration": 19,
    "start_time": "2024-08-01T17:02:22.189Z"
   },
   {
    "duration": 391,
    "start_time": "2024-08-01T17:02:22.210Z"
   },
   {
    "duration": 464,
    "start_time": "2024-08-01T17:02:22.603Z"
   },
   {
    "duration": 18,
    "start_time": "2024-08-01T17:02:23.068Z"
   },
   {
    "duration": 464,
    "start_time": "2024-08-01T17:02:23.088Z"
   },
   {
    "duration": 11,
    "start_time": "2024-08-01T17:02:23.554Z"
   },
   {
    "duration": 398,
    "start_time": "2024-08-01T17:02:23.566Z"
   },
   {
    "duration": 28,
    "start_time": "2024-08-01T17:02:23.966Z"
   },
   {
    "duration": 715,
    "start_time": "2024-08-01T17:02:23.996Z"
   },
   {
    "duration": 10,
    "start_time": "2024-08-01T17:02:24.713Z"
   },
   {
    "duration": 387,
    "start_time": "2024-08-01T17:02:24.725Z"
   },
   {
    "duration": 5,
    "start_time": "2024-08-01T17:02:25.113Z"
   },
   {
    "duration": 66,
    "start_time": "2024-08-01T17:02:25.120Z"
   },
   {
    "duration": 400,
    "start_time": "2024-08-01T17:02:25.188Z"
   },
   {
    "duration": 4,
    "start_time": "2024-08-01T17:02:25.590Z"
   },
   {
    "duration": 33,
    "start_time": "2024-08-01T17:02:25.596Z"
   },
   {
    "duration": 72,
    "start_time": "2024-08-01T17:02:25.630Z"
   },
   {
    "duration": 8,
    "start_time": "2024-08-01T17:02:25.703Z"
   },
   {
    "duration": 54,
    "start_time": "2024-08-01T17:02:25.712Z"
   },
   {
    "duration": 47,
    "start_time": "2024-08-01T17:02:25.767Z"
   },
   {
    "duration": 70,
    "start_time": "2024-08-01T17:02:25.816Z"
   },
   {
    "duration": 41,
    "start_time": "2024-08-01T17:02:25.887Z"
   },
   {
    "duration": 87,
    "start_time": "2024-08-01T17:02:25.930Z"
   },
   {
    "duration": 73,
    "start_time": "2024-08-01T17:02:26.025Z"
   },
   {
    "duration": 83,
    "start_time": "2024-08-01T17:02:26.099Z"
   },
   {
    "duration": 102,
    "start_time": "2024-08-01T17:02:26.188Z"
   },
   {
    "duration": 6,
    "start_time": "2024-08-01T17:02:26.292Z"
   },
   {
    "duration": 13,
    "start_time": "2024-08-01T17:02:26.300Z"
   },
   {
    "duration": 25,
    "start_time": "2024-08-01T17:02:26.315Z"
   },
   {
    "duration": 5,
    "start_time": "2024-08-01T17:02:26.342Z"
   },
   {
    "duration": 31,
    "start_time": "2024-08-01T17:02:26.349Z"
   },
   {
    "duration": 7,
    "start_time": "2024-08-01T17:02:26.385Z"
   },
   {
    "duration": 85,
    "start_time": "2024-08-01T17:02:26.395Z"
   },
   {
    "duration": 8,
    "start_time": "2024-08-01T17:02:26.482Z"
   },
   {
    "duration": 8,
    "start_time": "2024-08-01T17:02:26.492Z"
   },
   {
    "duration": 10,
    "start_time": "2024-08-01T17:02:26.501Z"
   },
   {
    "duration": 29,
    "start_time": "2024-08-01T17:02:26.512Z"
   },
   {
    "duration": 4,
    "start_time": "2024-08-01T17:02:26.542Z"
   },
   {
    "duration": 27,
    "start_time": "2024-08-01T17:02:26.548Z"
   },
   {
    "duration": 8,
    "start_time": "2024-08-01T17:02:26.585Z"
   },
   {
    "duration": 12,
    "start_time": "2024-08-01T17:03:49.057Z"
   },
   {
    "duration": 12,
    "start_time": "2024-08-01T17:04:09.564Z"
   },
   {
    "duration": 13,
    "start_time": "2024-08-01T17:05:47.793Z"
   },
   {
    "duration": 12,
    "start_time": "2024-08-01T17:06:07.377Z"
   },
   {
    "duration": 182,
    "start_time": "2024-08-01T17:07:41.225Z"
   },
   {
    "duration": 179,
    "start_time": "2024-08-01T17:07:58.912Z"
   },
   {
    "duration": 190,
    "start_time": "2024-08-01T17:12:05.562Z"
   },
   {
    "duration": 180,
    "start_time": "2024-08-01T17:12:21.710Z"
   },
   {
    "duration": 22,
    "start_time": "2024-08-01T17:33:54.943Z"
   },
   {
    "duration": 6,
    "start_time": "2024-08-01T17:35:16.040Z"
   },
   {
    "duration": 5,
    "start_time": "2024-08-01T17:36:24.821Z"
   },
   {
    "duration": 4,
    "start_time": "2024-08-01T17:36:50.910Z"
   },
   {
    "duration": 5,
    "start_time": "2024-08-01T17:37:02.366Z"
   },
   {
    "duration": 12,
    "start_time": "2024-08-01T17:37:37.199Z"
   },
   {
    "duration": 4,
    "start_time": "2024-08-01T17:37:43.448Z"
   },
   {
    "duration": 8,
    "start_time": "2024-08-01T17:40:59.275Z"
   },
   {
    "duration": 7,
    "start_time": "2024-08-01T17:41:03.114Z"
   },
   {
    "duration": 23,
    "start_time": "2024-08-01T17:41:06.939Z"
   },
   {
    "duration": 3,
    "start_time": "2024-08-01T17:41:10.605Z"
   },
   {
    "duration": 11,
    "start_time": "2024-08-01T17:41:46.083Z"
   },
   {
    "duration": 8,
    "start_time": "2024-08-01T17:41:51.364Z"
   },
   {
    "duration": 47,
    "start_time": "2024-08-01T17:44:25.394Z"
   },
   {
    "duration": 4,
    "start_time": "2024-08-01T17:45:24.888Z"
   },
   {
    "duration": 3,
    "start_time": "2024-08-01T17:45:40.507Z"
   },
   {
    "duration": 11,
    "start_time": "2024-08-01T17:45:41.137Z"
   },
   {
    "duration": 12,
    "start_time": "2024-08-01T17:46:22.775Z"
   },
   {
    "duration": 16,
    "start_time": "2024-08-01T17:47:53.895Z"
   },
   {
    "duration": 14,
    "start_time": "2024-08-01T17:49:03.060Z"
   },
   {
    "duration": 12,
    "start_time": "2024-08-01T17:49:12.617Z"
   },
   {
    "duration": 48,
    "start_time": "2024-08-01T17:49:15.976Z"
   },
   {
    "duration": 51,
    "start_time": "2024-08-01T17:56:55.657Z"
   },
   {
    "duration": 4,
    "start_time": "2024-08-01T18:02:04.220Z"
   },
   {
    "duration": 1094,
    "start_time": "2024-08-01T18:04:36.642Z"
   },
   {
    "duration": 117,
    "start_time": "2024-08-01T18:04:37.738Z"
   },
   {
    "duration": 27,
    "start_time": "2024-08-01T18:04:37.856Z"
   },
   {
    "duration": 14,
    "start_time": "2024-08-01T18:04:37.884Z"
   },
   {
    "duration": 36,
    "start_time": "2024-08-01T18:04:37.901Z"
   },
   {
    "duration": 11,
    "start_time": "2024-08-01T18:04:37.938Z"
   },
   {
    "duration": 31,
    "start_time": "2024-08-01T18:04:37.951Z"
   },
   {
    "duration": 21,
    "start_time": "2024-08-01T18:04:37.983Z"
   },
   {
    "duration": 20,
    "start_time": "2024-08-01T18:04:38.006Z"
   },
   {
    "duration": 15,
    "start_time": "2024-08-01T18:04:38.028Z"
   },
   {
    "duration": 10,
    "start_time": "2024-08-01T18:04:38.044Z"
   },
   {
    "duration": 179,
    "start_time": "2024-08-01T18:04:38.056Z"
   },
   {
    "duration": 127,
    "start_time": "2024-08-01T18:04:38.237Z"
   },
   {
    "duration": 8,
    "start_time": "2024-08-01T18:04:38.367Z"
   },
   {
    "duration": 22,
    "start_time": "2024-08-01T18:04:38.384Z"
   },
   {
    "duration": 15,
    "start_time": "2024-08-01T18:04:38.408Z"
   },
   {
    "duration": 446,
    "start_time": "2024-08-01T18:04:38.424Z"
   },
   {
    "duration": 464,
    "start_time": "2024-08-01T18:04:38.872Z"
   },
   {
    "duration": 18,
    "start_time": "2024-08-01T18:04:39.337Z"
   },
   {
    "duration": 548,
    "start_time": "2024-08-01T18:04:39.357Z"
   },
   {
    "duration": 12,
    "start_time": "2024-08-01T18:04:39.908Z"
   },
   {
    "duration": 440,
    "start_time": "2024-08-01T18:04:39.922Z"
   },
   {
    "duration": 26,
    "start_time": "2024-08-01T18:04:40.363Z"
   },
   {
    "duration": 615,
    "start_time": "2024-08-01T18:04:40.395Z"
   },
   {
    "duration": 16,
    "start_time": "2024-08-01T18:04:41.012Z"
   },
   {
    "duration": 568,
    "start_time": "2024-08-01T18:04:41.030Z"
   },
   {
    "duration": 9,
    "start_time": "2024-08-01T18:04:41.600Z"
   },
   {
    "duration": 86,
    "start_time": "2024-08-01T18:04:41.611Z"
   },
   {
    "duration": 599,
    "start_time": "2024-08-01T18:04:41.699Z"
   },
   {
    "duration": 608,
    "start_time": "2024-08-01T18:04:42.300Z"
   },
   {
    "duration": 6,
    "start_time": "2024-08-01T18:04:42.913Z"
   },
   {
    "duration": 10,
    "start_time": "2024-08-01T18:04:42.920Z"
   },
   {
    "duration": 112,
    "start_time": "2024-08-01T18:04:42.931Z"
   },
   {
    "duration": 8,
    "start_time": "2024-08-01T18:04:43.045Z"
   },
   {
    "duration": 65,
    "start_time": "2024-08-01T18:04:43.054Z"
   },
   {
    "duration": 18,
    "start_time": "2024-08-01T18:04:43.121Z"
   },
   {
    "duration": 74,
    "start_time": "2024-08-01T18:04:43.141Z"
   },
   {
    "duration": 18,
    "start_time": "2024-08-01T18:04:43.216Z"
   },
   {
    "duration": 79,
    "start_time": "2024-08-01T18:04:43.235Z"
   },
   {
    "duration": 26,
    "start_time": "2024-08-01T18:04:43.316Z"
   },
   {
    "duration": 90,
    "start_time": "2024-08-01T18:04:43.346Z"
   },
   {
    "duration": 91,
    "start_time": "2024-08-01T18:04:43.438Z"
   },
   {
    "duration": 6,
    "start_time": "2024-08-01T18:04:43.531Z"
   },
   {
    "duration": 9,
    "start_time": "2024-08-01T18:04:43.538Z"
   },
   {
    "duration": 50,
    "start_time": "2024-08-01T18:04:43.548Z"
   },
   {
    "duration": 4,
    "start_time": "2024-08-01T18:04:43.604Z"
   },
   {
    "duration": 48,
    "start_time": "2024-08-01T18:04:43.611Z"
   },
   {
    "duration": 37,
    "start_time": "2024-08-01T18:04:43.661Z"
   },
   {
    "duration": 12,
    "start_time": "2024-08-01T18:04:43.699Z"
   },
   {
    "duration": 4,
    "start_time": "2024-08-01T18:04:43.713Z"
   },
   {
    "duration": 9,
    "start_time": "2024-08-01T18:04:43.719Z"
   },
   {
    "duration": 10,
    "start_time": "2024-08-01T18:04:43.729Z"
   },
   {
    "duration": 24,
    "start_time": "2024-08-01T18:04:43.741Z"
   },
   {
    "duration": 5,
    "start_time": "2024-08-01T18:04:43.797Z"
   },
   {
    "duration": 18,
    "start_time": "2024-08-01T18:04:43.803Z"
   },
   {
    "duration": 7,
    "start_time": "2024-08-01T18:04:43.823Z"
   }
  ],
  "kernelspec": {
   "display_name": "Python 3 (ipykernel)",
   "language": "python",
   "name": "python3"
  },
  "language_info": {
   "codemirror_mode": {
    "name": "ipython",
    "version": 3
   },
   "file_extension": ".py",
   "mimetype": "text/x-python",
   "name": "python",
   "nbconvert_exporter": "python",
   "pygments_lexer": "ipython3",
   "version": "3.11.8"
  },
  "toc": {
   "base_numbering": 1,
   "nav_menu": {},
   "number_sections": true,
   "sideBar": true,
   "skip_h1_title": true,
   "title_cell": "Table of Contents",
   "title_sidebar": "Contents",
   "toc_cell": true,
   "toc_position": {
    "height": "calc(100% - 180px)",
    "left": "10px",
    "top": "150px",
    "width": "165px"
   },
   "toc_section_display": true,
   "toc_window_display": true
  }
 },
 "nbformat": 4,
 "nbformat_minor": 5
}
