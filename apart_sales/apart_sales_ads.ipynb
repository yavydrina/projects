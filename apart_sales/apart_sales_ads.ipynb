{
 "cells": [
  {
   "cell_type": "markdown",
   "metadata": {
    "id": "-VFbjcb3Awb7"
   },
   "source": [
    "# Исследование объявлений о продаже квартир\n",
    "\n",
    "В нашем распоряжении данные сервиса Яндекс Недвижимость — архив объявлений о продаже квартир в Санкт-Петербурге и соседних населённых пунктах за несколько лет. Нужно определить рыночную стоимость объектов недвижимости. Для этого проведем исследовательский анализ данных и установим параметры, влияющие на цену объектов. Это позволит построить автоматизированную систему: она отследит аномалии и мошенническую деятельность.\n",
    "\n",
    "По каждой квартире на продажу доступны два вида данных. Первые вписаны пользователем, вторые — получены автоматически на основе картографических данных. Например, расстояние до центра, аэропорта и других объектов — эти данные автоматически получены из геосервисов. Количество парков и водоёмов также заполняется без участия пользователя."
   ]
  },
  {
   "cell_type": "markdown",
   "metadata": {},
   "source": [
    "Прежде, чем приступать к работе, наметим план.\n",
    "В первую очередь, прочитав и изучив предоставленный архив, необходимо произвести предобработку данных (проверить дубликаты, пропущенные значения, выбросы данных).\n",
    "Добавить в датафрейм дополнительные столбцы, которые помогут при анализе.\n",
    "Проверить скорость продажи квартир, а также определить различные факторы, влияющие на стоимость (и вообще,  понять, есть ли зависимость между различными параметрами)."
   ]
  },
  {
   "cell_type": "markdown",
   "metadata": {
    "id": "aeFLH07FAwb9"
   },
   "source": [
    "## Откройте файл с данными и изучите общую информацию"
   ]
  },
  {
   "cell_type": "code",
   "execution_count": 146,
   "metadata": {
    "id": "7MZxY65pAwb9"
   },
   "outputs": [
    {
     "name": "stdout",
     "output_type": "stream",
     "text": [
      "<class 'pandas.core.frame.DataFrame'>\n",
      "RangeIndex: 23699 entries, 0 to 23698\n",
      "Data columns (total 22 columns):\n",
      " #   Column                Non-Null Count  Dtype  \n",
      "---  ------                --------------  -----  \n",
      " 0   total_images          23699 non-null  int64  \n",
      " 1   last_price            23699 non-null  float64\n",
      " 2   total_area            23699 non-null  float64\n",
      " 3   first_day_exposition  23699 non-null  object \n",
      " 4   rooms                 23699 non-null  int64  \n",
      " 5   ceiling_height        14504 non-null  float64\n",
      " 6   floors_total          23613 non-null  float64\n",
      " 7   living_area           21796 non-null  float64\n",
      " 8   floor                 23699 non-null  int64  \n",
      " 9   is_apartment          2775 non-null   object \n",
      " 10  studio                23699 non-null  bool   \n",
      " 11  open_plan             23699 non-null  bool   \n",
      " 12  kitchen_area          21421 non-null  float64\n",
      " 13  balcony               12180 non-null  float64\n",
      " 14  locality_name         23650 non-null  object \n",
      " 15  airports_nearest      18157 non-null  float64\n",
      " 16  cityCenters_nearest   18180 non-null  float64\n",
      " 17  parks_around3000      18181 non-null  float64\n",
      " 18  parks_nearest         8079 non-null   float64\n",
      " 19  ponds_around3000      18181 non-null  float64\n",
      " 20  ponds_nearest         9110 non-null   float64\n",
      " 21  days_exposition       20518 non-null  float64\n",
      "dtypes: bool(2), float64(14), int64(3), object(3)\n",
      "memory usage: 3.7+ MB\n"
     ]
    }
   ],
   "source": [
    "import pandas as pd\n",
    "import matplotlib.pyplot as plt\n",
    "data = pd.read_csv('/datasets/real_estate_data.csv', sep='\\t')\n",
    "data.info()"
   ]
  },
  {
   "cell_type": "code",
   "execution_count": 147,
   "metadata": {},
   "outputs": [
    {
     "data": {
      "text/html": [
       "<div>\n",
       "<style scoped>\n",
       "    .dataframe tbody tr th:only-of-type {\n",
       "        vertical-align: middle;\n",
       "    }\n",
       "\n",
       "    .dataframe tbody tr th {\n",
       "        vertical-align: top;\n",
       "    }\n",
       "\n",
       "    .dataframe thead th {\n",
       "        text-align: right;\n",
       "    }\n",
       "</style>\n",
       "<table border=\"1\" class=\"dataframe\">\n",
       "  <thead>\n",
       "    <tr style=\"text-align: right;\">\n",
       "      <th></th>\n",
       "      <th>total_images</th>\n",
       "      <th>last_price</th>\n",
       "      <th>total_area</th>\n",
       "      <th>first_day_exposition</th>\n",
       "      <th>rooms</th>\n",
       "      <th>ceiling_height</th>\n",
       "      <th>floors_total</th>\n",
       "      <th>living_area</th>\n",
       "      <th>floor</th>\n",
       "      <th>is_apartment</th>\n",
       "      <th>...</th>\n",
       "      <th>kitchen_area</th>\n",
       "      <th>balcony</th>\n",
       "      <th>locality_name</th>\n",
       "      <th>airports_nearest</th>\n",
       "      <th>cityCenters_nearest</th>\n",
       "      <th>parks_around3000</th>\n",
       "      <th>parks_nearest</th>\n",
       "      <th>ponds_around3000</th>\n",
       "      <th>ponds_nearest</th>\n",
       "      <th>days_exposition</th>\n",
       "    </tr>\n",
       "  </thead>\n",
       "  <tbody>\n",
       "    <tr>\n",
       "      <th>0</th>\n",
       "      <td>20</td>\n",
       "      <td>13000000.0</td>\n",
       "      <td>108.00</td>\n",
       "      <td>2019-03-07T00:00:00</td>\n",
       "      <td>3</td>\n",
       "      <td>2.70</td>\n",
       "      <td>16.0</td>\n",
       "      <td>51.00</td>\n",
       "      <td>8</td>\n",
       "      <td>NaN</td>\n",
       "      <td>...</td>\n",
       "      <td>25.00</td>\n",
       "      <td>NaN</td>\n",
       "      <td>Санкт-Петербург</td>\n",
       "      <td>18863.0</td>\n",
       "      <td>16028.0</td>\n",
       "      <td>1.0</td>\n",
       "      <td>482.0</td>\n",
       "      <td>2.0</td>\n",
       "      <td>755.0</td>\n",
       "      <td>NaN</td>\n",
       "    </tr>\n",
       "    <tr>\n",
       "      <th>1</th>\n",
       "      <td>7</td>\n",
       "      <td>3350000.0</td>\n",
       "      <td>40.40</td>\n",
       "      <td>2018-12-04T00:00:00</td>\n",
       "      <td>1</td>\n",
       "      <td>NaN</td>\n",
       "      <td>11.0</td>\n",
       "      <td>18.60</td>\n",
       "      <td>1</td>\n",
       "      <td>NaN</td>\n",
       "      <td>...</td>\n",
       "      <td>11.00</td>\n",
       "      <td>2.0</td>\n",
       "      <td>посёлок Шушары</td>\n",
       "      <td>12817.0</td>\n",
       "      <td>18603.0</td>\n",
       "      <td>0.0</td>\n",
       "      <td>NaN</td>\n",
       "      <td>0.0</td>\n",
       "      <td>NaN</td>\n",
       "      <td>81.0</td>\n",
       "    </tr>\n",
       "    <tr>\n",
       "      <th>2</th>\n",
       "      <td>10</td>\n",
       "      <td>5196000.0</td>\n",
       "      <td>56.00</td>\n",
       "      <td>2015-08-20T00:00:00</td>\n",
       "      <td>2</td>\n",
       "      <td>NaN</td>\n",
       "      <td>5.0</td>\n",
       "      <td>34.30</td>\n",
       "      <td>4</td>\n",
       "      <td>NaN</td>\n",
       "      <td>...</td>\n",
       "      <td>8.30</td>\n",
       "      <td>0.0</td>\n",
       "      <td>Санкт-Петербург</td>\n",
       "      <td>21741.0</td>\n",
       "      <td>13933.0</td>\n",
       "      <td>1.0</td>\n",
       "      <td>90.0</td>\n",
       "      <td>2.0</td>\n",
       "      <td>574.0</td>\n",
       "      <td>558.0</td>\n",
       "    </tr>\n",
       "    <tr>\n",
       "      <th>3</th>\n",
       "      <td>0</td>\n",
       "      <td>64900000.0</td>\n",
       "      <td>159.00</td>\n",
       "      <td>2015-07-24T00:00:00</td>\n",
       "      <td>3</td>\n",
       "      <td>NaN</td>\n",
       "      <td>14.0</td>\n",
       "      <td>NaN</td>\n",
       "      <td>9</td>\n",
       "      <td>NaN</td>\n",
       "      <td>...</td>\n",
       "      <td>NaN</td>\n",
       "      <td>0.0</td>\n",
       "      <td>Санкт-Петербург</td>\n",
       "      <td>28098.0</td>\n",
       "      <td>6800.0</td>\n",
       "      <td>2.0</td>\n",
       "      <td>84.0</td>\n",
       "      <td>3.0</td>\n",
       "      <td>234.0</td>\n",
       "      <td>424.0</td>\n",
       "    </tr>\n",
       "    <tr>\n",
       "      <th>4</th>\n",
       "      <td>2</td>\n",
       "      <td>10000000.0</td>\n",
       "      <td>100.00</td>\n",
       "      <td>2018-06-19T00:00:00</td>\n",
       "      <td>2</td>\n",
       "      <td>3.03</td>\n",
       "      <td>14.0</td>\n",
       "      <td>32.00</td>\n",
       "      <td>13</td>\n",
       "      <td>NaN</td>\n",
       "      <td>...</td>\n",
       "      <td>41.00</td>\n",
       "      <td>NaN</td>\n",
       "      <td>Санкт-Петербург</td>\n",
       "      <td>31856.0</td>\n",
       "      <td>8098.0</td>\n",
       "      <td>2.0</td>\n",
       "      <td>112.0</td>\n",
       "      <td>1.0</td>\n",
       "      <td>48.0</td>\n",
       "      <td>121.0</td>\n",
       "    </tr>\n",
       "    <tr>\n",
       "      <th>5</th>\n",
       "      <td>10</td>\n",
       "      <td>2890000.0</td>\n",
       "      <td>30.40</td>\n",
       "      <td>2018-09-10T00:00:00</td>\n",
       "      <td>1</td>\n",
       "      <td>NaN</td>\n",
       "      <td>12.0</td>\n",
       "      <td>14.40</td>\n",
       "      <td>5</td>\n",
       "      <td>NaN</td>\n",
       "      <td>...</td>\n",
       "      <td>9.10</td>\n",
       "      <td>NaN</td>\n",
       "      <td>городской посёлок Янино-1</td>\n",
       "      <td>NaN</td>\n",
       "      <td>NaN</td>\n",
       "      <td>NaN</td>\n",
       "      <td>NaN</td>\n",
       "      <td>NaN</td>\n",
       "      <td>NaN</td>\n",
       "      <td>55.0</td>\n",
       "    </tr>\n",
       "    <tr>\n",
       "      <th>6</th>\n",
       "      <td>6</td>\n",
       "      <td>3700000.0</td>\n",
       "      <td>37.30</td>\n",
       "      <td>2017-11-02T00:00:00</td>\n",
       "      <td>1</td>\n",
       "      <td>NaN</td>\n",
       "      <td>26.0</td>\n",
       "      <td>10.60</td>\n",
       "      <td>6</td>\n",
       "      <td>NaN</td>\n",
       "      <td>...</td>\n",
       "      <td>14.40</td>\n",
       "      <td>1.0</td>\n",
       "      <td>посёлок Парголово</td>\n",
       "      <td>52996.0</td>\n",
       "      <td>19143.0</td>\n",
       "      <td>0.0</td>\n",
       "      <td>NaN</td>\n",
       "      <td>0.0</td>\n",
       "      <td>NaN</td>\n",
       "      <td>155.0</td>\n",
       "    </tr>\n",
       "    <tr>\n",
       "      <th>7</th>\n",
       "      <td>5</td>\n",
       "      <td>7915000.0</td>\n",
       "      <td>71.60</td>\n",
       "      <td>2019-04-18T00:00:00</td>\n",
       "      <td>2</td>\n",
       "      <td>NaN</td>\n",
       "      <td>24.0</td>\n",
       "      <td>NaN</td>\n",
       "      <td>22</td>\n",
       "      <td>NaN</td>\n",
       "      <td>...</td>\n",
       "      <td>18.90</td>\n",
       "      <td>2.0</td>\n",
       "      <td>Санкт-Петербург</td>\n",
       "      <td>23982.0</td>\n",
       "      <td>11634.0</td>\n",
       "      <td>0.0</td>\n",
       "      <td>NaN</td>\n",
       "      <td>0.0</td>\n",
       "      <td>NaN</td>\n",
       "      <td>NaN</td>\n",
       "    </tr>\n",
       "    <tr>\n",
       "      <th>8</th>\n",
       "      <td>20</td>\n",
       "      <td>2900000.0</td>\n",
       "      <td>33.16</td>\n",
       "      <td>2018-05-23T00:00:00</td>\n",
       "      <td>1</td>\n",
       "      <td>NaN</td>\n",
       "      <td>27.0</td>\n",
       "      <td>15.43</td>\n",
       "      <td>26</td>\n",
       "      <td>NaN</td>\n",
       "      <td>...</td>\n",
       "      <td>8.81</td>\n",
       "      <td>NaN</td>\n",
       "      <td>посёлок Мурино</td>\n",
       "      <td>NaN</td>\n",
       "      <td>NaN</td>\n",
       "      <td>NaN</td>\n",
       "      <td>NaN</td>\n",
       "      <td>NaN</td>\n",
       "      <td>NaN</td>\n",
       "      <td>189.0</td>\n",
       "    </tr>\n",
       "    <tr>\n",
       "      <th>9</th>\n",
       "      <td>18</td>\n",
       "      <td>5400000.0</td>\n",
       "      <td>61.00</td>\n",
       "      <td>2017-02-26T00:00:00</td>\n",
       "      <td>3</td>\n",
       "      <td>2.50</td>\n",
       "      <td>9.0</td>\n",
       "      <td>43.60</td>\n",
       "      <td>7</td>\n",
       "      <td>NaN</td>\n",
       "      <td>...</td>\n",
       "      <td>6.50</td>\n",
       "      <td>2.0</td>\n",
       "      <td>Санкт-Петербург</td>\n",
       "      <td>50898.0</td>\n",
       "      <td>15008.0</td>\n",
       "      <td>0.0</td>\n",
       "      <td>NaN</td>\n",
       "      <td>0.0</td>\n",
       "      <td>NaN</td>\n",
       "      <td>289.0</td>\n",
       "    </tr>\n",
       "  </tbody>\n",
       "</table>\n",
       "<p>10 rows × 22 columns</p>\n",
       "</div>"
      ],
      "text/plain": [
       "   total_images  last_price  total_area first_day_exposition  rooms  \\\n",
       "0            20  13000000.0      108.00  2019-03-07T00:00:00      3   \n",
       "1             7   3350000.0       40.40  2018-12-04T00:00:00      1   \n",
       "2            10   5196000.0       56.00  2015-08-20T00:00:00      2   \n",
       "3             0  64900000.0      159.00  2015-07-24T00:00:00      3   \n",
       "4             2  10000000.0      100.00  2018-06-19T00:00:00      2   \n",
       "5            10   2890000.0       30.40  2018-09-10T00:00:00      1   \n",
       "6             6   3700000.0       37.30  2017-11-02T00:00:00      1   \n",
       "7             5   7915000.0       71.60  2019-04-18T00:00:00      2   \n",
       "8            20   2900000.0       33.16  2018-05-23T00:00:00      1   \n",
       "9            18   5400000.0       61.00  2017-02-26T00:00:00      3   \n",
       "\n",
       "   ceiling_height  floors_total  living_area  floor is_apartment  ...  \\\n",
       "0            2.70          16.0        51.00      8          NaN  ...   \n",
       "1             NaN          11.0        18.60      1          NaN  ...   \n",
       "2             NaN           5.0        34.30      4          NaN  ...   \n",
       "3             NaN          14.0          NaN      9          NaN  ...   \n",
       "4            3.03          14.0        32.00     13          NaN  ...   \n",
       "5             NaN          12.0        14.40      5          NaN  ...   \n",
       "6             NaN          26.0        10.60      6          NaN  ...   \n",
       "7             NaN          24.0          NaN     22          NaN  ...   \n",
       "8             NaN          27.0        15.43     26          NaN  ...   \n",
       "9            2.50           9.0        43.60      7          NaN  ...   \n",
       "\n",
       "   kitchen_area  balcony              locality_name  airports_nearest  \\\n",
       "0         25.00      NaN            Санкт-Петербург           18863.0   \n",
       "1         11.00      2.0             посёлок Шушары           12817.0   \n",
       "2          8.30      0.0            Санкт-Петербург           21741.0   \n",
       "3           NaN      0.0            Санкт-Петербург           28098.0   \n",
       "4         41.00      NaN            Санкт-Петербург           31856.0   \n",
       "5          9.10      NaN  городской посёлок Янино-1               NaN   \n",
       "6         14.40      1.0          посёлок Парголово           52996.0   \n",
       "7         18.90      2.0            Санкт-Петербург           23982.0   \n",
       "8          8.81      NaN             посёлок Мурино               NaN   \n",
       "9          6.50      2.0            Санкт-Петербург           50898.0   \n",
       "\n",
       "  cityCenters_nearest  parks_around3000  parks_nearest  ponds_around3000  \\\n",
       "0             16028.0               1.0          482.0               2.0   \n",
       "1             18603.0               0.0            NaN               0.0   \n",
       "2             13933.0               1.0           90.0               2.0   \n",
       "3              6800.0               2.0           84.0               3.0   \n",
       "4              8098.0               2.0          112.0               1.0   \n",
       "5                 NaN               NaN            NaN               NaN   \n",
       "6             19143.0               0.0            NaN               0.0   \n",
       "7             11634.0               0.0            NaN               0.0   \n",
       "8                 NaN               NaN            NaN               NaN   \n",
       "9             15008.0               0.0            NaN               0.0   \n",
       "\n",
       "   ponds_nearest  days_exposition  \n",
       "0          755.0              NaN  \n",
       "1            NaN             81.0  \n",
       "2          574.0            558.0  \n",
       "3          234.0            424.0  \n",
       "4           48.0            121.0  \n",
       "5            NaN             55.0  \n",
       "6            NaN            155.0  \n",
       "7            NaN              NaN  \n",
       "8            NaN            189.0  \n",
       "9            NaN            289.0  \n",
       "\n",
       "[10 rows x 22 columns]"
      ]
     },
     "execution_count": 147,
     "metadata": {},
     "output_type": "execute_result"
    }
   ],
   "source": [
    "data.head(10)"
   ]
  },
  {
   "cell_type": "code",
   "execution_count": 148,
   "metadata": {
    "scrolled": true
   },
   "outputs": [
    {
     "data": {
      "text/plain": [
       "array([[<AxesSubplot:title={'center':'total_images'}>,\n",
       "        <AxesSubplot:title={'center':'last_price'}>,\n",
       "        <AxesSubplot:title={'center':'total_area'}>,\n",
       "        <AxesSubplot:title={'center':'rooms'}>],\n",
       "       [<AxesSubplot:title={'center':'ceiling_height'}>,\n",
       "        <AxesSubplot:title={'center':'floors_total'}>,\n",
       "        <AxesSubplot:title={'center':'living_area'}>,\n",
       "        <AxesSubplot:title={'center':'floor'}>],\n",
       "       [<AxesSubplot:title={'center':'kitchen_area'}>,\n",
       "        <AxesSubplot:title={'center':'balcony'}>,\n",
       "        <AxesSubplot:title={'center':'airports_nearest'}>,\n",
       "        <AxesSubplot:title={'center':'cityCenters_nearest'}>],\n",
       "       [<AxesSubplot:title={'center':'parks_around3000'}>,\n",
       "        <AxesSubplot:title={'center':'parks_nearest'}>,\n",
       "        <AxesSubplot:title={'center':'ponds_around3000'}>,\n",
       "        <AxesSubplot:title={'center':'ponds_nearest'}>],\n",
       "       [<AxesSubplot:title={'center':'days_exposition'}>, <AxesSubplot:>,\n",
       "        <AxesSubplot:>, <AxesSubplot:>]], dtype=object)"
      ]
     },
     "execution_count": 148,
     "metadata": {},
     "output_type": "execute_result"
    },
    {
     "data": {
      "image/png": "[encoded data removed]",
      "text/plain": [
       "<Figure size 1440x1440 with 20 Axes>"
      ]
     },
     "metadata": {
      "needs_background": "light"
     },
     "output_type": "display_data"
    }
   ],
   "source": [
    "data.hist(bins=20, figsize=(20, 20))"
   ]
  },
  {
   "cell_type": "markdown",
   "metadata": {
    "id": "-O5NtivEAwb9"
   },
   "source": [
    "## Выполните предобработку данных"
   ]
  },
  {
   "cell_type": "code",
   "execution_count": 149,
   "metadata": {
    "id": "7v3vAeTuAwb-"
   },
   "outputs": [
    {
     "data": {
      "text/plain": [
       "total_images                0\n",
       "last_price                  0\n",
       "total_area                  0\n",
       "first_day_exposition        0\n",
       "rooms                       0\n",
       "ceiling_height           9195\n",
       "floors_total               86\n",
       "living_area              1903\n",
       "floor                       0\n",
       "is_apartment            20924\n",
       "studio                      0\n",
       "open_plan                   0\n",
       "kitchen_area             2278\n",
       "balcony                 11519\n",
       "locality_name              49\n",
       "airports_nearest         5542\n",
       "cityCenters_nearest      5519\n",
       "parks_around3000         5518\n",
       "parks_nearest           15620\n",
       "ponds_around3000         5518\n",
       "ponds_nearest           14589\n",
       "days_exposition          3181\n",
       "dtype: int64"
      ]
     },
     "execution_count": 149,
     "metadata": {},
     "output_type": "execute_result"
    }
   ],
   "source": [
    "data.isna().sum() #находим количество пропущенных значений в каждом столбце"
   ]
  },
  {
   "cell_type": "markdown",
   "metadata": {},
   "source": [
    "### Обработка пропущенных значений"
   ]
  },
  {
   "cell_type": "markdown",
   "metadata": {},
   "source": [
    "**В столбце `is_apartment` пропущенные значения можем заменить на значения 'False', т.к. там где они не указаны, значит, что это не апартаменты.\n",
    "После этого необходимо заменить тип данных с 'object' на 'bool'**"
   ]
  },
  {
   "cell_type": "code",
   "execution_count": 150,
   "metadata": {},
   "outputs": [],
   "source": [
    "data['is_apartment'] = data['is_apartment'].fillna(False) #заполняем пустые значения\n",
    "data['is_apartment'] = data['is_apartment'].astype('bool') # меняем тип данных"
   ]
  },
  {
   "cell_type": "markdown",
   "metadata": {},
   "source": [
    "**В столбце `balcony` пропущенные значения можем заменить на значения '0', т.к. там где они не указаны, значит, что квартира без балкона**"
   ]
  },
  {
   "cell_type": "code",
   "execution_count": 151,
   "metadata": {},
   "outputs": [
    {
     "data": {
      "text/plain": [
       "array([0., 2., 1., 5., 4., 3.])"
      ]
     },
     "execution_count": 151,
     "metadata": {},
     "output_type": "execute_result"
    }
   ],
   "source": [
    "data['balcony'] = data['balcony'].fillna(0) \n",
    "data['balcony'].unique() # проверим уникальные значения в столбце"
   ]
  },
  {
   "cell_type": "markdown",
   "metadata": {},
   "source": [
    "**Изменим тип данных в столбце `balcony`, т.к. количество балконов может быть только целым числом**"
   ]
  },
  {
   "cell_type": "code",
   "execution_count": 152,
   "metadata": {},
   "outputs": [
    {
     "data": {
      "text/plain": [
       "array([0, 2, 1, 5, 4, 3])"
      ]
     },
     "execution_count": 152,
     "metadata": {},
     "output_type": "execute_result"
    }
   ],
   "source": [
    "data['balcony'] = data['balcony'].astype(int) # изменяем тип данных на int\n",
    "data['balcony'].unique() # проверим уникальные значения в столбце"
   ]
  },
  {
   "cell_type": "markdown",
   "metadata": {},
   "source": [
    "**Изучим столбец `locality_name`**"
   ]
  },
  {
   "cell_type": "code",
   "execution_count": 153,
   "metadata": {},
   "outputs": [
    {
     "data": {
      "text/plain": [
       "array(['Санкт-Петербург', 'посёлок Шушары', 'городской посёлок Янино-1',\n",
       "       'посёлок Парголово', 'посёлок Мурино', 'Ломоносов', 'Сертолово',\n",
       "       'Петергоф', 'Пушкин', 'деревня Кудрово', 'Коммунар', 'Колпино',\n",
       "       'поселок городского типа Красный Бор', 'Гатчина', 'поселок Мурино',\n",
       "       'деревня Фёдоровское', 'Выборг', 'Кронштадт', 'Кировск',\n",
       "       'деревня Новое Девяткино', 'посёлок Металлострой',\n",
       "       'посёлок городского типа Лебяжье',\n",
       "       'посёлок городского типа Сиверский', 'поселок Молодцово',\n",
       "       'поселок городского типа Кузьмоловский',\n",
       "       'садовое товарищество Новая Ропша', 'Павловск',\n",
       "       'деревня Пикколово', 'Всеволожск', 'Волхов', 'Кингисепп',\n",
       "       'Приозерск', 'Сестрорецк', 'деревня Куттузи', 'посёлок Аннино',\n",
       "       'поселок городского типа Ефимовский', 'посёлок Плодовое',\n",
       "       'деревня Заклинье', 'поселок Торковичи', 'поселок Первомайское',\n",
       "       'Красное Село', 'посёлок Понтонный', 'Сясьстрой', 'деревня Старая',\n",
       "       'деревня Лесколово', 'посёлок Новый Свет', 'Сланцы',\n",
       "       'село Путилово', 'Ивангород', 'Мурино', 'Шлиссельбург',\n",
       "       'Никольское', 'Зеленогорск', 'Сосновый Бор', 'поселок Новый Свет',\n",
       "       'деревня Оржицы', 'деревня Кальтино', 'Кудрово',\n",
       "       'поселок Романовка', 'посёлок Бугры', 'поселок Бугры',\n",
       "       'поселок городского типа Рощино', 'Кириши', 'Луга', 'Волосово',\n",
       "       'Отрадное', 'село Павлово', 'поселок Оредеж', 'село Копорье',\n",
       "       'посёлок городского типа Красный Бор', 'посёлок Молодёжное',\n",
       "       'Тихвин', 'посёлок Победа', 'деревня Нурма',\n",
       "       'поселок городского типа Синявино', 'Тосно',\n",
       "       'посёлок городского типа Кузьмоловский', 'посёлок Стрельна',\n",
       "       'Бокситогорск', 'посёлок Александровская', 'деревня Лопухинка',\n",
       "       'Пикалёво', 'поселок Терволово',\n",
       "       'поселок городского типа Советский', 'Подпорожье',\n",
       "       'посёлок Петровское', 'посёлок городского типа Токсово',\n",
       "       'поселок Сельцо', 'посёлок городского типа Вырица',\n",
       "       'деревня Кипень', 'деревня Келози', 'деревня Вартемяги',\n",
       "       'посёлок Тельмана', 'поселок Севастьяново',\n",
       "       'городской поселок Большая Ижора', nan,\n",
       "       'городской посёлок Павлово', 'деревня Агалатово',\n",
       "       'посёлок Новогорелово', 'городской посёлок Лесогорский',\n",
       "       'деревня Лаголово', 'поселок Цвелодубово',\n",
       "       'поселок городского типа Рахья', 'поселок городского типа Вырица',\n",
       "       'деревня Белогорка', 'поселок Заводской',\n",
       "       'городской посёлок Новоселье', 'деревня Большие Колпаны',\n",
       "       'деревня Горбунки', 'деревня Батово', 'деревня Заневка',\n",
       "       'деревня Иссад', 'Приморск', 'городской посёлок Фёдоровское',\n",
       "       'деревня Мистолово', 'Новая Ладога', 'поселок Зимитицы',\n",
       "       'поселок Барышево', 'деревня Разметелево',\n",
       "       'поселок городского типа имени Свердлова', 'деревня Пеники',\n",
       "       'поселок Рябово', 'деревня Пудомяги', 'поселок станции Корнево',\n",
       "       'деревня Низино', 'деревня Бегуницы', 'посёлок Поляны',\n",
       "       'городской посёлок Мга', 'поселок Елизаветино',\n",
       "       'посёлок городского типа Кузнечное', 'деревня Колтуши',\n",
       "       'поселок Запорожское', 'посёлок городского типа Рощино',\n",
       "       'деревня Гостилицы', 'деревня Малое Карлино',\n",
       "       'посёлок Мичуринское', 'посёлок городского типа имени Морозова',\n",
       "       'посёлок Песочный', 'посёлок Сосново', 'деревня Аро',\n",
       "       'поселок Ильичёво', 'посёлок городского типа Тайцы',\n",
       "       'деревня Малое Верево', 'деревня Извара', 'поселок станции Вещево',\n",
       "       'село Паша', 'деревня Калитино',\n",
       "       'посёлок городского типа Ульяновка', 'деревня Чудской Бор',\n",
       "       'поселок городского типа Дубровка', 'деревня Мины',\n",
       "       'поселок Войсковицы', 'посёлок городского типа имени Свердлова',\n",
       "       'деревня Коркино', 'посёлок Ропша',\n",
       "       'поселок городского типа Приладожский', 'посёлок Щеглово',\n",
       "       'посёлок Гаврилово', 'Лодейное Поле', 'деревня Рабитицы',\n",
       "       'поселок городского типа Никольский', 'деревня Кузьмолово',\n",
       "       'деревня Малые Колпаны', 'поселок Тельмана',\n",
       "       'посёлок Петро-Славянка', 'городской посёлок Назия',\n",
       "       'посёлок Репино', 'посёлок Ильичёво', 'поселок Углово',\n",
       "       'поселок Старая Малукса', 'садовое товарищество Рахья',\n",
       "       'поселок Аннино', 'поселок Победа', 'деревня Меньково',\n",
       "       'деревня Старые Бегуницы', 'посёлок Сапёрный', 'поселок Семрино',\n",
       "       'поселок Гаврилово', 'поселок Глажево', 'поселок Кобринское',\n",
       "       'деревня Гарболово', 'деревня Юкки',\n",
       "       'поселок станции Приветнинское', 'деревня Мануйлово',\n",
       "       'деревня Пчева', 'поселок Поляны', 'поселок Цвылёво',\n",
       "       'поселок Мельниково', 'посёлок Пудость', 'посёлок Усть-Луга',\n",
       "       'Светогорск', 'Любань', 'поселок Селезнёво',\n",
       "       'поселок городского типа Рябово', 'Каменногорск', 'деревня Кривко',\n",
       "       'поселок Глебычево', 'деревня Парицы', 'поселок Жилпосёлок',\n",
       "       'посёлок городского типа Мга', 'городской поселок Янино-1',\n",
       "       'посёлок Войскорово', 'село Никольское', 'посёлок Терволово',\n",
       "       'поселок Стеклянный', 'посёлок городского типа Важины',\n",
       "       'посёлок Мыза-Ивановка', 'село Русско-Высоцкое',\n",
       "       'поселок городского типа Лебяжье',\n",
       "       'поселок городского типа Форносово', 'село Старая Ладога',\n",
       "       'поселок Житково', 'городской посёлок Виллози', 'деревня Лампово',\n",
       "       'деревня Шпаньково', 'деревня Лаврики', 'посёлок Сумино',\n",
       "       'посёлок Возрождение', 'деревня Старосиверская',\n",
       "       'посёлок Кикерино', 'поселок Возрождение',\n",
       "       'деревня Старое Хинколово', 'посёлок Пригородный',\n",
       "       'посёлок Торфяное', 'городской посёлок Будогощь',\n",
       "       'поселок Суходолье', 'поселок Красная Долина', 'деревня Хапо-Ое',\n",
       "       'поселок городского типа Дружная Горка', 'поселок Лисий Нос',\n",
       "       'деревня Яльгелево', 'посёлок Стеклянный', 'село Рождествено',\n",
       "       'деревня Старополье', 'посёлок Левашово', 'деревня Сяськелево',\n",
       "       'деревня Камышовка',\n",
       "       'садоводческое некоммерческое товарищество Лесная Поляна',\n",
       "       'деревня Хязельки', 'поселок Жилгородок',\n",
       "       'посёлок городского типа Павлово', 'деревня Ялгино',\n",
       "       'поселок Новый Учхоз', 'городской посёлок Рощино',\n",
       "       'поселок Гончарово', 'поселок Почап', 'посёлок Сапёрное',\n",
       "       'посёлок Платформа 69-й километр', 'поселок Каложицы',\n",
       "       'деревня Фалилеево', 'деревня Пельгора',\n",
       "       'поселок городского типа Лесогорский', 'деревня Торошковичи',\n",
       "       'посёлок Белоостров', 'посёлок Алексеевка', 'поселок Серебрянский',\n",
       "       'поселок Лукаши', 'поселок Петровское', 'деревня Щеглово',\n",
       "       'поселок Мичуринское', 'деревня Тарасово', 'поселок Кингисеппский',\n",
       "       'посёлок при железнодорожной станции Вещево', 'поселок Ушаки',\n",
       "       'деревня Котлы', 'деревня Сижно', 'деревня Торосово',\n",
       "       'посёлок Форт Красная Горка', 'поселок городского типа Токсово',\n",
       "       'деревня Новолисино', 'посёлок станции Громово', 'деревня Глинка',\n",
       "       'посёлок Мельниково', 'поселок городского типа Назия',\n",
       "       'деревня Старая Пустошь', 'поселок Коммунары', 'поселок Починок',\n",
       "       'посёлок городского типа Вознесенье', 'деревня Разбегаево',\n",
       "       'посёлок городского типа Рябово', 'поселок Гладкое',\n",
       "       'посёлок при железнодорожной станции Приветнинское',\n",
       "       'поселок Тёсово-4', 'посёлок Жилгородок', 'деревня Бор',\n",
       "       'посёлок Коробицыно', 'деревня Большая Вруда', 'деревня Курковицы',\n",
       "       'посёлок Лисий Нос', 'городской посёлок Советский',\n",
       "       'посёлок Кобралово', 'деревня Суоранда', 'поселок Кобралово',\n",
       "       'поселок городского типа Кондратьево',\n",
       "       'коттеджный поселок Счастье', 'поселок Любань', 'деревня Реброво',\n",
       "       'деревня Зимитицы', 'деревня Тойворово', 'поселок Семиозерье',\n",
       "       'поселок Лесное', 'поселок Совхозный', 'поселок Усть-Луга',\n",
       "       'посёлок Ленинское', 'посёлок Суйда',\n",
       "       'посёлок городского типа Форносово', 'деревня Нижние Осельки',\n",
       "       'посёлок станции Свирь', 'поселок Перово', 'Высоцк',\n",
       "       'поселок Гарболово', 'село Шум', 'поселок Котельский',\n",
       "       'поселок станции Лужайка', 'деревня Большая Пустомержа',\n",
       "       'поселок Красносельское', 'деревня Вахнова Кара', 'деревня Пижма',\n",
       "       'коттеджный поселок Кивеннапа Север', 'поселок Коробицыно',\n",
       "       'поселок Ромашки', 'посёлок Перово', 'деревня Каськово',\n",
       "       'деревня Куровицы', 'посёлок Плоское', 'поселок Сумино',\n",
       "       'поселок городского типа Большая Ижора', 'поселок Кирпичное',\n",
       "       'деревня Ям-Тесово', 'деревня Раздолье', 'деревня Терпилицы',\n",
       "       'посёлок Шугозеро', 'деревня Ваганово', 'поселок Пушное',\n",
       "       'садовое товарищество Садко', 'посёлок Усть-Ижора',\n",
       "       'деревня Выскатка', 'городской посёлок Свирьстрой',\n",
       "       'поселок Громово', 'деревня Кисельня', 'посёлок Старая Малукса',\n",
       "       'деревня Трубников Бор', 'поселок Калитино',\n",
       "       'посёлок Высокоключевой', 'садовое товарищество Приладожский',\n",
       "       'посёлок Пансионат Зелёный Бор', 'деревня Ненимяки',\n",
       "       'поселок Пансионат Зелёный Бор', 'деревня Снегирёвка',\n",
       "       'деревня Рапполово', 'деревня Пустынка', 'поселок Рабитицы',\n",
       "       'деревня Большой Сабск', 'деревня Русско', 'деревня Лупполово',\n",
       "       'деревня Большое Рейзино', 'деревня Малая Романовка',\n",
       "       'поселок Дружноселье', 'поселок Пчевжа', 'поселок Володарское',\n",
       "       'деревня Нижняя', 'коттеджный посёлок Лесное', 'деревня Тихковицы',\n",
       "       'деревня Борисова Грива', 'посёлок Дзержинского'], dtype=object)"
      ]
     },
     "execution_count": 153,
     "metadata": {},
     "output_type": "execute_result"
    }
   ],
   "source": [
    "data['locality_name'].unique() # найдем все уникальные значения"
   ]
  },
  {
   "cell_type": "markdown",
   "metadata": {},
   "source": [
    "**В столбце присутствуют явные дубликаты. При указания поселков были применены разные обозначения типа поселков (например, поселок и поселок городского типа), но названия поселков при этом одинаковы, а также одни и те же названия в одних случаях  пишутся с \"е\", в других с \"ё\". Устраним эти дубликаты**"
   ]
  },
  {
   "cell_type": "code",
   "execution_count": 154,
   "metadata": {},
   "outputs": [],
   "source": [
    "# воспользуемся методом replace() для замены значений внутри столбца\n",
    "data['locality_name'] = (\n",
    "    data['locality_name']\n",
    "    .str.replace('ё', 'е')\n",
    "    .replace(['поселок городского типа', 'городской поселок'], 'поселок', regex=True)\n",
    ")"
   ]
  },
  {
   "cell_type": "markdown",
   "metadata": {},
   "source": [
    "**Пропущенные значения никак не заполним и их очень мало, поэтому принимаем решение об удалении строк,\n",
    "где имеются пропуски в столбце `locality_name`**"
   ]
  },
  {
   "cell_type": "code",
   "execution_count": 155,
   "metadata": {
    "scrolled": true
   },
   "outputs": [],
   "source": [
    "data = data.dropna(subset=['locality_name']) # удаляем строки со значением NaN"
   ]
  },
  {
   "cell_type": "markdown",
   "metadata": {},
   "source": [
    "**Пропущенные значения `floors_total` никак не заполним и их очень мало, поэтому принимаем решение об удалении строк c пропусками в этом столбце**"
   ]
  },
  {
   "cell_type": "code",
   "execution_count": 156,
   "metadata": {},
   "outputs": [],
   "source": [
    "data = data.dropna(subset=['floors_total']) # удаляем строки со значением NaN"
   ]
  },
  {
   "cell_type": "markdown",
   "metadata": {},
   "source": [
    "**Перевод строк для столбца `first_day_exposition` в дату и время**"
   ]
  },
  {
   "cell_type": "code",
   "execution_count": 157,
   "metadata": {},
   "outputs": [],
   "source": [
    "data['first_day_exposition'] = pd.to_datetime(data['first_day_exposition'], format='%Y-%m-%dT%H:%M:%S')"
   ]
  },
  {
   "cell_type": "code",
   "execution_count": 158,
   "metadata": {},
   "outputs": [
    {
     "data": {
      "text/plain": [
       "total_images                0\n",
       "last_price                  0\n",
       "total_area                  0\n",
       "first_day_exposition        0\n",
       "rooms                       0\n",
       "ceiling_height           9084\n",
       "floors_total                0\n",
       "living_area              1865\n",
       "floor                       0\n",
       "is_apartment                0\n",
       "studio                      0\n",
       "open_plan                   0\n",
       "kitchen_area             2222\n",
       "balcony                     0\n",
       "locality_name               0\n",
       "airports_nearest         5524\n",
       "cityCenters_nearest      5501\n",
       "parks_around3000         5500\n",
       "parks_nearest           15535\n",
       "ponds_around3000         5500\n",
       "ponds_nearest           14529\n",
       "days_exposition          3171\n",
       "dtype: int64"
      ]
     },
     "execution_count": 158,
     "metadata": {},
     "output_type": "execute_result"
    }
   ],
   "source": [
    "# проверим теперь, в каких строках имеются пропущенные данные\n",
    "data.isna().sum()"
   ]
  },
  {
   "cell_type": "markdown",
   "metadata": {},
   "source": [
    "**Вывод: в столбцах, где это возможно заполнили пропущенные значения (является ли квартира апартаментами, количество балконов, количество парков и водоемов в радиусе 3 км), а также изменили тип данных на более подходящий \n",
    "(для целочисленных значений нет смысла указывать дробные величины), обработали явные дубликаты и удалили строки с пропусками в столбце с названиями местоположения продаваемых квартир, которые не повлияют на основное исследование. Также столбец с датой публикации был переведен в дату и время для удобства извлечений данных (день, месяц, год публикации) и проведения анализа в дальнейшем.**"
   ]
  },
  {
   "cell_type": "markdown",
   "metadata": {
    "id": "QCcvyY6YAwb-"
   },
   "source": [
    "## Добавьте в таблицу новые столбцы"
   ]
  },
  {
   "cell_type": "markdown",
   "metadata": {
    "id": "Z8eJek3IAwb-"
   },
   "source": [
    "**Для решения поставленной задачи необходимо в таблицу добавить новые столбцы:**\n",
    "- цена одного квадратного метра;\n",
    "- день недели публикации объявления;\n",
    "- месяц публикации объявления;\n",
    "- год публикации объявления;\n",
    "- тип этажа квартиры;\n",
    "- расстояние до центра города в километрах."
   ]
  },
  {
   "cell_type": "markdown",
   "metadata": {},
   "source": [
    "### Цена одного квадратного метра"
   ]
  },
  {
   "cell_type": "code",
   "execution_count": 159,
   "metadata": {},
   "outputs": [],
   "source": [
    "# разделим стоимость объекта на его площадь и округлим результат до сотых\n",
    "data['price_1m2'] = round(data['last_price'] / data['total_area'], 2)"
   ]
  },
  {
   "cell_type": "markdown",
   "metadata": {},
   "source": [
    "### День недели публикации объявления"
   ]
  },
  {
   "cell_type": "markdown",
   "metadata": {},
   "source": [
    "Дни недели будут указаны числами от 0 до 6, начиная с понедельника"
   ]
  },
  {
   "cell_type": "code",
   "execution_count": 160,
   "metadata": {},
   "outputs": [],
   "source": [
    "data['day_of_piblication_nmb'] = data['first_day_exposition'].dt.weekday "
   ]
  },
  {
   "cell_type": "markdown",
   "metadata": {},
   "source": [
    "Создадим таблицу с помощью метода apply() с указанием названия дня недели, соответствующего номеру (от 0 до 6 - от понедельника до воскресенья)"
   ]
  },
  {
   "cell_type": "code",
   "execution_count": 161,
   "metadata": {},
   "outputs": [],
   "source": [
    "def day_of_week(row):\n",
    "    if row == 0:\n",
    "        return 'Понедельник'\n",
    "    elif row == 1:\n",
    "        return 'Вторник'\n",
    "    elif row == 2:\n",
    "        return 'Среда'\n",
    "    elif row == 3:\n",
    "        return 'Четверг'\n",
    "    elif row == 4:\n",
    "        return 'Пятница'\n",
    "    elif row == 5:\n",
    "        return 'Суббота'\n",
    "    else:\n",
    "        return 'Воскресенье'\n",
    "# создаем новый столбец, применив apply() с аргументом функции, а на вход поступают данные \n",
    "# а на вход поступают данные из столбца 'day_of_piblication_nmb'\n",
    "data['day_of_piblication'] = data['day_of_piblication_nmb'].apply(day_of_week)"
   ]
  },
  {
   "cell_type": "markdown",
   "metadata": {},
   "source": [
    "### Месяц публикации объявления"
   ]
  },
  {
   "cell_type": "code",
   "execution_count": 162,
   "metadata": {},
   "outputs": [
    {
     "data": {
      "text/plain": [
       "array([ 3, 12,  8,  7,  6,  9, 11,  4,  5,  2,  1, 10])"
      ]
     },
     "execution_count": 162,
     "metadata": {},
     "output_type": "execute_result"
    }
   ],
   "source": [
    "data['month_of_piblication_nmb'] = data['first_day_exposition'].dt.month\n",
    "data['month_of_piblication_nmb'].unique()"
   ]
  },
  {
   "cell_type": "markdown",
   "metadata": {},
   "source": [
    "Создадим таблицу с помощью метода apply() с указанием названия месяца, соответствующего номеру."
   ]
  },
  {
   "cell_type": "code",
   "execution_count": 163,
   "metadata": {},
   "outputs": [
    {
     "data": {
      "text/html": [
       "<div>\n",
       "<style scoped>\n",
       "    .dataframe tbody tr th:only-of-type {\n",
       "        vertical-align: middle;\n",
       "    }\n",
       "\n",
       "    .dataframe tbody tr th {\n",
       "        vertical-align: top;\n",
       "    }\n",
       "\n",
       "    .dataframe thead th {\n",
       "        text-align: right;\n",
       "    }\n",
       "</style>\n",
       "<table border=\"1\" class=\"dataframe\">\n",
       "  <thead>\n",
       "    <tr style=\"text-align: right;\">\n",
       "      <th></th>\n",
       "      <th>total_images</th>\n",
       "      <th>last_price</th>\n",
       "      <th>total_area</th>\n",
       "      <th>first_day_exposition</th>\n",
       "      <th>rooms</th>\n",
       "      <th>ceiling_height</th>\n",
       "      <th>floors_total</th>\n",
       "      <th>living_area</th>\n",
       "      <th>floor</th>\n",
       "      <th>is_apartment</th>\n",
       "      <th>...</th>\n",
       "      <th>parks_around3000</th>\n",
       "      <th>parks_nearest</th>\n",
       "      <th>ponds_around3000</th>\n",
       "      <th>ponds_nearest</th>\n",
       "      <th>days_exposition</th>\n",
       "      <th>price_1m2</th>\n",
       "      <th>day_of_piblication_nmb</th>\n",
       "      <th>day_of_piblication</th>\n",
       "      <th>month_of_piblication_nmb</th>\n",
       "      <th>month_of_piblication</th>\n",
       "    </tr>\n",
       "  </thead>\n",
       "  <tbody>\n",
       "    <tr>\n",
       "      <th>0</th>\n",
       "      <td>20</td>\n",
       "      <td>13000000.0</td>\n",
       "      <td>108.0</td>\n",
       "      <td>2019-03-07</td>\n",
       "      <td>3</td>\n",
       "      <td>2.70</td>\n",
       "      <td>16.0</td>\n",
       "      <td>51.0</td>\n",
       "      <td>8</td>\n",
       "      <td>False</td>\n",
       "      <td>...</td>\n",
       "      <td>1.0</td>\n",
       "      <td>482.0</td>\n",
       "      <td>2.0</td>\n",
       "      <td>755.0</td>\n",
       "      <td>NaN</td>\n",
       "      <td>120370.37</td>\n",
       "      <td>3</td>\n",
       "      <td>Четверг</td>\n",
       "      <td>3</td>\n",
       "      <td>Март</td>\n",
       "    </tr>\n",
       "    <tr>\n",
       "      <th>1</th>\n",
       "      <td>7</td>\n",
       "      <td>3350000.0</td>\n",
       "      <td>40.4</td>\n",
       "      <td>2018-12-04</td>\n",
       "      <td>1</td>\n",
       "      <td>NaN</td>\n",
       "      <td>11.0</td>\n",
       "      <td>18.6</td>\n",
       "      <td>1</td>\n",
       "      <td>False</td>\n",
       "      <td>...</td>\n",
       "      <td>0.0</td>\n",
       "      <td>NaN</td>\n",
       "      <td>0.0</td>\n",
       "      <td>NaN</td>\n",
       "      <td>81.0</td>\n",
       "      <td>82920.79</td>\n",
       "      <td>1</td>\n",
       "      <td>Вторник</td>\n",
       "      <td>12</td>\n",
       "      <td>Декабрь</td>\n",
       "    </tr>\n",
       "    <tr>\n",
       "      <th>2</th>\n",
       "      <td>10</td>\n",
       "      <td>5196000.0</td>\n",
       "      <td>56.0</td>\n",
       "      <td>2015-08-20</td>\n",
       "      <td>2</td>\n",
       "      <td>NaN</td>\n",
       "      <td>5.0</td>\n",
       "      <td>34.3</td>\n",
       "      <td>4</td>\n",
       "      <td>False</td>\n",
       "      <td>...</td>\n",
       "      <td>1.0</td>\n",
       "      <td>90.0</td>\n",
       "      <td>2.0</td>\n",
       "      <td>574.0</td>\n",
       "      <td>558.0</td>\n",
       "      <td>92785.71</td>\n",
       "      <td>3</td>\n",
       "      <td>Четверг</td>\n",
       "      <td>8</td>\n",
       "      <td>Август</td>\n",
       "    </tr>\n",
       "    <tr>\n",
       "      <th>3</th>\n",
       "      <td>0</td>\n",
       "      <td>64900000.0</td>\n",
       "      <td>159.0</td>\n",
       "      <td>2015-07-24</td>\n",
       "      <td>3</td>\n",
       "      <td>NaN</td>\n",
       "      <td>14.0</td>\n",
       "      <td>NaN</td>\n",
       "      <td>9</td>\n",
       "      <td>False</td>\n",
       "      <td>...</td>\n",
       "      <td>2.0</td>\n",
       "      <td>84.0</td>\n",
       "      <td>3.0</td>\n",
       "      <td>234.0</td>\n",
       "      <td>424.0</td>\n",
       "      <td>408176.10</td>\n",
       "      <td>4</td>\n",
       "      <td>Пятница</td>\n",
       "      <td>7</td>\n",
       "      <td>Июль</td>\n",
       "    </tr>\n",
       "    <tr>\n",
       "      <th>4</th>\n",
       "      <td>2</td>\n",
       "      <td>10000000.0</td>\n",
       "      <td>100.0</td>\n",
       "      <td>2018-06-19</td>\n",
       "      <td>2</td>\n",
       "      <td>3.03</td>\n",
       "      <td>14.0</td>\n",
       "      <td>32.0</td>\n",
       "      <td>13</td>\n",
       "      <td>False</td>\n",
       "      <td>...</td>\n",
       "      <td>2.0</td>\n",
       "      <td>112.0</td>\n",
       "      <td>1.0</td>\n",
       "      <td>48.0</td>\n",
       "      <td>121.0</td>\n",
       "      <td>100000.00</td>\n",
       "      <td>1</td>\n",
       "      <td>Вторник</td>\n",
       "      <td>6</td>\n",
       "      <td>Июнь</td>\n",
       "    </tr>\n",
       "  </tbody>\n",
       "</table>\n",
       "<p>5 rows × 27 columns</p>\n",
       "</div>"
      ],
      "text/plain": [
       "   total_images  last_price  total_area first_day_exposition  rooms  \\\n",
       "0            20  13000000.0       108.0           2019-03-07      3   \n",
       "1             7   3350000.0        40.4           2018-12-04      1   \n",
       "2            10   5196000.0        56.0           2015-08-20      2   \n",
       "3             0  64900000.0       159.0           2015-07-24      3   \n",
       "4             2  10000000.0       100.0           2018-06-19      2   \n",
       "\n",
       "   ceiling_height  floors_total  living_area  floor  is_apartment  ...  \\\n",
       "0            2.70          16.0         51.0      8         False  ...   \n",
       "1             NaN          11.0         18.6      1         False  ...   \n",
       "2             NaN           5.0         34.3      4         False  ...   \n",
       "3             NaN          14.0          NaN      9         False  ...   \n",
       "4            3.03          14.0         32.0     13         False  ...   \n",
       "\n",
       "   parks_around3000  parks_nearest  ponds_around3000  ponds_nearest  \\\n",
       "0               1.0          482.0               2.0          755.0   \n",
       "1               0.0            NaN               0.0            NaN   \n",
       "2               1.0           90.0               2.0          574.0   \n",
       "3               2.0           84.0               3.0          234.0   \n",
       "4               2.0          112.0               1.0           48.0   \n",
       "\n",
       "  days_exposition  price_1m2  day_of_piblication_nmb  day_of_piblication  \\\n",
       "0             NaN  120370.37                       3             Четверг   \n",
       "1            81.0   82920.79                       1             Вторник   \n",
       "2           558.0   92785.71                       3             Четверг   \n",
       "3           424.0  408176.10                       4             Пятница   \n",
       "4           121.0  100000.00                       1             Вторник   \n",
       "\n",
       "   month_of_piblication_nmb  month_of_piblication  \n",
       "0                         3                  Март  \n",
       "1                        12               Декабрь  \n",
       "2                         8                Август  \n",
       "3                         7                  Июль  \n",
       "4                         6                  Июнь  \n",
       "\n",
       "[5 rows x 27 columns]"
      ]
     },
     "execution_count": 163,
     "metadata": {},
     "output_type": "execute_result"
    }
   ],
   "source": [
    "def month_of_publication(row):\n",
    "    if row == 1:\n",
    "        return 'Январь'\n",
    "    elif row == 2:\n",
    "        return 'Февраль'\n",
    "    elif row == 3:\n",
    "        return 'Март'\n",
    "    elif row == 4:\n",
    "        return 'Апрель'\n",
    "    elif row == 5:\n",
    "        return 'Май'\n",
    "    elif row == 6:\n",
    "        return 'Июнь'\n",
    "    elif row == 7:\n",
    "        return 'Июль'\n",
    "    elif row == 8:\n",
    "        return 'Август'\n",
    "    elif row == 9:\n",
    "        return 'Сентябрь'\n",
    "    elif row == 10:\n",
    "        return 'Октябрь'\n",
    "    elif row == 11:\n",
    "        return 'Ноябрь'\n",
    "    else:\n",
    "        return 'Декабрь'\n",
    "        \n",
    "data['month_of_piblication'] = data['month_of_piblication_nmb'].apply(month_of_publication)\n",
    "data.head()"
   ]
  },
  {
   "cell_type": "markdown",
   "metadata": {},
   "source": [
    "### Год публикации объявления"
   ]
  },
  {
   "cell_type": "code",
   "execution_count": 164,
   "metadata": {},
   "outputs": [],
   "source": [
    "data['year_of_piblication'] = data['first_day_exposition'].dt.year"
   ]
  },
  {
   "cell_type": "markdown",
   "metadata": {},
   "source": [
    "### Тип этажа квартиры"
   ]
  },
  {
   "cell_type": "markdown",
   "metadata": {},
   "source": [
    "В новом столбце `floor_type` должны быть следующие значения: «первый», «последний», «другой».\n",
    "Значение «первый» будет, если строка в столбце `floor` равна 1.\n",
    "Значение «последний» - если строки в столбцах `floor` и `floors_total`равны.\n",
    "Во всех остальных случаях - «другой».\n",
    "Воспользуемся методом apply() для формирования нового столбца по данным из существующего."
   ]
  },
  {
   "cell_type": "code",
   "execution_count": 165,
   "metadata": {},
   "outputs": [
    {
     "data": {
      "text/html": [
       "<div>\n",
       "<style scoped>\n",
       "    .dataframe tbody tr th:only-of-type {\n",
       "        vertical-align: middle;\n",
       "    }\n",
       "\n",
       "    .dataframe tbody tr th {\n",
       "        vertical-align: top;\n",
       "    }\n",
       "\n",
       "    .dataframe thead th {\n",
       "        text-align: right;\n",
       "    }\n",
       "</style>\n",
       "<table border=\"1\" class=\"dataframe\">\n",
       "  <thead>\n",
       "    <tr style=\"text-align: right;\">\n",
       "      <th></th>\n",
       "      <th>total_images</th>\n",
       "      <th>last_price</th>\n",
       "      <th>total_area</th>\n",
       "      <th>first_day_exposition</th>\n",
       "      <th>rooms</th>\n",
       "      <th>ceiling_height</th>\n",
       "      <th>floors_total</th>\n",
       "      <th>living_area</th>\n",
       "      <th>floor</th>\n",
       "      <th>is_apartment</th>\n",
       "      <th>...</th>\n",
       "      <th>ponds_around3000</th>\n",
       "      <th>ponds_nearest</th>\n",
       "      <th>days_exposition</th>\n",
       "      <th>price_1m2</th>\n",
       "      <th>day_of_piblication_nmb</th>\n",
       "      <th>day_of_piblication</th>\n",
       "      <th>month_of_piblication_nmb</th>\n",
       "      <th>month_of_piblication</th>\n",
       "      <th>year_of_piblication</th>\n",
       "      <th>floor_type</th>\n",
       "    </tr>\n",
       "  </thead>\n",
       "  <tbody>\n",
       "    <tr>\n",
       "      <th>0</th>\n",
       "      <td>20</td>\n",
       "      <td>13000000.0</td>\n",
       "      <td>108.0</td>\n",
       "      <td>2019-03-07</td>\n",
       "      <td>3</td>\n",
       "      <td>2.70</td>\n",
       "      <td>16.0</td>\n",
       "      <td>51.0</td>\n",
       "      <td>8</td>\n",
       "      <td>False</td>\n",
       "      <td>...</td>\n",
       "      <td>2.0</td>\n",
       "      <td>755.0</td>\n",
       "      <td>NaN</td>\n",
       "      <td>120370.37</td>\n",
       "      <td>3</td>\n",
       "      <td>Четверг</td>\n",
       "      <td>3</td>\n",
       "      <td>Март</td>\n",
       "      <td>2019</td>\n",
       "      <td>другой</td>\n",
       "    </tr>\n",
       "    <tr>\n",
       "      <th>1</th>\n",
       "      <td>7</td>\n",
       "      <td>3350000.0</td>\n",
       "      <td>40.4</td>\n",
       "      <td>2018-12-04</td>\n",
       "      <td>1</td>\n",
       "      <td>NaN</td>\n",
       "      <td>11.0</td>\n",
       "      <td>18.6</td>\n",
       "      <td>1</td>\n",
       "      <td>False</td>\n",
       "      <td>...</td>\n",
       "      <td>0.0</td>\n",
       "      <td>NaN</td>\n",
       "      <td>81.0</td>\n",
       "      <td>82920.79</td>\n",
       "      <td>1</td>\n",
       "      <td>Вторник</td>\n",
       "      <td>12</td>\n",
       "      <td>Декабрь</td>\n",
       "      <td>2018</td>\n",
       "      <td>первый</td>\n",
       "    </tr>\n",
       "    <tr>\n",
       "      <th>2</th>\n",
       "      <td>10</td>\n",
       "      <td>5196000.0</td>\n",
       "      <td>56.0</td>\n",
       "      <td>2015-08-20</td>\n",
       "      <td>2</td>\n",
       "      <td>NaN</td>\n",
       "      <td>5.0</td>\n",
       "      <td>34.3</td>\n",
       "      <td>4</td>\n",
       "      <td>False</td>\n",
       "      <td>...</td>\n",
       "      <td>2.0</td>\n",
       "      <td>574.0</td>\n",
       "      <td>558.0</td>\n",
       "      <td>92785.71</td>\n",
       "      <td>3</td>\n",
       "      <td>Четверг</td>\n",
       "      <td>8</td>\n",
       "      <td>Август</td>\n",
       "      <td>2015</td>\n",
       "      <td>другой</td>\n",
       "    </tr>\n",
       "    <tr>\n",
       "      <th>3</th>\n",
       "      <td>0</td>\n",
       "      <td>64900000.0</td>\n",
       "      <td>159.0</td>\n",
       "      <td>2015-07-24</td>\n",
       "      <td>3</td>\n",
       "      <td>NaN</td>\n",
       "      <td>14.0</td>\n",
       "      <td>NaN</td>\n",
       "      <td>9</td>\n",
       "      <td>False</td>\n",
       "      <td>...</td>\n",
       "      <td>3.0</td>\n",
       "      <td>234.0</td>\n",
       "      <td>424.0</td>\n",
       "      <td>408176.10</td>\n",
       "      <td>4</td>\n",
       "      <td>Пятница</td>\n",
       "      <td>7</td>\n",
       "      <td>Июль</td>\n",
       "      <td>2015</td>\n",
       "      <td>другой</td>\n",
       "    </tr>\n",
       "    <tr>\n",
       "      <th>4</th>\n",
       "      <td>2</td>\n",
       "      <td>10000000.0</td>\n",
       "      <td>100.0</td>\n",
       "      <td>2018-06-19</td>\n",
       "      <td>2</td>\n",
       "      <td>3.03</td>\n",
       "      <td>14.0</td>\n",
       "      <td>32.0</td>\n",
       "      <td>13</td>\n",
       "      <td>False</td>\n",
       "      <td>...</td>\n",
       "      <td>1.0</td>\n",
       "      <td>48.0</td>\n",
       "      <td>121.0</td>\n",
       "      <td>100000.00</td>\n",
       "      <td>1</td>\n",
       "      <td>Вторник</td>\n",
       "      <td>6</td>\n",
       "      <td>Июнь</td>\n",
       "      <td>2018</td>\n",
       "      <td>другой</td>\n",
       "    </tr>\n",
       "  </tbody>\n",
       "</table>\n",
       "<p>5 rows × 29 columns</p>\n",
       "</div>"
      ],
      "text/plain": [
       "   total_images  last_price  total_area first_day_exposition  rooms  \\\n",
       "0            20  13000000.0       108.0           2019-03-07      3   \n",
       "1             7   3350000.0        40.4           2018-12-04      1   \n",
       "2            10   5196000.0        56.0           2015-08-20      2   \n",
       "3             0  64900000.0       159.0           2015-07-24      3   \n",
       "4             2  10000000.0       100.0           2018-06-19      2   \n",
       "\n",
       "   ceiling_height  floors_total  living_area  floor  is_apartment  ...  \\\n",
       "0            2.70          16.0         51.0      8         False  ...   \n",
       "1             NaN          11.0         18.6      1         False  ...   \n",
       "2             NaN           5.0         34.3      4         False  ...   \n",
       "3             NaN          14.0          NaN      9         False  ...   \n",
       "4            3.03          14.0         32.0     13         False  ...   \n",
       "\n",
       "   ponds_around3000  ponds_nearest  days_exposition  price_1m2  \\\n",
       "0               2.0          755.0              NaN  120370.37   \n",
       "1               0.0            NaN             81.0   82920.79   \n",
       "2               2.0          574.0            558.0   92785.71   \n",
       "3               3.0          234.0            424.0  408176.10   \n",
       "4               1.0           48.0            121.0  100000.00   \n",
       "\n",
       "  day_of_piblication_nmb  day_of_piblication  month_of_piblication_nmb  \\\n",
       "0                      3             Четверг                         3   \n",
       "1                      1             Вторник                        12   \n",
       "2                      3             Четверг                         8   \n",
       "3                      4             Пятница                         7   \n",
       "4                      1             Вторник                         6   \n",
       "\n",
       "   month_of_piblication  year_of_piblication  floor_type  \n",
       "0                  Март                 2019      другой  \n",
       "1               Декабрь                 2018      первый  \n",
       "2                Август                 2015      другой  \n",
       "3                  Июль                 2015      другой  \n",
       "4                  Июнь                 2018      другой  \n",
       "\n",
       "[5 rows x 29 columns]"
      ]
     },
     "execution_count": 165,
     "metadata": {},
     "output_type": "execute_result"
    }
   ],
   "source": [
    "def floor_type_func(row): # создаем функцию с аргументом строки в датафрейме\n",
    "    if row['floor'] == 1: # условие для первого этажа\n",
    "        return 'первый'\n",
    "    elif row['floor'] == row['floors_total']: # условие для последнего этажа\n",
    "        return 'последний'\n",
    "    else:\n",
    "        return 'другой'\n",
    "# создаем новый столбец и помещаем в него данные методом apply\n",
    "# т.к. нам нужны данные из нескольких столбцов метод вызываем ко всему датафрейму\n",
    "# чтобы перебрать все строки без цикла apply() принимает параметр axis=1\n",
    "data['floor_type'] = data.apply(floor_type_func, axis=1)\n",
    "data.head() # проверим наличие нового столбца"
   ]
  },
  {
   "cell_type": "markdown",
   "metadata": {},
   "source": [
    "### Расстояние до центра города в километрах"
   ]
  },
  {
   "cell_type": "code",
   "execution_count": 166,
   "metadata": {},
   "outputs": [
    {
     "data": {
      "text/html": [
       "<div>\n",
       "<style scoped>\n",
       "    .dataframe tbody tr th:only-of-type {\n",
       "        vertical-align: middle;\n",
       "    }\n",
       "\n",
       "    .dataframe tbody tr th {\n",
       "        vertical-align: top;\n",
       "    }\n",
       "\n",
       "    .dataframe thead th {\n",
       "        text-align: right;\n",
       "    }\n",
       "</style>\n",
       "<table border=\"1\" class=\"dataframe\">\n",
       "  <thead>\n",
       "    <tr style=\"text-align: right;\">\n",
       "      <th></th>\n",
       "      <th>total_images</th>\n",
       "      <th>last_price</th>\n",
       "      <th>total_area</th>\n",
       "      <th>first_day_exposition</th>\n",
       "      <th>rooms</th>\n",
       "      <th>ceiling_height</th>\n",
       "      <th>floors_total</th>\n",
       "      <th>living_area</th>\n",
       "      <th>floor</th>\n",
       "      <th>is_apartment</th>\n",
       "      <th>...</th>\n",
       "      <th>ponds_nearest</th>\n",
       "      <th>days_exposition</th>\n",
       "      <th>price_1m2</th>\n",
       "      <th>day_of_piblication_nmb</th>\n",
       "      <th>day_of_piblication</th>\n",
       "      <th>month_of_piblication_nmb</th>\n",
       "      <th>month_of_piblication</th>\n",
       "      <th>year_of_piblication</th>\n",
       "      <th>floor_type</th>\n",
       "      <th>cityCenters_nearest_km</th>\n",
       "    </tr>\n",
       "  </thead>\n",
       "  <tbody>\n",
       "    <tr>\n",
       "      <th>0</th>\n",
       "      <td>20</td>\n",
       "      <td>13000000.0</td>\n",
       "      <td>108.0</td>\n",
       "      <td>2019-03-07</td>\n",
       "      <td>3</td>\n",
       "      <td>2.70</td>\n",
       "      <td>16.0</td>\n",
       "      <td>51.0</td>\n",
       "      <td>8</td>\n",
       "      <td>False</td>\n",
       "      <td>...</td>\n",
       "      <td>755.0</td>\n",
       "      <td>NaN</td>\n",
       "      <td>120370.37</td>\n",
       "      <td>3</td>\n",
       "      <td>Четверг</td>\n",
       "      <td>3</td>\n",
       "      <td>Март</td>\n",
       "      <td>2019</td>\n",
       "      <td>другой</td>\n",
       "      <td>16.0</td>\n",
       "    </tr>\n",
       "    <tr>\n",
       "      <th>1</th>\n",
       "      <td>7</td>\n",
       "      <td>3350000.0</td>\n",
       "      <td>40.4</td>\n",
       "      <td>2018-12-04</td>\n",
       "      <td>1</td>\n",
       "      <td>NaN</td>\n",
       "      <td>11.0</td>\n",
       "      <td>18.6</td>\n",
       "      <td>1</td>\n",
       "      <td>False</td>\n",
       "      <td>...</td>\n",
       "      <td>NaN</td>\n",
       "      <td>81.0</td>\n",
       "      <td>82920.79</td>\n",
       "      <td>1</td>\n",
       "      <td>Вторник</td>\n",
       "      <td>12</td>\n",
       "      <td>Декабрь</td>\n",
       "      <td>2018</td>\n",
       "      <td>первый</td>\n",
       "      <td>19.0</td>\n",
       "    </tr>\n",
       "    <tr>\n",
       "      <th>2</th>\n",
       "      <td>10</td>\n",
       "      <td>5196000.0</td>\n",
       "      <td>56.0</td>\n",
       "      <td>2015-08-20</td>\n",
       "      <td>2</td>\n",
       "      <td>NaN</td>\n",
       "      <td>5.0</td>\n",
       "      <td>34.3</td>\n",
       "      <td>4</td>\n",
       "      <td>False</td>\n",
       "      <td>...</td>\n",
       "      <td>574.0</td>\n",
       "      <td>558.0</td>\n",
       "      <td>92785.71</td>\n",
       "      <td>3</td>\n",
       "      <td>Четверг</td>\n",
       "      <td>8</td>\n",
       "      <td>Август</td>\n",
       "      <td>2015</td>\n",
       "      <td>другой</td>\n",
       "      <td>14.0</td>\n",
       "    </tr>\n",
       "    <tr>\n",
       "      <th>3</th>\n",
       "      <td>0</td>\n",
       "      <td>64900000.0</td>\n",
       "      <td>159.0</td>\n",
       "      <td>2015-07-24</td>\n",
       "      <td>3</td>\n",
       "      <td>NaN</td>\n",
       "      <td>14.0</td>\n",
       "      <td>NaN</td>\n",
       "      <td>9</td>\n",
       "      <td>False</td>\n",
       "      <td>...</td>\n",
       "      <td>234.0</td>\n",
       "      <td>424.0</td>\n",
       "      <td>408176.10</td>\n",
       "      <td>4</td>\n",
       "      <td>Пятница</td>\n",
       "      <td>7</td>\n",
       "      <td>Июль</td>\n",
       "      <td>2015</td>\n",
       "      <td>другой</td>\n",
       "      <td>7.0</td>\n",
       "    </tr>\n",
       "    <tr>\n",
       "      <th>4</th>\n",
       "      <td>2</td>\n",
       "      <td>10000000.0</td>\n",
       "      <td>100.0</td>\n",
       "      <td>2018-06-19</td>\n",
       "      <td>2</td>\n",
       "      <td>3.03</td>\n",
       "      <td>14.0</td>\n",
       "      <td>32.0</td>\n",
       "      <td>13</td>\n",
       "      <td>False</td>\n",
       "      <td>...</td>\n",
       "      <td>48.0</td>\n",
       "      <td>121.0</td>\n",
       "      <td>100000.00</td>\n",
       "      <td>1</td>\n",
       "      <td>Вторник</td>\n",
       "      <td>6</td>\n",
       "      <td>Июнь</td>\n",
       "      <td>2018</td>\n",
       "      <td>другой</td>\n",
       "      <td>8.0</td>\n",
       "    </tr>\n",
       "  </tbody>\n",
       "</table>\n",
       "<p>5 rows × 30 columns</p>\n",
       "</div>"
      ],
      "text/plain": [
       "   total_images  last_price  total_area first_day_exposition  rooms  \\\n",
       "0            20  13000000.0       108.0           2019-03-07      3   \n",
       "1             7   3350000.0        40.4           2018-12-04      1   \n",
       "2            10   5196000.0        56.0           2015-08-20      2   \n",
       "3             0  64900000.0       159.0           2015-07-24      3   \n",
       "4             2  10000000.0       100.0           2018-06-19      2   \n",
       "\n",
       "   ceiling_height  floors_total  living_area  floor  is_apartment  ...  \\\n",
       "0            2.70          16.0         51.0      8         False  ...   \n",
       "1             NaN          11.0         18.6      1         False  ...   \n",
       "2             NaN           5.0         34.3      4         False  ...   \n",
       "3             NaN          14.0          NaN      9         False  ...   \n",
       "4            3.03          14.0         32.0     13         False  ...   \n",
       "\n",
       "   ponds_nearest  days_exposition  price_1m2  day_of_piblication_nmb  \\\n",
       "0          755.0              NaN  120370.37                       3   \n",
       "1            NaN             81.0   82920.79                       1   \n",
       "2          574.0            558.0   92785.71                       3   \n",
       "3          234.0            424.0  408176.10                       4   \n",
       "4           48.0            121.0  100000.00                       1   \n",
       "\n",
       "  day_of_piblication  month_of_piblication_nmb  month_of_piblication  \\\n",
       "0            Четверг                         3                  Март   \n",
       "1            Вторник                        12               Декабрь   \n",
       "2            Четверг                         8                Август   \n",
       "3            Пятница                         7                  Июль   \n",
       "4            Вторник                         6                  Июнь   \n",
       "\n",
       "   year_of_piblication  floor_type  cityCenters_nearest_km  \n",
       "0                 2019      другой                    16.0  \n",
       "1                 2018      первый                    19.0  \n",
       "2                 2015      другой                    14.0  \n",
       "3                 2015      другой                     7.0  \n",
       "4                 2018      другой                     8.0  \n",
       "\n",
       "[5 rows x 30 columns]"
      ]
     },
     "execution_count": 166,
     "metadata": {},
     "output_type": "execute_result"
    }
   ],
   "source": [
    "data['cityCenters_nearest_km'] = round(data['cityCenters_nearest'] / 1000)\n",
    "data.head()"
   ]
  },
  {
   "cell_type": "markdown",
   "metadata": {
    "id": "pPyxrKWTAwb-"
   },
   "source": [
    "## Проведите исследовательский анализ данных"
   ]
  },
  {
   "cell_type": "markdown",
   "metadata": {
    "id": "V2f0D3kLAwb-"
   },
   "source": [
    "### Изучение параметров объектов"
   ]
  },
  {
   "cell_type": "markdown",
   "metadata": {},
   "source": [
    "#### Общая площадь"
   ]
  },
  {
   "cell_type": "code",
   "execution_count": 167,
   "metadata": {
    "scrolled": true
   },
   "outputs": [
    {
     "data": {
      "text/plain": [
       "<AxesSubplot:>"
      ]
     },
     "execution_count": 167,
     "metadata": {},
     "output_type": "execute_result"
    },
    {
     "data": {
      "image/png": "[encoded data removed]",
      "text/plain": [
       "<Figure size 432x288 with 1 Axes>"
      ]
     },
     "metadata": {
      "needs_background": "light"
     },
     "output_type": "display_data"
    }
   ],
   "source": [
    "data['total_area'].hist(range=(0, 350))"
   ]
  },
  {
   "cell_type": "markdown",
   "metadata": {},
   "source": [
    "**Судя по гистограмме, большая часть квартир продается площадью в районе 50 кв.м., основная масса квартир площадью\n",
    "до 100 кв.м., от 170 до 310 кв.м. - единицы квартир**"
   ]
  },
  {
   "cell_type": "markdown",
   "metadata": {},
   "source": [
    "#### Жилая площадь"
   ]
  },
  {
   "cell_type": "code",
   "execution_count": 168,
   "metadata": {},
   "outputs": [
    {
     "data": {
      "text/plain": [
       "<AxesSubplot:>"
      ]
     },
     "execution_count": 168,
     "metadata": {},
     "output_type": "execute_result"
    },
    {
     "data": {
      "image/png": "[encoded data removed]",
      "text/plain": [
       "<Figure size 432x288 with 1 Axes>"
      ]
     },
     "metadata": {
      "needs_background": "light"
     },
     "output_type": "display_data"
    }
   ],
   "source": [
    "data['living_area'].hist(range=(0, 220))"
   ]
  },
  {
   "cell_type": "markdown",
   "metadata": {},
   "source": [
    "**Графики общей площади и жилой площади должны совпадать с небольшим сдвигом влево, т.к. жилая площадь должна быть меньше общей площади. Таким образом, делаем вывод, что данные в корректны, а также в продаже большинство объектов до 50 кв.м. жилой площадью.**"
   ]
  },
  {
   "cell_type": "markdown",
   "metadata": {},
   "source": [
    "#### Площадь кухни"
   ]
  },
  {
   "cell_type": "code",
   "execution_count": 169,
   "metadata": {
    "scrolled": true
   },
   "outputs": [
    {
     "data": {
      "text/plain": [
       "<AxesSubplot:>"
      ]
     },
     "execution_count": 169,
     "metadata": {},
     "output_type": "execute_result"
    },
    {
     "data": {
      "image/png": "[encoded data removed]",
      "text/plain": [
       "<Figure size 432x288 with 1 Axes>"
      ]
     },
     "metadata": {
      "needs_background": "light"
     },
     "output_type": "display_data"
    }
   ],
   "source": [
    "data['kitchen_area'].hist(range=(0, 60))"
   ]
  },
  {
   "cell_type": "markdown",
   "metadata": {},
   "source": [
    "**Большинство продаваемых объектов с кухней 10 кв.м., а объектов с площадью больше 55 кв.м. нет в продаже. Если Вы хотите купить квартиру с площадью кухни от 23 кв.м., Вы должны понимать, что таких объектов на рынке недвижимости очень мало.**"
   ]
  },
  {
   "cell_type": "markdown",
   "metadata": {},
   "source": [
    "#### Цена объекта"
   ]
  },
  {
   "cell_type": "markdown",
   "metadata": {},
   "source": [
    "Посмотрим, какие данные находятся в графе цена методом describe()"
   ]
  },
  {
   "cell_type": "code",
   "execution_count": 170,
   "metadata": {
    "scrolled": false
   },
   "outputs": [
    {
     "data": {
      "text/plain": [
       "count    2.356500e+04\n",
       "mean     6.540058e+06\n",
       "std      1.091093e+07\n",
       "min      1.219000e+04\n",
       "25%      3.400000e+06\n",
       "50%      4.646000e+06\n",
       "75%      6.790000e+06\n",
       "max      7.630000e+08\n",
       "Name: last_price, dtype: float64"
      ]
     },
     "execution_count": 170,
     "metadata": {},
     "output_type": "execute_result"
    }
   ],
   "source": [
    "data['last_price'].describe() "
   ]
  },
  {
   "cell_type": "markdown",
   "metadata": {},
   "source": [
    "Минимальное и максимальное значения похожи на выбросы.\n",
    "Проверим, какая цена для самых дешевых объектов"
   ]
  },
  {
   "cell_type": "code",
   "execution_count": 171,
   "metadata": {
    "scrolled": true
   },
   "outputs": [
    {
     "data": {
      "text/plain": [
       "8793      12190.0\n",
       "17456    430000.0\n",
       "14911    430000.0\n",
       "16274    440000.0\n",
       "9581     450000.0\n",
       "17676    450000.0\n",
       "16219    450000.0\n",
       "5698     450000.0\n",
       "18867    470000.0\n",
       "23484    470000.0\n",
       "Name: last_price, dtype: float64"
      ]
     },
     "execution_count": 171,
     "metadata": {},
     "output_type": "execute_result"
    }
   ],
   "source": [
    "data = data.sort_values(by='last_price')\n",
    "data['last_price'].head(10)"
   ]
  },
  {
   "cell_type": "markdown",
   "metadata": {},
   "source": [
    "Цена квартиры 12190 будем считать выбросом и минимальное значение для цены примем 430000.\n",
    "Также видно, что максимальное значение сильно выбивается. \n",
    "Построим диаграмму размаха в диапазонах от 430тыс до 20млн"
   ]
  },
  {
   "cell_type": "code",
   "execution_count": 172,
   "metadata": {},
   "outputs": [
    {
     "data": {
      "text/plain": [
       "(430000.0, 20000000.0)"
      ]
     },
     "execution_count": 172,
     "metadata": {},
     "output_type": "execute_result"
    },
    {
     "data": {
      "image/png": "[encoded data removed]",
      "text/plain": [
       "<Figure size 432x288 with 1 Axes>"
      ]
     },
     "metadata": {
      "needs_background": "light"
     },
     "output_type": "display_data"
    }
   ],
   "source": [
    "data.boxplot('last_price')\n",
    "plt.title('Диаграмма размаха цены')\n",
    "plt.ylim(4.3e+05, 2e+07)"
   ]
  },
  {
   "cell_type": "markdown",
   "metadata": {},
   "source": [
    "Отбросим значения меньше 430тыс и больше 12млн методом query()"
   ]
  },
  {
   "cell_type": "code",
   "execution_count": 173,
   "metadata": {},
   "outputs": [],
   "source": [
    "data_opt_price = data.query('430000 < last_price < 12000000')"
   ]
  },
  {
   "cell_type": "markdown",
   "metadata": {},
   "source": [
    "Проверим, какая доля данных от начального числа осталась для исследования, используя DataFrame.shape"
   ]
  },
  {
   "cell_type": "code",
   "execution_count": 174,
   "metadata": {},
   "outputs": [
    {
     "data": {
      "text/plain": [
       "0.9157224697644812"
      ]
     },
     "execution_count": 174,
     "metadata": {},
     "output_type": "execute_result"
    }
   ],
   "source": [
    "shape_data = data.shape # получаем количество строк и столбцов в первоначальном датафрейме\n",
    "shape_data_opt_price = data_opt_price.shape # получаем количество строк и столбцов в отфильтрованном датафрейме\n",
    "\n",
    "shape_data_opt_price[0] / shape_data[0] # интересуют только строки"
   ]
  },
  {
   "cell_type": "markdown",
   "metadata": {},
   "source": [
    "Т.к. мы оставили более 90% данных, то это не вредит на актуальность полученных данных"
   ]
  },
  {
   "cell_type": "markdown",
   "metadata": {},
   "source": [
    "Теперь по этим данным построим гистограмму"
   ]
  },
  {
   "cell_type": "code",
   "execution_count": 175,
   "metadata": {
    "scrolled": false
   },
   "outputs": [
    {
     "data": {
      "text/plain": [
       "<AxesSubplot:>"
      ]
     },
     "execution_count": 175,
     "metadata": {},
     "output_type": "execute_result"
    },
    {
     "data": {
      "image/png": "[encoded data removed]",
      "text/plain": [
       "<Figure size 432x288 with 1 Axes>"
      ]
     },
     "metadata": {
      "needs_background": "light"
     },
     "output_type": "display_data"
    }
   ],
   "source": [
    "data_opt_price['last_price'].hist()"
   ]
  },
  {
   "cell_type": "markdown",
   "metadata": {},
   "source": [
    "**Судя по гистограмме большинство объектов продается по цене в районе 4 млн руб, что соответствует тому, что большинство объектов с квадратурой 50 кв.м. (средние квартиры), а очень дорогих квартир гораздо меньше, также как и квартир с большой площадью.**"
   ]
  },
  {
   "cell_type": "markdown",
   "metadata": {},
   "source": [
    "#### Количество комнат"
   ]
  },
  {
   "cell_type": "code",
   "execution_count": 176,
   "metadata": {},
   "outputs": [
    {
     "data": {
      "text/plain": [
       "<AxesSubplot:>"
      ]
     },
     "execution_count": 176,
     "metadata": {},
     "output_type": "execute_result"
    },
    {
     "data": {
      "image/png": "[encoded data removed]",
      "text/plain": [
       "<Figure size 432x288 with 1 Axes>"
      ]
     },
     "metadata": {
      "needs_background": "light"
     },
     "output_type": "display_data"
    }
   ],
   "source": [
    "data_opt_price['rooms'].hist(range=(0, 10))"
   ]
  },
  {
   "cell_type": "markdown",
   "metadata": {},
   "source": [
    "**Количество комнат 0 говорит о том, что это квартиры-студии, их очень мало в продаже также как и объектов с количеством комнат более 5, основная же масса продаваемых объектов - однокомнатные и двухкомнатные квартиры, что соответствует наиболее популярной общей площади квартир 50 кв.м.**"
   ]
  },
  {
   "cell_type": "markdown",
   "metadata": {},
   "source": [
    "#### Высота потолков"
   ]
  },
  {
   "cell_type": "code",
   "execution_count": 177,
   "metadata": {
    "scrolled": true
   },
   "outputs": [
    {
     "data": {
      "text/plain": [
       "<AxesSubplot:>"
      ]
     },
     "execution_count": 177,
     "metadata": {},
     "output_type": "execute_result"
    },
    {
     "data": {
      "image/png": "[encoded data removed]",
      "text/plain": [
       "<Figure size 432x288 with 1 Axes>"
      ]
     },
     "metadata": {
      "needs_background": "light"
     },
     "output_type": "display_data"
    }
   ],
   "source": [
    "data_opt_price['ceiling_height'].hist(range=(2, 4.7))"
   ]
  },
  {
   "cell_type": "markdown",
   "metadata": {},
   "source": [
    "**Высота потолков в основном 2.75м, но также много квартир с высотой потолков 2.5м, а высоких квартир не так много.**"
   ]
  },
  {
   "cell_type": "markdown",
   "metadata": {},
   "source": [
    "#### Тип этажа"
   ]
  },
  {
   "cell_type": "code",
   "execution_count": 178,
   "metadata": {},
   "outputs": [
    {
     "data": {
      "text/plain": [
       "<AxesSubplot:>"
      ]
     },
     "execution_count": 178,
     "metadata": {},
     "output_type": "execute_result"
    },
    {
     "data": {
      "image/png": "[encoded data removed]",
      "text/plain": [
       "<Figure size 432x288 with 1 Axes>"
      ]
     },
     "metadata": {
      "needs_background": "light"
     },
     "output_type": "display_data"
    }
   ],
   "source": [
    "data_opt_price['floor_type'].hist()"
   ]
  },
  {
   "cell_type": "markdown",
   "metadata": {},
   "source": [
    "**Объекты есть на всех этажах, включая первый и последний, но между ними значительно больше.**"
   ]
  },
  {
   "cell_type": "markdown",
   "metadata": {},
   "source": [
    "#### Oбщее количество этажей в доме"
   ]
  },
  {
   "cell_type": "code",
   "execution_count": 179,
   "metadata": {},
   "outputs": [
    {
     "data": {
      "text/plain": [
       "<AxesSubplot:>"
      ]
     },
     "execution_count": 179,
     "metadata": {},
     "output_type": "execute_result"
    },
    {
     "data": {
      "image/png": "[encoded data removed]",
      "text/plain": [
       "<Figure size 432x288 with 1 Axes>"
      ]
     },
     "metadata": {
      "needs_background": "light"
     },
     "output_type": "display_data"
    }
   ],
   "source": [
    "data_opt_price['floors_total'].hist(range=(0, 35))"
   ]
  },
  {
   "cell_type": "markdown",
   "metadata": {},
   "source": [
    "**Большинство объектов на рынке недвижимости находится в пятиэтажных домах, а также в девятиэтажных**"
   ]
  },
  {
   "cell_type": "markdown",
   "metadata": {},
   "source": [
    "#### Расстояние до центра города в метрах"
   ]
  },
  {
   "cell_type": "code",
   "execution_count": 180,
   "metadata": {},
   "outputs": [
    {
     "data": {
      "text/plain": [
       "<AxesSubplot:>"
      ]
     },
     "execution_count": 180,
     "metadata": {},
     "output_type": "execute_result"
    },
    {
     "data": {
      "image/png": "[encoded data removed]",
      "text/plain": [
       "<Figure size 432x288 with 1 Axes>"
      ]
     },
     "metadata": {
      "needs_background": "light"
     },
     "output_type": "display_data"
    }
   ],
   "source": [
    "data_opt_price['cityCenters_nearest'].hist()"
   ]
  },
  {
   "cell_type": "markdown",
   "metadata": {},
   "source": [
    "Большинство объектов находится в радиусе 8-20 км. Посмотрим подлиже этот диапазон"
   ]
  },
  {
   "cell_type": "code",
   "execution_count": 181,
   "metadata": {
    "scrolled": true
   },
   "outputs": [
    {
     "data": {
      "text/plain": [
       "<AxesSubplot:>"
      ]
     },
     "execution_count": 181,
     "metadata": {},
     "output_type": "execute_result"
    },
    {
     "data": {
      "image/png": "[encoded data removed]",
      "text/plain": [
       "<Figure size 432x288 with 1 Axes>"
      ]
     },
     "metadata": {
      "needs_background": "light"
     },
     "output_type": "display_data"
    }
   ],
   "source": [
    "data_opt_price['cityCenters_nearest'].hist(range=(8000, 20000))"
   ]
  },
  {
   "cell_type": "markdown",
   "metadata": {},
   "source": [
    "**Большинство объектов находится на расстоянии 12-15 км от центра города**"
   ]
  },
  {
   "cell_type": "markdown",
   "metadata": {},
   "source": [
    "#### Расстояние до ближайшего парка"
   ]
  },
  {
   "cell_type": "code",
   "execution_count": 182,
   "metadata": {},
   "outputs": [
    {
     "data": {
      "text/plain": [
       "<AxesSubplot:>"
      ]
     },
     "execution_count": 182,
     "metadata": {},
     "output_type": "execute_result"
    },
    {
     "data": {
      "image/png": "[encoded data removed]",
      "text/plain": [
       "<Figure size 432x288 with 1 Axes>"
      ]
     },
     "metadata": {
      "needs_background": "light"
     },
     "output_type": "display_data"
    }
   ],
   "source": [
    "data_opt_price['parks_nearest'].hist()"
   ]
  },
  {
   "cell_type": "markdown",
   "metadata": {},
   "source": [
    "**Большинство объектов находится вблизи парков в районе 500м и меньше.**"
   ]
  },
  {
   "cell_type": "markdown",
   "metadata": {},
   "source": [
    "### Скорость продажи квартиры"
   ]
  },
  {
   "cell_type": "markdown",
   "metadata": {},
   "source": [
    "Изучим данные в столбце `days_exposition`"
   ]
  },
  {
   "cell_type": "code",
   "execution_count": 183,
   "metadata": {},
   "outputs": [
    {
     "data": {
      "text/plain": [
       "count    18944.000000\n",
       "mean       173.365287\n",
       "std        211.958654\n",
       "min          1.000000\n",
       "25%         44.000000\n",
       "50%         91.000000\n",
       "75%        219.000000\n",
       "max       1580.000000\n",
       "Name: days_exposition, dtype: float64"
      ]
     },
     "execution_count": 183,
     "metadata": {},
     "output_type": "execute_result"
    }
   ],
   "source": [
    "data_opt_price['days_exposition'].describe()"
   ]
  },
  {
   "cell_type": "markdown",
   "metadata": {},
   "source": [
    "Минимальное значение продажи квартиры - 1 день, максимальное - критично долго 1580 дней, это больше четырех лет. \n",
    "Думаю, это слишком долго и нестандартная ситуация для тех, кто хочет продать в короткие сроки. \n",
    "Стандартное отклоненение достаточно большое - 211 дней, что говорит о большом разбросе данных, поэтому и такое большое отличие между средним значением (173 дня) и медианой (91 день). Т.к. медиана не учитывает выбросы в большую или меньшую сторону, то она является более объективной оценкой для определения среднестатистического срока продажи объекта недвижимости."
   ]
  },
  {
   "cell_type": "markdown",
   "metadata": {},
   "source": [
    "Построим диаграмму размаха по этим данным"
   ]
  },
  {
   "cell_type": "code",
   "execution_count": 184,
   "metadata": {},
   "outputs": [
    {
     "data": {
      "text/plain": [
       "Text(0.5, 1.0, 'Диаграмма размаха срока продажи квартир')"
      ]
     },
     "execution_count": 184,
     "metadata": {},
     "output_type": "execute_result"
    },
    {
     "data": {
      "image/png": "[encoded data removed]",
      "text/plain": [
       "<Figure size 432x288 with 1 Axes>"
      ]
     },
     "metadata": {
      "needs_background": "light"
     },
     "output_type": "display_data"
    }
   ],
   "source": [
    "data_opt_price.boxplot('days_exposition')\n",
    "plt.title('Диаграмма размаха срока продажи квартир')"
   ]
  },
  {
   "cell_type": "markdown",
   "metadata": {},
   "source": [
    "Видно, что 500 дней, это выбросы. Исключим их из общих данных."
   ]
  },
  {
   "cell_type": "code",
   "execution_count": 185,
   "metadata": {},
   "outputs": [],
   "source": [
    "data_opt_price_exp = data_opt_price.query('days_exposition < 500')"
   ]
  },
  {
   "cell_type": "code",
   "execution_count": 186,
   "metadata": {},
   "outputs": [
    {
     "data": {
      "text/plain": [
       "<AxesSubplot:>"
      ]
     },
     "execution_count": 186,
     "metadata": {},
     "output_type": "execute_result"
    },
    {
     "data": {
      "image/png": "[encoded data removed]",
      "text/plain": [
       "<Figure size 432x288 with 1 Axes>"
      ]
     },
     "metadata": {
      "needs_background": "light"
     },
     "output_type": "display_data"
    }
   ],
   "source": [
    "data_opt_price_exp['days_exposition'].hist()"
   ]
  },
  {
   "cell_type": "markdown",
   "metadata": {},
   "source": [
    "Интересно, какая картина в первые 100 дней продажи. Построим еще одну гистограмму в диапазоне до 100 дней"
   ]
  },
  {
   "cell_type": "code",
   "execution_count": 187,
   "metadata": {},
   "outputs": [
    {
     "data": {
      "text/plain": [
       "<AxesSubplot:>"
      ]
     },
     "execution_count": 187,
     "metadata": {},
     "output_type": "execute_result"
    },
    {
     "data": {
      "image/png": "[encoded data removed]",
      "text/plain": [
       "<Figure size 432x288 with 1 Axes>"
      ]
     },
     "metadata": {
      "needs_background": "light"
     },
     "output_type": "display_data"
    }
   ],
   "source": [
    "data_opt_price_exp['days_exposition'].hist(bins=20, range=(0, 100))"
   ]
  },
  {
   "cell_type": "markdown",
   "metadata": {},
   "source": [
    "**Вывод:** \n",
    "\n",
    "**Самое популярное время продажи квартир 50 дней (созрел слоган \"гарантируем продажу Вашей 50-тиквадратной квартиры за 50 дней\"), экстремально быстрыми продажами можно считать сроки до 10 дней включительно, а необычно долгие продажи я бы посчитала те, что входят в диаграмму размаха и занимают 25% всех продаж, более 219 дней, а экстремально долгие, на которые я бы не рекомендовала опираться - от 500 дней.**"
   ]
  },
  {
   "cell_type": "markdown",
   "metadata": {},
   "source": [
    "### Определение факторов, которые больше всего влияют на общую стоимость объекта"
   ]
  },
  {
   "cell_type": "markdown",
   "metadata": {},
   "source": [
    "#### Зависимость цены квартиры от общей площади"
   ]
  },
  {
   "cell_type": "code",
   "execution_count": 188,
   "metadata": {},
   "outputs": [
    {
     "data": {
      "text/plain": [
       "<AxesSubplot:xlabel='last_price', ylabel='total_area'>"
      ]
     },
     "execution_count": 188,
     "metadata": {},
     "output_type": "execute_result"
    },
    {
     "data": {
      "image/png": "[encoded data removed]",
      "text/plain": [
       "<Figure size 432x288 with 1 Axes>"
      ]
     },
     "metadata": {
      "needs_background": "light"
     },
     "output_type": "display_data"
    }
   ],
   "source": [
    "# построим диаграмму рассеивания зависимости оптимальной цены от общей площади\n",
    "# параметром alpha сделаем точки полупрозрачными\n",
    "data_opt_price_exp.plot(x='last_price', y='total_area', kind='scatter', alpha=0.2) "
   ]
  },
  {
   "cell_type": "code",
   "execution_count": 189,
   "metadata": {},
   "outputs": [
    {
     "data": {
      "text/plain": [
       "0.7059067975411542"
      ]
     },
     "execution_count": 189,
     "metadata": {},
     "output_type": "execute_result"
    }
   ],
   "source": [
    "data_opt_price_exp['last_price'].corr(data_opt_price_exp['total_area']) #рассчитаем коэффициент корреляции Пирсона"
   ]
  },
  {
   "cell_type": "markdown",
   "metadata": {},
   "source": [
    "**График показывает и положительный коэффициент корреляции, близкий к единице, подтверждает наличие прямой  зависимости стоимости квартиры от ее общей площади, т.е. чем больше квартира, тем дороже она стоит.**"
   ]
  },
  {
   "cell_type": "markdown",
   "metadata": {},
   "source": [
    "#### Зависимость цены квартиры от жилой площади"
   ]
  },
  {
   "cell_type": "code",
   "execution_count": 190,
   "metadata": {},
   "outputs": [
    {
     "data": {
      "text/plain": [
       "<AxesSubplot:xlabel='last_price', ylabel='living_area'>"
      ]
     },
     "execution_count": 190,
     "metadata": {},
     "output_type": "execute_result"
    },
    {
     "data": {
      "image/png": "[encoded data removed]",
      "text/plain": [
       "<Figure size 432x288 with 1 Axes>"
      ]
     },
     "metadata": {
      "needs_background": "light"
     },
     "output_type": "display_data"
    }
   ],
   "source": [
    "data_opt_price_exp.plot(x='last_price', y='living_area', kind='scatter', alpha=0.2)"
   ]
  },
  {
   "cell_type": "code",
   "execution_count": 191,
   "metadata": {},
   "outputs": [
    {
     "data": {
      "text/plain": [
       "0.5876862173782224"
      ]
     },
     "execution_count": 191,
     "metadata": {},
     "output_type": "execute_result"
    }
   ],
   "source": [
    "data_opt_price_exp['last_price'].corr(data_opt_price_exp['living_area'])"
   ]
  },
  {
   "cell_type": "markdown",
   "metadata": {},
   "source": [
    "**График также показывает прямую зависимость между ценой и жилой площадью, но меньше, чем с общей площадью**"
   ]
  },
  {
   "cell_type": "markdown",
   "metadata": {},
   "source": [
    "#### Зависимость цены квартиры от площади кухни"
   ]
  },
  {
   "cell_type": "code",
   "execution_count": 192,
   "metadata": {},
   "outputs": [
    {
     "data": {
      "text/plain": [
       "<AxesSubplot:xlabel='last_price', ylabel='kitchen_area'>"
      ]
     },
     "execution_count": 192,
     "metadata": {},
     "output_type": "execute_result"
    },
    {
     "data": {
      "image/png": "[encoded data removed]",
      "text/plain": [
       "<Figure size 432x288 with 1 Axes>"
      ]
     },
     "metadata": {
      "needs_background": "light"
     },
     "output_type": "display_data"
    }
   ],
   "source": [
    "data_opt_price_exp.plot(x='last_price', y='kitchen_area', kind='scatter', alpha=0.2)"
   ]
  },
  {
   "cell_type": "code",
   "execution_count": 193,
   "metadata": {},
   "outputs": [
    {
     "data": {
      "text/plain": [
       "0.48754410087883804"
      ]
     },
     "execution_count": 193,
     "metadata": {},
     "output_type": "execute_result"
    }
   ],
   "source": [
    "data_opt_price_exp['last_price'].corr(data_opt_price_exp['kitchen_area'])"
   ]
  },
  {
   "cell_type": "markdown",
   "metadata": {},
   "source": [
    "**По графику и значению коэффициента корреляции мы видим, что зависимость практически не прослеживается между размерами кухни и стоимостью. Квартиры могут быть без кухни или маленькой кухней, или кухня объеденена с жилой площадью квартиры, поэтому я бы не выделяла площадь кухни как параметр, влияющий на общую стоимость объекта.**"
   ]
  },
  {
   "cell_type": "markdown",
   "metadata": {},
   "source": [
    "#### Зависимость цены квартиры от количества комнат"
   ]
  },
  {
   "cell_type": "code",
   "execution_count": 194,
   "metadata": {},
   "outputs": [
    {
     "data": {
      "text/plain": [
       "<AxesSubplot:xlabel='last_price', ylabel='rooms'>"
      ]
     },
     "execution_count": 194,
     "metadata": {},
     "output_type": "execute_result"
    },
    {
     "data": {
      "image/png": "[encoded data removed]",
      "text/plain": [
       "<Figure size 432x288 with 1 Axes>"
      ]
     },
     "metadata": {
      "needs_background": "light"
     },
     "output_type": "display_data"
    }
   ],
   "source": [
    "data_opt_price_exp.plot(x='last_price', y='rooms', kind='scatter', alpha=0.4)"
   ]
  },
  {
   "cell_type": "markdown",
   "metadata": {},
   "source": [
    "По графику виднооднокомнатные дороже студий, двухкомнатные квартиры дороже однокомнатных, а дальше непонятно.\n",
    "Предлагаю сравнить медианные значения стоимости квартир в зависимости от количества комнат. Исключим из этих данных семикомнатные квартиры, т.к. по ним слишком мало точек на графике."
   ]
  },
  {
   "cell_type": "code",
   "execution_count": 195,
   "metadata": {},
   "outputs": [
    {
     "data": {
      "text/plain": [
       "<AxesSubplot:xlabel='rooms'>"
      ]
     },
     "execution_count": 195,
     "metadata": {},
     "output_type": "execute_result"
    },
    {
     "data": {
      "image/png": "[encoded data removed]",
      "text/plain": [
       "<Figure size 432x288 with 1 Axes>"
      ]
     },
     "metadata": {
      "needs_background": "light"
     },
     "output_type": "display_data"
    }
   ],
   "source": [
    "# помня о бритве Оккамы, не будем создавать для этой цели новую переменную\n",
    "# методом query() уберем из графика семикомнатные квартиры и выше\n",
    "# применим метод pivot_table для подсчета медианы общей стоимости в категории количества комнат\n",
    "# типа графика выберем bar\n",
    "(\n",
    "    data_opt_price_exp\n",
    "    .query('rooms < 7')\n",
    "    .pivot_table(index='rooms', values='last_price', aggfunc='median')\n",
    "    .plot(kind='bar')\n",
    ")"
   ]
  },
  {
   "cell_type": "markdown",
   "metadata": {},
   "source": [
    "**График наглядно показывает, чем больше количество комнат, тем выше цена (в нашем случае медианная)**"
   ]
  },
  {
   "cell_type": "markdown",
   "metadata": {},
   "source": [
    "#### Зависимость цены квартиры от типа этажа"
   ]
  },
  {
   "cell_type": "markdown",
   "metadata": {},
   "source": [
    "Также следует применить группировку по типу этажа и посчитать медианное значение цены в каждой категории"
   ]
  },
  {
   "cell_type": "code",
   "execution_count": 196,
   "metadata": {},
   "outputs": [
    {
     "data": {
      "text/plain": [
       "<AxesSubplot:xlabel='floor_type'>"
      ]
     },
     "execution_count": 196,
     "metadata": {},
     "output_type": "execute_result"
    },
    {
     "data": {
      "image/png": "[encoded data removed]",
      "text/plain": [
       "<Figure size 432x288 with 1 Axes>"
      ]
     },
     "metadata": {
      "needs_background": "light"
     },
     "output_type": "display_data"
    }
   ],
   "source": [
    "(\n",
    "    data_opt_price_exp\n",
    "    .pivot_table(index='floor_type', values='last_price', aggfunc='median')\n",
    "    .plot(figsize=(6,4), kind='bar', grid=True)\n",
    ")"
   ]
  },
  {
   "cell_type": "markdown",
   "metadata": {},
   "source": [
    "**По графику видно, что самые дешевые квартиры находятся на первом этаже, также на последнем этаже квартиры дешевле по сравнению с другими этажами.**"
   ]
  },
  {
   "cell_type": "markdown",
   "metadata": {},
   "source": [
    "#### Зависимость цены квартиры от даты размещения (день недели, месяц, год)"
   ]
  },
  {
   "cell_type": "markdown",
   "metadata": {},
   "source": [
    "Зависимость цены квартиры от дня размещения"
   ]
  },
  {
   "cell_type": "code",
   "execution_count": 197,
   "metadata": {},
   "outputs": [
    {
     "data": {
      "text/plain": [
       "<AxesSubplot:xlabel='day_of_piblication'>"
      ]
     },
     "execution_count": 197,
     "metadata": {},
     "output_type": "execute_result"
    },
    {
     "data": {
      "image/png": "[encoded data removed]",
      "text/plain": [
       "<Figure size 432x288 with 1 Axes>"
      ]
     },
     "metadata": {
      "needs_background": "light"
     },
     "output_type": "display_data"
    }
   ],
   "source": [
    "(\n",
    "    data_opt_price_exp\n",
    "    .pivot_table(index='day_of_piblication', values='last_price', aggfunc='median')\n",
    "    .plot(kind='bar')\n",
    ")"
   ]
  },
  {
   "cell_type": "markdown",
   "metadata": {},
   "source": [
    "Зависимость цены квартиры от месяца размещения"
   ]
  },
  {
   "cell_type": "code",
   "execution_count": 198,
   "metadata": {
    "scrolled": true
   },
   "outputs": [
    {
     "data": {
      "text/plain": [
       "<AxesSubplot:xlabel='month_of_piblication'>"
      ]
     },
     "execution_count": 198,
     "metadata": {},
     "output_type": "execute_result"
    },
    {
     "data": {
      "image/png": "[encoded data removed]",
      "text/plain": [
       "<Figure size 432x288 with 1 Axes>"
      ]
     },
     "metadata": {
      "needs_background": "light"
     },
     "output_type": "display_data"
    }
   ],
   "source": [
    "(\n",
    "    data_opt_price_exp\n",
    "    .pivot_table(index='month_of_piblication', values='last_price', aggfunc='median')\n",
    "    .plot(kind='bar')\n",
    ")"
   ]
  },
  {
   "cell_type": "markdown",
   "metadata": {},
   "source": [
    "Зависимость цены квартиры от года размещения"
   ]
  },
  {
   "cell_type": "code",
   "execution_count": 199,
   "metadata": {},
   "outputs": [
    {
     "data": {
      "text/plain": [
       "<AxesSubplot:xlabel='year_of_piblication'>"
      ]
     },
     "execution_count": 199,
     "metadata": {},
     "output_type": "execute_result"
    },
    {
     "data": {
      "image/png": "[encoded data removed]",
      "text/plain": [
       "<Figure size 432x288 with 1 Axes>"
      ]
     },
     "metadata": {
      "needs_background": "light"
     },
     "output_type": "display_data"
    }
   ],
   "source": [
    "(\n",
    "    data_opt_price_exp\n",
    "    .pivot_table(index='year_of_piblication', values='last_price', aggfunc='median')\n",
    "    .plot(kind='bar')\n",
    ")"
   ]
  },
  {
   "cell_type": "markdown",
   "metadata": {},
   "source": [
    "<div class=\"alert alert-block alert-info\">\n",
    "    \n",
    "Ниже до вывода внесены новые расчеты\n",
    "</div>"
   ]
  },
  {
   "cell_type": "markdown",
   "metadata": {},
   "source": [
    "Прежде, чем делать вывод, проверим не уменьшилась ли площадь продаваемых квартир с течением времени"
   ]
  },
  {
   "cell_type": "code",
   "execution_count": 200,
   "metadata": {},
   "outputs": [
    {
     "data": {
      "text/plain": [
       "<AxesSubplot:xlabel='year_of_piblication'>"
      ]
     },
     "execution_count": 200,
     "metadata": {},
     "output_type": "execute_result"
    },
    {
     "data": {
      "image/png": "[encoded data removed]",
      "text/plain": [
       "<Figure size 432x288 with 1 Axes>"
      ]
     },
     "metadata": {
      "needs_background": "light"
     },
     "output_type": "display_data"
    }
   ],
   "source": [
    "(\n",
    "    data_opt_price_exp\n",
    "    .pivot_table(index='year_of_piblication', values='total_area')\n",
    "    .plot(kind='bar')\n",
    ")"
   ]
  },
  {
   "cell_type": "markdown",
   "metadata": {},
   "source": [
    "Действительно, с каждым последующим годом средняя площадь квартир падает, соответственно, такие квартиры дешевле, но при этом мы наблюдаем рост цен квартир, значит, квадратный метр - дорожает еще больше."
   ]
  },
  {
   "cell_type": "markdown",
   "metadata": {},
   "source": [
    "**Вывод: цена квартиры не зависит ни от дня недели размещения, ни от месяца, есть небольшие изменения в графиках, но мне кажется, они незначительны и не стоит ждать, например, ноября, чтобы дороже продать квартиру, если Вы хотите продать ее весной. По годам мы видим по графику, что средняя стоимость квартир с 2015 года по 2017 год немного падала,но скорее всего это не связано с падением рынка недвижимости, а с тем, что с 2015 года наблюдается падение площади продаваемых квартир,  при этом площадь падает на протяжении вплоть до 2019 года, а с 2017 по 2019 начала цена растет, значит, стоимость квадратного метра значительно повышается.**"
   ]
  },
  {
   "cell_type": "markdown",
   "metadata": {},
   "source": [
    "### Цена квартир в самых популярных населеных пунктах"
   ]
  },
  {
   "cell_type": "markdown",
   "metadata": {},
   "source": [
    "Посчитаем среднюю цену одного квадратного метра в 10 населённых пунктах с наибольшим числом объявлений"
   ]
  },
  {
   "cell_type": "code",
   "execution_count": 201,
   "metadata": {},
   "outputs": [
    {
     "data": {
      "text/html": [
       "<div>\n",
       "<style scoped>\n",
       "    .dataframe tbody tr th:only-of-type {\n",
       "        vertical-align: middle;\n",
       "    }\n",
       "\n",
       "    .dataframe tbody tr th {\n",
       "        vertical-align: top;\n",
       "    }\n",
       "\n",
       "    .dataframe thead th {\n",
       "        text-align: right;\n",
       "    }\n",
       "</style>\n",
       "<table border=\"1\" class=\"dataframe\">\n",
       "  <thead>\n",
       "    <tr style=\"text-align: right;\">\n",
       "      <th></th>\n",
       "      <th>count</th>\n",
       "      <th>mean</th>\n",
       "    </tr>\n",
       "    <tr>\n",
       "      <th>locality_name</th>\n",
       "      <th></th>\n",
       "      <th></th>\n",
       "    </tr>\n",
       "  </thead>\n",
       "  <tbody>\n",
       "    <tr>\n",
       "      <th>Санкт-Петербург</th>\n",
       "      <td>11212</td>\n",
       "      <td>104389.407151</td>\n",
       "    </tr>\n",
       "    <tr>\n",
       "      <th>поселок Мурино</th>\n",
       "      <td>513</td>\n",
       "      <td>85929.958070</td>\n",
       "    </tr>\n",
       "    <tr>\n",
       "      <th>поселок Шушары</th>\n",
       "      <td>384</td>\n",
       "      <td>77792.490208</td>\n",
       "    </tr>\n",
       "    <tr>\n",
       "      <th>Всеволожск</th>\n",
       "      <td>307</td>\n",
       "      <td>66743.025309</td>\n",
       "    </tr>\n",
       "    <tr>\n",
       "      <th>Колпино</th>\n",
       "      <td>291</td>\n",
       "      <td>74499.000756</td>\n",
       "    </tr>\n",
       "    <tr>\n",
       "      <th>поселок Парголово</th>\n",
       "      <td>287</td>\n",
       "      <td>89186.224425</td>\n",
       "    </tr>\n",
       "    <tr>\n",
       "      <th>деревня Кудрово</th>\n",
       "      <td>265</td>\n",
       "      <td>92585.904943</td>\n",
       "    </tr>\n",
       "    <tr>\n",
       "      <th>Пушкин</th>\n",
       "      <td>261</td>\n",
       "      <td>99218.029502</td>\n",
       "    </tr>\n",
       "    <tr>\n",
       "      <th>Гатчина</th>\n",
       "      <td>243</td>\n",
       "      <td>67974.620947</td>\n",
       "    </tr>\n",
       "    <tr>\n",
       "      <th>Выборг</th>\n",
       "      <td>193</td>\n",
       "      <td>57011.264352</td>\n",
       "    </tr>\n",
       "  </tbody>\n",
       "</table>\n",
       "</div>"
      ],
      "text/plain": [
       "                   count           mean\n",
       "locality_name                          \n",
       "Санкт-Петербург    11212  104389.407151\n",
       "поселок Мурино       513   85929.958070\n",
       "поселок Шушары       384   77792.490208\n",
       "Всеволожск           307   66743.025309\n",
       "Колпино              291   74499.000756\n",
       "поселок Парголово    287   89186.224425\n",
       "деревня Кудрово      265   92585.904943\n",
       "Пушкин               261   99218.029502\n",
       "Гатчина              243   67974.620947\n",
       "Выборг               193   57011.264352"
      ]
     },
     "execution_count": 201,
     "metadata": {},
     "output_type": "execute_result"
    }
   ],
   "source": [
    "# воспользуемся методом pivot_table для группировки по населенным пунктам\n",
    "# посчитаем количество запросов и среднюю цену за квадратный метр\n",
    "locality_price_m2 = data_opt_price_exp.pivot_table(index='locality_name', values ='price_1m2', \\\n",
    "                                                  aggfunc=['count', 'mean'])\n",
    "# переименуем названия столбцов\n",
    "locality_price_m2.columns = ['count', 'mean']\n",
    "# отсортируем по количеству от наибольшего и выберем верхние десять\n",
    "locality_price_m2 = locality_price_m2.sort_values(by='count', ascending=False).head(10)\n",
    "locality_price_m2"
   ]
  },
  {
   "cell_type": "markdown",
   "metadata": {},
   "source": [
    "В таблице представлены населенные пункты, в которых наибольшее количество предложений о продаже квартир.\n",
    "Санкт-Петербург сильно отличается на фоне пригородных населенных пунктов.\n",
    "\n",
    "Построим диаграмму со средней ценой квартир в этих населенных пунктах."
   ]
  },
  {
   "cell_type": "code",
   "execution_count": 202,
   "metadata": {},
   "outputs": [
    {
     "data": {
      "text/plain": [
       "<AxesSubplot:xlabel='locality_name'>"
      ]
     },
     "execution_count": 202,
     "metadata": {},
     "output_type": "execute_result"
    },
    {
     "data": {
      "image/png": "[encoded data removed]",
      "text/plain": [
       "<Figure size 432x288 with 1 Axes>"
      ]
     },
     "metadata": {
      "needs_background": "light"
     },
     "output_type": "display_data"
    }
   ],
   "source": [
    "locality_price_m2.plot(y='mean', kind='bar', grid=True)"
   ]
  },
  {
   "cell_type": "markdown",
   "metadata": {},
   "source": [
    "**Вывод: самый дорогой квадратный метр в Санкт-Петербурге, причем если его не брать в расчет, то среди пригорода Санкт-Петербурга лидирует Пушкин. А самая дешевая стоимость квадратного метра в Выборге.**"
   ]
  },
  {
   "cell_type": "markdown",
   "metadata": {},
   "source": [
    "### Зависимость стоимости квартиры от удаленности от центра в Санкт-Петербурге"
   ]
  },
  {
   "cell_type": "code",
   "execution_count": 203,
   "metadata": {},
   "outputs": [
    {
     "data": {
      "text/plain": [
       "array([nan, 11., 12., 14., 16., 21., 30.,  4., 50., 18., 41., 22., 60.,\n",
       "       42.,  5., 17., 53.,  6., 15., 52., 33., 27., 31., 36., 24., 29.,\n",
       "       23., 35.,  2., 32., 28.,  8., 19., 13.,  7., 37.,  9., 34., 20.,\n",
       "        3., 10., 39.,  1., 49., 51., 47., 26., 25., 40., 48., 54., 61.,\n",
       "       62., 63., 65., 59., 45.,  0., 43., 55.])"
      ]
     },
     "execution_count": 203,
     "metadata": {},
     "output_type": "execute_result"
    }
   ],
   "source": [
    "data_opt_price_exp['cityCenters_nearest_km'].unique()"
   ]
  },
  {
   "cell_type": "code",
   "execution_count": 204,
   "metadata": {},
   "outputs": [
    {
     "data": {
      "text/plain": [
       "array([11., 12., 14., 16., 21., 30.,  4., 50., 18., 41., 22., 60., 42.,\n",
       "        5., 17., 53.,  6., 15., 52., 33., 27., 31., 36., 24., 29., 23.,\n",
       "       35.,  2., 32., 28.,  8., 19., 13.,  7., 37.,  9., 34., 20.,  3.,\n",
       "       10., 39.,  1., 49., 51., 47., 26., 25., 40., 48., 54., 61., 62.,\n",
       "       63., 65., 59., 45.,  0., 43., 55.])"
      ]
     },
     "execution_count": 204,
     "metadata": {},
     "output_type": "execute_result"
    }
   ],
   "source": [
    "data_nearest = data_opt_price_exp.dropna(subset=['cityCenters_nearest_km'])\n",
    "data_nearest['cityCenters_nearest_km'].unique()"
   ]
  },
  {
   "cell_type": "code",
   "execution_count": 205,
   "metadata": {},
   "outputs": [],
   "source": [
    "# выбираем только строки с населенным пунктом \"Санкт-Петербург\"\n",
    "data_nearest_spb = data_nearest.query('locality_name == \"Санкт-Петербург\"')"
   ]
  },
  {
   "cell_type": "code",
   "execution_count": 206,
   "metadata": {
    "scrolled": true
   },
   "outputs": [
    {
     "data": {
      "text/plain": [
       "<AxesSubplot:xlabel='cityCenters_nearest_km'>"
      ]
     },
     "execution_count": 206,
     "metadata": {},
     "output_type": "execute_result"
    },
    {
     "data": {
      "image/png": "[encoded data removed]",
      "text/plain": [
       "<Figure size 720x576 with 1 Axes>"
      ]
     },
     "metadata": {
      "needs_background": "light"
     },
     "output_type": "display_data"
    }
   ],
   "source": [
    "data_nearest_spb_grop = data_nearest_spb.pivot_table(index='cityCenters_nearest_km', values='price_1m2')\n",
    "data_nearest_spb_grop.plot(y='price_1m2', kind='bar', figsize=(10, 8))"
   ]
  },
  {
   "cell_type": "markdown",
   "metadata": {},
   "source": [
    "**Вывод: чем ближе к центру, тем стоимость квартиры растет. Самые дорогие квартиры в пределах 10 км от центра.**"
   ]
  },
  {
   "cell_type": "markdown",
   "metadata": {
    "id": "h7VpzkIDAwb-"
   },
   "source": [
    "## Общий вывод"
   ]
  },
  {
   "cell_type": "markdown",
   "metadata": {},
   "source": [
    "Целью работы является определить показатели, влияющие на рыночную стоимость квартир и научиться ее определять.\n",
    "\n",
    "Для анализа был взят архив объявлений о продаже квартир в Санкт-Петербурге и соседних населённых пунктах за несколько лет. \n",
    "\n",
    "Прежде чем анализировать различные показатели необходимо было провести **предобработку данных**. В первую очередь я обратила внимание на большое количество пропущенных данных, удалив строки с которыми могли бы получиться искаженные результаты, поэтому данные были заполнены там, где это возможно (предположила, что там, где не заполнены значения с *количеством балконов*, является ли квартира *апартаментами*, *количество водоемов и парков поблизости* - можно поставить значение \"0\"). В графе с *населенными пунктами* были замечены неявные дубликаты, которые были удалены ручным способом. Также были удалены строки с *выбросами данных* (слишком высокая и низкая цена, а также объекты с экстремально долгим сроком размещения (более 4 лет)).\n",
    "\n",
    "Для определения различных параметров, влияющих на стоимость квартир, в таблицу были добавлены дополнитальные столбцы: \n",
    "- цена одного квадратного метра;\n",
    "- день недели, месяц, год публикации;\n",
    "- тип этажа квартиры (первый, последний или другой);\n",
    "- расстояние до центра города.\n",
    "\n",
    "Было изучено влияние следующих параметров на стоимость объектов недвижимости:\n",
    "- общая площадь - большая часть квартир продается площадью в районе 50 кв.м., основная масса квартир площадью до 100 кв.м., от 170 до 310 кв.м. - единицы квартир;\n",
    "- жилая площадь - продаже большинство объектов до 50 кв.м. жилой площадью;\n",
    "- площадь кухни - большинство продаваемых объектов с кухней 10 кв.м., а объектов с площадью кухни больше 55 кв.м. нет в продаже;\n",
    "- цена объекта - большинство объектов продается по цене в районе 4 млн руб, что соответствует тому, что большинство объектов с квадратурой 50 кв.м. (средние квартиры), а очень дорогих квартир гораздо меньше, также как и квартир с большой площадью;\n",
    "- количество комнат - основная масса продаваемых объектов - однокомнатные и двухкомнатные квартиры, что соответствует наиболее популярной общей площади квартир 50 кв.м.;\n",
    "- высота потолков - высота потолков в основном 2.75м, но также много квартир с высотой потолков 2.5м, а высоких квартир не так много;\n",
    "- тип этажа - объекты есть на всех этажах, включая первый и последний, но между ними значительно больше;\n",
    "- общее количество этажей в доме;\n",
    "- расстояние до центра города - большинство объектов находится на расстоянии 12-15 км от центра города;\n",
    "- расстояние до ближайшего парка - большинство объектов находится вблизи парков в районе 500м и меньше.\n",
    "\n",
    "Был определен срок продажи квартир: самое популярное время продажи квартир 50 дней (созрел слоган \"гарантируем продажу Вашей 50-тиквадратной квартиры за 50 дней\"), экстремально быстрыми продажами можно считать сроки до 10 дней включительно, а необычно долгие продажи я бы посчитала те, что входят в диаграмму размаха и занимают 25% всех продаж, более 219 дней, а экстремально долгие, на которые я бы не рекомендовала опираться - от 500 дней.\n",
    "\n",
    "Итак, наиболее значимые факторы, влияющие на стоимость квартиры:\n",
    "- населенный пункт (квартиры в городе дороже, чем в пригороде, а также выбор во много раз больше) с хорошей инфраструктурой (к примеру, близость с парком) и как можно ближе к центру;\n",
    "- общая площадь и количество комнат - чем больше квартира и больше в ней комнат, тем больше цена;\n",
    "- тип этажа - самые дешевые квартиры на первом этаже, а также на последнем немного дороже, но все же дешевле промежуточных этажей.\n",
    "\n",
    "По сравнению с вышеперечисленными следующие факторы не существенно влияют на стоимость квартиры:\n",
    "- площадь кухни и жилая площадь;\n",
    "- день и месяц размещения - не стоит ждать определенного дня и месяца, чтобы опубликовать объявление о продаже квартиры.\n",
    "\n",
    "При этом год размещения объявления влияет на стоимость продажи, т.к. с течением времени квартиры не дешевеют, а только дорожают.\n"
   ]
  },
  {
   "cell_type": "markdown",
   "metadata": {},
   "source": [
    "<div class=\"alert alert-block alert-info\">\n",
    "    \n",
    "Михаил, желтые и красные комментарии учтены. Отправляю проект на повторное ревью. До связи!\n",
    "</div>"
   ]
  },
  {
   "cell_type": "markdown",
   "metadata": {},
   "source": [
    "<div class=\"alert alert-success\">\n",
    "\n",
    "**✔️ Комментарий ревьюера v2✔️**\n",
    "   \n",
    "   Юлия, замечания устранены 👍. Уверен, мои советы пригодятся тебе в новых проектах. Успехов в обучении! 😉 \n",
    "\n",
    "</div>"
   ]
  },
  {
   "cell_type": "markdown",
   "metadata": {
    "id": "A90mc0BgAwb-"
   },
   "source": [
    "**Чек-лист готовности проекта**\n",
    "\n",
    "Поставьте 'x' в выполненных пунктах. Далее нажмите Shift+Enter."
   ]
  },
  {
   "cell_type": "markdown",
   "metadata": {
    "id": "ME3sTWm6Awb-"
   },
   "source": [
    "- [x]  Файл с данными открыт.\n",
    "- [x]  Файл с данными изучен: выведены первые строки, использован метод `info()`, построены гистограммы.\n",
    "- [x]  Найдены пропущенные значения.\n",
    "- [x]  Пропущенные значения заполнены там, где это возможно.\n",
    "- [x]  Объяснено, какие пропущенные значения обнаружены.\n",
    "- [x]  В каждом столбце установлен корректный тип данных.\n",
    "- [x]  Объяснено, в каких столбцах изменён тип данных и почему.\n",
    "- [x]  Устранены неявные дубликаты в названиях населённых пунктов.\n",
    "- [x]  Обработаны редкие и выбивающиеся значения (аномалии).\n",
    "- [x]  В таблицу добавлены новые параметры:\n",
    "       – цена одного квадратного метра;\n",
    "       – день публикации объявления (0 - понедельник, 1 - вторник и т. д.);\n",
    "       – месяц публикации объявления;\n",
    "       – год публикации объявления;\n",
    "       – тип этажа квартиры (значения — «первый», «последний», «другой»);\n",
    "       – расстояние до центра города в километрах.\n",
    "- [х]  Изучены и описаны параметры:\n",
    "        - общая площадь;\n",
    "        - жилая площадь;\n",
    "        - площадь кухни;\n",
    "        - цена объекта;\n",
    "        - количество комнат;\n",
    "        - высота потолков;\n",
    "        - тип этажа квартиры («первый», «последний», «другой»);\n",
    "        - общее количество этажей в доме;\n",
    "        - расстояние до центра города в метрах;\n",
    "        - расстояние до ближайшего парка.\n",
    "- [x]  Выполнено задание «Изучите, как быстро продавались квартиры (столбец `days_exposition`)»:\n",
    "    - построена гистограмма;\n",
    "    - рассчитаны среднее и медиана;\n",
    "    - описано, сколько обычно занимает продажа и указано, какие продажи можно считать быстрыми, а какие — необычно долгими.\n",
    "- [х]  Выполнено задание «Определите факторы, которые больше всего влияют на общую (полную) стоимость объекта». Построены графики, которые показывают зависимость цены от параметров:\n",
    "        - общая площадь;\n",
    "        - жилая площадь;\n",
    "        - площадь кухни;\n",
    "        - количество комнат;\n",
    "        - тип этажа, на котором расположена квартира (первый, последний, другой);\n",
    "        - дата размещения (день недели, месяц, год).\n",
    "- [х]  Выполнено задание «Посчитайте среднюю цену одного квадратного метра в 10 населённых пунктах с наибольшим числом объявлений»:\n",
    "    - выделены населённые пункты с самой высокой и низкой стоимостью квадратного метра.\n",
    "- [x]  Выполнено задание «Выделите квартиры в Санкт-Петербурге с помощью столбца `locality_name` и вычислите их среднюю стоимость на разном удалении от центра»:\n",
    "    -  учтён каждый километр расстояния, известны средние цены квартир в одном километре от центра, в двух и так далее;\n",
    "    -  описано, как стоимость объекта зависит от расстояния до центра города;\n",
    "    -  построен график изменения средней цены для каждого километра от центра Петербурга.\n",
    "- [x]  На каждом этапе сделаны промежуточные выводы.\n",
    "- [ ]  В конце проекта сделан общий вывод."
   ]
  },
  {
   "cell_type": "code",
   "execution_count": null,
   "metadata": {},
   "outputs": [],
   "source": []
  }
 ],
 "metadata": {
  "ExecuteTimeLog": [
   {
    "duration": 642,
    "start_time": "2024-04-19T10:06:22.487Z"
   },
   {
    "duration": 12,
    "start_time": "2024-04-19T10:07:05.114Z"
   },
   {
    "duration": 116,
    "start_time": "2024-04-19T10:08:51.776Z"
   },
   {
    "duration": 41,
    "start_time": "2024-04-19T10:08:56.820Z"
   },
   {
    "duration": 3666,
    "start_time": "2024-04-19T10:11:03.007Z"
   },
   {
    "duration": 3302,
    "start_time": "2024-04-19T10:11:47.630Z"
   },
   {
    "duration": 2060,
    "start_time": "2024-04-19T10:12:46.965Z"
   },
   {
    "duration": 2301,
    "start_time": "2024-04-19T10:15:20.523Z"
   },
   {
    "duration": 2509,
    "start_time": "2024-04-19T10:15:36.153Z"
   },
   {
    "duration": 2119,
    "start_time": "2024-04-19T10:15:55.502Z"
   },
   {
    "duration": 12,
    "start_time": "2024-04-19T10:24:07.738Z"
   },
   {
    "duration": 10,
    "start_time": "2024-04-19T10:25:04.162Z"
   },
   {
    "duration": 10,
    "start_time": "2024-04-19T10:27:47.267Z"
   },
   {
    "duration": 6,
    "start_time": "2024-04-19T10:31:39.068Z"
   },
   {
    "duration": 50,
    "start_time": "2024-04-22T09:13:47.397Z"
   },
   {
    "duration": 633,
    "start_time": "2024-04-22T09:13:53.082Z"
   },
   {
    "duration": 35,
    "start_time": "2024-04-22T09:13:53.716Z"
   },
   {
    "duration": 2727,
    "start_time": "2024-04-22T09:13:53.752Z"
   },
   {
    "duration": 10,
    "start_time": "2024-04-22T09:13:56.481Z"
   },
   {
    "duration": 5,
    "start_time": "2024-04-22T09:13:56.494Z"
   },
   {
    "duration": 5,
    "start_time": "2024-04-22T09:13:57.038Z"
   },
   {
    "duration": 6,
    "start_time": "2024-04-22T09:16:26.922Z"
   },
   {
    "duration": 7,
    "start_time": "2024-04-22T09:22:46.379Z"
   },
   {
    "duration": 10,
    "start_time": "2024-04-22T09:23:11.213Z"
   },
   {
    "duration": 8,
    "start_time": "2024-04-22T09:23:41.747Z"
   },
   {
    "duration": 8,
    "start_time": "2024-04-22T09:23:50.384Z"
   },
   {
    "duration": 13,
    "start_time": "2024-04-22T09:24:20.612Z"
   },
   {
    "duration": 8,
    "start_time": "2024-04-22T09:24:44.351Z"
   },
   {
    "duration": 8,
    "start_time": "2024-04-22T09:26:21.205Z"
   },
   {
    "duration": 6,
    "start_time": "2024-04-22T09:29:40.938Z"
   },
   {
    "duration": 6,
    "start_time": "2024-04-22T09:30:13.201Z"
   },
   {
    "duration": 7,
    "start_time": "2024-04-22T09:32:48.581Z"
   },
   {
    "duration": 7,
    "start_time": "2024-04-22T09:33:26.533Z"
   },
   {
    "duration": 93,
    "start_time": "2024-04-22T09:37:04.296Z"
   },
   {
    "duration": 59,
    "start_time": "2024-04-22T09:52:06.014Z"
   },
   {
    "duration": 63,
    "start_time": "2024-04-22T09:52:17.998Z"
   },
   {
    "duration": 135,
    "start_time": "2024-04-22T09:52:41.098Z"
   },
   {
    "duration": 55,
    "start_time": "2024-04-22T09:54:27.824Z"
   },
   {
    "duration": 54,
    "start_time": "2024-04-22T09:54:43.874Z"
   },
   {
    "duration": 51,
    "start_time": "2024-04-22T09:56:32.416Z"
   },
   {
    "duration": 32,
    "start_time": "2024-04-22T09:59:13.887Z"
   },
   {
    "duration": 18,
    "start_time": "2024-04-22T10:04:58.125Z"
   },
   {
    "duration": 56,
    "start_time": "2024-04-22T12:07:58.652Z"
   },
   {
    "duration": 718,
    "start_time": "2024-04-22T12:08:08.128Z"
   },
   {
    "duration": 38,
    "start_time": "2024-04-22T12:08:08.848Z"
   },
   {
    "duration": 3035,
    "start_time": "2024-04-22T12:08:08.887Z"
   },
   {
    "duration": 1439,
    "start_time": "2024-04-22T12:08:11.924Z"
   },
   {
    "duration": 1537,
    "start_time": "2024-04-22T12:09:05.783Z"
   },
   {
    "duration": 25,
    "start_time": "2024-04-22T12:18:08.691Z"
   },
   {
    "duration": 13,
    "start_time": "2024-04-22T12:19:55.250Z"
   },
   {
    "duration": 13,
    "start_time": "2024-04-22T12:20:36.067Z"
   },
   {
    "duration": 115,
    "start_time": "2024-04-22T12:21:39.660Z"
   },
   {
    "duration": 38,
    "start_time": "2024-04-22T12:21:39.777Z"
   },
   {
    "duration": 2422,
    "start_time": "2024-04-22T12:21:39.816Z"
   },
   {
    "duration": 10,
    "start_time": "2024-04-22T12:21:42.580Z"
   },
   {
    "duration": 14,
    "start_time": "2024-04-22T12:21:52.239Z"
   },
   {
    "duration": 112,
    "start_time": "2024-04-22T12:22:00.568Z"
   },
   {
    "duration": 35,
    "start_time": "2024-04-22T12:22:02.883Z"
   },
   {
    "duration": 2539,
    "start_time": "2024-04-22T12:22:04.334Z"
   },
   {
    "duration": 13,
    "start_time": "2024-04-22T12:22:15.045Z"
   },
   {
    "duration": 12,
    "start_time": "2024-04-22T12:23:00.764Z"
   },
   {
    "duration": 15,
    "start_time": "2024-04-22T12:23:13.404Z"
   },
   {
    "duration": 11,
    "start_time": "2024-04-22T12:26:54.998Z"
   },
   {
    "duration": 4,
    "start_time": "2024-04-22T12:28:54.955Z"
   },
   {
    "duration": 7,
    "start_time": "2024-04-22T12:34:29.949Z"
   },
   {
    "duration": 6,
    "start_time": "2024-04-22T12:38:18.548Z"
   },
   {
    "duration": 15,
    "start_time": "2024-04-22T12:38:57.415Z"
   },
   {
    "duration": 4,
    "start_time": "2024-04-22T12:39:08.365Z"
   },
   {
    "duration": 5,
    "start_time": "2024-04-22T12:39:10.125Z"
   },
   {
    "duration": 9,
    "start_time": "2024-04-22T12:39:12.503Z"
   },
   {
    "duration": 6,
    "start_time": "2024-04-22T12:39:18.223Z"
   },
   {
    "duration": 5,
    "start_time": "2024-04-22T12:39:19.412Z"
   },
   {
    "duration": 5,
    "start_time": "2024-04-22T12:39:37.329Z"
   },
   {
    "duration": 7,
    "start_time": "2024-04-22T12:39:40.615Z"
   },
   {
    "duration": 52,
    "start_time": "2024-04-22T12:39:43.929Z"
   },
   {
    "duration": 16,
    "start_time": "2024-04-22T12:39:50.738Z"
   },
   {
    "duration": 20,
    "start_time": "2024-04-22T12:46:20.482Z"
   },
   {
    "duration": 8,
    "start_time": "2024-04-22T12:54:21.934Z"
   },
   {
    "duration": 12,
    "start_time": "2024-04-22T13:05:44.891Z"
   },
   {
    "duration": 12,
    "start_time": "2024-04-22T13:06:16.200Z"
   },
   {
    "duration": 29,
    "start_time": "2024-04-22T13:15:40.512Z"
   },
   {
    "duration": 4,
    "start_time": "2024-04-22T13:17:01.069Z"
   },
   {
    "duration": 52,
    "start_time": "2024-04-22T14:53:59.193Z"
   },
   {
    "duration": 683,
    "start_time": "2024-04-22T14:54:11.232Z"
   },
   {
    "duration": 37,
    "start_time": "2024-04-22T14:54:11.917Z"
   },
   {
    "duration": 3102,
    "start_time": "2024-04-22T14:54:11.956Z"
   },
   {
    "duration": 11,
    "start_time": "2024-04-22T14:54:15.059Z"
   },
   {
    "duration": 99,
    "start_time": "2024-04-22T14:54:15.072Z"
   },
   {
    "duration": 98,
    "start_time": "2024-04-22T14:54:15.174Z"
   },
   {
    "duration": 51,
    "start_time": "2024-04-22T14:54:15.274Z"
   },
   {
    "duration": 101,
    "start_time": "2024-04-22T14:54:15.326Z"
   },
   {
    "duration": 99,
    "start_time": "2024-04-22T14:54:15.429Z"
   },
   {
    "duration": 85,
    "start_time": "2024-04-22T14:54:15.530Z"
   },
   {
    "duration": 12,
    "start_time": "2024-04-22T14:54:15.616Z"
   },
   {
    "duration": 9,
    "start_time": "2024-04-22T14:54:15.629Z"
   },
   {
    "duration": 28,
    "start_time": "2024-04-22T14:54:15.639Z"
   },
   {
    "duration": 55,
    "start_time": "2024-04-22T14:54:15.670Z"
   },
   {
    "duration": 5,
    "start_time": "2024-04-22T14:54:29.313Z"
   },
   {
    "duration": 39,
    "start_time": "2024-04-22T14:57:33.578Z"
   },
   {
    "duration": 6,
    "start_time": "2024-04-22T14:57:51.518Z"
   },
   {
    "duration": 28,
    "start_time": "2024-04-22T14:58:52.964Z"
   },
   {
    "duration": 51,
    "start_time": "2024-04-22T14:59:17.053Z"
   },
   {
    "duration": 6,
    "start_time": "2024-04-22T14:59:26.707Z"
   },
   {
    "duration": 39,
    "start_time": "2024-04-22T14:59:27.959Z"
   },
   {
    "duration": 6,
    "start_time": "2024-04-22T14:59:49.853Z"
   },
   {
    "duration": 16,
    "start_time": "2024-04-22T15:04:19.278Z"
   },
   {
    "duration": 10,
    "start_time": "2024-04-22T15:06:06.773Z"
   },
   {
    "duration": 21,
    "start_time": "2024-04-22T15:07:49.482Z"
   },
   {
    "duration": 63,
    "start_time": "2024-04-22T15:08:18.348Z"
   },
   {
    "duration": 6,
    "start_time": "2024-04-22T15:08:53.214Z"
   },
   {
    "duration": 8,
    "start_time": "2024-04-22T15:10:33.052Z"
   },
   {
    "duration": 5,
    "start_time": "2024-04-22T15:10:50.053Z"
   },
   {
    "duration": 1287,
    "start_time": "2024-04-22T15:11:29.596Z"
   },
   {
    "duration": 11,
    "start_time": "2024-04-22T15:17:18.304Z"
   },
   {
    "duration": 8,
    "start_time": "2024-04-22T15:18:12.318Z"
   },
   {
    "duration": 1175,
    "start_time": "2024-04-22T15:19:33.218Z"
   },
   {
    "duration": 1139,
    "start_time": "2024-04-22T15:20:01.875Z"
   },
   {
    "duration": 1048,
    "start_time": "2024-04-22T15:20:46.297Z"
   },
   {
    "duration": 7,
    "start_time": "2024-04-22T15:24:53.263Z"
   },
   {
    "duration": 9,
    "start_time": "2024-04-22T15:25:21.688Z"
   },
   {
    "duration": 125,
    "start_time": "2024-04-22T15:25:32.198Z"
   },
   {
    "duration": 33,
    "start_time": "2024-04-22T15:25:32.325Z"
   },
   {
    "duration": 2706,
    "start_time": "2024-04-22T15:25:32.359Z"
   },
   {
    "duration": 16,
    "start_time": "2024-04-22T15:25:35.067Z"
   },
   {
    "duration": 12,
    "start_time": "2024-04-22T15:25:35.086Z"
   },
   {
    "duration": 29,
    "start_time": "2024-04-22T15:25:35.100Z"
   },
   {
    "duration": 20,
    "start_time": "2024-04-22T15:25:35.131Z"
   },
   {
    "duration": 7,
    "start_time": "2024-04-22T15:25:35.153Z"
   },
   {
    "duration": 8,
    "start_time": "2024-04-22T15:25:35.162Z"
   },
   {
    "duration": 68,
    "start_time": "2024-04-22T15:25:35.171Z"
   },
   {
    "duration": 8,
    "start_time": "2024-04-22T15:25:35.241Z"
   },
   {
    "duration": 21,
    "start_time": "2024-04-22T15:25:35.251Z"
   },
   {
    "duration": 17,
    "start_time": "2024-04-22T15:25:35.274Z"
   },
   {
    "duration": 12,
    "start_time": "2024-04-22T15:25:35.295Z"
   },
   {
    "duration": 24,
    "start_time": "2024-04-22T15:25:35.308Z"
   },
   {
    "duration": 9,
    "start_time": "2024-04-22T15:25:35.334Z"
   },
   {
    "duration": 11,
    "start_time": "2024-04-22T15:25:35.344Z"
   },
   {
    "duration": 22,
    "start_time": "2024-04-22T15:26:45.775Z"
   },
   {
    "duration": 10,
    "start_time": "2024-04-22T15:27:08.332Z"
   },
   {
    "duration": 633,
    "start_time": "2024-04-23T08:24:03.121Z"
   },
   {
    "duration": 29,
    "start_time": "2024-04-23T08:24:03.756Z"
   },
   {
    "duration": 2326,
    "start_time": "2024-04-23T08:24:03.787Z"
   },
   {
    "duration": 9,
    "start_time": "2024-04-23T08:24:06.116Z"
   },
   {
    "duration": 15,
    "start_time": "2024-04-23T08:24:06.127Z"
   },
   {
    "duration": 9,
    "start_time": "2024-04-23T08:24:06.144Z"
   },
   {
    "duration": 16,
    "start_time": "2024-04-23T08:24:06.154Z"
   },
   {
    "duration": 8,
    "start_time": "2024-04-23T08:24:06.171Z"
   },
   {
    "duration": 7,
    "start_time": "2024-04-23T08:24:06.180Z"
   },
   {
    "duration": 74,
    "start_time": "2024-04-23T08:24:06.190Z"
   },
   {
    "duration": 11,
    "start_time": "2024-04-23T08:24:06.265Z"
   },
   {
    "duration": 8,
    "start_time": "2024-04-23T08:24:06.277Z"
   },
   {
    "duration": 7,
    "start_time": "2024-04-23T08:24:06.286Z"
   },
   {
    "duration": 16,
    "start_time": "2024-04-23T08:24:06.294Z"
   },
   {
    "duration": 3,
    "start_time": "2024-04-23T08:24:06.312Z"
   },
   {
    "duration": 16,
    "start_time": "2024-04-23T08:24:06.316Z"
   },
   {
    "duration": 5,
    "start_time": "2024-04-23T08:24:06.333Z"
   },
   {
    "duration": 15,
    "start_time": "2024-04-23T08:24:06.339Z"
   },
   {
    "duration": 1527,
    "start_time": "2024-04-23T08:32:25.397Z"
   },
   {
    "duration": 1943,
    "start_time": "2024-04-23T08:33:42.175Z"
   },
   {
    "duration": 335,
    "start_time": "2024-04-23T08:35:10.145Z"
   },
   {
    "duration": 297,
    "start_time": "2024-04-23T08:35:39.071Z"
   },
   {
    "duration": 295,
    "start_time": "2024-04-23T08:42:21.221Z"
   },
   {
    "duration": 993,
    "start_time": "2024-04-23T09:15:41.997Z"
   },
   {
    "duration": 87,
    "start_time": "2024-04-23T09:16:14.855Z"
   },
   {
    "duration": 22,
    "start_time": "2024-04-23T09:16:14.944Z"
   },
   {
    "duration": 1774,
    "start_time": "2024-04-23T09:16:14.967Z"
   },
   {
    "duration": 8,
    "start_time": "2024-04-23T09:16:16.742Z"
   },
   {
    "duration": 26,
    "start_time": "2024-04-23T09:16:16.752Z"
   },
   {
    "duration": 5,
    "start_time": "2024-04-23T09:16:16.780Z"
   },
   {
    "duration": 4,
    "start_time": "2024-04-23T09:16:16.786Z"
   },
   {
    "duration": 9,
    "start_time": "2024-04-23T09:16:16.792Z"
   },
   {
    "duration": 6,
    "start_time": "2024-04-23T09:16:16.802Z"
   },
   {
    "duration": 46,
    "start_time": "2024-04-23T09:16:16.809Z"
   },
   {
    "duration": 6,
    "start_time": "2024-04-23T09:16:16.857Z"
   },
   {
    "duration": 1084,
    "start_time": "2024-04-23T09:16:33.468Z"
   },
   {
    "duration": 1033,
    "start_time": "2024-04-23T09:18:30.709Z"
   },
   {
    "duration": 6,
    "start_time": "2024-04-23T09:18:55.715Z"
   },
   {
    "duration": 90,
    "start_time": "2024-04-23T09:20:14.314Z"
   },
   {
    "duration": 23,
    "start_time": "2024-04-23T09:20:14.406Z"
   },
   {
    "duration": 1906,
    "start_time": "2024-04-23T09:20:14.431Z"
   },
   {
    "duration": 8,
    "start_time": "2024-04-23T09:20:16.338Z"
   },
   {
    "duration": 24,
    "start_time": "2024-04-23T09:20:16.348Z"
   },
   {
    "duration": 14,
    "start_time": "2024-04-23T09:20:16.374Z"
   },
   {
    "duration": 25,
    "start_time": "2024-04-23T09:20:16.390Z"
   },
   {
    "duration": 10,
    "start_time": "2024-04-23T09:20:16.416Z"
   },
   {
    "duration": 6,
    "start_time": "2024-04-23T09:20:16.427Z"
   },
   {
    "duration": 60,
    "start_time": "2024-04-23T09:20:16.435Z"
   },
   {
    "duration": 8,
    "start_time": "2024-04-23T09:20:16.497Z"
   },
   {
    "duration": 1079,
    "start_time": "2024-04-23T09:20:16.506Z"
   },
   {
    "duration": 6,
    "start_time": "2024-04-23T09:20:17.586Z"
   },
   {
    "duration": 28,
    "start_time": "2024-04-23T09:20:17.595Z"
   },
   {
    "duration": 15,
    "start_time": "2024-04-23T09:20:17.624Z"
   },
   {
    "duration": 21,
    "start_time": "2024-04-23T09:20:17.640Z"
   },
   {
    "duration": 6,
    "start_time": "2024-04-23T09:20:17.662Z"
   },
   {
    "duration": 15,
    "start_time": "2024-04-23T09:20:17.670Z"
   },
   {
    "duration": 9,
    "start_time": "2024-04-23T09:20:17.686Z"
   },
   {
    "duration": 411,
    "start_time": "2024-04-23T09:20:17.696Z"
   },
   {
    "duration": 94,
    "start_time": "2024-04-23T09:22:00.019Z"
   },
   {
    "duration": 30,
    "start_time": "2024-04-23T09:22:00.115Z"
   },
   {
    "duration": 1935,
    "start_time": "2024-04-23T09:22:00.146Z"
   },
   {
    "duration": 10,
    "start_time": "2024-04-23T09:22:02.083Z"
   },
   {
    "duration": 97,
    "start_time": "2024-04-23T09:22:02.096Z"
   },
   {
    "duration": 52,
    "start_time": "2024-04-23T09:22:02.195Z"
   },
   {
    "duration": 67,
    "start_time": "2024-04-23T09:22:02.249Z"
   },
   {
    "duration": 54,
    "start_time": "2024-04-23T09:22:02.318Z"
   },
   {
    "duration": 24,
    "start_time": "2024-04-23T09:22:02.374Z"
   },
   {
    "duration": 105,
    "start_time": "2024-04-23T09:22:02.399Z"
   },
   {
    "duration": 33,
    "start_time": "2024-04-23T09:22:02.506Z"
   },
   {
    "duration": 1154,
    "start_time": "2024-04-23T09:22:02.541Z"
   },
   {
    "duration": 7,
    "start_time": "2024-04-23T09:22:03.697Z"
   },
   {
    "duration": 14,
    "start_time": "2024-04-23T09:22:03.706Z"
   },
   {
    "duration": 19,
    "start_time": "2024-04-23T09:22:03.722Z"
   },
   {
    "duration": 4,
    "start_time": "2024-04-23T09:22:03.742Z"
   },
   {
    "duration": 33,
    "start_time": "2024-04-23T09:22:03.748Z"
   },
   {
    "duration": 11,
    "start_time": "2024-04-23T09:22:03.782Z"
   },
   {
    "duration": 8,
    "start_time": "2024-04-23T09:22:03.794Z"
   },
   {
    "duration": 448,
    "start_time": "2024-04-23T09:22:03.804Z"
   },
   {
    "duration": 88,
    "start_time": "2024-04-23T09:29:06.673Z"
   },
   {
    "duration": 22,
    "start_time": "2024-04-23T09:29:06.763Z"
   },
   {
    "duration": 1699,
    "start_time": "2024-04-23T09:29:06.787Z"
   },
   {
    "duration": 8,
    "start_time": "2024-04-23T09:29:08.487Z"
   },
   {
    "duration": 10,
    "start_time": "2024-04-23T09:29:08.496Z"
   },
   {
    "duration": 8,
    "start_time": "2024-04-23T09:29:08.507Z"
   },
   {
    "duration": 11,
    "start_time": "2024-04-23T09:29:08.516Z"
   },
   {
    "duration": 7,
    "start_time": "2024-04-23T09:29:08.528Z"
   },
   {
    "duration": 6,
    "start_time": "2024-04-23T09:29:08.536Z"
   },
   {
    "duration": 56,
    "start_time": "2024-04-23T09:29:08.544Z"
   },
   {
    "duration": 8,
    "start_time": "2024-04-23T09:29:08.601Z"
   },
   {
    "duration": 996,
    "start_time": "2024-04-23T09:29:08.610Z"
   },
   {
    "duration": 6,
    "start_time": "2024-04-23T09:29:09.607Z"
   },
   {
    "duration": 17,
    "start_time": "2024-04-23T09:29:09.614Z"
   },
   {
    "duration": 30,
    "start_time": "2024-04-23T09:29:09.633Z"
   },
   {
    "duration": 17,
    "start_time": "2024-04-23T09:29:09.664Z"
   },
   {
    "duration": 6,
    "start_time": "2024-04-23T09:29:09.682Z"
   },
   {
    "duration": 10,
    "start_time": "2024-04-23T09:29:09.689Z"
   },
   {
    "duration": 9,
    "start_time": "2024-04-23T09:29:09.700Z"
   },
   {
    "duration": 423,
    "start_time": "2024-04-23T09:29:09.710Z"
   },
   {
    "duration": 19,
    "start_time": "2024-04-23T09:30:10.495Z"
   },
   {
    "duration": 12,
    "start_time": "2024-04-23T09:33:39.550Z"
   },
   {
    "duration": 1105,
    "start_time": "2024-04-23T09:36:46.360Z"
   },
   {
    "duration": 961,
    "start_time": "2024-04-23T09:47:39.480Z"
   },
   {
    "duration": 7,
    "start_time": "2024-04-23T10:01:45.055Z"
   },
   {
    "duration": 87,
    "start_time": "2024-04-23T10:04:40.725Z"
   },
   {
    "duration": 97,
    "start_time": "2024-04-23T10:07:51.212Z"
   },
   {
    "duration": 1225,
    "start_time": "2024-04-23T10:08:15.371Z"
   },
   {
    "duration": 87,
    "start_time": "2024-04-23T10:08:57.832Z"
   },
   {
    "duration": 1275,
    "start_time": "2024-04-23T10:09:11.760Z"
   },
   {
    "duration": 1155,
    "start_time": "2024-04-23T10:09:36.636Z"
   },
   {
    "duration": 21,
    "start_time": "2024-04-23T10:24:07.228Z"
   },
   {
    "duration": 7,
    "start_time": "2024-04-23T10:24:54.394Z"
   },
   {
    "duration": 29,
    "start_time": "2024-04-23T10:25:04.266Z"
   },
   {
    "duration": 86,
    "start_time": "2024-04-23T10:36:42.832Z"
   },
   {
    "duration": 122,
    "start_time": "2024-04-23T10:39:27.723Z"
   },
   {
    "duration": 124,
    "start_time": "2024-04-23T10:39:35.728Z"
   },
   {
    "duration": 105,
    "start_time": "2024-04-23T10:39:50.422Z"
   },
   {
    "duration": 107,
    "start_time": "2024-04-23T10:39:58.357Z"
   },
   {
    "duration": 86,
    "start_time": "2024-04-23T10:50:26.673Z"
   },
   {
    "duration": 113,
    "start_time": "2024-04-23T10:51:04.062Z"
   },
   {
    "duration": 92,
    "start_time": "2024-04-23T10:51:34.600Z"
   },
   {
    "duration": 109,
    "start_time": "2024-04-23T10:57:06.789Z"
   },
   {
    "duration": 106,
    "start_time": "2024-04-23T10:57:24.282Z"
   },
   {
    "duration": 104,
    "start_time": "2024-04-23T11:33:49.495Z"
   },
   {
    "duration": 86,
    "start_time": "2024-04-23T11:33:59.794Z"
   },
   {
    "duration": 22,
    "start_time": "2024-04-23T11:33:59.882Z"
   },
   {
    "duration": 1781,
    "start_time": "2024-04-23T11:33:59.905Z"
   },
   {
    "duration": 8,
    "start_time": "2024-04-23T11:34:01.687Z"
   },
   {
    "duration": 57,
    "start_time": "2024-04-23T11:34:01.697Z"
   },
   {
    "duration": 30,
    "start_time": "2024-04-23T11:34:01.756Z"
   },
   {
    "duration": 50,
    "start_time": "2024-04-23T11:34:01.788Z"
   },
   {
    "duration": 87,
    "start_time": "2024-04-23T11:34:01.840Z"
   },
   {
    "duration": 54,
    "start_time": "2024-04-23T11:34:01.928Z"
   },
   {
    "duration": 105,
    "start_time": "2024-04-23T11:34:01.983Z"
   },
   {
    "duration": 9,
    "start_time": "2024-04-23T11:34:02.089Z"
   },
   {
    "duration": 85,
    "start_time": "2024-04-23T11:34:02.100Z"
   },
   {
    "duration": 32,
    "start_time": "2024-04-23T11:34:02.187Z"
   },
   {
    "duration": 46,
    "start_time": "2024-04-23T11:34:02.221Z"
   },
   {
    "duration": 59,
    "start_time": "2024-04-23T11:34:02.268Z"
   },
   {
    "duration": 149,
    "start_time": "2024-04-23T11:34:02.328Z"
   },
   {
    "duration": 19,
    "start_time": "2024-04-23T11:34:02.478Z"
   },
   {
    "duration": 13,
    "start_time": "2024-04-23T11:34:02.499Z"
   },
   {
    "duration": 569,
    "start_time": "2024-04-23T11:34:02.514Z"
   },
   {
    "duration": 21,
    "start_time": "2024-04-23T11:34:03.085Z"
   },
   {
    "duration": 141,
    "start_time": "2024-04-23T11:34:03.108Z"
   },
   {
    "duration": 114,
    "start_time": "2024-04-23T11:34:03.251Z"
   },
   {
    "duration": 123,
    "start_time": "2024-04-23T11:34:03.367Z"
   },
   {
    "duration": 118,
    "start_time": "2024-04-23T11:34:03.491Z"
   },
   {
    "duration": 957,
    "start_time": "2024-04-23T11:35:03.440Z"
   },
   {
    "duration": 465,
    "start_time": "2024-04-23T11:35:24.178Z"
   },
   {
    "duration": 121,
    "start_time": "2024-04-23T11:35:39.137Z"
   },
   {
    "duration": 115,
    "start_time": "2024-04-23T11:35:48.315Z"
   },
   {
    "duration": 8,
    "start_time": "2024-04-23T11:40:53.240Z"
   },
   {
    "duration": 87,
    "start_time": "2024-04-23T11:53:07.513Z"
   },
   {
    "duration": 8,
    "start_time": "2024-04-23T11:54:13.025Z"
   },
   {
    "duration": 97,
    "start_time": "2024-04-23T11:55:18.766Z"
   },
   {
    "duration": 6,
    "start_time": "2024-04-23T11:56:56.394Z"
   },
   {
    "duration": 6,
    "start_time": "2024-04-23T11:57:07.829Z"
   },
   {
    "duration": 93,
    "start_time": "2024-04-23T11:57:13.526Z"
   },
   {
    "duration": 94,
    "start_time": "2024-04-23T11:57:55.040Z"
   },
   {
    "duration": 96,
    "start_time": "2024-04-23T11:58:08.094Z"
   },
   {
    "duration": 111,
    "start_time": "2024-04-23T12:02:04.196Z"
   },
   {
    "duration": 4,
    "start_time": "2024-04-23T12:09:57.553Z"
   },
   {
    "duration": 27,
    "start_time": "2024-04-23T12:10:53.415Z"
   },
   {
    "duration": 7,
    "start_time": "2024-04-23T12:11:12.706Z"
   },
   {
    "duration": 6,
    "start_time": "2024-04-23T12:12:18.517Z"
   },
   {
    "duration": 5,
    "start_time": "2024-04-23T12:13:02.381Z"
   },
   {
    "duration": 10,
    "start_time": "2024-04-23T12:14:14.453Z"
   },
   {
    "duration": 8,
    "start_time": "2024-04-23T12:14:52.269Z"
   },
   {
    "duration": 109,
    "start_time": "2024-04-23T12:21:03.515Z"
   },
   {
    "duration": 18,
    "start_time": "2024-04-23T12:27:39.022Z"
   },
   {
    "duration": 8,
    "start_time": "2024-04-23T12:28:04.632Z"
   },
   {
    "duration": 944,
    "start_time": "2024-04-23T12:29:05.110Z"
   },
   {
    "duration": 97,
    "start_time": "2024-04-23T12:29:24.965Z"
   },
   {
    "duration": 110,
    "start_time": "2024-04-23T12:35:34.243Z"
   },
   {
    "duration": 115,
    "start_time": "2024-04-23T12:35:52.704Z"
   },
   {
    "duration": 102,
    "start_time": "2024-04-23T12:40:45.257Z"
   },
   {
    "duration": 102,
    "start_time": "2024-04-23T12:41:08.482Z"
   },
   {
    "duration": 96,
    "start_time": "2024-04-23T12:42:39.741Z"
   },
   {
    "duration": 104,
    "start_time": "2024-04-23T12:43:47.762Z"
   },
   {
    "duration": 112,
    "start_time": "2024-04-23T12:44:02.641Z"
   },
   {
    "duration": 108,
    "start_time": "2024-04-23T12:44:17.877Z"
   },
   {
    "duration": 100,
    "start_time": "2024-04-23T12:44:54.504Z"
   },
   {
    "duration": 109,
    "start_time": "2024-04-23T12:45:13.411Z"
   },
   {
    "duration": 295,
    "start_time": "2024-04-23T12:45:34.662Z"
   },
   {
    "duration": 2516,
    "start_time": "2024-04-23T12:49:03.385Z"
   },
   {
    "duration": 92,
    "start_time": "2024-04-23T12:49:36.139Z"
   },
   {
    "duration": 24,
    "start_time": "2024-04-23T12:49:36.233Z"
   },
   {
    "duration": 1715,
    "start_time": "2024-04-23T12:49:36.258Z"
   },
   {
    "duration": 15,
    "start_time": "2024-04-23T12:49:37.974Z"
   },
   {
    "duration": 15,
    "start_time": "2024-04-23T12:49:37.992Z"
   },
   {
    "duration": 20,
    "start_time": "2024-04-23T12:49:38.009Z"
   },
   {
    "duration": 11,
    "start_time": "2024-04-23T12:49:38.030Z"
   },
   {
    "duration": 13,
    "start_time": "2024-04-23T12:49:38.042Z"
   },
   {
    "duration": 17,
    "start_time": "2024-04-23T12:49:38.056Z"
   },
   {
    "duration": 51,
    "start_time": "2024-04-23T12:49:38.074Z"
   },
   {
    "duration": 6,
    "start_time": "2024-04-23T12:49:38.126Z"
   },
   {
    "duration": 5,
    "start_time": "2024-04-23T12:49:38.133Z"
   },
   {
    "duration": 9,
    "start_time": "2024-04-23T12:49:38.139Z"
   },
   {
    "duration": 6,
    "start_time": "2024-04-23T12:49:38.150Z"
   },
   {
    "duration": 4,
    "start_time": "2024-04-23T12:49:38.157Z"
   },
   {
    "duration": 22,
    "start_time": "2024-04-23T12:49:38.162Z"
   },
   {
    "duration": 6,
    "start_time": "2024-04-23T12:49:38.186Z"
   },
   {
    "duration": 20,
    "start_time": "2024-04-23T12:49:38.193Z"
   },
   {
    "duration": 312,
    "start_time": "2024-04-23T12:49:38.214Z"
   },
   {
    "duration": 19,
    "start_time": "2024-04-23T12:49:38.528Z"
   },
   {
    "duration": 137,
    "start_time": "2024-04-23T12:49:38.548Z"
   },
   {
    "duration": 112,
    "start_time": "2024-04-23T12:49:38.686Z"
   },
   {
    "duration": 112,
    "start_time": "2024-04-23T12:49:38.799Z"
   },
   {
    "duration": 7,
    "start_time": "2024-04-23T12:49:38.912Z"
   },
   {
    "duration": 10,
    "start_time": "2024-04-23T12:49:38.920Z"
   },
   {
    "duration": 87,
    "start_time": "2024-04-23T12:49:38.931Z"
   },
   {
    "duration": 0,
    "start_time": "2024-04-23T12:49:39.019Z"
   },
   {
    "duration": 0,
    "start_time": "2024-04-23T12:49:39.021Z"
   },
   {
    "duration": 0,
    "start_time": "2024-04-23T12:49:39.021Z"
   },
   {
    "duration": 0,
    "start_time": "2024-04-23T12:49:39.022Z"
   },
   {
    "duration": 0,
    "start_time": "2024-04-23T12:49:39.023Z"
   },
   {
    "duration": 0,
    "start_time": "2024-04-23T12:49:39.024Z"
   },
   {
    "duration": 93,
    "start_time": "2024-04-23T12:49:48.924Z"
   },
   {
    "duration": 103,
    "start_time": "2024-04-23T12:50:23.274Z"
   },
   {
    "duration": 100,
    "start_time": "2024-04-23T12:50:28.538Z"
   },
   {
    "duration": 98,
    "start_time": "2024-04-23T12:50:33.723Z"
   },
   {
    "duration": 102,
    "start_time": "2024-04-23T12:53:26.760Z"
   },
   {
    "duration": 121,
    "start_time": "2024-04-23T12:53:45.180Z"
   },
   {
    "duration": 104,
    "start_time": "2024-04-23T12:57:59.429Z"
   },
   {
    "duration": 112,
    "start_time": "2024-04-23T13:01:12.945Z"
   },
   {
    "duration": 112,
    "start_time": "2024-04-23T13:06:24.162Z"
   },
   {
    "duration": 1001,
    "start_time": "2024-04-24T08:04:18.873Z"
   },
   {
    "duration": 25,
    "start_time": "2024-04-24T08:04:19.876Z"
   },
   {
    "duration": 1817,
    "start_time": "2024-04-24T08:04:19.903Z"
   },
   {
    "duration": 8,
    "start_time": "2024-04-24T08:04:21.721Z"
   },
   {
    "duration": 6,
    "start_time": "2024-04-24T08:04:21.730Z"
   },
   {
    "duration": 29,
    "start_time": "2024-04-24T08:04:21.737Z"
   },
   {
    "duration": 13,
    "start_time": "2024-04-24T08:04:21.768Z"
   },
   {
    "duration": 7,
    "start_time": "2024-04-24T08:04:21.782Z"
   },
   {
    "duration": 5,
    "start_time": "2024-04-24T08:04:21.790Z"
   },
   {
    "duration": 49,
    "start_time": "2024-04-24T08:04:21.796Z"
   },
   {
    "duration": 8,
    "start_time": "2024-04-24T08:04:21.847Z"
   },
   {
    "duration": 8,
    "start_time": "2024-04-24T08:04:21.856Z"
   },
   {
    "duration": 13,
    "start_time": "2024-04-24T08:04:21.865Z"
   },
   {
    "duration": 8,
    "start_time": "2024-04-24T08:04:21.880Z"
   },
   {
    "duration": 9,
    "start_time": "2024-04-24T08:04:21.890Z"
   },
   {
    "duration": 10,
    "start_time": "2024-04-24T08:04:21.901Z"
   },
   {
    "duration": 5,
    "start_time": "2024-04-24T08:04:21.912Z"
   },
   {
    "duration": 8,
    "start_time": "2024-04-24T08:04:21.918Z"
   },
   {
    "duration": 319,
    "start_time": "2024-04-24T08:04:21.928Z"
   },
   {
    "duration": 26,
    "start_time": "2024-04-24T08:04:22.248Z"
   },
   {
    "duration": 171,
    "start_time": "2024-04-24T08:04:22.275Z"
   },
   {
    "duration": 99,
    "start_time": "2024-04-24T08:04:22.447Z"
   },
   {
    "duration": 110,
    "start_time": "2024-04-24T08:04:22.547Z"
   },
   {
    "duration": 7,
    "start_time": "2024-04-24T08:04:22.658Z"
   },
   {
    "duration": 10,
    "start_time": "2024-04-24T08:04:22.666Z"
   },
   {
    "duration": 116,
    "start_time": "2024-04-24T08:04:22.677Z"
   },
   {
    "duration": 7,
    "start_time": "2024-04-24T08:04:22.801Z"
   },
   {
    "duration": 104,
    "start_time": "2024-04-24T08:04:22.809Z"
   },
   {
    "duration": 113,
    "start_time": "2024-04-24T08:04:22.915Z"
   },
   {
    "duration": 120,
    "start_time": "2024-04-24T08:04:23.029Z"
   },
   {
    "duration": 115,
    "start_time": "2024-04-24T08:04:23.150Z"
   },
   {
    "duration": 127,
    "start_time": "2024-04-24T08:04:23.266Z"
   },
   {
    "duration": 113,
    "start_time": "2024-04-24T08:04:23.394Z"
   },
   {
    "duration": 134,
    "start_time": "2024-04-24T08:04:23.509Z"
   },
   {
    "duration": 125,
    "start_time": "2024-04-24T08:04:23.645Z"
   },
   {
    "duration": 8,
    "start_time": "2024-04-24T08:06:33.928Z"
   },
   {
    "duration": 107,
    "start_time": "2024-04-24T08:12:09.767Z"
   },
   {
    "duration": 172,
    "start_time": "2024-04-24T08:15:43.405Z"
   },
   {
    "duration": 100,
    "start_time": "2024-04-24T08:16:33.448Z"
   },
   {
    "duration": 109,
    "start_time": "2024-04-24T08:16:46.321Z"
   },
   {
    "duration": 99,
    "start_time": "2024-04-24T08:20:18.318Z"
   },
   {
    "duration": 99,
    "start_time": "2024-04-24T08:21:58.981Z"
   },
   {
    "duration": 105,
    "start_time": "2024-04-24T08:22:23.371Z"
   },
   {
    "duration": 149,
    "start_time": "2024-04-24T08:47:44.438Z"
   },
   {
    "duration": 149,
    "start_time": "2024-04-24T08:48:35.225Z"
   },
   {
    "duration": 146,
    "start_time": "2024-04-24T08:50:07.305Z"
   },
   {
    "duration": 137,
    "start_time": "2024-04-24T08:52:19.279Z"
   },
   {
    "duration": 136,
    "start_time": "2024-04-24T08:52:51.749Z"
   },
   {
    "duration": 4,
    "start_time": "2024-04-24T08:54:38.618Z"
   },
   {
    "duration": 101,
    "start_time": "2024-04-24T09:05:54.182Z"
   },
   {
    "duration": 119,
    "start_time": "2024-04-24T09:06:30.343Z"
   },
   {
    "duration": 99,
    "start_time": "2024-04-24T09:06:40.537Z"
   },
   {
    "duration": 109,
    "start_time": "2024-04-24T09:06:49.443Z"
   },
   {
    "duration": 98,
    "start_time": "2024-04-24T09:06:58.942Z"
   },
   {
    "duration": 108,
    "start_time": "2024-04-24T09:07:16.193Z"
   },
   {
    "duration": 175,
    "start_time": "2024-04-24T09:07:28.804Z"
   },
   {
    "duration": 7,
    "start_time": "2024-04-24T09:07:38.274Z"
   },
   {
    "duration": 105,
    "start_time": "2024-04-24T09:10:14.968Z"
   },
   {
    "duration": 97,
    "start_time": "2024-04-24T09:10:27.733Z"
   },
   {
    "duration": 109,
    "start_time": "2024-04-24T09:10:36.494Z"
   },
   {
    "duration": 7,
    "start_time": "2024-04-24T09:15:09.362Z"
   },
   {
    "duration": 120,
    "start_time": "2024-04-24T09:15:18.275Z"
   },
   {
    "duration": 5,
    "start_time": "2024-04-24T09:15:34.410Z"
   },
   {
    "duration": 124,
    "start_time": "2024-04-24T09:15:35.138Z"
   },
   {
    "duration": 29,
    "start_time": "2024-04-24T09:16:05.019Z"
   },
   {
    "duration": 7,
    "start_time": "2024-04-24T09:16:30.330Z"
   },
   {
    "duration": 104,
    "start_time": "2024-04-24T09:16:54.155Z"
   },
   {
    "duration": 115,
    "start_time": "2024-04-24T09:17:08.324Z"
   },
   {
    "duration": 139,
    "start_time": "2024-04-24T09:17:28.680Z"
   },
   {
    "duration": 5,
    "start_time": "2024-04-24T09:17:46.823Z"
   },
   {
    "duration": 143,
    "start_time": "2024-04-24T09:19:26.529Z"
   },
   {
    "duration": 5,
    "start_time": "2024-04-24T09:19:52.275Z"
   },
   {
    "duration": 138,
    "start_time": "2024-04-24T09:23:01.650Z"
   },
   {
    "duration": 5,
    "start_time": "2024-04-24T09:23:21.179Z"
   },
   {
    "duration": 130,
    "start_time": "2024-04-24T09:27:17.944Z"
   },
   {
    "duration": 227,
    "start_time": "2024-04-24T09:32:43.601Z"
   },
   {
    "duration": 186,
    "start_time": "2024-04-24T09:33:07.515Z"
   },
   {
    "duration": 180,
    "start_time": "2024-04-24T09:33:16.271Z"
   },
   {
    "duration": 131,
    "start_time": "2024-04-24T09:34:09.689Z"
   },
   {
    "duration": 137,
    "start_time": "2024-04-24T09:34:16.131Z"
   },
   {
    "duration": 119,
    "start_time": "2024-04-24T09:45:18.556Z"
   },
   {
    "duration": 111,
    "start_time": "2024-04-24T09:45:38.138Z"
   },
   {
    "duration": 240,
    "start_time": "2024-04-24T09:54:08.126Z"
   },
   {
    "duration": 111,
    "start_time": "2024-04-24T09:54:29.577Z"
   },
   {
    "duration": 183,
    "start_time": "2024-04-24T09:56:31.875Z"
   },
   {
    "duration": 135,
    "start_time": "2024-04-24T09:57:43.019Z"
   },
   {
    "duration": 97,
    "start_time": "2024-04-24T09:59:32.634Z"
   },
   {
    "duration": 448,
    "start_time": "2024-04-24T10:03:21.370Z"
   },
   {
    "duration": 122,
    "start_time": "2024-04-24T10:03:29.971Z"
   },
   {
    "duration": 103,
    "start_time": "2024-04-24T10:03:43.473Z"
   },
   {
    "duration": 110,
    "start_time": "2024-04-24T10:03:56.096Z"
   },
   {
    "duration": 102,
    "start_time": "2024-04-24T10:04:02.577Z"
   },
   {
    "duration": 215,
    "start_time": "2024-04-24T11:08:41.285Z"
   },
   {
    "duration": 5,
    "start_time": "2024-04-24T11:09:19.155Z"
   },
   {
    "duration": 226,
    "start_time": "2024-04-24T11:13:02.804Z"
   },
   {
    "duration": 9,
    "start_time": "2024-04-24T11:15:06.901Z"
   },
   {
    "duration": 10,
    "start_time": "2024-04-24T11:15:20.820Z"
   },
   {
    "duration": 14,
    "start_time": "2024-04-24T11:15:31.537Z"
   },
   {
    "duration": 4,
    "start_time": "2024-04-24T11:15:49.269Z"
   },
   {
    "duration": 50,
    "start_time": "2024-04-24T13:01:49.887Z"
   },
   {
    "duration": 1127,
    "start_time": "2024-04-24T13:02:47.750Z"
   },
   {
    "duration": 35,
    "start_time": "2024-04-24T13:02:48.879Z"
   },
   {
    "duration": 2419,
    "start_time": "2024-04-24T13:02:48.916Z"
   },
   {
    "duration": 12,
    "start_time": "2024-04-24T13:02:51.338Z"
   },
   {
    "duration": 6,
    "start_time": "2024-04-24T13:02:51.352Z"
   },
   {
    "duration": 11,
    "start_time": "2024-04-24T13:02:51.359Z"
   },
   {
    "duration": 15,
    "start_time": "2024-04-24T13:02:51.371Z"
   },
   {
    "duration": 9,
    "start_time": "2024-04-24T13:02:51.387Z"
   },
   {
    "duration": 7,
    "start_time": "2024-04-24T13:02:51.398Z"
   },
   {
    "duration": 59,
    "start_time": "2024-04-24T13:02:51.408Z"
   },
   {
    "duration": 12,
    "start_time": "2024-04-24T13:02:51.468Z"
   },
   {
    "duration": 37,
    "start_time": "2024-04-24T13:02:51.481Z"
   },
   {
    "duration": 11,
    "start_time": "2024-04-24T13:02:51.521Z"
   },
   {
    "duration": 35,
    "start_time": "2024-04-24T13:02:51.534Z"
   },
   {
    "duration": 14,
    "start_time": "2024-04-24T13:02:51.570Z"
   },
   {
    "duration": 12,
    "start_time": "2024-04-24T13:02:51.585Z"
   },
   {
    "duration": 271,
    "start_time": "2024-04-24T13:02:51.599Z"
   },
   {
    "duration": 0,
    "start_time": "2024-04-24T13:02:51.872Z"
   },
   {
    "duration": 0,
    "start_time": "2024-04-24T13:02:51.873Z"
   },
   {
    "duration": 0,
    "start_time": "2024-04-24T13:02:51.874Z"
   },
   {
    "duration": 0,
    "start_time": "2024-04-24T13:02:51.875Z"
   },
   {
    "duration": 0,
    "start_time": "2024-04-24T13:02:51.875Z"
   },
   {
    "duration": 0,
    "start_time": "2024-04-24T13:02:51.876Z"
   },
   {
    "duration": 0,
    "start_time": "2024-04-24T13:02:51.877Z"
   },
   {
    "duration": 0,
    "start_time": "2024-04-24T13:02:51.878Z"
   },
   {
    "duration": 0,
    "start_time": "2024-04-24T13:02:51.879Z"
   },
   {
    "duration": 0,
    "start_time": "2024-04-24T13:02:51.880Z"
   },
   {
    "duration": 0,
    "start_time": "2024-04-24T13:02:51.881Z"
   },
   {
    "duration": 0,
    "start_time": "2024-04-24T13:02:51.882Z"
   },
   {
    "duration": 0,
    "start_time": "2024-04-24T13:02:51.883Z"
   },
   {
    "duration": 0,
    "start_time": "2024-04-24T13:02:51.884Z"
   },
   {
    "duration": 0,
    "start_time": "2024-04-24T13:02:51.885Z"
   },
   {
    "duration": 0,
    "start_time": "2024-04-24T13:02:51.886Z"
   },
   {
    "duration": 0,
    "start_time": "2024-04-24T13:02:51.887Z"
   },
   {
    "duration": 0,
    "start_time": "2024-04-24T13:02:51.889Z"
   },
   {
    "duration": 0,
    "start_time": "2024-04-24T13:02:51.890Z"
   },
   {
    "duration": 0,
    "start_time": "2024-04-24T13:02:51.891Z"
   },
   {
    "duration": 0,
    "start_time": "2024-04-24T13:02:51.892Z"
   },
   {
    "duration": 0,
    "start_time": "2024-04-24T13:02:51.893Z"
   },
   {
    "duration": 0,
    "start_time": "2024-04-24T13:02:51.894Z"
   },
   {
    "duration": 0,
    "start_time": "2024-04-24T13:02:51.895Z"
   },
   {
    "duration": 1,
    "start_time": "2024-04-24T13:02:51.896Z"
   },
   {
    "duration": 0,
    "start_time": "2024-04-24T13:02:51.898Z"
   },
   {
    "duration": 0,
    "start_time": "2024-04-24T13:02:51.899Z"
   },
   {
    "duration": 0,
    "start_time": "2024-04-24T13:02:51.900Z"
   },
   {
    "duration": 0,
    "start_time": "2024-04-24T13:02:51.901Z"
   },
   {
    "duration": 0,
    "start_time": "2024-04-24T13:02:51.901Z"
   },
   {
    "duration": 0,
    "start_time": "2024-04-24T13:02:51.902Z"
   },
   {
    "duration": 0,
    "start_time": "2024-04-24T13:02:51.904Z"
   },
   {
    "duration": 0,
    "start_time": "2024-04-24T13:02:51.905Z"
   },
   {
    "duration": 10,
    "start_time": "2024-04-24T13:04:31.649Z"
   },
   {
    "duration": 33,
    "start_time": "2024-04-24T13:04:42.368Z"
   },
   {
    "duration": 33,
    "start_time": "2024-04-24T13:04:57.238Z"
   },
   {
    "duration": 34,
    "start_time": "2024-04-24T13:05:09.499Z"
   },
   {
    "duration": 959,
    "start_time": "2024-04-24T13:06:08.163Z"
   },
   {
    "duration": 6,
    "start_time": "2024-04-24T13:06:25.495Z"
   },
   {
    "duration": 6,
    "start_time": "2024-04-24T13:06:31.128Z"
   },
   {
    "duration": 34,
    "start_time": "2024-04-24T13:06:31.863Z"
   },
   {
    "duration": 6,
    "start_time": "2024-04-24T13:06:49.458Z"
   },
   {
    "duration": 35,
    "start_time": "2024-04-24T13:06:58.071Z"
   },
   {
    "duration": 6,
    "start_time": "2024-04-24T13:07:21.077Z"
   },
   {
    "duration": 37,
    "start_time": "2024-04-24T13:07:21.762Z"
   },
   {
    "duration": 114,
    "start_time": "2024-04-24T13:07:27.774Z"
   },
   {
    "duration": 44,
    "start_time": "2024-04-24T13:07:27.890Z"
   },
   {
    "duration": 2373,
    "start_time": "2024-04-24T13:07:27.936Z"
   },
   {
    "duration": 11,
    "start_time": "2024-04-24T13:07:30.311Z"
   },
   {
    "duration": 53,
    "start_time": "2024-04-24T13:07:30.324Z"
   },
   {
    "duration": 46,
    "start_time": "2024-04-24T13:07:30.379Z"
   },
   {
    "duration": 22,
    "start_time": "2024-04-24T13:07:30.427Z"
   },
   {
    "duration": 41,
    "start_time": "2024-04-24T13:07:30.450Z"
   },
   {
    "duration": 34,
    "start_time": "2024-04-24T13:07:30.493Z"
   },
   {
    "duration": 98,
    "start_time": "2024-04-24T13:07:30.529Z"
   },
   {
    "duration": 23,
    "start_time": "2024-04-24T13:07:30.629Z"
   },
   {
    "duration": 26,
    "start_time": "2024-04-24T13:07:30.654Z"
   },
   {
    "duration": 27,
    "start_time": "2024-04-24T13:07:30.682Z"
   },
   {
    "duration": 34,
    "start_time": "2024-04-24T13:07:30.712Z"
   },
   {
    "duration": 42,
    "start_time": "2024-04-24T13:07:30.747Z"
   },
   {
    "duration": 42,
    "start_time": "2024-04-24T13:07:30.791Z"
   },
   {
    "duration": 100,
    "start_time": "2024-04-24T13:07:30.835Z"
   },
   {
    "duration": 34,
    "start_time": "2024-04-24T13:07:30.937Z"
   },
   {
    "duration": 39,
    "start_time": "2024-04-24T13:07:30.972Z"
   },
   {
    "duration": 409,
    "start_time": "2024-04-24T13:07:31.013Z"
   },
   {
    "duration": 29,
    "start_time": "2024-04-24T13:07:31.423Z"
   },
   {
    "duration": 166,
    "start_time": "2024-04-24T13:07:31.454Z"
   },
   {
    "duration": 229,
    "start_time": "2024-04-24T13:07:31.622Z"
   },
   {
    "duration": 147,
    "start_time": "2024-04-24T13:07:31.853Z"
   },
   {
    "duration": 19,
    "start_time": "2024-04-24T13:07:32.002Z"
   },
   {
    "duration": 16,
    "start_time": "2024-04-24T13:07:32.023Z"
   },
   {
    "duration": 147,
    "start_time": "2024-04-24T13:07:32.040Z"
   },
   {
    "duration": 10,
    "start_time": "2024-04-24T13:07:32.188Z"
   },
   {
    "duration": 152,
    "start_time": "2024-04-24T13:07:32.200Z"
   },
   {
    "duration": 146,
    "start_time": "2024-04-24T13:07:32.354Z"
   },
   {
    "duration": 162,
    "start_time": "2024-04-24T13:07:32.502Z"
   },
   {
    "duration": 132,
    "start_time": "2024-04-24T13:07:32.666Z"
   },
   {
    "duration": 163,
    "start_time": "2024-04-24T13:07:32.800Z"
   },
   {
    "duration": 137,
    "start_time": "2024-04-24T13:07:32.964Z"
   },
   {
    "duration": 155,
    "start_time": "2024-04-24T13:07:33.103Z"
   },
   {
    "duration": 137,
    "start_time": "2024-04-24T13:07:33.260Z"
   },
   {
    "duration": 22,
    "start_time": "2024-04-24T13:07:33.399Z"
   },
   {
    "duration": 138,
    "start_time": "2024-04-24T13:07:33.423Z"
   },
   {
    "duration": 9,
    "start_time": "2024-04-24T13:07:33.563Z"
   },
   {
    "duration": 144,
    "start_time": "2024-04-24T13:07:33.574Z"
   },
   {
    "duration": 161,
    "start_time": "2024-04-24T13:07:33.723Z"
   },
   {
    "duration": 185,
    "start_time": "2024-04-24T13:07:33.886Z"
   },
   {
    "duration": 6,
    "start_time": "2024-04-24T13:07:34.073Z"
   },
   {
    "duration": 228,
    "start_time": "2024-04-24T13:07:34.081Z"
   },
   {
    "duration": 7,
    "start_time": "2024-04-24T13:07:34.315Z"
   },
   {
    "duration": 201,
    "start_time": "2024-04-24T13:07:34.323Z"
   },
   {
    "duration": 5,
    "start_time": "2024-04-24T13:07:34.526Z"
   },
   {
    "duration": 183,
    "start_time": "2024-04-24T13:07:34.533Z"
   },
   {
    "duration": 174,
    "start_time": "2024-04-24T13:07:34.718Z"
   },
   {
    "duration": 259,
    "start_time": "2024-04-24T13:07:34.894Z"
   },
   {
    "duration": 10,
    "start_time": "2024-04-24T13:12:15.206Z"
   },
   {
    "duration": 6,
    "start_time": "2024-04-24T13:13:19.182Z"
   },
   {
    "duration": 7,
    "start_time": "2024-04-24T13:14:28.437Z"
   },
   {
    "duration": 5,
    "start_time": "2024-04-24T13:22:20.389Z"
   },
   {
    "duration": 5,
    "start_time": "2024-04-24T13:22:32.616Z"
   },
   {
    "duration": 5,
    "start_time": "2024-04-24T13:22:45.586Z"
   },
   {
    "duration": 4,
    "start_time": "2024-04-24T13:23:27.917Z"
   },
   {
    "duration": 5,
    "start_time": "2024-04-24T13:23:56.261Z"
   },
   {
    "duration": 35,
    "start_time": "2024-04-24T13:24:21.357Z"
   },
   {
    "duration": 12,
    "start_time": "2024-04-24T13:26:04.553Z"
   },
   {
    "duration": 39,
    "start_time": "2024-04-24T13:26:11.998Z"
   },
   {
    "duration": 9,
    "start_time": "2024-04-24T13:29:05.946Z"
   },
   {
    "duration": 169,
    "start_time": "2024-04-24T13:38:48.830Z"
   },
   {
    "duration": 173,
    "start_time": "2024-04-24T13:42:14.930Z"
   },
   {
    "duration": 7,
    "start_time": "2024-04-24T13:42:54.165Z"
   },
   {
    "duration": 34,
    "start_time": "2024-04-24T13:42:55.190Z"
   },
   {
    "duration": 169,
    "start_time": "2024-04-24T13:43:24.225Z"
   },
   {
    "duration": 6,
    "start_time": "2024-04-24T13:44:11.800Z"
   },
   {
    "duration": 166,
    "start_time": "2024-04-24T13:44:32.876Z"
   },
   {
    "duration": 5,
    "start_time": "2024-04-24T13:44:56.795Z"
   },
   {
    "duration": 118,
    "start_time": "2024-04-24T13:45:55.111Z"
   },
   {
    "duration": 30,
    "start_time": "2024-04-24T13:45:55.231Z"
   },
   {
    "duration": 2462,
    "start_time": "2024-04-24T13:45:55.262Z"
   },
   {
    "duration": 11,
    "start_time": "2024-04-24T13:45:57.725Z"
   },
   {
    "duration": 7,
    "start_time": "2024-04-24T13:45:57.738Z"
   },
   {
    "duration": 6,
    "start_time": "2024-04-24T13:45:57.747Z"
   },
   {
    "duration": 6,
    "start_time": "2024-04-24T13:45:57.755Z"
   },
   {
    "duration": 6,
    "start_time": "2024-04-24T13:45:57.763Z"
   },
   {
    "duration": 48,
    "start_time": "2024-04-24T13:45:57.770Z"
   },
   {
    "duration": 63,
    "start_time": "2024-04-24T13:45:57.820Z"
   },
   {
    "duration": 9,
    "start_time": "2024-04-24T13:45:57.884Z"
   },
   {
    "duration": 7,
    "start_time": "2024-04-24T13:45:57.894Z"
   },
   {
    "duration": 18,
    "start_time": "2024-04-24T13:45:57.903Z"
   },
   {
    "duration": 27,
    "start_time": "2024-04-24T13:45:57.924Z"
   },
   {
    "duration": 10,
    "start_time": "2024-04-24T13:45:57.953Z"
   },
   {
    "duration": 9,
    "start_time": "2024-04-24T13:45:57.965Z"
   },
   {
    "duration": 11,
    "start_time": "2024-04-24T13:45:57.975Z"
   },
   {
    "duration": 17,
    "start_time": "2024-04-24T13:45:57.987Z"
   },
   {
    "duration": 41,
    "start_time": "2024-04-24T13:45:58.005Z"
   },
   {
    "duration": 7,
    "start_time": "2024-04-24T13:45:58.048Z"
   },
   {
    "duration": 400,
    "start_time": "2024-04-24T13:45:58.056Z"
   },
   {
    "duration": 27,
    "start_time": "2024-04-24T13:45:58.458Z"
   },
   {
    "duration": 163,
    "start_time": "2024-04-24T13:45:58.487Z"
   },
   {
    "duration": 139,
    "start_time": "2024-04-24T13:45:58.652Z"
   },
   {
    "duration": 172,
    "start_time": "2024-04-24T13:45:58.793Z"
   },
   {
    "duration": 9,
    "start_time": "2024-04-24T13:45:58.967Z"
   },
   {
    "duration": 15,
    "start_time": "2024-04-24T13:45:58.977Z"
   },
   {
    "duration": 151,
    "start_time": "2024-04-24T13:45:58.993Z"
   },
   {
    "duration": 10,
    "start_time": "2024-04-24T13:45:59.146Z"
   },
   {
    "duration": 149,
    "start_time": "2024-04-24T13:45:59.157Z"
   },
   {
    "duration": 149,
    "start_time": "2024-04-24T13:45:59.308Z"
   },
   {
    "duration": 146,
    "start_time": "2024-04-24T13:45:59.459Z"
   },
   {
    "duration": 149,
    "start_time": "2024-04-24T13:45:59.607Z"
   },
   {
    "duration": 146,
    "start_time": "2024-04-24T13:45:59.757Z"
   },
   {
    "duration": 147,
    "start_time": "2024-04-24T13:45:59.905Z"
   },
   {
    "duration": 149,
    "start_time": "2024-04-24T13:46:00.054Z"
   },
   {
    "duration": 148,
    "start_time": "2024-04-24T13:46:00.204Z"
   },
   {
    "duration": 9,
    "start_time": "2024-04-24T13:46:00.354Z"
   },
   {
    "duration": 220,
    "start_time": "2024-04-24T13:46:00.365Z"
   },
   {
    "duration": 10,
    "start_time": "2024-04-24T13:46:00.587Z"
   },
   {
    "duration": 199,
    "start_time": "2024-04-24T13:46:00.601Z"
   },
   {
    "duration": 163,
    "start_time": "2024-04-24T13:46:00.801Z"
   },
   {
    "duration": 201,
    "start_time": "2024-04-24T13:46:00.965Z"
   },
   {
    "duration": 7,
    "start_time": "2024-04-24T13:46:01.169Z"
   },
   {
    "duration": 233,
    "start_time": "2024-04-24T13:46:01.177Z"
   },
   {
    "duration": 7,
    "start_time": "2024-04-24T13:46:01.412Z"
   },
   {
    "duration": 363,
    "start_time": "2024-04-24T13:46:01.421Z"
   },
   {
    "duration": 5,
    "start_time": "2024-04-24T13:46:01.786Z"
   },
   {
    "duration": 193,
    "start_time": "2024-04-24T13:46:01.793Z"
   },
   {
    "duration": 153,
    "start_time": "2024-04-24T13:46:01.988Z"
   },
   {
    "duration": 137,
    "start_time": "2024-04-24T13:46:02.143Z"
   },
   {
    "duration": 169,
    "start_time": "2024-04-24T13:46:02.282Z"
   },
   {
    "duration": 5,
    "start_time": "2024-04-24T13:46:02.453Z"
   },
   {
    "duration": 198,
    "start_time": "2024-04-24T13:46:02.460Z"
   },
   {
    "duration": 151,
    "start_time": "2024-04-24T13:46:30.410Z"
   },
   {
    "duration": 153,
    "start_time": "2024-04-24T13:46:39.939Z"
   },
   {
    "duration": 158,
    "start_time": "2024-04-24T13:46:51.067Z"
   },
   {
    "duration": 157,
    "start_time": "2024-04-24T13:46:55.927Z"
   },
   {
    "duration": 139,
    "start_time": "2024-04-24T13:48:44.576Z"
   },
   {
    "duration": 65,
    "start_time": "2024-04-24T14:03:18.454Z"
   },
   {
    "duration": 26,
    "start_time": "2024-04-24T14:05:27.672Z"
   },
   {
    "duration": 27,
    "start_time": "2024-04-24T14:09:38.712Z"
   },
   {
    "duration": 8,
    "start_time": "2024-04-24T14:10:24.333Z"
   },
   {
    "duration": 12,
    "start_time": "2024-04-24T14:11:20.397Z"
   },
   {
    "duration": 9,
    "start_time": "2024-04-24T14:12:03.863Z"
   },
   {
    "duration": 15,
    "start_time": "2024-04-24T14:14:07.505Z"
   },
   {
    "duration": 8,
    "start_time": "2024-04-24T14:14:32.501Z"
   },
   {
    "duration": 8,
    "start_time": "2024-04-24T14:14:47.843Z"
   },
   {
    "duration": 9,
    "start_time": "2024-04-24T14:22:34.987Z"
   },
   {
    "duration": 408,
    "start_time": "2024-04-24T14:23:22.213Z"
   },
   {
    "duration": 7,
    "start_time": "2024-04-24T14:23:30.068Z"
   },
   {
    "duration": 45,
    "start_time": "2024-04-24T20:26:42.275Z"
   },
   {
    "duration": 1016,
    "start_time": "2024-04-24T20:26:52.775Z"
   },
   {
    "duration": 34,
    "start_time": "2024-04-24T20:26:53.793Z"
   },
   {
    "duration": 2112,
    "start_time": "2024-04-24T20:26:53.828Z"
   },
   {
    "duration": 9,
    "start_time": "2024-04-24T20:26:55.942Z"
   },
   {
    "duration": 6,
    "start_time": "2024-04-24T20:26:55.953Z"
   },
   {
    "duration": 9,
    "start_time": "2024-04-24T20:26:55.961Z"
   },
   {
    "duration": 7,
    "start_time": "2024-04-24T20:26:55.971Z"
   },
   {
    "duration": 8,
    "start_time": "2024-04-24T20:26:55.979Z"
   },
   {
    "duration": 6,
    "start_time": "2024-04-24T20:26:55.988Z"
   },
   {
    "duration": 86,
    "start_time": "2024-04-24T20:26:55.996Z"
   },
   {
    "duration": 10,
    "start_time": "2024-04-24T20:26:56.084Z"
   },
   {
    "duration": 7,
    "start_time": "2024-04-24T20:26:56.095Z"
   },
   {
    "duration": 8,
    "start_time": "2024-04-24T20:26:56.104Z"
   },
   {
    "duration": 7,
    "start_time": "2024-04-24T20:26:56.114Z"
   },
   {
    "duration": 3,
    "start_time": "2024-04-24T20:26:56.123Z"
   },
   {
    "duration": 6,
    "start_time": "2024-04-24T20:26:56.128Z"
   },
   {
    "duration": 10,
    "start_time": "2024-04-24T20:26:56.164Z"
   },
   {
    "duration": 9,
    "start_time": "2024-04-24T20:26:56.175Z"
   },
   {
    "duration": 33,
    "start_time": "2024-04-24T20:26:56.186Z"
   },
   {
    "duration": 6,
    "start_time": "2024-04-24T20:26:56.221Z"
   },
   {
    "duration": 377,
    "start_time": "2024-04-24T20:26:56.229Z"
   },
   {
    "duration": 27,
    "start_time": "2024-04-24T20:26:56.607Z"
   },
   {
    "duration": 148,
    "start_time": "2024-04-24T20:26:56.635Z"
   },
   {
    "duration": 182,
    "start_time": "2024-04-24T20:26:56.785Z"
   },
   {
    "duration": 130,
    "start_time": "2024-04-24T20:26:56.968Z"
   },
   {
    "duration": 8,
    "start_time": "2024-04-24T20:26:57.100Z"
   },
   {
    "duration": 13,
    "start_time": "2024-04-24T20:26:57.109Z"
   },
   {
    "duration": 137,
    "start_time": "2024-04-24T20:26:57.123Z"
   },
   {
    "duration": 10,
    "start_time": "2024-04-24T20:26:57.264Z"
   },
   {
    "duration": 134,
    "start_time": "2024-04-24T20:26:57.276Z"
   },
   {
    "duration": 145,
    "start_time": "2024-04-24T20:26:57.412Z"
   },
   {
    "duration": 126,
    "start_time": "2024-04-24T20:26:57.564Z"
   },
   {
    "duration": 133,
    "start_time": "2024-04-24T20:26:57.692Z"
   },
   {
    "duration": 131,
    "start_time": "2024-04-24T20:26:57.826Z"
   },
   {
    "duration": 125,
    "start_time": "2024-04-24T20:26:57.964Z"
   },
   {
    "duration": 135,
    "start_time": "2024-04-24T20:26:58.091Z"
   },
   {
    "duration": 133,
    "start_time": "2024-04-24T20:26:58.228Z"
   },
   {
    "duration": 9,
    "start_time": "2024-04-24T20:26:58.364Z"
   },
   {
    "duration": 142,
    "start_time": "2024-04-24T20:26:58.374Z"
   },
   {
    "duration": 10,
    "start_time": "2024-04-24T20:26:58.518Z"
   },
   {
    "duration": 137,
    "start_time": "2024-04-24T20:26:58.531Z"
   },
   {
    "duration": 238,
    "start_time": "2024-04-24T20:26:58.670Z"
   },
   {
    "duration": 192,
    "start_time": "2024-04-24T20:26:58.909Z"
   },
   {
    "duration": 5,
    "start_time": "2024-04-24T20:26:59.103Z"
   },
   {
    "duration": 190,
    "start_time": "2024-04-24T20:26:59.109Z"
   },
   {
    "duration": 6,
    "start_time": "2024-04-24T20:26:59.300Z"
   },
   {
    "duration": 186,
    "start_time": "2024-04-24T20:26:59.308Z"
   },
   {
    "duration": 5,
    "start_time": "2024-04-24T20:26:59.496Z"
   },
   {
    "duration": 179,
    "start_time": "2024-04-24T20:26:59.502Z"
   },
   {
    "duration": 154,
    "start_time": "2024-04-24T20:26:59.682Z"
   },
   {
    "duration": 118,
    "start_time": "2024-04-24T20:26:59.837Z"
   },
   {
    "duration": 155,
    "start_time": "2024-04-24T20:26:59.957Z"
   },
   {
    "duration": 174,
    "start_time": "2024-04-24T20:27:00.113Z"
   },
   {
    "duration": 133,
    "start_time": "2024-04-24T20:27:00.288Z"
   },
   {
    "duration": 14,
    "start_time": "2024-04-24T20:27:00.423Z"
   },
   {
    "duration": 27,
    "start_time": "2024-04-24T20:27:00.439Z"
   },
   {
    "duration": 25,
    "start_time": "2024-04-24T20:28:08.610Z"
   },
   {
    "duration": 19,
    "start_time": "2024-04-24T20:29:14.556Z"
   },
   {
    "duration": 21,
    "start_time": "2024-04-24T20:29:26.409Z"
   },
   {
    "duration": 24,
    "start_time": "2024-04-24T20:34:19.862Z"
   },
   {
    "duration": 714,
    "start_time": "2024-04-24T20:42:52.639Z"
   },
   {
    "duration": 210,
    "start_time": "2024-04-24T20:43:24.824Z"
   },
   {
    "duration": 15,
    "start_time": "2024-04-24T20:49:17.757Z"
   },
   {
    "duration": 5,
    "start_time": "2024-04-24T20:49:59.555Z"
   },
   {
    "duration": 16,
    "start_time": "2024-04-24T20:52:44.400Z"
   },
   {
    "duration": 24,
    "start_time": "2024-04-24T20:53:21.254Z"
   },
   {
    "duration": 709,
    "start_time": "2024-04-24T21:00:25.984Z"
   },
   {
    "duration": 7,
    "start_time": "2024-04-24T21:05:06.424Z"
   },
   {
    "duration": 10,
    "start_time": "2024-04-24T21:05:15.165Z"
   },
   {
    "duration": 9,
    "start_time": "2024-04-24T21:05:27.585Z"
   },
   {
    "duration": 32,
    "start_time": "2024-04-24T21:07:06.260Z"
   },
   {
    "duration": 37,
    "start_time": "2024-04-24T21:07:42.092Z"
   },
   {
    "duration": 11,
    "start_time": "2024-04-24T21:08:16.903Z"
   },
   {
    "duration": 8,
    "start_time": "2024-04-24T21:09:24.345Z"
   },
   {
    "duration": 7,
    "start_time": "2024-04-24T21:09:40.779Z"
   },
   {
    "duration": 15,
    "start_time": "2024-04-24T21:12:23.393Z"
   },
   {
    "duration": 135,
    "start_time": "2024-04-24T21:13:35.302Z"
   },
   {
    "duration": 192,
    "start_time": "2024-04-24T21:15:33.361Z"
   },
   {
    "duration": 116,
    "start_time": "2024-04-24T21:16:19.922Z"
   },
   {
    "duration": 253,
    "start_time": "2024-04-24T21:16:31.584Z"
   },
   {
    "duration": 435,
    "start_time": "2024-04-24T21:17:17.249Z"
   },
   {
    "duration": 438,
    "start_time": "2024-04-24T21:23:15.735Z"
   },
   {
    "duration": 395,
    "start_time": "2024-04-24T21:24:54.766Z"
   },
   {
    "duration": 1548,
    "start_time": "2024-04-24T21:28:58.632Z"
   },
   {
    "duration": 2462,
    "start_time": "2024-04-24T21:29:07.794Z"
   },
   {
    "duration": 2673,
    "start_time": "2024-04-24T21:29:25.622Z"
   },
   {
    "duration": 2996,
    "start_time": "2024-04-24T21:29:43.174Z"
   },
   {
    "duration": 955,
    "start_time": "2024-04-25T04:55:19.452Z"
   },
   {
    "duration": 27,
    "start_time": "2024-04-25T04:55:20.408Z"
   },
   {
    "duration": 1737,
    "start_time": "2024-04-25T04:55:20.436Z"
   },
   {
    "duration": 9,
    "start_time": "2024-04-25T04:55:22.175Z"
   },
   {
    "duration": 9,
    "start_time": "2024-04-25T04:55:22.185Z"
   },
   {
    "duration": 6,
    "start_time": "2024-04-25T04:55:22.195Z"
   },
   {
    "duration": 6,
    "start_time": "2024-04-25T04:55:22.203Z"
   },
   {
    "duration": 7,
    "start_time": "2024-04-25T04:55:22.210Z"
   },
   {
    "duration": 15,
    "start_time": "2024-04-25T04:55:22.218Z"
   },
   {
    "duration": 49,
    "start_time": "2024-04-25T04:55:22.235Z"
   },
   {
    "duration": 9,
    "start_time": "2024-04-25T04:55:22.285Z"
   },
   {
    "duration": 6,
    "start_time": "2024-04-25T04:55:22.295Z"
   },
   {
    "duration": 11,
    "start_time": "2024-04-25T04:55:22.302Z"
   },
   {
    "duration": 8,
    "start_time": "2024-04-25T04:55:22.314Z"
   },
   {
    "duration": 8,
    "start_time": "2024-04-25T04:55:22.323Z"
   },
   {
    "duration": 7,
    "start_time": "2024-04-25T04:55:22.332Z"
   },
   {
    "duration": 9,
    "start_time": "2024-04-25T04:55:22.340Z"
   },
   {
    "duration": 5,
    "start_time": "2024-04-25T04:55:22.350Z"
   },
   {
    "duration": 43,
    "start_time": "2024-04-25T04:55:22.357Z"
   },
   {
    "duration": 4,
    "start_time": "2024-04-25T04:55:22.402Z"
   },
   {
    "duration": 330,
    "start_time": "2024-04-25T04:55:22.407Z"
   },
   {
    "duration": 22,
    "start_time": "2024-04-25T04:55:22.739Z"
   },
   {
    "duration": 169,
    "start_time": "2024-04-25T04:55:22.762Z"
   },
   {
    "duration": 101,
    "start_time": "2024-04-25T04:55:22.933Z"
   },
   {
    "duration": 115,
    "start_time": "2024-04-25T04:55:23.036Z"
   },
   {
    "duration": 7,
    "start_time": "2024-04-25T04:55:23.153Z"
   },
   {
    "duration": 24,
    "start_time": "2024-04-25T04:55:23.161Z"
   },
   {
    "duration": 103,
    "start_time": "2024-04-25T04:55:23.188Z"
   },
   {
    "duration": 9,
    "start_time": "2024-04-25T04:55:23.292Z"
   },
   {
    "duration": 113,
    "start_time": "2024-04-25T04:55:23.302Z"
   },
   {
    "duration": 108,
    "start_time": "2024-04-25T04:55:23.416Z"
   },
   {
    "duration": 106,
    "start_time": "2024-04-25T04:55:23.525Z"
   },
   {
    "duration": 104,
    "start_time": "2024-04-25T04:55:23.632Z"
   },
   {
    "duration": 114,
    "start_time": "2024-04-25T04:55:23.738Z"
   },
   {
    "duration": 108,
    "start_time": "2024-04-25T04:55:23.853Z"
   },
   {
    "duration": 113,
    "start_time": "2024-04-25T04:55:23.962Z"
   },
   {
    "duration": 110,
    "start_time": "2024-04-25T04:55:24.076Z"
   },
   {
    "duration": 7,
    "start_time": "2024-04-25T04:55:24.187Z"
   },
   {
    "duration": 119,
    "start_time": "2024-04-25T04:55:24.195Z"
   },
   {
    "duration": 8,
    "start_time": "2024-04-25T04:55:24.315Z"
   },
   {
    "duration": 168,
    "start_time": "2024-04-25T04:55:24.324Z"
   },
   {
    "duration": 115,
    "start_time": "2024-04-25T04:55:24.494Z"
   },
   {
    "duration": 148,
    "start_time": "2024-04-25T04:55:24.610Z"
   },
   {
    "duration": 4,
    "start_time": "2024-04-25T04:55:24.760Z"
   },
   {
    "duration": 159,
    "start_time": "2024-04-25T04:55:24.766Z"
   },
   {
    "duration": 4,
    "start_time": "2024-04-25T04:55:24.927Z"
   },
   {
    "duration": 153,
    "start_time": "2024-04-25T04:55:24.933Z"
   },
   {
    "duration": 5,
    "start_time": "2024-04-25T04:55:25.087Z"
   },
   {
    "duration": 145,
    "start_time": "2024-04-25T04:55:25.094Z"
   },
   {
    "duration": 119,
    "start_time": "2024-04-25T04:55:25.241Z"
   },
   {
    "duration": 116,
    "start_time": "2024-04-25T04:55:25.362Z"
   },
   {
    "duration": 129,
    "start_time": "2024-04-25T04:55:25.484Z"
   },
   {
    "duration": 149,
    "start_time": "2024-04-25T04:55:25.614Z"
   },
   {
    "duration": 104,
    "start_time": "2024-04-25T04:55:25.764Z"
   },
   {
    "duration": 27,
    "start_time": "2024-04-25T04:55:25.869Z"
   },
   {
    "duration": 140,
    "start_time": "2024-04-25T04:55:25.897Z"
   },
   {
    "duration": 4,
    "start_time": "2024-04-25T04:55:26.038Z"
   },
   {
    "duration": 9,
    "start_time": "2024-04-25T04:55:26.043Z"
   },
   {
    "duration": 6,
    "start_time": "2024-04-25T04:55:26.054Z"
   },
   {
    "duration": 237,
    "start_time": "2024-04-25T04:55:26.061Z"
   },
   {
    "duration": 1058,
    "start_time": "2024-04-25T08:16:45.252Z"
   },
   {
    "duration": 35,
    "start_time": "2024-04-25T08:16:46.312Z"
   },
   {
    "duration": 2158,
    "start_time": "2024-04-25T08:16:46.349Z"
   },
   {
    "duration": 10,
    "start_time": "2024-04-25T08:16:48.509Z"
   },
   {
    "duration": 6,
    "start_time": "2024-04-25T08:16:48.521Z"
   },
   {
    "duration": 7,
    "start_time": "2024-04-25T08:16:48.528Z"
   },
   {
    "duration": 8,
    "start_time": "2024-04-25T08:16:48.536Z"
   },
   {
    "duration": 6,
    "start_time": "2024-04-25T08:16:48.546Z"
   },
   {
    "duration": 69,
    "start_time": "2024-04-25T08:16:48.553Z"
   },
   {
    "duration": 11,
    "start_time": "2024-04-25T08:16:48.624Z"
   },
   {
    "duration": 6,
    "start_time": "2024-04-25T08:16:48.636Z"
   },
   {
    "duration": 8,
    "start_time": "2024-04-25T08:16:48.644Z"
   },
   {
    "duration": 8,
    "start_time": "2024-04-25T08:16:48.653Z"
   },
   {
    "duration": 4,
    "start_time": "2024-04-25T08:16:48.664Z"
   },
   {
    "duration": 6,
    "start_time": "2024-04-25T08:16:48.669Z"
   },
   {
    "duration": 44,
    "start_time": "2024-04-25T08:16:48.676Z"
   },
   {
    "duration": 11,
    "start_time": "2024-04-25T08:16:48.722Z"
   },
   {
    "duration": 34,
    "start_time": "2024-04-25T08:16:48.735Z"
   },
   {
    "duration": 5,
    "start_time": "2024-04-25T08:16:48.770Z"
   },
   {
    "duration": 362,
    "start_time": "2024-04-25T08:16:48.777Z"
   },
   {
    "duration": 35,
    "start_time": "2024-04-25T08:16:49.140Z"
   },
   {
    "duration": 146,
    "start_time": "2024-04-25T08:16:49.176Z"
   },
   {
    "duration": 179,
    "start_time": "2024-04-25T08:16:49.323Z"
   },
   {
    "duration": 133,
    "start_time": "2024-04-25T08:16:49.504Z"
   },
   {
    "duration": 8,
    "start_time": "2024-04-25T08:16:49.638Z"
   },
   {
    "duration": 14,
    "start_time": "2024-04-25T08:16:49.647Z"
   },
   {
    "duration": 139,
    "start_time": "2024-04-25T08:16:49.663Z"
   },
   {
    "duration": 16,
    "start_time": "2024-04-25T08:16:49.804Z"
   },
   {
    "duration": 134,
    "start_time": "2024-04-25T08:16:49.822Z"
   },
   {
    "duration": 144,
    "start_time": "2024-04-25T08:16:49.957Z"
   },
   {
    "duration": 145,
    "start_time": "2024-04-25T08:16:50.102Z"
   },
   {
    "duration": 139,
    "start_time": "2024-04-25T08:16:50.248Z"
   },
   {
    "duration": 139,
    "start_time": "2024-04-25T08:16:50.388Z"
   },
   {
    "duration": 132,
    "start_time": "2024-04-25T08:16:50.528Z"
   },
   {
    "duration": 136,
    "start_time": "2024-04-25T08:16:50.661Z"
   },
   {
    "duration": 135,
    "start_time": "2024-04-25T08:16:50.799Z"
   },
   {
    "duration": 8,
    "start_time": "2024-04-25T08:16:50.936Z"
   },
   {
    "duration": 146,
    "start_time": "2024-04-25T08:16:50.945Z"
   },
   {
    "duration": 9,
    "start_time": "2024-04-25T08:16:51.093Z"
   },
   {
    "duration": 139,
    "start_time": "2024-04-25T08:16:51.103Z"
   },
   {
    "duration": 226,
    "start_time": "2024-04-25T08:16:51.245Z"
   },
   {
    "duration": 180,
    "start_time": "2024-04-25T08:16:51.473Z"
   },
   {
    "duration": 5,
    "start_time": "2024-04-25T08:16:51.654Z"
   },
   {
    "duration": 203,
    "start_time": "2024-04-25T08:16:51.661Z"
   },
   {
    "duration": 5,
    "start_time": "2024-04-25T08:16:51.865Z"
   },
   {
    "duration": 176,
    "start_time": "2024-04-25T08:16:51.871Z"
   },
   {
    "duration": 5,
    "start_time": "2024-04-25T08:16:52.048Z"
   },
   {
    "duration": 182,
    "start_time": "2024-04-25T08:16:52.055Z"
   },
   {
    "duration": 143,
    "start_time": "2024-04-25T08:16:52.239Z"
   },
   {
    "duration": 123,
    "start_time": "2024-04-25T08:16:52.383Z"
   },
   {
    "duration": 161,
    "start_time": "2024-04-25T08:16:52.507Z"
   },
   {
    "duration": 173,
    "start_time": "2024-04-25T08:16:52.670Z"
   },
   {
    "duration": 129,
    "start_time": "2024-04-25T08:16:52.844Z"
   },
   {
    "duration": 21,
    "start_time": "2024-04-25T08:16:52.974Z"
   },
   {
    "duration": 185,
    "start_time": "2024-04-25T08:16:52.996Z"
   },
   {
    "duration": 4,
    "start_time": "2024-04-25T08:16:53.183Z"
   },
   {
    "duration": 14,
    "start_time": "2024-04-25T08:16:53.188Z"
   },
   {
    "duration": 21,
    "start_time": "2024-04-25T08:16:53.203Z"
   },
   {
    "duration": 287,
    "start_time": "2024-04-25T08:16:53.226Z"
   },
   {
    "duration": 3,
    "start_time": "2024-04-25T08:45:08.359Z"
   },
   {
    "duration": 4,
    "start_time": "2024-04-25T08:46:28.594Z"
   },
   {
    "duration": 57,
    "start_time": "2024-04-25T08:47:09.282Z"
   },
   {
    "duration": 4,
    "start_time": "2024-04-25T08:48:37.948Z"
   },
   {
    "duration": 3,
    "start_time": "2024-04-25T08:49:08.075Z"
   },
   {
    "duration": 4,
    "start_time": "2024-04-25T08:49:21.562Z"
   },
   {
    "duration": 44,
    "start_time": "2024-04-25T08:51:12.914Z"
   },
   {
    "duration": 4,
    "start_time": "2024-04-25T08:54:51.055Z"
   },
   {
    "duration": 63,
    "start_time": "2024-04-25T09:00:48.274Z"
   },
   {
    "duration": 5,
    "start_time": "2024-04-25T09:02:25.021Z"
   },
   {
    "duration": 125,
    "start_time": "2024-04-25T09:05:37.936Z"
   },
   {
    "duration": 107,
    "start_time": "2024-04-25T09:52:32.786Z"
   },
   {
    "duration": 46,
    "start_time": "2024-04-25T09:52:32.894Z"
   },
   {
    "duration": 2190,
    "start_time": "2024-04-25T09:52:32.942Z"
   },
   {
    "duration": 10,
    "start_time": "2024-04-25T09:52:35.133Z"
   },
   {
    "duration": 19,
    "start_time": "2024-04-25T09:52:35.144Z"
   },
   {
    "duration": 49,
    "start_time": "2024-04-25T09:52:35.164Z"
   },
   {
    "duration": 25,
    "start_time": "2024-04-25T09:52:35.214Z"
   },
   {
    "duration": 12,
    "start_time": "2024-04-25T09:52:35.240Z"
   },
   {
    "duration": 63,
    "start_time": "2024-04-25T09:52:35.253Z"
   },
   {
    "duration": 8,
    "start_time": "2024-04-25T09:52:35.318Z"
   },
   {
    "duration": 17,
    "start_time": "2024-04-25T09:52:35.327Z"
   },
   {
    "duration": 9,
    "start_time": "2024-04-25T09:52:35.345Z"
   },
   {
    "duration": 11,
    "start_time": "2024-04-25T09:52:35.355Z"
   },
   {
    "duration": 4,
    "start_time": "2024-04-25T09:52:35.368Z"
   },
   {
    "duration": 13,
    "start_time": "2024-04-25T09:52:35.373Z"
   },
   {
    "duration": 12,
    "start_time": "2024-04-25T09:52:35.388Z"
   },
   {
    "duration": 19,
    "start_time": "2024-04-25T09:52:35.402Z"
   },
   {
    "duration": 33,
    "start_time": "2024-04-25T09:52:35.423Z"
   },
   {
    "duration": 17,
    "start_time": "2024-04-25T09:52:35.458Z"
   },
   {
    "duration": 485,
    "start_time": "2024-04-25T09:52:35.477Z"
   },
   {
    "duration": 24,
    "start_time": "2024-04-25T09:52:35.963Z"
   },
   {
    "duration": 154,
    "start_time": "2024-04-25T09:52:35.989Z"
   },
   {
    "duration": 121,
    "start_time": "2024-04-25T09:52:36.145Z"
   },
   {
    "duration": 141,
    "start_time": "2024-04-25T09:52:36.268Z"
   },
   {
    "duration": 15,
    "start_time": "2024-04-25T09:52:36.410Z"
   },
   {
    "duration": 23,
    "start_time": "2024-04-25T09:52:36.426Z"
   },
   {
    "duration": 121,
    "start_time": "2024-04-25T09:52:36.451Z"
   },
   {
    "duration": 9,
    "start_time": "2024-04-25T09:52:36.575Z"
   },
   {
    "duration": 24,
    "start_time": "2024-04-25T09:52:36.585Z"
   },
   {
    "duration": 148,
    "start_time": "2024-04-25T09:52:36.610Z"
   },
   {
    "duration": 134,
    "start_time": "2024-04-25T09:52:36.759Z"
   },
   {
    "duration": 138,
    "start_time": "2024-04-25T09:52:36.894Z"
   },
   {
    "duration": 127,
    "start_time": "2024-04-25T09:52:37.033Z"
   },
   {
    "duration": 136,
    "start_time": "2024-04-25T09:52:37.161Z"
   },
   {
    "duration": 138,
    "start_time": "2024-04-25T09:52:37.299Z"
   },
   {
    "duration": 140,
    "start_time": "2024-04-25T09:52:37.438Z"
   },
   {
    "duration": 125,
    "start_time": "2024-04-25T09:52:37.580Z"
   },
   {
    "duration": 14,
    "start_time": "2024-04-25T09:52:37.707Z"
   },
   {
    "duration": 145,
    "start_time": "2024-04-25T09:52:37.722Z"
   },
   {
    "duration": 9,
    "start_time": "2024-04-25T09:52:37.869Z"
   },
   {
    "duration": 133,
    "start_time": "2024-04-25T09:52:37.879Z"
   },
   {
    "duration": 145,
    "start_time": "2024-04-25T09:52:38.014Z"
   },
   {
    "duration": 162,
    "start_time": "2024-04-25T09:52:38.161Z"
   },
   {
    "duration": 5,
    "start_time": "2024-04-25T09:52:38.325Z"
   },
   {
    "duration": 184,
    "start_time": "2024-04-25T09:52:38.332Z"
   },
   {
    "duration": 5,
    "start_time": "2024-04-25T09:52:38.520Z"
   },
   {
    "duration": 171,
    "start_time": "2024-04-25T09:52:38.527Z"
   },
   {
    "duration": 5,
    "start_time": "2024-04-25T09:52:38.701Z"
   },
   {
    "duration": 179,
    "start_time": "2024-04-25T09:52:38.719Z"
   },
   {
    "duration": 146,
    "start_time": "2024-04-25T09:52:38.899Z"
   },
   {
    "duration": 130,
    "start_time": "2024-04-25T09:52:39.047Z"
   },
   {
    "duration": 174,
    "start_time": "2024-04-25T09:52:39.179Z"
   },
   {
    "duration": 301,
    "start_time": "2024-04-25T09:52:39.355Z"
   },
   {
    "duration": 123,
    "start_time": "2024-04-25T09:52:39.657Z"
   },
   {
    "duration": 125,
    "start_time": "2024-04-25T09:52:39.781Z"
   },
   {
    "duration": 13,
    "start_time": "2024-04-25T09:52:39.908Z"
   },
   {
    "duration": 27,
    "start_time": "2024-04-25T09:52:39.922Z"
   },
   {
    "duration": 198,
    "start_time": "2024-04-25T09:52:39.951Z"
   },
   {
    "duration": 22,
    "start_time": "2024-04-25T09:52:40.151Z"
   },
   {
    "duration": 185,
    "start_time": "2024-04-25T09:52:40.175Z"
   },
   {
    "duration": 5,
    "start_time": "2024-04-25T09:52:40.363Z"
   },
   {
    "duration": 11,
    "start_time": "2024-04-25T09:52:40.370Z"
   },
   {
    "duration": 7,
    "start_time": "2024-04-25T09:52:40.383Z"
   },
   {
    "duration": 293,
    "start_time": "2024-04-25T09:52:40.392Z"
   },
   {
    "duration": 48,
    "start_time": "2024-04-25T09:54:50.199Z"
   },
   {
    "duration": 85,
    "start_time": "2024-04-25T09:58:37.736Z"
   },
   {
    "duration": 10,
    "start_time": "2024-04-25T09:58:49.210Z"
   },
   {
    "duration": 253,
    "start_time": "2024-04-25T10:18:16.348Z"
   },
   {
    "duration": 478,
    "start_time": "2024-04-25T10:20:08.931Z"
   },
   {
    "duration": 11,
    "start_time": "2024-04-25T10:21:45.976Z"
   },
   {
    "duration": 217,
    "start_time": "2024-04-25T10:22:46.488Z"
   },
   {
    "duration": 195,
    "start_time": "2024-04-25T10:22:54.957Z"
   },
   {
    "duration": 201,
    "start_time": "2024-04-25T10:23:04.359Z"
   },
   {
    "duration": 198,
    "start_time": "2024-04-25T10:23:23.077Z"
   },
   {
    "duration": 124,
    "start_time": "2024-04-25T10:26:03.875Z"
   },
   {
    "duration": 110,
    "start_time": "2024-04-25T10:49:28.632Z"
   },
   {
    "duration": 27,
    "start_time": "2024-04-25T10:49:28.744Z"
   },
   {
    "duration": 2224,
    "start_time": "2024-04-25T10:49:28.773Z"
   },
   {
    "duration": 10,
    "start_time": "2024-04-25T10:49:30.998Z"
   },
   {
    "duration": 41,
    "start_time": "2024-04-25T10:49:31.010Z"
   },
   {
    "duration": 43,
    "start_time": "2024-04-25T10:49:31.053Z"
   },
   {
    "duration": 109,
    "start_time": "2024-04-25T10:49:31.098Z"
   },
   {
    "duration": 105,
    "start_time": "2024-04-25T10:49:31.209Z"
   },
   {
    "duration": 151,
    "start_time": "2024-04-25T10:49:31.316Z"
   },
   {
    "duration": 8,
    "start_time": "2024-04-25T10:49:31.468Z"
   },
   {
    "duration": 31,
    "start_time": "2024-04-25T10:49:31.478Z"
   },
   {
    "duration": 34,
    "start_time": "2024-04-25T10:49:31.511Z"
   },
   {
    "duration": 48,
    "start_time": "2024-04-25T10:49:31.547Z"
   },
   {
    "duration": 9,
    "start_time": "2024-04-25T10:49:31.598Z"
   },
   {
    "duration": 34,
    "start_time": "2024-04-25T10:49:31.608Z"
   },
   {
    "duration": 30,
    "start_time": "2024-04-25T10:49:31.643Z"
   },
   {
    "duration": 24,
    "start_time": "2024-04-25T10:49:31.675Z"
   },
   {
    "duration": 34,
    "start_time": "2024-04-25T10:49:31.701Z"
   },
   {
    "duration": 5,
    "start_time": "2024-04-25T10:49:31.736Z"
   },
   {
    "duration": 379,
    "start_time": "2024-04-25T10:49:31.743Z"
   },
   {
    "duration": 30,
    "start_time": "2024-04-25T10:49:32.124Z"
   },
   {
    "duration": 162,
    "start_time": "2024-04-25T10:49:32.156Z"
   },
   {
    "duration": 145,
    "start_time": "2024-04-25T10:49:32.320Z"
   },
   {
    "duration": 144,
    "start_time": "2024-04-25T10:49:32.467Z"
   },
   {
    "duration": 16,
    "start_time": "2024-04-25T10:49:32.613Z"
   },
   {
    "duration": 17,
    "start_time": "2024-04-25T10:49:32.631Z"
   },
   {
    "duration": 138,
    "start_time": "2024-04-25T10:49:32.650Z"
   },
   {
    "duration": 9,
    "start_time": "2024-04-25T10:49:32.790Z"
   },
   {
    "duration": 4,
    "start_time": "2024-04-25T10:49:32.800Z"
   },
   {
    "duration": 145,
    "start_time": "2024-04-25T10:49:32.805Z"
   },
   {
    "duration": 146,
    "start_time": "2024-04-25T10:49:32.952Z"
   },
   {
    "duration": 136,
    "start_time": "2024-04-25T10:49:33.100Z"
   },
   {
    "duration": 126,
    "start_time": "2024-04-25T10:49:33.237Z"
   },
   {
    "duration": 155,
    "start_time": "2024-04-25T10:49:33.365Z"
   },
   {
    "duration": 181,
    "start_time": "2024-04-25T10:49:33.522Z"
   },
   {
    "duration": 158,
    "start_time": "2024-04-25T10:49:33.705Z"
   },
   {
    "duration": 326,
    "start_time": "2024-04-25T10:49:33.865Z"
   },
   {
    "duration": 10,
    "start_time": "2024-04-25T10:49:34.192Z"
   },
   {
    "duration": 139,
    "start_time": "2024-04-25T10:49:34.203Z"
   },
   {
    "duration": 10,
    "start_time": "2024-04-25T10:49:34.344Z"
   },
   {
    "duration": 139,
    "start_time": "2024-04-25T10:49:34.358Z"
   },
   {
    "duration": 151,
    "start_time": "2024-04-25T10:49:34.498Z"
   },
   {
    "duration": 175,
    "start_time": "2024-04-25T10:49:34.651Z"
   },
   {
    "duration": 5,
    "start_time": "2024-04-25T10:49:34.827Z"
   },
   {
    "duration": 197,
    "start_time": "2024-04-25T10:49:34.834Z"
   },
   {
    "duration": 6,
    "start_time": "2024-04-25T10:49:35.032Z"
   },
   {
    "duration": 181,
    "start_time": "2024-04-25T10:49:35.039Z"
   },
   {
    "duration": 5,
    "start_time": "2024-04-25T10:49:35.222Z"
   },
   {
    "duration": 179,
    "start_time": "2024-04-25T10:49:35.228Z"
   },
   {
    "duration": 146,
    "start_time": "2024-04-25T10:49:35.409Z"
   },
   {
    "duration": 124,
    "start_time": "2024-04-25T10:49:35.557Z"
   },
   {
    "duration": 156,
    "start_time": "2024-04-25T10:49:35.683Z"
   },
   {
    "duration": 187,
    "start_time": "2024-04-25T10:49:35.841Z"
   },
   {
    "duration": 138,
    "start_time": "2024-04-25T10:49:36.030Z"
   },
   {
    "duration": 133,
    "start_time": "2024-04-25T10:49:36.170Z"
   },
   {
    "duration": 29,
    "start_time": "2024-04-25T10:49:36.305Z"
   },
   {
    "duration": 187,
    "start_time": "2024-04-25T10:49:36.336Z"
   },
   {
    "duration": 5,
    "start_time": "2024-04-25T10:49:36.525Z"
   },
   {
    "duration": 10,
    "start_time": "2024-04-25T10:49:36.531Z"
   },
   {
    "duration": 8,
    "start_time": "2024-04-25T10:49:36.542Z"
   },
   {
    "duration": 295,
    "start_time": "2024-04-25T10:49:36.551Z"
   }
  ],
  "colab": {
   "provenance": []
  },
  "kernelspec": {
   "display_name": "Python 3 (ipykernel)",
   "language": "python",
   "name": "python3"
  },
  "language_info": {
   "codemirror_mode": {
    "name": "ipython",
    "version": 3
   },
   "file_extension": ".py",
   "mimetype": "text/x-python",
   "name": "python",
   "nbconvert_exporter": "python",
   "pygments_lexer": "ipython3",
   "version": "3.11.8"
  },
  "toc": {
   "base_numbering": 1,
   "nav_menu": {},
   "number_sections": true,
   "sideBar": true,
   "skip_h1_title": true,
   "title_cell": "Table of Contents",
   "title_sidebar": "Contents",
   "toc_cell": false,
   "toc_position": {
    "height": "calc(100% - 180px)",
    "left": "10px",
    "top": "150px",
    "width": "342px"
   },
   "toc_section_display": true,
   "toc_window_display": true
  }
 },
 "nbformat": 4,
 "nbformat_minor": 1
}
