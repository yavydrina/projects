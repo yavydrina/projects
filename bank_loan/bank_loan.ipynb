{
 "cells": [
  {
   "cell_type": "markdown",
   "id": "386f2ae7",
   "metadata": {
    "deletable": false,
    "editable": false,
    "id": "386f2ae7"
   },
   "source": [
    "# Исследование надежности заемщиков\n"
   ]
  },
  {
   "cell_type": "markdown",
   "id": "ffe86f65",
   "metadata": {
    "deletable": false,
    "editable": false,
    "id": "ffe86f65"
   },
   "source": [
    "Во второй части проекта вы выполните шаги 3 и 4. Их вручную проверит ревьюер.\n",
    "Чтобы вам не пришлось писать код заново для шагов 1 и 2, мы добавили авторские решения в ячейки с кодом. \n",
    "\n"
   ]
  },
  {
   "cell_type": "markdown",
   "id": "26613308",
   "metadata": {
    "deletable": false,
    "editable": false,
    "id": "26613308"
   },
   "source": [
    "## Откройте таблицу и изучите общую информацию о данных"
   ]
  },
  {
   "cell_type": "markdown",
   "id": "3c9f838e",
   "metadata": {
    "deletable": false,
    "editable": false,
    "id": "3c9f838e"
   },
   "source": [
    "**Задание 1. Импортируйте библиотеку pandas. Считайте данные из csv-файла в датафрейм и сохраните в переменную `data`. Путь к файлу:**\n",
    "\n",
    "`/datasets/data.csv`"
   ]
  },
  {
   "cell_type": "code",
   "execution_count": 1,
   "id": "77a68a90",
   "metadata": {
    "deletable": false,
    "id": "77a68a90"
   },
   "outputs": [],
   "source": [
    "import pandas as pd\n",
    "\n",
    "try:\n",
    "    data = pd.read_csv('/datasets/data.csv')\n",
    "except:\n",
    "    data = pd.read_csv('https://code.s3.yandex.net/datasets/data.csv')"
   ]
  },
  {
   "cell_type": "markdown",
   "id": "45365635",
   "metadata": {
    "deletable": false,
    "editable": false,
    "id": "45365635"
   },
   "source": [
    "**Задание 2. Выведите первые 20 строчек датафрейма `data` на экран.**"
   ]
  },
  {
   "cell_type": "code",
   "execution_count": 2,
   "id": "b0451a9a",
   "metadata": {
    "deletable": false,
    "id": "b0451a9a",
    "outputId": "1a8f3ef2-d323-4ec2-ddf7-89670b5944c4"
   },
   "outputs": [
    {
     "data": {
      "text/html": [
       "<div>\n",
       "<style scoped>\n",
       "    .dataframe tbody tr th:only-of-type {\n",
       "        vertical-align: middle;\n",
       "    }\n",
       "\n",
       "    .dataframe tbody tr th {\n",
       "        vertical-align: top;\n",
       "    }\n",
       "\n",
       "    .dataframe thead th {\n",
       "        text-align: right;\n",
       "    }\n",
       "</style>\n",
       "<table border=\"1\" class=\"dataframe\">\n",
       "  <thead>\n",
       "    <tr style=\"text-align: right;\">\n",
       "      <th></th>\n",
       "      <th>children</th>\n",
       "      <th>days_employed</th>\n",
       "      <th>dob_years</th>\n",
       "      <th>education</th>\n",
       "      <th>education_id</th>\n",
       "      <th>family_status</th>\n",
       "      <th>family_status_id</th>\n",
       "      <th>gender</th>\n",
       "      <th>income_type</th>\n",
       "      <th>debt</th>\n",
       "      <th>total_income</th>\n",
       "      <th>purpose</th>\n",
       "    </tr>\n",
       "  </thead>\n",
       "  <tbody>\n",
       "    <tr>\n",
       "      <th>0</th>\n",
       "      <td>1</td>\n",
       "      <td>-8437.673028</td>\n",
       "      <td>42</td>\n",
       "      <td>высшее</td>\n",
       "      <td>0</td>\n",
       "      <td>женат / замужем</td>\n",
       "      <td>0</td>\n",
       "      <td>F</td>\n",
       "      <td>сотрудник</td>\n",
       "      <td>0</td>\n",
       "      <td>253875.639453</td>\n",
       "      <td>покупка жилья</td>\n",
       "    </tr>\n",
       "    <tr>\n",
       "      <th>1</th>\n",
       "      <td>1</td>\n",
       "      <td>-4024.803754</td>\n",
       "      <td>36</td>\n",
       "      <td>среднее</td>\n",
       "      <td>1</td>\n",
       "      <td>женат / замужем</td>\n",
       "      <td>0</td>\n",
       "      <td>F</td>\n",
       "      <td>сотрудник</td>\n",
       "      <td>0</td>\n",
       "      <td>112080.014102</td>\n",
       "      <td>приобретение автомобиля</td>\n",
       "    </tr>\n",
       "    <tr>\n",
       "      <th>2</th>\n",
       "      <td>0</td>\n",
       "      <td>-5623.422610</td>\n",
       "      <td>33</td>\n",
       "      <td>Среднее</td>\n",
       "      <td>1</td>\n",
       "      <td>женат / замужем</td>\n",
       "      <td>0</td>\n",
       "      <td>M</td>\n",
       "      <td>сотрудник</td>\n",
       "      <td>0</td>\n",
       "      <td>145885.952297</td>\n",
       "      <td>покупка жилья</td>\n",
       "    </tr>\n",
       "    <tr>\n",
       "      <th>3</th>\n",
       "      <td>3</td>\n",
       "      <td>-4124.747207</td>\n",
       "      <td>32</td>\n",
       "      <td>среднее</td>\n",
       "      <td>1</td>\n",
       "      <td>женат / замужем</td>\n",
       "      <td>0</td>\n",
       "      <td>M</td>\n",
       "      <td>сотрудник</td>\n",
       "      <td>0</td>\n",
       "      <td>267628.550329</td>\n",
       "      <td>дополнительное образование</td>\n",
       "    </tr>\n",
       "    <tr>\n",
       "      <th>4</th>\n",
       "      <td>0</td>\n",
       "      <td>340266.072047</td>\n",
       "      <td>53</td>\n",
       "      <td>среднее</td>\n",
       "      <td>1</td>\n",
       "      <td>гражданский брак</td>\n",
       "      <td>1</td>\n",
       "      <td>F</td>\n",
       "      <td>пенсионер</td>\n",
       "      <td>0</td>\n",
       "      <td>158616.077870</td>\n",
       "      <td>сыграть свадьбу</td>\n",
       "    </tr>\n",
       "    <tr>\n",
       "      <th>5</th>\n",
       "      <td>0</td>\n",
       "      <td>-926.185831</td>\n",
       "      <td>27</td>\n",
       "      <td>высшее</td>\n",
       "      <td>0</td>\n",
       "      <td>гражданский брак</td>\n",
       "      <td>1</td>\n",
       "      <td>M</td>\n",
       "      <td>компаньон</td>\n",
       "      <td>0</td>\n",
       "      <td>255763.565419</td>\n",
       "      <td>покупка жилья</td>\n",
       "    </tr>\n",
       "    <tr>\n",
       "      <th>6</th>\n",
       "      <td>0</td>\n",
       "      <td>-2879.202052</td>\n",
       "      <td>43</td>\n",
       "      <td>высшее</td>\n",
       "      <td>0</td>\n",
       "      <td>женат / замужем</td>\n",
       "      <td>0</td>\n",
       "      <td>F</td>\n",
       "      <td>компаньон</td>\n",
       "      <td>0</td>\n",
       "      <td>240525.971920</td>\n",
       "      <td>операции с жильем</td>\n",
       "    </tr>\n",
       "    <tr>\n",
       "      <th>7</th>\n",
       "      <td>0</td>\n",
       "      <td>-152.779569</td>\n",
       "      <td>50</td>\n",
       "      <td>СРЕДНЕЕ</td>\n",
       "      <td>1</td>\n",
       "      <td>женат / замужем</td>\n",
       "      <td>0</td>\n",
       "      <td>M</td>\n",
       "      <td>сотрудник</td>\n",
       "      <td>0</td>\n",
       "      <td>135823.934197</td>\n",
       "      <td>образование</td>\n",
       "    </tr>\n",
       "    <tr>\n",
       "      <th>8</th>\n",
       "      <td>2</td>\n",
       "      <td>-6929.865299</td>\n",
       "      <td>35</td>\n",
       "      <td>ВЫСШЕЕ</td>\n",
       "      <td>0</td>\n",
       "      <td>гражданский брак</td>\n",
       "      <td>1</td>\n",
       "      <td>F</td>\n",
       "      <td>сотрудник</td>\n",
       "      <td>0</td>\n",
       "      <td>95856.832424</td>\n",
       "      <td>на проведение свадьбы</td>\n",
       "    </tr>\n",
       "    <tr>\n",
       "      <th>9</th>\n",
       "      <td>0</td>\n",
       "      <td>-2188.756445</td>\n",
       "      <td>41</td>\n",
       "      <td>среднее</td>\n",
       "      <td>1</td>\n",
       "      <td>женат / замужем</td>\n",
       "      <td>0</td>\n",
       "      <td>M</td>\n",
       "      <td>сотрудник</td>\n",
       "      <td>0</td>\n",
       "      <td>144425.938277</td>\n",
       "      <td>покупка жилья для семьи</td>\n",
       "    </tr>\n",
       "    <tr>\n",
       "      <th>10</th>\n",
       "      <td>2</td>\n",
       "      <td>-4171.483647</td>\n",
       "      <td>36</td>\n",
       "      <td>высшее</td>\n",
       "      <td>0</td>\n",
       "      <td>женат / замужем</td>\n",
       "      <td>0</td>\n",
       "      <td>M</td>\n",
       "      <td>компаньон</td>\n",
       "      <td>0</td>\n",
       "      <td>113943.491460</td>\n",
       "      <td>покупка недвижимости</td>\n",
       "    </tr>\n",
       "    <tr>\n",
       "      <th>11</th>\n",
       "      <td>0</td>\n",
       "      <td>-792.701887</td>\n",
       "      <td>40</td>\n",
       "      <td>среднее</td>\n",
       "      <td>1</td>\n",
       "      <td>женат / замужем</td>\n",
       "      <td>0</td>\n",
       "      <td>F</td>\n",
       "      <td>сотрудник</td>\n",
       "      <td>0</td>\n",
       "      <td>77069.234271</td>\n",
       "      <td>покупка коммерческой недвижимости</td>\n",
       "    </tr>\n",
       "    <tr>\n",
       "      <th>12</th>\n",
       "      <td>0</td>\n",
       "      <td>NaN</td>\n",
       "      <td>65</td>\n",
       "      <td>среднее</td>\n",
       "      <td>1</td>\n",
       "      <td>гражданский брак</td>\n",
       "      <td>1</td>\n",
       "      <td>M</td>\n",
       "      <td>пенсионер</td>\n",
       "      <td>0</td>\n",
       "      <td>NaN</td>\n",
       "      <td>сыграть свадьбу</td>\n",
       "    </tr>\n",
       "    <tr>\n",
       "      <th>13</th>\n",
       "      <td>0</td>\n",
       "      <td>-1846.641941</td>\n",
       "      <td>54</td>\n",
       "      <td>неоконченное высшее</td>\n",
       "      <td>2</td>\n",
       "      <td>женат / замужем</td>\n",
       "      <td>0</td>\n",
       "      <td>F</td>\n",
       "      <td>сотрудник</td>\n",
       "      <td>0</td>\n",
       "      <td>130458.228857</td>\n",
       "      <td>приобретение автомобиля</td>\n",
       "    </tr>\n",
       "    <tr>\n",
       "      <th>14</th>\n",
       "      <td>0</td>\n",
       "      <td>-1844.956182</td>\n",
       "      <td>56</td>\n",
       "      <td>высшее</td>\n",
       "      <td>0</td>\n",
       "      <td>гражданский брак</td>\n",
       "      <td>1</td>\n",
       "      <td>F</td>\n",
       "      <td>компаньон</td>\n",
       "      <td>1</td>\n",
       "      <td>165127.911772</td>\n",
       "      <td>покупка жилой недвижимости</td>\n",
       "    </tr>\n",
       "    <tr>\n",
       "      <th>15</th>\n",
       "      <td>1</td>\n",
       "      <td>-972.364419</td>\n",
       "      <td>26</td>\n",
       "      <td>среднее</td>\n",
       "      <td>1</td>\n",
       "      <td>женат / замужем</td>\n",
       "      <td>0</td>\n",
       "      <td>F</td>\n",
       "      <td>сотрудник</td>\n",
       "      <td>0</td>\n",
       "      <td>116820.904450</td>\n",
       "      <td>строительство собственной недвижимости</td>\n",
       "    </tr>\n",
       "    <tr>\n",
       "      <th>16</th>\n",
       "      <td>0</td>\n",
       "      <td>-1719.934226</td>\n",
       "      <td>35</td>\n",
       "      <td>среднее</td>\n",
       "      <td>1</td>\n",
       "      <td>женат / замужем</td>\n",
       "      <td>0</td>\n",
       "      <td>F</td>\n",
       "      <td>сотрудник</td>\n",
       "      <td>0</td>\n",
       "      <td>289202.704229</td>\n",
       "      <td>недвижимость</td>\n",
       "    </tr>\n",
       "    <tr>\n",
       "      <th>17</th>\n",
       "      <td>0</td>\n",
       "      <td>-2369.999720</td>\n",
       "      <td>33</td>\n",
       "      <td>высшее</td>\n",
       "      <td>0</td>\n",
       "      <td>гражданский брак</td>\n",
       "      <td>1</td>\n",
       "      <td>M</td>\n",
       "      <td>сотрудник</td>\n",
       "      <td>0</td>\n",
       "      <td>90410.586745</td>\n",
       "      <td>строительство недвижимости</td>\n",
       "    </tr>\n",
       "    <tr>\n",
       "      <th>18</th>\n",
       "      <td>0</td>\n",
       "      <td>400281.136913</td>\n",
       "      <td>53</td>\n",
       "      <td>среднее</td>\n",
       "      <td>1</td>\n",
       "      <td>вдовец / вдова</td>\n",
       "      <td>2</td>\n",
       "      <td>F</td>\n",
       "      <td>пенсионер</td>\n",
       "      <td>0</td>\n",
       "      <td>56823.777243</td>\n",
       "      <td>на покупку подержанного автомобиля</td>\n",
       "    </tr>\n",
       "    <tr>\n",
       "      <th>19</th>\n",
       "      <td>0</td>\n",
       "      <td>-10038.818549</td>\n",
       "      <td>48</td>\n",
       "      <td>СРЕДНЕЕ</td>\n",
       "      <td>1</td>\n",
       "      <td>в разводе</td>\n",
       "      <td>3</td>\n",
       "      <td>F</td>\n",
       "      <td>сотрудник</td>\n",
       "      <td>0</td>\n",
       "      <td>242831.107982</td>\n",
       "      <td>на покупку своего автомобиля</td>\n",
       "    </tr>\n",
       "  </tbody>\n",
       "</table>\n",
       "</div>"
      ],
      "text/plain": [
       "    children  days_employed  dob_years            education  education_id  \\\n",
       "0          1   -8437.673028         42               высшее             0   \n",
       "1          1   -4024.803754         36              среднее             1   \n",
       "2          0   -5623.422610         33              Среднее             1   \n",
       "3          3   -4124.747207         32              среднее             1   \n",
       "4          0  340266.072047         53              среднее             1   \n",
       "5          0    -926.185831         27               высшее             0   \n",
       "6          0   -2879.202052         43               высшее             0   \n",
       "7          0    -152.779569         50              СРЕДНЕЕ             1   \n",
       "8          2   -6929.865299         35               ВЫСШЕЕ             0   \n",
       "9          0   -2188.756445         41              среднее             1   \n",
       "10         2   -4171.483647         36               высшее             0   \n",
       "11         0    -792.701887         40              среднее             1   \n",
       "12         0            NaN         65              среднее             1   \n",
       "13         0   -1846.641941         54  неоконченное высшее             2   \n",
       "14         0   -1844.956182         56               высшее             0   \n",
       "15         1    -972.364419         26              среднее             1   \n",
       "16         0   -1719.934226         35              среднее             1   \n",
       "17         0   -2369.999720         33               высшее             0   \n",
       "18         0  400281.136913         53              среднее             1   \n",
       "19         0  -10038.818549         48              СРЕДНЕЕ             1   \n",
       "\n",
       "       family_status  family_status_id gender income_type  debt  \\\n",
       "0    женат / замужем                 0      F   сотрудник     0   \n",
       "1    женат / замужем                 0      F   сотрудник     0   \n",
       "2    женат / замужем                 0      M   сотрудник     0   \n",
       "3    женат / замужем                 0      M   сотрудник     0   \n",
       "4   гражданский брак                 1      F   пенсионер     0   \n",
       "5   гражданский брак                 1      M   компаньон     0   \n",
       "6    женат / замужем                 0      F   компаньон     0   \n",
       "7    женат / замужем                 0      M   сотрудник     0   \n",
       "8   гражданский брак                 1      F   сотрудник     0   \n",
       "9    женат / замужем                 0      M   сотрудник     0   \n",
       "10   женат / замужем                 0      M   компаньон     0   \n",
       "11   женат / замужем                 0      F   сотрудник     0   \n",
       "12  гражданский брак                 1      M   пенсионер     0   \n",
       "13   женат / замужем                 0      F   сотрудник     0   \n",
       "14  гражданский брак                 1      F   компаньон     1   \n",
       "15   женат / замужем                 0      F   сотрудник     0   \n",
       "16   женат / замужем                 0      F   сотрудник     0   \n",
       "17  гражданский брак                 1      M   сотрудник     0   \n",
       "18    вдовец / вдова                 2      F   пенсионер     0   \n",
       "19         в разводе                 3      F   сотрудник     0   \n",
       "\n",
       "     total_income                                 purpose  \n",
       "0   253875.639453                           покупка жилья  \n",
       "1   112080.014102                 приобретение автомобиля  \n",
       "2   145885.952297                           покупка жилья  \n",
       "3   267628.550329              дополнительное образование  \n",
       "4   158616.077870                         сыграть свадьбу  \n",
       "5   255763.565419                           покупка жилья  \n",
       "6   240525.971920                       операции с жильем  \n",
       "7   135823.934197                             образование  \n",
       "8    95856.832424                   на проведение свадьбы  \n",
       "9   144425.938277                 покупка жилья для семьи  \n",
       "10  113943.491460                    покупка недвижимости  \n",
       "11   77069.234271       покупка коммерческой недвижимости  \n",
       "12            NaN                         сыграть свадьбу  \n",
       "13  130458.228857                 приобретение автомобиля  \n",
       "14  165127.911772              покупка жилой недвижимости  \n",
       "15  116820.904450  строительство собственной недвижимости  \n",
       "16  289202.704229                            недвижимость  \n",
       "17   90410.586745              строительство недвижимости  \n",
       "18   56823.777243      на покупку подержанного автомобиля  \n",
       "19  242831.107982            на покупку своего автомобиля  "
      ]
     },
     "execution_count": 2,
     "metadata": {},
     "output_type": "execute_result"
    }
   ],
   "source": [
    "data.head(20)"
   ]
  },
  {
   "cell_type": "markdown",
   "id": "0ed8f27f",
   "metadata": {
    "deletable": false,
    "editable": false,
    "id": "0ed8f27f"
   },
   "source": [
    "**Задание 3. Выведите основную информацию о датафрейме с помощью метода `info()`.**"
   ]
  },
  {
   "cell_type": "code",
   "execution_count": 3,
   "id": "ab3f863b",
   "metadata": {
    "deletable": false,
    "id": "ab3f863b",
    "outputId": "15376089-8dad-46c9-b520-c05248d43158"
   },
   "outputs": [
    {
     "name": "stdout",
     "output_type": "stream",
     "text": [
      "<class 'pandas.core.frame.DataFrame'>\n",
      "RangeIndex: 21525 entries, 0 to 21524\n",
      "Data columns (total 12 columns):\n",
      " #   Column            Non-Null Count  Dtype  \n",
      "---  ------            --------------  -----  \n",
      " 0   children          21525 non-null  int64  \n",
      " 1   days_employed     19351 non-null  float64\n",
      " 2   dob_years         21525 non-null  int64  \n",
      " 3   education         21525 non-null  object \n",
      " 4   education_id      21525 non-null  int64  \n",
      " 5   family_status     21525 non-null  object \n",
      " 6   family_status_id  21525 non-null  int64  \n",
      " 7   gender            21525 non-null  object \n",
      " 8   income_type       21525 non-null  object \n",
      " 9   debt              21525 non-null  int64  \n",
      " 10  total_income      19351 non-null  float64\n",
      " 11  purpose           21525 non-null  object \n",
      "dtypes: float64(2), int64(5), object(5)\n",
      "memory usage: 2.0+ MB\n"
     ]
    }
   ],
   "source": [
    "data.info()"
   ]
  },
  {
   "cell_type": "markdown",
   "id": "60e3e22d",
   "metadata": {
    "deletable": false,
    "editable": false,
    "id": "60e3e22d"
   },
   "source": [
    "## Предобработка данных"
   ]
  },
  {
   "cell_type": "markdown",
   "id": "03dc170c",
   "metadata": {
    "deletable": false,
    "editable": false,
    "id": "03dc170c"
   },
   "source": [
    "### Удаление пропусков"
   ]
  },
  {
   "cell_type": "markdown",
   "id": "a4f54eef",
   "metadata": {
    "deletable": false,
    "editable": false,
    "id": "a4f54eef"
   },
   "source": [
    "**Задание 4. Выведите количество пропущенных значений для каждого столбца. Используйте комбинацию двух методов.**"
   ]
  },
  {
   "cell_type": "code",
   "execution_count": 4,
   "id": "2dc372b2",
   "metadata": {
    "deletable": false,
    "id": "2dc372b2",
    "outputId": "81f4d817-781c-465c-ed15-91ce4446810d"
   },
   "outputs": [
    {
     "data": {
      "text/plain": [
       "children               0\n",
       "days_employed       2174\n",
       "dob_years              0\n",
       "education              0\n",
       "education_id           0\n",
       "family_status          0\n",
       "family_status_id       0\n",
       "gender                 0\n",
       "income_type            0\n",
       "debt                   0\n",
       "total_income        2174\n",
       "purpose                0\n",
       "dtype: int64"
      ]
     },
     "execution_count": 4,
     "metadata": {},
     "output_type": "execute_result"
    }
   ],
   "source": [
    "data.isna().sum()"
   ]
  },
  {
   "cell_type": "markdown",
   "id": "14f011b1",
   "metadata": {
    "deletable": false,
    "editable": false,
    "id": "14f011b1"
   },
   "source": [
    "**Задание 5. В двух столбцах есть пропущенные значения. Один из них — `days_employed`. Пропуски в этом столбце вы обработаете на следующем этапе. Другой столбец с пропущенными значениями — `total_income` — хранит данные о доходах. На сумму дохода сильнее всего влияет тип занятости, поэтому заполнить пропуски в этом столбце нужно медианным значением по каждому типу из столбца `income_type`. Например, у человека с типом занятости `сотрудник` пропуск в столбце `total_income` должен быть заполнен медианным доходом среди всех записей с тем же типом.**"
   ]
  },
  {
   "cell_type": "code",
   "execution_count": 5,
   "id": "bdabfb6e",
   "metadata": {
    "deletable": false,
    "id": "bdabfb6e"
   },
   "outputs": [],
   "source": [
    "for t in data['income_type'].unique():\n",
    "    data.loc[(data['income_type'] == t) & (data['total_income'].isna()), 'total_income'] = \\\n",
    "    data.loc[(data['income_type'] == t), 'total_income'].median()"
   ]
  },
  {
   "cell_type": "markdown",
   "id": "5be34059",
   "metadata": {
    "deletable": false,
    "editable": false,
    "id": "5be34059"
   },
   "source": [
    "### Обработка аномальных значений"
   ]
  },
  {
   "cell_type": "markdown",
   "id": "a87606cb",
   "metadata": {
    "deletable": false,
    "editable": false,
    "id": "a87606cb"
   },
   "source": [
    "**Задание 6. В данных могут встречаться артефакты (аномалии) — значения, которые не отражают действительность и появились по какой-то ошибке. таким артефактом будет отрицательное количество дней трудового стажа в столбце `days_employed`. Для реальных данных это нормально. Обработайте значения в этом столбце: замените все отрицательные значения положительными с помощью метода `abs()`.**"
   ]
  },
  {
   "cell_type": "code",
   "execution_count": 6,
   "id": "020c46cc",
   "metadata": {
    "deletable": false,
    "id": "020c46cc"
   },
   "outputs": [],
   "source": [
    "data['days_employed'] = data['days_employed'].abs()"
   ]
  },
  {
   "cell_type": "markdown",
   "id": "45538a3a",
   "metadata": {
    "deletable": false,
    "editable": false,
    "id": "45538a3a"
   },
   "source": [
    "**Задание 7. Для каждого типа занятости выведите медианное значение трудового стажа `days_employed` в днях.**"
   ]
  },
  {
   "cell_type": "code",
   "execution_count": 7,
   "id": "cd3e6328",
   "metadata": {
    "deletable": false,
    "id": "cd3e6328",
    "outputId": "801ef80e-522b-4668-f34e-565af7432bcf"
   },
   "outputs": [
    {
     "data": {
      "text/plain": [
       "income_type\n",
       "безработный        366413.652744\n",
       "в декрете            3296.759962\n",
       "госслужащий          2689.368353\n",
       "компаньон            1547.382223\n",
       "пенсионер          365213.306266\n",
       "предприниматель       520.848083\n",
       "сотрудник            1574.202821\n",
       "студент               578.751554\n",
       "Name: days_employed, dtype: float64"
      ]
     },
     "execution_count": 7,
     "metadata": {},
     "output_type": "execute_result"
    }
   ],
   "source": [
    "data.groupby('income_type')['days_employed'].agg('median')"
   ]
  },
  {
   "cell_type": "markdown",
   "id": "90c5f058",
   "metadata": {
    "deletable": false,
    "editable": false,
    "id": "90c5f058"
   },
   "source": [
    "У двух типов (безработные и пенсионеры) получатся аномально большие значения. Исправить такие значения сложно, поэтому оставьте их как есть."
   ]
  },
  {
   "cell_type": "markdown",
   "id": "9652e50d",
   "metadata": {
    "deletable": false,
    "editable": false,
    "id": "9652e50d"
   },
   "source": [
    "**Задание 8. Выведите перечень уникальных значений столбца `children`.**"
   ]
  },
  {
   "cell_type": "code",
   "execution_count": 8,
   "id": "dbb37b8e",
   "metadata": {
    "deletable": false,
    "id": "dbb37b8e",
    "outputId": "6975b15c-7f95-4697-d16d-a0c79b657b03"
   },
   "outputs": [
    {
     "data": {
      "text/plain": [
       "array([ 1,  0,  3,  2, -1,  4, 20,  5])"
      ]
     },
     "execution_count": 8,
     "metadata": {},
     "output_type": "execute_result"
    }
   ],
   "source": [
    "data['children'].unique()"
   ]
  },
  {
   "cell_type": "markdown",
   "id": "2b8b0715",
   "metadata": {
    "deletable": false,
    "editable": false,
    "id": "2b8b0715"
   },
   "source": [
    "**Задание 9. В столбце `children` есть два аномальных значения. Удалите строки, в которых встречаются такие аномальные значения из датафрейма `data`.**"
   ]
  },
  {
   "cell_type": "code",
   "execution_count": 9,
   "id": "20009df8",
   "metadata": {
    "deletable": false,
    "id": "20009df8"
   },
   "outputs": [],
   "source": [
    "data = data[(data['children'] != -1) & (data['children'] != 20)]"
   ]
  },
  {
   "cell_type": "markdown",
   "id": "8c6ac9f1",
   "metadata": {
    "deletable": false,
    "editable": false,
    "id": "8c6ac9f1"
   },
   "source": [
    "**Задание 10. Ещё раз выведите перечень уникальных значений столбца `children`, чтобы убедиться, что артефакты удалены.**"
   ]
  },
  {
   "cell_type": "code",
   "execution_count": 10,
   "id": "07337b81",
   "metadata": {
    "deletable": false,
    "id": "07337b81",
    "outputId": "b2097101-d49d-44d9-901b-32a65c9463d1"
   },
   "outputs": [
    {
     "data": {
      "text/plain": [
       "array([1, 0, 3, 2, 4, 5])"
      ]
     },
     "execution_count": 10,
     "metadata": {},
     "output_type": "execute_result"
    }
   ],
   "source": [
    "data['children'].unique()"
   ]
  },
  {
   "cell_type": "markdown",
   "id": "ee3f52d4",
   "metadata": {
    "deletable": false,
    "editable": false,
    "id": "ee3f52d4"
   },
   "source": [
    "### Удаление пропусков (продолжение)"
   ]
  },
  {
   "cell_type": "markdown",
   "id": "a700b0e4",
   "metadata": {
    "deletable": false,
    "editable": false,
    "id": "a700b0e4"
   },
   "source": [
    "**Задание 11. Заполните пропуски в столбце `days_employed` медианными значениями по каждого типа занятости `income_type`.**"
   ]
  },
  {
   "cell_type": "code",
   "execution_count": 11,
   "id": "61946b83",
   "metadata": {
    "deletable": false,
    "id": "61946b83"
   },
   "outputs": [],
   "source": [
    "for t in data['income_type'].unique():\n",
    "    data.loc[(data['income_type'] == t) & (data['days_employed'].isna()), 'days_employed'] = \\\n",
    "    data.loc[(data['income_type'] == t), 'days_employed'].median()"
   ]
  },
  {
   "cell_type": "markdown",
   "id": "550dcd9b",
   "metadata": {
    "deletable": false,
    "editable": false,
    "id": "550dcd9b"
   },
   "source": [
    "**Задание 12. Убедитесь, что все пропуски заполнены. Проверьте себя и ещё раз выведите количество пропущенных значений для каждого столбца с помощью двух методов.**"
   ]
  },
  {
   "cell_type": "code",
   "execution_count": 12,
   "id": "937c7014",
   "metadata": {
    "deletable": false,
    "id": "937c7014",
    "outputId": "8da1e4e1-358e-4e87-98c9-f261bce0a7b2"
   },
   "outputs": [
    {
     "data": {
      "text/plain": [
       "children            0\n",
       "days_employed       0\n",
       "dob_years           0\n",
       "education           0\n",
       "education_id        0\n",
       "family_status       0\n",
       "family_status_id    0\n",
       "gender              0\n",
       "income_type         0\n",
       "debt                0\n",
       "total_income        0\n",
       "purpose             0\n",
       "dtype: int64"
      ]
     },
     "execution_count": 12,
     "metadata": {},
     "output_type": "execute_result"
    }
   ],
   "source": [
    "data.isna().sum()"
   ]
  },
  {
   "cell_type": "markdown",
   "id": "d522e295",
   "metadata": {
    "deletable": false,
    "editable": false,
    "id": "d522e295"
   },
   "source": [
    "### Изменение типов данных"
   ]
  },
  {
   "cell_type": "markdown",
   "id": "c229c581",
   "metadata": {
    "deletable": false,
    "editable": false,
    "id": "c229c581"
   },
   "source": [
    "**Задание 13. Замените вещественный тип данных в столбце `total_income` на целочисленный с помощью метода `astype()`.**"
   ]
  },
  {
   "cell_type": "code",
   "execution_count": 13,
   "id": "31036462",
   "metadata": {
    "deletable": false,
    "id": "31036462"
   },
   "outputs": [],
   "source": [
    "data['total_income'] = data['total_income'].astype(int)"
   ]
  },
  {
   "cell_type": "markdown",
   "id": "b8e3d1d9",
   "metadata": {
    "deletable": false,
    "editable": false,
    "id": "b8e3d1d9"
   },
   "source": [
    "### Обработка дубликатов"
   ]
  },
  {
   "cell_type": "markdown",
   "id": "9be53c49",
   "metadata": {
    "deletable": false,
    "editable": false,
    "id": "9be53c49"
   },
   "source": [
    "**Задание 14. Обработайте неявные дубликаты в столбце `education`. В этом столбце есть одни и те же значения, но записанные по-разному: с использованием заглавных и строчных букв. Приведите их к нижнему регистру.**"
   ]
  },
  {
   "cell_type": "code",
   "execution_count": 14,
   "id": "d89e73e1",
   "metadata": {
    "deletable": false,
    "id": "d89e73e1"
   },
   "outputs": [],
   "source": [
    "data['education'] = data['education'].str.lower()"
   ]
  },
  {
   "cell_type": "markdown",
   "id": "01d4500e",
   "metadata": {
    "deletable": false,
    "editable": false,
    "id": "01d4500e"
   },
   "source": [
    "**Задание 15. Выведите на экран количество строк-дубликатов в данных. Если такие строки присутствуют, удалите их.**"
   ]
  },
  {
   "cell_type": "code",
   "execution_count": 15,
   "id": "e10efb23",
   "metadata": {
    "deletable": false,
    "id": "e10efb23",
    "outputId": "9684deba-1934-42d1-99e1-cda61740f822"
   },
   "outputs": [
    {
     "data": {
      "text/plain": [
       "71"
      ]
     },
     "execution_count": 15,
     "metadata": {},
     "output_type": "execute_result"
    }
   ],
   "source": [
    "data.duplicated().sum()"
   ]
  },
  {
   "cell_type": "code",
   "execution_count": 16,
   "id": "df853f20",
   "metadata": {
    "deletable": false,
    "id": "df853f20"
   },
   "outputs": [],
   "source": [
    "data = data.drop_duplicates()"
   ]
  },
  {
   "cell_type": "markdown",
   "id": "627be38f",
   "metadata": {
    "deletable": false,
    "editable": false,
    "id": "627be38f"
   },
   "source": [
    "### Категоризация данных"
   ]
  },
  {
   "cell_type": "markdown",
   "id": "4684c3e0",
   "metadata": {
    "deletable": false,
    "editable": false,
    "id": "4684c3e0"
   },
   "source": [
    "**Задание 16. На основании диапазонов, указанных ниже, создайте в датафрейме `data` столбец `total_income_category` с категориями:**\n",
    "\n",
    "- 0–30000 — `'E'`;\n",
    "- 30001–50000 — `'D'`;\n",
    "- 50001–200000 — `'C'`;\n",
    "- 200001–1000000 — `'B'`;\n",
    "- 1000001 и выше — `'A'`.\n",
    "\n",
    "\n",
    "**Например, кредитополучателю с доходом 25000 нужно назначить категорию `'E'`, а клиенту, получающему 235000, — `'B'`. Используйте собственную функцию с именем `categorize_income()` и метод `apply()`.**"
   ]
  },
  {
   "cell_type": "markdown",
   "id": "037662e1",
   "metadata": {},
   "source": [
    "**Задание 16. На основании диапазонов, указанных ниже, создайте в датафрейме `data` столбец `total_income_category` с категориями:**\n",
    "\n",
    "\n",
    "- 0–100000 — `'D'`;\n",
    "- 100001–150000 — `'C'`;\n",
    "- 150001–240000 — `'B'`;\n",
    "- 240001 и выше — `'A'`.\n",
    "\n",
    "\n",
    "**Например, кредитополучателю с доходом 25000 нужно назначить категорию `'E'`, а клиенту, получающему 235000, — `'B'`. Используйте собственную функцию с именем `categorize_income()` и метод `apply()`.**"
   ]
  },
  {
   "cell_type": "code",
   "execution_count": 17,
   "id": "78965238",
   "metadata": {
    "deletable": false,
    "id": "78965238"
   },
   "outputs": [],
   "source": [
    "def categorize_income(income):\n",
    "    try:\n",
    "        if 0 <= income <= 100000:\n",
    "            return 'D'\n",
    "        elif 100001 <= income <= 150000:\n",
    "            return 'C'\n",
    "        elif 150001 <= income <= 240000:\n",
    "            return 'B'\n",
    "        elif income >= 240001:\n",
    "            return 'A'\n",
    "    except:\n",
    "        pass"
   ]
  },
  {
   "cell_type": "code",
   "execution_count": 18,
   "id": "0980ada1",
   "metadata": {
    "deletable": false,
    "id": "0980ada1"
   },
   "outputs": [],
   "source": [
    "data['total_income_category'] = data['total_income'].apply(categorize_income)"
   ]
  },
  {
   "cell_type": "markdown",
   "id": "9917bba0",
   "metadata": {
    "deletable": false,
    "editable": false,
    "id": "9917bba0"
   },
   "source": [
    "**Задание 17. Выведите на экран перечень уникальных целей взятия кредита из столбца `purpose`.**"
   ]
  },
  {
   "cell_type": "code",
   "execution_count": 19,
   "id": "ee07b65e",
   "metadata": {
    "deletable": false,
    "id": "ee07b65e",
    "outputId": "673c12d9-7d7e-4ae0-9812-c622c89dd244"
   },
   "outputs": [
    {
     "data": {
      "text/plain": [
       "array(['покупка жилья', 'приобретение автомобиля',\n",
       "       'дополнительное образование', 'сыграть свадьбу',\n",
       "       'операции с жильем', 'образование', 'на проведение свадьбы',\n",
       "       'покупка жилья для семьи', 'покупка недвижимости',\n",
       "       'покупка коммерческой недвижимости', 'покупка жилой недвижимости',\n",
       "       'строительство собственной недвижимости', 'недвижимость',\n",
       "       'строительство недвижимости', 'на покупку подержанного автомобиля',\n",
       "       'на покупку своего автомобиля',\n",
       "       'операции с коммерческой недвижимостью',\n",
       "       'строительство жилой недвижимости', 'жилье',\n",
       "       'операции со своей недвижимостью', 'автомобили',\n",
       "       'заняться образованием', 'сделка с подержанным автомобилем',\n",
       "       'получение образования', 'автомобиль', 'свадьба',\n",
       "       'получение дополнительного образования', 'покупка своего жилья',\n",
       "       'операции с недвижимостью', 'получение высшего образования',\n",
       "       'свой автомобиль', 'сделка с автомобилем',\n",
       "       'профильное образование', 'высшее образование',\n",
       "       'покупка жилья для сдачи', 'на покупку автомобиля', 'ремонт жилью',\n",
       "       'заняться высшим образованием'], dtype=object)"
      ]
     },
     "execution_count": 19,
     "metadata": {},
     "output_type": "execute_result"
    }
   ],
   "source": [
    "data['purpose'].unique()"
   ]
  },
  {
   "cell_type": "markdown",
   "id": "52b79d56",
   "metadata": {
    "deletable": false,
    "editable": false,
    "id": "52b79d56"
   },
   "source": [
    "**Задание 18. Создайте функцию, которая на основании данных из столбца `purpose` сформирует новый столбец `purpose_category`, в который войдут следующие категории:**\n",
    "\n",
    "- `'операции с автомобилем'`,\n",
    "- `'операции с недвижимостью'`,\n",
    "- `'проведение свадьбы'`,\n",
    "- `'получение образования'`.\n",
    "\n",
    "**Например, если в столбце `purpose` находится подстрока `'на покупку автомобиля'`, то в столбце `purpose_category` должна появиться строка `'операции с автомобилем'`.**\n",
    "\n",
    "**Используйте собственную функцию с именем `categorize_purpose()` и метод `apply()`. Изучите данные в столбце `purpose` и определите, какие подстроки помогут вам правильно определить категорию.**"
   ]
  },
  {
   "cell_type": "code",
   "execution_count": 20,
   "id": "be41da5d",
   "metadata": {
    "deletable": false,
    "id": "be41da5d"
   },
   "outputs": [],
   "source": [
    "def categorize_purpose(row):\n",
    "    try:\n",
    "        if 'автом' in row:\n",
    "            return 'операции с автомобилем'\n",
    "        elif 'жил' in row or 'недвиж' in row:\n",
    "            return 'операции с недвижимостью'\n",
    "        elif 'свад' in row:\n",
    "            return 'проведение свадьбы'\n",
    "        elif 'образов' in row:\n",
    "            return 'получение образования'\n",
    "    except:\n",
    "        return 'нет категории'"
   ]
  },
  {
   "cell_type": "code",
   "execution_count": 21,
   "id": "94c4a19a",
   "metadata": {
    "deletable": false,
    "id": "94c4a19a"
   },
   "outputs": [],
   "source": [
    "data['purpose_category'] = data['purpose'].apply(categorize_purpose)"
   ]
  },
  {
   "cell_type": "markdown",
   "id": "3d596c34",
   "metadata": {
    "deletable": false,
    "editable": false,
    "id": "3d596c34"
   },
   "source": [
    "### Шаг 3. Исследуйте данные и ответьте на вопросы"
   ]
  },
  {
   "cell_type": "markdown",
   "id": "648db036",
   "metadata": {
    "deletable": false,
    "editable": false,
    "id": "648db036"
   },
   "source": [
    "#### 3.1 Есть ли зависимость между количеством детей и возвратом кредита в срок?"
   ]
  },
  {
   "cell_type": "markdown",
   "id": "708ec03b",
   "metadata": {},
   "source": [
    "*План работы*\n",
    "\n",
    "Чтобы определить зависимость между количеством детей и возвратом кредита в срок, сгруппируем данные по количеству детей из столбца `children` и посчитаем конверсию возврата кредита в срок `debt` для каждой группы. Чем меньше будет конверсия, тем меньше должников в определенной категории, а следовательно и больше вероятность возврата кредита в срок."
   ]
  },
  {
   "cell_type": "code",
   "execution_count": 22,
   "id": "7fcff25e",
   "metadata": {
    "deletable": false,
    "id": "7fcff25e"
   },
   "outputs": [],
   "source": [
    "# Ваш код будет здесь. Вы можете создавать новые ячейки.\n",
    "# сгруппируем данные data по количеству детей children \n",
    "# и применим метод agg(), чтобы для каждой группы посчитать sum() и count() \n",
    "children_grouped = data.groupby('children').agg({'debt': ['sum', 'count']})\n",
    "# посчитаем конверсию для каждой группы и создадим новый столбец conversion, для этого нужно обратиться \n",
    "# в столбце debt к каждому подстолбцу sum и count\n",
    "children_grouped['conversion'] = children_grouped['debt']['sum'] / children_grouped['debt']['count']\n"
   ]
  },
  {
   "cell_type": "code",
   "execution_count": 23,
   "id": "ae6f4bc6",
   "metadata": {},
   "outputs": [
    {
     "data": {
      "text/html": [
       "<div>\n",
       "<style scoped>\n",
       "    .dataframe tbody tr th:only-of-type {\n",
       "        vertical-align: middle;\n",
       "    }\n",
       "\n",
       "    .dataframe tbody tr th {\n",
       "        vertical-align: top;\n",
       "    }\n",
       "\n",
       "    .dataframe thead tr th {\n",
       "        text-align: left;\n",
       "    }\n",
       "\n",
       "    .dataframe thead tr:last-of-type th {\n",
       "        text-align: right;\n",
       "    }\n",
       "</style>\n",
       "<table border=\"1\" class=\"dataframe\">\n",
       "  <thead>\n",
       "    <tr>\n",
       "      <th></th>\n",
       "      <th colspan=\"2\" halign=\"left\">debt</th>\n",
       "      <th>conversion</th>\n",
       "      <th>category_part</th>\n",
       "    </tr>\n",
       "    <tr>\n",
       "      <th></th>\n",
       "      <th>sum</th>\n",
       "      <th>count</th>\n",
       "      <th></th>\n",
       "      <th></th>\n",
       "    </tr>\n",
       "    <tr>\n",
       "      <th>children</th>\n",
       "      <th></th>\n",
       "      <th></th>\n",
       "      <th></th>\n",
       "      <th></th>\n",
       "    </tr>\n",
       "  </thead>\n",
       "  <tbody>\n",
       "    <tr>\n",
       "      <th>0</th>\n",
       "      <td>1063</td>\n",
       "      <td>14091</td>\n",
       "      <td>0.075438</td>\n",
       "      <td>0.660588</td>\n",
       "    </tr>\n",
       "    <tr>\n",
       "      <th>1</th>\n",
       "      <td>444</td>\n",
       "      <td>4808</td>\n",
       "      <td>0.092346</td>\n",
       "      <td>0.225400</td>\n",
       "    </tr>\n",
       "    <tr>\n",
       "      <th>2</th>\n",
       "      <td>194</td>\n",
       "      <td>2052</td>\n",
       "      <td>0.094542</td>\n",
       "      <td>0.096198</td>\n",
       "    </tr>\n",
       "    <tr>\n",
       "      <th>3</th>\n",
       "      <td>27</td>\n",
       "      <td>330</td>\n",
       "      <td>0.081818</td>\n",
       "      <td>0.015470</td>\n",
       "    </tr>\n",
       "    <tr>\n",
       "      <th>4</th>\n",
       "      <td>4</td>\n",
       "      <td>41</td>\n",
       "      <td>0.097561</td>\n",
       "      <td>0.001922</td>\n",
       "    </tr>\n",
       "    <tr>\n",
       "      <th>5</th>\n",
       "      <td>0</td>\n",
       "      <td>9</td>\n",
       "      <td>0.000000</td>\n",
       "      <td>0.000422</td>\n",
       "    </tr>\n",
       "  </tbody>\n",
       "</table>\n",
       "</div>"
      ],
      "text/plain": [
       "          debt        conversion category_part\n",
       "           sum  count                         \n",
       "children                                      \n",
       "0         1063  14091   0.075438      0.660588\n",
       "1          444   4808   0.092346      0.225400\n",
       "2          194   2052   0.094542      0.096198\n",
       "3           27    330   0.081818      0.015470\n",
       "4            4     41   0.097561      0.001922\n",
       "5            0      9   0.000000      0.000422"
      ]
     },
     "execution_count": 23,
     "metadata": {},
     "output_type": "execute_result"
    }
   ],
   "source": [
    "# найдем долю заемщиков в каждой категории от общего количества заемщиков\n",
    "children_grouped['category_part'] = children_grouped['debt']['count'] / children_grouped['debt']['count'].sum()\n",
    "children_grouped"
   ]
  },
  {
   "cell_type": "markdown",
   "id": "2eb9088e",
   "metadata": {
    "deletable": false,
    "id": "2eb9088e"
   },
   "source": [
    "**Вывод: самая низкая конверсия для семей с пятью детьми, но таких семей очень мало, и их данные не стоит брать за основу. Если убрать из внимания семей из пяти детей, то значения конверсий примерно одинаковы, поэтому я бы не рекомендовала банкам принимать решение о выдаче кредита на основе количества детей, учитывая еще тот факт, что по этим данным, семьи без детей берут кредиты чаще, чем семьи с детьми.** "
   ]
  },
  {
   "cell_type": "markdown",
   "id": "74c9b3a7",
   "metadata": {
    "deletable": false,
    "editable": false,
    "id": "74c9b3a7"
   },
   "source": [
    "#### 3.2 Есть ли зависимость между семейным положением и возвратом кредита в срок?"
   ]
  },
  {
   "cell_type": "code",
   "execution_count": 24,
   "id": "8098ab3b",
   "metadata": {
    "deletable": false,
    "id": "8098ab3b",
    "scrolled": true
   },
   "outputs": [],
   "source": [
    "# Ваш код будет здесь. Вы можете создавать новые ячейки\n",
    "# сгруппируем данные data по семейному положению family_status \n",
    "# и применим метод agg(), чтобы для каждой группы посчитать sum() и count() \n",
    "family_status_grouped = data.groupby('family_status').agg({'debt': ['sum', 'count']})\n",
    "family_status_grouped['conversion'] = family_status_grouped['debt']['sum'] / family_status_grouped['debt']['count']\n"
   ]
  },
  {
   "cell_type": "code",
   "execution_count": 25,
   "id": "a3e7fe88",
   "metadata": {},
   "outputs": [
    {
     "data": {
      "text/html": [
       "<div>\n",
       "<style scoped>\n",
       "    .dataframe tbody tr th:only-of-type {\n",
       "        vertical-align: middle;\n",
       "    }\n",
       "\n",
       "    .dataframe tbody tr th {\n",
       "        vertical-align: top;\n",
       "    }\n",
       "\n",
       "    .dataframe thead tr th {\n",
       "        text-align: left;\n",
       "    }\n",
       "\n",
       "    .dataframe thead tr:last-of-type th {\n",
       "        text-align: right;\n",
       "    }\n",
       "</style>\n",
       "<table border=\"1\" class=\"dataframe\">\n",
       "  <thead>\n",
       "    <tr>\n",
       "      <th></th>\n",
       "      <th colspan=\"2\" halign=\"left\">debt</th>\n",
       "      <th>conversion</th>\n",
       "      <th>category_part</th>\n",
       "    </tr>\n",
       "    <tr>\n",
       "      <th></th>\n",
       "      <th>sum</th>\n",
       "      <th>count</th>\n",
       "      <th></th>\n",
       "      <th></th>\n",
       "    </tr>\n",
       "    <tr>\n",
       "      <th>family_status</th>\n",
       "      <th></th>\n",
       "      <th></th>\n",
       "      <th></th>\n",
       "      <th></th>\n",
       "    </tr>\n",
       "  </thead>\n",
       "  <tbody>\n",
       "    <tr>\n",
       "      <th>Не женат / не замужем</th>\n",
       "      <td>273</td>\n",
       "      <td>2796</td>\n",
       "      <td>0.097639</td>\n",
       "      <td>0.131077</td>\n",
       "    </tr>\n",
       "    <tr>\n",
       "      <th>в разводе</th>\n",
       "      <td>84</td>\n",
       "      <td>1189</td>\n",
       "      <td>0.070648</td>\n",
       "      <td>0.055740</td>\n",
       "    </tr>\n",
       "    <tr>\n",
       "      <th>вдовец / вдова</th>\n",
       "      <td>63</td>\n",
       "      <td>951</td>\n",
       "      <td>0.066246</td>\n",
       "      <td>0.044583</td>\n",
       "    </tr>\n",
       "    <tr>\n",
       "      <th>гражданский брак</th>\n",
       "      <td>385</td>\n",
       "      <td>4134</td>\n",
       "      <td>0.093130</td>\n",
       "      <td>0.193802</td>\n",
       "    </tr>\n",
       "    <tr>\n",
       "      <th>женат / замужем</th>\n",
       "      <td>927</td>\n",
       "      <td>12261</td>\n",
       "      <td>0.075606</td>\n",
       "      <td>0.574797</td>\n",
       "    </tr>\n",
       "  </tbody>\n",
       "</table>\n",
       "</div>"
      ],
      "text/plain": [
       "                      debt        conversion category_part\n",
       "                       sum  count                         \n",
       "family_status                                             \n",
       "Не женат / не замужем  273   2796   0.097639      0.131077\n",
       "в разводе               84   1189   0.070648      0.055740\n",
       "вдовец / вдова          63    951   0.066246      0.044583\n",
       "гражданский брак       385   4134   0.093130      0.193802\n",
       "женат / замужем        927  12261   0.075606      0.574797"
      ]
     },
     "execution_count": 25,
     "metadata": {},
     "output_type": "execute_result"
    }
   ],
   "source": [
    "# найдем долю заемщиков в каждой категории от общего количества заемщиков\n",
    "family_status_grouped['category_part'] = family_status_grouped['debt']['count'] / family_status_grouped['debt']['count'].sum()\n",
    "family_status_grouped"
   ]
  },
  {
   "cell_type": "markdown",
   "id": "c389ca63",
   "metadata": {
    "deletable": false,
    "id": "c389ca63"
   },
   "source": [
    "**Вывод: больше половины заемщиков состоят в браке и конверсия у них ниже, чем у тех категорий граждан, которые не состоят в официальном браке (не женат / не замужем, гражданский брак), самая низкая конверсия у тех, кто в разводе, а также у вдовцов / вдов, но их суммарно всего 10% от общего количества заемщиков, поэтому я бы рекомендовала банкам обращать внимание на семейное положение заемщиков.** "
   ]
  },
  {
   "cell_type": "markdown",
   "id": "9529de68",
   "metadata": {
    "deletable": false,
    "editable": false,
    "id": "9529de68"
   },
   "source": [
    "#### 3.3 Есть ли зависимость между уровнем дохода и возвратом кредита в срок?"
   ]
  },
  {
   "cell_type": "code",
   "execution_count": 26,
   "id": "8787f44a",
   "metadata": {
    "deletable": false,
    "id": "8787f44a",
    "scrolled": true
   },
   "outputs": [],
   "source": [
    "# Ваш код будет здесь. Вы можете создавать новые ячейки.\n",
    "# сгруппируем данные data по категориям доходов total_income_category \n",
    "# и применим метод agg(), чтобы для каждой группы посчитать sum() и count() \n",
    "total_income_category_grouped = data.groupby('total_income_category').agg({'debt': ['sum', 'count']})\n",
    "total_income_category_grouped['conversion'] = total_income_category_grouped['debt']['sum'] / \\\n",
    "total_income_category_grouped['debt']['count']"
   ]
  },
  {
   "cell_type": "code",
   "execution_count": 27,
   "id": "d3041066",
   "metadata": {
    "scrolled": true
   },
   "outputs": [],
   "source": [
    "# найдем долю заемщиков в каждой категории от общего количества заемщиков\n",
    "total_income_category_grouped['category_part'] = total_income_category_grouped['debt']['count'] / \\\n",
    "total_income_category_grouped['debt']['count'].sum()\n"
   ]
  },
  {
   "cell_type": "markdown",
   "id": "b2f70234",
   "metadata": {},
   "source": [
    "Добавим столбец `total_income_amount_rub`, чтобы понимать, какая сумма доходов в рублях относится к определенной категории."
   ]
  },
  {
   "cell_type": "code",
   "execution_count": 28,
   "id": "c927a721",
   "metadata": {
    "scrolled": true
   },
   "outputs": [
    {
     "data": {
      "text/html": [
       "<div>\n",
       "<style scoped>\n",
       "    .dataframe tbody tr th:only-of-type {\n",
       "        vertical-align: middle;\n",
       "    }\n",
       "\n",
       "    .dataframe tbody tr th {\n",
       "        vertical-align: top;\n",
       "    }\n",
       "\n",
       "    .dataframe thead tr th {\n",
       "        text-align: left;\n",
       "    }\n",
       "\n",
       "    .dataframe thead tr:last-of-type th {\n",
       "        text-align: right;\n",
       "    }\n",
       "</style>\n",
       "<table border=\"1\" class=\"dataframe\">\n",
       "  <thead>\n",
       "    <tr>\n",
       "      <th></th>\n",
       "      <th colspan=\"2\" halign=\"left\">debt</th>\n",
       "      <th>conversion</th>\n",
       "      <th>category_part</th>\n",
       "      <th>total_income_amount_rub</th>\n",
       "    </tr>\n",
       "    <tr>\n",
       "      <th></th>\n",
       "      <th>sum</th>\n",
       "      <th>count</th>\n",
       "      <th></th>\n",
       "      <th></th>\n",
       "      <th></th>\n",
       "    </tr>\n",
       "    <tr>\n",
       "      <th>total_income_category</th>\n",
       "      <th></th>\n",
       "      <th></th>\n",
       "      <th></th>\n",
       "      <th></th>\n",
       "      <th></th>\n",
       "    </tr>\n",
       "  </thead>\n",
       "  <tbody>\n",
       "    <tr>\n",
       "      <th>A</th>\n",
       "      <td>217</td>\n",
       "      <td>3113</td>\n",
       "      <td>0.069708</td>\n",
       "      <td>0.145938</td>\n",
       "      <td>240001 и выше</td>\n",
       "    </tr>\n",
       "    <tr>\n",
       "      <th>B</th>\n",
       "      <td>542</td>\n",
       "      <td>6664</td>\n",
       "      <td>0.081333</td>\n",
       "      <td>0.312409</td>\n",
       "      <td>150001–240000</td>\n",
       "    </tr>\n",
       "    <tr>\n",
       "      <th>C</th>\n",
       "      <td>619</td>\n",
       "      <td>7110</td>\n",
       "      <td>0.087060</td>\n",
       "      <td>0.333318</td>\n",
       "      <td>100001–150000</td>\n",
       "    </tr>\n",
       "    <tr>\n",
       "      <th>D</th>\n",
       "      <td>354</td>\n",
       "      <td>4444</td>\n",
       "      <td>0.079658</td>\n",
       "      <td>0.208335</td>\n",
       "      <td>0–100000</td>\n",
       "    </tr>\n",
       "  </tbody>\n",
       "</table>\n",
       "</div>"
      ],
      "text/plain": [
       "                      debt       conversion category_part  \\\n",
       "                       sum count                            \n",
       "total_income_category                                       \n",
       "A                      217  3113   0.069708      0.145938   \n",
       "B                      542  6664   0.081333      0.312409   \n",
       "C                      619  7110   0.087060      0.333318   \n",
       "D                      354  4444   0.079658      0.208335   \n",
       "\n",
       "                      total_income_amount_rub  \n",
       "                                               \n",
       "total_income_category                          \n",
       "A                               240001 и выше  \n",
       "B                               150001–240000  \n",
       "C                               100001–150000  \n",
       "D                                    0–100000  "
      ]
     },
     "execution_count": 28,
     "metadata": {},
     "output_type": "execute_result"
    }
   ],
   "source": [
    "total_income_category_grouped['total_income_amount_rub'] = \\\n",
    "['240001 и выше', '150001–240000', '100001–150000', '0–100000']\n",
    "total_income_category_grouped"
   ]
  },
  {
   "cell_type": "markdown",
   "id": "6dd14b57",
   "metadata": {
    "deletable": false,
    "id": "6dd14b57"
   },
   "source": [
    "\n",
    "**Существует зависимость между уровнем дохода и возвратом кредита в срок. Данные показали, чем выше доходы у заемщика, тем большая вероятность возврата кредита в срок, т.к. конверсия для категории заемщиков с наибольшими доходами наименьшая, а, значит, и количество должников в этой группе меньше**\n"
   ]
  },
  {
   "cell_type": "markdown",
   "id": "1dcc9b12",
   "metadata": {
    "deletable": false,
    "editable": false,
    "id": "1dcc9b12"
   },
   "source": [
    "#### 3.4 Как разные цели кредита влияют на его возврат в срок?"
   ]
  },
  {
   "cell_type": "code",
   "execution_count": 29,
   "id": "c602bc8b",
   "metadata": {
    "deletable": false,
    "id": "c602bc8b"
   },
   "outputs": [
    {
     "data": {
      "text/html": [
       "<div>\n",
       "<style scoped>\n",
       "    .dataframe tbody tr th:only-of-type {\n",
       "        vertical-align: middle;\n",
       "    }\n",
       "\n",
       "    .dataframe tbody tr th {\n",
       "        vertical-align: top;\n",
       "    }\n",
       "\n",
       "    .dataframe thead tr th {\n",
       "        text-align: left;\n",
       "    }\n",
       "\n",
       "    .dataframe thead tr:last-of-type th {\n",
       "        text-align: right;\n",
       "    }\n",
       "</style>\n",
       "<table border=\"1\" class=\"dataframe\">\n",
       "  <thead>\n",
       "    <tr>\n",
       "      <th></th>\n",
       "      <th colspan=\"2\" halign=\"left\">debt</th>\n",
       "      <th>conversion</th>\n",
       "      <th>category_part</th>\n",
       "    </tr>\n",
       "    <tr>\n",
       "      <th></th>\n",
       "      <th>sum</th>\n",
       "      <th>count</th>\n",
       "      <th></th>\n",
       "      <th></th>\n",
       "    </tr>\n",
       "    <tr>\n",
       "      <th>purpose_category</th>\n",
       "      <th></th>\n",
       "      <th></th>\n",
       "      <th></th>\n",
       "      <th></th>\n",
       "    </tr>\n",
       "  </thead>\n",
       "  <tbody>\n",
       "    <tr>\n",
       "      <th>операции с автомобилем</th>\n",
       "      <td>400</td>\n",
       "      <td>4279</td>\n",
       "      <td>0.093480</td>\n",
       "      <td>0.200600</td>\n",
       "    </tr>\n",
       "    <tr>\n",
       "      <th>операции с недвижимостью</th>\n",
       "      <td>780</td>\n",
       "      <td>10751</td>\n",
       "      <td>0.072551</td>\n",
       "      <td>0.504008</td>\n",
       "    </tr>\n",
       "    <tr>\n",
       "      <th>получение образования</th>\n",
       "      <td>369</td>\n",
       "      <td>3988</td>\n",
       "      <td>0.092528</td>\n",
       "      <td>0.186958</td>\n",
       "    </tr>\n",
       "    <tr>\n",
       "      <th>проведение свадьбы</th>\n",
       "      <td>183</td>\n",
       "      <td>2313</td>\n",
       "      <td>0.079118</td>\n",
       "      <td>0.108434</td>\n",
       "    </tr>\n",
       "  </tbody>\n",
       "</table>\n",
       "</div>"
      ],
      "text/plain": [
       "                         debt        conversion category_part\n",
       "                          sum  count                         \n",
       "purpose_category                                             \n",
       "операции с автомобилем    400   4279   0.093480      0.200600\n",
       "операции с недвижимостью  780  10751   0.072551      0.504008\n",
       "получение образования     369   3988   0.092528      0.186958\n",
       "проведение свадьбы        183   2313   0.079118      0.108434"
      ]
     },
     "execution_count": 29,
     "metadata": {},
     "output_type": "execute_result"
    }
   ],
   "source": [
    "# Ваш код будет здесь. Вы можете создавать новые ячейки.\n",
    "# сгруппируем данные data по категориям целей purpose_category \n",
    "# и применим метод agg(), чтобы для каждой группы посчитать sum() и count() \n",
    "purpose_grouped = data.groupby('purpose_category').agg({'debt': ['sum', 'count']})\n",
    "purpose_grouped['conversion'] = purpose_grouped['debt']['sum'] / purpose_grouped['debt']['count']\n",
    "purpose_grouped['category_part'] = purpose_grouped['debt']['count'] / \\\n",
    "purpose_grouped['debt']['count'].sum()\n",
    "purpose_grouped"
   ]
  },
  {
   "cell_type": "markdown",
   "id": "cf05ed63",
   "metadata": {
    "deletable": false,
    "id": "cf05ed63"
   },
   "source": [
    "**Вывод: самая низкая конверсия в категории \"операции с недвижимостью\" говорит о том, что с большей долей вероятности будет возвращен кредит, если он взят с этой целью, также эта категория составляет наибольшее количество обращений.** "
   ]
  },
  {
   "cell_type": "markdown",
   "id": "46c1f10b",
   "metadata": {
    "deletable": false,
    "editable": false,
    "id": "46c1f10b"
   },
   "source": [
    "#### 3.5 Приведите возможные причины появления пропусков в исходных данных."
   ]
  },
  {
   "cell_type": "markdown",
   "id": "3697d2a9",
   "metadata": {
    "deletable": false,
    "id": "3697d2a9"
   },
   "source": [
    "*Ответ: пропуски содержатся в данных о трудовом стаже и о доходах. Возможная причина пропусков - неофициальное трудоустройство и доходы, которые заемщик не может подтвердить заверенной документацией. Также среди заемщиков могут быть дети, родители которых готовы оплачивать кредиты детям, у которых нет ни стажа, ни доходов.* "
   ]
  },
  {
   "cell_type": "markdown",
   "id": "3137d257",
   "metadata": {
    "deletable": false,
    "editable": false,
    "id": "3137d257"
   },
   "source": [
    "#### 3.6 Объясните, почему заполнить пропуски медианным значением — лучшее решение для количественных переменных."
   ]
  },
  {
   "cell_type": "markdown",
   "id": "cf40012a",
   "metadata": {
    "deletable": false,
    "id": "cf40012a"
   },
   "source": [
    "*Ответ: среди выборки значений, могут быть значения сильно отличающиеся от основного количества данных и если мы будем заполнять значеними среднего, то выделяемые данные могут повлиять на реальную картину вычислений. Также важно указывать медианные значения именно в каждой категории, потому что в зависимости от категории они могут различаться.* "
   ]
  },
  {
   "cell_type": "markdown",
   "id": "57bc304e",
   "metadata": {
    "deletable": false,
    "editable": false,
    "id": "57bc304e"
   },
   "source": [
    "### Шаг 4: общий вывод."
   ]
  },
  {
   "cell_type": "markdown",
   "id": "55bfb91f",
   "metadata": {},
   "source": [
    "\n",
    "Получив таблицу со статистикой о платежеспособности клиентов, прежде чем ее анализировать, \n",
    "необходимо было провести предобработку данных.\n",
    "\n",
    "В первую очередь были обнаружены пропустки в двух столбцах (сумма дохода и стаж работы) \n",
    "в большом количестве (из 21525 строк заполнены лишь 19351).\n",
    "Это значит, что потеряв эти строки, результаты анализа могут быть искажены, \n",
    "поэтому было принято решение их заполнить.\n",
    "\n",
    "На сумму дохода влияет тип занятости, поэтому пропуски были заполнены медианным значением в каждой группе\n",
    "типа занятости.\n",
    "По такому же принципу заполнены и медианные значения в столбце с данными о стаже.\n",
    "\n",
    "Кроме пропусков были обнаружены отрицательные значения, что является аномалией, \n",
    "поэтому эти данные были приведены к абсолютным значениям.\n",
    "\n",
    "В столбце с количеством детей были обнаружены аномальные значения (отрицательное -1 и слишком большое 20).\n",
    "Строки с этими данными были удалены, чтобы они не исказили итоговые результаты.\n",
    "\n",
    "Также после приведения к нижнему регистру значений в столбце об образовании, были обнаружены явные дубликаты,\n",
    "которые были удалены.\n",
    "\n",
    "После предобработки данных можно было приступать к решению задачи. \n",
    "А именно необходимо было выяснить влияет ли семейное положение и количество детей клиента\n",
    "на факт погашения кредита в срок.\n",
    "\n",
    "Для принятия решения по этому вопросу были поставлены следующие цели:\n",
    "    \n",
    "**1. Выснить, есть ли зависимость между количеством детей и возвратом кредита в срок.**\n",
    "    \n",
    "На основании данных о должниках в статистике была рассчитана конверсия в зависомсти от количества детей.\n",
    "Чем меньше конверсия, тем меньше должников в определенной группе. Так, результаты показали, что самая\n",
    "низкая конверсия (7.5%)\n",
    "у семей без детей, в отличие от семей с одним, двумя, тремя или четырьмя детьми\n",
    "(соответственно 9.2%, 9.4%, 8%, 9.7%).\n",
    "    \n",
    "    \n",
    "**2. Выяснить, есть ли зависимость между семейным положением и возвратом кредита в срок.**\n",
    "    \n",
    "Больше половины заемщиков состоят в браке (57%) и конверсия (7.5%) у них ниже, чем у тех категорий граждан, \n",
    "которые не состоят в официальном браке (не женат / не замужем (9.7%), гражданский брак(9.3%)), \n",
    "самая низкая конверсия у тех, кто в разводе (7%), а также у вдовцов / вдов (6.6%), \n",
    "но их суммарно всего 10% от общего количества заемщиков, \n",
    "поэтому я бы рекомендовала банкам обращать внимание на семейное положение заемщиков.\n",
    "    \n",
    "**3. Выяснить, есть ли зависимость между уровнем дохода и возвратом кредита в срок.**\n",
    "    \n",
    "Предварительно все данные о доходах были разделены на четыре категории, чтобы в каждом сегменте было\n",
    "примерно одинаковое количество заемщиков:\n",
    "- до 100тыс. руб;\n",
    "- от 100 тыс. руб. до 150 тыс. руб.;\n",
    "- от 150 тыс. руб. до 240 тыс. руб.;\n",
    "- выше 240 тыс. руб.\n",
    "    \n",
    "Данные показали, чем выше доходы у заемщика, тем большая вероятность возврата кредита в срок,\n",
    "т.к. конверсия для категории заемщиков с наибольшими доходами наименьшая (6.9%),\n",
    "а, значит, и количество должников в этой группе меньше. \n",
    "Конверсия у трех других групп в порядке уменьшения доходов следующая: 8.1%, 8.7%, 7.9%.\n",
    "        \n",
    "**4. Выяснить, как разные цели кредита влияют на его возврат в срок.**\n",
    "    \n",
    "Все цели предварительно были разделены на четыре группы и определены доли этих целей\n",
    "от общего числа запросов:\n",
    "- операции с автомобилем (20%);\n",
    "- операции с недвижимостью (50%);\n",
    "- получение образования (19%);\n",
    "- проведение свадьбы (11%).\n",
    "\n",
    "Cамая низкая конверсия в категории \"операции с недвижимостью\" (7.2%) говорит о том,\n",
    "что с большей долей вероятности будет возвращен кредит, если он взят с этой целью,\n",
    "также эта категория составляет наибольшее количество обращений. \n",
    "Конверсия на операции с автомобилем составляет 9.3%, на получение образования 9.2%, \n",
    "на проведение свадьбы 7.9%.\n",
    "    \n",
    "\n",
    "**Возвращаясь к главному вопросу, \n",
    "влияет ли семейное положение и количество детей клиента на факт погашения кредита в срок,\n",
    "мой вывод следующий: оба эти критерия существенно влияют причем таким образом, что \n",
    "идеальный заемщик должен состоять в официальном браке и при этом не иметь детей, кроме этого должен иметь\n",
    "высокий доход и цель его кредита связана с операциями с недвижимостью. В этом случае у банка будет самый низкий \n",
    "процент должников.**\n"
   ]
  },
  {
   "cell_type": "markdown",
   "id": "1ab75d1c",
   "metadata": {
    "deletable": false,
    "id": "1ab75d1c"
   },
   "source": []
  }
 ],
 "metadata": {
  "ExecuteTimeLog": [
   {
    "duration": 719,
    "start_time": "2024-04-09T07:24:33.835Z"
   },
   {
    "duration": 24,
    "start_time": "2024-04-09T07:25:02.374Z"
   },
   {
    "duration": 16,
    "start_time": "2024-04-09T07:25:12.537Z"
   },
   {
    "duration": 11,
    "start_time": "2024-04-09T07:25:25.668Z"
   },
   {
    "duration": 38,
    "start_time": "2024-04-09T07:25:43.095Z"
   },
   {
    "duration": 3,
    "start_time": "2024-04-09T07:25:50.601Z"
   },
   {
    "duration": 8,
    "start_time": "2024-04-09T07:26:19.315Z"
   },
   {
    "duration": 4,
    "start_time": "2024-04-09T07:26:27.385Z"
   },
   {
    "duration": 7,
    "start_time": "2024-04-09T07:26:33.836Z"
   },
   {
    "duration": 4,
    "start_time": "2024-04-09T07:26:37.509Z"
   },
   {
    "duration": 37,
    "start_time": "2024-04-09T07:26:50.184Z"
   },
   {
    "duration": 11,
    "start_time": "2024-04-09T07:26:53.719Z"
   },
   {
    "duration": 4,
    "start_time": "2024-04-09T07:27:03.316Z"
   },
   {
    "duration": 12,
    "start_time": "2024-04-09T07:27:09.384Z"
   },
   {
    "duration": 22,
    "start_time": "2024-04-09T07:27:10.815Z"
   },
   {
    "duration": 20,
    "start_time": "2024-04-09T07:27:11.746Z"
   },
   {
    "duration": 4,
    "start_time": "2024-04-09T07:27:36.864Z"
   },
   {
    "duration": 10,
    "start_time": "2024-04-09T07:27:44.714Z"
   },
   {
    "duration": 7,
    "start_time": "2024-04-09T07:27:49.679Z"
   },
   {
    "duration": 4,
    "start_time": "2024-04-09T07:28:20.209Z"
   },
   {
    "duration": 9,
    "start_time": "2024-04-09T07:28:20.820Z"
   },
   {
    "duration": 16,
    "start_time": "2024-04-09T07:29:31.652Z"
   },
   {
    "duration": 15,
    "start_time": "2024-04-09T07:47:20.680Z"
   },
   {
    "duration": 15,
    "start_time": "2024-04-09T07:57:32.997Z"
   },
   {
    "duration": 94,
    "start_time": "2024-04-09T08:55:03.115Z"
   },
   {
    "duration": 24,
    "start_time": "2024-04-09T08:55:03.212Z"
   },
   {
    "duration": 75,
    "start_time": "2024-04-09T08:55:03.238Z"
   },
   {
    "duration": 12,
    "start_time": "2024-04-09T08:55:03.316Z"
   },
   {
    "duration": 38,
    "start_time": "2024-04-09T08:55:03.329Z"
   },
   {
    "duration": 4,
    "start_time": "2024-04-09T08:55:03.369Z"
   },
   {
    "duration": 10,
    "start_time": "2024-04-09T08:55:03.375Z"
   },
   {
    "duration": 5,
    "start_time": "2024-04-09T08:55:03.387Z"
   },
   {
    "duration": 11,
    "start_time": "2024-04-09T08:55:03.394Z"
   },
   {
    "duration": 32,
    "start_time": "2024-04-09T08:55:03.408Z"
   },
   {
    "duration": 56,
    "start_time": "2024-04-09T08:55:03.442Z"
   },
   {
    "duration": 12,
    "start_time": "2024-04-09T08:55:03.500Z"
   },
   {
    "duration": 4,
    "start_time": "2024-04-09T08:55:03.514Z"
   },
   {
    "duration": 17,
    "start_time": "2024-04-09T08:55:03.520Z"
   },
   {
    "duration": 32,
    "start_time": "2024-04-09T08:55:03.539Z"
   },
   {
    "duration": 19,
    "start_time": "2024-04-09T08:55:03.573Z"
   },
   {
    "duration": 4,
    "start_time": "2024-04-09T08:55:03.594Z"
   },
   {
    "duration": 13,
    "start_time": "2024-04-09T08:55:03.599Z"
   },
   {
    "duration": 6,
    "start_time": "2024-04-09T08:55:03.613Z"
   },
   {
    "duration": 3,
    "start_time": "2024-04-09T08:55:03.621Z"
   },
   {
    "duration": 35,
    "start_time": "2024-04-09T08:55:03.626Z"
   },
   {
    "duration": 19,
    "start_time": "2024-04-09T08:55:03.663Z"
   },
   {
    "duration": 12,
    "start_time": "2024-04-09T08:55:07.395Z"
   },
   {
    "duration": 17,
    "start_time": "2024-04-09T08:56:40.331Z"
   },
   {
    "duration": 83,
    "start_time": "2024-04-09T09:00:13.226Z"
   },
   {
    "duration": 22,
    "start_time": "2024-04-09T09:00:52.765Z"
   },
   {
    "duration": 2,
    "start_time": "2024-04-09T09:02:18.571Z"
   },
   {
    "duration": 14,
    "start_time": "2024-04-09T09:02:42.381Z"
   },
   {
    "duration": 13,
    "start_time": "2024-04-09T09:06:51.216Z"
   },
   {
    "duration": 74,
    "start_time": "2024-04-09T09:09:50.361Z"
   },
   {
    "duration": 15,
    "start_time": "2024-04-09T09:10:09.971Z"
   },
   {
    "duration": 20,
    "start_time": "2024-04-09T09:26:00.631Z"
   },
   {
    "duration": 19,
    "start_time": "2024-04-09T09:27:10.576Z"
   },
   {
    "duration": 20,
    "start_time": "2024-04-09T09:27:56.355Z"
   },
   {
    "duration": 22,
    "start_time": "2024-04-09T09:32:45.342Z"
   },
   {
    "duration": 24,
    "start_time": "2024-04-09T09:39:55.693Z"
   },
   {
    "duration": 23,
    "start_time": "2024-04-09T09:40:10.102Z"
   },
   {
    "duration": 26,
    "start_time": "2024-04-09T09:41:04.033Z"
   },
   {
    "duration": 528,
    "start_time": "2024-04-09T09:57:44.961Z"
   },
   {
    "duration": 23,
    "start_time": "2024-04-09T09:57:45.491Z"
   },
   {
    "duration": 46,
    "start_time": "2024-04-09T09:57:45.515Z"
   },
   {
    "duration": 59,
    "start_time": "2024-04-09T09:57:45.563Z"
   },
   {
    "duration": 45,
    "start_time": "2024-04-09T09:57:45.624Z"
   },
   {
    "duration": 3,
    "start_time": "2024-04-09T09:57:45.671Z"
   },
   {
    "duration": 13,
    "start_time": "2024-04-09T09:57:45.675Z"
   },
   {
    "duration": 31,
    "start_time": "2024-04-09T09:57:45.690Z"
   },
   {
    "duration": 14,
    "start_time": "2024-04-09T09:57:45.722Z"
   },
   {
    "duration": 23,
    "start_time": "2024-04-09T09:57:45.738Z"
   },
   {
    "duration": 64,
    "start_time": "2024-04-09T09:57:45.762Z"
   },
   {
    "duration": 10,
    "start_time": "2024-04-09T09:57:45.828Z"
   },
   {
    "duration": 7,
    "start_time": "2024-04-09T09:57:45.839Z"
   },
   {
    "duration": 18,
    "start_time": "2024-04-09T09:57:45.849Z"
   },
   {
    "duration": 31,
    "start_time": "2024-04-09T09:57:45.869Z"
   },
   {
    "duration": 18,
    "start_time": "2024-04-09T09:57:45.902Z"
   },
   {
    "duration": 4,
    "start_time": "2024-04-09T09:57:45.922Z"
   },
   {
    "duration": 68,
    "start_time": "2024-04-09T09:57:45.927Z"
   },
   {
    "duration": 10,
    "start_time": "2024-04-09T09:57:45.996Z"
   },
   {
    "duration": 3,
    "start_time": "2024-04-09T09:57:46.008Z"
   },
   {
    "duration": 10,
    "start_time": "2024-04-09T09:57:46.013Z"
   },
   {
    "duration": 23,
    "start_time": "2024-04-09T09:57:46.025Z"
   },
   {
    "duration": 21,
    "start_time": "2024-04-09T09:57:46.050Z"
   },
   {
    "duration": 23,
    "start_time": "2024-04-09T09:57:46.072Z"
   },
   {
    "duration": 3,
    "start_time": "2024-04-09T09:57:46.096Z"
   },
   {
    "duration": 6,
    "start_time": "2024-04-09T09:57:46.100Z"
   },
   {
    "duration": 91,
    "start_time": "2024-04-09T10:09:49.229Z"
   },
   {
    "duration": 82,
    "start_time": "2024-04-09T10:10:17.088Z"
   },
   {
    "duration": 21,
    "start_time": "2024-04-09T10:10:45.072Z"
   },
   {
    "duration": 13,
    "start_time": "2024-04-09T10:12:19.761Z"
   },
   {
    "duration": 10,
    "start_time": "2024-04-09T10:12:53.667Z"
   },
   {
    "duration": 12,
    "start_time": "2024-04-09T10:15:28.794Z"
   },
   {
    "duration": 86,
    "start_time": "2024-04-09T10:15:54.510Z"
   },
   {
    "duration": 10,
    "start_time": "2024-04-09T10:20:36.072Z"
   },
   {
    "duration": 11,
    "start_time": "2024-04-09T10:21:02.203Z"
   },
   {
    "duration": 16,
    "start_time": "2024-04-09T10:28:24.984Z"
   },
   {
    "duration": 15,
    "start_time": "2024-04-09T10:28:28.198Z"
   },
   {
    "duration": 15,
    "start_time": "2024-04-09T10:29:54.455Z"
   },
   {
    "duration": 15,
    "start_time": "2024-04-09T10:30:47.458Z"
   },
   {
    "duration": 10,
    "start_time": "2024-04-09T10:30:49.774Z"
   },
   {
    "duration": 11,
    "start_time": "2024-04-09T10:31:12.100Z"
   },
   {
    "duration": 16,
    "start_time": "2024-04-09T10:31:55.124Z"
   },
   {
    "duration": 12,
    "start_time": "2024-04-09T10:37:04.308Z"
   },
   {
    "duration": 15,
    "start_time": "2024-04-09T10:37:10.731Z"
   },
   {
    "duration": 12,
    "start_time": "2024-04-09T12:28:31.148Z"
   },
   {
    "duration": 15,
    "start_time": "2024-04-09T12:29:12.769Z"
   },
   {
    "duration": 14,
    "start_time": "2024-04-09T12:29:17.274Z"
   },
   {
    "duration": 15,
    "start_time": "2024-04-09T12:29:31.324Z"
   },
   {
    "duration": 17,
    "start_time": "2024-04-09T12:29:33.367Z"
   },
   {
    "duration": 14,
    "start_time": "2024-04-09T12:29:36.252Z"
   },
   {
    "duration": 20,
    "start_time": "2024-04-09T12:33:24.693Z"
   },
   {
    "duration": 10,
    "start_time": "2024-04-09T12:46:26.572Z"
   },
   {
    "duration": 14,
    "start_time": "2024-04-09T13:03:53.755Z"
   },
   {
    "duration": 25,
    "start_time": "2024-04-09T13:09:49.956Z"
   },
   {
    "duration": 15,
    "start_time": "2024-04-09T13:10:49.386Z"
   },
   {
    "duration": 14,
    "start_time": "2024-04-09T13:10:57.782Z"
   },
   {
    "duration": 11,
    "start_time": "2024-04-09T13:10:59.974Z"
   },
   {
    "duration": 13,
    "start_time": "2024-04-09T13:11:08.579Z"
   },
   {
    "duration": 576,
    "start_time": "2024-04-09T16:17:33.613Z"
   },
   {
    "duration": 18,
    "start_time": "2024-04-09T16:17:34.191Z"
   },
   {
    "duration": 20,
    "start_time": "2024-04-09T16:17:34.210Z"
   },
   {
    "duration": 8,
    "start_time": "2024-04-09T16:17:34.232Z"
   },
   {
    "duration": 27,
    "start_time": "2024-04-09T16:17:34.241Z"
   },
   {
    "duration": 3,
    "start_time": "2024-04-09T16:17:34.270Z"
   },
   {
    "duration": 16,
    "start_time": "2024-04-09T16:17:34.274Z"
   },
   {
    "duration": 4,
    "start_time": "2024-04-09T16:17:34.291Z"
   },
   {
    "duration": 12,
    "start_time": "2024-04-09T16:17:34.296Z"
   },
   {
    "duration": 18,
    "start_time": "2024-04-09T16:17:34.311Z"
   },
   {
    "duration": 26,
    "start_time": "2024-04-09T16:17:34.331Z"
   },
   {
    "duration": 8,
    "start_time": "2024-04-09T16:17:34.359Z"
   },
   {
    "duration": 16,
    "start_time": "2024-04-09T16:17:34.368Z"
   },
   {
    "duration": 9,
    "start_time": "2024-04-09T16:17:34.386Z"
   },
   {
    "duration": 35,
    "start_time": "2024-04-09T16:17:34.396Z"
   },
   {
    "duration": 14,
    "start_time": "2024-04-09T16:17:34.432Z"
   },
   {
    "duration": 3,
    "start_time": "2024-04-09T16:17:34.448Z"
   },
   {
    "duration": 19,
    "start_time": "2024-04-09T16:17:34.452Z"
   },
   {
    "duration": 5,
    "start_time": "2024-04-09T16:17:34.472Z"
   },
   {
    "duration": 4,
    "start_time": "2024-04-09T16:17:34.479Z"
   },
   {
    "duration": 15,
    "start_time": "2024-04-09T16:17:34.484Z"
   },
   {
    "duration": 7,
    "start_time": "2024-04-09T16:17:34.501Z"
   },
   {
    "duration": 11,
    "start_time": "2024-04-09T16:17:34.509Z"
   },
   {
    "duration": 7,
    "start_time": "2024-04-09T16:17:34.522Z"
   },
   {
    "duration": 14,
    "start_time": "2024-04-09T16:17:34.531Z"
   },
   {
    "duration": 16,
    "start_time": "2024-04-09T16:17:34.546Z"
   },
   {
    "duration": 5,
    "start_time": "2024-04-09T16:17:34.563Z"
   },
   {
    "duration": 16,
    "start_time": "2024-04-09T16:17:34.571Z"
   },
   {
    "duration": 48,
    "start_time": "2024-04-09T16:17:34.588Z"
   },
   {
    "duration": 592,
    "start_time": "2024-04-10T08:29:01.324Z"
   },
   {
    "duration": 33,
    "start_time": "2024-04-10T08:29:01.918Z"
   },
   {
    "duration": 37,
    "start_time": "2024-04-10T08:29:01.953Z"
   },
   {
    "duration": 24,
    "start_time": "2024-04-10T08:29:01.992Z"
   },
   {
    "duration": 37,
    "start_time": "2024-04-10T08:29:02.018Z"
   },
   {
    "duration": 3,
    "start_time": "2024-04-10T08:29:02.057Z"
   },
   {
    "duration": 14,
    "start_time": "2024-04-10T08:29:02.062Z"
   },
   {
    "duration": 13,
    "start_time": "2024-04-10T08:29:02.081Z"
   },
   {
    "duration": 20,
    "start_time": "2024-04-10T08:29:02.096Z"
   },
   {
    "duration": 17,
    "start_time": "2024-04-10T08:29:02.117Z"
   },
   {
    "duration": 38,
    "start_time": "2024-04-10T08:29:02.136Z"
   },
   {
    "duration": 13,
    "start_time": "2024-04-10T08:29:02.175Z"
   },
   {
    "duration": 15,
    "start_time": "2024-04-10T08:29:02.190Z"
   },
   {
    "duration": 26,
    "start_time": "2024-04-10T08:29:02.209Z"
   },
   {
    "duration": 30,
    "start_time": "2024-04-10T08:29:02.237Z"
   },
   {
    "duration": 20,
    "start_time": "2024-04-10T08:29:02.268Z"
   },
   {
    "duration": 4,
    "start_time": "2024-04-10T08:29:02.290Z"
   },
   {
    "duration": 33,
    "start_time": "2024-04-10T08:29:02.295Z"
   },
   {
    "duration": 20,
    "start_time": "2024-04-10T08:29:02.329Z"
   },
   {
    "duration": 38,
    "start_time": "2024-04-10T08:29:02.351Z"
   },
   {
    "duration": 14,
    "start_time": "2024-04-10T08:29:02.391Z"
   },
   {
    "duration": 18,
    "start_time": "2024-04-10T08:29:02.406Z"
   },
   {
    "duration": 19,
    "start_time": "2024-04-10T08:29:02.426Z"
   },
   {
    "duration": 18,
    "start_time": "2024-04-10T08:29:02.446Z"
   },
   {
    "duration": 53,
    "start_time": "2024-04-10T08:29:02.466Z"
   },
   {
    "duration": 17,
    "start_time": "2024-04-10T08:29:02.520Z"
   },
   {
    "duration": 12,
    "start_time": "2024-04-10T08:29:02.539Z"
   },
   {
    "duration": 37,
    "start_time": "2024-04-10T08:29:02.552Z"
   },
   {
    "duration": 37,
    "start_time": "2024-04-10T08:29:02.591Z"
   },
   {
    "duration": 3,
    "start_time": "2024-04-10T08:31:39.820Z"
   },
   {
    "duration": 13,
    "start_time": "2024-04-10T08:31:41.896Z"
   },
   {
    "duration": 11,
    "start_time": "2024-04-10T08:32:36.261Z"
   },
   {
    "duration": 13,
    "start_time": "2024-04-10T08:32:38.301Z"
   },
   {
    "duration": 3,
    "start_time": "2024-04-10T08:34:35.443Z"
   },
   {
    "duration": 9,
    "start_time": "2024-04-10T08:34:36.048Z"
   },
   {
    "duration": 13,
    "start_time": "2024-04-10T08:35:03.567Z"
   },
   {
    "duration": 9,
    "start_time": "2024-04-10T08:35:12.998Z"
   },
   {
    "duration": 13,
    "start_time": "2024-04-10T08:35:15.449Z"
   },
   {
    "duration": 82,
    "start_time": "2024-04-10T08:35:33.742Z"
   },
   {
    "duration": 15,
    "start_time": "2024-04-10T08:35:33.826Z"
   },
   {
    "duration": 20,
    "start_time": "2024-04-10T08:35:33.843Z"
   },
   {
    "duration": 22,
    "start_time": "2024-04-10T08:35:33.864Z"
   },
   {
    "duration": 44,
    "start_time": "2024-04-10T08:35:33.888Z"
   },
   {
    "duration": 3,
    "start_time": "2024-04-10T08:35:33.933Z"
   },
   {
    "duration": 8,
    "start_time": "2024-04-10T08:35:33.938Z"
   },
   {
    "duration": 36,
    "start_time": "2024-04-10T08:35:33.948Z"
   },
   {
    "duration": 9,
    "start_time": "2024-04-10T08:35:33.985Z"
   },
   {
    "duration": 12,
    "start_time": "2024-04-10T08:35:33.996Z"
   },
   {
    "duration": 39,
    "start_time": "2024-04-10T08:35:34.009Z"
   },
   {
    "duration": 11,
    "start_time": "2024-04-10T08:35:34.050Z"
   },
   {
    "duration": 21,
    "start_time": "2024-04-10T08:35:34.063Z"
   },
   {
    "duration": 12,
    "start_time": "2024-04-10T08:35:34.088Z"
   },
   {
    "duration": 24,
    "start_time": "2024-04-10T08:35:34.102Z"
   },
   {
    "duration": 18,
    "start_time": "2024-04-10T08:35:34.127Z"
   },
   {
    "duration": 3,
    "start_time": "2024-04-10T08:35:34.146Z"
   },
   {
    "duration": 34,
    "start_time": "2024-04-10T08:35:34.151Z"
   },
   {
    "duration": 9,
    "start_time": "2024-04-10T08:35:34.186Z"
   },
   {
    "duration": 11,
    "start_time": "2024-04-10T08:35:34.197Z"
   },
   {
    "duration": 13,
    "start_time": "2024-04-10T08:35:34.209Z"
   },
   {
    "duration": 10,
    "start_time": "2024-04-10T08:35:34.223Z"
   },
   {
    "duration": 19,
    "start_time": "2024-04-10T08:35:34.234Z"
   },
   {
    "duration": 29,
    "start_time": "2024-04-10T08:35:34.255Z"
   },
   {
    "duration": 21,
    "start_time": "2024-04-10T08:35:34.286Z"
   },
   {
    "duration": 10,
    "start_time": "2024-04-10T08:35:34.308Z"
   },
   {
    "duration": 8,
    "start_time": "2024-04-10T08:35:34.319Z"
   },
   {
    "duration": 12,
    "start_time": "2024-04-10T08:35:34.328Z"
   },
   {
    "duration": 51,
    "start_time": "2024-04-10T08:35:34.342Z"
   },
   {
    "duration": 109,
    "start_time": "2024-04-10T08:38:32.457Z"
   },
   {
    "duration": 31,
    "start_time": "2024-04-10T08:38:32.568Z"
   },
   {
    "duration": 29,
    "start_time": "2024-04-10T08:38:32.601Z"
   },
   {
    "duration": 11,
    "start_time": "2024-04-10T08:38:32.633Z"
   },
   {
    "duration": 60,
    "start_time": "2024-04-10T08:38:32.646Z"
   },
   {
    "duration": 3,
    "start_time": "2024-04-10T08:38:32.708Z"
   },
   {
    "duration": 10,
    "start_time": "2024-04-10T08:38:32.713Z"
   },
   {
    "duration": 5,
    "start_time": "2024-04-10T08:38:32.724Z"
   },
   {
    "duration": 5,
    "start_time": "2024-04-10T08:38:32.730Z"
   },
   {
    "duration": 17,
    "start_time": "2024-04-10T08:38:32.737Z"
   },
   {
    "duration": 56,
    "start_time": "2024-04-10T08:38:32.756Z"
   },
   {
    "duration": 11,
    "start_time": "2024-04-10T08:38:32.814Z"
   },
   {
    "duration": 14,
    "start_time": "2024-04-10T08:38:32.826Z"
   },
   {
    "duration": 15,
    "start_time": "2024-04-10T08:38:32.843Z"
   },
   {
    "duration": 29,
    "start_time": "2024-04-10T08:38:32.860Z"
   },
   {
    "duration": 18,
    "start_time": "2024-04-10T08:38:32.891Z"
   },
   {
    "duration": 4,
    "start_time": "2024-04-10T08:38:32.910Z"
   },
   {
    "duration": 10,
    "start_time": "2024-04-10T08:38:32.915Z"
   },
   {
    "duration": 5,
    "start_time": "2024-04-10T08:38:32.927Z"
   },
   {
    "duration": 3,
    "start_time": "2024-04-10T08:38:32.934Z"
   },
   {
    "duration": 43,
    "start_time": "2024-04-10T08:38:32.939Z"
   },
   {
    "duration": 9,
    "start_time": "2024-04-10T08:38:32.984Z"
   },
   {
    "duration": 13,
    "start_time": "2024-04-10T08:38:32.995Z"
   },
   {
    "duration": 9,
    "start_time": "2024-04-10T08:38:33.010Z"
   },
   {
    "duration": 14,
    "start_time": "2024-04-10T08:38:33.021Z"
   },
   {
    "duration": 10,
    "start_time": "2024-04-10T08:38:33.036Z"
   },
   {
    "duration": 39,
    "start_time": "2024-04-10T08:38:33.048Z"
   },
   {
    "duration": 12,
    "start_time": "2024-04-10T08:38:33.088Z"
   },
   {
    "duration": 21,
    "start_time": "2024-04-10T08:38:33.102Z"
   },
   {
    "duration": 78,
    "start_time": "2024-04-10T08:40:49.804Z"
   },
   {
    "duration": 20,
    "start_time": "2024-04-10T08:40:49.884Z"
   },
   {
    "duration": 24,
    "start_time": "2024-04-10T08:40:49.905Z"
   },
   {
    "duration": 11,
    "start_time": "2024-04-10T08:40:49.930Z"
   },
   {
    "duration": 65,
    "start_time": "2024-04-10T08:40:49.944Z"
   },
   {
    "duration": 4,
    "start_time": "2024-04-10T08:40:50.011Z"
   },
   {
    "duration": 10,
    "start_time": "2024-04-10T08:40:50.017Z"
   },
   {
    "duration": 14,
    "start_time": "2024-04-10T08:40:50.029Z"
   },
   {
    "duration": 22,
    "start_time": "2024-04-10T08:40:50.045Z"
   },
   {
    "duration": 8,
    "start_time": "2024-04-10T08:40:50.069Z"
   },
   {
    "duration": 39,
    "start_time": "2024-04-10T08:40:50.082Z"
   },
   {
    "duration": 10,
    "start_time": "2024-04-10T08:40:50.123Z"
   },
   {
    "duration": 15,
    "start_time": "2024-04-10T08:40:50.135Z"
   },
   {
    "duration": 22,
    "start_time": "2024-04-10T08:40:50.153Z"
   },
   {
    "duration": 27,
    "start_time": "2024-04-10T08:40:50.176Z"
   },
   {
    "duration": 19,
    "start_time": "2024-04-10T08:40:50.204Z"
   },
   {
    "duration": 4,
    "start_time": "2024-04-10T08:40:50.224Z"
   },
   {
    "duration": 24,
    "start_time": "2024-04-10T08:40:50.229Z"
   },
   {
    "duration": 12,
    "start_time": "2024-04-10T08:40:50.254Z"
   },
   {
    "duration": 6,
    "start_time": "2024-04-10T08:40:50.267Z"
   },
   {
    "duration": 17,
    "start_time": "2024-04-10T08:40:50.274Z"
   },
   {
    "duration": 12,
    "start_time": "2024-04-10T08:40:50.292Z"
   },
   {
    "duration": 33,
    "start_time": "2024-04-10T08:40:50.305Z"
   },
   {
    "duration": 18,
    "start_time": "2024-04-10T08:40:50.339Z"
   },
   {
    "duration": 14,
    "start_time": "2024-04-10T08:40:50.359Z"
   },
   {
    "duration": 15,
    "start_time": "2024-04-10T08:40:50.375Z"
   },
   {
    "duration": 8,
    "start_time": "2024-04-10T08:40:50.391Z"
   },
   {
    "duration": 12,
    "start_time": "2024-04-10T08:40:50.400Z"
   },
   {
    "duration": 17,
    "start_time": "2024-04-10T08:40:50.414Z"
   },
   {
    "duration": 12,
    "start_time": "2024-04-10T08:42:33.538Z"
   },
   {
    "duration": 23,
    "start_time": "2024-04-10T11:05:18.706Z"
   },
   {
    "duration": 60,
    "start_time": "2024-04-10T11:20:29.453Z"
   },
   {
    "duration": 80,
    "start_time": "2024-04-10T11:42:31.262Z"
   },
   {
    "duration": 36,
    "start_time": "2024-04-10T11:42:31.344Z"
   },
   {
    "duration": 48,
    "start_time": "2024-04-10T11:42:31.382Z"
   },
   {
    "duration": 47,
    "start_time": "2024-04-10T11:42:31.432Z"
   },
   {
    "duration": 83,
    "start_time": "2024-04-10T11:42:31.481Z"
   },
   {
    "duration": 7,
    "start_time": "2024-04-10T11:42:31.566Z"
   },
   {
    "duration": 48,
    "start_time": "2024-04-10T11:42:31.575Z"
   },
   {
    "duration": 54,
    "start_time": "2024-04-10T11:42:31.625Z"
   },
   {
    "duration": 54,
    "start_time": "2024-04-10T11:42:31.681Z"
   },
   {
    "duration": 53,
    "start_time": "2024-04-10T11:42:31.737Z"
   },
   {
    "duration": 59,
    "start_time": "2024-04-10T11:42:31.791Z"
   },
   {
    "duration": 11,
    "start_time": "2024-04-10T11:42:31.852Z"
   },
   {
    "duration": 28,
    "start_time": "2024-04-10T11:42:31.865Z"
   },
   {
    "duration": 36,
    "start_time": "2024-04-10T11:42:31.896Z"
   },
   {
    "duration": 32,
    "start_time": "2024-04-10T11:42:31.933Z"
   },
   {
    "duration": 22,
    "start_time": "2024-04-10T11:42:31.967Z"
   },
   {
    "duration": 31,
    "start_time": "2024-04-10T11:42:31.991Z"
   },
   {
    "duration": 24,
    "start_time": "2024-04-10T11:42:32.024Z"
   },
   {
    "duration": 13,
    "start_time": "2024-04-10T11:42:32.050Z"
   },
   {
    "duration": 9,
    "start_time": "2024-04-10T11:42:32.065Z"
   },
   {
    "duration": 17,
    "start_time": "2024-04-10T11:42:32.076Z"
   },
   {
    "duration": 15,
    "start_time": "2024-04-10T11:42:32.094Z"
   },
   {
    "duration": 16,
    "start_time": "2024-04-10T11:42:32.111Z"
   },
   {
    "duration": 30,
    "start_time": "2024-04-10T11:42:32.128Z"
   },
   {
    "duration": 16,
    "start_time": "2024-04-10T11:42:32.160Z"
   },
   {
    "duration": 16,
    "start_time": "2024-04-10T11:42:32.177Z"
   },
   {
    "duration": 23,
    "start_time": "2024-04-10T11:42:32.194Z"
   },
   {
    "duration": 25,
    "start_time": "2024-04-10T11:42:32.219Z"
   },
   {
    "duration": 61,
    "start_time": "2024-04-10T11:42:32.246Z"
   },
   {
    "duration": 472,
    "start_time": "2024-04-10T18:05:56.980Z"
   },
   {
    "duration": 23,
    "start_time": "2024-04-10T18:05:57.453Z"
   },
   {
    "duration": 17,
    "start_time": "2024-04-10T18:05:57.478Z"
   },
   {
    "duration": 31,
    "start_time": "2024-04-10T18:05:57.497Z"
   },
   {
    "duration": 47,
    "start_time": "2024-04-10T18:05:57.530Z"
   },
   {
    "duration": 3,
    "start_time": "2024-04-10T18:05:57.579Z"
   },
   {
    "duration": 11,
    "start_time": "2024-04-10T18:05:57.583Z"
   },
   {
    "duration": 15,
    "start_time": "2024-04-10T18:05:57.619Z"
   },
   {
    "duration": 29,
    "start_time": "2024-04-10T18:05:57.636Z"
   },
   {
    "duration": 27,
    "start_time": "2024-04-10T18:05:57.668Z"
   },
   {
    "duration": 38,
    "start_time": "2024-04-10T18:05:57.696Z"
   },
   {
    "duration": 10,
    "start_time": "2024-04-10T18:05:57.735Z"
   },
   {
    "duration": 13,
    "start_time": "2024-04-10T18:05:57.747Z"
   },
   {
    "duration": 12,
    "start_time": "2024-04-10T18:05:57.761Z"
   },
   {
    "duration": 21,
    "start_time": "2024-04-10T18:05:57.774Z"
   },
   {
    "duration": 29,
    "start_time": "2024-04-10T18:05:57.796Z"
   },
   {
    "duration": 3,
    "start_time": "2024-04-10T18:05:57.826Z"
   },
   {
    "duration": 11,
    "start_time": "2024-04-10T18:05:57.831Z"
   },
   {
    "duration": 11,
    "start_time": "2024-04-10T18:05:57.844Z"
   },
   {
    "duration": 3,
    "start_time": "2024-04-10T18:05:57.857Z"
   },
   {
    "duration": 25,
    "start_time": "2024-04-10T18:05:57.861Z"
   },
   {
    "duration": 19,
    "start_time": "2024-04-10T18:05:57.888Z"
   },
   {
    "duration": 18,
    "start_time": "2024-04-10T18:05:57.909Z"
   },
   {
    "duration": 22,
    "start_time": "2024-04-10T18:05:57.929Z"
   },
   {
    "duration": 13,
    "start_time": "2024-04-10T18:05:57.953Z"
   },
   {
    "duration": 10,
    "start_time": "2024-04-10T18:05:57.968Z"
   },
   {
    "duration": 8,
    "start_time": "2024-04-10T18:05:57.980Z"
   },
   {
    "duration": 33,
    "start_time": "2024-04-10T18:05:57.991Z"
   },
   {
    "duration": 29,
    "start_time": "2024-04-10T18:05:58.027Z"
   }
  ],
  "colab": {
   "provenance": []
  },
  "kernelspec": {
   "display_name": "Python 3 (ipykernel)",
   "language": "python",
   "name": "python3"
  },
  "language_info": {
   "codemirror_mode": {
    "name": "ipython",
    "version": 3
   },
   "file_extension": ".py",
   "mimetype": "text/x-python",
   "name": "python",
   "nbconvert_exporter": "python",
   "pygments_lexer": "ipython3",
   "version": "3.11.8"
  },
  "toc": {
   "base_numbering": 1,
   "nav_menu": {},
   "number_sections": true,
   "sideBar": true,
   "skip_h1_title": true,
   "title_cell": "Table of Contents",
   "title_sidebar": "Contents",
   "toc_cell": false,
   "toc_position": {
    "height": "calc(100% - 180px)",
    "left": "10px",
    "top": "150px",
    "width": "296.086px"
   },
   "toc_section_display": true,
   "toc_window_display": false
  }
 },
 "nbformat": 4,
 "nbformat_minor": 5
}
