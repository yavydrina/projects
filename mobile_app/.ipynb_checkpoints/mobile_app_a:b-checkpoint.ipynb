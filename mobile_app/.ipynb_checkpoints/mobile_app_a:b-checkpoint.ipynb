{
 "cells": [
  {
   "cell_type": "markdown",
   "id": "190c7102",
   "metadata": {
    "toc": true
   },
   "source": [
    "<h1>Table of Contents<span class=\"tocSkip\"></span></h1>\n",
    "<div class=\"toc\"><ul class=\"toc-item\"><li><span><a href=\"#Загрузка-и-предподоготовка-данных\" data-toc-modified-id=\"Загрузка-и-предподоготовка-данных-1\"><span class=\"toc-item-num\">1&nbsp;&nbsp;</span>Загрузка и предподоготовка данных</a></span><ul class=\"toc-item\"><li><span><a href=\"#Загрузка-файлов\" data-toc-modified-id=\"Загрузка-файлов-1.1\"><span class=\"toc-item-num\">1.1&nbsp;&nbsp;</span>Загрузка файлов</a></span></li><li><span><a href=\"#Предподготовка-данных\" data-toc-modified-id=\"Предподготовка-данных-1.2\"><span class=\"toc-item-num\">1.2&nbsp;&nbsp;</span>Предподготовка данных</a></span></li></ul></li><li><span><a href=\"#Анализ-данных\" data-toc-modified-id=\"Анализ-данных-2\"><span class=\"toc-item-num\">2&nbsp;&nbsp;</span>Анализ данных</a></span></li><li><span><a href=\"#Анализ-воронки-событий\" data-toc-modified-id=\"Анализ-воронки-событий-3\"><span class=\"toc-item-num\">3&nbsp;&nbsp;</span>Анализ воронки событий</a></span><ul class=\"toc-item\"><li><span><a href=\"#События\" data-toc-modified-id=\"События-3.1\"><span class=\"toc-item-num\">3.1&nbsp;&nbsp;</span>События</a></span></li><li><span><a href=\"#События-по-числу-пользователей\" data-toc-modified-id=\"События-по-числу-пользователей-3.2\"><span class=\"toc-item-num\">3.2&nbsp;&nbsp;</span>События по числу пользователей</a></span></li><li><span><a href=\"#Доля-пользователей,-переходящая-на-следующий-шаг-воронки\" data-toc-modified-id=\"Доля-пользователей,-переходящая-на-следующий-шаг-воронки-3.3\"><span class=\"toc-item-num\">3.3&nbsp;&nbsp;</span>Доля пользователей, переходящая на следующий шаг воронки</a></span></li><li><span><a href=\"#Пользователи,-проходящие-от-первого-события-до-оплаты\" data-toc-modified-id=\"Пользователи,-проходящие-от-первого-события-до-оплаты-3.4\"><span class=\"toc-item-num\">3.4&nbsp;&nbsp;</span>Пользователи, проходящие от первого события до оплаты</a></span></li></ul></li><li><span><a href=\"#Результаты-эксперимента\" data-toc-modified-id=\"Результаты-эксперимента-4\"><span class=\"toc-item-num\">4&nbsp;&nbsp;</span>Результаты эксперимента</a></span><ul class=\"toc-item\"><li><span><a href=\"#Количество-пользователей-в-каждой-экспериментальной-группе\" data-toc-modified-id=\"Количество-пользователей-в-каждой-экспериментальной-группе-4.1\"><span class=\"toc-item-num\">4.1&nbsp;&nbsp;</span>Количество пользователей в каждой экспериментальной группе</a></span></li><li><span><a href=\"#Статистическая-значимость-различий-между-выборками-246-и-247--для-А/А-эксперимента\" data-toc-modified-id=\"Статистическая-значимость-различий-между-выборками-246-и-247--для-А/А-эксперимента-4.2\"><span class=\"toc-item-num\">4.2&nbsp;&nbsp;</span>Статистическая значимость различий между выборками 246 и 247  для А/А-эксперимента</a></span></li><li><span><a href=\"#A/B-тест\" data-toc-modified-id=\"A/B-тест-4.3\"><span class=\"toc-item-num\">4.3&nbsp;&nbsp;</span>A/B-тест</a></span></li></ul></li></ul></div>"
   ]
  },
  {
   "cell_type": "markdown",
   "id": "a44b9d5e",
   "metadata": {},
   "source": [
    "# Анализ поведения пользователей в мобильном приложении\n",
    "\n",
    "**Цель проекта:**\n",
    "Разобраться, как ведут себя пользователи вашего мобильного приложения. \n",
    "\n",
    "Для достижения этой цели, необходимо решить следующие **задачи:**\n",
    "- Изучить воронку продаж. Узнать, как пользователи доходят до покупки. Сколько пользователей доходит до покупки. Сколько пользователей доходит до покупки, а сколько — «застревает» на предыдущих шагах? На каких именно?\n",
    "- Исследовать результаты A/A/B-эксперимента. Пользователей разбили на 3 группы: 2 контрольные со старыми шрифтами и одну экспериментальную — с новыми. \n",
    "\n",
    "**План проекта:**\n",
    "1. Загрузка и предподоготовка данных\n",
    "2. Анализ данных\n",
    "3. Анализ воронки событий\n",
    "4. Изучение результатов эксперимента: \n",
    "- A/A-тест;\n",
    "- A1/B-тест;\n",
    "- A2/B-тест;\n",
    "- A1+2/B-тест"
   ]
  },
  {
   "cell_type": "markdown",
   "id": "b49ee1b4",
   "metadata": {},
   "source": [
    "## Загрузка и предподоготовка данных"
   ]
  },
  {
   "cell_type": "code",
   "execution_count": 1,
   "id": "1e03f325",
   "metadata": {},
   "outputs": [],
   "source": [
    "import pandas as pd\n",
    "import numpy as np\n",
    "from datetime import datetime, timedelta\n",
    "from matplotlib import pyplot as plt\n",
    "import matplotlib\n",
    "import scipy.stats as stats\n",
    "import math as mth\n",
    "from scipy import stats as st\n",
    "import seaborn as sns  \n",
    "import plotly.express as px"
   ]
  },
  {
   "cell_type": "markdown",
   "id": "618bd808",
   "metadata": {},
   "source": [
    "### Загрузка файлов"
   ]
  },
  {
   "cell_type": "code",
   "execution_count": 2,
   "id": "7ee55cda",
   "metadata": {},
   "outputs": [
    {
     "ename": "FileNotFoundError",
     "evalue": "[Errno 2] No such file or directory: 'logs_exp.csv'",
     "output_type": "error",
     "traceback": [
      "\u001b[0;31m---------------------------------------------------------------------------\u001b[0m",
      "\u001b[0;31mFileNotFoundError\u001b[0m                         Traceback (most recent call last)",
      "Cell \u001b[0;32mIn[2], line 2\u001b[0m\n\u001b[1;32m      1\u001b[0m \u001b[38;5;28;01mtry\u001b[39;00m:\n\u001b[0;32m----> 2\u001b[0m     logs \u001b[38;5;241m=\u001b[39m pd\u001b[38;5;241m.\u001b[39mread_csv(\u001b[38;5;124m'\u001b[39m\u001b[38;5;124m/datasets/logs_exp.csv\u001b[39m\u001b[38;5;124m'\u001b[39m, sep\u001b[38;5;241m=\u001b[39m\u001b[38;5;124m'\u001b[39m\u001b[38;5;130;01m\\t\u001b[39;00m\u001b[38;5;124m'\u001b[39m)\n\u001b[1;32m      3\u001b[0m \u001b[38;5;28;01mexcept\u001b[39;00m:\n",
      "File \u001b[0;32m/opt/anaconda3/lib/python3.11/site-packages/pandas/io/parsers/readers.py:948\u001b[0m, in \u001b[0;36mread_csv\u001b[0;34m(filepath_or_buffer, sep, delimiter, header, names, index_col, usecols, dtype, engine, converters, true_values, false_values, skipinitialspace, skiprows, skipfooter, nrows, na_values, keep_default_na, na_filter, verbose, skip_blank_lines, parse_dates, infer_datetime_format, keep_date_col, date_parser, date_format, dayfirst, cache_dates, iterator, chunksize, compression, thousands, decimal, lineterminator, quotechar, quoting, doublequote, escapechar, comment, encoding, encoding_errors, dialect, on_bad_lines, delim_whitespace, low_memory, memory_map, float_precision, storage_options, dtype_backend)\u001b[0m\n\u001b[1;32m    946\u001b[0m kwds\u001b[38;5;241m.\u001b[39mupdate(kwds_defaults)\n\u001b[0;32m--> 948\u001b[0m \u001b[38;5;28;01mreturn\u001b[39;00m _read(filepath_or_buffer, kwds)\n",
      "File \u001b[0;32m/opt/anaconda3/lib/python3.11/site-packages/pandas/io/parsers/readers.py:611\u001b[0m, in \u001b[0;36m_read\u001b[0;34m(filepath_or_buffer, kwds)\u001b[0m\n\u001b[1;32m    610\u001b[0m \u001b[38;5;66;03m# Create the parser.\u001b[39;00m\n\u001b[0;32m--> 611\u001b[0m parser \u001b[38;5;241m=\u001b[39m TextFileReader(filepath_or_buffer, \u001b[38;5;241m*\u001b[39m\u001b[38;5;241m*\u001b[39mkwds)\n\u001b[1;32m    613\u001b[0m \u001b[38;5;28;01mif\u001b[39;00m chunksize \u001b[38;5;129;01mor\u001b[39;00m iterator:\n",
      "File \u001b[0;32m/opt/anaconda3/lib/python3.11/site-packages/pandas/io/parsers/readers.py:1448\u001b[0m, in \u001b[0;36mTextFileReader.__init__\u001b[0;34m(self, f, engine, **kwds)\u001b[0m\n\u001b[1;32m   1447\u001b[0m \u001b[38;5;28mself\u001b[39m\u001b[38;5;241m.\u001b[39mhandles: IOHandles \u001b[38;5;241m|\u001b[39m \u001b[38;5;28;01mNone\u001b[39;00m \u001b[38;5;241m=\u001b[39m \u001b[38;5;28;01mNone\u001b[39;00m\n\u001b[0;32m-> 1448\u001b[0m \u001b[38;5;28mself\u001b[39m\u001b[38;5;241m.\u001b[39m_engine \u001b[38;5;241m=\u001b[39m \u001b[38;5;28mself\u001b[39m\u001b[38;5;241m.\u001b[39m_make_engine(f, \u001b[38;5;28mself\u001b[39m\u001b[38;5;241m.\u001b[39mengine)\n",
      "File \u001b[0;32m/opt/anaconda3/lib/python3.11/site-packages/pandas/io/parsers/readers.py:1705\u001b[0m, in \u001b[0;36mTextFileReader._make_engine\u001b[0;34m(self, f, engine)\u001b[0m\n\u001b[1;32m   1704\u001b[0m         mode \u001b[38;5;241m+\u001b[39m\u001b[38;5;241m=\u001b[39m \u001b[38;5;124m\"\u001b[39m\u001b[38;5;124mb\u001b[39m\u001b[38;5;124m\"\u001b[39m\n\u001b[0;32m-> 1705\u001b[0m \u001b[38;5;28mself\u001b[39m\u001b[38;5;241m.\u001b[39mhandles \u001b[38;5;241m=\u001b[39m get_handle(\n\u001b[1;32m   1706\u001b[0m     f,\n\u001b[1;32m   1707\u001b[0m     mode,\n\u001b[1;32m   1708\u001b[0m     encoding\u001b[38;5;241m=\u001b[39m\u001b[38;5;28mself\u001b[39m\u001b[38;5;241m.\u001b[39moptions\u001b[38;5;241m.\u001b[39mget(\u001b[38;5;124m\"\u001b[39m\u001b[38;5;124mencoding\u001b[39m\u001b[38;5;124m\"\u001b[39m, \u001b[38;5;28;01mNone\u001b[39;00m),\n\u001b[1;32m   1709\u001b[0m     compression\u001b[38;5;241m=\u001b[39m\u001b[38;5;28mself\u001b[39m\u001b[38;5;241m.\u001b[39moptions\u001b[38;5;241m.\u001b[39mget(\u001b[38;5;124m\"\u001b[39m\u001b[38;5;124mcompression\u001b[39m\u001b[38;5;124m\"\u001b[39m, \u001b[38;5;28;01mNone\u001b[39;00m),\n\u001b[1;32m   1710\u001b[0m     memory_map\u001b[38;5;241m=\u001b[39m\u001b[38;5;28mself\u001b[39m\u001b[38;5;241m.\u001b[39moptions\u001b[38;5;241m.\u001b[39mget(\u001b[38;5;124m\"\u001b[39m\u001b[38;5;124mmemory_map\u001b[39m\u001b[38;5;124m\"\u001b[39m, \u001b[38;5;28;01mFalse\u001b[39;00m),\n\u001b[1;32m   1711\u001b[0m     is_text\u001b[38;5;241m=\u001b[39mis_text,\n\u001b[1;32m   1712\u001b[0m     errors\u001b[38;5;241m=\u001b[39m\u001b[38;5;28mself\u001b[39m\u001b[38;5;241m.\u001b[39moptions\u001b[38;5;241m.\u001b[39mget(\u001b[38;5;124m\"\u001b[39m\u001b[38;5;124mencoding_errors\u001b[39m\u001b[38;5;124m\"\u001b[39m, \u001b[38;5;124m\"\u001b[39m\u001b[38;5;124mstrict\u001b[39m\u001b[38;5;124m\"\u001b[39m),\n\u001b[1;32m   1713\u001b[0m     storage_options\u001b[38;5;241m=\u001b[39m\u001b[38;5;28mself\u001b[39m\u001b[38;5;241m.\u001b[39moptions\u001b[38;5;241m.\u001b[39mget(\u001b[38;5;124m\"\u001b[39m\u001b[38;5;124mstorage_options\u001b[39m\u001b[38;5;124m\"\u001b[39m, \u001b[38;5;28;01mNone\u001b[39;00m),\n\u001b[1;32m   1714\u001b[0m )\n\u001b[1;32m   1715\u001b[0m \u001b[38;5;28;01massert\u001b[39;00m \u001b[38;5;28mself\u001b[39m\u001b[38;5;241m.\u001b[39mhandles \u001b[38;5;129;01mis\u001b[39;00m \u001b[38;5;129;01mnot\u001b[39;00m \u001b[38;5;28;01mNone\u001b[39;00m\n",
      "File \u001b[0;32m/opt/anaconda3/lib/python3.11/site-packages/pandas/io/common.py:863\u001b[0m, in \u001b[0;36mget_handle\u001b[0;34m(path_or_buf, mode, encoding, compression, memory_map, is_text, errors, storage_options)\u001b[0m\n\u001b[1;32m    861\u001b[0m \u001b[38;5;28;01mif\u001b[39;00m ioargs\u001b[38;5;241m.\u001b[39mencoding \u001b[38;5;129;01mand\u001b[39;00m \u001b[38;5;124m\"\u001b[39m\u001b[38;5;124mb\u001b[39m\u001b[38;5;124m\"\u001b[39m \u001b[38;5;129;01mnot\u001b[39;00m \u001b[38;5;129;01min\u001b[39;00m ioargs\u001b[38;5;241m.\u001b[39mmode:\n\u001b[1;32m    862\u001b[0m     \u001b[38;5;66;03m# Encoding\u001b[39;00m\n\u001b[0;32m--> 863\u001b[0m     handle \u001b[38;5;241m=\u001b[39m \u001b[38;5;28mopen\u001b[39m(\n\u001b[1;32m    864\u001b[0m         handle,\n\u001b[1;32m    865\u001b[0m         ioargs\u001b[38;5;241m.\u001b[39mmode,\n\u001b[1;32m    866\u001b[0m         encoding\u001b[38;5;241m=\u001b[39mioargs\u001b[38;5;241m.\u001b[39mencoding,\n\u001b[1;32m    867\u001b[0m         errors\u001b[38;5;241m=\u001b[39merrors,\n\u001b[1;32m    868\u001b[0m         newline\u001b[38;5;241m=\u001b[39m\u001b[38;5;124m\"\u001b[39m\u001b[38;5;124m\"\u001b[39m,\n\u001b[1;32m    869\u001b[0m     )\n\u001b[1;32m    870\u001b[0m \u001b[38;5;28;01melse\u001b[39;00m:\n\u001b[1;32m    871\u001b[0m     \u001b[38;5;66;03m# Binary mode\u001b[39;00m\n",
      "\u001b[0;31mFileNotFoundError\u001b[0m: [Errno 2] No such file or directory: '/datasets/logs_exp.csv'",
      "\nDuring handling of the above exception, another exception occurred:\n",
      "\u001b[0;31mFileNotFoundError\u001b[0m                         Traceback (most recent call last)",
      "Cell \u001b[0;32mIn[2], line 4\u001b[0m\n\u001b[1;32m      2\u001b[0m     logs \u001b[38;5;241m=\u001b[39m pd\u001b[38;5;241m.\u001b[39mread_csv(\u001b[38;5;124m'\u001b[39m\u001b[38;5;124m/datasets/logs_exp.csv\u001b[39m\u001b[38;5;124m'\u001b[39m, sep\u001b[38;5;241m=\u001b[39m\u001b[38;5;124m'\u001b[39m\u001b[38;5;130;01m\\t\u001b[39;00m\u001b[38;5;124m'\u001b[39m)\n\u001b[1;32m      3\u001b[0m \u001b[38;5;28;01mexcept\u001b[39;00m:\n\u001b[0;32m----> 4\u001b[0m     logs \u001b[38;5;241m=\u001b[39m pd\u001b[38;5;241m.\u001b[39mread_csv(\u001b[38;5;124m'\u001b[39m\u001b[38;5;124mlogs_exp.csv\u001b[39m\u001b[38;5;124m'\u001b[39m, sep\u001b[38;5;241m=\u001b[39m\u001b[38;5;124m'\u001b[39m\u001b[38;5;130;01m\\t\u001b[39;00m\u001b[38;5;124m'\u001b[39m)\n",
      "File \u001b[0;32m/opt/anaconda3/lib/python3.11/site-packages/pandas/io/parsers/readers.py:948\u001b[0m, in \u001b[0;36mread_csv\u001b[0;34m(filepath_or_buffer, sep, delimiter, header, names, index_col, usecols, dtype, engine, converters, true_values, false_values, skipinitialspace, skiprows, skipfooter, nrows, na_values, keep_default_na, na_filter, verbose, skip_blank_lines, parse_dates, infer_datetime_format, keep_date_col, date_parser, date_format, dayfirst, cache_dates, iterator, chunksize, compression, thousands, decimal, lineterminator, quotechar, quoting, doublequote, escapechar, comment, encoding, encoding_errors, dialect, on_bad_lines, delim_whitespace, low_memory, memory_map, float_precision, storage_options, dtype_backend)\u001b[0m\n\u001b[1;32m    935\u001b[0m kwds_defaults \u001b[38;5;241m=\u001b[39m _refine_defaults_read(\n\u001b[1;32m    936\u001b[0m     dialect,\n\u001b[1;32m    937\u001b[0m     delimiter,\n\u001b[0;32m   (...)\u001b[0m\n\u001b[1;32m    944\u001b[0m     dtype_backend\u001b[38;5;241m=\u001b[39mdtype_backend,\n\u001b[1;32m    945\u001b[0m )\n\u001b[1;32m    946\u001b[0m kwds\u001b[38;5;241m.\u001b[39mupdate(kwds_defaults)\n\u001b[0;32m--> 948\u001b[0m \u001b[38;5;28;01mreturn\u001b[39;00m _read(filepath_or_buffer, kwds)\n",
      "File \u001b[0;32m/opt/anaconda3/lib/python3.11/site-packages/pandas/io/parsers/readers.py:611\u001b[0m, in \u001b[0;36m_read\u001b[0;34m(filepath_or_buffer, kwds)\u001b[0m\n\u001b[1;32m    608\u001b[0m _validate_names(kwds\u001b[38;5;241m.\u001b[39mget(\u001b[38;5;124m\"\u001b[39m\u001b[38;5;124mnames\u001b[39m\u001b[38;5;124m\"\u001b[39m, \u001b[38;5;28;01mNone\u001b[39;00m))\n\u001b[1;32m    610\u001b[0m \u001b[38;5;66;03m# Create the parser.\u001b[39;00m\n\u001b[0;32m--> 611\u001b[0m parser \u001b[38;5;241m=\u001b[39m TextFileReader(filepath_or_buffer, \u001b[38;5;241m*\u001b[39m\u001b[38;5;241m*\u001b[39mkwds)\n\u001b[1;32m    613\u001b[0m \u001b[38;5;28;01mif\u001b[39;00m chunksize \u001b[38;5;129;01mor\u001b[39;00m iterator:\n\u001b[1;32m    614\u001b[0m     \u001b[38;5;28;01mreturn\u001b[39;00m parser\n",
      "File \u001b[0;32m/opt/anaconda3/lib/python3.11/site-packages/pandas/io/parsers/readers.py:1448\u001b[0m, in \u001b[0;36mTextFileReader.__init__\u001b[0;34m(self, f, engine, **kwds)\u001b[0m\n\u001b[1;32m   1445\u001b[0m     \u001b[38;5;28mself\u001b[39m\u001b[38;5;241m.\u001b[39moptions[\u001b[38;5;124m\"\u001b[39m\u001b[38;5;124mhas_index_names\u001b[39m\u001b[38;5;124m\"\u001b[39m] \u001b[38;5;241m=\u001b[39m kwds[\u001b[38;5;124m\"\u001b[39m\u001b[38;5;124mhas_index_names\u001b[39m\u001b[38;5;124m\"\u001b[39m]\n\u001b[1;32m   1447\u001b[0m \u001b[38;5;28mself\u001b[39m\u001b[38;5;241m.\u001b[39mhandles: IOHandles \u001b[38;5;241m|\u001b[39m \u001b[38;5;28;01mNone\u001b[39;00m \u001b[38;5;241m=\u001b[39m \u001b[38;5;28;01mNone\u001b[39;00m\n\u001b[0;32m-> 1448\u001b[0m \u001b[38;5;28mself\u001b[39m\u001b[38;5;241m.\u001b[39m_engine \u001b[38;5;241m=\u001b[39m \u001b[38;5;28mself\u001b[39m\u001b[38;5;241m.\u001b[39m_make_engine(f, \u001b[38;5;28mself\u001b[39m\u001b[38;5;241m.\u001b[39mengine)\n",
      "File \u001b[0;32m/opt/anaconda3/lib/python3.11/site-packages/pandas/io/parsers/readers.py:1705\u001b[0m, in \u001b[0;36mTextFileReader._make_engine\u001b[0;34m(self, f, engine)\u001b[0m\n\u001b[1;32m   1703\u001b[0m     \u001b[38;5;28;01mif\u001b[39;00m \u001b[38;5;124m\"\u001b[39m\u001b[38;5;124mb\u001b[39m\u001b[38;5;124m\"\u001b[39m \u001b[38;5;129;01mnot\u001b[39;00m \u001b[38;5;129;01min\u001b[39;00m mode:\n\u001b[1;32m   1704\u001b[0m         mode \u001b[38;5;241m+\u001b[39m\u001b[38;5;241m=\u001b[39m \u001b[38;5;124m\"\u001b[39m\u001b[38;5;124mb\u001b[39m\u001b[38;5;124m\"\u001b[39m\n\u001b[0;32m-> 1705\u001b[0m \u001b[38;5;28mself\u001b[39m\u001b[38;5;241m.\u001b[39mhandles \u001b[38;5;241m=\u001b[39m get_handle(\n\u001b[1;32m   1706\u001b[0m     f,\n\u001b[1;32m   1707\u001b[0m     mode,\n\u001b[1;32m   1708\u001b[0m     encoding\u001b[38;5;241m=\u001b[39m\u001b[38;5;28mself\u001b[39m\u001b[38;5;241m.\u001b[39moptions\u001b[38;5;241m.\u001b[39mget(\u001b[38;5;124m\"\u001b[39m\u001b[38;5;124mencoding\u001b[39m\u001b[38;5;124m\"\u001b[39m, \u001b[38;5;28;01mNone\u001b[39;00m),\n\u001b[1;32m   1709\u001b[0m     compression\u001b[38;5;241m=\u001b[39m\u001b[38;5;28mself\u001b[39m\u001b[38;5;241m.\u001b[39moptions\u001b[38;5;241m.\u001b[39mget(\u001b[38;5;124m\"\u001b[39m\u001b[38;5;124mcompression\u001b[39m\u001b[38;5;124m\"\u001b[39m, \u001b[38;5;28;01mNone\u001b[39;00m),\n\u001b[1;32m   1710\u001b[0m     memory_map\u001b[38;5;241m=\u001b[39m\u001b[38;5;28mself\u001b[39m\u001b[38;5;241m.\u001b[39moptions\u001b[38;5;241m.\u001b[39mget(\u001b[38;5;124m\"\u001b[39m\u001b[38;5;124mmemory_map\u001b[39m\u001b[38;5;124m\"\u001b[39m, \u001b[38;5;28;01mFalse\u001b[39;00m),\n\u001b[1;32m   1711\u001b[0m     is_text\u001b[38;5;241m=\u001b[39mis_text,\n\u001b[1;32m   1712\u001b[0m     errors\u001b[38;5;241m=\u001b[39m\u001b[38;5;28mself\u001b[39m\u001b[38;5;241m.\u001b[39moptions\u001b[38;5;241m.\u001b[39mget(\u001b[38;5;124m\"\u001b[39m\u001b[38;5;124mencoding_errors\u001b[39m\u001b[38;5;124m\"\u001b[39m, \u001b[38;5;124m\"\u001b[39m\u001b[38;5;124mstrict\u001b[39m\u001b[38;5;124m\"\u001b[39m),\n\u001b[1;32m   1713\u001b[0m     storage_options\u001b[38;5;241m=\u001b[39m\u001b[38;5;28mself\u001b[39m\u001b[38;5;241m.\u001b[39moptions\u001b[38;5;241m.\u001b[39mget(\u001b[38;5;124m\"\u001b[39m\u001b[38;5;124mstorage_options\u001b[39m\u001b[38;5;124m\"\u001b[39m, \u001b[38;5;28;01mNone\u001b[39;00m),\n\u001b[1;32m   1714\u001b[0m )\n\u001b[1;32m   1715\u001b[0m \u001b[38;5;28;01massert\u001b[39;00m \u001b[38;5;28mself\u001b[39m\u001b[38;5;241m.\u001b[39mhandles \u001b[38;5;129;01mis\u001b[39;00m \u001b[38;5;129;01mnot\u001b[39;00m \u001b[38;5;28;01mNone\u001b[39;00m\n\u001b[1;32m   1716\u001b[0m f \u001b[38;5;241m=\u001b[39m \u001b[38;5;28mself\u001b[39m\u001b[38;5;241m.\u001b[39mhandles\u001b[38;5;241m.\u001b[39mhandle\n",
      "File \u001b[0;32m/opt/anaconda3/lib/python3.11/site-packages/pandas/io/common.py:863\u001b[0m, in \u001b[0;36mget_handle\u001b[0;34m(path_or_buf, mode, encoding, compression, memory_map, is_text, errors, storage_options)\u001b[0m\n\u001b[1;32m    858\u001b[0m \u001b[38;5;28;01melif\u001b[39;00m \u001b[38;5;28misinstance\u001b[39m(handle, \u001b[38;5;28mstr\u001b[39m):\n\u001b[1;32m    859\u001b[0m     \u001b[38;5;66;03m# Check whether the filename is to be opened in binary mode.\u001b[39;00m\n\u001b[1;32m    860\u001b[0m     \u001b[38;5;66;03m# Binary mode does not support 'encoding' and 'newline'.\u001b[39;00m\n\u001b[1;32m    861\u001b[0m     \u001b[38;5;28;01mif\u001b[39;00m ioargs\u001b[38;5;241m.\u001b[39mencoding \u001b[38;5;129;01mand\u001b[39;00m \u001b[38;5;124m\"\u001b[39m\u001b[38;5;124mb\u001b[39m\u001b[38;5;124m\"\u001b[39m \u001b[38;5;129;01mnot\u001b[39;00m \u001b[38;5;129;01min\u001b[39;00m ioargs\u001b[38;5;241m.\u001b[39mmode:\n\u001b[1;32m    862\u001b[0m         \u001b[38;5;66;03m# Encoding\u001b[39;00m\n\u001b[0;32m--> 863\u001b[0m         handle \u001b[38;5;241m=\u001b[39m \u001b[38;5;28mopen\u001b[39m(\n\u001b[1;32m    864\u001b[0m             handle,\n\u001b[1;32m    865\u001b[0m             ioargs\u001b[38;5;241m.\u001b[39mmode,\n\u001b[1;32m    866\u001b[0m             encoding\u001b[38;5;241m=\u001b[39mioargs\u001b[38;5;241m.\u001b[39mencoding,\n\u001b[1;32m    867\u001b[0m             errors\u001b[38;5;241m=\u001b[39merrors,\n\u001b[1;32m    868\u001b[0m             newline\u001b[38;5;241m=\u001b[39m\u001b[38;5;124m\"\u001b[39m\u001b[38;5;124m\"\u001b[39m,\n\u001b[1;32m    869\u001b[0m         )\n\u001b[1;32m    870\u001b[0m     \u001b[38;5;28;01melse\u001b[39;00m:\n\u001b[1;32m    871\u001b[0m         \u001b[38;5;66;03m# Binary mode\u001b[39;00m\n\u001b[1;32m    872\u001b[0m         handle \u001b[38;5;241m=\u001b[39m \u001b[38;5;28mopen\u001b[39m(handle, ioargs\u001b[38;5;241m.\u001b[39mmode)\n",
      "\u001b[0;31mFileNotFoundError\u001b[0m: [Errno 2] No such file or directory: 'logs_exp.csv'"
     ]
    }
   ],
   "source": [
    "try:\n",
    "    logs = pd.read_csv('/datasets/logs_exp.csv', sep='\\t')\n",
    "except:\n",
    "    logs = pd.read_csv('logs_exp.csv', sep='\\t')"
   ]
  },
  {
   "cell_type": "code",
   "execution_count": null,
   "id": "1abe492f",
   "metadata": {},
   "outputs": [],
   "source": [
    "logs.info()"
   ]
  },
  {
   "cell_type": "code",
   "execution_count": null,
   "id": "6cf0f31e",
   "metadata": {},
   "outputs": [],
   "source": [
    "logs.head()"
   ]
  },
  {
   "cell_type": "markdown",
   "id": "309d96ea",
   "metadata": {},
   "source": [
    "По данным видно следующее: нет пропущенных данных, один столбец с типом данных `object`, еще три `int64`, всего в датафрейме 244126 строк.\n",
    "\n",
    "Перед анализом необходимо провести следующую предобработку:\n",
    "- изменение названия столбцов;\n",
    "- проверить `EventName` на неявные дубликаты;\n",
    "- привести столбец `EventTimestamp` к типу данных `datetime`;\n",
    "- проверить на дубликаты."
   ]
  },
  {
   "cell_type": "markdown",
   "id": "9bf4baf8",
   "metadata": {},
   "source": [
    "### Предподготовка данных"
   ]
  },
  {
   "cell_type": "code",
   "execution_count": null,
   "id": "e51fb6f5",
   "metadata": {},
   "outputs": [],
   "source": [
    "# изменяем названия столбцов\n",
    "logs.columns = ['event', 'user_id', 'dt', 'exp_id']\n",
    "logs.info()"
   ]
  },
  {
   "cell_type": "markdown",
   "id": "033f3dc6",
   "metadata": {},
   "source": [
    "Посмотрим, какие события имеются в нашем датафрейме и нет ли неявных дубликатов"
   ]
  },
  {
   "cell_type": "code",
   "execution_count": null,
   "id": "6cec0c3f",
   "metadata": {},
   "outputs": [],
   "source": [
    "logs['event'].unique()"
   ]
  },
  {
   "cell_type": "markdown",
   "id": "f93cbe6b",
   "metadata": {},
   "source": [
    "С этим столбцов все в порядке, ничего не будем менять"
   ]
  },
  {
   "cell_type": "code",
   "execution_count": null,
   "id": "ce7b2596",
   "metadata": {},
   "outputs": [],
   "source": [
    "# изменим в столбце dt тип данных timestamp на datetime\n",
    "logs['dt'] = pd.to_datetime(logs['dt'], unit='s')\n",
    "logs.info()"
   ]
  },
  {
   "cell_type": "code",
   "execution_count": null,
   "id": "4f260c68",
   "metadata": {},
   "outputs": [],
   "source": [
    "# добавим столбец date\n",
    "logs['date'] = logs['dt'].dt.date\n",
    "logs.head()"
   ]
  },
  {
   "cell_type": "markdown",
   "id": "f5e28c98",
   "metadata": {},
   "source": [
    "Проверим датафрейм на дубликаты и удалим их при наличии"
   ]
  },
  {
   "cell_type": "code",
   "execution_count": null,
   "id": "54a89414",
   "metadata": {
    "scrolled": true
   },
   "outputs": [],
   "source": [
    "duplicates = logs.duplicated().sum()\n",
    "duplicates"
   ]
  },
  {
   "cell_type": "code",
   "execution_count": null,
   "id": "795928b4",
   "metadata": {},
   "outputs": [],
   "source": [
    "print('Дубликаты занимают', round(duplicates/len(logs['event']), 5)*100, '% от общего числа данных')"
   ]
  },
  {
   "cell_type": "code",
   "execution_count": null,
   "id": "f3f64248",
   "metadata": {},
   "outputs": [],
   "source": [
    "logs = logs.drop_duplicates()\n",
    "logs.duplicated().sum()"
   ]
  },
  {
   "cell_type": "markdown",
   "id": "0f231661",
   "metadata": {},
   "source": [
    "**Вывод по предобработке данных:**\n",
    "   \n",
    "   Были изменены названия столбцов, изменен тип данных для столбца с датой и временем, а также добавлен столбец с датой, удалено 413 дубликатов. Теперь данные готовы к анализу."
   ]
  },
  {
   "cell_type": "markdown",
   "id": "f2321261",
   "metadata": {},
   "source": [
    "## Анализ данных\n",
    "\n",
    "Определим количество событий в логе"
   ]
  },
  {
   "cell_type": "code",
   "execution_count": null,
   "id": "b918c3c4",
   "metadata": {},
   "outputs": [],
   "source": [
    "logs['event'].nunique()"
   ]
  },
  {
   "cell_type": "code",
   "execution_count": null,
   "id": "1ee5e9b6",
   "metadata": {},
   "outputs": [],
   "source": [
    "logs['event'].value_counts()"
   ]
  },
  {
   "cell_type": "markdown",
   "id": "6d4871e6",
   "metadata": {},
   "source": [
    "Всего в логе пять вариантов событий, перечислим их по убыванию: показ главного экрана, показ экрана с предложением, показ экрана с корзиной, оплата прошла успешно, обучение. Как мы видим, около трети пользователей, зашедших в приложение переходят на экран с предложением, из них не все переходят в корзину и при этом не все перешедшие в корзину оплачивают покупку.\n",
    "\n",
    "Теперь опередим количество пользователей в логе"
   ]
  },
  {
   "cell_type": "code",
   "execution_count": null,
   "id": "a52905ed",
   "metadata": {},
   "outputs": [],
   "source": [
    "print('Всего в логе', logs['user_id'].nunique(), 'пользователь')"
   ]
  },
  {
   "cell_type": "markdown",
   "id": "dea9b092",
   "metadata": {},
   "source": [
    "Определим, сколько в среднем событий приходится на пользователя"
   ]
  },
  {
   "cell_type": "code",
   "execution_count": null,
   "id": "3e595550",
   "metadata": {},
   "outputs": [],
   "source": [
    "print('В среднем на одного пользователя', round(len(logs['event'])/logs['user_id'].nunique()), 'события')"
   ]
  },
  {
   "cell_type": "code",
   "execution_count": null,
   "id": "167e8299",
   "metadata": {},
   "outputs": [],
   "source": [
    "# вычисляем количество событий для каждого уникального пользователя\n",
    "event_per_user = logs.groupby('user_id').agg({'event':'count'}).reset_index()\n",
    "event_per_user"
   ]
  },
  {
   "cell_type": "markdown",
   "id": "cc60c36f",
   "metadata": {},
   "source": [
    "Построим диаграмму размаха для определения аномальных пользователей, совершивших слишком большое количество событий."
   ]
  },
  {
   "cell_type": "code",
   "execution_count": null,
   "id": "80859e59",
   "metadata": {},
   "outputs": [],
   "source": [
    "plt.figure(figsize=(10, 6))\n",
    "plt.title('Диаграмма размаха количества событий')\n",
    "sns.boxplot(y='event', data=event_per_user).set(xlabel='', ylabel='Количество событий')\n",
    "plt.xticks(rotation= 45)\n",
    "plt.show()\n"
   ]
  },
  {
   "cell_type": "code",
   "execution_count": null,
   "id": "1a04ce29",
   "metadata": {},
   "outputs": [],
   "source": [
    "# определим 99 перцентиль методом np.percentile()\n",
    "np.percentile(event_per_user['event'],[99])"
   ]
  },
  {
   "cell_type": "markdown",
   "id": "10118905",
   "metadata": {},
   "source": [
    "График показывает много аномалий, а расчет 99 перцентиля показывает, что более 200 событий, совершенными одним пользователем считаются аномальными, поэтому от них необходимо избавиться."
   ]
  },
  {
   "cell_type": "code",
   "execution_count": null,
   "id": "70a5729b",
   "metadata": {},
   "outputs": [],
   "source": [
    "# получим список аномальных пользователей\n",
    "user_id_anomaly = list(event_per_user.query('event > 200')['user_id'])\n",
    "print('Всего', len(user_id_anomaly), 'аномальных пользователей')"
   ]
  },
  {
   "cell_type": "code",
   "execution_count": null,
   "id": "ecbebbe6",
   "metadata": {},
   "outputs": [],
   "source": [
    "# отфильтруем данные с аномальными пользователями\n",
    "logs_without_anomaly = logs.query('user_id not in @user_id_anomaly') \n",
    "# определим, много ли мы удалили\n",
    "shape_logs = logs.shape # получаем количество строк и столбцов в первоначальном датафрейме\n",
    "shape_logs_without_anomaly = logs_without_anomaly.shape # получаем количество строк и столбцов в отфильтрованном датафрейме\n",
    "\n",
    "shape_logs_without_anomaly[0] / shape_logs[0] # интересуют только строки"
   ]
  },
  {
   "cell_type": "markdown",
   "id": "b0e72daf",
   "metadata": {},
   "source": [
    "После фильрации осталось 86% данных"
   ]
  },
  {
   "cell_type": "code",
   "execution_count": null,
   "id": "0d6c1ad6",
   "metadata": {},
   "outputs": [],
   "source": [
    "print('После удаления аномалий в среднем на одного пользователя',\n",
    "      round(len(logs_without_anomaly['event'])/logs_without_anomaly['user_id'].nunique()),\n",
    "      'событий')"
   ]
  },
  {
   "cell_type": "code",
   "execution_count": null,
   "id": "60c15f7c",
   "metadata": {},
   "outputs": [],
   "source": [
    "logs_without_anomaly['date'].min(), logs_without_anomaly['date'].max()"
   ]
  },
  {
   "cell_type": "markdown",
   "id": "31f05e7e",
   "metadata": {},
   "source": [
    "Мы располагаем данными за период с 25 июля по 7 августа 2019 года"
   ]
  },
  {
   "cell_type": "code",
   "execution_count": null,
   "id": "8fc239fe",
   "metadata": {},
   "outputs": [],
   "source": [
    "logs_without_anomaly['date'].value_counts()"
   ]
  },
  {
   "cell_type": "code",
   "execution_count": null,
   "id": "37870fcb",
   "metadata": {},
   "outputs": [],
   "source": [
    "# улучшение качества графиков\n",
    "%config InlineBackend.figure_format = 'retina'"
   ]
  },
  {
   "cell_type": "code",
   "execution_count": null,
   "id": "af25f873",
   "metadata": {},
   "outputs": [],
   "source": [
    "matplotlib.style.use('ggplot') "
   ]
  },
  {
   "cell_type": "code",
   "execution_count": null,
   "id": "3138f4a0",
   "metadata": {},
   "outputs": [],
   "source": [
    "logs_without_anomaly.pivot_table(index='date', columns='exp_id', values='user_id', aggfunc='count')"
   ]
  },
  {
   "cell_type": "code",
   "execution_count": null,
   "id": "2400060d",
   "metadata": {},
   "outputs": [],
   "source": [
    "logs_without_anomaly.pivot_table(index='date', columns='exp_id', values='user_id', aggfunc='count').plot(kind='bar')\n",
    "plt.title('События в зависимости от даты')\n",
    "plt.xlabel('Дата')\n",
    "plt.ylabel('Количество событий')\n",
    "plt.show()"
   ]
  },
  {
   "cell_type": "markdown",
   "id": "83c7156f",
   "metadata": {},
   "source": [
    "Получается, что на самом деле мы располагаем данными с 1 по 8 августа данные, т.к. они наиболее полные, а все данные до этой даты можем отбросить."
   ]
  },
  {
   "cell_type": "code",
   "execution_count": null,
   "id": "71b070cc",
   "metadata": {},
   "outputs": [],
   "source": [
    "logs_without_anomaly['date'] = pd.to_datetime(logs['date'])\n",
    "logs_actual = logs_without_anomaly.query('date > \"2019-07-31\"')\n",
    "logs_actual['date'] = logs_actual['date'].dt.date\n",
    "logs_actual.pivot_table(index='date', columns='exp_id', values='user_id', aggfunc='count').plot(kind='bar')\n",
    "plt.grid(True)\n",
    "plt.xticks(rotation=90)\n",
    "plt.title('События в зависимости от даты')\n",
    "plt.xlabel('Дата')\n",
    "plt.ylabel('Количество событий')\n",
    "plt.show()"
   ]
  },
  {
   "cell_type": "markdown",
   "id": "7684e876",
   "metadata": {},
   "source": [
    "После фильтрации остались данные с 1 по 7 августа 2019 и в каждой исследуемой группе примерно одинаковое число пользователей."
   ]
  },
  {
   "cell_type": "markdown",
   "id": "bcfe8f83",
   "metadata": {},
   "source": [
    "Проверим, какая доля данных от начального числа осталась для исследования, используя DataFrame.shape"
   ]
  },
  {
   "cell_type": "code",
   "execution_count": null,
   "id": "14493067",
   "metadata": {},
   "outputs": [],
   "source": [
    "shape_data = logs.shape # получаем количество строк и столбцов в первоначальном датафрейме\n",
    "shape_data_opt = logs_actual.shape # получаем количество строк и столбцов в отфильтрованном датафрейме\n",
    "\n",
    "shape_data_opt[0] / shape_data[0] # интересуют только строки"
   ]
  },
  {
   "cell_type": "markdown",
   "id": "a50dbcc3",
   "metadata": {},
   "source": [
    "Получается, после фильтрации осталось 85% данных, поэтому это не вредит на актуальность исследуемых данных. Зато исследование будет более объективным."
   ]
  },
  {
   "cell_type": "code",
   "execution_count": null,
   "id": "77230b3f",
   "metadata": {},
   "outputs": [],
   "source": [
    "print('Было потеряно', shape_data[0] - shape_data_opt[0], 'событий из', shape_data[0])"
   ]
  },
  {
   "cell_type": "code",
   "execution_count": null,
   "id": "3cd4f1f7",
   "metadata": {},
   "outputs": [],
   "source": [
    "print(\n",
    "    'Было потеряно', \n",
    "    logs['user_id'].nunique() - logs_actual['user_id'].nunique(), \n",
    "    'пользователя из', logs['user_id'].nunique()\n",
    ")"
   ]
  },
  {
   "cell_type": "markdown",
   "id": "267dbb9f",
   "metadata": {},
   "source": [
    "Проверим, остались ли пользователи из всех трёх экспериментальных групп"
   ]
  },
  {
   "cell_type": "code",
   "execution_count": null,
   "id": "63294544",
   "metadata": {},
   "outputs": [],
   "source": [
    "logs_actual.groupby('exp_id').agg({'user_id': 'nunique'})"
   ]
  },
  {
   "cell_type": "markdown",
   "id": "ee7faeee",
   "metadata": {},
   "source": [
    "В каждой экспериментальной группе осталось примерно одинакое количество уникальных пользователей в районе 2500."
   ]
  },
  {
   "cell_type": "code",
   "execution_count": null,
   "id": "3949b6d7",
   "metadata": {
    "scrolled": true
   },
   "outputs": [],
   "source": [
    "users = logs_actual.pivot_table(index='dt', columns='exp_id', values='user_id', aggfunc='first')\n",
    "users.columns = [246, 247, 248]\n",
    "users"
   ]
  },
  {
   "cell_type": "code",
   "execution_count": null,
   "id": "28bf19a9",
   "metadata": {},
   "outputs": [],
   "source": [
    "dupl = []\n",
    "for i in range(0, len(users)):\n",
    "    if users[246][i] == users[247][i] or users[246][i] == users[248][i] or users[247][i] == users[248][i]:\n",
    "        dupl.append([i])\n",
    "print(dupl)"
   ]
  },
  {
   "cell_type": "code",
   "execution_count": null,
   "id": "3874a72b",
   "metadata": {},
   "outputs": [],
   "source": [
    "logs_actual.groupby('user_id')['exp_id'].nunique().reset_index().query('exp_id > 1')"
   ]
  },
  {
   "cell_type": "markdown",
   "id": "ffe84ea7",
   "metadata": {},
   "source": [
    "Список пустой, значит, нет пересечений в группах, следовательно, каждый пользователь только в одной группе."
   ]
  },
  {
   "cell_type": "markdown",
   "id": "22b02616",
   "metadata": {},
   "source": [
    "**Вывод по анализу данных:**\n",
    "\n",
    "Всего в логе пять вариантов событий, перечислим их по убыванию: показ главного экрана, показ экрана с предложением, показ экрана с корзиной, оплата прошла успешно, обучение. \n",
    "\n",
    "Всего в логе 7551 пользователь, но оказалось среди них много аномалий, а расчет 99 перцентиля показывает, что более 200 событий , совершенными одним пользователем считаются аномальными, поэтому от них избавились, таких пользователей оказалось 76. После удаления данных с аномальными пользователями, осталось 86% данных от исходного количества.\n",
    "\n",
    "Хотя данные представлены за период с 25 июля по 7 августа 2019 года, но было принято решение отбросить все данные до 1 августа, т.к. они составляют менее 2% от общего числа и количество событий в эти даты очень мало, что может повлиять на объективность результатов в дальнейшем. \n",
    "\n",
    "Таким образом было отброшено 37098 событий из 243713 и 93 пользователя из 7551, при этом в каждой из трёх экспериментальных групп осталось равномерное количество уникальных пользователей (2456, 2491, 2511), при этом каждый пользователь находится только в одной экспериментальной группе."
   ]
  },
  {
   "cell_type": "markdown",
   "id": "315561eb",
   "metadata": {},
   "source": [
    "<div class=\"alert alert-success\">\n",
    "<h2> Комментарий ревьюера 😊<a class=\"tocSkip\"> </h2>\n",
    "    \n",
    "Хорошая работа по исследовательскому анализу данных)"
   ]
  },
  {
   "cell_type": "markdown",
   "id": "86fd21a3",
   "metadata": {},
   "source": [
    "<div class=\"alert alert-info\"; style=\"border-left: 7px solid blue\">\n",
    "<b> Комментарий студента </b>\n",
    "На основе исправлений откорректировала и вывод по анализу данных и добавила исправления в общий вывод"
   ]
  },
  {
   "cell_type": "markdown",
   "id": "9f470957",
   "metadata": {},
   "source": [
    "<div class=\"alert alert-success\">\n",
    "<h2> Комментарий ревьюера 😊 v_2 <a class=\"tocSkip\"> </h2>\n",
    "\n",
    "Отлично)"
   ]
  },
  {
   "cell_type": "markdown",
   "id": "eef25f16",
   "metadata": {},
   "source": [
    "## Анализ воронки событий"
   ]
  },
  {
   "cell_type": "markdown",
   "id": "e56bf911",
   "metadata": {},
   "source": [
    "### События\n",
    "\n",
    "Посмотрим, какие события есть в логах, как часто они встречаются. Отсортируйте события по частоте."
   ]
  },
  {
   "cell_type": "code",
   "execution_count": null,
   "id": "aeead9cf",
   "metadata": {},
   "outputs": [],
   "source": [
    "\n",
    "(\n",
    "    logs_actual.groupby('event')['event'].agg('count').sort_values(ascending=False)\n",
    "    .plot(kind='pie', labels=None, label='', autopct='%1.0f%%', \n",
    "       legend=True, figsize=(7, 7), title='Разбивка по событиям')\n",
    ")\n",
    "plt.show()"
   ]
  },
  {
   "cell_type": "markdown",
   "id": "ee612256",
   "metadata": {},
   "source": [
    "Всего в логе пять вариантов событий, перечислим их по убыванию: показ главного экрана (55%), показ экрана с предложением (20%), показ экрана с корзиной (14%), оплата прошла успешно(14%), обучение (около 0%).\n",
    "\n",
    "Событие, связанное с обучением, лишнее. Скорее всего оно не влияет на факт оплаты, т.к. видно на графике, что пользователи пользуются сайтом и без обучения."
   ]
  },
  {
   "cell_type": "code",
   "execution_count": null,
   "id": "0f7c7dc1",
   "metadata": {},
   "outputs": [],
   "source": [
    "logs_new = logs_actual.query('event != \"Tutorial\"')"
   ]
  },
  {
   "cell_type": "markdown",
   "id": "bf5e68e8",
   "metadata": {},
   "source": [
    "### События по числу пользователей\n",
    "\n",
    "Посчитаем, сколько пользователей совершали каждое из этих событий. "
   ]
  },
  {
   "cell_type": "code",
   "execution_count": null,
   "id": "6bda2dff",
   "metadata": {},
   "outputs": [],
   "source": [
    "logs_groupby_event = (\n",
    "    logs_new.groupby('event')\n",
    "    .agg({'user_id': 'nunique'})\n",
    "    .sort_values(by='user_id', ascending=False)\n",
    ")\n",
    "logs_groupby_event.columns = ['users_cnt']\n",
    "logs_groupby_event"
   ]
  },
  {
   "cell_type": "code",
   "execution_count": null,
   "id": "cc030745",
   "metadata": {},
   "outputs": [],
   "source": [
    "logs_groupby_event['part_of_users'] = (\n",
    "    logs_groupby_event['users_cnt']\n",
    "    .apply(lambda x: round(x/logs_new['user_id'].nunique()*100, 1))\n",
    ")\n",
    "logs_groupby_event"
   ]
  },
  {
   "cell_type": "markdown",
   "id": "716510fd",
   "metadata": {},
   "source": [
    "98,5% пользователей посещали главный экран, 61% - переходили на страницу с предложением товаров, 49,6% - переходили в корзину и 47% пользователей успешно приобрели продукты в мобильном приложении. \n",
    "\n",
    "Видно, что все события сужаются в воронку продаж, начиная с посещения приложения и заканчивая покупкой, но по пути пользователи отсеиваются и до покупки добираются только половина.\n",
    "\n",
    "Предположительно последовательность событий в приложении следующая:\n",
    "- пользователь заходит на сайт,\n",
    "- просматривает каталог с продуктами,\n",
    "- добавляет в корзину,\n",
    "- переходит на страницу оплаты и оплачивает заказ.\n",
    "\n",
    "Также можно зайти в раздел обучения, но пользователи им практически не пользуются, поэтому это событие не входит в воронку продаж."
   ]
  },
  {
   "cell_type": "markdown",
   "id": "445c335b",
   "metadata": {},
   "source": [
    "<div class=\"alert alert-success\">\n",
    "<h2> Комментарий ревьюера 😊<a class=\"tocSkip\"> </h2>\n",
    "\n",
    "Важное замечание, молодец! Переход на страницу документации не встраивается в последовательную цепочку, и это событие можно не учитывать при расчете воронки.\n"
   ]
  },
  {
   "cell_type": "markdown",
   "id": "8cbe1a42",
   "metadata": {},
   "source": [
    "### Доля пользователей, переходящая на следующий шаг воронки\n",
    "\n",
    "По воронке событий посчитаем, какая доля пользователей проходит на следующий шаг воронки (от числа пользователей на предыдущем). \n",
    "\n",
    "Посмотрим, все ли пользователи попадают на последующий шаг после предыдущего, для этого воспользуемся методом `pivot_table` и столбцами укажем события"
   ]
  },
  {
   "cell_type": "code",
   "execution_count": null,
   "id": "5dfaf4fc",
   "metadata": {},
   "outputs": [],
   "source": [
    "logs_new_pt = logs_new.pivot_table(index='user_id', \n",
    "                         columns='event', \n",
    "                         values='dt',\n",
    "                         aggfunc='min')\n",
    "logs_new_pt = logs_new_pt[[\n",
    "    'MainScreenAppear',\n",
    "    'OffersScreenAppear',\n",
    "    'CartScreenAppear',\n",
    "    'PaymentScreenSuccessful'    \n",
    "]]\n",
    "logs_new_pt.columns = [\n",
    "    'MainScreenAppear',\n",
    "    'OffersScreenAppear',\n",
    "    'CartScreenAppear',\n",
    "    'PaymentScreenSuccessful'\n",
    "]\n",
    "logs_new_pt.tail(20)"
   ]
  },
  {
   "cell_type": "markdown",
   "id": "9661162c",
   "metadata": {},
   "source": [
    "Результат показывает, что пользователи могут попадать на разные экраны не последовательно, а также мы видим, что на каждом этапе пользователи отсеиваются, не доходя до оплаты."
   ]
  },
  {
   "cell_type": "code",
   "execution_count": null,
   "id": "f01cbe0c",
   "metadata": {},
   "outputs": [],
   "source": [
    "# Создадим столбец конверсий в таблице logs_groupby_event и рассчитаем их в цикле\n",
    "# цикл проходит по строкам и рассчитывает конверсию между последующим и предыдущим значениями 'users_cnt'\n",
    "# а для первого значения, где нет предыдущего указываем 100%\n",
    "logs_groupby_event['conversion'] = 0\n",
    "for i in range(0, len(logs_groupby_event['part_of_users'])):\n",
    "    if i == 0:\n",
    "        logs_groupby_event['conversion'].iloc[i] = 100 \n",
    "    else:\n",
    "        logs_groupby_event['conversion'].iloc[i] = round(\n",
    "            logs_groupby_event['users_cnt'].iloc[i] / logs_groupby_event['users_cnt'].iloc[i-1], 3\n",
    "        )*100\n",
    "logs_groupby_event"
   ]
  },
  {
   "cell_type": "markdown",
   "id": "272423c7",
   "metadata": {},
   "source": [
    "<div class=\"alert alert-success\">\n",
    "<h2> Комментарий ревьюера 😊<a class=\"tocSkip\"> </h2>\n",
    "    \n",
    "Отличная работа с расчетом конверсии от предыдущего шага!)"
   ]
  },
  {
   "cell_type": "markdown",
   "id": "0c050a18",
   "metadata": {},
   "source": [
    "<div class=\"alert alert-warning\">\n",
    "<h2> Комментарий ревьюера 🤓 <a class=\"tocSkip\"> </h2>\n",
    "\n",
    "Для расчета конверсии от предыдущего шага можно использовать функцию `shift()`"
   ]
  },
  {
   "cell_type": "markdown",
   "id": "95c2bd0f",
   "metadata": {},
   "source": [
    "<div class=\"alert alert-info\"; style=\"border-left: 7px solid blue\">\n",
    "<b> Комментарий студента </b>\n",
    "Спасибо за совет. Надо изучить. Вкратце посмотрела, что это про циклический сдвиг. С этой функцией должно быть проще, получается, если разобраться в ней."
   ]
  },
  {
   "cell_type": "markdown",
   "id": "670ab3a4",
   "metadata": {},
   "source": [
    "**Расчеты показали, что из главного экрана в каталог переходят только 62%, из них 81% переходит в корзину и из тех, кто перешел в корзину 95% пользователей оплачивают заказ. Таким образом, на втором событии \"Экран предложений\" теряется больше всего пользователей.**"
   ]
  },
  {
   "cell_type": "markdown",
   "id": "e4279e37",
   "metadata": {},
   "source": [
    "### Пользователи, проходящие от первого события до оплаты"
   ]
  },
  {
   "cell_type": "code",
   "execution_count": null,
   "id": "95bdbf94",
   "metadata": {},
   "outputs": [],
   "source": [
    "print('До оплаты доходит', \n",
    "      round(logs_groupby_event['users_cnt'].iloc[3]/logs_groupby_event['users_cnt'].iloc[0], 4)*100, \n",
    "      '% пользователей')"
   ]
  },
  {
   "cell_type": "markdown",
   "id": "1736a258",
   "metadata": {},
   "source": [
    "<div class=\"alert alert-block alert-danger\">\n",
    "<h2> Комментарий ревьюера ⛔️<a class=\"tocSkip\"></h2>\n",
    "   <s>\n",
    "Сейчас мы находим долю от общего кол-ва пользователей, которые прошли всю воронку, а нам нужно рассчитать долю от первого события. Для расчетов необходимо использовать значения столбца users_cnt\tтаблицы logs_groupby_event. Давйа скорректируем)"
   ]
  },
  {
   "cell_type": "markdown",
   "id": "78a88b9d",
   "metadata": {},
   "source": [
    "<div class=\"alert alert-info\"; style=\"border-left: 7px solid blue\">\n",
    "<b> Комментарий студента </b>\n",
    "Перемудрила я в этом пункте. Удалила, что было и добавила новый расчет."
   ]
  },
  {
   "cell_type": "markdown",
   "id": "a659234d",
   "metadata": {},
   "source": [
    "<div class=\"alert alert-success\">\n",
    "<h2> Комментарий ревьюера 😊 v_2 <a class=\"tocSkip\"> </h2>\n",
    "\n",
    "Теперь все верно)"
   ]
  },
  {
   "cell_type": "code",
   "execution_count": null,
   "id": "bbb7c439",
   "metadata": {},
   "outputs": [],
   "source": [
    "# построим график воронки событий (по количеству пользователей) с помощью диаграммы воронки с plotly.express\n",
    "data = dict(\n",
    "    number = logs_groupby_event['users_cnt'],\n",
    "    stage=['MainScreenAppear',\n",
    "    'OffersScreenAppear',\n",
    "    'CartScreenAppear',\n",
    "    'PaymentScreenSuccessful'])\n",
    "fig = px.funnel(data, x='number', y='stage')\n",
    "fig.show()\n"
   ]
  },
  {
   "cell_type": "markdown",
   "id": "030cd550",
   "metadata": {},
   "source": [
    "<div class=\"alert alert-success\">\n",
    "<h2> Комментарий ревьюера 😊 v_2 <a class=\"tocSkip\"> </h2>\n",
    "\n",
    "Замечательная работа с воронкой событий!)"
   ]
  },
  {
   "cell_type": "markdown",
   "id": "5803a2f7",
   "metadata": {},
   "source": [
    "<div class=\"alert alert-warning\">\n",
    "<h2> Комментарий ревьюера 🤓 v_2<a class=\"tocSkip\"> </h2>\n",
    "Чтобы добавить название воронке, можно использовать:\n",
    "    \n",
    "```python\n",
    "fig.update_layout(title=\"Воронка событий\")\n",
    "```"
   ]
  },
  {
   "cell_type": "markdown",
   "id": "7952bd07",
   "metadata": {},
   "source": [
    "**Вывод по анализу воронки событий:**\n",
    "\n",
    "Всего в логе пять вариантов событий: \n",
    "- показ главного экрана (55%), \n",
    "- показ экрана с предложением (20%), \n",
    "- показ экрана с корзиной (14%), \n",
    "- оплата прошла успешно(14%), \n",
    "- обучение (около 0%).\n",
    "\n",
    "\n",
    "Событие, связанное с обучением, лишнее. Скорее всего оно не влияет на факт оплаты, т.к. видно на графике, что пользователи пользуются сайтом и без обучения.\n",
    "\n",
    "98,5% пользователей посещали главный экран, 61% - переходили на страницу с предложением товаров, 49,6% - переходили в корзину и 47% пользователей успешно приобрели продукты в мобильном приложении.\n",
    "\n",
    "Видно, что все события сужаются в воронку продаж, начиная с посещения приложения и заканчивая покупкой, но по пути пользователи отсеиваются и до покупки добираются только половина.\n",
    "\n",
    "Пользователи могут попадать на разные экраны не последовательно, а также на каждом этапе пользователи отсеиваются, не доходя до оплаты.\n",
    "\n",
    "Расчеты показали, что из главного экрана в каталог переходят только 62%, из них 81% переходит в корзину и из тех, кто перешел в корзину 95% пользователей оплачивают заказ. Таким образом, на втором событии \"Экран предложений\" теряется больше всего пользователей.\n",
    "\n",
    "От первого события до оплаты доходят 47.15% пользователей."
   ]
  },
  {
   "cell_type": "markdown",
   "id": "47714107",
   "metadata": {},
   "source": [
    "<div class=\"alert alert-block alert-danger\">\n",
    "<h2> Комментарий ревьюера ⛔️<a class=\"tocSkip\"></h2>\n",
    "<s>\n",
    "Необходимо построить график воронки событий (по количеству пользователей ). Можно использовать столбчатую диаграмму, для того чтобы построить воронку продаж."
   ]
  },
  {
   "cell_type": "markdown",
   "id": "e657ab51",
   "metadata": {},
   "source": [
    "<div class=\"alert alert-warning\">\n",
    "<h2> Комментарий ревьюера 🤓<a class=\"tocSkip\"> </h2>\n",
    "\n",
    "Также можно использовать graph_objects из библиотеки plotly.\n",
    "\n",
    "Здесь ты можешь узнать подробнее о том, как это сделать:\n",
    "\n",
    "https://habr.com/ru/company/otus/blog/588190/ </div>"
   ]
  },
  {
   "cell_type": "markdown",
   "id": "fd902fc8",
   "metadata": {},
   "source": [
    "## Результаты эксперимента"
   ]
  },
  {
   "cell_type": "markdown",
   "id": "5a777d4f",
   "metadata": {},
   "source": [
    "### Количество пользователей в каждой экспериментальной группе"
   ]
  },
  {
   "cell_type": "code",
   "execution_count": null,
   "id": "9e5d1c99",
   "metadata": {},
   "outputs": [],
   "source": [
    "logs_new.head()"
   ]
  },
  {
   "cell_type": "code",
   "execution_count": null,
   "id": "1c5b8a81",
   "metadata": {},
   "outputs": [],
   "source": [
    "logs_exp_total = logs_new.groupby('exp_id').agg({'user_id': 'nunique'})\n",
    "logs_exp_total.columns = ['total']\n",
    "logs_exp_total"
   ]
  },
  {
   "cell_type": "markdown",
   "id": "fb1d4c82",
   "metadata": {},
   "source": [
    "В каждой экспериментальной группе примерно одинаковое количество уникальных пользователей в районе 2500."
   ]
  },
  {
   "cell_type": "markdown",
   "id": "d0f544cc",
   "metadata": {},
   "source": [
    "### Статистическая значимость различий между выборками 246 и 247  для А/А-эксперимента\n",
    "\n",
    "Сформулируем гипотезы:\n",
    "- Нулевая: различий в долях пользователей между выборками 246 и 247 нет.\n",
    "- Альтернативная: различия в долях пользователей есть."
   ]
  },
  {
   "cell_type": "code",
   "execution_count": null,
   "id": "1b07a695",
   "metadata": {},
   "outputs": [],
   "source": [
    "logs_exp = logs_new.pivot_table(index='exp_id', columns='event', values='user_id', aggfunc='nunique')\n",
    "logs_exp = logs_exp[[\n",
    "    'MainScreenAppear',\n",
    "    'OffersScreenAppear',\n",
    "    'CartScreenAppear',\n",
    "    'PaymentScreenSuccessful'    \n",
    "]]\n",
    "logs_exp.columns = [\n",
    "    'MainScreenAppear',\n",
    "    'OffersScreenAppear',\n",
    "    'CartScreenAppear',\n",
    "    'PaymentScreenSuccessful'    \n",
    "]\n",
    "logs_exp"
   ]
  },
  {
   "cell_type": "code",
   "execution_count": null,
   "id": "ba93e3df",
   "metadata": {
    "scrolled": true
   },
   "outputs": [],
   "source": [
    "# объединим таблицы logs_exp_total и logs_exp методом merge по индексам\n",
    "\n",
    "logs_merged = pd.merge(logs_exp, logs_exp_total, left_index=True, right_index=True)\n",
    "logs_merged.columns = [\n",
    "    'MainScreenAppear',\n",
    "    'OffersScreenAppear',\n",
    "    'CartScreenAppear',\n",
    "    'PaymentScreenSuccessful',\n",
    "    'total'\n",
    "]\n",
    "logs_merged"
   ]
  },
  {
   "cell_type": "code",
   "execution_count": null,
   "id": "fe7437e0",
   "metadata": {},
   "outputs": [],
   "source": [
    "# добавим функцию для проверки гипотезы\n",
    "def hypothesis_test (successes, trials, alpha):\n",
    "    # пропорция успехов в первой группе:\n",
    "    p1 = successes[0]/trials[0]\n",
    "    # пропорция успехов во второй группе:\n",
    "    p2 = successes[1]/trials[1]\n",
    "    # пропорция успехов в комбинированном датасете:\n",
    "    p_combined = (successes[0] + successes[1]) / (trials[0] + trials[1])\n",
    "    # разница пропорций в датасетах\n",
    "    difference = p1 - p2 \n",
    "    # считаем статистику в ст.отклонениях стандартного нормального распределения\n",
    "    z_value = difference / mth.sqrt(p_combined * (1 - p_combined) * (1/trials[0] + 1/trials[1]))\n",
    "    # задаем стандартное нормальное распределение (среднее 0, ст.отклонение 1)\n",
    "    distr = st.norm(0, 1)\n",
    "    p_value = (1 - distr.cdf(abs(z_value))) * 2\n",
    "    print('p-значение: ', p_value)\n",
    "    if p_value < alpha:\n",
    "        print('Отвергаем нулевую гипотезу: между долями есть значимая разница')\n",
    "    else:\n",
    "        print(\n",
    "            'Не получилось отвергнуть нулевую гипотезу, нет оснований считать доли разными'\n",
    "        )"
   ]
  },
  {
   "cell_type": "code",
   "execution_count": null,
   "id": "90a3ea1c",
   "metadata": {},
   "outputs": [],
   "source": [
    "# напишем функцию, которая на вход получает порядковый номер группы в таблице и параметр альфа\n",
    "# и возвращает результаты проверки гипотез\n",
    "def exp_group (first, second, alpha):\n",
    "    alpha = alpha\n",
    "    total_cnt = ([logs_merged['total'].iloc[first], logs_merged['total'].iloc[second]])\n",
    "    main_cnt = ([logs_merged['MainScreenAppear'].iloc[first], logs_merged['MainScreenAppear'].iloc[second]])\n",
    "    offers_cnt = ([logs_merged['OffersScreenAppear'].iloc[first], logs_merged['OffersScreenAppear'].iloc[second]])\n",
    "    cart_cnt = ([logs_merged['CartScreenAppear'].iloc[first], logs_merged['CartScreenAppear'].iloc[second]])\n",
    "    payment_cnt = ([logs_merged['PaymentScreenSuccessful'].iloc[first], logs_merged['PaymentScreenSuccessful'].iloc[second]])\n",
    "    \n",
    "    print('Результаты теста по долям общего числа пользователей и с главного экрана')\n",
    "    hypothesis_test(main_cnt, total_cnt, alpha)\n",
    "    \n",
    "    print('Результаты теста по долям общего числа пользователей и с экрана с каталогом')\n",
    "    hypothesis_test(offers_cnt, total_cnt, alpha)\n",
    "    \n",
    "    print('Результаты теста по долям общего числа пользователей и с экрана с корзиной')\n",
    "    hypothesis_test(cart_cnt, total_cnt, alpha)\n",
    "    \n",
    "    print('Результаты теста по долям общего числа пользователей и с экрана с оплатой')\n",
    "    hypothesis_test(payment_cnt, total_cnt, alpha)"
   ]
  },
  {
   "cell_type": "code",
   "execution_count": null,
   "id": "aacf677b",
   "metadata": {},
   "outputs": [],
   "source": [
    "# Сделаем проверку контрольных групп А/A\n",
    "# выборки 246 и 247 в таблице logs_merged соответствуют индексам 0 и 1, alpha=0.05\n",
    "exp_group (0, 1, 0.05)"
   ]
  },
  {
   "cell_type": "markdown",
   "id": "43ab22ee",
   "metadata": {},
   "source": [
    "**Вывод:**\n",
    "Cтатистические критерии разницу между выборками 246 и 247 не находят. Т.к. контрольные группы оказались равны, мы можем быть уверены в точности проведенного тестирования."
   ]
  },
  {
   "cell_type": "markdown",
   "id": "41b5154c",
   "metadata": {},
   "source": [
    "<div class=\"alert alert-success\">\n",
    "<h2> Комментарий ревьюера 😊<a class=\"tocSkip\"> </h2>\n",
    "    \n",
    "А/А тест проведен верно)"
   ]
  },
  {
   "cell_type": "markdown",
   "id": "44ab7efe",
   "metadata": {},
   "source": [
    "### A/B-тест\n",
    "\n",
    "Аналогично поступим с группой с изменённым шрифтом. Сравним результаты с каждой из контрольных групп в отдельности по каждому событию. Сравните результаты с объединённой контрольной группой. \n",
    "\n",
    "Для начала дополним таблицу `logs_merged` новой строкой с объединенной контрольной группой.\n"
   ]
  },
  {
   "cell_type": "code",
   "execution_count": null,
   "id": "27bbe51f",
   "metadata": {},
   "outputs": [],
   "source": [
    "logs_merged.loc['246_247'] = [\n",
    "    logs_merged['MainScreenAppear'].iloc[0] + logs_merged['MainScreenAppear'].iloc[1],\n",
    "    logs_merged['OffersScreenAppear'].iloc[0] + logs_merged['OffersScreenAppear'].iloc[1],\n",
    "    logs_merged['CartScreenAppear'].iloc[0] + logs_merged['CartScreenAppear'].iloc[1],\n",
    "    logs_merged['PaymentScreenSuccessful'].iloc[0] + logs_merged['PaymentScreenSuccessful'].iloc[1],\n",
    "    logs_merged['total'].iloc[0] + logs_merged['total'].iloc[1]\n",
    "]\n",
    "logs_merged"
   ]
  },
  {
   "cell_type": "code",
   "execution_count": null,
   "id": "e4396679",
   "metadata": {},
   "outputs": [],
   "source": [
    "# Сделаем проверку контрольных групп А_246/B\n",
    "# выборки 246 и 248 в таблице logs_merged соответствуют индексам 0 и 2, alpha=0.05\n",
    "exp_group (0, 2, 0.05)"
   ]
  },
  {
   "cell_type": "code",
   "execution_count": null,
   "id": "56b2f338",
   "metadata": {},
   "outputs": [],
   "source": [
    "# Сделаем проверку контрольных групп А_247/B\n",
    "# выборки 247 и 248 в таблице logs_merged соответствуют индексам 1 и 2, alpha=0.05\n",
    "exp_group (1, 2, 0.05)"
   ]
  },
  {
   "cell_type": "code",
   "execution_count": null,
   "id": "99c12ddb",
   "metadata": {},
   "outputs": [],
   "source": [
    "# Сделаем проверку контрольных групп А_246_247/B\n",
    "# выборки 246_247 и 248 в таблице logs_merged соответствуют индексам 3 и 2, alpha=0.05\n",
    "exp_group (3, 2, 0.05)"
   ]
  },
  {
   "cell_type": "markdown",
   "id": "8901458e",
   "metadata": {},
   "source": [
    "**Вывод по A/B-тесту:**\n",
    "\n",
    "При проведении A/B-теста с двумя А-группами и объединенной А-группой выяснилось, что доля пользователей до изменения шрифтов и после не изменилась, поэтому изменение шрифта никак не влияет на количество пользователей приложения. "
   ]
  },
  {
   "cell_type": "markdown",
   "id": "8926ab05",
   "metadata": {},
   "source": [
    "<div class=\"alert alert-success\">\n",
    "<h2> Комментарий ревьюера 😊<a class=\"tocSkip\"> </h2>\n",
    "    \n",
    "Статистический анализ проведен верно, молодец)"
   ]
  },
  {
   "cell_type": "markdown",
   "id": "839abd23",
   "metadata": {},
   "source": [
    "<div class=\"alert alert-block alert-danger\">\n",
    "<h2> Комментарий ревьюера ⛔️<a class=\"tocSkip\"></h2>\n",
    "<s>\n",
    "В расчетах мы никак не учитываем, что при множественной проверке гипотез увеличивается риск ложноположительного результата, найти различия там, где их на самом деле нет:\n",
    "    \n",
    "    \n",
    "**Спринт: Принятие решений в бизнесе - Тема: Подготовка к проведению A/B-теста - Урок: Множественные сравнения: A/B и A/B/n-тесты**\n",
    "\n",
    "Как ты думаешь нужно ли корректировать имеющийся уровень значимости с помощью поправки?"
   ]
  },
  {
   "cell_type": "markdown",
   "id": "46195995",
   "metadata": {},
   "source": [
    "<div class=\"alert alert-info\"; style=\"border-left: 7px solid blue\">\n",
    "<b> Комментарий студента </b>\n",
    "Добавила ниже свои рассуждения."
   ]
  },
  {
   "cell_type": "markdown",
   "id": "acb12b90",
   "metadata": {},
   "source": [
    "<div class=\"alert alert-success\">\n",
    "<h2> Комментарий ревьюера 😊 v_2 <a class=\"tocSkip\"> </h2>\n",
    "\n",
    "Все верно, молодец)"
   ]
  },
  {
   "cell_type": "markdown",
   "id": "89f92bcd",
   "metadata": {},
   "source": [
    "При выполнении множественного тестирования возникает серьёзная проблема — быстрый рост вероятности допустить ошибку первого рода хотя бы в одном из тестов. В связи с этим мы должны скорректировать наши конечные p_value для сравнения их значений с alpha, но в этом нет необходимости, т.к. ни по одному из проведенных сравнений не обнаружилось статистически значимых различий."
   ]
  },
  {
   "cell_type": "markdown",
   "id": "50610591",
   "metadata": {},
   "source": [
    "**Общий вывод:**\n",
    "\n"
   ]
  },
  {
   "cell_type": "markdown",
   "id": "273e02be",
   "metadata": {},
   "source": [
    "Были предоставлены данные в одном файле, которые требовали предобработки: были изменены названия столбцов, изменен тип данных для столбца с датой и временем, а также добавлен столбец с датой, удалено 413 дубликатов. \n",
    "\n",
    "Всего в логе 7551 пользователь, но оказалось среди них много аномалий, а расчет 99 перцентиля показывает, что более 200 событий , совершенными одним пользователем считаются аномальными, поэтому от них избавились, таких пользователей оказалось 76. После удаления данных с аномальными пользователями, осталось 86% данных от исходного количества.\n",
    "\n",
    "Хотя данные представлены за период с 25 июля по 7 августа 2019 года, но было принято решение отбросить все данные до 1 августа, т.к. они составляют менее 2% от общего числа и количество событий в эти даты очень мало, что может повлиять на объективность результатов в дальнейшем.\n",
    "\n",
    "Таким образом было отброшено 37098 событий из 243713 и 93 пользователя из 7551, при этом в каждой из трёх экспериментальных групп осталось равномерное количество уникальных пользователей (2456, 2491, 2511), при этом каждый пользователь находится только в одной экспериментальной группе.\n",
    "\n",
    "Всего в логе пять вариантов событий:\n",
    "\n",
    "- показ главного экрана (49%),\n",
    "- показ экрана с предложением (19%),\n",
    "- показ экрана с корзиной (18%),\n",
    "- оплата прошла успешно(18%),\n",
    "- обучение (около 0%).\n",
    "\n",
    "Событие, связанное с обучением, лишнее. Скорее всего оно не влияет на факт оплаты, т.к. видно на графике, что пользователи пользуются сайтом и без обучения.\n",
    "\n",
    "98,5% пользователей посещали главный экран, 61% - переходили на страницу с предложением товаров, 49,6% - переходили в корзину и 47% пользователей успешно приобрели продукты в мобильном приложении.\n",
    "\n",
    "Видно, что все события сужаются в воронку продаж, начиная с посещения приложения и заканчивая покупкой, но по пути пользователи отсеиваются и до покупки добираются только половина.\n",
    "\n",
    "Пользователи могут попадать на разные экраны не последовательно, а также на каждом этапе пользователи отсеиваются, не доходя до оплаты.\n",
    "\n",
    "Расчеты показали, что из главного экрана в каталог переходят только 62%, из них 81% переходит в корзину и из тех, кто перешел в корзину 95% пользователей оплачивают заказ. Таким образом, на втором событии \"Экран предложений\" теряется больше всего пользователей.\n",
    "\n",
    "От первого события до оплаты доходят 45.5 % пользователей.\n",
    "\n",
    "Cтатистические критерии разницу между выборками 246 и 247 не находят. Т.к. контрольные группы оказались равны, мы можем быть уверены в точности проведенного тестирования.\n",
    "\n",
    "При проведении A/B-теста с двумя А-группами и объединенной А-группой выяснилось, что доля пользователей до изменения шрифтов и после не изменилась, поэтому **изменение шрифта никак не влияет на количество пользователей приложения.**\n",
    "\n",
    "На основе проведенных исследований мои рекомендации заказчику следующие: т.к. больше всего пользователей теряется на этапе просмотра экрана, то возможно стоит сделать более яркой кнопку перехода в каталог или переместить ее на более видное место, также возможно следует собрать данные за более продолжительный период, т.к. мы отбросили целую неделю и осталась для исследований только одна неделя, а заказчик, возможно рассчитывал на период в две недели."
   ]
  },
  {
   "cell_type": "markdown",
   "id": "ef1680e7",
   "metadata": {},
   "source": [
    "<div class=\"alert alert-warning\">\n",
    "<h2> Комментарий ревьюера 🤓<a class=\"tocSkip\"> </h2>\n",
    "\n",
    "Будет хорошо, добавить рекомендации заказчику)"
   ]
  },
  {
   "cell_type": "markdown",
   "id": "bf69df49",
   "metadata": {},
   "source": [
    "<div class=\"alert alert-info\"; style=\"border-left: 7px solid blue\">\n",
    "<b> Комментарий студента </b>\n",
    "Добавила последним абзацем"
   ]
  },
  {
   "cell_type": "markdown",
   "id": "aa01fe70",
   "metadata": {},
   "source": [
    "<div class=\"alert alert-success\">\n",
    "<h2> Комментарий ревьюера 😊 v_2 <a class=\"tocSkip\"> </h2>\n",
    "\n",
    "Очень хорошо)"
   ]
  },
  {
   "cell_type": "markdown",
   "id": "1ebf28ec",
   "metadata": {},
   "source": [
    "<div style=\"border:solid Purple 2px; padding: 40px\">\n",
    "\n",
    "<h2> Общий комментарий ревьюера 😊<a class=\"tocSkip\"> </h2>\n",
    "    <br/>\n",
    "Юлия, замечательная работа по проекту, отлично справилась с расчетами и статистическим анализом, также хочу отметить подробные выводы по пунктам)\n",
    "    \n",
    "Необходимо доработать:\n",
    "    \n",
    "* Доработать график событий по дням\n",
    "* Добавить воронку событий\n",
    "* Корректировка уровня значимости\n",
    "* Остальные комментарии ты найдешь в работе\n",
    "    \n",
    " \n",
    "**Желаю удачи и жду твой проект на повторное ревью! Если вдруг у тебя возникнут вопросы, то я с радостью отвечу на них.    😊**\n",
    "    \n",
    " \n",
    "<br>   \n",
    "             \n",
    "**Дополнительные материалы:**\n",
    " \n",
    "[Вебинары под эгидой Практикума](https://vk.com/yandex.praktikum?w=wall-176471180_2144), \n",
    "    \n",
    "[Лекции Анатолия Карпова 1](https://www.youtube.com/watch?v=jnFVmtaeSA0&list=WL&index=19&t=2s) [2](https://www.youtube.com/watch?v=gljfGAkgX_o&list=WL&index=4)\n",
    "    \n",
    "Материалы [gopractice](https://gopractice.ru/summary/)\n",
    "\n",
    "Лекцию Карта статистических методов [Смотреть видео](https://www.youtube.com/watch?v=-zps6hm0nX8&t=1269s)\n",
    "        \n",
    "Статья «Множественные эксперименты: теория и практика» [Читать статью](https://habr.com/ru/company/yandex/blog/476826/)\n",
    "    \n",
    "Статья «Как не надо анализировать A/B тесты. Проблема подглядывания» [Читать статью](https://gopractice.ru/how-not-to-analyze-abtests/)\n",
    "    \n",
    "Видеодоклад «Дешёвые и дорогие тесты гипотез», Светлана Аюпова из Skyeng [Смотреть видео](https://youtu.be/MD6ysrdI4Ro)\n",
    "</div>"
   ]
  },
  {
   "cell_type": "markdown",
   "id": "fc8823da",
   "metadata": {},
   "source": [
    "<div class=\"alert alert-info\"; style=\"border-left: 7px solid blue\">\n",
    "<b> Комментарий студента </b>\n",
    "Эльвира, спасибо за большое число важных дополнений и советов, а также за полезные ссылки."
   ]
  }
 ],
 "metadata": {
  "ExecuteTimeLog": [
   {
    "duration": 1403,
    "start_time": "2024-08-09T03:01:13.647Z"
   },
   {
    "duration": 839,
    "start_time": "2024-08-09T03:01:15.053Z"
   },
   {
    "duration": 32,
    "start_time": "2024-08-09T03:01:15.894Z"
   },
   {
    "duration": 11,
    "start_time": "2024-08-09T03:01:15.927Z"
   },
   {
    "duration": 33,
    "start_time": "2024-08-09T03:01:15.940Z"
   },
   {
    "duration": 49,
    "start_time": "2024-08-09T03:01:15.975Z"
   },
   {
    "duration": 131,
    "start_time": "2024-08-09T03:01:16.026Z"
   },
   {
    "duration": 0,
    "start_time": "2024-08-09T03:01:16.160Z"
   },
   {
    "duration": 1,
    "start_time": "2024-08-09T03:01:16.161Z"
   },
   {
    "duration": 0,
    "start_time": "2024-08-09T03:01:16.163Z"
   },
   {
    "duration": 0,
    "start_time": "2024-08-09T03:01:16.165Z"
   },
   {
    "duration": 0,
    "start_time": "2024-08-09T03:01:16.166Z"
   },
   {
    "duration": 0,
    "start_time": "2024-08-09T03:01:16.168Z"
   },
   {
    "duration": 0,
    "start_time": "2024-08-09T03:01:16.170Z"
   },
   {
    "duration": 0,
    "start_time": "2024-08-09T03:01:16.171Z"
   },
   {
    "duration": 0,
    "start_time": "2024-08-09T03:01:16.173Z"
   },
   {
    "duration": 0,
    "start_time": "2024-08-09T03:01:16.174Z"
   },
   {
    "duration": 0,
    "start_time": "2024-08-09T03:01:16.176Z"
   },
   {
    "duration": 0,
    "start_time": "2024-08-09T03:01:16.177Z"
   },
   {
    "duration": 0,
    "start_time": "2024-08-09T03:01:16.205Z"
   },
   {
    "duration": 0,
    "start_time": "2024-08-09T03:01:16.206Z"
   },
   {
    "duration": 0,
    "start_time": "2024-08-09T03:01:16.207Z"
   },
   {
    "duration": 0,
    "start_time": "2024-08-09T03:01:16.209Z"
   },
   {
    "duration": 0,
    "start_time": "2024-08-09T03:01:16.210Z"
   },
   {
    "duration": 0,
    "start_time": "2024-08-09T03:01:16.211Z"
   },
   {
    "duration": 0,
    "start_time": "2024-08-09T03:01:16.212Z"
   },
   {
    "duration": 0,
    "start_time": "2024-08-09T03:01:16.212Z"
   },
   {
    "duration": 0,
    "start_time": "2024-08-09T03:01:16.213Z"
   },
   {
    "duration": 0,
    "start_time": "2024-08-09T03:01:16.214Z"
   },
   {
    "duration": 0,
    "start_time": "2024-08-09T03:01:16.216Z"
   },
   {
    "duration": 0,
    "start_time": "2024-08-09T03:01:16.217Z"
   },
   {
    "duration": 0,
    "start_time": "2024-08-09T03:01:16.218Z"
   },
   {
    "duration": 0,
    "start_time": "2024-08-09T03:01:16.219Z"
   },
   {
    "duration": 0,
    "start_time": "2024-08-09T03:01:16.220Z"
   },
   {
    "duration": 0,
    "start_time": "2024-08-09T03:01:16.221Z"
   },
   {
    "duration": 0,
    "start_time": "2024-08-09T03:01:16.222Z"
   },
   {
    "duration": 0,
    "start_time": "2024-08-09T03:01:16.223Z"
   },
   {
    "duration": 0,
    "start_time": "2024-08-09T03:01:16.224Z"
   },
   {
    "duration": 0,
    "start_time": "2024-08-09T03:01:16.225Z"
   },
   {
    "duration": 0,
    "start_time": "2024-08-09T03:01:16.227Z"
   },
   {
    "duration": 0,
    "start_time": "2024-08-09T03:01:16.229Z"
   },
   {
    "duration": 0,
    "start_time": "2024-08-09T03:01:16.230Z"
   },
   {
    "duration": 0,
    "start_time": "2024-08-09T03:01:16.232Z"
   },
   {
    "duration": 34,
    "start_time": "2024-08-09T03:01:48.367Z"
   },
   {
    "duration": 87,
    "start_time": "2024-08-09T03:02:23.682Z"
   },
   {
    "duration": 68,
    "start_time": "2024-08-09T03:03:10.574Z"
   },
   {
    "duration": 4,
    "start_time": "2024-08-09T03:04:42.950Z"
   },
   {
    "duration": 7,
    "start_time": "2024-08-09T03:04:50.710Z"
   },
   {
    "duration": 4,
    "start_time": "2024-08-09T03:05:05.920Z"
   },
   {
    "duration": 4,
    "start_time": "2024-08-09T03:05:17.497Z"
   },
   {
    "duration": 5,
    "start_time": "2024-08-09T03:05:29.246Z"
   },
   {
    "duration": 4,
    "start_time": "2024-08-09T03:06:59.282Z"
   },
   {
    "duration": 44,
    "start_time": "2024-08-09T03:07:43.885Z"
   },
   {
    "duration": 29,
    "start_time": "2024-08-09T03:07:47.734Z"
   },
   {
    "duration": 18,
    "start_time": "2024-08-09T03:08:54.404Z"
   },
   {
    "duration": 8,
    "start_time": "2024-08-09T03:08:56.987Z"
   },
   {
    "duration": 7,
    "start_time": "2024-08-09T03:10:54.818Z"
   },
   {
    "duration": 236,
    "start_time": "2024-08-09T03:10:54.828Z"
   },
   {
    "duration": 23,
    "start_time": "2024-08-09T03:10:55.065Z"
   },
   {
    "duration": 27,
    "start_time": "2024-08-09T03:10:55.090Z"
   },
   {
    "duration": 37,
    "start_time": "2024-08-09T03:10:55.126Z"
   },
   {
    "duration": 25,
    "start_time": "2024-08-09T03:10:55.165Z"
   },
   {
    "duration": 46,
    "start_time": "2024-08-09T03:10:55.192Z"
   },
   {
    "duration": 104,
    "start_time": "2024-08-09T03:10:55.240Z"
   },
   {
    "duration": 107,
    "start_time": "2024-08-09T03:10:55.346Z"
   },
   {
    "duration": 4,
    "start_time": "2024-08-09T03:10:55.454Z"
   },
   {
    "duration": 234,
    "start_time": "2024-08-09T03:10:55.459Z"
   },
   {
    "duration": 60,
    "start_time": "2024-08-09T03:10:55.695Z"
   },
   {
    "duration": 27,
    "start_time": "2024-08-09T03:10:55.756Z"
   },
   {
    "duration": 32,
    "start_time": "2024-08-09T03:10:55.786Z"
   },
   {
    "duration": 9,
    "start_time": "2024-08-09T03:10:55.824Z"
   },
   {
    "duration": 39,
    "start_time": "2024-08-09T03:10:55.836Z"
   },
   {
    "duration": 37,
    "start_time": "2024-08-09T03:10:55.877Z"
   },
   {
    "duration": 33,
    "start_time": "2024-08-09T03:10:55.916Z"
   },
   {
    "duration": 4,
    "start_time": "2024-08-09T03:10:55.952Z"
   },
   {
    "duration": 759,
    "start_time": "2024-08-09T03:10:55.958Z"
   },
   {
    "duration": 329,
    "start_time": "2024-08-09T03:10:56.723Z"
   },
   {
    "duration": 5,
    "start_time": "2024-08-09T03:10:57.054Z"
   },
   {
    "duration": 18,
    "start_time": "2024-08-09T03:10:57.062Z"
   },
   {
    "duration": 28,
    "start_time": "2024-08-09T03:10:57.082Z"
   },
   {
    "duration": 42,
    "start_time": "2024-08-09T03:10:57.114Z"
   },
   {
    "duration": 344,
    "start_time": "2024-08-09T03:10:57.158Z"
   },
   {
    "duration": 20,
    "start_time": "2024-08-09T03:10:57.503Z"
   },
   {
    "duration": 110,
    "start_time": "2024-08-09T03:10:57.525Z"
   },
   {
    "duration": 22,
    "start_time": "2024-08-09T03:10:57.639Z"
   },
   {
    "duration": 96,
    "start_time": "2024-08-09T03:10:57.662Z"
   },
   {
    "duration": 16,
    "start_time": "2024-08-09T03:10:57.762Z"
   },
   {
    "duration": 41,
    "start_time": "2024-08-09T03:10:57.781Z"
   },
   {
    "duration": 18,
    "start_time": "2024-08-09T03:10:57.824Z"
   },
   {
    "duration": 14,
    "start_time": "2024-08-09T03:10:57.844Z"
   },
   {
    "duration": 58,
    "start_time": "2024-08-09T03:10:57.860Z"
   },
   {
    "duration": 105,
    "start_time": "2024-08-09T03:10:57.920Z"
   },
   {
    "duration": 10,
    "start_time": "2024-08-09T03:10:58.027Z"
   },
   {
    "duration": 14,
    "start_time": "2024-08-09T03:10:58.038Z"
   },
   {
    "duration": 6,
    "start_time": "2024-08-09T03:10:58.054Z"
   },
   {
    "duration": 19,
    "start_time": "2024-08-09T03:10:58.061Z"
   },
   {
    "duration": 33,
    "start_time": "2024-08-09T03:10:58.084Z"
   },
   {
    "duration": 20,
    "start_time": "2024-08-09T03:10:58.119Z"
   },
   {
    "duration": 12,
    "start_time": "2024-08-09T03:10:58.141Z"
   },
   {
    "duration": 10,
    "start_time": "2024-08-09T03:10:58.155Z"
   },
   {
    "duration": 31,
    "start_time": "2024-08-09T03:13:22.816Z"
   },
   {
    "duration": 18,
    "start_time": "2024-08-09T03:13:57.839Z"
   },
   {
    "duration": 198,
    "start_time": "2024-08-09T03:14:35.945Z"
   },
   {
    "duration": 37,
    "start_time": "2024-08-09T03:21:11.623Z"
   },
   {
    "duration": 34,
    "start_time": "2024-08-09T03:21:19.293Z"
   },
   {
    "duration": 326,
    "start_time": "2024-08-09T03:21:34.263Z"
   },
   {
    "duration": 46,
    "start_time": "2024-08-09T03:21:49.088Z"
   },
   {
    "duration": 242,
    "start_time": "2024-08-09T03:26:36.725Z"
   },
   {
    "duration": 160,
    "start_time": "2024-08-09T03:27:17.278Z"
   },
   {
    "duration": 220,
    "start_time": "2024-08-09T03:27:28.342Z"
   },
   {
    "duration": 11,
    "start_time": "2024-08-09T03:28:55.845Z"
   },
   {
    "duration": 6,
    "start_time": "2024-08-09T03:29:13.734Z"
   },
   {
    "duration": 16,
    "start_time": "2024-08-09T03:32:47.130Z"
   },
   {
    "duration": 8,
    "start_time": "2024-08-09T03:33:29.757Z"
   },
   {
    "duration": 74,
    "start_time": "2024-08-09T03:34:07.318Z"
   },
   {
    "duration": 6,
    "start_time": "2024-08-09T03:34:24.386Z"
   },
   {
    "duration": 11,
    "start_time": "2024-08-09T03:42:49.582Z"
   },
   {
    "duration": 6,
    "start_time": "2024-08-09T03:43:03.176Z"
   },
   {
    "duration": 7,
    "start_time": "2024-08-09T03:43:48.320Z"
   },
   {
    "duration": 19,
    "start_time": "2024-08-09T03:47:28.863Z"
   },
   {
    "duration": 23,
    "start_time": "2024-08-09T03:48:34.229Z"
   },
   {
    "duration": 1383,
    "start_time": "2024-08-09T10:14:14.353Z"
   },
   {
    "duration": 932,
    "start_time": "2024-08-09T10:14:15.738Z"
   },
   {
    "duration": 25,
    "start_time": "2024-08-09T10:14:16.671Z"
   },
   {
    "duration": 10,
    "start_time": "2024-08-09T10:14:16.698Z"
   },
   {
    "duration": 22,
    "start_time": "2024-08-09T10:14:16.710Z"
   },
   {
    "duration": 22,
    "start_time": "2024-08-09T10:14:16.733Z"
   },
   {
    "duration": 55,
    "start_time": "2024-08-09T10:14:16.756Z"
   },
   {
    "duration": 99,
    "start_time": "2024-08-09T10:14:16.813Z"
   },
   {
    "duration": 99,
    "start_time": "2024-08-09T10:14:16.914Z"
   },
   {
    "duration": 4,
    "start_time": "2024-08-09T10:14:17.017Z"
   },
   {
    "duration": 215,
    "start_time": "2024-08-09T10:14:17.023Z"
   },
   {
    "duration": 32,
    "start_time": "2024-08-09T10:14:17.240Z"
   },
   {
    "duration": 70,
    "start_time": "2024-08-09T10:14:17.274Z"
   },
   {
    "duration": 21,
    "start_time": "2024-08-09T10:14:17.346Z"
   },
   {
    "duration": 11,
    "start_time": "2024-08-09T10:14:17.371Z"
   },
   {
    "duration": 40,
    "start_time": "2024-08-09T10:14:17.384Z"
   },
   {
    "duration": 128,
    "start_time": "2024-08-09T10:14:17.425Z"
   },
   {
    "duration": 5,
    "start_time": "2024-08-09T10:14:17.554Z"
   },
   {
    "duration": 27,
    "start_time": "2024-08-09T10:14:17.561Z"
   },
   {
    "duration": 30,
    "start_time": "2024-08-09T10:14:17.590Z"
   },
   {
    "duration": 137,
    "start_time": "2024-08-09T10:14:17.622Z"
   },
   {
    "duration": 47,
    "start_time": "2024-08-09T10:14:17.761Z"
   },
   {
    "duration": 28,
    "start_time": "2024-08-09T10:14:17.810Z"
   },
   {
    "duration": 11,
    "start_time": "2024-08-09T10:14:17.839Z"
   },
   {
    "duration": 18,
    "start_time": "2024-08-09T10:14:17.852Z"
   },
   {
    "duration": 598,
    "start_time": "2024-08-09T10:14:17.872Z"
   },
   {
    "duration": 290,
    "start_time": "2024-08-09T10:14:18.472Z"
   },
   {
    "duration": 4,
    "start_time": "2024-08-09T10:14:18.766Z"
   },
   {
    "duration": 31,
    "start_time": "2024-08-09T10:14:18.771Z"
   },
   {
    "duration": 20,
    "start_time": "2024-08-09T10:14:18.804Z"
   },
   {
    "duration": 36,
    "start_time": "2024-08-09T10:14:18.825Z"
   },
   {
    "duration": 298,
    "start_time": "2024-08-09T10:14:18.862Z"
   },
   {
    "duration": 17,
    "start_time": "2024-08-09T10:14:19.161Z"
   },
   {
    "duration": 82,
    "start_time": "2024-08-09T10:14:19.179Z"
   },
   {
    "duration": 20,
    "start_time": "2024-08-09T10:14:19.262Z"
   },
   {
    "duration": 82,
    "start_time": "2024-08-09T10:14:19.283Z"
   },
   {
    "duration": 16,
    "start_time": "2024-08-09T10:14:19.366Z"
   },
   {
    "duration": 28,
    "start_time": "2024-08-09T10:14:19.384Z"
   },
   {
    "duration": 13,
    "start_time": "2024-08-09T10:14:19.414Z"
   },
   {
    "duration": 11,
    "start_time": "2024-08-09T10:14:19.429Z"
   },
   {
    "duration": 44,
    "start_time": "2024-08-09T10:14:19.442Z"
   },
   {
    "duration": 89,
    "start_time": "2024-08-09T10:14:19.487Z"
   },
   {
    "duration": 9,
    "start_time": "2024-08-09T10:14:19.578Z"
   },
   {
    "duration": 20,
    "start_time": "2024-08-09T10:14:19.588Z"
   },
   {
    "duration": 13,
    "start_time": "2024-08-09T10:14:19.609Z"
   },
   {
    "duration": 28,
    "start_time": "2024-08-09T10:14:19.624Z"
   },
   {
    "duration": 12,
    "start_time": "2024-08-09T10:14:19.654Z"
   },
   {
    "duration": 13,
    "start_time": "2024-08-09T10:14:19.668Z"
   },
   {
    "duration": 11,
    "start_time": "2024-08-09T10:14:19.683Z"
   },
   {
    "duration": 15,
    "start_time": "2024-08-09T10:14:19.696Z"
   },
   {
    "duration": 7,
    "start_time": "2024-08-09T10:17:16.002Z"
   },
   {
    "duration": 6,
    "start_time": "2024-08-09T10:17:27.842Z"
   },
   {
    "duration": 158,
    "start_time": "2024-08-09T10:20:09.798Z"
   },
   {
    "duration": 32,
    "start_time": "2024-08-09T10:20:25.463Z"
   },
   {
    "duration": 26,
    "start_time": "2024-08-09T10:20:36.048Z"
   },
   {
    "duration": 9,
    "start_time": "2024-08-09T10:20:40.729Z"
   },
   {
    "duration": 3,
    "start_time": "2024-08-09T10:20:41.210Z"
   },
   {
    "duration": 499,
    "start_time": "2024-08-09T10:20:52.813Z"
   },
   {
    "duration": 46,
    "start_time": "2024-08-09T10:23:33.767Z"
   },
   {
    "duration": 414,
    "start_time": "2024-08-09T10:24:42.299Z"
   },
   {
    "duration": 334,
    "start_time": "2024-08-09T10:24:53.046Z"
   },
   {
    "duration": 457,
    "start_time": "2024-08-09T10:26:19.234Z"
   },
   {
    "duration": 492,
    "start_time": "2024-08-09T10:26:23.437Z"
   },
   {
    "duration": 369,
    "start_time": "2024-08-09T10:26:44.185Z"
   },
   {
    "duration": 423,
    "start_time": "2024-08-09T10:31:04.916Z"
   },
   {
    "duration": 410,
    "start_time": "2024-08-09T10:31:21.090Z"
   },
   {
    "duration": 4,
    "start_time": "2024-08-09T10:33:32.859Z"
   },
   {
    "duration": 306,
    "start_time": "2024-08-09T10:40:50.619Z"
   },
   {
    "duration": 385,
    "start_time": "2024-08-09T10:49:59.076Z"
   },
   {
    "duration": 3,
    "start_time": "2024-08-09T10:51:10.769Z"
   },
   {
    "duration": 14,
    "start_time": "2024-08-09T10:52:18.502Z"
   },
   {
    "duration": 14,
    "start_time": "2024-08-09T10:52:27.903Z"
   },
   {
    "duration": 12,
    "start_time": "2024-08-09T10:52:33.557Z"
   },
   {
    "duration": 31,
    "start_time": "2024-08-09T10:52:38.845Z"
   },
   {
    "duration": 2,
    "start_time": "2024-08-09T10:55:20.179Z"
   },
   {
    "duration": 384,
    "start_time": "2024-08-09T10:55:20.926Z"
   },
   {
    "duration": 3,
    "start_time": "2024-08-09T10:56:08.523Z"
   },
   {
    "duration": 386,
    "start_time": "2024-08-09T10:56:09.597Z"
   },
   {
    "duration": 2,
    "start_time": "2024-08-09T10:56:16.346Z"
   },
   {
    "duration": 410,
    "start_time": "2024-08-09T10:56:16.902Z"
   },
   {
    "duration": 473,
    "start_time": "2024-08-09T10:56:26.585Z"
   },
   {
    "duration": 4,
    "start_time": "2024-08-09T11:02:20.250Z"
   },
   {
    "duration": 11,
    "start_time": "2024-08-09T11:02:58.898Z"
   },
   {
    "duration": 19,
    "start_time": "2024-08-09T11:03:53.831Z"
   },
   {
    "duration": 16,
    "start_time": "2024-08-09T11:04:51.694Z"
   },
   {
    "duration": 37,
    "start_time": "2024-08-09T11:05:52.127Z"
   },
   {
    "duration": 117,
    "start_time": "2024-08-09T11:06:02.106Z"
   },
   {
    "duration": 119,
    "start_time": "2024-08-09T11:13:57.983Z"
   },
   {
    "duration": 4,
    "start_time": "2024-08-09T11:15:16.443Z"
   },
   {
    "duration": 3122,
    "start_time": "2024-08-09T11:18:42.560Z"
   },
   {
    "duration": 4,
    "start_time": "2024-08-09T11:19:08.854Z"
   },
   {
    "duration": 21571,
    "start_time": "2024-08-09T11:19:49.595Z"
   },
   {
    "duration": 7,
    "start_time": "2024-08-09T11:43:37.822Z"
   },
   {
    "duration": 8,
    "start_time": "2024-08-09T11:43:39.889Z"
   },
   {
    "duration": 283,
    "start_time": "2024-08-09T11:51:30.067Z"
   },
   {
    "duration": 15,
    "start_time": "2024-08-09T11:52:42.630Z"
   },
   {
    "duration": 55,
    "start_time": "2024-08-09T11:52:45.662Z"
   },
   {
    "duration": 19,
    "start_time": "2024-08-09T11:52:51.542Z"
   },
   {
    "duration": 62,
    "start_time": "2024-08-09T11:53:24.821Z"
   },
   {
    "duration": 13,
    "start_time": "2024-08-09T11:53:28.830Z"
   },
   {
    "duration": 4,
    "start_time": "2024-08-09T12:03:18.509Z"
   },
   {
    "duration": 283,
    "start_time": "2024-08-09T12:24:11.587Z"
   },
   {
    "duration": 354,
    "start_time": "2024-08-09T12:24:50.405Z"
   },
   {
    "duration": 46,
    "start_time": "2024-08-09T12:25:54.682Z"
   },
   {
    "duration": 3,
    "start_time": "2024-08-09T12:26:14.893Z"
   },
   {
    "duration": 46,
    "start_time": "2024-08-09T12:26:29.863Z"
   },
   {
    "duration": 48,
    "start_time": "2024-08-09T12:54:02.683Z"
   },
   {
    "duration": 1264,
    "start_time": "2024-08-09T12:54:35.856Z"
   },
   {
    "duration": 203,
    "start_time": "2024-08-09T12:54:37.121Z"
   },
   {
    "duration": 27,
    "start_time": "2024-08-09T12:54:37.326Z"
   },
   {
    "duration": 10,
    "start_time": "2024-08-09T12:54:37.355Z"
   },
   {
    "duration": 41,
    "start_time": "2024-08-09T12:54:37.367Z"
   },
   {
    "duration": 20,
    "start_time": "2024-08-09T12:54:37.409Z"
   },
   {
    "duration": 31,
    "start_time": "2024-08-09T12:54:37.431Z"
   },
   {
    "duration": 99,
    "start_time": "2024-08-09T12:54:37.463Z"
   },
   {
    "duration": 105,
    "start_time": "2024-08-09T12:54:37.564Z"
   },
   {
    "duration": 4,
    "start_time": "2024-08-09T12:54:37.672Z"
   },
   {
    "duration": 186,
    "start_time": "2024-08-09T12:54:37.677Z"
   },
   {
    "duration": 30,
    "start_time": "2024-08-09T12:54:37.865Z"
   },
   {
    "duration": 35,
    "start_time": "2024-08-09T12:54:37.897Z"
   },
   {
    "duration": 9,
    "start_time": "2024-08-09T12:54:37.934Z"
   },
   {
    "duration": 7,
    "start_time": "2024-08-09T12:54:37.945Z"
   },
   {
    "duration": 26,
    "start_time": "2024-08-09T12:54:37.954Z"
   },
   {
    "duration": 146,
    "start_time": "2024-08-09T12:54:37.981Z"
   },
   {
    "duration": 5,
    "start_time": "2024-08-09T12:54:38.128Z"
   },
   {
    "duration": 9,
    "start_time": "2024-08-09T12:54:38.135Z"
   },
   {
    "duration": 21,
    "start_time": "2024-08-09T12:54:38.145Z"
   },
   {
    "duration": 42,
    "start_time": "2024-08-09T12:54:38.168Z"
   },
   {
    "duration": 32,
    "start_time": "2024-08-09T12:54:38.212Z"
   },
   {
    "duration": 27,
    "start_time": "2024-08-09T12:54:38.246Z"
   },
   {
    "duration": 22,
    "start_time": "2024-08-09T12:54:38.275Z"
   },
   {
    "duration": 3,
    "start_time": "2024-08-09T12:54:38.307Z"
   },
   {
    "duration": 51,
    "start_time": "2024-08-09T12:54:38.312Z"
   },
   {
    "duration": 363,
    "start_time": "2024-08-09T12:54:38.365Z"
   },
   {
    "duration": 444,
    "start_time": "2024-08-09T12:54:38.731Z"
   },
   {
    "duration": 5,
    "start_time": "2024-08-09T12:54:39.176Z"
   },
   {
    "duration": 36,
    "start_time": "2024-08-09T12:54:39.182Z"
   },
   {
    "duration": 29,
    "start_time": "2024-08-09T12:54:39.219Z"
   },
   {
    "duration": 59,
    "start_time": "2024-08-09T12:54:39.250Z"
   },
   {
    "duration": 126,
    "start_time": "2024-08-09T12:54:39.311Z"
   },
   {
    "duration": 3046,
    "start_time": "2024-08-09T12:54:39.439Z"
   },
   {
    "duration": 293,
    "start_time": "2024-08-09T12:54:42.487Z"
   },
   {
    "duration": 14,
    "start_time": "2024-08-09T12:54:42.781Z"
   },
   {
    "duration": 58,
    "start_time": "2024-08-09T12:54:42.796Z"
   },
   {
    "duration": 18,
    "start_time": "2024-08-09T12:54:42.856Z"
   },
   {
    "duration": 82,
    "start_time": "2024-08-09T12:54:42.876Z"
   },
   {
    "duration": 15,
    "start_time": "2024-08-09T12:54:42.960Z"
   },
   {
    "duration": 7,
    "start_time": "2024-08-09T12:54:42.976Z"
   },
   {
    "duration": 419,
    "start_time": "2024-08-09T12:54:42.985Z"
   },
   {
    "duration": 12,
    "start_time": "2024-08-09T12:54:43.406Z"
   },
   {
    "duration": 33,
    "start_time": "2024-08-09T12:54:43.420Z"
   },
   {
    "duration": 168,
    "start_time": "2024-08-09T12:54:43.455Z"
   },
   {
    "duration": 8,
    "start_time": "2024-08-09T12:54:43.625Z"
   },
   {
    "duration": 5,
    "start_time": "2024-08-09T12:54:43.634Z"
   },
   {
    "duration": 6,
    "start_time": "2024-08-09T12:54:43.640Z"
   },
   {
    "duration": 13,
    "start_time": "2024-08-09T12:54:43.647Z"
   },
   {
    "duration": 12,
    "start_time": "2024-08-09T12:54:43.661Z"
   },
   {
    "duration": 40,
    "start_time": "2024-08-09T12:54:43.675Z"
   },
   {
    "duration": 9,
    "start_time": "2024-08-09T12:54:43.716Z"
   },
   {
    "duration": 10,
    "start_time": "2024-08-09T12:54:43.726Z"
   },
   {
    "duration": 1191,
    "start_time": "2024-08-09T14:00:37.682Z"
   },
   {
    "duration": 175,
    "start_time": "2024-08-09T14:00:38.875Z"
   },
   {
    "duration": 33,
    "start_time": "2024-08-09T14:00:39.052Z"
   },
   {
    "duration": 11,
    "start_time": "2024-08-09T14:00:39.087Z"
   },
   {
    "duration": 47,
    "start_time": "2024-08-09T14:00:39.100Z"
   },
   {
    "duration": 21,
    "start_time": "2024-08-09T14:00:39.148Z"
   },
   {
    "duration": 45,
    "start_time": "2024-08-09T14:00:39.172Z"
   },
   {
    "duration": 88,
    "start_time": "2024-08-09T14:00:39.220Z"
   },
   {
    "duration": 90,
    "start_time": "2024-08-09T14:00:39.310Z"
   },
   {
    "duration": 3,
    "start_time": "2024-08-09T14:00:39.403Z"
   },
   {
    "duration": 182,
    "start_time": "2024-08-09T14:00:39.407Z"
   },
   {
    "duration": 29,
    "start_time": "2024-08-09T14:00:39.591Z"
   },
   {
    "duration": 43,
    "start_time": "2024-08-09T14:00:39.621Z"
   },
   {
    "duration": 65,
    "start_time": "2024-08-09T14:00:39.665Z"
   },
   {
    "duration": 23,
    "start_time": "2024-08-09T14:00:39.732Z"
   },
   {
    "duration": 40,
    "start_time": "2024-08-09T14:00:39.756Z"
   },
   {
    "duration": 224,
    "start_time": "2024-08-09T14:00:39.797Z"
   },
   {
    "duration": 4,
    "start_time": "2024-08-09T14:00:40.022Z"
   },
   {
    "duration": 20,
    "start_time": "2024-08-09T14:00:40.027Z"
   },
   {
    "duration": 19,
    "start_time": "2024-08-09T14:00:40.049Z"
   },
   {
    "duration": 17,
    "start_time": "2024-08-09T14:00:40.070Z"
   },
   {
    "duration": 29,
    "start_time": "2024-08-09T14:00:40.088Z"
   },
   {
    "duration": 24,
    "start_time": "2024-08-09T14:00:40.118Z"
   },
   {
    "duration": 16,
    "start_time": "2024-08-09T14:00:40.143Z"
   },
   {
    "duration": 5,
    "start_time": "2024-08-09T14:00:40.160Z"
   },
   {
    "duration": 59,
    "start_time": "2024-08-09T14:00:40.166Z"
   },
   {
    "duration": 339,
    "start_time": "2024-08-09T14:00:40.226Z"
   },
   {
    "duration": 417,
    "start_time": "2024-08-09T14:00:40.568Z"
   },
   {
    "duration": 5,
    "start_time": "2024-08-09T14:00:40.986Z"
   },
   {
    "duration": 4,
    "start_time": "2024-08-09T14:00:40.993Z"
   },
   {
    "duration": 25,
    "start_time": "2024-08-09T14:00:40.998Z"
   },
   {
    "duration": 29,
    "start_time": "2024-08-09T14:00:41.025Z"
   },
   {
    "duration": 130,
    "start_time": "2024-08-09T14:00:41.056Z"
   },
   {
    "duration": 2797,
    "start_time": "2024-08-09T14:00:41.188Z"
   },
   {
    "duration": 268,
    "start_time": "2024-08-09T14:00:43.986Z"
   },
   {
    "duration": 12,
    "start_time": "2024-08-09T14:00:44.256Z"
   },
   {
    "duration": 57,
    "start_time": "2024-08-09T14:00:44.270Z"
   },
   {
    "duration": 18,
    "start_time": "2024-08-09T14:00:44.328Z"
   },
   {
    "duration": 67,
    "start_time": "2024-08-09T14:00:44.348Z"
   },
   {
    "duration": 12,
    "start_time": "2024-08-09T14:00:44.417Z"
   },
   {
    "duration": 63,
    "start_time": "2024-08-09T14:00:44.430Z"
   },
   {
    "duration": 593,
    "start_time": "2024-08-09T14:00:44.494Z"
   },
   {
    "duration": 9,
    "start_time": "2024-08-09T14:00:45.089Z"
   },
   {
    "duration": 117,
    "start_time": "2024-08-09T14:00:45.099Z"
   },
   {
    "duration": 70,
    "start_time": "2024-08-09T14:00:45.218Z"
   },
   {
    "duration": 8,
    "start_time": "2024-08-09T14:00:45.290Z"
   },
   {
    "duration": 17,
    "start_time": "2024-08-09T14:00:45.299Z"
   },
   {
    "duration": 41,
    "start_time": "2024-08-09T14:00:45.317Z"
   },
   {
    "duration": 48,
    "start_time": "2024-08-09T14:00:45.360Z"
   },
   {
    "duration": 40,
    "start_time": "2024-08-09T14:00:45.411Z"
   },
   {
    "duration": 12,
    "start_time": "2024-08-09T14:00:45.452Z"
   },
   {
    "duration": 10,
    "start_time": "2024-08-09T14:00:45.465Z"
   },
   {
    "duration": 18,
    "start_time": "2024-08-09T14:00:45.476Z"
   },
   {
    "duration": 49,
    "start_time": "2024-08-11T15:50:59.314Z"
   },
   {
    "duration": 6,
    "start_time": "2024-08-11T15:51:50.110Z"
   }
  ],
  "kernelspec": {
   "display_name": "Python 3 (ipykernel)",
   "language": "python",
   "name": "python3"
  },
  "language_info": {
   "codemirror_mode": {
    "name": "ipython",
    "version": 3
   },
   "file_extension": ".py",
   "mimetype": "text/x-python",
   "name": "python",
   "nbconvert_exporter": "python",
   "pygments_lexer": "ipython3",
   "version": "3.11.8"
  },
  "toc": {
   "base_numbering": 1,
   "nav_menu": {},
   "number_sections": true,
   "sideBar": true,
   "skip_h1_title": true,
   "title_cell": "Table of Contents",
   "title_sidebar": "Contents",
   "toc_cell": true,
   "toc_position": {
    "height": "calc(100% - 180px)",
    "left": "10px",
    "top": "150px",
    "width": "181.776px"
   },
   "toc_section_display": true,
   "toc_window_display": false
  }
 },
 "nbformat": 4,
 "nbformat_minor": 5
}
