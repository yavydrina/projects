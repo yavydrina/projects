{
 "cells": [
  {
   "cell_type": "markdown",
   "id": "3b3f4928",
   "metadata": {},
   "source": [
    "# Исследование о поездках на арендованных электросамокатах\n",
    "\n",
    "Сервис аренды самокатов GoFast преоставил данные о некоторых пользователях из нескольких городов, а также об их поездках. \n",
    "Чтобы совершать поездки по городу, пользователи сервиса GoFast пользуются мобильным приложением. Сервисом можно пользоваться:\n",
    " - **без подписки** (абонентская плата отсутствует; стоимость одной минуты поездки — 8 рублей; стоимость старта (начала поездки) — 50 рублей);\n",
    " - **с подпиской Ultra** (абонентская плата — 199 рублей в месяц;\n",
    "стоимость одной минуты поездки — 6 рублей;\n",
    "стоимость старта — бесплатно).\n",
    "\n",
    "**Цель проекта:**\n",
    "Проверка гипотезы о том, что пользователи, приобревшие подписку, приносят больший доход, чем пользователи без подписки.\n",
    "\n",
    "**План проекта:**\n",
    "\n",
    "1. Загрузка данных: в нашем распоряжении три файла:\n",
    "- Пользователи — users_go.csv;\n",
    "- Поездки — rides_go.csv;\n",
    "- Подписки — subscriptions_go.csv.\n",
    "\n",
    "2. Предобработка данных: \n",
    "- поиск пропущенных значений;\n",
    "- заполнение пропущенных значений, где возможно;\n",
    "- определение типа данных и в случае необходимости изменение на более подходящий;\n",
    "- проверка на дубликаты и их обработка.\n",
    "\n",
    "3. Исследовательский анализ данных. Описание и визуализация общей информации о пользователях и поездках:\n",
    "- частота встречаемости городов;\n",
    "- соотношение пользователей с подпиской и без подписки;\n",
    "- возраст пользователей;\n",
    "- расстояние, которое пользователь преодолел за одну поездку;\n",
    "- продолжительность поездок.\n",
    "\n",
    "4. Объединение данных:\n",
    "- oбъединим данные о пользователях, поездках и подписках в один датафрейм. \n",
    "- разделим объединенный датафрейм на два по наличию подписки.\n",
    "- визуализируем информацию о расстоянии и времени поездок для пользователей обеих категорий.\n",
    "\n",
    "5. Подсчет выручки: определить помесячный доход от каждого пользователя\n",
    "\n",
    "6. Проверка гипотез:\n",
    "- понять, тратят ли пользователи с подпиской больше времени на поездки?\n",
    "- можно ли сказать, что среднее расстояние, которое проезжают пользователи с подпиской за одну поездку, не превышает 3130 метров?\n",
    "- будет ли помесячная выручка от пользователей с подпиской по месяцам выше, чем выручка от пользователей без подписки?"
   ]
  },
  {
   "cell_type": "code",
   "execution_count": 1,
   "id": "477d1711",
   "metadata": {},
   "outputs": [],
   "source": [
    "import pandas as pd\n",
    "from matplotlib import pyplot as plt\n",
    "import matplotlib\n",
    "import numpy as np\n",
    "from scipy import stats as st\n",
    "from scipy.stats import binom, norm\n",
    "from math import sqrt"
   ]
  },
  {
   "cell_type": "markdown",
   "id": "d830971e",
   "metadata": {},
   "source": [
    "## Шаг 1. Загрузка данных"
   ]
  },
  {
   "cell_type": "markdown",
   "id": "06f58ca0",
   "metadata": {},
   "source": [
    "Загрузим три таблицы с помощью метода `read_csv()`, изучим общую информацию методом `info()`, а также выведем на экран первые пять строк каждой таблицы методом `head()`"
   ]
  },
  {
   "cell_type": "code",
   "execution_count": 2,
   "id": "cce5d26f",
   "metadata": {},
   "outputs": [
    {
     "name": "stdout",
     "output_type": "stream",
     "text": [
      "<class 'pandas.core.frame.DataFrame'>\n",
      "RangeIndex: 1565 entries, 0 to 1564\n",
      "Data columns (total 5 columns):\n",
      " #   Column             Non-Null Count  Dtype \n",
      "---  ------             --------------  ----- \n",
      " 0   user_id            1565 non-null   int64 \n",
      " 1   name               1565 non-null   object\n",
      " 2   age                1565 non-null   int64 \n",
      " 3   city               1565 non-null   object\n",
      " 4   subscription_type  1565 non-null   object\n",
      "dtypes: int64(2), object(3)\n",
      "memory usage: 61.3+ KB\n"
     ]
    }
   ],
   "source": [
    "users = pd.read_csv('/datasets/users_go.csv')\n",
    "users.info()"
   ]
  },
  {
   "cell_type": "code",
   "execution_count": 3,
   "id": "ad685bce",
   "metadata": {},
   "outputs": [
    {
     "data": {
      "text/html": [
       "<div>\n",
       "<style scoped>\n",
       "    .dataframe tbody tr th:only-of-type {\n",
       "        vertical-align: middle;\n",
       "    }\n",
       "\n",
       "    .dataframe tbody tr th {\n",
       "        vertical-align: top;\n",
       "    }\n",
       "\n",
       "    .dataframe thead th {\n",
       "        text-align: right;\n",
       "    }\n",
       "</style>\n",
       "<table border=\"1\" class=\"dataframe\">\n",
       "  <thead>\n",
       "    <tr style=\"text-align: right;\">\n",
       "      <th></th>\n",
       "      <th>user_id</th>\n",
       "      <th>name</th>\n",
       "      <th>age</th>\n",
       "      <th>city</th>\n",
       "      <th>subscription_type</th>\n",
       "    </tr>\n",
       "  </thead>\n",
       "  <tbody>\n",
       "    <tr>\n",
       "      <th>0</th>\n",
       "      <td>1</td>\n",
       "      <td>Кира</td>\n",
       "      <td>22</td>\n",
       "      <td>Тюмень</td>\n",
       "      <td>ultra</td>\n",
       "    </tr>\n",
       "    <tr>\n",
       "      <th>1</th>\n",
       "      <td>2</td>\n",
       "      <td>Станислав</td>\n",
       "      <td>31</td>\n",
       "      <td>Омск</td>\n",
       "      <td>ultra</td>\n",
       "    </tr>\n",
       "    <tr>\n",
       "      <th>2</th>\n",
       "      <td>3</td>\n",
       "      <td>Алексей</td>\n",
       "      <td>20</td>\n",
       "      <td>Москва</td>\n",
       "      <td>ultra</td>\n",
       "    </tr>\n",
       "    <tr>\n",
       "      <th>3</th>\n",
       "      <td>4</td>\n",
       "      <td>Константин</td>\n",
       "      <td>26</td>\n",
       "      <td>Ростов-на-Дону</td>\n",
       "      <td>ultra</td>\n",
       "    </tr>\n",
       "    <tr>\n",
       "      <th>4</th>\n",
       "      <td>5</td>\n",
       "      <td>Адель</td>\n",
       "      <td>28</td>\n",
       "      <td>Омск</td>\n",
       "      <td>ultra</td>\n",
       "    </tr>\n",
       "  </tbody>\n",
       "</table>\n",
       "</div>"
      ],
      "text/plain": [
       "   user_id        name  age            city subscription_type\n",
       "0        1        Кира   22          Тюмень             ultra\n",
       "1        2   Станислав   31            Омск             ultra\n",
       "2        3     Алексей   20          Москва             ultra\n",
       "3        4  Константин   26  Ростов-на-Дону             ultra\n",
       "4        5       Адель   28            Омск             ultra"
      ]
     },
     "execution_count": 3,
     "metadata": {},
     "output_type": "execute_result"
    }
   ],
   "source": [
    "users.head()"
   ]
  },
  {
   "cell_type": "code",
   "execution_count": 4,
   "id": "3cbd12f9",
   "metadata": {},
   "outputs": [
    {
     "name": "stdout",
     "output_type": "stream",
     "text": [
      "<class 'pandas.core.frame.DataFrame'>\n",
      "RangeIndex: 18068 entries, 0 to 18067\n",
      "Data columns (total 4 columns):\n",
      " #   Column    Non-Null Count  Dtype  \n",
      "---  ------    --------------  -----  \n",
      " 0   user_id   18068 non-null  int64  \n",
      " 1   distance  18068 non-null  float64\n",
      " 2   duration  18068 non-null  float64\n",
      " 3   date      18068 non-null  object \n",
      "dtypes: float64(2), int64(1), object(1)\n",
      "memory usage: 564.8+ KB\n"
     ]
    }
   ],
   "source": [
    "rides = pd.read_csv('/datasets/rides_go.csv')\n",
    "rides.info()"
   ]
  },
  {
   "cell_type": "code",
   "execution_count": 5,
   "id": "c20b2235",
   "metadata": {},
   "outputs": [
    {
     "data": {
      "text/html": [
       "<div>\n",
       "<style scoped>\n",
       "    .dataframe tbody tr th:only-of-type {\n",
       "        vertical-align: middle;\n",
       "    }\n",
       "\n",
       "    .dataframe tbody tr th {\n",
       "        vertical-align: top;\n",
       "    }\n",
       "\n",
       "    .dataframe thead th {\n",
       "        text-align: right;\n",
       "    }\n",
       "</style>\n",
       "<table border=\"1\" class=\"dataframe\">\n",
       "  <thead>\n",
       "    <tr style=\"text-align: right;\">\n",
       "      <th></th>\n",
       "      <th>user_id</th>\n",
       "      <th>distance</th>\n",
       "      <th>duration</th>\n",
       "      <th>date</th>\n",
       "    </tr>\n",
       "  </thead>\n",
       "  <tbody>\n",
       "    <tr>\n",
       "      <th>0</th>\n",
       "      <td>1</td>\n",
       "      <td>4409.919140</td>\n",
       "      <td>25.599769</td>\n",
       "      <td>2021-01-01</td>\n",
       "    </tr>\n",
       "    <tr>\n",
       "      <th>1</th>\n",
       "      <td>1</td>\n",
       "      <td>2617.592153</td>\n",
       "      <td>15.816871</td>\n",
       "      <td>2021-01-18</td>\n",
       "    </tr>\n",
       "    <tr>\n",
       "      <th>2</th>\n",
       "      <td>1</td>\n",
       "      <td>754.159807</td>\n",
       "      <td>6.232113</td>\n",
       "      <td>2021-04-20</td>\n",
       "    </tr>\n",
       "    <tr>\n",
       "      <th>3</th>\n",
       "      <td>1</td>\n",
       "      <td>2694.783254</td>\n",
       "      <td>18.511000</td>\n",
       "      <td>2021-08-11</td>\n",
       "    </tr>\n",
       "    <tr>\n",
       "      <th>4</th>\n",
       "      <td>1</td>\n",
       "      <td>4028.687306</td>\n",
       "      <td>26.265803</td>\n",
       "      <td>2021-08-28</td>\n",
       "    </tr>\n",
       "  </tbody>\n",
       "</table>\n",
       "</div>"
      ],
      "text/plain": [
       "   user_id     distance   duration        date\n",
       "0        1  4409.919140  25.599769  2021-01-01\n",
       "1        1  2617.592153  15.816871  2021-01-18\n",
       "2        1   754.159807   6.232113  2021-04-20\n",
       "3        1  2694.783254  18.511000  2021-08-11\n",
       "4        1  4028.687306  26.265803  2021-08-28"
      ]
     },
     "execution_count": 5,
     "metadata": {},
     "output_type": "execute_result"
    }
   ],
   "source": [
    "rides.head()"
   ]
  },
  {
   "cell_type": "code",
   "execution_count": 6,
   "id": "6ebff614",
   "metadata": {},
   "outputs": [
    {
     "name": "stdout",
     "output_type": "stream",
     "text": [
      "<class 'pandas.core.frame.DataFrame'>\n",
      "RangeIndex: 2 entries, 0 to 1\n",
      "Data columns (total 4 columns):\n",
      " #   Column             Non-Null Count  Dtype \n",
      "---  ------             --------------  ----- \n",
      " 0   subscription_type  2 non-null      object\n",
      " 1   minute_price       2 non-null      int64 \n",
      " 2   start_ride_price   2 non-null      int64 \n",
      " 3   subscription_fee   2 non-null      int64 \n",
      "dtypes: int64(3), object(1)\n",
      "memory usage: 192.0+ bytes\n"
     ]
    }
   ],
   "source": [
    "subscriptions = pd.read_csv('/datasets/subscriptions_go.csv')\n",
    "subscriptions.info()"
   ]
  },
  {
   "cell_type": "code",
   "execution_count": 7,
   "id": "9eca13fd",
   "metadata": {},
   "outputs": [
    {
     "data": {
      "text/html": [
       "<div>\n",
       "<style scoped>\n",
       "    .dataframe tbody tr th:only-of-type {\n",
       "        vertical-align: middle;\n",
       "    }\n",
       "\n",
       "    .dataframe tbody tr th {\n",
       "        vertical-align: top;\n",
       "    }\n",
       "\n",
       "    .dataframe thead th {\n",
       "        text-align: right;\n",
       "    }\n",
       "</style>\n",
       "<table border=\"1\" class=\"dataframe\">\n",
       "  <thead>\n",
       "    <tr style=\"text-align: right;\">\n",
       "      <th></th>\n",
       "      <th>subscription_type</th>\n",
       "      <th>minute_price</th>\n",
       "      <th>start_ride_price</th>\n",
       "      <th>subscription_fee</th>\n",
       "    </tr>\n",
       "  </thead>\n",
       "  <tbody>\n",
       "    <tr>\n",
       "      <th>0</th>\n",
       "      <td>free</td>\n",
       "      <td>8</td>\n",
       "      <td>50</td>\n",
       "      <td>0</td>\n",
       "    </tr>\n",
       "    <tr>\n",
       "      <th>1</th>\n",
       "      <td>ultra</td>\n",
       "      <td>6</td>\n",
       "      <td>0</td>\n",
       "      <td>199</td>\n",
       "    </tr>\n",
       "  </tbody>\n",
       "</table>\n",
       "</div>"
      ],
      "text/plain": [
       "  subscription_type  minute_price  start_ride_price  subscription_fee\n",
       "0              free             8                50                 0\n",
       "1             ultra             6                 0               199"
      ]
     },
     "execution_count": 7,
     "metadata": {},
     "output_type": "execute_result"
    }
   ],
   "source": [
    "subscriptions.head()"
   ]
  },
  {
   "cell_type": "markdown",
   "id": "7bbbbfef",
   "metadata": {},
   "source": [
    "**Вывод: во всех трех таблицах нет пропущенных значений, названия столбцов корректно указаны (не требуют исправлений), типы данных также корректы везде, кроме столбца `date` в датафрейме `rides`.\n",
    "На следующем этапе займусь этим столбцом и проверкой на дубликаты.**"
   ]
  },
  {
   "cell_type": "markdown",
   "id": "a3410da5",
   "metadata": {},
   "source": [
    "## Шаг 2. Предобработка данных"
   ]
  },
  {
   "cell_type": "markdown",
   "id": "f9de64e3",
   "metadata": {},
   "source": [
    "### Приведение столбца date к типу даты pandas.\n",
    "\n",
    "Воспользуемся методом `to_datetime()`"
   ]
  },
  {
   "cell_type": "code",
   "execution_count": 8,
   "id": "fdb23870",
   "metadata": {},
   "outputs": [],
   "source": [
    "rides['date'] = pd.to_datetime(rides['date'], format='%Y-%m-%d')"
   ]
  },
  {
   "cell_type": "markdown",
   "id": "e6e79406",
   "metadata": {},
   "source": [
    "Проверим, за какой период предоставлены данные"
   ]
  },
  {
   "cell_type": "code",
   "execution_count": 9,
   "id": "673d3d55",
   "metadata": {},
   "outputs": [
    {
     "data": {
      "text/plain": [
       "(Timestamp('2021-01-01 00:00:00'), Timestamp('2021-12-30 00:00:00'))"
      ]
     },
     "execution_count": 9,
     "metadata": {},
     "output_type": "execute_result"
    }
   ],
   "source": [
    "rides['date'].min(), rides['date'].max()"
   ]
  },
  {
   "cell_type": "markdown",
   "id": "994ae4c6",
   "metadata": {},
   "source": [
    "У нас имеются данные за весь 2021 год с января до конца декабря, для дальнейшего исследования логичным будет \n",
    "добавление нового столбца с номером месяца."
   ]
  },
  {
   "cell_type": "markdown",
   "id": "7bd3d132",
   "metadata": {},
   "source": [
    "### Создание нового столбца с номером месяца"
   ]
  },
  {
   "cell_type": "code",
   "execution_count": 10,
   "id": "a11aafed",
   "metadata": {},
   "outputs": [
    {
     "data": {
      "text/plain": [
       "array([ 1,  4,  8, 10, 11, 12,  3,  6,  7,  2,  5,  9])"
      ]
     },
     "execution_count": 10,
     "metadata": {},
     "output_type": "execute_result"
    }
   ],
   "source": [
    "rides['month'] = rides['date'].dt.month\n",
    "rides['month'].unique()"
   ]
  },
  {
   "cell_type": "markdown",
   "id": "61111e7f",
   "metadata": {},
   "source": [
    "### Обработка дубликатов\n",
    "\n",
    "Прежду чем искать дубликаты, посмотрим, какие уникальные значения в каждом строковом столбце, возможно присутствуют неявные дубликаты."
   ]
  },
  {
   "cell_type": "code",
   "execution_count": 11,
   "id": "abec2c28",
   "metadata": {},
   "outputs": [
    {
     "data": {
      "text/plain": [
       "array(['Кира', 'Станислав', 'Алексей', 'Константин', 'Адель', 'Регина',\n",
       "       'Игорь', 'Юрий', 'Ян', 'Валерий', 'Агата', 'Марк', 'Ева',\n",
       "       'Антонина', 'Валерия', 'Амалия', 'Даниил', 'Аделина', 'Святогор',\n",
       "       'Борис', 'Вероника', 'Ростислав', 'Назар', 'Эдуард', 'Василий',\n",
       "       'Денис', 'Тамара', 'Николай', 'Эвелина', 'Федор', 'Руслан', 'Иван',\n",
       "       'Любовь', 'Ярослава', 'Майя', 'Ильдар', 'Данила', 'Нина',\n",
       "       'Стефания', 'Ясмина', 'Дмитрий', 'Александр', 'Одиссей', 'Арсений',\n",
       "       'Алла', 'Таисия', 'Максим', 'Юлиана', 'Павел', 'Карина', 'Алиса',\n",
       "       'Лидия', 'Рамиль', 'Родион', 'Ника', 'Оксана', 'Анастасия',\n",
       "       'Маргарита', 'Вера', 'Тимур', 'Никита', 'Лев', 'Влад', 'Артур',\n",
       "       'Анна', 'Ольга', 'Вячеслав', 'Ксения', 'Виталина', 'Владислав',\n",
       "       'Тамерлан', 'Амина', 'Вадим', 'Олеся', 'Зарина', 'Егор', 'Гордей',\n",
       "       'Лилия', 'Святослав', 'Роберт', 'Амир', 'Влада', 'Богдан',\n",
       "       'Полина', 'Марат', 'Елисей', 'Макар', 'Алина', 'Глеб', 'Андрей',\n",
       "       'Альбина', 'Людмила', 'Марсель', 'Милена', 'Диана', 'Дарина',\n",
       "       'Данил', 'Артемий', 'Лиана', 'Альберт', 'Герман', 'Жанна', 'Нелли',\n",
       "       'Евгения', 'Ариана', 'Самира', 'Захар', 'Эльвира', 'Екатерина',\n",
       "       'Инна', 'Демид', 'Яна', 'Михаил', 'Татьяна', 'Степан', 'Мелания',\n",
       "       'Тимофей', 'Ирина', 'Анжелика', 'Владислава', 'Елизавета',\n",
       "       'Мадина', 'Снежана', 'Даниэль', 'Рустам', 'Каролина', 'Ангелина',\n",
       "       'Владимир', 'Виктория', 'Валентина', 'Семен', 'Арина', 'Лариса',\n",
       "       'Есения', 'Галина', 'Кирилл', 'Игнат', 'Виталий', 'Эмилия',\n",
       "       'Виолетта', 'Яромир', 'Софья', 'Мирослава', 'Евгений', 'Варвара',\n",
       "       'Платон', 'Наталия', 'Анатолий', 'Кристина', 'Всеволод', 'Дарья',\n",
       "       'Наташа', 'Мария', 'Марина', 'Василиса', 'Юлия', 'Илья', 'Злата',\n",
       "       'Роман', 'Наталья', 'Элина', 'Арсен', 'Айдар', 'Алия', 'Виктор',\n",
       "       'Мирон', 'Ульяна', 'Георгий', 'Петр', 'Эльмира', 'Олег', 'Дамир',\n",
       "       'Самир', 'Ярослав', 'Камилла', 'Сергей', 'Эмиль', 'Радмир',\n",
       "       'Савелий', 'Елена', 'Антон', 'Мирослав', 'София', 'Тихон', 'Артём',\n",
       "       'Давид', 'Григорий', 'Алёна', 'Светлана', 'Леонид', 'Александра',\n",
       "       'Василина', 'Милана', 'Матвей'], dtype=object)"
      ]
     },
     "execution_count": 11,
     "metadata": {},
     "output_type": "execute_result"
    }
   ],
   "source": [
    "users['name'].unique()"
   ]
  },
  {
   "cell_type": "code",
   "execution_count": 12,
   "id": "96274272",
   "metadata": {},
   "outputs": [
    {
     "data": {
      "text/plain": [
       "array(['Тюмень', 'Омск', 'Москва', 'Ростов-на-Дону', 'Краснодар',\n",
       "       'Пятигорск', 'Екатеринбург', 'Сочи'], dtype=object)"
      ]
     },
     "execution_count": 12,
     "metadata": {},
     "output_type": "execute_result"
    }
   ],
   "source": [
    "users['city'].unique()"
   ]
  },
  {
   "cell_type": "markdown",
   "id": "840dd5bc",
   "metadata": {},
   "source": [
    "С данными все в порядке. Теперь можно проверять на явные дубликаты"
   ]
  },
  {
   "cell_type": "code",
   "execution_count": 13,
   "id": "3ffbc8fe",
   "metadata": {},
   "outputs": [
    {
     "data": {
      "text/plain": [
       "31"
      ]
     },
     "execution_count": 13,
     "metadata": {},
     "output_type": "execute_result"
    }
   ],
   "source": [
    "users.duplicated().sum()"
   ]
  },
  {
   "cell_type": "code",
   "execution_count": 14,
   "id": "a31fa912",
   "metadata": {},
   "outputs": [
    {
     "name": "stdout",
     "output_type": "stream",
     "text": [
      "<class 'pandas.core.frame.DataFrame'>\n",
      "Int64Index: 1534 entries, 0 to 1533\n",
      "Data columns (total 5 columns):\n",
      " #   Column             Non-Null Count  Dtype \n",
      "---  ------             --------------  ----- \n",
      " 0   user_id            1534 non-null   int64 \n",
      " 1   name               1534 non-null   object\n",
      " 2   age                1534 non-null   int64 \n",
      " 3   city               1534 non-null   object\n",
      " 4   subscription_type  1534 non-null   object\n",
      "dtypes: int64(2), object(3)\n",
      "memory usage: 71.9+ KB\n"
     ]
    }
   ],
   "source": [
    "# удаляем дубликаты\n",
    "users = users.drop_duplicates()\n",
    "users.info()"
   ]
  },
  {
   "cell_type": "markdown",
   "id": "0dff243c",
   "metadata": {},
   "source": [
    "В таблице с пользователями дубликаты удалены, приступаем к поездкам"
   ]
  },
  {
   "cell_type": "code",
   "execution_count": 15,
   "id": "0a5f26e4",
   "metadata": {},
   "outputs": [
    {
     "data": {
      "text/plain": [
       "0"
      ]
     },
     "execution_count": 15,
     "metadata": {},
     "output_type": "execute_result"
    }
   ],
   "source": [
    "rides.duplicated().sum()"
   ]
  },
  {
   "cell_type": "markdown",
   "id": "9cd8c4a5",
   "metadata": {},
   "source": [
    "Дубликаты не найдены."
   ]
  },
  {
   "cell_type": "markdown",
   "id": "e833495c",
   "metadata": {},
   "source": [
    "**Вывод по предобработке данных: предоставленные данные без пропусков, корректно заполнены названия столбцов и сами столбцы, тип данных изменен только в столбце с датой, остальные типы данных подходят для дальнейшего исследования, из таблицы с пользователями удален 31 дубликат.**"
   ]
  },
  {
   "cell_type": "markdown",
   "id": "df3ccf1c",
   "metadata": {},
   "source": [
    "## Шаг 3. Исследовательский анализ данных"
   ]
  },
  {
   "cell_type": "code",
   "execution_count": 16,
   "id": "decaa305",
   "metadata": {},
   "outputs": [],
   "source": [
    "%config InlineBackend.figure_format = 'retina' # улучшение четкости изображения графиков"
   ]
  },
  {
   "cell_type": "markdown",
   "id": "bd7bee0b",
   "metadata": {},
   "source": [
    "### Частота встречаемости городов"
   ]
  },
  {
   "cell_type": "code",
   "execution_count": 17,
   "id": "aaf92f61",
   "metadata": {},
   "outputs": [
    {
     "data": {
      "text/plain": [
       "city\n",
       "Пятигорск         219\n",
       "Екатеринбург      204\n",
       "Ростов-на-Дону    198\n",
       "Краснодар         193\n",
       "Сочи              189\n",
       "Омск              183\n",
       "Тюмень            180\n",
       "Москва            168\n",
       "Name: city, dtype: int64"
      ]
     },
     "execution_count": 17,
     "metadata": {},
     "output_type": "execute_result"
    }
   ],
   "source": [
    "# сгруппируем users по городам и посчитаем их количество, отсортируем в порядке убывания\n",
    "users.groupby('city')['city'].agg('count').sort_values(ascending=False)"
   ]
  },
  {
   "cell_type": "code",
   "execution_count": 18,
   "id": "2aef472e",
   "metadata": {
    "scrolled": false
   },
   "outputs": [
    {
     "data": {
      "image/png": "[encoded data removed]",
      "text/plain": [
       "<Figure size 576x576 with 1 Axes>"
      ]
     },
     "metadata": {
      "image/png": {
       "height": 481,
       "width": 563
      },
      "needs_background": "light"
     },
     "output_type": "display_data"
    }
   ],
   "source": [
    "# построим горизонтальный барплот\n",
    "(users.groupby('city')['city'].agg('count').sort_values(ascending=False)\n",
    " .plot(kind='barh', figsize=(8, 8), title='Частота встречаемости городов', grid=True))\n",
    "\n",
    "plt.show()"
   ]
  },
  {
   "cell_type": "markdown",
   "id": "a8711e58",
   "metadata": {},
   "source": [
    "**Вывод: за 2021 год в каждом из восьми городов к сервису проката самокатов подключилось от 168 до 219 пользователей. Видно, что южные города (Пятигорск (219), Ростов-на-Дону (198), Краснодар (193) и Сочи (189)) немного больше используют сервис самокатов, предполагаю, причина в климате и количестве теплых дней и короткой зиме, поэтому самокаты используются больше. Таким образом объяснимо, почему меньше зарегистрированных пользователей в Омске (183) и в Тюмени (180) - зима длиннее, а самое малое количество пользователей в Москве (168), думаю, из-за конкуренции сервисов, предоставляющих такую же услугу. Екатеринбург (204) - также в лидерах по использованию, затрудняюсь ответить почему, возможно, хорошо развита инфраструктура (веломаршруты, широкие тротуары).**"
   ]
  },
  {
   "cell_type": "markdown",
   "id": "0fb34001",
   "metadata": {},
   "source": [
    "### Соотношение пользователей с подпиской и без подписки"
   ]
  },
  {
   "cell_type": "code",
   "execution_count": 19,
   "id": "817360bb",
   "metadata": {
    "scrolled": true
   },
   "outputs": [
    {
     "data": {
      "image/png": "[encoded data removed]",
      "text/plain": [
       "<Figure size 504x504 with 1 Axes>"
      ]
     },
     "metadata": {
      "image/png": {
       "height": 410,
       "width": 394
      }
     },
     "output_type": "display_data"
    }
   ],
   "source": [
    "# построим круговую диаграмму\n",
    "# сгруппируем users по типу подписки и посчитаем их количество\n",
    "# вид диаграммы - круговая, на самой диаграмме не будем указывать тип подписки, а добавим их в легенду\n",
    "# а на диаграмме укажем долю каждого типа подписки autopct='%1.0f%%'\n",
    "# укажем название диаграммы и применим цветовую схему с помощью параметра cmap\n",
    "(users.groupby('subscription_type')['subscription_type'].agg('count')\n",
    " .plot(kind='pie', labels=None, label='', autopct='%1.0f%%', legend=True, figsize=(7, 7), \n",
    "       title='Соотношение пользователей с подпиской и без подписки', cmap='Set3'))\n",
    "plt.show()"
   ]
  },
  {
   "cell_type": "markdown",
   "id": "75c5d202",
   "metadata": {},
   "source": [
    "<div class=\"alert alert-block alert-success\">\n",
    "<b>✅Комментарий ревьюера:</b> А вот тут круговая диаграмма отлично подходит!</div>"
   ]
  },
  {
   "cell_type": "markdown",
   "id": "e6c0968f",
   "metadata": {},
   "source": [
    "**Вывод: большая часть пользователей самокатов предпочитает не приобретать подписку, их 54% по сравнению с теми, кто оформил подписку**"
   ]
  },
  {
   "cell_type": "markdown",
   "id": "4e8910c4",
   "metadata": {},
   "source": [
    "###  Возраст пользователей"
   ]
  },
  {
   "cell_type": "code",
   "execution_count": 20,
   "id": "9e9531ba",
   "metadata": {},
   "outputs": [],
   "source": [
    "matplotlib.style.use('seaborn-pastel') # применим стиль matplotlib"
   ]
  },
  {
   "cell_type": "code",
   "execution_count": 21,
   "id": "3aa3d637",
   "metadata": {},
   "outputs": [
    {
     "data": {
      "image/png": "[encoded data removed]",
      "text/plain": [
       "<Figure size 432x288 with 1 Axes>"
      ]
     },
     "metadata": {
      "image/png": {
       "height": 277,
       "width": 388
      },
      "needs_background": "light"
     },
     "output_type": "display_data"
    }
   ],
   "source": [
    "users.hist(column='age', bins=30) # построим гистограмму\n",
    "plt.grid(True) # используем сетку\n",
    "plt.title('Возраст пользователей')\n",
    "plt.xlabel('Возраст')\n",
    "plt.ylabel('Количество пользователей')\n",
    "plt.show()"
   ]
  },
  {
   "cell_type": "code",
   "execution_count": 22,
   "id": "754bbc21",
   "metadata": {},
   "outputs": [
    {
     "data": {
      "text/plain": [
       "count    1534.000000\n",
       "mean       24.903520\n",
       "std         4.572367\n",
       "min        12.000000\n",
       "25%        22.000000\n",
       "50%        25.000000\n",
       "75%        28.000000\n",
       "max        43.000000\n",
       "Name: age, dtype: float64"
      ]
     },
     "execution_count": 22,
     "metadata": {},
     "output_type": "execute_result"
    }
   ],
   "source": [
    "users['age'].describe()"
   ]
  },
  {
   "cell_type": "markdown",
   "id": "0e71a404",
   "metadata": {},
   "source": [
    "**Вывод: среди пользователей самокатов лица от 12 до 43 лет, основные пользователи с возрастом от 22 до 28 лет, при  этом средний возраст около 25 лет, он и является самым популярным**"
   ]
  },
  {
   "cell_type": "markdown",
   "id": "18a93a32",
   "metadata": {},
   "source": [
    "### Расстояние, которое пользователь преодолел за одну поездку"
   ]
  },
  {
   "cell_type": "code",
   "execution_count": 23,
   "id": "1095554a",
   "metadata": {},
   "outputs": [
    {
     "data": {
      "image/png": "[encoded data removed]",
      "text/plain": [
       "<Figure size 432x288 with 1 Axes>"
      ]
     },
     "metadata": {
      "image/png": {
       "height": 277,
       "width": 416
      },
      "needs_background": "light"
     },
     "output_type": "display_data"
    }
   ],
   "source": [
    "rides.hist(column='distance', bins=50) # построим гистограмму\n",
    "plt.grid(True) # используем сетку\n",
    "plt.title('Расстояние, которое пользователь преодолел за одну поездку')\n",
    "plt.xlabel('Расстояние, м')\n",
    "plt.show()"
   ]
  },
  {
   "cell_type": "code",
   "execution_count": 24,
   "id": "160d01ca",
   "metadata": {},
   "outputs": [
    {
     "data": {
      "text/plain": [
       "count    18068.000000\n",
       "mean      3070.659976\n",
       "std       1116.831209\n",
       "min          0.855683\n",
       "25%       2543.226360\n",
       "50%       3133.609994\n",
       "75%       3776.222735\n",
       "max       7211.007745\n",
       "Name: distance, dtype: float64"
      ]
     },
     "execution_count": 24,
     "metadata": {},
     "output_type": "execute_result"
    }
   ],
   "source": [
    "rides['distance'].describe()"
   ]
  },
  {
   "cell_type": "markdown",
   "id": "08bde666",
   "metadata": {},
   "source": [
    "**Вывод: в среднем пользователи проезжают 3км, 75% пользователей проезжают расстояние от 2,5 км до 4 км. Меньше 25% пользователей проезжают до 2км или более 4 км. Максимальное зафиксированное расстоние 7,2 км.**\n",
    "\n",
    "**На диаграмме выделены два пика: первый 750 м на расстоянии до 1,5 км, а второй 3 км в пределах от 1,5 км до 6 км. Предполагаю, это потому что пользователи используют самокат в двух разных целях: проехать короткую дистанцию (до 1,5 км, в случае пересадки на общественный транспорт, когда, например, от дома до автобусной остановки или до станции электрички идти далеко) или длинную (в этом случае, можно полностью проехать весь маршрут без пересадки на общественный транспорт)**"
   ]
  },
  {
   "cell_type": "markdown",
   "id": "ac24a6f3",
   "metadata": {},
   "source": [
    "### Продолжительность поездок"
   ]
  },
  {
   "cell_type": "code",
   "execution_count": 25,
   "id": "53a48945",
   "metadata": {},
   "outputs": [
    {
     "data": {
      "image/png": "[encoded data removed]",
      "text/plain": [
       "<Figure size 432x288 with 1 Axes>"
      ]
     },
     "metadata": {
      "image/png": {
       "height": 277,
       "width": 375
      },
      "needs_background": "light"
     },
     "output_type": "display_data"
    }
   ],
   "source": [
    "rides.hist(column='duration', bins=100) # построим гистограмму\n",
    "plt.grid(True) # используем сетку\n",
    "plt.title('Продолжительность поездок')\n",
    "plt.xlabel('Продолжительность поездок, мин')\n",
    "plt.show()"
   ]
  },
  {
   "cell_type": "code",
   "execution_count": 26,
   "id": "1e43aaff",
   "metadata": {},
   "outputs": [
    {
     "data": {
      "text/plain": [
       "count    18068.000000\n",
       "mean        17.805011\n",
       "std          6.091051\n",
       "min          0.500000\n",
       "25%         13.597563\n",
       "50%         17.678395\n",
       "75%         21.724800\n",
       "max         40.823963\n",
       "Name: duration, dtype: float64"
      ]
     },
     "execution_count": 26,
     "metadata": {},
     "output_type": "execute_result"
    }
   ],
   "source": [
    "rides['duration'].describe()"
   ]
  },
  {
   "cell_type": "markdown",
   "id": "5e04ae30",
   "metadata": {},
   "source": [
    "**Вывод: все поездки укладываются в 40 мин, в основном поездки длятся от 13 до 25 мин.**\n",
    "\n",
    "**На диаграмме видим странный пик, когда практически сто пользователей завершили поездку в первые две минуты, т.е. сразу при старте, я бы не исключала такие данные. Возможно это сигнал, что сервис недостаточно понятен пользователям и необходимо рассмотреть доработку.**"
   ]
  },
  {
   "cell_type": "markdown",
   "id": "d0f18c72",
   "metadata": {},
   "source": [
    "## Шаг 4. Объединение данных"
   ]
  },
  {
   "cell_type": "markdown",
   "id": "e74cffeb",
   "metadata": {},
   "source": [
    "### Объединение данные о пользователях, поездках и подписках в один датафрейм"
   ]
  },
  {
   "cell_type": "code",
   "execution_count": 27,
   "id": "ac20d764",
   "metadata": {},
   "outputs": [
    {
     "name": "stdout",
     "output_type": "stream",
     "text": [
      "<class 'pandas.core.frame.DataFrame'>\n",
      "Int64Index: 18068 entries, 0 to 18067\n",
      "Data columns (total 12 columns):\n",
      " #   Column             Non-Null Count  Dtype         \n",
      "---  ------             --------------  -----         \n",
      " 0   user_id            18068 non-null  int64         \n",
      " 1   name               18068 non-null  object        \n",
      " 2   age                18068 non-null  int64         \n",
      " 3   city               18068 non-null  object        \n",
      " 4   subscription_type  18068 non-null  object        \n",
      " 5   distance           18068 non-null  float64       \n",
      " 6   duration           18068 non-null  float64       \n",
      " 7   date               18068 non-null  datetime64[ns]\n",
      " 8   month              18068 non-null  int64         \n",
      " 9   minute_price       18068 non-null  int64         \n",
      " 10  start_ride_price   18068 non-null  int64         \n",
      " 11  subscription_fee   18068 non-null  int64         \n",
      "dtypes: datetime64[ns](1), float64(2), int64(6), object(3)\n",
      "memory usage: 1.8+ MB\n"
     ]
    }
   ],
   "source": [
    "# воспользуемся методом merge()\n",
    "# объединяем users и rides по столбцу user_id\n",
    "users_rides = users.merge(rides, on='user_id', how='left')\n",
    "# объединяем получившийся датафрейм users_rides и subscriptions по subscription_type\n",
    "data = users_rides.merge(subscriptions, on='subscription_type', how='left')\n",
    "data.info()"
   ]
  },
  {
   "cell_type": "markdown",
   "id": "1efa464e",
   "metadata": {},
   "source": [
    "### Получение двух датафреймов в зависимости от подписки"
   ]
  },
  {
   "cell_type": "code",
   "execution_count": 28,
   "id": "5d75f06b",
   "metadata": {
    "scrolled": true
   },
   "outputs": [
    {
     "name": "stdout",
     "output_type": "stream",
     "text": [
      "<class 'pandas.core.frame.DataFrame'>\n",
      "Int64Index: 6500 entries, 0 to 6499\n",
      "Data columns (total 12 columns):\n",
      " #   Column             Non-Null Count  Dtype         \n",
      "---  ------             --------------  -----         \n",
      " 0   user_id            6500 non-null   int64         \n",
      " 1   name               6500 non-null   object        \n",
      " 2   age                6500 non-null   int64         \n",
      " 3   city               6500 non-null   object        \n",
      " 4   subscription_type  6500 non-null   object        \n",
      " 5   distance           6500 non-null   float64       \n",
      " 6   duration           6500 non-null   float64       \n",
      " 7   date               6500 non-null   datetime64[ns]\n",
      " 8   month              6500 non-null   int64         \n",
      " 9   minute_price       6500 non-null   int64         \n",
      " 10  start_ride_price   6500 non-null   int64         \n",
      " 11  subscription_fee   6500 non-null   int64         \n",
      "dtypes: datetime64[ns](1), float64(2), int64(6), object(3)\n",
      "memory usage: 660.2+ KB\n"
     ]
    }
   ],
   "source": [
    "# пользователи с подпиской\n",
    "# сделаем срез по data методом query()\n",
    "data_ultra = data.query('subscription_type == \"ultra\"')\n",
    "data_ultra.info()"
   ]
  },
  {
   "cell_type": "code",
   "execution_count": 29,
   "id": "2a1fa638",
   "metadata": {
    "scrolled": true
   },
   "outputs": [
    {
     "name": "stdout",
     "output_type": "stream",
     "text": [
      "<class 'pandas.core.frame.DataFrame'>\n",
      "Int64Index: 11568 entries, 6500 to 18067\n",
      "Data columns (total 12 columns):\n",
      " #   Column             Non-Null Count  Dtype         \n",
      "---  ------             --------------  -----         \n",
      " 0   user_id            11568 non-null  int64         \n",
      " 1   name               11568 non-null  object        \n",
      " 2   age                11568 non-null  int64         \n",
      " 3   city               11568 non-null  object        \n",
      " 4   subscription_type  11568 non-null  object        \n",
      " 5   distance           11568 non-null  float64       \n",
      " 6   duration           11568 non-null  float64       \n",
      " 7   date               11568 non-null  datetime64[ns]\n",
      " 8   month              11568 non-null  int64         \n",
      " 9   minute_price       11568 non-null  int64         \n",
      " 10  start_ride_price   11568 non-null  int64         \n",
      " 11  subscription_fee   11568 non-null  int64         \n",
      "dtypes: datetime64[ns](1), float64(2), int64(6), object(3)\n",
      "memory usage: 1.1+ MB\n"
     ]
    }
   ],
   "source": [
    "# пользователи без подписки\n",
    "# сделаем срез по data методом query()\n",
    "data_free = data.query('subscription_type == \"free\"')\n",
    "data_free.info()"
   ]
  },
  {
   "cell_type": "markdown",
   "id": "3c591877",
   "metadata": {},
   "source": [
    "### Визуализация информации о расстоянии и времени поездок для пользователей обеих категорий"
   ]
  },
  {
   "cell_type": "code",
   "execution_count": 30,
   "id": "5afd8f30",
   "metadata": {},
   "outputs": [],
   "source": [
    "matplotlib.style.use('bmh') "
   ]
  },
  {
   "cell_type": "code",
   "execution_count": 31,
   "id": "947cb0ad",
   "metadata": {
    "scrolled": true
   },
   "outputs": [
    {
     "data": {
      "image/png": "[encoded data removed]",
      "text/plain": [
       "<Figure size 432x288 with 1 Axes>"
      ]
     },
     "metadata": {
      "image/png": {
       "height": 277,
       "width": 496
      },
      "needs_background": "light"
     },
     "output_type": "display_data"
    }
   ],
   "source": [
    "# построим гистограммы расстояния для обеих групп пользователей, наложив их друг на друга\n",
    "plt.hist([data_ultra['distance'], data_free['distance']], bins=30, label=['с подпиской', 'без подписки'])\n",
    "plt.grid(True) # используем сетку\n",
    "plt.legend(loc='upper right') # добавим легенду в правом верхнем углу\n",
    "plt.title('Расстояние, которое пользователь преодолел за одну поездку')\n",
    "plt.xlabel('Расстояние, м')\n",
    "plt.ylabel('Количество пользователей')\n",
    "plt.show()"
   ]
  },
  {
   "cell_type": "markdown",
   "id": "11ea6da1",
   "metadata": {},
   "source": [
    "**В целом пользователей без подписки больше, чем с подпиской, что и показывает график. В обеих группах пользователей два пика, что говорит о том, что независимо от подписки в обеих группах есть пользователи, которые используют самокат только на короткие поездки. Чем уже график, тем стандартное отклонение меньше, это можно сказать о данных по пройденному расстоянию для пользователей с подпиской, их основное расстоние - 3км, а вот для пользователей без подписки не так все четко прослеживается, я бы назвала промежуток от 2,5 км до 4км. Пользователи без пописки чаще заканчивают свой маршрут на самокате проехав 1км, при этом пользователи без подписки чаще проезжают расстояние 5 км, чем с подпиской.**"
   ]
  },
  {
   "cell_type": "code",
   "execution_count": 32,
   "id": "caa73549",
   "metadata": {},
   "outputs": [],
   "source": [
    "matplotlib.style.use('ggplot') "
   ]
  },
  {
   "cell_type": "code",
   "execution_count": 33,
   "id": "01043ff8",
   "metadata": {
    "scrolled": true
   },
   "outputs": [
    {
     "data": {
      "image/png": "[encoded data removed]",
      "text/plain": [
       "<Figure size 432x288 with 1 Axes>"
      ]
     },
     "metadata": {
      "image/png": {
       "height": 281,
       "width": 397
      }
     },
     "output_type": "display_data"
    }
   ],
   "source": [
    "# построим гистограммы продолжительности поездок для обеих групп пользователей, наложив их друг на друга\n",
    "plt.hist([data_ultra['duration'], data_free['duration']], bins=30, label=['с подпиской', 'без подписки'])\n",
    "plt.grid(True) # используем сетку\n",
    "plt.legend(loc='upper right') # добавим легенду в правом верхнем углу\n",
    "plt.title('Продолжительность поездки')\n",
    "plt.xlabel('Продолжительность поездок, мин')\n",
    "plt.ylabel('Количество пользователей')\n",
    "plt.show()\n"
   ]
  },
  {
   "cell_type": "markdown",
   "id": "b27ef09d",
   "metadata": {},
   "source": [
    "**Вывод: обе гистрограммы очень похожи в части средней продолжительности поездки (15-20 мин), но отличаются своими хвостами: пользователи без подписки чаще сдают самокаты обратно на первых минутах (возможно, не смогли разобраться с сервисом или самокатом), при этом пользователей без подписки, проехавших свыше 30 мин, больше, это соответствует и тому, что расстояние они проезжают больше.**"
   ]
  },
  {
   "cell_type": "markdown",
   "id": "e98a8c91",
   "metadata": {},
   "source": [
    "## Шаг 5. Подсчёт выручки"
   ]
  },
  {
   "cell_type": "markdown",
   "id": "a02cfc68",
   "metadata": {},
   "source": [
    " Создадим датафрейм с агрегированными данными о поездках на основе датафрейма с объединёнными данными из шага 4: найдем суммарное расстояние, количество поездок и суммарное время для каждого пользователя за каждый месяц, а также добавим информацию о типе подписки.\n",
    "После этого в тот же датафрейм добавим столбец с помесячной выручкой на основе данных о стоимости из таблицы `subscription`"
   ]
  },
  {
   "cell_type": "code",
   "execution_count": 34,
   "id": "7f0d1a75",
   "metadata": {},
   "outputs": [],
   "source": [
    "# округлим суммарную продолжительность поездки до следующего целого числа\n",
    "# т.к. оплата списывается за каждую начатую минуту\n",
    "data['duration'] = np.ceil(data['duration'])"
   ]
  },
  {
   "cell_type": "code",
   "execution_count": 35,
   "id": "b79bad7f",
   "metadata": {},
   "outputs": [
    {
     "data": {
      "text/html": [
       "<div>\n",
       "<style scoped>\n",
       "    .dataframe tbody tr th:only-of-type {\n",
       "        vertical-align: middle;\n",
       "    }\n",
       "\n",
       "    .dataframe tbody tr th {\n",
       "        vertical-align: top;\n",
       "    }\n",
       "\n",
       "    .dataframe thead th {\n",
       "        text-align: right;\n",
       "    }\n",
       "</style>\n",
       "<table border=\"1\" class=\"dataframe\">\n",
       "  <thead>\n",
       "    <tr style=\"text-align: right;\">\n",
       "      <th></th>\n",
       "      <th></th>\n",
       "      <th>distance_sum</th>\n",
       "      <th>duration_sum</th>\n",
       "      <th>rides_count</th>\n",
       "      <th>subscription_type</th>\n",
       "      <th>minute_price</th>\n",
       "      <th>start_ride_price</th>\n",
       "      <th>subscription_fee</th>\n",
       "    </tr>\n",
       "    <tr>\n",
       "      <th>user_id</th>\n",
       "      <th>month</th>\n",
       "      <th></th>\n",
       "      <th></th>\n",
       "      <th></th>\n",
       "      <th></th>\n",
       "      <th></th>\n",
       "      <th></th>\n",
       "      <th></th>\n",
       "    </tr>\n",
       "  </thead>\n",
       "  <tbody>\n",
       "    <tr>\n",
       "      <th rowspan=\"5\" valign=\"top\">1</th>\n",
       "      <th>1</th>\n",
       "      <td>7027.511294</td>\n",
       "      <td>42.0</td>\n",
       "      <td>2</td>\n",
       "      <td>ultra</td>\n",
       "      <td>6</td>\n",
       "      <td>0</td>\n",
       "      <td>199</td>\n",
       "    </tr>\n",
       "    <tr>\n",
       "      <th>4</th>\n",
       "      <td>754.159807</td>\n",
       "      <td>7.0</td>\n",
       "      <td>1</td>\n",
       "      <td>ultra</td>\n",
       "      <td>6</td>\n",
       "      <td>0</td>\n",
       "      <td>199</td>\n",
       "    </tr>\n",
       "    <tr>\n",
       "      <th>8</th>\n",
       "      <td>6723.470560</td>\n",
       "      <td>46.0</td>\n",
       "      <td>2</td>\n",
       "      <td>ultra</td>\n",
       "      <td>6</td>\n",
       "      <td>0</td>\n",
       "      <td>199</td>\n",
       "    </tr>\n",
       "    <tr>\n",
       "      <th>10</th>\n",
       "      <td>5809.911100</td>\n",
       "      <td>32.0</td>\n",
       "      <td>2</td>\n",
       "      <td>ultra</td>\n",
       "      <td>6</td>\n",
       "      <td>0</td>\n",
       "      <td>199</td>\n",
       "    </tr>\n",
       "    <tr>\n",
       "      <th>11</th>\n",
       "      <td>7003.499363</td>\n",
       "      <td>56.0</td>\n",
       "      <td>3</td>\n",
       "      <td>ultra</td>\n",
       "      <td>6</td>\n",
       "      <td>0</td>\n",
       "      <td>199</td>\n",
       "    </tr>\n",
       "    <tr>\n",
       "      <th>...</th>\n",
       "      <th>...</th>\n",
       "      <td>...</td>\n",
       "      <td>...</td>\n",
       "      <td>...</td>\n",
       "      <td>...</td>\n",
       "      <td>...</td>\n",
       "      <td>...</td>\n",
       "      <td>...</td>\n",
       "    </tr>\n",
       "    <tr>\n",
       "      <th rowspan=\"5\" valign=\"top\">1534</th>\n",
       "      <th>6</th>\n",
       "      <td>3409.468534</td>\n",
       "      <td>26.0</td>\n",
       "      <td>2</td>\n",
       "      <td>free</td>\n",
       "      <td>8</td>\n",
       "      <td>50</td>\n",
       "      <td>0</td>\n",
       "    </tr>\n",
       "    <tr>\n",
       "      <th>8</th>\n",
       "      <td>7622.453034</td>\n",
       "      <td>48.0</td>\n",
       "      <td>2</td>\n",
       "      <td>free</td>\n",
       "      <td>8</td>\n",
       "      <td>50</td>\n",
       "      <td>0</td>\n",
       "    </tr>\n",
       "    <tr>\n",
       "      <th>9</th>\n",
       "      <td>4928.173852</td>\n",
       "      <td>23.0</td>\n",
       "      <td>1</td>\n",
       "      <td>free</td>\n",
       "      <td>8</td>\n",
       "      <td>50</td>\n",
       "      <td>0</td>\n",
       "    </tr>\n",
       "    <tr>\n",
       "      <th>11</th>\n",
       "      <td>13350.015305</td>\n",
       "      <td>78.0</td>\n",
       "      <td>4</td>\n",
       "      <td>free</td>\n",
       "      <td>8</td>\n",
       "      <td>50</td>\n",
       "      <td>0</td>\n",
       "    </tr>\n",
       "    <tr>\n",
       "      <th>12</th>\n",
       "      <td>2371.711192</td>\n",
       "      <td>16.0</td>\n",
       "      <td>1</td>\n",
       "      <td>free</td>\n",
       "      <td>8</td>\n",
       "      <td>50</td>\n",
       "      <td>0</td>\n",
       "    </tr>\n",
       "  </tbody>\n",
       "</table>\n",
       "<p>11331 rows × 7 columns</p>\n",
       "</div>"
      ],
      "text/plain": [
       "               distance_sum  duration_sum  rides_count subscription_type  \\\n",
       "user_id month                                                              \n",
       "1       1       7027.511294          42.0            2             ultra   \n",
       "        4        754.159807           7.0            1             ultra   \n",
       "        8       6723.470560          46.0            2             ultra   \n",
       "        10      5809.911100          32.0            2             ultra   \n",
       "        11      7003.499363          56.0            3             ultra   \n",
       "...                     ...           ...          ...               ...   \n",
       "1534    6       3409.468534          26.0            2              free   \n",
       "        8       7622.453034          48.0            2              free   \n",
       "        9       4928.173852          23.0            1              free   \n",
       "        11     13350.015305          78.0            4              free   \n",
       "        12      2371.711192          16.0            1              free   \n",
       "\n",
       "               minute_price  start_ride_price  subscription_fee  \n",
       "user_id month                                                    \n",
       "1       1                 6                 0               199  \n",
       "        4                 6                 0               199  \n",
       "        8                 6                 0               199  \n",
       "        10                6                 0               199  \n",
       "        11                6                 0               199  \n",
       "...                     ...               ...               ...  \n",
       "1534    6                 8                50                 0  \n",
       "        8                 8                50                 0  \n",
       "        9                 8                50                 0  \n",
       "        11                8                50                 0  \n",
       "        12                8                50                 0  \n",
       "\n",
       "[11331 rows x 7 columns]"
      ]
     },
     "execution_count": 35,
     "metadata": {},
     "output_type": "execute_result"
    }
   ],
   "source": [
    "# воспользуемся методом groupby() и сгруппируем по пользователю и месяцу\n",
    "# найдем сумму расстояний, сумму затраченного времени, количество поездок\n",
    "# для дальнейших расчетов нам понадобися информация по типу подписки, поэтому также применим \n",
    "# агрегированную функцию для этого столбца и выберем первое значение 'first'\n",
    "data_grouped = (data.groupby(['user_id', 'month',])\n",
    "               .agg({'distance': 'sum', 'duration':'sum', 'user_id': 'count', 'subscription_type':'first',\n",
    "               'minute_price': 'first', 'start_ride_price': 'first', 'subscription_fee': 'first'}))\n",
    "# чтобы проще было обращаться к новым столбцам применим метод columns\n",
    "data_grouped.columns = ['distance_sum', 'duration_sum', 'rides_count', 'subscription_type', 'minute_price', \\\n",
    "                       'start_ride_price', 'subscription_fee']\n",
    "\n",
    "data_grouped['duration_sum'] = np.ceil(data_grouped['duration_sum']) \n",
    "data_grouped"
   ]
  },
  {
   "cell_type": "code",
   "execution_count": 36,
   "id": "f5eabf01",
   "metadata": {
    "scrolled": false
   },
   "outputs": [
    {
     "data": {
      "text/plain": [
       "Index(['distance_sum', 'duration_sum', 'rides_count', 'subscription_type',\n",
       "       'minute_price', 'start_ride_price', 'subscription_fee'],\n",
       "      dtype='object')"
      ]
     },
     "execution_count": 36,
     "metadata": {},
     "output_type": "execute_result"
    }
   ],
   "source": [
    "data_grouped.columns # проверим названия столбцов, к которым можем обращаться"
   ]
  },
  {
   "cell_type": "code",
   "execution_count": 37,
   "id": "ea9dc1c5",
   "metadata": {},
   "outputs": [
    {
     "data": {
      "text/html": [
       "<div>\n",
       "<style scoped>\n",
       "    .dataframe tbody tr th:only-of-type {\n",
       "        vertical-align: middle;\n",
       "    }\n",
       "\n",
       "    .dataframe tbody tr th {\n",
       "        vertical-align: top;\n",
       "    }\n",
       "\n",
       "    .dataframe thead th {\n",
       "        text-align: right;\n",
       "    }\n",
       "</style>\n",
       "<table border=\"1\" class=\"dataframe\">\n",
       "  <thead>\n",
       "    <tr style=\"text-align: right;\">\n",
       "      <th></th>\n",
       "      <th></th>\n",
       "      <th>distance_sum</th>\n",
       "      <th>duration_sum</th>\n",
       "      <th>rides_count</th>\n",
       "      <th>subscription_type</th>\n",
       "      <th>minute_price</th>\n",
       "      <th>start_ride_price</th>\n",
       "      <th>subscription_fee</th>\n",
       "      <th>revenue</th>\n",
       "    </tr>\n",
       "    <tr>\n",
       "      <th>user_id</th>\n",
       "      <th>month</th>\n",
       "      <th></th>\n",
       "      <th></th>\n",
       "      <th></th>\n",
       "      <th></th>\n",
       "      <th></th>\n",
       "      <th></th>\n",
       "      <th></th>\n",
       "      <th></th>\n",
       "    </tr>\n",
       "  </thead>\n",
       "  <tbody>\n",
       "    <tr>\n",
       "      <th rowspan=\"5\" valign=\"top\">1</th>\n",
       "      <th>1</th>\n",
       "      <td>7027.511294</td>\n",
       "      <td>42.0</td>\n",
       "      <td>2</td>\n",
       "      <td>ultra</td>\n",
       "      <td>6</td>\n",
       "      <td>0</td>\n",
       "      <td>199</td>\n",
       "      <td>451.0</td>\n",
       "    </tr>\n",
       "    <tr>\n",
       "      <th>4</th>\n",
       "      <td>754.159807</td>\n",
       "      <td>7.0</td>\n",
       "      <td>1</td>\n",
       "      <td>ultra</td>\n",
       "      <td>6</td>\n",
       "      <td>0</td>\n",
       "      <td>199</td>\n",
       "      <td>241.0</td>\n",
       "    </tr>\n",
       "    <tr>\n",
       "      <th>8</th>\n",
       "      <td>6723.470560</td>\n",
       "      <td>46.0</td>\n",
       "      <td>2</td>\n",
       "      <td>ultra</td>\n",
       "      <td>6</td>\n",
       "      <td>0</td>\n",
       "      <td>199</td>\n",
       "      <td>475.0</td>\n",
       "    </tr>\n",
       "    <tr>\n",
       "      <th>10</th>\n",
       "      <td>5809.911100</td>\n",
       "      <td>32.0</td>\n",
       "      <td>2</td>\n",
       "      <td>ultra</td>\n",
       "      <td>6</td>\n",
       "      <td>0</td>\n",
       "      <td>199</td>\n",
       "      <td>391.0</td>\n",
       "    </tr>\n",
       "    <tr>\n",
       "      <th>11</th>\n",
       "      <td>7003.499363</td>\n",
       "      <td>56.0</td>\n",
       "      <td>3</td>\n",
       "      <td>ultra</td>\n",
       "      <td>6</td>\n",
       "      <td>0</td>\n",
       "      <td>199</td>\n",
       "      <td>535.0</td>\n",
       "    </tr>\n",
       "  </tbody>\n",
       "</table>\n",
       "</div>"
      ],
      "text/plain": [
       "               distance_sum  duration_sum  rides_count subscription_type  \\\n",
       "user_id month                                                              \n",
       "1       1       7027.511294          42.0            2             ultra   \n",
       "        4        754.159807           7.0            1             ultra   \n",
       "        8       6723.470560          46.0            2             ultra   \n",
       "        10      5809.911100          32.0            2             ultra   \n",
       "        11      7003.499363          56.0            3             ultra   \n",
       "\n",
       "               minute_price  start_ride_price  subscription_fee  revenue  \n",
       "user_id month                                                             \n",
       "1       1                 6                 0               199    451.0  \n",
       "        4                 6                 0               199    241.0  \n",
       "        8                 6                 0               199    475.0  \n",
       "        10                6                 0               199    391.0  \n",
       "        11                6                 0               199    535.0  "
      ]
     },
     "execution_count": 37,
     "metadata": {},
     "output_type": "execute_result"
    }
   ],
   "source": [
    "# рассчитаем помесячную выручку от каждого пользователя и добавим результат в новый столбец 'revenue'\n",
    "data_grouped['revenue'] = data_grouped['start_ride_price'] * data_grouped['rides_count'] + \\\n",
    "                         data_grouped['minute_price'] * data_grouped['duration_sum'] + \\\n",
    "                         data_grouped['subscription_fee']\n",
    "data_grouped.head()"
   ]
  },
  {
   "cell_type": "code",
   "execution_count": 38,
   "id": "6038f1ea",
   "metadata": {},
   "outputs": [
    {
     "data": {
      "image/png": "[encoded data removed]",
      "text/plain": [
       "<Figure size 432x288 with 1 Axes>"
      ]
     },
     "metadata": {
      "image/png": {
       "height": 281,
       "width": 394
      }
     },
     "output_type": "display_data"
    }
   ],
   "source": [
    "data_grouped.hist(column='revenue', bins=20, range=(0, 1100)) # построим гистограмму\n",
    "plt.grid(True) # используем сетку\n",
    "plt.title('Помесячная выручка от каждого пользователя')\n",
    "plt.xlabel('Выручка, руб')\n",
    "plt.show()"
   ]
  },
  {
   "cell_type": "markdown",
   "id": "f6d30d4e",
   "metadata": {},
   "source": [
    "**Вывод: в среднем каждый пользователь в месяц тратит 300 руб на поездку на самокатах.**"
   ]
  },
  {
   "cell_type": "markdown",
   "id": "4ca6f681",
   "metadata": {},
   "source": [
    "Проверим выручку в зависимости от типа подписки"
   ]
  },
  {
   "cell_type": "code",
   "execution_count": 39,
   "id": "f54eb872",
   "metadata": {},
   "outputs": [
    {
     "data": {
      "image/png": "[encoded data removed]",
      "text/plain": [
       "<Figure size 432x288 with 1 Axes>"
      ]
     },
     "metadata": {
      "image/png": {
       "height": 281,
       "width": 414
      }
     },
     "output_type": "display_data"
    }
   ],
   "source": [
    "data_grouped.query('subscription_type == \"ultra\"').hist(column='revenue', bins=20, range=(200, 800))\n",
    "plt.grid(True) # используем сетку\n",
    "plt.title('Помесячная выручка от пользователей с подпиской')\n",
    "plt.xlabel('Выручка, руб')\n",
    "plt.show()"
   ]
  },
  {
   "cell_type": "code",
   "execution_count": 40,
   "id": "b88b2464",
   "metadata": {
    "scrolled": true
   },
   "outputs": [
    {
     "data": {
      "image/png": "[encoded data removed]",
      "text/plain": [
       "<Figure size 432x288 with 1 Axes>"
      ]
     },
     "metadata": {
      "image/png": {
       "height": 282,
       "width": 422
      }
     },
     "output_type": "display_data"
    }
   ],
   "source": [
    "data_grouped.query('subscription_type == \"free\"').hist(column='revenue', bins=20, range=(0, 1100))\n",
    "plt.grid(True) # используем сетку\n",
    "plt.title('Помесячная выручка от пользователей без подписки')\n",
    "plt.xlabel('Выручка, руб')\n",
    "plt.show()"
   ]
  },
  {
   "cell_type": "markdown",
   "id": "e545f212",
   "metadata": {},
   "source": [
    "**Вывод: средняя выручка у пользователей с подпиской на 100 руб больше, чем у пользователей без подписки и т.к. пользователей без подписки гораздо больше, чем с подпиской, кажется логичным решение в необходимости увеличения числа пользователей с подпиской для увеличения выручки.**"
   ]
  },
  {
   "cell_type": "markdown",
   "id": "5ab316b7",
   "metadata": {},
   "source": [
    "## Шаг 6. Проверка гипотез"
   ]
  },
  {
   "cell_type": "markdown",
   "id": "c2616c2a",
   "metadata": {},
   "source": [
    "### Гипотеза о затраченном времени"
   ]
  },
  {
   "cell_type": "markdown",
   "id": "8e9cd142",
   "metadata": {},
   "source": [
    "Важно понять, тратят ли пользователи с подпиской больше времени на поездки? Если да, то пользователи с подпиской могут быть «выгоднее» для компании. Проверим эту гипотезу. Используем исходные данные о продолжительности каждой сессии — отдельно для подписчиков `data_ultra['duration']` и тех, у кого нет подписки `data_free['duration']`.\n",
    "\n",
    "Нулевая гипотеза: средние значения затраченного времени пользователей из двух групп равны.\n",
    "\n",
    "Альтернативная гипотеза: среднее значение затраченного времени пользователей с подпиской больше, чем среднее значение затраченного времени пользователей без подписки.\n",
    "\n",
    "Чтобы проверить такую гипотезу, нужно передать в метод `ttest_ind()` сначала выборку с затраченным времем пользователей с подпиской `data_ultra['duration']`, затем выборку с затраченным времем пользователей без подписки `data_free['duration']`. В качестве `alternative` нужно указать `'greater'`."
   ]
  },
  {
   "cell_type": "code",
   "execution_count": 41,
   "id": "9ae4326b",
   "metadata": {
    "scrolled": true
   },
   "outputs": [
    {
     "name": "stdout",
     "output_type": "stream",
     "text": [
      "p-значение: 1.2804098316645618e-34\n"
     ]
    }
   ],
   "source": [
    "alpha = 0.05 # уровень статистической значимости\n",
    "results_duration = st.ttest_ind(data_ultra['duration'], data_free['duration'], alternative='greater')\n",
    "print('p-значение:', results_duration.pvalue)"
   ]
  },
  {
   "cell_type": "code",
   "execution_count": 42,
   "id": "0a79257c",
   "metadata": {},
   "outputs": [
    {
     "name": "stdout",
     "output_type": "stream",
     "text": [
      "Отвергаем нулевую гипотезу\n"
     ]
    }
   ],
   "source": [
    "if results_duration.pvalue < alpha:\n",
    "    print('Отвергаем нулевую гипотезу')\n",
    "else:\n",
    "    print('Не получилось отвергнуть нулевую гипотезу')"
   ]
  },
  {
   "cell_type": "markdown",
   "id": "551b4ffa",
   "metadata": {},
   "source": [
    "**Вывод: нулевая гипотеза о том, что средние значения затраченного времени пользователей из двух групп равны отвергнута в пользу альтернативной: среднее значение затраченного времени пользователей с подпиской больше, чем среднее значение затраченного времени пользователей без подписки.**\n",
    "\n",
    "**Таким образом, в среднем пользователи с подпиской тратят больше времени на поездки.**"
   ]
  },
  {
   "cell_type": "markdown",
   "id": "3dad522f",
   "metadata": {},
   "source": [
    "### Гипотеза о среднем расстоянии"
   ]
  },
  {
   "cell_type": "markdown",
   "id": "1f7cf161",
   "metadata": {},
   "source": [
    "Расстояние одной поездки в 3130 метров — оптимальное с точки зрения износа самоката. Можно ли сказать, что среднее расстояние, которое проезжают пользователи с подпиской за одну поездку, не превышает 3130 метров? Проверим эту гипотезу.\n",
    "\n",
    "Нулевая гипотеза: среднее оптимальное расстояние пользователей с подпиской равно 3130м.\n",
    "\n",
    "Альтернативная гипотеза: среднее оптимальное расстояние пользователей с подпиской больше 3130м.\n",
    "\n",
    "Чтобы проверить такую гипотезу, нужно передать в метод `ttest_1samp()` выборку с расстоянием, которое проезжают пользователи с подпиской за одну поездку `data_ultra['distance']`, `distance_opt` - предполагаемое среднее, на равенство которому делаем тест. В качестве `alternative` нужно указать `'less'`."
   ]
  },
  {
   "cell_type": "code",
   "execution_count": 43,
   "id": "c0e8e0d7",
   "metadata": {},
   "outputs": [
    {
     "name": "stdout",
     "output_type": "stream",
     "text": [
      "p-значение: 0.9195368847849785\n",
      "Не отвергаем нулевую гипотезу\n"
     ]
    }
   ],
   "source": [
    "distance_opt = 3130 # оптимальное расстояние\n",
    "results_distance = st.ttest_1samp(data_ultra['distance'], distance_opt, alternative='greater')\n",
    "\n",
    "print('p-значение:', results_distance.pvalue)\n",
    "\n",
    "if (results_distance.pvalue < alpha):\n",
    "    print('Отвергаем нулевую гипотезу')\n",
    "else:\n",
    "    print('Не отвергаем нулевую гипотезу') "
   ]
  },
  {
   "cell_type": "markdown",
   "id": "9ca733eb",
   "metadata": {},
   "source": [
    "**Вывод: нулевая гипотеза не отвергнута, значит, мы можем сказать, что среднее расстояние, которое проезжают пользователи с подпиской за одну поездку, не превышает 3130 метров.**"
   ]
  },
  {
   "cell_type": "markdown",
   "id": "fda744d0",
   "metadata": {},
   "source": [
    "### Гипотеза о помесячной выручке"
   ]
  },
  {
   "cell_type": "markdown",
   "id": "00340600",
   "metadata": {},
   "source": [
    "Проверим гипотезу о том, будет ли помесячная выручка от пользователей с подпиской по месяцам выше, чем выручка от пользователей без подписки. \n",
    "\n",
    "Нулевая гипотеза: средние значения помесячной выручки пользователей из двух групп равны.\n",
    "\n",
    "Альтернативная гипотеза: среднее значение помесячной выручки пользователей с подпиской больше, чем среднее значение помесячной выручки пользователей без подписки.\n",
    "\n",
    "Чтобы проверить такую гипотезу, нужно передать в метод `ttest_ind()` сначала выборку с помесячной выручкой пользователей с подпиской, затем выборку с помесячной выручкой пользователей без подписки. В качестве `alternative` нужно указать `'greater'`."
   ]
  },
  {
   "cell_type": "code",
   "execution_count": 44,
   "id": "98aa36dd",
   "metadata": {},
   "outputs": [],
   "source": [
    "# значения помесячной выручки для пользователей с подпиской\n",
    "data_revenue_ultra = data_grouped.query('subscription_type == \"ultra\"')['revenue']\n",
    "# значения помесячной выручки для пользователей без подписки\n",
    "data_revenue_free = data_grouped.query('subscription_type == \"free\"')['revenue']"
   ]
  },
  {
   "cell_type": "code",
   "execution_count": 45,
   "id": "4a59c7bd",
   "metadata": {},
   "outputs": [
    {
     "name": "stdout",
     "output_type": "stream",
     "text": [
      "p-значение: 1.8850394384715216e-31\n"
     ]
    }
   ],
   "source": [
    "results_revenue = st.ttest_ind(data_revenue_ultra, data_revenue_free, alternative='greater')\n",
    "print('p-значение:', results_revenue.pvalue)"
   ]
  },
  {
   "cell_type": "code",
   "execution_count": 46,
   "id": "33a39149",
   "metadata": {},
   "outputs": [
    {
     "name": "stdout",
     "output_type": "stream",
     "text": [
      "Отвергаем нулевую гипотезу\n"
     ]
    }
   ],
   "source": [
    "if results_duration.pvalue < alpha:\n",
    "    print('Отвергаем нулевую гипотезу')\n",
    "else:\n",
    "    print('Не получилось отвергнуть нулевую гипотезу')"
   ]
  },
  {
   "cell_type": "markdown",
   "id": "6e088487",
   "metadata": {},
   "source": [
    "**Вывод: нулевая гипотеза о том, что средние значения помесячной выручки пользователей из двух групп равны отвергнута в пользу альтернативной: среднее значение помесячной выручки пользователей с подпиской больше, чем среднее значение помесячной выручки пользователей без подписки.**\n",
    "\n",
    "**Таким образом, в среднем пользователи с подпиской приносят большую выручку, чем пользователи без подписки.**"
   ]
  },
  {
   "cell_type": "markdown",
   "id": "5ea3970a",
   "metadata": {},
   "source": [
    "### Гипотеза о результатах обновления сервиса"
   ]
  },
  {
   "cell_type": "markdown",
   "id": "dac6ed74",
   "metadata": {},
   "source": [
    "Представьте такую ситуацию: техническая команда сервиса обновила сервера, с которыми взаимодействует мобильное приложение. Она надеется, что из-за этого количество обращений в техподдержку значимо снизилось. Некоторый файл содержит для каждого пользователя данные о количестве обращений до обновления и после него. Какой тест вам понадобился бы для проверки этой гипотезы?\n",
    "\n",
    "**Ответ: \n",
    "в этом случае нулевая гипотеза будет проверять равенство количества обращений в техподдержку до и после обновления, поэтому здесь необходимо использовать гипотезу о равенстве средних для зависимых (парных) выборок.**\n",
    "\n",
    "**В этом случае применяем метод `scipy.stats.ttest_rel()`. Ему достаточно передать всего два параметра: наборы данных до и после. Оба набора должны быть одинаковыми по размеру: каждое измерение должно быть проведено до и после изменения.**"
   ]
  },
  {
   "cell_type": "markdown",
   "id": "70f3d6fd",
   "metadata": {},
   "source": [
    "## Шаг 7. Распределения"
   ]
  },
  {
   "cell_type": "markdown",
   "id": "d44b3589",
   "metadata": {},
   "source": [
    "### Задача о количестве рассылаемых промокодов"
   ]
  },
  {
   "cell_type": "markdown",
   "id": "b7589e34",
   "metadata": {},
   "source": [
    " Отделу маркетинга GoFast поставили задачу: нужно провести акцию с раздачей промокодов на один бесплатный месяц подписки, в рамках которой как минимум 100 существующих клиентов должны продлить эту подписку. То есть по завершении периода действия подписки пользователь может либо отказаться от неё, либо продлить, совершив соответствующий платёж. \n",
    "Эта акция уже проводилась ранее и по итогу выяснилось, что после бесплатного пробного периода подписку продлевают \n",
    "10 % пользователей. Выясните, какое минимальное количество промокодов нужно разослать, чтобы вероятность не выполнить план была примерно 5 %. Подберите параметры распределения, описывающего эту ситуацию, постройте график распределения и сформулируйте ответ на вопрос о количестве промокодов."
   ]
  },
  {
   "cell_type": "code",
   "execution_count": 47,
   "id": "b38b8370",
   "metadata": {},
   "outputs": [
    {
     "data": {
      "text/plain": [
       "1161"
      ]
     },
     "execution_count": 47,
     "metadata": {},
     "output_type": "execute_result"
    }
   ],
   "source": [
    "\n",
    "p = 0.1 # вероятность\n",
    "# нужно разослать 1000 прокодов, чтобы получить 100 новых клиентов при 100% вероятности\n",
    "n = 1000 \n",
    "k = 99\n",
    "# теперь найдем n для 5% вероятности невыполнения плана\n",
    "while binom.cdf(k, n, p) > 0.05:\n",
    "    n += 1\n",
    "\n",
    "n"
   ]
  },
  {
   "cell_type": "code",
   "execution_count": 48,
   "id": "ffc131d1",
   "metadata": {},
   "outputs": [
    {
     "data": {
      "image/png": "[encoded data removed]",
      "text/plain": [
       "<Figure size 432x288 with 1 Axes>"
      ]
     },
     "metadata": {
      "image/png": {
       "height": 264,
       "width": 401
      }
     },
     "output_type": "display_data"
    }
   ],
   "source": [
    "# задаем диапазон значений k для построения графика\n",
    " \n",
    "binom_probs = []\n",
    "\n",
    "# для всех значений от 0 до 1000\n",
    "for k in range(k + 1):\n",
    "    # рассчитываем значения вероятности для биномиального распределения\n",
    "    binom_prob = binom.pmf(k, n, p)\n",
    "    # добавляем в соответствующие списки\n",
    "    binom_probs.append(binom_prob)\n",
    "    \n",
    "plt.plot(range(k + 1), binom_probs, 'bo',\n",
    "         label=f'Биномиальное распределение с n={n} и p={p}')\n",
    "plt.xlabel(f'k: количество успехов для B{n, p}')\n",
    "plt.ylabel('Вероятность k')\n",
    "plt.legend()\n",
    "plt.xticks(range(k + 1))\n",
    "plt.show()"
   ]
  },
  {
   "cell_type": "markdown",
   "id": "8c8917b8",
   "metadata": {},
   "source": [
    "**Вывод: необходимо разослать минимум 1161 промокод для получения новых 100 пользователей, чтобы вероятность не выполнить план была примерно 5%.**"
   ]
  },
  {
   "cell_type": "code",
   "execution_count": 49,
   "id": "3bbf6ef5",
   "metadata": {},
   "outputs": [
    {
     "data": {
      "text/plain": [
       "0.04976090094990249"
      ]
     },
     "execution_count": 49,
     "metadata": {},
     "output_type": "execute_result"
    }
   ],
   "source": [
    "# код ревьюера\n",
    "binom.cdf(99, 1161, 0.1)"
   ]
  },
  {
   "cell_type": "markdown",
   "id": "04d2dbfe",
   "metadata": {},
   "source": [
    "### Задача о вероятности открытия push-уведомления"
   ]
  },
  {
   "cell_type": "markdown",
   "id": "7c53de16",
   "metadata": {},
   "source": [
    "Отдел маркетинга рассылает клиентам push-уведомления в мобильном приложении. Клиенты могут открыть его или не открывать. Известно, что уведомления открывают около \n",
    "40 % получивших клиентов. Отдел планирует разослать \n",
    "1 млн уведомлений. С помощью аппроксимации постройте примерный график распределения и оцените вероятность того, что уведомление откроют не более \n",
    "399,5 тыс. пользователей."
   ]
  },
  {
   "cell_type": "code",
   "execution_count": 50,
   "id": "ca4227b8",
   "metadata": {},
   "outputs": [
    {
     "data": {
      "text/plain": [
       "0.15371708296369768"
      ]
     },
     "execution_count": 50,
     "metadata": {},
     "output_type": "execute_result"
    }
   ],
   "source": [
    "# параметры биномиального распределения\n",
    "n_2 = 1000000  \n",
    "p_2 = 0.4  \n",
    "# параметры нормального распределения\n",
    "mu_2 = n_2 * p_2 \n",
    "sigma_2 = sqrt(n_2 * p_2 * (1 - p_2))\n",
    "\n",
    "distr_2 = st.norm(mu_2, sigma_2) # задаем нормальное распределение\n",
    "\n",
    "result_2 = distr_2.cdf(399500) # находим вероятность хвоста слева\n",
    "result_2"
   ]
  },
  {
   "cell_type": "code",
   "execution_count": 51,
   "id": "03f88997",
   "metadata": {},
   "outputs": [
    {
     "data": {
      "image/png": "[encoded data removed]",
      "text/plain": [
       "<Figure size 432x288 with 1 Axes>"
      ]
     },
     "metadata": {
      "image/png": {
       "height": 281,
       "width": 398
      }
     },
     "output_type": "display_data"
    }
   ],
   "source": [
    "# границы промежутка, в котором будем строить аппроксимацию -\n",
    "# от n*p минус 4 ст.отклонения бином.распределения\n",
    "# до n*p плюс 4 ст.отклонения бином.распределения\n",
    "# (там, где вероятности значений почти не равны нулю)\n",
    "left = int(n_2 * p_2 - 4 * sqrt(n_2 * p_2 * (1 - p_2)))\n",
    "right = int(n_2 * p_2 + 4 * sqrt(n_2 * p_2 * (1 - p_2)))\n",
    "# зададим набор значений биномиальной величины на выбранном промежутке:\n",
    "# все неотрицательные целые числа от left до right\n",
    "x = list(range(max(0, left), right))\n",
    "# рисуем график нормального распределения:\n",
    "plt.plot(x, st.norm.pdf(x, mu_2, sigma_2), 'b-')\n",
    "# рисуем вертикальную линию в точке 399,5 тыс. пользователей, чтобы было видно левый хвост\n",
    "plt.axvline(x=399500, color='red') \n",
    "plt.title('График нормального распределения')\n",
    "plt.xlabel('Количество пользователей')\n",
    "plt.show()"
   ]
  },
  {
   "cell_type": "markdown",
   "id": "c7eae6cf",
   "metadata": {},
   "source": [
    "**Вывод: Если будет разослано 1 млн уведомлений, которые открываются с вероятностью 40%, то вероятность того, что уведомление откроют не более 399,5 тыс. пользователей составляет 15%.**"
   ]
  },
  {
   "cell_type": "markdown",
   "id": "aeed58a1",
   "metadata": {},
   "source": [
    "## Общий вывод"
   ]
  },
  {
   "cell_type": "markdown",
   "id": "0222e3e2",
   "metadata": {},
   "source": [
    "**Целью** проекта была проверка гипотезы о том, что пользователи, приобревшие подписку, \n",
    "приносят больший доход, чем пользователи без подписки.\n",
    "\n",
    "Для реализации этой цели были проанализированы три файла с данными:\n",
    "  - данные о пользователях;\n",
    "  - данные о поездках;\n",
    "  - данные о тарифах.\n",
    "\n",
    "Прежде чем приступать к анализу была проведена **предобработка данных**. \n",
    "Предоставленные данные без пропусков, корректно заполнены названия столбцов и сами столбцы, \n",
    "тип данных изменен только в столбце с датой, \n",
    "из таблицы с пользователями удален 31 дубликат.\n",
    "\n",
    "По результатам **исследовательского анализа данных** были сделаны следующие выводы:\n",
    "\n",
    "   - за 2021 год в каждом из восьми городов к сервису проката самокатов подключилось от 168 до 219 пользователей. Видно, что южные города (Пятигорск (219), Ростов-на-Дону (198), Краснодар (193) и Сочи (189)) немного больше используют сервис самокатов, предполагаю, причина в климате и количестве теплых дней и короткой зиме, поэтому самокаты используются больше. Таким образом объяснимо, почему меньше зарегистрированных пользователей в Омске (183) и в Тюмени (180) - зима длиннее, а самое малое количество пользователей в Москве (168), думаю, из-за конкуренции сервисов, предоставляющих такую же услугу. Екатеринбург (204) - также в лидерах по использованию, затрудняюсь ответить почему, возможно, хорошо развита инфраструктура (веломаршруты, широкие тротуары).\n",
    "    \n",
    "   - соотношение пользователей с подпиской и без: большая часть пользователей самокатов предпочитает\n",
    "    не приобретать подписку, их 54% по сравнению с теми, кто оформил подписку.\n",
    "    \n",
    "   - возраст пользователей: среди пользователей самокатов лица от 12 до 43 лет,\n",
    "    основные пользователи с возрастом от 22 до 28 лет, \n",
    "    при  этом средний возраст около 25 лет, он и является самым популярным\n",
    "    \n",
    "   - в среднем пользователи проезжают 3км, 75% пользователей проезжают расстояние от 2,5 км до 4 км. \n",
    "    Меньше 25% пользователей проезжают до 2км или более 4 км. Максимальное зафиксированное расстоние 7,2 км.\n",
    "    \n",
    "   - все поездки укладываются в 40 мин, в основном поездки длятся от 13 до 25 мин.\n",
    "    \n",
    "**Подсчет выручки**: в среднем каждый пользователь в месяц тратит 300 руб на поездку на самокатах.\n",
    "средняя выручка у пользователей с подпиской на 100 руб больше, чем у пользователей без подписки\n",
    "и т.к. пользователей без подписки гораздо больше, чем с подпиской, кажется логичным решение \n",
    "в необходимости увеличения числа пользователей с подпиской для увеличения выручки.\n",
    "\n",
    "**Проверка гипотез**:\n",
    "\n",
    "   - нулевая гипотеза о том, что средние значения затраченного времени пользователей\n",
    "    из двух групп равны отвергнута в пользу альтернативной: среднее значение затраченного времени пользователей\n",
    "    с подпиской больше, чем среднее значение затраченного времени пользователей без подписки.\n",
    "    Таким образом, в среднем пользователи с подпиской тратят больше времени на поездки.\n",
    "    \n",
    "   - среднее расстояние, которое проезжают пользователи с подпиской за одну поездку, не превышает 3130 метров.\n",
    "    \n",
    "   - нулевая гипотеза о том, что средние значения помесячной выручки пользователей из двух групп\n",
    "    равны отвергнута в пользу альтернативной: среднее значение помесячной выручки пользователей\n",
    "    с подпиской больше, чем среднее значение помесячной выручки пользователей без подписки.\n",
    "    \n",
    "**Таким образом, в среднем пользователи с подпиской приносят большую выручку, чем пользователи без подписки**\n",
    "\n",
    "**Распределения:**\n",
    "    - необходимо разослать минимум 1130 промокодов, чтобы получить новых 100 пользователей с вероятностью 95%.\n",
    "    - если будет разослано 1 млн уведомлений, которые открываются с вероятностью 40%, то вероятность того, \n",
    "    что уведомление откроют не более 399,5 тыс. пользователей составляет 15%.\n"
   ]
  }
 ],
 "metadata": {
  "ExecuteTimeLog": [
   {
    "duration": 59,
    "start_time": "2024-05-08T08:50:16.679Z"
   },
   {
    "duration": 391,
    "start_time": "2024-05-08T08:50:21.576Z"
   },
   {
    "duration": 84,
    "start_time": "2024-05-08T08:50:22.676Z"
   },
   {
    "duration": 39,
    "start_time": "2024-05-08T08:51:08.543Z"
   },
   {
    "duration": 100,
    "start_time": "2024-05-08T08:52:00.142Z"
   },
   {
    "duration": 52,
    "start_time": "2024-05-08T08:52:42.545Z"
   },
   {
    "duration": 73,
    "start_time": "2024-05-08T08:53:47.678Z"
   },
   {
    "duration": 31,
    "start_time": "2024-05-08T08:54:04.029Z"
   },
   {
    "duration": 15,
    "start_time": "2024-05-08T08:55:03.066Z"
   },
   {
    "duration": 19,
    "start_time": "2024-05-08T08:55:32.356Z"
   },
   {
    "duration": 7,
    "start_time": "2024-05-08T08:58:14.039Z"
   },
   {
    "duration": 15,
    "start_time": "2024-05-08T09:14:03.253Z"
   },
   {
    "duration": 45,
    "start_time": "2024-05-08T09:14:17.097Z"
   },
   {
    "duration": 11,
    "start_time": "2024-05-08T09:14:29.251Z"
   },
   {
    "duration": 710,
    "start_time": "2024-05-08T09:16:28.865Z"
   },
   {
    "duration": 10,
    "start_time": "2024-05-08T09:16:45.033Z"
   },
   {
    "duration": 6,
    "start_time": "2024-05-08T09:17:30.516Z"
   },
   {
    "duration": 7,
    "start_time": "2024-05-08T09:20:34.537Z"
   },
   {
    "duration": 7,
    "start_time": "2024-05-08T09:20:54.854Z"
   },
   {
    "duration": 5,
    "start_time": "2024-05-08T09:23:40.322Z"
   },
   {
    "duration": 7,
    "start_time": "2024-05-08T09:27:39.862Z"
   },
   {
    "duration": 13,
    "start_time": "2024-05-08T09:28:45.571Z"
   },
   {
    "duration": 7,
    "start_time": "2024-05-08T09:28:55.285Z"
   },
   {
    "duration": 14,
    "start_time": "2024-05-08T09:30:38.957Z"
   },
   {
    "duration": 8,
    "start_time": "2024-05-08T09:32:23.613Z"
   },
   {
    "duration": 449,
    "start_time": "2024-05-09T08:45:03.394Z"
   },
   {
    "duration": 108,
    "start_time": "2024-05-09T08:45:03.845Z"
   },
   {
    "duration": 19,
    "start_time": "2024-05-09T08:45:03.954Z"
   },
   {
    "duration": 149,
    "start_time": "2024-05-09T08:45:03.975Z"
   },
   {
    "duration": 9,
    "start_time": "2024-05-09T08:45:04.126Z"
   },
   {
    "duration": 94,
    "start_time": "2024-05-09T08:45:04.137Z"
   },
   {
    "duration": 7,
    "start_time": "2024-05-09T08:45:04.233Z"
   },
   {
    "duration": 13,
    "start_time": "2024-05-09T08:45:04.242Z"
   },
   {
    "duration": 9,
    "start_time": "2024-05-09T08:45:04.257Z"
   },
   {
    "duration": 23,
    "start_time": "2024-05-09T08:45:04.268Z"
   },
   {
    "duration": 19,
    "start_time": "2024-05-09T08:45:04.293Z"
   },
   {
    "duration": 12,
    "start_time": "2024-05-09T08:45:04.314Z"
   },
   {
    "duration": 17,
    "start_time": "2024-05-09T08:45:04.328Z"
   },
   {
    "duration": 16,
    "start_time": "2024-05-09T08:45:04.347Z"
   },
   {
    "duration": 802,
    "start_time": "2024-05-09T08:45:04.365Z"
   },
   {
    "duration": 3,
    "start_time": "2024-05-09T08:45:40.309Z"
   },
   {
    "duration": 242,
    "start_time": "2024-05-09T08:45:45.505Z"
   },
   {
    "duration": 239,
    "start_time": "2024-05-09T08:46:21.056Z"
   },
   {
    "duration": 297,
    "start_time": "2024-05-09T08:47:09.601Z"
   },
   {
    "duration": 237,
    "start_time": "2024-05-09T08:47:19.487Z"
   },
   {
    "duration": 267,
    "start_time": "2024-05-09T08:53:24.876Z"
   },
   {
    "duration": 3,
    "start_time": "2024-05-09T09:02:53.360Z"
   },
   {
    "duration": 142,
    "start_time": "2024-05-09T09:05:32.537Z"
   },
   {
    "duration": 140,
    "start_time": "2024-05-09T09:06:17.674Z"
   },
   {
    "duration": 268,
    "start_time": "2024-05-09T09:07:08.777Z"
   },
   {
    "duration": 126,
    "start_time": "2024-05-09T09:07:56.718Z"
   },
   {
    "duration": 3,
    "start_time": "2024-05-09T09:14:06.481Z"
   },
   {
    "duration": 148,
    "start_time": "2024-05-09T09:16:37.720Z"
   },
   {
    "duration": 155,
    "start_time": "2024-05-09T09:17:09.619Z"
   },
   {
    "duration": 3,
    "start_time": "2024-05-09T09:18:01.687Z"
   },
   {
    "duration": 162,
    "start_time": "2024-05-09T09:18:02.250Z"
   },
   {
    "duration": 11,
    "start_time": "2024-05-09T09:18:57.614Z"
   },
   {
    "duration": 365,
    "start_time": "2024-05-09T09:19:00.605Z"
   },
   {
    "duration": 276,
    "start_time": "2024-05-09T09:19:04.265Z"
   },
   {
    "duration": 3,
    "start_time": "2024-05-09T09:19:07.613Z"
   },
   {
    "duration": 201,
    "start_time": "2024-05-09T09:19:08.490Z"
   },
   {
    "duration": 211,
    "start_time": "2024-05-09T09:20:10.165Z"
   },
   {
    "duration": 222,
    "start_time": "2024-05-09T09:20:43.604Z"
   },
   {
    "duration": 5,
    "start_time": "2024-05-09T09:21:53.693Z"
   },
   {
    "duration": 11,
    "start_time": "2024-05-09T09:22:42.374Z"
   },
   {
    "duration": 8,
    "start_time": "2024-05-09T09:23:09.099Z"
   },
   {
    "duration": 4,
    "start_time": "2024-05-09T09:23:31.034Z"
   },
   {
    "duration": 10,
    "start_time": "2024-05-09T09:50:52.812Z"
   },
   {
    "duration": 232,
    "start_time": "2024-05-09T09:57:59.975Z"
   },
   {
    "duration": 312,
    "start_time": "2024-05-09T09:58:38.581Z"
   },
   {
    "duration": 9,
    "start_time": "2024-05-09T10:00:13.068Z"
   },
   {
    "duration": 228,
    "start_time": "2024-05-09T10:00:54.919Z"
   },
   {
    "duration": 212,
    "start_time": "2024-05-09T10:01:01.474Z"
   },
   {
    "duration": 289,
    "start_time": "2024-05-09T10:01:06.633Z"
   },
   {
    "duration": 241,
    "start_time": "2024-05-09T10:08:03.382Z"
   },
   {
    "duration": 8,
    "start_time": "2024-05-09T10:08:48.004Z"
   },
   {
    "duration": 19,
    "start_time": "2024-05-09T10:25:25.948Z"
   },
   {
    "duration": 26,
    "start_time": "2024-05-09T10:25:33.862Z"
   },
   {
    "duration": 29,
    "start_time": "2024-05-09T10:26:06.050Z"
   },
   {
    "duration": 27,
    "start_time": "2024-05-09T10:28:41.224Z"
   },
   {
    "duration": 27,
    "start_time": "2024-05-09T10:29:05.949Z"
   },
   {
    "duration": 26,
    "start_time": "2024-05-09T10:30:53.423Z"
   },
   {
    "duration": 15,
    "start_time": "2024-05-09T10:36:39.648Z"
   },
   {
    "duration": 16,
    "start_time": "2024-05-09T10:36:46.770Z"
   },
   {
    "duration": 5,
    "start_time": "2024-05-09T10:37:36.205Z"
   },
   {
    "duration": 15,
    "start_time": "2024-05-09T10:38:31.344Z"
   },
   {
    "duration": 230,
    "start_time": "2024-05-09T10:45:15.169Z"
   },
   {
    "duration": 231,
    "start_time": "2024-05-09T10:45:57.084Z"
   },
   {
    "duration": 223,
    "start_time": "2024-05-09T10:47:02.750Z"
   },
   {
    "duration": 210,
    "start_time": "2024-05-09T10:47:43.365Z"
   },
   {
    "duration": 177,
    "start_time": "2024-05-09T10:50:59.449Z"
   },
   {
    "duration": 206,
    "start_time": "2024-05-09T10:51:07.553Z"
   },
   {
    "duration": 2,
    "start_time": "2024-05-09T10:52:37.344Z"
   },
   {
    "duration": 232,
    "start_time": "2024-05-09T10:52:38.604Z"
   },
   {
    "duration": 4,
    "start_time": "2024-05-09T10:53:49.965Z"
   },
   {
    "duration": 316,
    "start_time": "2024-05-09T10:53:50.662Z"
   },
   {
    "duration": 3,
    "start_time": "2024-05-09T10:54:08.598Z"
   },
   {
    "duration": 225,
    "start_time": "2024-05-09T10:54:10.547Z"
   },
   {
    "duration": 2,
    "start_time": "2024-05-09T10:54:27.247Z"
   },
   {
    "duration": 223,
    "start_time": "2024-05-09T10:54:28.242Z"
   },
   {
    "duration": 18,
    "start_time": "2024-05-09T12:14:40.326Z"
   },
   {
    "duration": 22,
    "start_time": "2024-05-09T12:14:54.447Z"
   },
   {
    "duration": 27,
    "start_time": "2024-05-09T13:08:43.661Z"
   },
   {
    "duration": 18,
    "start_time": "2024-05-09T13:09:00.974Z"
   },
   {
    "duration": 25,
    "start_time": "2024-05-09T13:09:56.271Z"
   },
   {
    "duration": 3,
    "start_time": "2024-05-09T13:21:02.442Z"
   },
   {
    "duration": 66,
    "start_time": "2024-05-09T13:21:02.447Z"
   },
   {
    "duration": 10,
    "start_time": "2024-05-09T13:21:02.515Z"
   },
   {
    "duration": 41,
    "start_time": "2024-05-09T13:21:02.527Z"
   },
   {
    "duration": 9,
    "start_time": "2024-05-09T13:21:02.571Z"
   },
   {
    "duration": 33,
    "start_time": "2024-05-09T13:21:02.581Z"
   },
   {
    "duration": 7,
    "start_time": "2024-05-09T13:21:02.615Z"
   },
   {
    "duration": 13,
    "start_time": "2024-05-09T13:21:02.624Z"
   },
   {
    "duration": 10,
    "start_time": "2024-05-09T13:21:02.639Z"
   },
   {
    "duration": 11,
    "start_time": "2024-05-09T13:21:02.650Z"
   },
   {
    "duration": 18,
    "start_time": "2024-05-09T13:21:02.663Z"
   },
   {
    "duration": 16,
    "start_time": "2024-05-09T13:21:02.683Z"
   },
   {
    "duration": 15,
    "start_time": "2024-05-09T13:21:02.701Z"
   },
   {
    "duration": 8,
    "start_time": "2024-05-09T13:21:02.720Z"
   },
   {
    "duration": 10,
    "start_time": "2024-05-09T13:21:02.730Z"
   },
   {
    "duration": 415,
    "start_time": "2024-05-09T13:21:02.742Z"
   },
   {
    "duration": 234,
    "start_time": "2024-05-09T13:21:03.159Z"
   },
   {
    "duration": 3,
    "start_time": "2024-05-09T13:21:03.395Z"
   },
   {
    "duration": 235,
    "start_time": "2024-05-09T13:21:03.400Z"
   },
   {
    "duration": 9,
    "start_time": "2024-05-09T13:21:03.637Z"
   },
   {
    "duration": 271,
    "start_time": "2024-05-09T13:21:03.647Z"
   },
   {
    "duration": 10,
    "start_time": "2024-05-09T13:21:03.920Z"
   },
   {
    "duration": 284,
    "start_time": "2024-05-09T13:21:03.931Z"
   },
   {
    "duration": 10,
    "start_time": "2024-05-09T13:21:04.217Z"
   },
   {
    "duration": 27,
    "start_time": "2024-05-09T13:21:04.229Z"
   },
   {
    "duration": 35,
    "start_time": "2024-05-09T13:21:04.258Z"
   },
   {
    "duration": 17,
    "start_time": "2024-05-09T13:21:04.295Z"
   },
   {
    "duration": 4,
    "start_time": "2024-05-09T13:21:04.314Z"
   },
   {
    "duration": 256,
    "start_time": "2024-05-09T13:21:04.319Z"
   },
   {
    "duration": 3,
    "start_time": "2024-05-09T13:21:04.580Z"
   },
   {
    "duration": 271,
    "start_time": "2024-05-09T13:21:04.585Z"
   },
   {
    "duration": 4,
    "start_time": "2024-05-09T13:21:04.857Z"
   },
   {
    "duration": 243,
    "start_time": "2024-05-09T13:21:04.863Z"
   },
   {
    "duration": 3,
    "start_time": "2024-05-09T13:21:05.107Z"
   },
   {
    "duration": 331,
    "start_time": "2024-05-09T13:21:05.112Z"
   },
   {
    "duration": 22,
    "start_time": "2024-05-09T13:21:05.445Z"
   },
   {
    "duration": 91,
    "start_time": "2024-05-09T13:49:45.034Z"
   },
   {
    "duration": 57,
    "start_time": "2024-05-09T13:50:32.848Z"
   },
   {
    "duration": 838,
    "start_time": "2024-05-10T09:53:17.506Z"
   },
   {
    "duration": 120,
    "start_time": "2024-05-10T09:53:18.346Z"
   },
   {
    "duration": 11,
    "start_time": "2024-05-10T09:53:18.468Z"
   },
   {
    "duration": 182,
    "start_time": "2024-05-10T09:53:18.481Z"
   },
   {
    "duration": 7,
    "start_time": "2024-05-10T09:53:18.665Z"
   },
   {
    "duration": 103,
    "start_time": "2024-05-10T09:53:18.674Z"
   },
   {
    "duration": 6,
    "start_time": "2024-05-10T09:53:18.779Z"
   },
   {
    "duration": 30,
    "start_time": "2024-05-10T09:53:18.786Z"
   },
   {
    "duration": 26,
    "start_time": "2024-05-10T09:53:18.817Z"
   },
   {
    "duration": 23,
    "start_time": "2024-05-10T09:53:18.844Z"
   },
   {
    "duration": 25,
    "start_time": "2024-05-10T09:53:18.869Z"
   },
   {
    "duration": 23,
    "start_time": "2024-05-10T09:53:18.896Z"
   },
   {
    "duration": 17,
    "start_time": "2024-05-10T09:53:18.921Z"
   },
   {
    "duration": 8,
    "start_time": "2024-05-10T09:53:18.941Z"
   },
   {
    "duration": 12,
    "start_time": "2024-05-10T09:53:18.951Z"
   },
   {
    "duration": 421,
    "start_time": "2024-05-10T09:53:18.965Z"
   },
   {
    "duration": 185,
    "start_time": "2024-05-10T09:53:19.388Z"
   },
   {
    "duration": 2,
    "start_time": "2024-05-10T09:53:19.575Z"
   },
   {
    "duration": 215,
    "start_time": "2024-05-10T09:53:19.579Z"
   },
   {
    "duration": 8,
    "start_time": "2024-05-10T09:53:19.795Z"
   },
   {
    "duration": 243,
    "start_time": "2024-05-10T09:53:19.805Z"
   },
   {
    "duration": 8,
    "start_time": "2024-05-10T09:53:20.049Z"
   },
   {
    "duration": 306,
    "start_time": "2024-05-10T09:53:20.059Z"
   },
   {
    "duration": 9,
    "start_time": "2024-05-10T09:53:20.367Z"
   },
   {
    "duration": 39,
    "start_time": "2024-05-10T09:53:20.377Z"
   },
   {
    "duration": 40,
    "start_time": "2024-05-10T09:53:20.418Z"
   },
   {
    "duration": 22,
    "start_time": "2024-05-10T09:53:20.459Z"
   },
   {
    "duration": 6,
    "start_time": "2024-05-10T09:53:20.483Z"
   },
   {
    "duration": 253,
    "start_time": "2024-05-10T09:53:20.491Z"
   },
   {
    "duration": 2,
    "start_time": "2024-05-10T09:53:20.746Z"
   },
   {
    "duration": 255,
    "start_time": "2024-05-10T09:53:20.750Z"
   },
   {
    "duration": 2,
    "start_time": "2024-05-10T09:53:21.007Z"
   },
   {
    "duration": 218,
    "start_time": "2024-05-10T09:53:21.011Z"
   },
   {
    "duration": 3,
    "start_time": "2024-05-10T09:53:21.231Z"
   },
   {
    "duration": 257,
    "start_time": "2024-05-10T09:53:21.235Z"
   },
   {
    "duration": 20,
    "start_time": "2024-05-10T09:53:21.494Z"
   },
   {
    "duration": 89,
    "start_time": "2024-05-10T09:53:21.515Z"
   },
   {
    "duration": 26,
    "start_time": "2024-05-10T09:57:13.466Z"
   },
   {
    "duration": 25,
    "start_time": "2024-05-10T09:58:50.455Z"
   },
   {
    "duration": 30,
    "start_time": "2024-05-10T09:59:23.510Z"
   },
   {
    "duration": 24,
    "start_time": "2024-05-10T09:59:37.982Z"
   },
   {
    "duration": 25,
    "start_time": "2024-05-10T09:59:59.067Z"
   },
   {
    "duration": 86,
    "start_time": "2024-05-10T10:21:26.073Z"
   },
   {
    "duration": 3,
    "start_time": "2024-05-10T10:21:47.305Z"
   },
   {
    "duration": 26,
    "start_time": "2024-05-10T10:21:52.417Z"
   },
   {
    "duration": 1188,
    "start_time": "2024-05-10T10:22:22.217Z"
   },
   {
    "duration": 1075,
    "start_time": "2024-05-10T10:23:09.821Z"
   },
   {
    "duration": 1077,
    "start_time": "2024-05-10T10:25:28.808Z"
   },
   {
    "duration": 295,
    "start_time": "2024-05-10T10:37:13.727Z"
   },
   {
    "duration": 44,
    "start_time": "2024-05-10T10:37:45.719Z"
   },
   {
    "duration": 8,
    "start_time": "2024-05-10T10:38:10.318Z"
   },
   {
    "duration": 4,
    "start_time": "2024-05-10T10:38:21.757Z"
   },
   {
    "duration": 22,
    "start_time": "2024-05-10T10:43:57.013Z"
   },
   {
    "duration": 27,
    "start_time": "2024-05-10T10:44:13.443Z"
   },
   {
    "duration": 18,
    "start_time": "2024-05-10T10:48:25.650Z"
   },
   {
    "duration": 30,
    "start_time": "2024-05-10T10:52:55.345Z"
   },
   {
    "duration": 24,
    "start_time": "2024-05-10T10:53:09.485Z"
   },
   {
    "duration": 4,
    "start_time": "2024-05-10T10:53:24.345Z"
   },
   {
    "duration": 6,
    "start_time": "2024-05-10T10:53:48.279Z"
   },
   {
    "duration": 148,
    "start_time": "2024-05-10T10:54:06.197Z"
   },
   {
    "duration": 4,
    "start_time": "2024-05-10T11:06:00.730Z"
   },
   {
    "duration": 145,
    "start_time": "2024-05-10T11:09:46.191Z"
   },
   {
    "duration": 46,
    "start_time": "2024-05-13T07:18:05.458Z"
   },
   {
    "duration": 769,
    "start_time": "2024-05-13T07:18:13.178Z"
   },
   {
    "duration": 81,
    "start_time": "2024-05-13T07:18:13.949Z"
   },
   {
    "duration": 10,
    "start_time": "2024-05-13T07:18:14.031Z"
   },
   {
    "duration": 81,
    "start_time": "2024-05-13T07:18:14.043Z"
   },
   {
    "duration": 8,
    "start_time": "2024-05-13T07:18:14.126Z"
   },
   {
    "duration": 70,
    "start_time": "2024-05-13T07:18:14.135Z"
   },
   {
    "duration": 6,
    "start_time": "2024-05-13T07:18:14.207Z"
   },
   {
    "duration": 12,
    "start_time": "2024-05-13T07:18:14.215Z"
   },
   {
    "duration": 7,
    "start_time": "2024-05-13T07:18:14.229Z"
   },
   {
    "duration": 6,
    "start_time": "2024-05-13T07:18:14.237Z"
   },
   {
    "duration": 5,
    "start_time": "2024-05-13T07:18:14.244Z"
   },
   {
    "duration": 19,
    "start_time": "2024-05-13T07:18:14.250Z"
   },
   {
    "duration": 11,
    "start_time": "2024-05-13T07:18:14.271Z"
   },
   {
    "duration": 7,
    "start_time": "2024-05-13T07:18:14.285Z"
   },
   {
    "duration": 11,
    "start_time": "2024-05-13T07:18:14.293Z"
   },
   {
    "duration": 390,
    "start_time": "2024-05-13T07:18:14.306Z"
   },
   {
    "duration": 181,
    "start_time": "2024-05-13T07:18:14.697Z"
   },
   {
    "duration": 2,
    "start_time": "2024-05-13T07:18:14.879Z"
   },
   {
    "duration": 184,
    "start_time": "2024-05-13T07:18:14.883Z"
   },
   {
    "duration": 8,
    "start_time": "2024-05-13T07:18:15.068Z"
   },
   {
    "duration": 276,
    "start_time": "2024-05-13T07:18:15.077Z"
   },
   {
    "duration": 14,
    "start_time": "2024-05-13T07:18:15.354Z"
   },
   {
    "duration": 204,
    "start_time": "2024-05-13T07:18:15.370Z"
   },
   {
    "duration": 8,
    "start_time": "2024-05-13T07:18:15.576Z"
   },
   {
    "duration": 22,
    "start_time": "2024-05-13T07:18:15.585Z"
   },
   {
    "duration": 15,
    "start_time": "2024-05-13T07:18:15.608Z"
   },
   {
    "duration": 45,
    "start_time": "2024-05-13T07:18:15.624Z"
   },
   {
    "duration": 3,
    "start_time": "2024-05-13T07:18:15.671Z"
   },
   {
    "duration": 253,
    "start_time": "2024-05-13T07:18:15.676Z"
   },
   {
    "duration": 5,
    "start_time": "2024-05-13T07:18:15.931Z"
   },
   {
    "duration": 235,
    "start_time": "2024-05-13T07:18:15.938Z"
   },
   {
    "duration": 3,
    "start_time": "2024-05-13T07:18:16.175Z"
   },
   {
    "duration": 205,
    "start_time": "2024-05-13T07:18:16.179Z"
   },
   {
    "duration": 3,
    "start_time": "2024-05-13T07:18:16.386Z"
   },
   {
    "duration": 210,
    "start_time": "2024-05-13T07:18:16.390Z"
   },
   {
    "duration": 23,
    "start_time": "2024-05-13T07:18:16.603Z"
   },
   {
    "duration": 3,
    "start_time": "2024-05-13T07:18:16.628Z"
   },
   {
    "duration": 151,
    "start_time": "2024-05-13T07:18:16.632Z"
   },
   {
    "duration": 203,
    "start_time": "2024-05-13T07:18:16.784Z"
   },
   {
    "duration": 172,
    "start_time": "2024-05-13T07:19:08.258Z"
   },
   {
    "duration": 44,
    "start_time": "2024-05-13T07:24:06.646Z"
   },
   {
    "duration": 186,
    "start_time": "2024-05-13T07:24:49.449Z"
   },
   {
    "duration": 267,
    "start_time": "2024-05-13T07:25:18.746Z"
   },
   {
    "duration": 214,
    "start_time": "2024-05-13T07:26:05.656Z"
   },
   {
    "duration": 203,
    "start_time": "2024-05-13T07:26:35.954Z"
   },
   {
    "duration": 437,
    "start_time": "2024-05-13T07:41:14.221Z"
   },
   {
    "duration": 4,
    "start_time": "2024-05-13T07:43:14.157Z"
   },
   {
    "duration": 5,
    "start_time": "2024-05-13T07:45:09.481Z"
   },
   {
    "duration": 5,
    "start_time": "2024-05-13T07:46:07.454Z"
   },
   {
    "duration": 33,
    "start_time": "2024-05-13T07:46:08.133Z"
   },
   {
    "duration": 5,
    "start_time": "2024-05-13T07:46:57.112Z"
   },
   {
    "duration": 10,
    "start_time": "2024-05-13T07:46:58.930Z"
   },
   {
    "duration": 4,
    "start_time": "2024-05-13T07:47:45.444Z"
   },
   {
    "duration": 7,
    "start_time": "2024-05-13T08:46:56.538Z"
   },
   {
    "duration": 5,
    "start_time": "2024-05-13T08:58:48.852Z"
   },
   {
    "duration": 12,
    "start_time": "2024-05-13T09:07:13.343Z"
   },
   {
    "duration": 22,
    "start_time": "2024-05-13T09:07:28.895Z"
   },
   {
    "duration": 8,
    "start_time": "2024-05-13T09:07:52.036Z"
   },
   {
    "duration": 8,
    "start_time": "2024-05-13T09:09:36.118Z"
   },
   {
    "duration": 5,
    "start_time": "2024-05-13T09:10:15.880Z"
   },
   {
    "duration": 3,
    "start_time": "2024-05-13T09:10:39.919Z"
   },
   {
    "duration": 3,
    "start_time": "2024-05-13T09:57:15.649Z"
   },
   {
    "duration": 3,
    "start_time": "2024-05-13T09:57:42.341Z"
   },
   {
    "duration": 1527,
    "start_time": "2024-05-13T09:58:53.036Z"
   },
   {
    "duration": 318,
    "start_time": "2024-05-13T09:59:37.353Z"
   },
   {
    "duration": 263,
    "start_time": "2024-05-13T09:59:59.848Z"
   },
   {
    "duration": 15,
    "start_time": "2024-05-13T10:00:09.788Z"
   },
   {
    "duration": 233,
    "start_time": "2024-05-13T10:01:00.341Z"
   },
   {
    "duration": 8,
    "start_time": "2024-05-13T10:03:28.276Z"
   },
   {
    "duration": 116,
    "start_time": "2024-05-13T10:04:59.476Z"
   },
   {
    "duration": 9,
    "start_time": "2024-05-13T10:05:00.000Z"
   },
   {
    "duration": 3,
    "start_time": "2024-05-13T10:05:37.414Z"
   },
   {
    "duration": 52,
    "start_time": "2024-05-13T10:05:37.418Z"
   },
   {
    "duration": 8,
    "start_time": "2024-05-13T10:05:37.472Z"
   },
   {
    "duration": 48,
    "start_time": "2024-05-13T10:05:37.481Z"
   },
   {
    "duration": 10,
    "start_time": "2024-05-13T10:05:37.532Z"
   },
   {
    "duration": 36,
    "start_time": "2024-05-13T10:05:37.544Z"
   },
   {
    "duration": 16,
    "start_time": "2024-05-13T10:05:37.582Z"
   },
   {
    "duration": 15,
    "start_time": "2024-05-13T10:05:37.600Z"
   },
   {
    "duration": 27,
    "start_time": "2024-05-13T10:05:37.617Z"
   },
   {
    "duration": 11,
    "start_time": "2024-05-13T10:05:37.645Z"
   },
   {
    "duration": 14,
    "start_time": "2024-05-13T10:05:37.658Z"
   },
   {
    "duration": 21,
    "start_time": "2024-05-13T10:05:37.673Z"
   },
   {
    "duration": 40,
    "start_time": "2024-05-13T10:05:37.696Z"
   },
   {
    "duration": 15,
    "start_time": "2024-05-13T10:05:37.737Z"
   },
   {
    "duration": 29,
    "start_time": "2024-05-13T10:05:37.754Z"
   },
   {
    "duration": 348,
    "start_time": "2024-05-13T10:05:37.785Z"
   },
   {
    "duration": 197,
    "start_time": "2024-05-13T10:05:38.135Z"
   },
   {
    "duration": 3,
    "start_time": "2024-05-13T10:05:38.334Z"
   },
   {
    "duration": 210,
    "start_time": "2024-05-13T10:05:38.338Z"
   },
   {
    "duration": 15,
    "start_time": "2024-05-13T10:05:38.550Z"
   },
   {
    "duration": 224,
    "start_time": "2024-05-13T10:05:38.567Z"
   },
   {
    "duration": 8,
    "start_time": "2024-05-13T10:05:38.793Z"
   },
   {
    "duration": 257,
    "start_time": "2024-05-13T10:05:38.802Z"
   },
   {
    "duration": 10,
    "start_time": "2024-05-13T10:05:39.066Z"
   },
   {
    "duration": 37,
    "start_time": "2024-05-13T10:05:39.078Z"
   },
   {
    "duration": 15,
    "start_time": "2024-05-13T10:05:39.116Z"
   },
   {
    "duration": 40,
    "start_time": "2024-05-13T10:05:39.132Z"
   },
   {
    "duration": 3,
    "start_time": "2024-05-13T10:05:39.174Z"
   },
   {
    "duration": 223,
    "start_time": "2024-05-13T10:05:39.179Z"
   },
   {
    "duration": 4,
    "start_time": "2024-05-13T10:05:39.404Z"
   },
   {
    "duration": 267,
    "start_time": "2024-05-13T10:05:39.410Z"
   },
   {
    "duration": 3,
    "start_time": "2024-05-13T10:05:39.679Z"
   },
   {
    "duration": 238,
    "start_time": "2024-05-13T10:05:39.683Z"
   },
   {
    "duration": 2,
    "start_time": "2024-05-13T10:05:39.923Z"
   },
   {
    "duration": 235,
    "start_time": "2024-05-13T10:05:39.927Z"
   },
   {
    "duration": 24,
    "start_time": "2024-05-13T10:05:40.165Z"
   },
   {
    "duration": 3,
    "start_time": "2024-05-13T10:05:40.191Z"
   },
   {
    "duration": 248,
    "start_time": "2024-05-13T10:05:40.196Z"
   },
   {
    "duration": 173,
    "start_time": "2024-05-13T10:05:40.446Z"
   },
   {
    "duration": 193,
    "start_time": "2024-05-13T10:05:40.620Z"
   },
   {
    "duration": 198,
    "start_time": "2024-05-13T10:05:40.815Z"
   },
   {
    "duration": 6,
    "start_time": "2024-05-13T10:05:41.014Z"
   },
   {
    "duration": 24,
    "start_time": "2024-05-13T10:05:41.021Z"
   },
   {
    "duration": 20,
    "start_time": "2024-05-13T10:05:41.047Z"
   },
   {
    "duration": 11,
    "start_time": "2024-05-13T10:05:41.069Z"
   },
   {
    "duration": 12,
    "start_time": "2024-05-13T10:05:41.081Z"
   },
   {
    "duration": 3,
    "start_time": "2024-05-13T10:05:41.096Z"
   },
   {
    "duration": 5,
    "start_time": "2024-05-13T10:05:41.101Z"
   },
   {
    "duration": 851,
    "start_time": "2024-05-13T10:05:41.108Z"
   },
   {
    "duration": 0,
    "start_time": "2024-05-13T10:05:41.960Z"
   },
   {
    "duration": 3,
    "start_time": "2024-05-13T10:05:56.654Z"
   },
   {
    "duration": 135,
    "start_time": "2024-05-13T10:25:44.671Z"
   },
   {
    "duration": 3,
    "start_time": "2024-05-13T10:27:40.390Z"
   },
   {
    "duration": 111,
    "start_time": "2024-05-13T10:30:13.489Z"
   },
   {
    "duration": 1349,
    "start_time": "2024-05-13T10:30:49.879Z"
   },
   {
    "duration": 18,
    "start_time": "2024-05-13T10:33:30.434Z"
   },
   {
    "duration": 182,
    "start_time": "2024-05-13T10:33:31.515Z"
   },
   {
    "duration": 107,
    "start_time": "2024-05-13T10:33:56.505Z"
   },
   {
    "duration": 1416,
    "start_time": "2024-05-13T10:33:56.849Z"
   },
   {
    "duration": 114,
    "start_time": "2024-05-13T10:34:17.252Z"
   },
   {
    "duration": 1551,
    "start_time": "2024-05-13T10:34:18.865Z"
   },
   {
    "duration": 3,
    "start_time": "2024-05-13T10:37:57.995Z"
   },
   {
    "duration": 3,
    "start_time": "2024-05-13T10:39:21.058Z"
   },
   {
    "duration": 4,
    "start_time": "2024-05-13T10:39:58.288Z"
   },
   {
    "duration": 4,
    "start_time": "2024-05-13T10:43:30.495Z"
   },
   {
    "duration": 7,
    "start_time": "2024-05-13T10:43:37.730Z"
   },
   {
    "duration": 6,
    "start_time": "2024-05-13T10:44:03.192Z"
   },
   {
    "duration": 5,
    "start_time": "2024-05-13T10:44:37.104Z"
   },
   {
    "duration": 5,
    "start_time": "2024-05-13T10:51:34.331Z"
   },
   {
    "duration": 5,
    "start_time": "2024-05-13T10:51:50.033Z"
   },
   {
    "duration": 4,
    "start_time": "2024-05-13T10:52:11.948Z"
   },
   {
    "duration": 1358,
    "start_time": "2024-05-13T12:04:50.942Z"
   },
   {
    "duration": 113,
    "start_time": "2024-05-13T12:04:52.302Z"
   },
   {
    "duration": 12,
    "start_time": "2024-05-13T12:04:52.417Z"
   },
   {
    "duration": 175,
    "start_time": "2024-05-13T12:04:52.431Z"
   },
   {
    "duration": 9,
    "start_time": "2024-05-13T12:04:52.609Z"
   },
   {
    "duration": 90,
    "start_time": "2024-05-13T12:04:52.620Z"
   },
   {
    "duration": 8,
    "start_time": "2024-05-13T12:04:52.712Z"
   },
   {
    "duration": 48,
    "start_time": "2024-05-13T12:04:52.722Z"
   },
   {
    "duration": 29,
    "start_time": "2024-05-13T12:04:52.772Z"
   },
   {
    "duration": 16,
    "start_time": "2024-05-13T12:04:52.803Z"
   },
   {
    "duration": 18,
    "start_time": "2024-05-13T12:04:52.821Z"
   },
   {
    "duration": 42,
    "start_time": "2024-05-13T12:04:52.841Z"
   },
   {
    "duration": 28,
    "start_time": "2024-05-13T12:04:52.885Z"
   },
   {
    "duration": 29,
    "start_time": "2024-05-13T12:04:52.916Z"
   },
   {
    "duration": 58,
    "start_time": "2024-05-13T12:04:52.947Z"
   },
   {
    "duration": 459,
    "start_time": "2024-05-13T12:04:53.007Z"
   },
   {
    "duration": 206,
    "start_time": "2024-05-13T12:04:53.467Z"
   },
   {
    "duration": 6,
    "start_time": "2024-05-13T12:04:53.675Z"
   },
   {
    "duration": 247,
    "start_time": "2024-05-13T12:04:53.682Z"
   },
   {
    "duration": 8,
    "start_time": "2024-05-13T12:04:53.931Z"
   },
   {
    "duration": 283,
    "start_time": "2024-05-13T12:04:53.941Z"
   },
   {
    "duration": 11,
    "start_time": "2024-05-13T12:04:54.226Z"
   },
   {
    "duration": 290,
    "start_time": "2024-05-13T12:04:54.239Z"
   },
   {
    "duration": 9,
    "start_time": "2024-05-13T12:04:54.531Z"
   },
   {
    "duration": 49,
    "start_time": "2024-05-13T12:04:54.542Z"
   },
   {
    "duration": 20,
    "start_time": "2024-05-13T12:04:54.593Z"
   },
   {
    "duration": 17,
    "start_time": "2024-05-13T12:04:54.614Z"
   },
   {
    "duration": 3,
    "start_time": "2024-05-13T12:04:54.633Z"
   },
   {
    "duration": 279,
    "start_time": "2024-05-13T12:04:54.638Z"
   },
   {
    "duration": 2,
    "start_time": "2024-05-13T12:04:54.919Z"
   },
   {
    "duration": 264,
    "start_time": "2024-05-13T12:04:54.923Z"
   },
   {
    "duration": 4,
    "start_time": "2024-05-13T12:04:55.189Z"
   },
   {
    "duration": 228,
    "start_time": "2024-05-13T12:04:55.195Z"
   },
   {
    "duration": 4,
    "start_time": "2024-05-13T12:04:55.425Z"
   },
   {
    "duration": 249,
    "start_time": "2024-05-13T12:04:55.431Z"
   },
   {
    "duration": 26,
    "start_time": "2024-05-13T12:04:55.682Z"
   },
   {
    "duration": 5,
    "start_time": "2024-05-13T12:04:55.709Z"
   },
   {
    "duration": 264,
    "start_time": "2024-05-13T12:04:55.716Z"
   },
   {
    "duration": 203,
    "start_time": "2024-05-13T12:04:55.982Z"
   },
   {
    "duration": 232,
    "start_time": "2024-05-13T12:04:56.187Z"
   },
   {
    "duration": 236,
    "start_time": "2024-05-13T12:04:56.423Z"
   },
   {
    "duration": 5,
    "start_time": "2024-05-13T12:04:56.661Z"
   },
   {
    "duration": 17,
    "start_time": "2024-05-13T12:04:56.667Z"
   },
   {
    "duration": 13,
    "start_time": "2024-05-13T12:04:56.686Z"
   },
   {
    "duration": 29,
    "start_time": "2024-05-13T12:04:56.701Z"
   },
   {
    "duration": 15,
    "start_time": "2024-05-13T12:04:56.732Z"
   },
   {
    "duration": 9,
    "start_time": "2024-05-13T12:04:56.749Z"
   },
   {
    "duration": 1213,
    "start_time": "2024-05-13T15:49:37.792Z"
   },
   {
    "duration": 82,
    "start_time": "2024-05-13T15:49:39.007Z"
   },
   {
    "duration": 10,
    "start_time": "2024-05-13T15:49:39.090Z"
   },
   {
    "duration": 87,
    "start_time": "2024-05-13T15:49:39.102Z"
   },
   {
    "duration": 7,
    "start_time": "2024-05-13T15:49:39.191Z"
   },
   {
    "duration": 73,
    "start_time": "2024-05-13T15:49:39.199Z"
   },
   {
    "duration": 7,
    "start_time": "2024-05-13T15:49:39.273Z"
   },
   {
    "duration": 16,
    "start_time": "2024-05-13T15:49:39.281Z"
   },
   {
    "duration": 11,
    "start_time": "2024-05-13T15:49:39.299Z"
   },
   {
    "duration": 4,
    "start_time": "2024-05-13T15:49:39.311Z"
   },
   {
    "duration": 5,
    "start_time": "2024-05-13T15:49:39.316Z"
   },
   {
    "duration": 10,
    "start_time": "2024-05-13T15:49:39.322Z"
   },
   {
    "duration": 11,
    "start_time": "2024-05-13T15:49:39.333Z"
   },
   {
    "duration": 7,
    "start_time": "2024-05-13T15:49:39.346Z"
   },
   {
    "duration": 10,
    "start_time": "2024-05-13T15:49:39.354Z"
   },
   {
    "duration": 365,
    "start_time": "2024-05-13T15:49:39.365Z"
   },
   {
    "duration": 171,
    "start_time": "2024-05-13T15:49:39.731Z"
   },
   {
    "duration": 3,
    "start_time": "2024-05-13T15:49:39.903Z"
   },
   {
    "duration": 178,
    "start_time": "2024-05-13T15:49:39.907Z"
   },
   {
    "duration": 6,
    "start_time": "2024-05-13T15:49:40.087Z"
   },
   {
    "duration": 228,
    "start_time": "2024-05-13T15:49:40.094Z"
   },
   {
    "duration": 9,
    "start_time": "2024-05-13T15:49:40.323Z"
   },
   {
    "duration": 203,
    "start_time": "2024-05-13T15:49:40.344Z"
   },
   {
    "duration": 8,
    "start_time": "2024-05-13T15:49:40.548Z"
   },
   {
    "duration": 33,
    "start_time": "2024-05-13T15:49:40.558Z"
   },
   {
    "duration": 14,
    "start_time": "2024-05-13T15:49:40.592Z"
   },
   {
    "duration": 27,
    "start_time": "2024-05-13T15:49:40.607Z"
   },
   {
    "duration": 10,
    "start_time": "2024-05-13T15:49:40.635Z"
   },
   {
    "duration": 204,
    "start_time": "2024-05-13T15:49:40.646Z"
   },
   {
    "duration": 3,
    "start_time": "2024-05-13T15:49:40.851Z"
   },
   {
    "duration": 227,
    "start_time": "2024-05-13T15:49:40.856Z"
   },
   {
    "duration": 2,
    "start_time": "2024-05-13T15:49:41.085Z"
   },
   {
    "duration": 195,
    "start_time": "2024-05-13T15:49:41.089Z"
   },
   {
    "duration": 3,
    "start_time": "2024-05-13T15:49:41.285Z"
   },
   {
    "duration": 212,
    "start_time": "2024-05-13T15:49:41.289Z"
   },
   {
    "duration": 25,
    "start_time": "2024-05-13T15:49:41.503Z"
   },
   {
    "duration": 16,
    "start_time": "2024-05-13T15:49:41.530Z"
   },
   {
    "duration": 219,
    "start_time": "2024-05-13T15:49:41.548Z"
   },
   {
    "duration": 170,
    "start_time": "2024-05-13T15:49:41.769Z"
   },
   {
    "duration": 173,
    "start_time": "2024-05-13T15:49:41.941Z"
   },
   {
    "duration": 187,
    "start_time": "2024-05-13T15:49:42.118Z"
   },
   {
    "duration": 4,
    "start_time": "2024-05-13T15:49:42.307Z"
   },
   {
    "duration": 6,
    "start_time": "2024-05-13T15:49:42.312Z"
   },
   {
    "duration": 17,
    "start_time": "2024-05-13T15:49:42.319Z"
   },
   {
    "duration": 12,
    "start_time": "2024-05-13T15:49:42.337Z"
   },
   {
    "duration": 8,
    "start_time": "2024-05-13T15:49:42.350Z"
   },
   {
    "duration": 4,
    "start_time": "2024-05-13T15:49:42.359Z"
   },
   {
    "duration": 142,
    "start_time": "2024-05-13T15:49:42.364Z"
   },
   {
    "duration": 119,
    "start_time": "2024-05-13T15:50:04.712Z"
   },
   {
    "duration": 259,
    "start_time": "2024-05-13T15:51:10.406Z"
   },
   {
    "duration": 1280,
    "start_time": "2024-05-14T07:17:16.849Z"
   },
   {
    "duration": 92,
    "start_time": "2024-05-14T07:17:18.131Z"
   },
   {
    "duration": 11,
    "start_time": "2024-05-14T07:17:18.224Z"
   },
   {
    "duration": 83,
    "start_time": "2024-05-14T07:17:18.236Z"
   },
   {
    "duration": 8,
    "start_time": "2024-05-14T07:17:18.322Z"
   },
   {
    "duration": 67,
    "start_time": "2024-05-14T07:17:18.331Z"
   },
   {
    "duration": 6,
    "start_time": "2024-05-14T07:17:18.399Z"
   },
   {
    "duration": 10,
    "start_time": "2024-05-14T07:17:18.407Z"
   },
   {
    "duration": 11,
    "start_time": "2024-05-14T07:17:18.418Z"
   },
   {
    "duration": 8,
    "start_time": "2024-05-14T07:17:18.430Z"
   },
   {
    "duration": 9,
    "start_time": "2024-05-14T07:17:18.440Z"
   },
   {
    "duration": 6,
    "start_time": "2024-05-14T07:17:18.450Z"
   },
   {
    "duration": 10,
    "start_time": "2024-05-14T07:17:18.458Z"
   },
   {
    "duration": 8,
    "start_time": "2024-05-14T07:17:18.471Z"
   },
   {
    "duration": 11,
    "start_time": "2024-05-14T07:17:18.481Z"
   },
   {
    "duration": 382,
    "start_time": "2024-05-14T07:17:18.493Z"
   },
   {
    "duration": 186,
    "start_time": "2024-05-14T07:17:18.876Z"
   },
   {
    "duration": 2,
    "start_time": "2024-05-14T07:17:19.064Z"
   },
   {
    "duration": 193,
    "start_time": "2024-05-14T07:17:19.068Z"
   },
   {
    "duration": 9,
    "start_time": "2024-05-14T07:17:19.262Z"
   },
   {
    "duration": 228,
    "start_time": "2024-05-14T07:17:19.272Z"
   },
   {
    "duration": 16,
    "start_time": "2024-05-14T07:17:19.502Z"
   },
   {
    "duration": 232,
    "start_time": "2024-05-14T07:17:19.520Z"
   },
   {
    "duration": 8,
    "start_time": "2024-05-14T07:17:19.753Z"
   },
   {
    "duration": 31,
    "start_time": "2024-05-14T07:17:19.763Z"
   },
   {
    "duration": 34,
    "start_time": "2024-05-14T07:17:19.795Z"
   },
   {
    "duration": 16,
    "start_time": "2024-05-14T07:17:19.831Z"
   },
   {
    "duration": 7,
    "start_time": "2024-05-14T07:17:19.848Z"
   },
   {
    "duration": 225,
    "start_time": "2024-05-14T07:17:19.857Z"
   },
   {
    "duration": 3,
    "start_time": "2024-05-14T07:17:20.084Z"
   },
   {
    "duration": 231,
    "start_time": "2024-05-14T07:17:20.089Z"
   },
   {
    "duration": 3,
    "start_time": "2024-05-14T07:17:20.322Z"
   },
   {
    "duration": 205,
    "start_time": "2024-05-14T07:17:20.327Z"
   },
   {
    "duration": 3,
    "start_time": "2024-05-14T07:17:20.534Z"
   },
   {
    "duration": 226,
    "start_time": "2024-05-14T07:17:20.539Z"
   },
   {
    "duration": 33,
    "start_time": "2024-05-14T07:17:20.767Z"
   },
   {
    "duration": 3,
    "start_time": "2024-05-14T07:17:20.801Z"
   },
   {
    "duration": 231,
    "start_time": "2024-05-14T07:17:20.818Z"
   },
   {
    "duration": 192,
    "start_time": "2024-05-14T07:17:21.051Z"
   },
   {
    "duration": 204,
    "start_time": "2024-05-14T07:17:21.244Z"
   },
   {
    "duration": 200,
    "start_time": "2024-05-14T07:17:21.452Z"
   },
   {
    "duration": 5,
    "start_time": "2024-05-14T07:17:21.653Z"
   },
   {
    "duration": 24,
    "start_time": "2024-05-14T07:17:21.659Z"
   },
   {
    "duration": 15,
    "start_time": "2024-05-14T07:17:21.685Z"
   },
   {
    "duration": 23,
    "start_time": "2024-05-14T07:17:21.702Z"
   },
   {
    "duration": 18,
    "start_time": "2024-05-14T07:17:21.726Z"
   },
   {
    "duration": 17,
    "start_time": "2024-05-14T07:17:21.745Z"
   },
   {
    "duration": 151,
    "start_time": "2024-05-14T07:17:21.764Z"
   },
   {
    "duration": 231,
    "start_time": "2024-05-14T07:17:21.917Z"
   },
   {
    "duration": 0,
    "start_time": "2024-05-14T07:17:22.149Z"
   },
   {
    "duration": 5,
    "start_time": "2024-05-14T07:18:39.372Z"
   },
   {
    "duration": 4,
    "start_time": "2024-05-14T07:19:05.578Z"
   },
   {
    "duration": 3,
    "start_time": "2024-05-14T07:19:14.087Z"
   },
   {
    "duration": 168,
    "start_time": "2024-05-14T07:19:16.772Z"
   },
   {
    "duration": 126,
    "start_time": "2024-05-14T07:20:17.556Z"
   },
   {
    "duration": 4,
    "start_time": "2024-05-14T07:20:18.697Z"
   },
   {
    "duration": 2,
    "start_time": "2024-05-14T07:20:19.251Z"
   },
   {
    "duration": 174,
    "start_time": "2024-05-14T07:20:19.761Z"
   },
   {
    "duration": 168,
    "start_time": "2024-05-14T07:22:42.005Z"
   },
   {
    "duration": 158,
    "start_time": "2024-05-14T07:29:50.607Z"
   },
   {
    "duration": 10275,
    "start_time": "2024-05-14T07:30:00.148Z"
   },
   {
    "duration": 125,
    "start_time": "2024-05-14T07:37:17.303Z"
   },
   {
    "duration": 10749,
    "start_time": "2024-05-14T07:37:17.430Z"
   },
   {
    "duration": 3,
    "start_time": "2024-05-14T07:48:02.772Z"
   },
   {
    "duration": 6,
    "start_time": "2024-05-14T07:48:40.110Z"
   },
   {
    "duration": 6,
    "start_time": "2024-05-14T07:49:04.176Z"
   },
   {
    "duration": 4,
    "start_time": "2024-05-14T07:50:34.760Z"
   },
   {
    "duration": 2,
    "start_time": "2024-05-14T07:51:06.029Z"
   },
   {
    "duration": 33244,
    "start_time": "2024-05-14T07:56:02.871Z"
   },
   {
    "duration": 7,
    "start_time": "2024-05-14T07:58:52.731Z"
   },
   {
    "duration": 10,
    "start_time": "2024-05-14T08:02:20.048Z"
   },
   {
    "duration": 186,
    "start_time": "2024-05-14T08:02:31.849Z"
   },
   {
    "duration": 315,
    "start_time": "2024-05-14T08:03:45.749Z"
   },
   {
    "duration": 320,
    "start_time": "2024-05-14T08:09:55.508Z"
   },
   {
    "duration": 309,
    "start_time": "2024-05-14T08:10:12.682Z"
   },
   {
    "duration": 316,
    "start_time": "2024-05-14T08:10:24.895Z"
   },
   {
    "duration": 310,
    "start_time": "2024-05-14T08:10:37.727Z"
   },
   {
    "duration": 325,
    "start_time": "2024-05-14T08:10:43.193Z"
   },
   {
    "duration": 306,
    "start_time": "2024-05-14T08:12:30.890Z"
   },
   {
    "duration": 317,
    "start_time": "2024-05-14T08:12:49.326Z"
   },
   {
    "duration": 1062,
    "start_time": "2024-05-14T12:20:20.528Z"
   },
   {
    "duration": 119,
    "start_time": "2024-05-14T12:20:21.592Z"
   },
   {
    "duration": 10,
    "start_time": "2024-05-14T12:20:21.712Z"
   },
   {
    "duration": 139,
    "start_time": "2024-05-14T12:20:21.723Z"
   },
   {
    "duration": 6,
    "start_time": "2024-05-14T12:20:21.863Z"
   },
   {
    "duration": 78,
    "start_time": "2024-05-14T12:20:21.870Z"
   },
   {
    "duration": 5,
    "start_time": "2024-05-14T12:20:21.950Z"
   },
   {
    "duration": 13,
    "start_time": "2024-05-14T12:20:21.956Z"
   },
   {
    "duration": 5,
    "start_time": "2024-05-14T12:20:21.970Z"
   },
   {
    "duration": 4,
    "start_time": "2024-05-14T12:20:21.977Z"
   },
   {
    "duration": 9,
    "start_time": "2024-05-14T12:20:21.982Z"
   },
   {
    "duration": 4,
    "start_time": "2024-05-14T12:20:21.992Z"
   },
   {
    "duration": 8,
    "start_time": "2024-05-14T12:20:21.997Z"
   },
   {
    "duration": 6,
    "start_time": "2024-05-14T12:20:22.006Z"
   },
   {
    "duration": 8,
    "start_time": "2024-05-14T12:20:22.013Z"
   },
   {
    "duration": 343,
    "start_time": "2024-05-14T12:20:22.022Z"
   },
   {
    "duration": 164,
    "start_time": "2024-05-14T12:20:22.367Z"
   },
   {
    "duration": 3,
    "start_time": "2024-05-14T12:20:22.533Z"
   },
   {
    "duration": 173,
    "start_time": "2024-05-14T12:20:22.537Z"
   },
   {
    "duration": 14,
    "start_time": "2024-05-14T12:20:22.711Z"
   },
   {
    "duration": 217,
    "start_time": "2024-05-14T12:20:22.726Z"
   },
   {
    "duration": 7,
    "start_time": "2024-05-14T12:20:22.944Z"
   },
   {
    "duration": 216,
    "start_time": "2024-05-14T12:20:22.953Z"
   },
   {
    "duration": 15,
    "start_time": "2024-05-14T12:20:23.171Z"
   },
   {
    "duration": 32,
    "start_time": "2024-05-14T12:20:23.187Z"
   },
   {
    "duration": 14,
    "start_time": "2024-05-14T12:20:23.220Z"
   },
   {
    "duration": 12,
    "start_time": "2024-05-14T12:20:23.235Z"
   },
   {
    "duration": 19,
    "start_time": "2024-05-14T12:20:23.250Z"
   },
   {
    "duration": 191,
    "start_time": "2024-05-14T12:20:23.271Z"
   },
   {
    "duration": 3,
    "start_time": "2024-05-14T12:20:23.463Z"
   },
   {
    "duration": 210,
    "start_time": "2024-05-14T12:20:23.467Z"
   },
   {
    "duration": 6,
    "start_time": "2024-05-14T12:20:23.678Z"
   },
   {
    "duration": 177,
    "start_time": "2024-05-14T12:20:23.685Z"
   },
   {
    "duration": 2,
    "start_time": "2024-05-14T12:20:23.864Z"
   },
   {
    "duration": 207,
    "start_time": "2024-05-14T12:20:23.867Z"
   },
   {
    "duration": 25,
    "start_time": "2024-05-14T12:20:24.076Z"
   },
   {
    "duration": 42,
    "start_time": "2024-05-14T12:20:24.102Z"
   },
   {
    "duration": 204,
    "start_time": "2024-05-14T12:20:24.146Z"
   },
   {
    "duration": 170,
    "start_time": "2024-05-14T12:20:24.351Z"
   },
   {
    "duration": 191,
    "start_time": "2024-05-14T12:20:24.523Z"
   },
   {
    "duration": 172,
    "start_time": "2024-05-14T12:20:24.716Z"
   },
   {
    "duration": 4,
    "start_time": "2024-05-14T12:20:24.889Z"
   },
   {
    "duration": 21,
    "start_time": "2024-05-14T12:20:24.894Z"
   },
   {
    "duration": 25,
    "start_time": "2024-05-14T12:20:24.917Z"
   },
   {
    "duration": 35,
    "start_time": "2024-05-14T12:20:24.944Z"
   },
   {
    "duration": 30,
    "start_time": "2024-05-14T12:20:24.980Z"
   },
   {
    "duration": 7,
    "start_time": "2024-05-14T12:20:25.012Z"
   },
   {
    "duration": 122,
    "start_time": "2024-05-14T12:20:25.020Z"
   },
   {
    "duration": 8869,
    "start_time": "2024-05-14T12:20:25.144Z"
   },
   {
    "duration": 6,
    "start_time": "2024-05-14T12:20:34.014Z"
   },
   {
    "duration": 326,
    "start_time": "2024-05-14T12:20:34.021Z"
   },
   {
    "duration": 4,
    "start_time": "2024-05-14T12:25:49.465Z"
   },
   {
    "duration": 4,
    "start_time": "2024-05-14T12:29:01.920Z"
   },
   {
    "duration": 4,
    "start_time": "2024-05-14T12:29:16.499Z"
   },
   {
    "duration": 4,
    "start_time": "2024-05-14T12:29:37.198Z"
   },
   {
    "duration": 945,
    "start_time": "2024-05-14T12:32:44.544Z"
   },
   {
    "duration": 37,
    "start_time": "2024-05-14T12:32:45.491Z"
   },
   {
    "duration": 10,
    "start_time": "2024-05-14T12:32:45.529Z"
   },
   {
    "duration": 36,
    "start_time": "2024-05-14T12:32:45.541Z"
   },
   {
    "duration": 6,
    "start_time": "2024-05-14T12:32:45.579Z"
   },
   {
    "duration": 37,
    "start_time": "2024-05-14T12:32:45.586Z"
   },
   {
    "duration": 6,
    "start_time": "2024-05-14T12:32:45.624Z"
   },
   {
    "duration": 23,
    "start_time": "2024-05-14T12:32:45.631Z"
   },
   {
    "duration": 11,
    "start_time": "2024-05-14T12:32:45.656Z"
   },
   {
    "duration": 4,
    "start_time": "2024-05-14T12:32:45.669Z"
   },
   {
    "duration": 10,
    "start_time": "2024-05-14T12:32:45.674Z"
   },
   {
    "duration": 10,
    "start_time": "2024-05-14T12:32:45.685Z"
   },
   {
    "duration": 15,
    "start_time": "2024-05-14T12:32:45.697Z"
   },
   {
    "duration": 7,
    "start_time": "2024-05-14T12:32:45.714Z"
   },
   {
    "duration": 22,
    "start_time": "2024-05-14T12:32:45.722Z"
   },
   {
    "duration": 328,
    "start_time": "2024-05-14T12:32:45.745Z"
   },
   {
    "duration": 166,
    "start_time": "2024-05-14T12:32:46.075Z"
   },
   {
    "duration": 2,
    "start_time": "2024-05-14T12:32:46.242Z"
   },
   {
    "duration": 183,
    "start_time": "2024-05-14T12:32:46.246Z"
   },
   {
    "duration": 6,
    "start_time": "2024-05-14T12:32:46.430Z"
   },
   {
    "duration": 216,
    "start_time": "2024-05-14T12:32:46.438Z"
   },
   {
    "duration": 7,
    "start_time": "2024-05-14T12:32:46.656Z"
   },
   {
    "duration": 208,
    "start_time": "2024-05-14T12:32:46.664Z"
   },
   {
    "duration": 13,
    "start_time": "2024-05-14T12:32:46.874Z"
   },
   {
    "duration": 23,
    "start_time": "2024-05-14T12:32:46.888Z"
   },
   {
    "duration": 21,
    "start_time": "2024-05-14T12:32:46.912Z"
   },
   {
    "duration": 14,
    "start_time": "2024-05-14T12:32:46.934Z"
   },
   {
    "duration": 3,
    "start_time": "2024-05-14T12:32:46.951Z"
   },
   {
    "duration": 207,
    "start_time": "2024-05-14T12:32:46.985Z"
   },
   {
    "duration": 3,
    "start_time": "2024-05-14T12:32:47.193Z"
   },
   {
    "duration": 215,
    "start_time": "2024-05-14T12:32:47.197Z"
   },
   {
    "duration": 3,
    "start_time": "2024-05-14T12:32:47.413Z"
   },
   {
    "duration": 199,
    "start_time": "2024-05-14T12:32:47.417Z"
   },
   {
    "duration": 3,
    "start_time": "2024-05-14T12:32:47.617Z"
   },
   {
    "duration": 199,
    "start_time": "2024-05-14T12:32:47.621Z"
   },
   {
    "duration": 18,
    "start_time": "2024-05-14T12:32:47.821Z"
   },
   {
    "duration": 3,
    "start_time": "2024-05-14T12:32:47.841Z"
   },
   {
    "duration": 193,
    "start_time": "2024-05-14T12:32:47.845Z"
   },
   {
    "duration": 163,
    "start_time": "2024-05-14T12:32:48.040Z"
   },
   {
    "duration": 165,
    "start_time": "2024-05-14T12:32:48.205Z"
   },
   {
    "duration": 179,
    "start_time": "2024-05-14T12:32:48.372Z"
   },
   {
    "duration": 5,
    "start_time": "2024-05-14T12:32:48.552Z"
   },
   {
    "duration": 27,
    "start_time": "2024-05-14T12:32:48.558Z"
   },
   {
    "duration": 14,
    "start_time": "2024-05-14T12:32:48.586Z"
   },
   {
    "duration": 9,
    "start_time": "2024-05-14T12:32:48.602Z"
   },
   {
    "duration": 12,
    "start_time": "2024-05-14T12:32:48.613Z"
   },
   {
    "duration": 4,
    "start_time": "2024-05-14T12:32:48.626Z"
   },
   {
    "duration": 106,
    "start_time": "2024-05-14T12:32:48.631Z"
   },
   {
    "duration": 8219,
    "start_time": "2024-05-14T12:32:48.739Z"
   },
   {
    "duration": 4,
    "start_time": "2024-05-14T12:32:56.959Z"
   },
   {
    "duration": 25,
    "start_time": "2024-05-14T12:32:56.964Z"
   },
   {
    "duration": 281,
    "start_time": "2024-05-14T12:32:56.990Z"
   },
   {
    "duration": 1215,
    "start_time": "2024-05-14T16:46:12.495Z"
   },
   {
    "duration": 82,
    "start_time": "2024-05-14T16:46:13.712Z"
   },
   {
    "duration": 12,
    "start_time": "2024-05-14T16:46:13.796Z"
   },
   {
    "duration": 87,
    "start_time": "2024-05-14T16:46:13.810Z"
   },
   {
    "duration": 9,
    "start_time": "2024-05-14T16:46:13.899Z"
   },
   {
    "duration": 80,
    "start_time": "2024-05-14T16:46:13.910Z"
   },
   {
    "duration": 7,
    "start_time": "2024-05-14T16:46:13.992Z"
   },
   {
    "duration": 24,
    "start_time": "2024-05-14T16:46:14.001Z"
   },
   {
    "duration": 10,
    "start_time": "2024-05-14T16:46:14.027Z"
   },
   {
    "duration": 4,
    "start_time": "2024-05-14T16:46:14.040Z"
   },
   {
    "duration": 6,
    "start_time": "2024-05-14T16:46:14.045Z"
   },
   {
    "duration": 6,
    "start_time": "2024-05-14T16:46:14.052Z"
   },
   {
    "duration": 13,
    "start_time": "2024-05-14T16:46:14.059Z"
   },
   {
    "duration": 13,
    "start_time": "2024-05-14T16:46:14.074Z"
   },
   {
    "duration": 8,
    "start_time": "2024-05-14T16:46:14.088Z"
   },
   {
    "duration": 10,
    "start_time": "2024-05-14T16:46:14.098Z"
   },
   {
    "duration": 402,
    "start_time": "2024-05-14T16:46:14.110Z"
   },
   {
    "duration": 192,
    "start_time": "2024-05-14T16:46:14.514Z"
   },
   {
    "duration": 4,
    "start_time": "2024-05-14T16:46:14.708Z"
   },
   {
    "duration": 192,
    "start_time": "2024-05-14T16:46:14.714Z"
   },
   {
    "duration": 8,
    "start_time": "2024-05-14T16:46:14.909Z"
   },
   {
    "duration": 234,
    "start_time": "2024-05-14T16:46:14.918Z"
   },
   {
    "duration": 8,
    "start_time": "2024-05-14T16:46:15.156Z"
   },
   {
    "duration": 227,
    "start_time": "2024-05-14T16:46:15.165Z"
   },
   {
    "duration": 9,
    "start_time": "2024-05-14T16:46:15.393Z"
   },
   {
    "duration": 39,
    "start_time": "2024-05-14T16:46:15.403Z"
   },
   {
    "duration": 19,
    "start_time": "2024-05-14T16:46:15.444Z"
   },
   {
    "duration": 15,
    "start_time": "2024-05-14T16:46:15.466Z"
   },
   {
    "duration": 3,
    "start_time": "2024-05-14T16:46:15.482Z"
   },
   {
    "duration": 243,
    "start_time": "2024-05-14T16:46:15.486Z"
   },
   {
    "duration": 3,
    "start_time": "2024-05-14T16:46:15.730Z"
   },
   {
    "duration": 241,
    "start_time": "2024-05-14T16:46:15.734Z"
   },
   {
    "duration": 4,
    "start_time": "2024-05-14T16:46:15.977Z"
   },
   {
    "duration": 210,
    "start_time": "2024-05-14T16:46:15.982Z"
   },
   {
    "duration": 3,
    "start_time": "2024-05-14T16:46:16.194Z"
   },
   {
    "duration": 221,
    "start_time": "2024-05-14T16:46:16.198Z"
   },
   {
    "duration": 37,
    "start_time": "2024-05-14T16:46:16.420Z"
   },
   {
    "duration": 4,
    "start_time": "2024-05-14T16:46:16.459Z"
   },
   {
    "duration": 223,
    "start_time": "2024-05-14T16:46:16.464Z"
   },
   {
    "duration": 190,
    "start_time": "2024-05-14T16:46:16.689Z"
   },
   {
    "duration": 203,
    "start_time": "2024-05-14T16:46:16.881Z"
   },
   {
    "duration": 190,
    "start_time": "2024-05-14T16:46:17.085Z"
   },
   {
    "duration": 6,
    "start_time": "2024-05-14T16:46:17.277Z"
   },
   {
    "duration": 6,
    "start_time": "2024-05-14T16:46:17.285Z"
   },
   {
    "duration": 6,
    "start_time": "2024-05-14T16:46:17.293Z"
   },
   {
    "duration": 21,
    "start_time": "2024-05-14T16:46:17.301Z"
   },
   {
    "duration": 10,
    "start_time": "2024-05-14T16:46:17.324Z"
   },
   {
    "duration": 20,
    "start_time": "2024-05-14T16:46:17.336Z"
   },
   {
    "duration": 145,
    "start_time": "2024-05-14T16:46:17.358Z"
   },
   {
    "duration": 10271,
    "start_time": "2024-05-14T16:46:17.504Z"
   },
   {
    "duration": 4,
    "start_time": "2024-05-14T16:46:27.776Z"
   },
   {
    "duration": 8,
    "start_time": "2024-05-14T16:46:27.781Z"
   },
   {
    "duration": 328,
    "start_time": "2024-05-14T16:46:27.790Z"
   },
   {
    "duration": 5,
    "start_time": "2024-05-14T16:47:04.786Z"
   },
   {
    "duration": 5,
    "start_time": "2024-05-14T16:48:44.941Z"
   },
   {
    "duration": 75,
    "start_time": "2024-05-15T06:26:23.496Z"
   },
   {
    "duration": 1294,
    "start_time": "2024-05-15T06:26:28.436Z"
   },
   {
    "duration": 83,
    "start_time": "2024-05-15T06:26:29.732Z"
   },
   {
    "duration": 11,
    "start_time": "2024-05-15T06:26:29.816Z"
   },
   {
    "duration": 85,
    "start_time": "2024-05-15T06:26:29.828Z"
   },
   {
    "duration": 7,
    "start_time": "2024-05-15T06:26:29.915Z"
   },
   {
    "duration": 72,
    "start_time": "2024-05-15T06:26:29.924Z"
   },
   {
    "duration": 6,
    "start_time": "2024-05-15T06:26:29.997Z"
   },
   {
    "duration": 51,
    "start_time": "2024-05-15T06:26:30.004Z"
   },
   {
    "duration": 76,
    "start_time": "2024-05-15T06:26:30.057Z"
   },
   {
    "duration": 53,
    "start_time": "2024-05-15T06:26:30.135Z"
   },
   {
    "duration": 55,
    "start_time": "2024-05-15T06:26:30.189Z"
   },
   {
    "duration": 35,
    "start_time": "2024-05-15T06:26:30.246Z"
   },
   {
    "duration": 45,
    "start_time": "2024-05-15T06:26:30.282Z"
   },
   {
    "duration": 66,
    "start_time": "2024-05-15T06:26:30.330Z"
   },
   {
    "duration": 84,
    "start_time": "2024-05-15T06:26:30.398Z"
   },
   {
    "duration": 35,
    "start_time": "2024-05-15T06:26:30.483Z"
   },
   {
    "duration": 292,
    "start_time": "2024-05-15T06:26:30.520Z"
   },
   {
    "duration": 194,
    "start_time": "2024-05-15T06:26:30.814Z"
   },
   {
    "duration": 3,
    "start_time": "2024-05-15T06:26:31.010Z"
   },
   {
    "duration": 222,
    "start_time": "2024-05-15T06:26:31.014Z"
   },
   {
    "duration": 10,
    "start_time": "2024-05-15T06:26:31.244Z"
   },
   {
    "duration": 312,
    "start_time": "2024-05-15T06:26:31.256Z"
   },
   {
    "duration": 10,
    "start_time": "2024-05-15T06:26:31.570Z"
   },
   {
    "duration": 298,
    "start_time": "2024-05-15T06:26:31.582Z"
   },
   {
    "duration": 9,
    "start_time": "2024-05-15T06:26:31.882Z"
   },
   {
    "duration": 36,
    "start_time": "2024-05-15T06:26:31.892Z"
   },
   {
    "duration": 52,
    "start_time": "2024-05-15T06:26:31.929Z"
   },
   {
    "duration": 16,
    "start_time": "2024-05-15T06:26:31.982Z"
   },
   {
    "duration": 8,
    "start_time": "2024-05-15T06:26:31.999Z"
   },
   {
    "duration": 218,
    "start_time": "2024-05-15T06:26:32.008Z"
   },
   {
    "duration": 3,
    "start_time": "2024-05-15T06:26:32.227Z"
   },
   {
    "duration": 242,
    "start_time": "2024-05-15T06:26:32.231Z"
   },
   {
    "duration": 4,
    "start_time": "2024-05-15T06:26:32.475Z"
   },
   {
    "duration": 211,
    "start_time": "2024-05-15T06:26:32.480Z"
   },
   {
    "duration": 2,
    "start_time": "2024-05-15T06:26:32.693Z"
   },
   {
    "duration": 229,
    "start_time": "2024-05-15T06:26:32.697Z"
   },
   {
    "duration": 26,
    "start_time": "2024-05-15T06:26:32.927Z"
   },
   {
    "duration": 5,
    "start_time": "2024-05-15T06:26:32.954Z"
   },
   {
    "duration": 233,
    "start_time": "2024-05-15T06:26:32.961Z"
   },
   {
    "duration": 208,
    "start_time": "2024-05-15T06:26:33.196Z"
   },
   {
    "duration": 208,
    "start_time": "2024-05-15T06:26:33.407Z"
   },
   {
    "duration": 195,
    "start_time": "2024-05-15T06:26:33.616Z"
   },
   {
    "duration": 5,
    "start_time": "2024-05-15T06:26:33.812Z"
   },
   {
    "duration": 12,
    "start_time": "2024-05-15T06:26:33.819Z"
   },
   {
    "duration": 8,
    "start_time": "2024-05-15T06:26:33.844Z"
   },
   {
    "duration": 31,
    "start_time": "2024-05-15T06:26:33.853Z"
   },
   {
    "duration": 7,
    "start_time": "2024-05-15T06:26:33.885Z"
   },
   {
    "duration": 14,
    "start_time": "2024-05-15T06:26:33.893Z"
   },
   {
    "duration": 149,
    "start_time": "2024-05-15T06:26:33.908Z"
   },
   {
    "duration": 10472,
    "start_time": "2024-05-15T06:26:34.058Z"
   },
   {
    "duration": 4,
    "start_time": "2024-05-15T06:26:44.532Z"
   },
   {
    "duration": 21,
    "start_time": "2024-05-15T06:26:44.537Z"
   },
   {
    "duration": 368,
    "start_time": "2024-05-15T06:26:44.560Z"
   },
   {
    "duration": 6,
    "start_time": "2024-05-15T06:30:44.152Z"
   },
   {
    "duration": 1378,
    "start_time": "2024-05-15T11:00:06.391Z"
   },
   {
    "duration": 110,
    "start_time": "2024-05-15T11:00:07.772Z"
   },
   {
    "duration": 12,
    "start_time": "2024-05-15T11:00:07.883Z"
   },
   {
    "duration": 150,
    "start_time": "2024-05-15T11:00:07.897Z"
   },
   {
    "duration": 9,
    "start_time": "2024-05-15T11:00:08.049Z"
   },
   {
    "duration": 78,
    "start_time": "2024-05-15T11:00:08.059Z"
   },
   {
    "duration": 8,
    "start_time": "2024-05-15T11:00:08.139Z"
   },
   {
    "duration": 26,
    "start_time": "2024-05-15T11:00:08.148Z"
   },
   {
    "duration": 32,
    "start_time": "2024-05-15T11:00:08.176Z"
   },
   {
    "duration": 34,
    "start_time": "2024-05-15T11:00:08.211Z"
   },
   {
    "duration": 20,
    "start_time": "2024-05-15T11:00:08.246Z"
   },
   {
    "duration": 29,
    "start_time": "2024-05-15T11:00:08.268Z"
   },
   {
    "duration": 55,
    "start_time": "2024-05-15T11:00:08.298Z"
   },
   {
    "duration": 31,
    "start_time": "2024-05-15T11:00:08.355Z"
   },
   {
    "duration": 25,
    "start_time": "2024-05-15T11:00:08.388Z"
   },
   {
    "duration": 27,
    "start_time": "2024-05-15T11:00:08.415Z"
   },
   {
    "duration": 16,
    "start_time": "2024-05-15T11:00:08.443Z"
   },
   {
    "duration": 278,
    "start_time": "2024-05-15T11:00:08.460Z"
   },
   {
    "duration": 223,
    "start_time": "2024-05-15T11:00:08.741Z"
   },
   {
    "duration": 3,
    "start_time": "2024-05-15T11:00:08.965Z"
   },
   {
    "duration": 259,
    "start_time": "2024-05-15T11:00:08.970Z"
   },
   {
    "duration": 11,
    "start_time": "2024-05-15T11:00:09.231Z"
   },
   {
    "duration": 276,
    "start_time": "2024-05-15T11:00:09.260Z"
   },
   {
    "duration": 9,
    "start_time": "2024-05-15T11:00:09.538Z"
   },
   {
    "duration": 254,
    "start_time": "2024-05-15T11:00:09.548Z"
   },
   {
    "duration": 9,
    "start_time": "2024-05-15T11:00:09.803Z"
   },
   {
    "duration": 26,
    "start_time": "2024-05-15T11:00:09.813Z"
   },
   {
    "duration": 19,
    "start_time": "2024-05-15T11:00:09.861Z"
   },
   {
    "duration": 18,
    "start_time": "2024-05-15T11:00:09.881Z"
   },
   {
    "duration": 15,
    "start_time": "2024-05-15T11:00:09.901Z"
   },
   {
    "duration": 260,
    "start_time": "2024-05-15T11:00:09.918Z"
   },
   {
    "duration": 4,
    "start_time": "2024-05-15T11:00:10.179Z"
   },
   {
    "duration": 317,
    "start_time": "2024-05-15T11:00:10.184Z"
   },
   {
    "duration": 3,
    "start_time": "2024-05-15T11:00:10.503Z"
   },
   {
    "duration": 240,
    "start_time": "2024-05-15T11:00:10.508Z"
   },
   {
    "duration": 9,
    "start_time": "2024-05-15T11:00:10.749Z"
   },
   {
    "duration": 272,
    "start_time": "2024-05-15T11:00:10.760Z"
   },
   {
    "duration": 36,
    "start_time": "2024-05-15T11:00:11.034Z"
   },
   {
    "duration": 4,
    "start_time": "2024-05-15T11:00:11.072Z"
   },
   {
    "duration": 274,
    "start_time": "2024-05-15T11:00:11.078Z"
   },
   {
    "duration": 211,
    "start_time": "2024-05-15T11:00:11.354Z"
   },
   {
    "duration": 223,
    "start_time": "2024-05-15T11:00:11.567Z"
   },
   {
    "duration": 234,
    "start_time": "2024-05-15T11:00:11.792Z"
   },
   {
    "duration": 7,
    "start_time": "2024-05-15T11:00:12.028Z"
   },
   {
    "duration": 29,
    "start_time": "2024-05-15T11:00:12.037Z"
   },
   {
    "duration": 23,
    "start_time": "2024-05-15T11:00:12.068Z"
   },
   {
    "duration": 26,
    "start_time": "2024-05-15T11:00:12.092Z"
   },
   {
    "duration": 27,
    "start_time": "2024-05-15T11:00:12.120Z"
   },
   {
    "duration": 21,
    "start_time": "2024-05-15T11:00:12.149Z"
   },
   {
    "duration": 137,
    "start_time": "2024-05-15T11:00:12.171Z"
   },
   {
    "duration": 13633,
    "start_time": "2024-05-15T11:00:12.310Z"
   },
   {
    "duration": 5,
    "start_time": "2024-05-15T11:00:25.945Z"
   },
   {
    "duration": 21,
    "start_time": "2024-05-15T11:00:25.951Z"
   },
   {
    "duration": 385,
    "start_time": "2024-05-15T11:00:25.973Z"
   },
   {
    "duration": 400,
    "start_time": "2024-05-15T11:01:33.286Z"
   },
   {
    "duration": 247,
    "start_time": "2024-05-15T11:02:44.799Z"
   },
   {
    "duration": 277,
    "start_time": "2024-05-15T11:03:05.896Z"
   },
   {
    "duration": 60,
    "start_time": "2024-05-15T11:14:38.137Z"
   },
   {
    "duration": 311,
    "start_time": "2024-05-15T11:15:06.525Z"
   },
   {
    "duration": 1328,
    "start_time": "2024-05-15T14:02:21.794Z"
   },
   {
    "duration": 92,
    "start_time": "2024-05-15T14:02:23.124Z"
   },
   {
    "duration": 11,
    "start_time": "2024-05-15T14:02:23.217Z"
   },
   {
    "duration": 84,
    "start_time": "2024-05-15T14:02:23.229Z"
   },
   {
    "duration": 9,
    "start_time": "2024-05-15T14:02:23.315Z"
   },
   {
    "duration": 84,
    "start_time": "2024-05-15T14:02:23.326Z"
   },
   {
    "duration": 7,
    "start_time": "2024-05-15T14:02:23.412Z"
   },
   {
    "duration": 26,
    "start_time": "2024-05-15T14:02:23.421Z"
   },
   {
    "duration": 27,
    "start_time": "2024-05-15T14:02:23.449Z"
   },
   {
    "duration": 16,
    "start_time": "2024-05-15T14:02:23.477Z"
   },
   {
    "duration": 10,
    "start_time": "2024-05-15T14:02:23.495Z"
   },
   {
    "duration": 19,
    "start_time": "2024-05-15T14:02:23.507Z"
   },
   {
    "duration": 9,
    "start_time": "2024-05-15T14:02:23.528Z"
   },
   {
    "duration": 30,
    "start_time": "2024-05-15T14:02:23.541Z"
   },
   {
    "duration": 10,
    "start_time": "2024-05-15T14:02:23.572Z"
   },
   {
    "duration": 21,
    "start_time": "2024-05-15T14:02:23.584Z"
   },
   {
    "duration": 11,
    "start_time": "2024-05-15T14:02:23.607Z"
   },
   {
    "duration": 306,
    "start_time": "2024-05-15T14:02:23.620Z"
   },
   {
    "duration": 217,
    "start_time": "2024-05-15T14:02:23.927Z"
   },
   {
    "duration": 4,
    "start_time": "2024-05-15T14:02:24.145Z"
   },
   {
    "duration": 222,
    "start_time": "2024-05-15T14:02:24.150Z"
   },
   {
    "duration": 9,
    "start_time": "2024-05-15T14:02:24.374Z"
   },
   {
    "duration": 246,
    "start_time": "2024-05-15T14:02:24.385Z"
   },
   {
    "duration": 10,
    "start_time": "2024-05-15T14:02:24.633Z"
   },
   {
    "duration": 299,
    "start_time": "2024-05-15T14:02:24.645Z"
   },
   {
    "duration": 23,
    "start_time": "2024-05-15T14:02:24.946Z"
   },
   {
    "duration": 25,
    "start_time": "2024-05-15T14:02:24.971Z"
   },
   {
    "duration": 36,
    "start_time": "2024-05-15T14:02:24.998Z"
   },
   {
    "duration": 35,
    "start_time": "2024-05-15T14:02:25.036Z"
   },
   {
    "duration": 26,
    "start_time": "2024-05-15T14:02:25.073Z"
   },
   {
    "duration": 221,
    "start_time": "2024-05-15T14:02:25.100Z"
   },
   {
    "duration": 3,
    "start_time": "2024-05-15T14:02:25.323Z"
   },
   {
    "duration": 266,
    "start_time": "2024-05-15T14:02:25.327Z"
   },
   {
    "duration": 3,
    "start_time": "2024-05-15T14:02:25.594Z"
   },
   {
    "duration": 306,
    "start_time": "2024-05-15T14:02:25.599Z"
   },
   {
    "duration": 5,
    "start_time": "2024-05-15T14:02:25.906Z"
   },
   {
    "duration": 220,
    "start_time": "2024-05-15T14:02:25.913Z"
   },
   {
    "duration": 32,
    "start_time": "2024-05-15T14:02:26.134Z"
   },
   {
    "duration": 5,
    "start_time": "2024-05-15T14:02:26.167Z"
   },
   {
    "duration": 147,
    "start_time": "2024-05-15T14:02:26.173Z"
   },
   {
    "duration": 178,
    "start_time": "2024-05-15T14:02:26.324Z"
   },
   {
    "duration": 193,
    "start_time": "2024-05-15T14:02:26.503Z"
   },
   {
    "duration": 202,
    "start_time": "2024-05-15T14:02:26.698Z"
   },
   {
    "duration": 4,
    "start_time": "2024-05-15T14:02:26.902Z"
   },
   {
    "duration": 18,
    "start_time": "2024-05-15T14:02:26.908Z"
   },
   {
    "duration": 10,
    "start_time": "2024-05-15T14:02:26.927Z"
   },
   {
    "duration": 14,
    "start_time": "2024-05-15T14:02:26.938Z"
   },
   {
    "duration": 21,
    "start_time": "2024-05-15T14:02:26.954Z"
   },
   {
    "duration": 5,
    "start_time": "2024-05-15T14:02:26.977Z"
   },
   {
    "duration": 138,
    "start_time": "2024-05-15T14:02:26.983Z"
   },
   {
    "duration": 11662,
    "start_time": "2024-05-15T14:02:27.122Z"
   },
   {
    "duration": 5,
    "start_time": "2024-05-15T14:02:38.785Z"
   },
   {
    "duration": 10,
    "start_time": "2024-05-15T14:02:38.791Z"
   },
   {
    "duration": 338,
    "start_time": "2024-05-15T14:02:38.802Z"
   },
   {
    "duration": 242,
    "start_time": "2024-05-15T14:11:00.023Z"
   },
   {
    "duration": 280,
    "start_time": "2024-05-15T14:14:28.787Z"
   },
   {
    "duration": 325,
    "start_time": "2024-05-15T14:15:41.737Z"
   },
   {
    "duration": 230,
    "start_time": "2024-05-15T14:15:59.794Z"
   },
   {
    "duration": 390,
    "start_time": "2024-05-15T14:16:08.628Z"
   },
   {
    "duration": 279,
    "start_time": "2024-05-15T14:17:01.506Z"
   },
   {
    "duration": 3,
    "start_time": "2024-05-15T14:18:16.211Z"
   },
   {
    "duration": 261,
    "start_time": "2024-05-15T14:18:17.042Z"
   },
   {
    "duration": 266,
    "start_time": "2024-05-15T14:21:30.894Z"
   },
   {
    "duration": 256,
    "start_time": "2024-05-15T14:22:54.366Z"
   },
   {
    "duration": 72,
    "start_time": "2024-05-15T14:31:10.968Z"
   },
   {
    "duration": 8,
    "start_time": "2024-05-15T14:33:48.728Z"
   },
   {
    "duration": 6,
    "start_time": "2024-05-15T14:34:15.753Z"
   },
   {
    "duration": 3,
    "start_time": "2024-05-15T14:34:35.924Z"
   },
   {
    "duration": 23,
    "start_time": "2024-05-15T14:34:43.397Z"
   },
   {
    "duration": 3,
    "start_time": "2024-05-15T14:35:08.486Z"
   },
   {
    "duration": 23,
    "start_time": "2024-05-15T14:35:09.028Z"
   },
   {
    "duration": 3,
    "start_time": "2024-05-15T14:38:07.663Z"
   },
   {
    "duration": 48,
    "start_time": "2024-05-15T14:38:07.668Z"
   },
   {
    "duration": 8,
    "start_time": "2024-05-15T14:38:07.718Z"
   },
   {
    "duration": 45,
    "start_time": "2024-05-15T14:38:07.729Z"
   },
   {
    "duration": 8,
    "start_time": "2024-05-15T14:38:07.776Z"
   },
   {
    "duration": 27,
    "start_time": "2024-05-15T14:38:07.787Z"
   },
   {
    "duration": 9,
    "start_time": "2024-05-15T14:38:07.816Z"
   },
   {
    "duration": 13,
    "start_time": "2024-05-15T14:38:07.826Z"
   },
   {
    "duration": 6,
    "start_time": "2024-05-15T14:38:07.841Z"
   },
   {
    "duration": 17,
    "start_time": "2024-05-15T14:38:07.849Z"
   },
   {
    "duration": 4,
    "start_time": "2024-05-15T14:38:07.868Z"
   },
   {
    "duration": 9,
    "start_time": "2024-05-15T14:38:07.874Z"
   },
   {
    "duration": 6,
    "start_time": "2024-05-15T14:38:07.886Z"
   },
   {
    "duration": 23,
    "start_time": "2024-05-15T14:38:07.893Z"
   },
   {
    "duration": 7,
    "start_time": "2024-05-15T14:38:07.918Z"
   },
   {
    "duration": 20,
    "start_time": "2024-05-15T14:38:07.926Z"
   },
   {
    "duration": 22,
    "start_time": "2024-05-15T14:38:07.947Z"
   },
   {
    "duration": 238,
    "start_time": "2024-05-15T14:38:07.971Z"
   },
   {
    "duration": 281,
    "start_time": "2024-05-15T14:38:08.211Z"
   },
   {
    "duration": 3,
    "start_time": "2024-05-15T14:38:08.494Z"
   },
   {
    "duration": 217,
    "start_time": "2024-05-15T14:38:08.499Z"
   },
   {
    "duration": 8,
    "start_time": "2024-05-15T14:38:08.717Z"
   },
   {
    "duration": 283,
    "start_time": "2024-05-15T14:38:08.727Z"
   },
   {
    "duration": 8,
    "start_time": "2024-05-15T14:38:09.012Z"
   },
   {
    "duration": 281,
    "start_time": "2024-05-15T14:38:09.021Z"
   },
   {
    "duration": 8,
    "start_time": "2024-05-15T14:38:09.304Z"
   },
   {
    "duration": 44,
    "start_time": "2024-05-15T14:38:09.313Z"
   },
   {
    "duration": 29,
    "start_time": "2024-05-15T14:38:09.358Z"
   },
   {
    "duration": 23,
    "start_time": "2024-05-15T14:38:09.388Z"
   },
   {
    "duration": 2,
    "start_time": "2024-05-15T14:38:09.413Z"
   },
   {
    "duration": 268,
    "start_time": "2024-05-15T14:38:09.417Z"
   },
   {
    "duration": 4,
    "start_time": "2024-05-15T14:38:09.687Z"
   },
   {
    "duration": 275,
    "start_time": "2024-05-15T14:38:09.692Z"
   },
   {
    "duration": 4,
    "start_time": "2024-05-15T14:38:09.969Z"
   },
   {
    "duration": 24,
    "start_time": "2024-05-15T14:38:09.975Z"
   },
   {
    "duration": 4,
    "start_time": "2024-05-15T14:38:10.001Z"
   },
   {
    "duration": 160,
    "start_time": "2024-05-15T14:38:10.008Z"
   },
   {
    "duration": 181,
    "start_time": "2024-05-15T14:38:10.169Z"
   },
   {
    "duration": 272,
    "start_time": "2024-05-15T14:38:10.351Z"
   },
   {
    "duration": 186,
    "start_time": "2024-05-15T14:38:10.624Z"
   },
   {
    "duration": 5,
    "start_time": "2024-05-15T14:38:10.811Z"
   },
   {
    "duration": 7,
    "start_time": "2024-05-15T14:38:10.817Z"
   },
   {
    "duration": 17,
    "start_time": "2024-05-15T14:38:10.826Z"
   },
   {
    "duration": 7,
    "start_time": "2024-05-15T14:38:10.844Z"
   },
   {
    "duration": 13,
    "start_time": "2024-05-15T14:38:10.853Z"
   },
   {
    "duration": 3,
    "start_time": "2024-05-15T14:38:10.867Z"
   },
   {
    "duration": 117,
    "start_time": "2024-05-15T14:38:10.872Z"
   },
   {
    "duration": 11713,
    "start_time": "2024-05-15T14:38:10.990Z"
   },
   {
    "duration": 4,
    "start_time": "2024-05-15T14:38:22.704Z"
   },
   {
    "duration": 35,
    "start_time": "2024-05-15T14:38:22.710Z"
   },
   {
    "duration": 325,
    "start_time": "2024-05-15T14:38:22.747Z"
   },
   {
    "duration": 30,
    "start_time": "2024-05-15T14:45:04.233Z"
   },
   {
    "duration": 4,
    "start_time": "2024-05-15T14:45:22.271Z"
   },
   {
    "duration": 15,
    "start_time": "2024-05-15T14:50:38.518Z"
   },
   {
    "duration": 163,
    "start_time": "2024-05-15T14:51:28.177Z"
   },
   {
    "duration": 15,
    "start_time": "2024-05-15T14:52:58.396Z"
   },
   {
    "duration": 52,
    "start_time": "2024-05-15T14:55:18.868Z"
   },
   {
    "duration": 6,
    "start_time": "2024-05-15T14:56:35.618Z"
   },
   {
    "duration": 71,
    "start_time": "2024-05-15T14:59:53.193Z"
   },
   {
    "duration": 125,
    "start_time": "2024-05-15T15:00:59.217Z"
   },
   {
    "duration": 117,
    "start_time": "2024-05-15T15:01:13.762Z"
   },
   {
    "duration": 115,
    "start_time": "2024-05-15T15:03:03.043Z"
   },
   {
    "duration": 10243,
    "start_time": "2024-05-15T15:03:12.428Z"
   },
   {
    "duration": 5,
    "start_time": "2024-05-15T15:07:27.203Z"
   },
   {
    "duration": 18,
    "start_time": "2024-05-15T15:08:27.952Z"
   },
   {
    "duration": 4,
    "start_time": "2024-05-15T15:08:41.388Z"
   },
   {
    "duration": 29,
    "start_time": "2024-05-15T15:11:40.590Z"
   },
   {
    "duration": 4,
    "start_time": "2024-05-15T15:12:01.159Z"
   },
   {
    "duration": 4,
    "start_time": "2024-05-15T15:12:15.178Z"
   },
   {
    "duration": 9,
    "start_time": "2024-05-15T15:12:19.683Z"
   },
   {
    "duration": 37,
    "start_time": "2024-05-15T15:12:29.763Z"
   },
   {
    "duration": 28,
    "start_time": "2024-05-15T15:12:35.875Z"
   },
   {
    "duration": 10694,
    "start_time": "2024-05-15T15:12:48.783Z"
   },
   {
    "duration": 10475,
    "start_time": "2024-05-15T15:13:20.131Z"
   },
   {
    "duration": 1198,
    "start_time": "2024-05-15T16:34:18.346Z"
   },
   {
    "duration": 37,
    "start_time": "2024-05-15T16:34:19.546Z"
   },
   {
    "duration": 12,
    "start_time": "2024-05-15T16:34:19.585Z"
   },
   {
    "duration": 47,
    "start_time": "2024-05-15T16:34:19.599Z"
   },
   {
    "duration": 9,
    "start_time": "2024-05-15T16:34:19.648Z"
   },
   {
    "duration": 62,
    "start_time": "2024-05-15T16:34:19.659Z"
   },
   {
    "duration": 8,
    "start_time": "2024-05-15T16:34:19.722Z"
   },
   {
    "duration": 27,
    "start_time": "2024-05-15T16:34:19.732Z"
   },
   {
    "duration": 33,
    "start_time": "2024-05-15T16:34:19.761Z"
   },
   {
    "duration": 22,
    "start_time": "2024-05-15T16:34:19.798Z"
   },
   {
    "duration": 39,
    "start_time": "2024-05-15T16:34:19.822Z"
   },
   {
    "duration": 67,
    "start_time": "2024-05-15T16:34:19.863Z"
   },
   {
    "duration": 36,
    "start_time": "2024-05-15T16:34:19.932Z"
   },
   {
    "duration": 26,
    "start_time": "2024-05-15T16:34:19.970Z"
   },
   {
    "duration": 9,
    "start_time": "2024-05-15T16:34:19.998Z"
   },
   {
    "duration": 23,
    "start_time": "2024-05-15T16:34:20.010Z"
   },
   {
    "duration": 10,
    "start_time": "2024-05-15T16:34:20.034Z"
   },
   {
    "duration": 299,
    "start_time": "2024-05-15T16:34:20.046Z"
   },
   {
    "duration": 218,
    "start_time": "2024-05-15T16:34:20.347Z"
   },
   {
    "duration": 3,
    "start_time": "2024-05-15T16:34:20.567Z"
   },
   {
    "duration": 261,
    "start_time": "2024-05-15T16:34:20.572Z"
   },
   {
    "duration": 8,
    "start_time": "2024-05-15T16:34:20.835Z"
   },
   {
    "duration": 269,
    "start_time": "2024-05-15T16:34:20.845Z"
   },
   {
    "duration": 11,
    "start_time": "2024-05-15T16:34:21.116Z"
   },
   {
    "duration": 318,
    "start_time": "2024-05-15T16:34:21.129Z"
   },
   {
    "duration": 9,
    "start_time": "2024-05-15T16:34:21.448Z"
   },
   {
    "duration": 35,
    "start_time": "2024-05-15T16:34:21.458Z"
   },
   {
    "duration": 17,
    "start_time": "2024-05-15T16:34:21.496Z"
   },
   {
    "duration": 16,
    "start_time": "2024-05-15T16:34:21.515Z"
   },
   {
    "duration": 2,
    "start_time": "2024-05-15T16:34:21.533Z"
   },
   {
    "duration": 331,
    "start_time": "2024-05-15T16:34:21.537Z"
   },
   {
    "duration": 3,
    "start_time": "2024-05-15T16:34:21.869Z"
   },
   {
    "duration": 376,
    "start_time": "2024-05-15T16:34:21.874Z"
   },
   {
    "duration": 4,
    "start_time": "2024-05-15T16:34:22.251Z"
   },
   {
    "duration": 40,
    "start_time": "2024-05-15T16:34:22.257Z"
   },
   {
    "duration": 3,
    "start_time": "2024-05-15T16:34:22.299Z"
   },
   {
    "duration": 34,
    "start_time": "2024-05-15T16:34:22.304Z"
   },
   {
    "duration": 196,
    "start_time": "2024-05-15T16:34:22.339Z"
   },
   {
    "duration": 203,
    "start_time": "2024-05-15T16:34:22.537Z"
   },
   {
    "duration": 204,
    "start_time": "2024-05-15T16:34:22.742Z"
   },
   {
    "duration": 5,
    "start_time": "2024-05-15T16:34:22.947Z"
   },
   {
    "duration": 16,
    "start_time": "2024-05-15T16:34:22.953Z"
   },
   {
    "duration": 13,
    "start_time": "2024-05-15T16:34:22.971Z"
   },
   {
    "duration": 31,
    "start_time": "2024-05-15T16:34:22.985Z"
   },
   {
    "duration": 12,
    "start_time": "2024-05-15T16:34:23.018Z"
   },
   {
    "duration": 25,
    "start_time": "2024-05-15T16:34:23.031Z"
   },
   {
    "duration": 41,
    "start_time": "2024-05-15T16:34:23.058Z"
   },
   {
    "duration": 1253,
    "start_time": "2024-05-15T16:34:23.100Z"
   },
   {
    "duration": 4,
    "start_time": "2024-05-15T16:34:24.355Z"
   },
   {
    "duration": 12,
    "start_time": "2024-05-15T16:34:24.360Z"
   },
   {
    "duration": 325,
    "start_time": "2024-05-15T16:34:24.374Z"
   },
   {
    "duration": 6,
    "start_time": "2024-05-15T16:38:44.424Z"
   },
   {
    "duration": 6,
    "start_time": "2024-05-15T16:39:44.085Z"
   },
   {
    "duration": 1330,
    "start_time": "2024-10-10T08:39:09.020Z"
   },
   {
    "duration": 82,
    "start_time": "2024-10-10T08:39:10.352Z"
   },
   {
    "duration": 12,
    "start_time": "2024-10-10T08:39:10.437Z"
   },
   {
    "duration": 155,
    "start_time": "2024-10-10T08:39:10.451Z"
   },
   {
    "duration": 8,
    "start_time": "2024-10-10T08:39:10.608Z"
   },
   {
    "duration": 105,
    "start_time": "2024-10-10T08:39:10.617Z"
   },
   {
    "duration": 6,
    "start_time": "2024-10-10T08:39:10.724Z"
   },
   {
    "duration": 13,
    "start_time": "2024-10-10T08:39:10.731Z"
   },
   {
    "duration": 5,
    "start_time": "2024-10-10T08:39:10.745Z"
   },
   {
    "duration": 8,
    "start_time": "2024-10-10T08:39:10.751Z"
   },
   {
    "duration": 4,
    "start_time": "2024-10-10T08:39:10.761Z"
   },
   {
    "duration": 6,
    "start_time": "2024-10-10T08:39:10.767Z"
   },
   {
    "duration": 6,
    "start_time": "2024-10-10T08:39:10.774Z"
   },
   {
    "duration": 10,
    "start_time": "2024-10-10T08:39:10.783Z"
   },
   {
    "duration": 9,
    "start_time": "2024-10-10T08:39:10.794Z"
   },
   {
    "duration": 10,
    "start_time": "2024-10-10T08:39:10.804Z"
   },
   {
    "duration": 41,
    "start_time": "2024-10-10T08:39:10.815Z"
   },
   {
    "duration": 261,
    "start_time": "2024-10-10T08:39:10.858Z"
   },
   {
    "duration": 207,
    "start_time": "2024-10-10T08:39:11.120Z"
   },
   {
    "duration": 3,
    "start_time": "2024-10-10T08:39:11.328Z"
   },
   {
    "duration": 216,
    "start_time": "2024-10-10T08:39:11.333Z"
   },
   {
    "duration": 7,
    "start_time": "2024-10-10T08:39:11.553Z"
   },
   {
    "duration": 246,
    "start_time": "2024-10-10T08:39:11.561Z"
   },
   {
    "duration": 9,
    "start_time": "2024-10-10T08:39:11.808Z"
   },
   {
    "duration": 295,
    "start_time": "2024-10-10T08:39:11.818Z"
   },
   {
    "duration": 9,
    "start_time": "2024-10-10T08:39:12.114Z"
   },
   {
    "duration": 38,
    "start_time": "2024-10-10T08:39:12.124Z"
   },
   {
    "duration": 16,
    "start_time": "2024-10-10T08:39:12.164Z"
   },
   {
    "duration": 16,
    "start_time": "2024-10-10T08:39:12.181Z"
   },
   {
    "duration": 5,
    "start_time": "2024-10-10T08:39:12.198Z"
   },
   {
    "duration": 322,
    "start_time": "2024-10-10T08:39:12.204Z"
   },
   {
    "duration": 3,
    "start_time": "2024-10-10T08:39:12.528Z"
   },
   {
    "duration": 359,
    "start_time": "2024-10-10T08:39:12.533Z"
   },
   {
    "duration": 4,
    "start_time": "2024-10-10T08:39:12.894Z"
   },
   {
    "duration": 31,
    "start_time": "2024-10-10T08:39:12.900Z"
   },
   {
    "duration": 5,
    "start_time": "2024-10-10T08:39:12.952Z"
   },
   {
    "duration": 41,
    "start_time": "2024-10-10T08:39:12.959Z"
   },
   {
    "duration": 174,
    "start_time": "2024-10-10T08:39:13.001Z"
   },
   {
    "duration": 191,
    "start_time": "2024-10-10T08:39:13.177Z"
   },
   {
    "duration": 197,
    "start_time": "2024-10-10T08:39:13.370Z"
   },
   {
    "duration": 6,
    "start_time": "2024-10-10T08:39:13.571Z"
   },
   {
    "duration": 13,
    "start_time": "2024-10-10T08:39:13.579Z"
   },
   {
    "duration": 6,
    "start_time": "2024-10-10T08:39:13.594Z"
   },
   {
    "duration": 8,
    "start_time": "2024-10-10T08:39:13.601Z"
   },
   {
    "duration": 11,
    "start_time": "2024-10-10T08:39:13.611Z"
   },
   {
    "duration": 6,
    "start_time": "2024-10-10T08:39:13.623Z"
   },
   {
    "duration": 62,
    "start_time": "2024-10-10T08:39:13.630Z"
   },
   {
    "duration": 1346,
    "start_time": "2024-10-10T08:39:13.693Z"
   },
   {
    "duration": 5,
    "start_time": "2024-10-10T08:39:15.041Z"
   },
   {
    "duration": 63,
    "start_time": "2024-10-10T08:39:15.047Z"
   },
   {
    "duration": 396,
    "start_time": "2024-10-10T08:39:15.112Z"
   },
   {
    "duration": 1156,
    "start_time": "2024-10-10T09:40:44.363Z"
   },
   {
    "duration": 38,
    "start_time": "2024-10-10T09:40:45.520Z"
   },
   {
    "duration": 12,
    "start_time": "2024-10-10T09:40:45.560Z"
   },
   {
    "duration": 36,
    "start_time": "2024-10-10T09:40:45.574Z"
   },
   {
    "duration": 9,
    "start_time": "2024-10-10T09:40:45.612Z"
   },
   {
    "duration": 30,
    "start_time": "2024-10-10T09:40:45.623Z"
   },
   {
    "duration": 9,
    "start_time": "2024-10-10T09:40:45.655Z"
   },
   {
    "duration": 19,
    "start_time": "2024-10-10T09:40:45.667Z"
   },
   {
    "duration": 50,
    "start_time": "2024-10-10T09:40:45.688Z"
   },
   {
    "duration": 15,
    "start_time": "2024-10-10T09:40:45.741Z"
   },
   {
    "duration": 5,
    "start_time": "2024-10-10T09:40:45.758Z"
   },
   {
    "duration": 12,
    "start_time": "2024-10-10T09:40:45.766Z"
   },
   {
    "duration": 11,
    "start_time": "2024-10-10T09:40:45.780Z"
   },
   {
    "duration": 13,
    "start_time": "2024-10-10T09:40:45.793Z"
   },
   {
    "duration": 32,
    "start_time": "2024-10-10T09:40:45.807Z"
   },
   {
    "duration": 13,
    "start_time": "2024-10-10T09:40:45.841Z"
   },
   {
    "duration": 14,
    "start_time": "2024-10-10T09:40:45.855Z"
   },
   {
    "duration": 250,
    "start_time": "2024-10-10T09:40:45.871Z"
   },
   {
    "duration": 204,
    "start_time": "2024-10-10T09:40:46.123Z"
   },
   {
    "duration": 2,
    "start_time": "2024-10-10T09:40:46.329Z"
   },
   {
    "duration": 231,
    "start_time": "2024-10-10T09:40:46.332Z"
   },
   {
    "duration": 7,
    "start_time": "2024-10-10T09:40:46.564Z"
   },
   {
    "duration": 239,
    "start_time": "2024-10-10T09:40:46.572Z"
   },
   {
    "duration": 8,
    "start_time": "2024-10-10T09:40:46.813Z"
   },
   {
    "duration": 397,
    "start_time": "2024-10-10T09:40:46.822Z"
   },
   {
    "duration": 10,
    "start_time": "2024-10-10T09:40:47.220Z"
   },
   {
    "duration": 46,
    "start_time": "2024-10-10T09:40:47.232Z"
   },
   {
    "duration": 27,
    "start_time": "2024-10-10T09:40:47.282Z"
   },
   {
    "duration": 24,
    "start_time": "2024-10-10T09:40:47.311Z"
   },
   {
    "duration": 3,
    "start_time": "2024-10-10T09:40:47.336Z"
   },
   {
    "duration": 313,
    "start_time": "2024-10-10T09:40:47.340Z"
   },
   {
    "duration": 4,
    "start_time": "2024-10-10T09:40:47.654Z"
   },
   {
    "duration": 342,
    "start_time": "2024-10-10T09:40:47.659Z"
   },
   {
    "duration": 3,
    "start_time": "2024-10-10T09:40:48.003Z"
   },
   {
    "duration": 40,
    "start_time": "2024-10-10T09:40:48.007Z"
   },
   {
    "duration": 5,
    "start_time": "2024-10-10T09:40:48.049Z"
   },
   {
    "duration": 14,
    "start_time": "2024-10-10T09:40:48.056Z"
   },
   {
    "duration": 185,
    "start_time": "2024-10-10T09:40:48.072Z"
   },
   {
    "duration": 228,
    "start_time": "2024-10-10T09:40:48.259Z"
   },
   {
    "duration": 202,
    "start_time": "2024-10-10T09:40:48.489Z"
   },
   {
    "duration": 5,
    "start_time": "2024-10-10T09:40:48.692Z"
   },
   {
    "duration": 6,
    "start_time": "2024-10-10T09:40:48.699Z"
   },
   {
    "duration": 9,
    "start_time": "2024-10-10T09:40:48.707Z"
   },
   {
    "duration": 11,
    "start_time": "2024-10-10T09:40:48.718Z"
   },
   {
    "duration": 25,
    "start_time": "2024-10-10T09:40:48.731Z"
   },
   {
    "duration": 15,
    "start_time": "2024-10-10T09:40:48.757Z"
   },
   {
    "duration": 38,
    "start_time": "2024-10-10T09:40:48.773Z"
   },
   {
    "duration": 1168,
    "start_time": "2024-10-10T09:40:48.812Z"
   },
   {
    "duration": 4,
    "start_time": "2024-10-10T09:40:49.982Z"
   },
   {
    "duration": 11,
    "start_time": "2024-10-10T09:40:49.987Z"
   },
   {
    "duration": 299,
    "start_time": "2024-10-10T09:40:50.000Z"
   }
  ],
  "kernelspec": {
   "display_name": "Python 3 (ipykernel)",
   "language": "python",
   "name": "python3"
  },
  "language_info": {
   "codemirror_mode": {
    "name": "ipython",
    "version": 3
   },
   "file_extension": ".py",
   "mimetype": "text/x-python",
   "name": "python",
   "nbconvert_exporter": "python",
   "pygments_lexer": "ipython3",
   "version": "3.11.8"
  },
  "toc": {
   "base_numbering": 1,
   "nav_menu": {},
   "number_sections": true,
   "sideBar": true,
   "skip_h1_title": true,
   "title_cell": "Table of Contents",
   "title_sidebar": "Contents",
   "toc_cell": false,
   "toc_position": {
    "height": "calc(100% - 180px)",
    "left": "10px",
    "top": "150px",
    "width": "305px"
   },
   "toc_section_display": true,
   "toc_window_display": false
  }
 },
 "nbformat": 4,
 "nbformat_minor": 5
}
