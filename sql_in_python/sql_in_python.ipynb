{
 "cells": [
  {
   "cell_type": "markdown",
   "metadata": {},
   "source": [
    "# Анализ базы данных сервис для чтения книг по подписке\n",
    "\n",
    "База данных содержит информацию о книгах, издательствах, авторах, а также пользовательские обзоры книг. \n",
    "Проанализируем эти данные, ответив на следующие вопросы:\n",
    "\n",
    "- сколько книг вышло после 1 января 2000 года;\n",
    "- какое количество обзоров и среднюю оценку имеет каждая книга;\n",
    "- определим издательство, которое выпустило наибольшее число книг толще 50 страниц ;\n",
    "- определим автора с самой высокой средней оценкой книг, учитывая только книги с 50 и более оценками;\n",
    "- посчитаем среднее количество обзоров от пользователей, которые поставили больше 48 оценок.\n"
   ]
  },
  {
   "cell_type": "markdown",
   "metadata": {},
   "source": [
    "## Загрузка таблиц"
   ]
  },
  {
   "cell_type": "code",
   "execution_count": 1,
   "metadata": {},
   "outputs": [],
   "source": [
    "# импортируем библиотеки\n",
    "import pandas as pd\n",
    "from sqlalchemy import text, create_engine"
   ]
  },
  {
   "cell_type": "code",
   "execution_count": 2,
   "metadata": {},
   "outputs": [],
   "source": [
    "# устанавливаем параметры\n",
    "db_config = {'user': 'praktikum_student', # имя пользователя\n",
    "'pwd': 'Sdf4$2;d-d30pp', # пароль\n",
    "'host': 'rc1b-wcoijxj3yxfsf3fs.mdb.yandexcloud.net',\n",
    "'port': 6432, # порт подключения\n",
    "'db': 'data-analyst-final-project-db'} # название базы данных\n",
    "connection_string = 'postgresql://{user}:{pwd}@{host}:{port}/{db}'.format(**db_config)"
   ]
  },
  {
   "cell_type": "code",
   "execution_count": 3,
   "metadata": {},
   "outputs": [],
   "source": [
    "# сохраняем коннектор\n",
    "engine = create_engine(connection_string, connect_args={'sslmode':'require'})"
   ]
  },
  {
   "cell_type": "markdown",
   "metadata": {},
   "source": [
    "### Данные о книгах"
   ]
  },
  {
   "cell_type": "code",
   "execution_count": 4,
   "metadata": {},
   "outputs": [
    {
     "data": {
      "text/html": [
       "<div>\n",
       "<style scoped>\n",
       "    .dataframe tbody tr th:only-of-type {\n",
       "        vertical-align: middle;\n",
       "    }\n",
       "\n",
       "    .dataframe tbody tr th {\n",
       "        vertical-align: top;\n",
       "    }\n",
       "\n",
       "    .dataframe thead th {\n",
       "        text-align: right;\n",
       "    }\n",
       "</style>\n",
       "<table border=\"1\" class=\"dataframe\">\n",
       "  <thead>\n",
       "    <tr style=\"text-align: right;\">\n",
       "      <th></th>\n",
       "      <th>book_id</th>\n",
       "      <th>author_id</th>\n",
       "      <th>title</th>\n",
       "      <th>num_pages</th>\n",
       "      <th>publication_date</th>\n",
       "      <th>publisher_id</th>\n",
       "    </tr>\n",
       "  </thead>\n",
       "  <tbody>\n",
       "    <tr>\n",
       "      <th>0</th>\n",
       "      <td>1</td>\n",
       "      <td>546</td>\n",
       "      <td>'Salem's Lot</td>\n",
       "      <td>594</td>\n",
       "      <td>2005-11-01</td>\n",
       "      <td>93</td>\n",
       "    </tr>\n",
       "    <tr>\n",
       "      <th>1</th>\n",
       "      <td>2</td>\n",
       "      <td>465</td>\n",
       "      <td>1 000 Places to See Before You Die</td>\n",
       "      <td>992</td>\n",
       "      <td>2003-05-22</td>\n",
       "      <td>336</td>\n",
       "    </tr>\n",
       "    <tr>\n",
       "      <th>2</th>\n",
       "      <td>3</td>\n",
       "      <td>407</td>\n",
       "      <td>13 Little Blue Envelopes (Little Blue Envelope...</td>\n",
       "      <td>322</td>\n",
       "      <td>2010-12-21</td>\n",
       "      <td>135</td>\n",
       "    </tr>\n",
       "    <tr>\n",
       "      <th>3</th>\n",
       "      <td>4</td>\n",
       "      <td>82</td>\n",
       "      <td>1491: New Revelations of the Americas Before C...</td>\n",
       "      <td>541</td>\n",
       "      <td>2006-10-10</td>\n",
       "      <td>309</td>\n",
       "    </tr>\n",
       "    <tr>\n",
       "      <th>4</th>\n",
       "      <td>5</td>\n",
       "      <td>125</td>\n",
       "      <td>1776</td>\n",
       "      <td>386</td>\n",
       "      <td>2006-07-04</td>\n",
       "      <td>268</td>\n",
       "    </tr>\n",
       "  </tbody>\n",
       "</table>\n",
       "</div>"
      ],
      "text/plain": [
       "   book_id  author_id                                              title  \\\n",
       "0        1        546                                       'Salem's Lot   \n",
       "1        2        465                 1 000 Places to See Before You Die   \n",
       "2        3        407  13 Little Blue Envelopes (Little Blue Envelope...   \n",
       "3        4         82  1491: New Revelations of the Americas Before C...   \n",
       "4        5        125                                               1776   \n",
       "\n",
       "   num_pages publication_date  publisher_id  \n",
       "0        594       2005-11-01            93  \n",
       "1        992       2003-05-22           336  \n",
       "2        322       2010-12-21           135  \n",
       "3        541       2006-10-10           309  \n",
       "4        386       2006-07-04           268  "
      ]
     },
     "execution_count": 4,
     "metadata": {},
     "output_type": "execute_result"
    }
   ],
   "source": [
    "# чтобы выполнить SQL-запрос, используем Pandas\n",
    "query = '''SELECT * FROM books LIMIT 5'''\n",
    "con=engine.connect()\n",
    "pd.io.sql.read_sql(sql=text(query), con = con)"
   ]
  },
  {
   "cell_type": "markdown",
   "metadata": {},
   "source": [
    "### Данные об авторах"
   ]
  },
  {
   "cell_type": "code",
   "execution_count": 5,
   "metadata": {},
   "outputs": [
    {
     "data": {
      "text/html": [
       "<div>\n",
       "<style scoped>\n",
       "    .dataframe tbody tr th:only-of-type {\n",
       "        vertical-align: middle;\n",
       "    }\n",
       "\n",
       "    .dataframe tbody tr th {\n",
       "        vertical-align: top;\n",
       "    }\n",
       "\n",
       "    .dataframe thead th {\n",
       "        text-align: right;\n",
       "    }\n",
       "</style>\n",
       "<table border=\"1\" class=\"dataframe\">\n",
       "  <thead>\n",
       "    <tr style=\"text-align: right;\">\n",
       "      <th></th>\n",
       "      <th>book_id</th>\n",
       "      <th>author_id</th>\n",
       "      <th>title</th>\n",
       "      <th>num_pages</th>\n",
       "      <th>publication_date</th>\n",
       "      <th>publisher_id</th>\n",
       "    </tr>\n",
       "  </thead>\n",
       "  <tbody>\n",
       "    <tr>\n",
       "      <th>0</th>\n",
       "      <td>1</td>\n",
       "      <td>546</td>\n",
       "      <td>'Salem's Lot</td>\n",
       "      <td>594</td>\n",
       "      <td>2005-11-01</td>\n",
       "      <td>93</td>\n",
       "    </tr>\n",
       "    <tr>\n",
       "      <th>1</th>\n",
       "      <td>2</td>\n",
       "      <td>465</td>\n",
       "      <td>1 000 Places to See Before You Die</td>\n",
       "      <td>992</td>\n",
       "      <td>2003-05-22</td>\n",
       "      <td>336</td>\n",
       "    </tr>\n",
       "    <tr>\n",
       "      <th>2</th>\n",
       "      <td>3</td>\n",
       "      <td>407</td>\n",
       "      <td>13 Little Blue Envelopes (Little Blue Envelope...</td>\n",
       "      <td>322</td>\n",
       "      <td>2010-12-21</td>\n",
       "      <td>135</td>\n",
       "    </tr>\n",
       "    <tr>\n",
       "      <th>3</th>\n",
       "      <td>4</td>\n",
       "      <td>82</td>\n",
       "      <td>1491: New Revelations of the Americas Before C...</td>\n",
       "      <td>541</td>\n",
       "      <td>2006-10-10</td>\n",
       "      <td>309</td>\n",
       "    </tr>\n",
       "    <tr>\n",
       "      <th>4</th>\n",
       "      <td>5</td>\n",
       "      <td>125</td>\n",
       "      <td>1776</td>\n",
       "      <td>386</td>\n",
       "      <td>2006-07-04</td>\n",
       "      <td>268</td>\n",
       "    </tr>\n",
       "  </tbody>\n",
       "</table>\n",
       "</div>"
      ],
      "text/plain": [
       "   book_id  author_id                                              title  \\\n",
       "0        1        546                                       'Salem's Lot   \n",
       "1        2        465                 1 000 Places to See Before You Die   \n",
       "2        3        407  13 Little Blue Envelopes (Little Blue Envelope...   \n",
       "3        4         82  1491: New Revelations of the Americas Before C...   \n",
       "4        5        125                                               1776   \n",
       "\n",
       "   num_pages publication_date  publisher_id  \n",
       "0        594       2005-11-01            93  \n",
       "1        992       2003-05-22           336  \n",
       "2        322       2010-12-21           135  \n",
       "3        541       2006-10-10           309  \n",
       "4        386       2006-07-04           268  "
      ]
     },
     "execution_count": 5,
     "metadata": {},
     "output_type": "execute_result"
    }
   ],
   "source": [
    "quuery = '''SELECT * FROM authors LIMIT 5'''\n",
    "con=engine.connect()\n",
    "pd.io.sql.read_sql(sql=text(query), con = con)"
   ]
  },
  {
   "cell_type": "markdown",
   "metadata": {},
   "source": [
    "### Данные о пользовательских оценках книг"
   ]
  },
  {
   "cell_type": "code",
   "execution_count": 6,
   "metadata": {},
   "outputs": [
    {
     "data": {
      "text/html": [
       "<div>\n",
       "<style scoped>\n",
       "    .dataframe tbody tr th:only-of-type {\n",
       "        vertical-align: middle;\n",
       "    }\n",
       "\n",
       "    .dataframe tbody tr th {\n",
       "        vertical-align: top;\n",
       "    }\n",
       "\n",
       "    .dataframe thead th {\n",
       "        text-align: right;\n",
       "    }\n",
       "</style>\n",
       "<table border=\"1\" class=\"dataframe\">\n",
       "  <thead>\n",
       "    <tr style=\"text-align: right;\">\n",
       "      <th></th>\n",
       "      <th>rating_id</th>\n",
       "      <th>book_id</th>\n",
       "      <th>username</th>\n",
       "      <th>rating</th>\n",
       "    </tr>\n",
       "  </thead>\n",
       "  <tbody>\n",
       "    <tr>\n",
       "      <th>0</th>\n",
       "      <td>1</td>\n",
       "      <td>1</td>\n",
       "      <td>ryanfranco</td>\n",
       "      <td>4</td>\n",
       "    </tr>\n",
       "    <tr>\n",
       "      <th>1</th>\n",
       "      <td>2</td>\n",
       "      <td>1</td>\n",
       "      <td>grantpatricia</td>\n",
       "      <td>2</td>\n",
       "    </tr>\n",
       "    <tr>\n",
       "      <th>2</th>\n",
       "      <td>3</td>\n",
       "      <td>1</td>\n",
       "      <td>brandtandrea</td>\n",
       "      <td>5</td>\n",
       "    </tr>\n",
       "    <tr>\n",
       "      <th>3</th>\n",
       "      <td>4</td>\n",
       "      <td>2</td>\n",
       "      <td>lorichen</td>\n",
       "      <td>3</td>\n",
       "    </tr>\n",
       "    <tr>\n",
       "      <th>4</th>\n",
       "      <td>5</td>\n",
       "      <td>2</td>\n",
       "      <td>mariokeller</td>\n",
       "      <td>2</td>\n",
       "    </tr>\n",
       "  </tbody>\n",
       "</table>\n",
       "</div>"
      ],
      "text/plain": [
       "   rating_id  book_id       username  rating\n",
       "0          1        1     ryanfranco       4\n",
       "1          2        1  grantpatricia       2\n",
       "2          3        1   brandtandrea       5\n",
       "3          4        2       lorichen       3\n",
       "4          5        2    mariokeller       2"
      ]
     },
     "execution_count": 6,
     "metadata": {},
     "output_type": "execute_result"
    }
   ],
   "source": [
    "query = '''SELECT * FROM ratings LIMIT 5'''\n",
    "con=engine.connect()\n",
    "pd.io.sql.read_sql(sql=text(query), con = con)"
   ]
  },
  {
   "cell_type": "markdown",
   "metadata": {},
   "source": [
    "### Данные о пользовательских обзорах"
   ]
  },
  {
   "cell_type": "code",
   "execution_count": 7,
   "metadata": {},
   "outputs": [
    {
     "data": {
      "text/html": [
       "<div>\n",
       "<style scoped>\n",
       "    .dataframe tbody tr th:only-of-type {\n",
       "        vertical-align: middle;\n",
       "    }\n",
       "\n",
       "    .dataframe tbody tr th {\n",
       "        vertical-align: top;\n",
       "    }\n",
       "\n",
       "    .dataframe thead th {\n",
       "        text-align: right;\n",
       "    }\n",
       "</style>\n",
       "<table border=\"1\" class=\"dataframe\">\n",
       "  <thead>\n",
       "    <tr style=\"text-align: right;\">\n",
       "      <th></th>\n",
       "      <th>review_id</th>\n",
       "      <th>book_id</th>\n",
       "      <th>username</th>\n",
       "      <th>text</th>\n",
       "    </tr>\n",
       "  </thead>\n",
       "  <tbody>\n",
       "    <tr>\n",
       "      <th>0</th>\n",
       "      <td>1</td>\n",
       "      <td>1</td>\n",
       "      <td>brandtandrea</td>\n",
       "      <td>Mention society tell send professor analysis. ...</td>\n",
       "    </tr>\n",
       "    <tr>\n",
       "      <th>1</th>\n",
       "      <td>2</td>\n",
       "      <td>1</td>\n",
       "      <td>ryanfranco</td>\n",
       "      <td>Foot glass pretty audience hit themselves. Amo...</td>\n",
       "    </tr>\n",
       "    <tr>\n",
       "      <th>2</th>\n",
       "      <td>3</td>\n",
       "      <td>2</td>\n",
       "      <td>lorichen</td>\n",
       "      <td>Listen treat keep worry. Miss husband tax but ...</td>\n",
       "    </tr>\n",
       "    <tr>\n",
       "      <th>3</th>\n",
       "      <td>4</td>\n",
       "      <td>3</td>\n",
       "      <td>johnsonamanda</td>\n",
       "      <td>Finally month interesting blue could nature cu...</td>\n",
       "    </tr>\n",
       "    <tr>\n",
       "      <th>4</th>\n",
       "      <td>5</td>\n",
       "      <td>3</td>\n",
       "      <td>scotttamara</td>\n",
       "      <td>Nation purpose heavy give wait song will. List...</td>\n",
       "    </tr>\n",
       "  </tbody>\n",
       "</table>\n",
       "</div>"
      ],
      "text/plain": [
       "   review_id  book_id       username  \\\n",
       "0          1        1   brandtandrea   \n",
       "1          2        1     ryanfranco   \n",
       "2          3        2       lorichen   \n",
       "3          4        3  johnsonamanda   \n",
       "4          5        3    scotttamara   \n",
       "\n",
       "                                                text  \n",
       "0  Mention society tell send professor analysis. ...  \n",
       "1  Foot glass pretty audience hit themselves. Amo...  \n",
       "2  Listen treat keep worry. Miss husband tax but ...  \n",
       "3  Finally month interesting blue could nature cu...  \n",
       "4  Nation purpose heavy give wait song will. List...  "
      ]
     },
     "execution_count": 7,
     "metadata": {},
     "output_type": "execute_result"
    }
   ],
   "source": [
    "query = '''SELECT * FROM reviews LIMIT 5'''\n",
    "con=engine.connect()\n",
    "pd.io.sql.read_sql(sql=text(query), con = con)"
   ]
  },
  {
   "cell_type": "markdown",
   "metadata": {},
   "source": [
    "\n",
    "### Данные об издательствах"
   ]
  },
  {
   "cell_type": "code",
   "execution_count": 8,
   "metadata": {},
   "outputs": [
    {
     "data": {
      "text/html": [
       "<div>\n",
       "<style scoped>\n",
       "    .dataframe tbody tr th:only-of-type {\n",
       "        vertical-align: middle;\n",
       "    }\n",
       "\n",
       "    .dataframe tbody tr th {\n",
       "        vertical-align: top;\n",
       "    }\n",
       "\n",
       "    .dataframe thead th {\n",
       "        text-align: right;\n",
       "    }\n",
       "</style>\n",
       "<table border=\"1\" class=\"dataframe\">\n",
       "  <thead>\n",
       "    <tr style=\"text-align: right;\">\n",
       "      <th></th>\n",
       "      <th>publisher_id</th>\n",
       "      <th>publisher</th>\n",
       "    </tr>\n",
       "  </thead>\n",
       "  <tbody>\n",
       "    <tr>\n",
       "      <th>0</th>\n",
       "      <td>1</td>\n",
       "      <td>Ace</td>\n",
       "    </tr>\n",
       "    <tr>\n",
       "      <th>1</th>\n",
       "      <td>2</td>\n",
       "      <td>Ace Book</td>\n",
       "    </tr>\n",
       "    <tr>\n",
       "      <th>2</th>\n",
       "      <td>3</td>\n",
       "      <td>Ace Books</td>\n",
       "    </tr>\n",
       "    <tr>\n",
       "      <th>3</th>\n",
       "      <td>4</td>\n",
       "      <td>Ace Hardcover</td>\n",
       "    </tr>\n",
       "    <tr>\n",
       "      <th>4</th>\n",
       "      <td>5</td>\n",
       "      <td>Addison Wesley Publishing Company</td>\n",
       "    </tr>\n",
       "  </tbody>\n",
       "</table>\n",
       "</div>"
      ],
      "text/plain": [
       "   publisher_id                          publisher\n",
       "0             1                                Ace\n",
       "1             2                           Ace Book\n",
       "2             3                          Ace Books\n",
       "3             4                      Ace Hardcover\n",
       "4             5  Addison Wesley Publishing Company"
      ]
     },
     "execution_count": 8,
     "metadata": {},
     "output_type": "execute_result"
    }
   ],
   "source": [
    "query = '''SELECT * FROM publishers LIMIT 5'''\n",
    "con=engine.connect()\n",
    "pd.io.sql.read_sql(sql=text(query), con = con)"
   ]
  },
  {
   "cell_type": "code",
   "execution_count": null,
   "metadata": {},
   "outputs": [],
   "source": []
  },
  {
   "cell_type": "markdown",
   "metadata": {},
   "source": [
    "## Анализ данных\n",
    "###  Количество книг, вышедшее после 1 января 2000 года\n",
    "\n",
    "Для решения задачи нам мужна таблица `books`, отфильтрованная по дате, фильтруем с помощью `WHERE`"
   ]
  },
  {
   "cell_type": "code",
   "execution_count": 9,
   "metadata": {},
   "outputs": [
    {
     "data": {
      "text/html": [
       "<div>\n",
       "<style scoped>\n",
       "    .dataframe tbody tr th:only-of-type {\n",
       "        vertical-align: middle;\n",
       "    }\n",
       "\n",
       "    .dataframe tbody tr th {\n",
       "        vertical-align: top;\n",
       "    }\n",
       "\n",
       "    .dataframe thead th {\n",
       "        text-align: right;\n",
       "    }\n",
       "</style>\n",
       "<table border=\"1\" class=\"dataframe\">\n",
       "  <thead>\n",
       "    <tr style=\"text-align: right;\">\n",
       "      <th></th>\n",
       "      <th>count</th>\n",
       "    </tr>\n",
       "  </thead>\n",
       "  <tbody>\n",
       "    <tr>\n",
       "      <th>0</th>\n",
       "      <td>819</td>\n",
       "    </tr>\n",
       "  </tbody>\n",
       "</table>\n",
       "</div>"
      ],
      "text/plain": [
       "   count\n",
       "0    819"
      ]
     },
     "execution_count": 9,
     "metadata": {},
     "output_type": "execute_result"
    }
   ],
   "source": [
    "query = (\n",
    "    '''\n",
    "    SELECT COUNT(*) \n",
    "    FROM books\n",
    "    WHERE publication_date > '2000-01-01'\n",
    "    '''\n",
    ")\n",
    "con=engine.connect()\n",
    "pd.io.sql.read_sql(sql=text(query), con = con)"
   ]
  },
  {
   "cell_type": "markdown",
   "metadata": {},
   "source": [
    "После 1 января 2000 года вышло 819 книг."
   ]
  },
  {
   "cell_type": "markdown",
   "metadata": {},
   "source": [
    "### Количество обзоров и средняя оценка для каждой книги\n",
    "\n",
    "Чтобы получить в результате количество обзоров и среднюю оценку, нам необходимо объединить три таблицы методом `JOIN`. Т.к. нужна информация по каждой книге, сгруппируем данные по `book_id`.\n",
    "\n",
    "На экран выведем не идентификатор книги, а ее название, чтобы было понятнее, о какой книге речь, а также отсортируем среднему рейтингу и количеству в порядке убывания."
   ]
  },
  {
   "cell_type": "code",
   "execution_count": 10,
   "metadata": {},
   "outputs": [
    {
     "data": {
      "text/html": [
       "<div>\n",
       "<style scoped>\n",
       "    .dataframe tbody tr th:only-of-type {\n",
       "        vertical-align: middle;\n",
       "    }\n",
       "\n",
       "    .dataframe tbody tr th {\n",
       "        vertical-align: top;\n",
       "    }\n",
       "\n",
       "    .dataframe thead th {\n",
       "        text-align: right;\n",
       "    }\n",
       "</style>\n",
       "<table border=\"1\" class=\"dataframe\">\n",
       "  <thead>\n",
       "    <tr style=\"text-align: right;\">\n",
       "      <th></th>\n",
       "      <th>title</th>\n",
       "      <th>count</th>\n",
       "      <th>avg</th>\n",
       "    </tr>\n",
       "  </thead>\n",
       "  <tbody>\n",
       "    <tr>\n",
       "      <th>0</th>\n",
       "      <td>A Dirty Job (Grim Reaper  #1)</td>\n",
       "      <td>4</td>\n",
       "      <td>5.000000</td>\n",
       "    </tr>\n",
       "    <tr>\n",
       "      <th>1</th>\n",
       "      <td>School's Out—Forever (Maximum Ride  #2)</td>\n",
       "      <td>3</td>\n",
       "      <td>5.000000</td>\n",
       "    </tr>\n",
       "    <tr>\n",
       "      <th>2</th>\n",
       "      <td>Moneyball: The Art of Winning an Unfair Game</td>\n",
       "      <td>3</td>\n",
       "      <td>5.000000</td>\n",
       "    </tr>\n",
       "    <tr>\n",
       "      <th>3</th>\n",
       "      <td>In the Hand of the Goddess (Song of the Liones...</td>\n",
       "      <td>2</td>\n",
       "      <td>5.000000</td>\n",
       "    </tr>\n",
       "    <tr>\n",
       "      <th>4</th>\n",
       "      <td>Welcome to Temptation (Dempseys  #1)</td>\n",
       "      <td>2</td>\n",
       "      <td>5.000000</td>\n",
       "    </tr>\n",
       "    <tr>\n",
       "      <th>...</th>\n",
       "      <td>...</td>\n",
       "      <td>...</td>\n",
       "      <td>...</td>\n",
       "    </tr>\n",
       "    <tr>\n",
       "      <th>995</th>\n",
       "      <td>1 000 Places to See Before You Die</td>\n",
       "      <td>1</td>\n",
       "      <td>2.500000</td>\n",
       "    </tr>\n",
       "    <tr>\n",
       "      <th>996</th>\n",
       "      <td>The Kitchen God's Wife</td>\n",
       "      <td>3</td>\n",
       "      <td>2.333333</td>\n",
       "    </tr>\n",
       "    <tr>\n",
       "      <th>997</th>\n",
       "      <td>Junky</td>\n",
       "      <td>2</td>\n",
       "      <td>2.000000</td>\n",
       "    </tr>\n",
       "    <tr>\n",
       "      <th>998</th>\n",
       "      <td>His Excellency: George Washington</td>\n",
       "      <td>2</td>\n",
       "      <td>2.000000</td>\n",
       "    </tr>\n",
       "    <tr>\n",
       "      <th>999</th>\n",
       "      <td>Harvesting the Heart</td>\n",
       "      <td>2</td>\n",
       "      <td>1.500000</td>\n",
       "    </tr>\n",
       "  </tbody>\n",
       "</table>\n",
       "<p>1000 rows × 3 columns</p>\n",
       "</div>"
      ],
      "text/plain": [
       "                                                 title  count       avg\n",
       "0                        A Dirty Job (Grim Reaper  #1)      4  5.000000\n",
       "1              School's Out—Forever (Maximum Ride  #2)      3  5.000000\n",
       "2         Moneyball: The Art of Winning an Unfair Game      3  5.000000\n",
       "3    In the Hand of the Goddess (Song of the Liones...      2  5.000000\n",
       "4                 Welcome to Temptation (Dempseys  #1)      2  5.000000\n",
       "..                                                 ...    ...       ...\n",
       "995                 1 000 Places to See Before You Die      1  2.500000\n",
       "996                             The Kitchen God's Wife      3  2.333333\n",
       "997                                              Junky      2  2.000000\n",
       "998                  His Excellency: George Washington      2  2.000000\n",
       "999                               Harvesting the Heart      2  1.500000\n",
       "\n",
       "[1000 rows x 3 columns]"
      ]
     },
     "execution_count": 10,
     "metadata": {},
     "output_type": "execute_result"
    }
   ],
   "source": [
    "query = (\n",
    "    '''\n",
    "    SELECT b.title,\n",
    "           COUNT(DISTINCT r.review_id),\n",
    "           AVG(rat.rating) \n",
    "    FROM books b\n",
    "    LEFT JOIN reviews r ON b.book_id = r.book_id\n",
    "    LEFT JOIN ratings rat ON b.book_id = rat.book_id\n",
    "    GROUP BY b.book_id\n",
    "    ORDER BY AVG(DISTINCT rat.rating) DESC, COUNT(r.review_id) DESC\n",
    "    '''\n",
    ")\n",
    "con=engine.connect()\n",
    "pd.io.sql.read_sql(sql=text(query), con = con)"
   ]
  },
  {
   "cell_type": "markdown",
   "metadata": {},
   "source": [
    "Книга `A Dirty Job (Grim Reaper #1)` набрала наибольшее количество обзоров (4) среди книг с рейтингом 5.00"
   ]
  },
  {
   "cell_type": "code",
   "execution_count": 11,
   "metadata": {},
   "outputs": [
    {
     "data": {
      "text/html": [
       "<div>\n",
       "<style scoped>\n",
       "    .dataframe tbody tr th:only-of-type {\n",
       "        vertical-align: middle;\n",
       "    }\n",
       "\n",
       "    .dataframe tbody tr th {\n",
       "        vertical-align: top;\n",
       "    }\n",
       "\n",
       "    .dataframe thead th {\n",
       "        text-align: right;\n",
       "    }\n",
       "</style>\n",
       "<table border=\"1\" class=\"dataframe\">\n",
       "  <thead>\n",
       "    <tr style=\"text-align: right;\">\n",
       "      <th></th>\n",
       "      <th>title</th>\n",
       "      <th>count</th>\n",
       "      <th>avg</th>\n",
       "    </tr>\n",
       "  </thead>\n",
       "  <tbody>\n",
       "    <tr>\n",
       "      <th>0</th>\n",
       "      <td>Twilight (Twilight  #1)</td>\n",
       "      <td>7</td>\n",
       "      <td>3.662500</td>\n",
       "    </tr>\n",
       "    <tr>\n",
       "      <th>1</th>\n",
       "      <td>Harry Potter and the Prisoner of Azkaban (Harr...</td>\n",
       "      <td>6</td>\n",
       "      <td>4.414634</td>\n",
       "    </tr>\n",
       "    <tr>\n",
       "      <th>2</th>\n",
       "      <td>Harry Potter and the Chamber of Secrets (Harry...</td>\n",
       "      <td>6</td>\n",
       "      <td>4.287500</td>\n",
       "    </tr>\n",
       "    <tr>\n",
       "      <th>3</th>\n",
       "      <td>The Book Thief</td>\n",
       "      <td>6</td>\n",
       "      <td>4.264151</td>\n",
       "    </tr>\n",
       "    <tr>\n",
       "      <th>4</th>\n",
       "      <td>The Glass Castle</td>\n",
       "      <td>6</td>\n",
       "      <td>4.206897</td>\n",
       "    </tr>\n",
       "    <tr>\n",
       "      <th>...</th>\n",
       "      <td>...</td>\n",
       "      <td>...</td>\n",
       "      <td>...</td>\n",
       "    </tr>\n",
       "    <tr>\n",
       "      <th>995</th>\n",
       "      <td>Disney's Beauty and the Beast (A Little Golden...</td>\n",
       "      <td>0</td>\n",
       "      <td>4.000000</td>\n",
       "    </tr>\n",
       "    <tr>\n",
       "      <th>996</th>\n",
       "      <td>Leonardo's Notebooks</td>\n",
       "      <td>0</td>\n",
       "      <td>4.000000</td>\n",
       "    </tr>\n",
       "    <tr>\n",
       "      <th>997</th>\n",
       "      <td>Essential Tales and Poems</td>\n",
       "      <td>0</td>\n",
       "      <td>4.000000</td>\n",
       "    </tr>\n",
       "    <tr>\n",
       "      <th>998</th>\n",
       "      <td>Anne Rice's The Vampire Lestat: A Graphic Novel</td>\n",
       "      <td>0</td>\n",
       "      <td>3.666667</td>\n",
       "    </tr>\n",
       "    <tr>\n",
       "      <th>999</th>\n",
       "      <td>The Natural Way to Draw</td>\n",
       "      <td>0</td>\n",
       "      <td>3.000000</td>\n",
       "    </tr>\n",
       "  </tbody>\n",
       "</table>\n",
       "<p>1000 rows × 3 columns</p>\n",
       "</div>"
      ],
      "text/plain": [
       "                                                 title  count       avg\n",
       "0                              Twilight (Twilight  #1)      7  3.662500\n",
       "1    Harry Potter and the Prisoner of Azkaban (Harr...      6  4.414634\n",
       "2    Harry Potter and the Chamber of Secrets (Harry...      6  4.287500\n",
       "3                                       The Book Thief      6  4.264151\n",
       "4                                     The Glass Castle      6  4.206897\n",
       "..                                                 ...    ...       ...\n",
       "995  Disney's Beauty and the Beast (A Little Golden...      0  4.000000\n",
       "996                               Leonardo's Notebooks      0  4.000000\n",
       "997                          Essential Tales and Poems      0  4.000000\n",
       "998    Anne Rice's The Vampire Lestat: A Graphic Novel      0  3.666667\n",
       "999                            The Natural Way to Draw      0  3.000000\n",
       "\n",
       "[1000 rows x 3 columns]"
      ]
     },
     "execution_count": 11,
     "metadata": {},
     "output_type": "execute_result"
    }
   ],
   "source": [
    "query = (\n",
    "    '''\n",
    "    SELECT b.title,\n",
    "           COUNT(DISTINCT r.review_id),\n",
    "           AVG(rat.rating) \n",
    "    FROM books b\n",
    "    LEFT JOIN reviews r ON b.book_id = r.book_id\n",
    "    LEFT JOIN ratings rat ON b.book_id = rat.book_id\n",
    "    GROUP BY b.book_id\n",
    "    ORDER BY COUNT(DISTINCT r.review_id) DESC, AVG(rat.rating) DESC\n",
    "    '''\n",
    ")\n",
    "con=engine.connect()\n",
    "pd.io.sql.read_sql(sql=text(query), con = con)"
   ]
  },
  {
   "cell_type": "markdown",
   "metadata": {},
   "source": [
    "А книга `Twilight (Twilight #1)` набрала 7 обзоров, при этом ее рейтинг 3.66"
   ]
  },
  {
   "cell_type": "markdown",
   "metadata": {},
   "source": [
    "### Издательство, которое выпустило наибольшее число книг толще 50 страниц\n",
    "Для решения этой задачи необходимо объединить таблицы о книгах и издательствах, выбрать только те книги, у которых более 50 страниц, сгруппировать по издательству, посчитать количество книг, которые выпустило каждое ихдательство, отсортировать их в порядке убывания по количеству и оставить только первую строку с помощью `LIMIT`"
   ]
  },
  {
   "cell_type": "code",
   "execution_count": 12,
   "metadata": {},
   "outputs": [
    {
     "data": {
      "text/html": [
       "<div>\n",
       "<style scoped>\n",
       "    .dataframe tbody tr th:only-of-type {\n",
       "        vertical-align: middle;\n",
       "    }\n",
       "\n",
       "    .dataframe tbody tr th {\n",
       "        vertical-align: top;\n",
       "    }\n",
       "\n",
       "    .dataframe thead th {\n",
       "        text-align: right;\n",
       "    }\n",
       "</style>\n",
       "<table border=\"1\" class=\"dataframe\">\n",
       "  <thead>\n",
       "    <tr style=\"text-align: right;\">\n",
       "      <th></th>\n",
       "      <th>publisher</th>\n",
       "      <th>count</th>\n",
       "    </tr>\n",
       "  </thead>\n",
       "  <tbody>\n",
       "    <tr>\n",
       "      <th>0</th>\n",
       "      <td>Penguin Books</td>\n",
       "      <td>42</td>\n",
       "    </tr>\n",
       "  </tbody>\n",
       "</table>\n",
       "</div>"
      ],
      "text/plain": [
       "       publisher  count\n",
       "0  Penguin Books     42"
      ]
     },
     "execution_count": 12,
     "metadata": {},
     "output_type": "execute_result"
    }
   ],
   "source": [
    "query = (\n",
    "    '''\n",
    "    SELECT p.publisher, \n",
    "           COUNT(*)       \n",
    "    FROM books b\n",
    "    JOIN publishers p ON b.publisher_id = p.publisher_id\n",
    "    WHERE b.num_pages > 50\n",
    "    GROUP BY b.publisher_id, p.publisher\n",
    "    ORDER BY COUNT(*) DESC\n",
    "    LIMIT 1\n",
    " \n",
    "    '''\n",
    ")\n",
    "con=engine.connect()\n",
    "pd.io.sql.read_sql(sql=text(query), con = con)"
   ]
  },
  {
   "cell_type": "markdown",
   "metadata": {},
   "source": [
    "Издательство `Penguin Books` выпустило наибольшее число книг толще 50 страниц в количестве 42."
   ]
  },
  {
   "cell_type": "markdown",
   "metadata": {},
   "source": [
    "### Автор с самой высокой средней оценкой книг,  учитывая книги с 50 и более оценками\n",
    "Чтобы решить этот вопрос, объединим три таблицы: книги, авторы и рейтинги. После этого группируем по авторам и методом `HAVING` выбираем только тех авторов, у которых книги с количеством оценок более 50, сортируем по среднему рейтингу по убыванию и оставляем только один - он и будет самым высоким. \n",
    "\n",
    "Для удобства в выоде оставим и автора, и рейтинг, округленный до 3 знаков после запятой."
   ]
  },
  {
   "cell_type": "code",
   "execution_count": 13,
   "metadata": {},
   "outputs": [
    {
     "data": {
      "text/html": [
       "<div>\n",
       "<style scoped>\n",
       "    .dataframe tbody tr th:only-of-type {\n",
       "        vertical-align: middle;\n",
       "    }\n",
       "\n",
       "    .dataframe tbody tr th {\n",
       "        vertical-align: top;\n",
       "    }\n",
       "\n",
       "    .dataframe thead th {\n",
       "        text-align: right;\n",
       "    }\n",
       "</style>\n",
       "<table border=\"1\" class=\"dataframe\">\n",
       "  <thead>\n",
       "    <tr style=\"text-align: right;\">\n",
       "      <th></th>\n",
       "      <th>author</th>\n",
       "      <th>round</th>\n",
       "    </tr>\n",
       "  </thead>\n",
       "  <tbody>\n",
       "    <tr>\n",
       "      <th>0</th>\n",
       "      <td>J.K. Rowling/Mary GrandPré</td>\n",
       "      <td>4.288</td>\n",
       "    </tr>\n",
       "  </tbody>\n",
       "</table>\n",
       "</div>"
      ],
      "text/plain": [
       "                       author  round\n",
       "0  J.K. Rowling/Mary GrandPré  4.288"
      ]
     },
     "execution_count": 13,
     "metadata": {},
     "output_type": "execute_result"
    }
   ],
   "source": [
    "query = (\n",
    "    '''\n",
    "    SELECT a.author,\n",
    "           ROUND(AVG(r.rating), 3)\n",
    "    FROM books b \n",
    "    JOIN authors a ON b.author_id = a.author_id\n",
    "    JOIN ratings r ON b.book_id = r.book_id\n",
    "    GROUP BY b.author_id, a.author\n",
    "    HAVING COUNT(r.rating_id) > 50\n",
    "    ORDER BY AVG(r.rating) DESC\n",
    "    LIMIT 1\n",
    "\n",
    "    '''\n",
    ")\n",
    "con=engine.connect()\n",
    "pd.io.sql.read_sql(sql=text(query), con = con)"
   ]
  },
  {
   "cell_type": "markdown",
   "metadata": {},
   "source": [
    "Автор с самой высокой средней оценкой книг (среди книг с 50 и более оценками ) - `J.K. Rowling/Mary GrandPré`, ее рейтинг 4,288"
   ]
  },
  {
   "cell_type": "markdown",
   "metadata": {},
   "source": [
    "### Cреднее количество обзоров от пользователей, которые поставили больше 48 оценок\n",
    "\n",
    "Эта задача со вложенным запросом в блоке `FROM`, т.к. нам надо получить сначала таблицу с количеством обзоров от каждого пользователя, а потом найти их среднее.\n",
    "Для удобства вывода округлим среднее до двух знаков после запятой и переименуем столбец"
   ]
  },
  {
   "cell_type": "code",
   "execution_count": 14,
   "metadata": {},
   "outputs": [
    {
     "data": {
      "text/html": [
       "<div>\n",
       "<style scoped>\n",
       "    .dataframe tbody tr th:only-of-type {\n",
       "        vertical-align: middle;\n",
       "    }\n",
       "\n",
       "    .dataframe tbody tr th {\n",
       "        vertical-align: top;\n",
       "    }\n",
       "\n",
       "    .dataframe thead th {\n",
       "        text-align: right;\n",
       "    }\n",
       "</style>\n",
       "<table border=\"1\" class=\"dataframe\">\n",
       "  <thead>\n",
       "    <tr style=\"text-align: right;\">\n",
       "      <th></th>\n",
       "      <th>сред_колич_обзоров</th>\n",
       "    </tr>\n",
       "  </thead>\n",
       "  <tbody>\n",
       "    <tr>\n",
       "      <th>0</th>\n",
       "      <td>24.0</td>\n",
       "    </tr>\n",
       "  </tbody>\n",
       "</table>\n",
       "</div>"
      ],
      "text/plain": [
       "   сред_колич_обзоров\n",
       "0                24.0"
      ]
     },
     "execution_count": 14,
     "metadata": {},
     "output_type": "execute_result"
    }
   ],
   "source": [
    "query = ('''\n",
    "SELECT ROUND(AVG(t2.count), 2) AS сред_колич_обзоров\n",
    "FROM \n",
    "    (SELECT COUNT(review_id)\n",
    "    FROM reviews\n",
    "    JOIN (SELECT username,\n",
    "           COUNT(rating_id) as cnt\n",
    "        FROM ratings\n",
    "        GROUP BY username  \n",
    "        HAVING COUNT(rating_id) > 48) AS t ON reviews.username = t.username\n",
    "    GROUP BY reviews.username) AS t2\n",
    "\n",
    "'''\n",
    ")\n",
    "con=engine.connect()\n",
    "pd.io.sql.read_sql(sql=text(query), con = con)"
   ]
  },
  {
   "cell_type": "markdown",
   "metadata": {},
   "source": [
    "Cреднее количество обзоров от пользователей, которые поставили больше 48 оценок - 24"
   ]
  },
  {
   "cell_type": "markdown",
   "metadata": {},
   "source": [
    "**Общий вывод:**\n",
    "\n",
    "База данных содержит информацию о книгах, издательствах, авторах, а также пользовательские обзоры книг. База не очень большая, т.к. в ней содержится всего 819 книг, вышедших после начала 2000 года.\n",
    "\n",
    "Практически по каждой книге предоставлены обзоры с рейтингом. Самое большое количество обзоров для книги с рейтингом 5.00 - 16. При этом среднее количество обзоров - 163.\n",
    "\n",
    "Самое популярное издательство Penguin Books, которое выпустило 42 книги.\n",
    "\n",
    "Самый высокооцененный автор - J.K. Rowling/Mary GrandPré.\t"
   ]
  },
  {
   "cell_type": "code",
   "execution_count": null,
   "metadata": {},
   "outputs": [],
   "source": []
  }
 ],
 "metadata": {
  "ExecuteTimeLog": [
   {
    "duration": 582,
    "start_time": "2024-10-01T07:21:33.232Z"
   },
   {
    "duration": 3,
    "start_time": "2024-10-01T07:21:48.675Z"
   },
   {
    "duration": 3,
    "start_time": "2024-10-01T07:22:08.216Z"
   },
   {
    "duration": 6622,
    "start_time": "2024-10-01T07:22:20.502Z"
   },
   {
    "duration": 232,
    "start_time": "2024-10-01T07:23:09.193Z"
   },
   {
    "duration": 3,
    "start_time": "2024-10-01T07:25:09.959Z"
   },
   {
    "duration": 130,
    "start_time": "2024-10-01T07:25:24.484Z"
   },
   {
    "duration": 57,
    "start_time": "2024-10-01T07:25:44.576Z"
   },
   {
    "duration": 54,
    "start_time": "2024-10-01T07:26:10.381Z"
   },
   {
    "duration": 53,
    "start_time": "2024-10-01T07:26:47.758Z"
   },
   {
    "duration": 156,
    "start_time": "2024-10-01T07:29:40.884Z"
   },
   {
    "duration": 45,
    "start_time": "2024-10-01T07:29:58.474Z"
   },
   {
    "duration": 132,
    "start_time": "2024-10-01T07:30:57.067Z"
   },
   {
    "duration": 47,
    "start_time": "2024-10-01T10:20:25.015Z"
   },
   {
    "duration": 513,
    "start_time": "2024-10-01T10:20:36.998Z"
   },
   {
    "duration": 3,
    "start_time": "2024-10-01T10:20:37.513Z"
   },
   {
    "duration": 5870,
    "start_time": "2024-10-01T10:20:37.517Z"
   },
   {
    "duration": 44,
    "start_time": "2024-10-01T10:20:43.389Z"
   },
   {
    "duration": 24,
    "start_time": "2024-10-01T10:20:43.435Z"
   },
   {
    "duration": 9,
    "start_time": "2024-10-01T10:20:43.461Z"
   },
   {
    "duration": 32,
    "start_time": "2024-10-01T10:20:43.472Z"
   },
   {
    "duration": 10,
    "start_time": "2024-10-01T10:20:43.505Z"
   },
   {
    "duration": 10,
    "start_time": "2024-10-01T10:20:43.516Z"
   },
   {
    "duration": 83,
    "start_time": "2024-10-01T10:20:43.527Z"
   },
   {
    "duration": 26,
    "start_time": "2024-10-01T10:21:06.501Z"
   },
   {
    "duration": 47,
    "start_time": "2024-10-01T10:23:19.091Z"
   },
   {
    "duration": 28,
    "start_time": "2024-10-01T10:24:52.465Z"
   },
   {
    "duration": 19,
    "start_time": "2024-10-01T10:32:21.868Z"
   },
   {
    "duration": 20,
    "start_time": "2024-10-01T10:32:40.942Z"
   },
   {
    "duration": 45,
    "start_time": "2024-10-01T10:34:06.197Z"
   },
   {
    "duration": 52,
    "start_time": "2024-10-01T10:34:28.146Z"
   },
   {
    "duration": 539,
    "start_time": "2024-10-01T10:44:24.171Z"
   },
   {
    "duration": 3,
    "start_time": "2024-10-01T10:44:24.712Z"
   },
   {
    "duration": 6549,
    "start_time": "2024-10-01T10:44:24.716Z"
   },
   {
    "duration": 54,
    "start_time": "2024-10-01T10:44:31.266Z"
   },
   {
    "duration": 27,
    "start_time": "2024-10-01T10:44:31.322Z"
   },
   {
    "duration": 10,
    "start_time": "2024-10-01T10:44:31.351Z"
   },
   {
    "duration": 14,
    "start_time": "2024-10-01T10:44:31.363Z"
   },
   {
    "duration": 14,
    "start_time": "2024-10-01T10:44:31.379Z"
   },
   {
    "duration": 12,
    "start_time": "2024-10-01T10:44:31.395Z"
   },
   {
    "duration": 37,
    "start_time": "2024-10-01T10:44:31.409Z"
   },
   {
    "duration": 15,
    "start_time": "2024-10-01T10:44:31.448Z"
   },
   {
    "duration": 82,
    "start_time": "2024-10-01T10:45:30.442Z"
   },
   {
    "duration": 22,
    "start_time": "2024-10-01T10:46:09.230Z"
   },
   {
    "duration": 46,
    "start_time": "2024-10-01T10:47:56.800Z"
   },
   {
    "duration": 33,
    "start_time": "2024-10-01T10:48:27.846Z"
   },
   {
    "duration": 21,
    "start_time": "2024-10-01T10:48:57.241Z"
   },
   {
    "duration": 12,
    "start_time": "2024-10-01T10:50:59.610Z"
   },
   {
    "duration": 13,
    "start_time": "2024-10-01T10:53:15.401Z"
   },
   {
    "duration": 12,
    "start_time": "2024-10-01T10:53:24.531Z"
   },
   {
    "duration": 22,
    "start_time": "2024-10-01T10:54:24.447Z"
   },
   {
    "duration": 19,
    "start_time": "2024-10-01T10:54:40.479Z"
   },
   {
    "duration": 37,
    "start_time": "2024-10-01T10:55:19.411Z"
   },
   {
    "duration": 51,
    "start_time": "2024-10-01T10:55:25.350Z"
   },
   {
    "duration": 12,
    "start_time": "2024-10-01T10:55:59.112Z"
   },
   {
    "duration": 565,
    "start_time": "2024-10-01T12:18:20.863Z"
   },
   {
    "duration": 3,
    "start_time": "2024-10-01T12:18:21.430Z"
   },
   {
    "duration": 7685,
    "start_time": "2024-10-01T12:18:21.434Z"
   },
   {
    "duration": 231,
    "start_time": "2024-10-01T12:18:29.121Z"
   },
   {
    "duration": 127,
    "start_time": "2024-10-01T12:18:29.354Z"
   },
   {
    "duration": 52,
    "start_time": "2024-10-01T12:18:29.483Z"
   },
   {
    "duration": 53,
    "start_time": "2024-10-01T12:18:29.536Z"
   },
   {
    "duration": 51,
    "start_time": "2024-10-01T12:18:29.592Z"
   },
   {
    "duration": 51,
    "start_time": "2024-10-01T12:18:29.644Z"
   },
   {
    "duration": 88,
    "start_time": "2024-10-01T12:18:29.696Z"
   },
   {
    "duration": 54,
    "start_time": "2024-10-01T12:18:29.786Z"
   },
   {
    "duration": 138,
    "start_time": "2024-10-01T12:22:04.791Z"
   },
   {
    "duration": 49,
    "start_time": "2024-10-01T12:22:40.452Z"
   },
   {
    "duration": 142,
    "start_time": "2024-10-01T12:23:24.121Z"
   },
   {
    "duration": 60,
    "start_time": "2024-10-01T12:23:44.443Z"
   },
   {
    "duration": 58,
    "start_time": "2024-10-01T12:23:53.198Z"
   },
   {
    "duration": 56,
    "start_time": "2024-10-01T12:36:24.007Z"
   },
   {
    "duration": 58,
    "start_time": "2024-10-01T12:36:38.443Z"
   },
   {
    "duration": 64,
    "start_time": "2024-10-01T12:38:53.657Z"
   },
   {
    "duration": 64,
    "start_time": "2024-10-01T12:42:18.648Z"
   },
   {
    "duration": 63,
    "start_time": "2024-10-01T12:42:45.077Z"
   },
   {
    "duration": 62,
    "start_time": "2024-10-01T12:43:30.087Z"
   },
   {
    "duration": 61,
    "start_time": "2024-10-01T12:43:42.192Z"
   },
   {
    "duration": 59,
    "start_time": "2024-10-01T12:44:02.001Z"
   },
   {
    "duration": 71,
    "start_time": "2024-10-01T12:50:27.330Z"
   },
   {
    "duration": 56,
    "start_time": "2024-10-01T12:52:08.641Z"
   },
   {
    "duration": 66,
    "start_time": "2024-10-01T13:14:08.275Z"
   },
   {
    "duration": 64,
    "start_time": "2024-10-01T13:14:37.449Z"
   },
   {
    "duration": 65,
    "start_time": "2024-10-01T13:14:51.515Z"
   },
   {
    "duration": 96,
    "start_time": "2024-10-01T13:21:30.940Z"
   },
   {
    "duration": 618,
    "start_time": "2024-10-01T15:10:27.766Z"
   },
   {
    "duration": 3,
    "start_time": "2024-10-01T15:10:28.387Z"
   },
   {
    "duration": 8846,
    "start_time": "2024-10-01T15:10:28.392Z"
   },
   {
    "duration": 237,
    "start_time": "2024-10-01T15:10:37.240Z"
   },
   {
    "duration": 118,
    "start_time": "2024-10-01T15:10:37.480Z"
   },
   {
    "duration": 55,
    "start_time": "2024-10-01T15:10:37.600Z"
   },
   {
    "duration": 55,
    "start_time": "2024-10-01T15:10:37.657Z"
   },
   {
    "duration": 51,
    "start_time": "2024-10-01T15:10:37.715Z"
   },
   {
    "duration": 53,
    "start_time": "2024-10-01T15:10:37.768Z"
   },
   {
    "duration": 96,
    "start_time": "2024-10-01T15:10:37.823Z"
   },
   {
    "duration": 95,
    "start_time": "2024-10-01T15:10:37.921Z"
   },
   {
    "duration": 55,
    "start_time": "2024-10-01T15:10:38.018Z"
   },
   {
    "duration": 60,
    "start_time": "2024-10-01T15:10:38.075Z"
   },
   {
    "duration": 62,
    "start_time": "2024-10-01T15:10:38.138Z"
   },
   {
    "duration": 76,
    "start_time": "2024-10-01T15:10:58.540Z"
   },
   {
    "duration": 35,
    "start_time": "2024-10-01T15:11:31.036Z"
   },
   {
    "duration": 47,
    "start_time": "2024-10-01T15:11:39.173Z"
   },
   {
    "duration": 4,
    "start_time": "2024-10-01T15:12:52.316Z"
   },
   {
    "duration": 20,
    "start_time": "2024-10-01T15:12:52.322Z"
   },
   {
    "duration": 22,
    "start_time": "2024-10-01T15:12:52.344Z"
   },
   {
    "duration": 251,
    "start_time": "2024-10-01T15:12:52.368Z"
   },
   {
    "duration": 44,
    "start_time": "2024-10-01T15:13:00.029Z"
   },
   {
    "duration": 163,
    "start_time": "2024-10-01T15:14:23.450Z"
   },
   {
    "duration": 60,
    "start_time": "2024-10-01T15:14:26.939Z"
   },
   {
    "duration": 8,
    "start_time": "2024-10-01T15:17:01.374Z"
   },
   {
    "duration": 82,
    "start_time": "2024-10-01T15:19:05.877Z"
   },
   {
    "duration": 90,
    "start_time": "2024-10-01T15:19:41.515Z"
   },
   {
    "duration": 54,
    "start_time": "2024-10-01T15:20:38.180Z"
   },
   {
    "duration": 96,
    "start_time": "2024-10-01T15:21:21.001Z"
   },
   {
    "duration": 90,
    "start_time": "2024-10-01T15:21:42.569Z"
   },
   {
    "duration": 93,
    "start_time": "2024-10-01T15:23:04.386Z"
   },
   {
    "duration": 89,
    "start_time": "2024-10-01T15:23:23.400Z"
   },
   {
    "duration": 93,
    "start_time": "2024-10-01T15:24:10.490Z"
   },
   {
    "duration": 89,
    "start_time": "2024-10-01T15:24:16.779Z"
   },
   {
    "duration": 72,
    "start_time": "2024-10-01T15:25:33.640Z"
   },
   {
    "duration": 72,
    "start_time": "2024-10-01T15:25:37.713Z"
   },
   {
    "duration": 73,
    "start_time": "2024-10-01T15:35:44.191Z"
   },
   {
    "duration": 9,
    "start_time": "2024-10-01T15:37:54.866Z"
   },
   {
    "duration": 5,
    "start_time": "2024-10-01T15:38:14.453Z"
   },
   {
    "duration": 54,
    "start_time": "2024-10-01T15:38:51.912Z"
   },
   {
    "duration": 667,
    "start_time": "2024-10-02T11:24:04.171Z"
   },
   {
    "duration": 4,
    "start_time": "2024-10-02T11:24:04.840Z"
   },
   {
    "duration": 6939,
    "start_time": "2024-10-02T11:24:04.846Z"
   },
   {
    "duration": 236,
    "start_time": "2024-10-02T11:24:11.788Z"
   },
   {
    "duration": 124,
    "start_time": "2024-10-02T11:24:12.026Z"
   },
   {
    "duration": 57,
    "start_time": "2024-10-02T11:24:12.153Z"
   },
   {
    "duration": 67,
    "start_time": "2024-10-02T11:24:12.211Z"
   },
   {
    "duration": 58,
    "start_time": "2024-10-02T11:24:12.281Z"
   },
   {
    "duration": 54,
    "start_time": "2024-10-02T11:24:12.341Z"
   },
   {
    "duration": 97,
    "start_time": "2024-10-02T11:24:12.398Z"
   },
   {
    "duration": 92,
    "start_time": "2024-10-02T11:24:12.499Z"
   },
   {
    "duration": 55,
    "start_time": "2024-10-02T11:24:12.593Z"
   },
   {
    "duration": 58,
    "start_time": "2024-10-02T11:24:12.650Z"
   },
   {
    "duration": 59,
    "start_time": "2024-10-02T11:24:12.710Z"
   },
   {
    "duration": 70,
    "start_time": "2024-10-02T11:24:12.771Z"
   },
   {
    "duration": 62,
    "start_time": "2024-10-02T11:27:30.124Z"
   },
   {
    "duration": 159,
    "start_time": "2024-10-02T11:29:55.198Z"
   },
   {
    "duration": 56,
    "start_time": "2024-10-02T11:30:37.273Z"
   },
   {
    "duration": 73,
    "start_time": "2024-10-02T11:33:24.794Z"
   },
   {
    "duration": 73,
    "start_time": "2024-10-02T11:33:29.203Z"
   },
   {
    "duration": 609,
    "start_time": "2024-10-02T11:34:33.062Z"
   },
   {
    "duration": 4,
    "start_time": "2024-10-02T11:34:33.673Z"
   },
   {
    "duration": 6753,
    "start_time": "2024-10-02T11:34:33.678Z"
   },
   {
    "duration": 212,
    "start_time": "2024-10-02T11:34:40.432Z"
   },
   {
    "duration": 137,
    "start_time": "2024-10-02T11:34:40.646Z"
   },
   {
    "duration": 52,
    "start_time": "2024-10-02T11:34:40.785Z"
   },
   {
    "duration": 63,
    "start_time": "2024-10-02T11:34:40.839Z"
   },
   {
    "duration": 61,
    "start_time": "2024-10-02T11:34:40.904Z"
   },
   {
    "duration": 64,
    "start_time": "2024-10-02T11:34:40.967Z"
   },
   {
    "duration": 94,
    "start_time": "2024-10-02T11:34:41.033Z"
   },
   {
    "duration": 89,
    "start_time": "2024-10-02T11:34:41.128Z"
   },
   {
    "duration": 54,
    "start_time": "2024-10-02T11:34:41.218Z"
   },
   {
    "duration": 97,
    "start_time": "2024-10-02T11:34:41.274Z"
   },
   {
    "duration": 57,
    "start_time": "2024-10-02T11:34:41.374Z"
   },
   {
    "duration": 157,
    "start_time": "2024-10-02T11:34:41.432Z"
   },
   {
    "duration": 0,
    "start_time": "2024-10-02T11:34:41.592Z"
   },
   {
    "duration": 0,
    "start_time": "2024-10-02T11:34:41.593Z"
   },
   {
    "duration": 552,
    "start_time": "2024-10-02T11:48:56.299Z"
   },
   {
    "duration": 12,
    "start_time": "2024-10-02T11:48:56.857Z"
   },
   {
    "duration": 7046,
    "start_time": "2024-10-02T11:48:56.871Z"
   },
   {
    "duration": 232,
    "start_time": "2024-10-02T11:49:03.920Z"
   },
   {
    "duration": 124,
    "start_time": "2024-10-02T11:49:04.155Z"
   },
   {
    "duration": 54,
    "start_time": "2024-10-02T11:49:04.281Z"
   },
   {
    "duration": 58,
    "start_time": "2024-10-02T11:49:04.337Z"
   },
   {
    "duration": 55,
    "start_time": "2024-10-02T11:49:04.398Z"
   },
   {
    "duration": 55,
    "start_time": "2024-10-02T11:49:04.457Z"
   },
   {
    "duration": 94,
    "start_time": "2024-10-02T11:49:04.515Z"
   },
   {
    "duration": 96,
    "start_time": "2024-10-02T11:49:04.611Z"
   },
   {
    "duration": 58,
    "start_time": "2024-10-02T11:49:04.709Z"
   },
   {
    "duration": 60,
    "start_time": "2024-10-02T11:49:04.769Z"
   },
   {
    "duration": 60,
    "start_time": "2024-10-02T11:49:04.831Z"
   },
   {
    "duration": 187,
    "start_time": "2024-10-02T11:49:04.892Z"
   },
   {
    "duration": 0,
    "start_time": "2024-10-02T11:49:05.081Z"
   },
   {
    "duration": 0,
    "start_time": "2024-10-02T11:49:05.083Z"
   },
   {
    "duration": 44,
    "start_time": "2024-10-02T11:50:08.188Z"
   },
   {
    "duration": 138,
    "start_time": "2024-10-02T11:50:57.399Z"
   },
   {
    "duration": 86,
    "start_time": "2024-10-02T11:52:15.795Z"
   },
   {
    "duration": 47,
    "start_time": "2024-10-02T11:54:43.068Z"
   },
   {
    "duration": 131,
    "start_time": "2024-10-02T11:55:08.119Z"
   },
   {
    "duration": 62,
    "start_time": "2024-10-02T11:57:37.700Z"
   },
   {
    "duration": 551,
    "start_time": "2024-10-02T11:58:45.510Z"
   },
   {
    "duration": 6,
    "start_time": "2024-10-02T11:58:46.069Z"
   },
   {
    "duration": 7436,
    "start_time": "2024-10-02T11:58:46.077Z"
   },
   {
    "duration": 230,
    "start_time": "2024-10-02T11:58:53.516Z"
   },
   {
    "duration": 129,
    "start_time": "2024-10-02T11:58:53.748Z"
   },
   {
    "duration": 56,
    "start_time": "2024-10-02T11:58:53.879Z"
   },
   {
    "duration": 54,
    "start_time": "2024-10-02T11:58:53.938Z"
   },
   {
    "duration": 53,
    "start_time": "2024-10-02T11:58:53.994Z"
   },
   {
    "duration": 56,
    "start_time": "2024-10-02T11:58:54.049Z"
   },
   {
    "duration": 95,
    "start_time": "2024-10-02T11:58:54.109Z"
   },
   {
    "duration": 97,
    "start_time": "2024-10-02T11:58:54.207Z"
   },
   {
    "duration": 56,
    "start_time": "2024-10-02T11:58:54.306Z"
   },
   {
    "duration": 57,
    "start_time": "2024-10-02T11:58:54.365Z"
   },
   {
    "duration": 54,
    "start_time": "2024-10-02T11:58:54.424Z"
   }
  ],
  "kernelspec": {
   "display_name": "Python 3 (ipykernel)",
   "language": "python",
   "name": "python3"
  },
  "language_info": {
   "codemirror_mode": {
    "name": "ipython",
    "version": 3
   },
   "file_extension": ".py",
   "mimetype": "text/x-python",
   "name": "python",
   "nbconvert_exporter": "python",
   "pygments_lexer": "ipython3",
   "version": "3.11.8"
  },
  "toc": {
   "base_numbering": 1,
   "nav_menu": {},
   "number_sections": true,
   "sideBar": true,
   "skip_h1_title": true,
   "title_cell": "Table of Contents",
   "title_sidebar": "Contents",
   "toc_cell": false,
   "toc_position": {},
   "toc_section_display": true,
   "toc_window_display": false
  }
 },
 "nbformat": 4,
 "nbformat_minor": 2
}
